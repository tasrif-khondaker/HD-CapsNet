{
 "cells": [
  {
   "cell_type": "markdown",
   "id": "6b24df6d",
   "metadata": {},
   "source": [
    "***\n",
    "<font size=\"6\"><center><b> HD-CapsNet: A Hierarchical Deep Capsule Network for Image Classification </b></center></font>\n",
    "***"
   ]
  },
  {
   "cell_type": "markdown",
   "id": "9cdcbab0",
   "metadata": {},
   "source": [
    "**Changing Model Architecture**\n",
    "- **(Mod-2.1)** From coarse-to-Fine slowly decrease the dimension. i.e. 32D>16D>8D (Coarse>Medium>FINE), While keeping the primary capsule dimension same as original ($P_{capsule} = 8D$). Training with $L_{cons}$"
   ]
  },
  {
   "cell_type": "markdown",
   "id": "9ae9d6d5",
   "metadata": {},
   "source": [
    "# Files and Libraries"
   ]
  },
  {
   "cell_type": "code",
   "execution_count": 1,
   "id": "bc4aa737",
   "metadata": {
    "execution": {
     "iopub.execute_input": "2024-01-19T07:29:04.835496Z",
     "iopub.status.busy": "2024-01-19T07:29:04.820494Z",
     "iopub.status.idle": "2024-01-19T07:29:13.433722Z",
     "shell.execute_reply": "2024-01-19T07:29:13.434722Z"
    }
   },
   "outputs": [],
   "source": [
    "import tensorflow as tf\n",
    "from tensorflow import keras\n",
    "from tensorflow.keras.preprocessing.image import ImageDataGenerator\n",
    "from tensorflow.keras.models import Sequential\n",
    "from tensorflow.keras.layers import Dense, Activation, Flatten, Dropout, BatchNormalization\n",
    "from tensorflow.keras.layers import Conv2D, MaxPooling2D\n",
    "from tensorflow.keras import regularizers, optimizers\n",
    "from tensorflow.keras import backend as K\n",
    "\n",
    "import tensorflow_docs as tfdocs\n",
    "import tensorflow_docs.plots\n",
    "\n",
    "# Supporting Libraries:\n",
    "    #Mathplot lib for ploting graphs\n",
    "%matplotlib inline\n",
    "import matplotlib\n",
    "import matplotlib.pyplot as plt\n",
    "    # numpy and pandas\n",
    "import numpy as np\n",
    "import pandas as pd\n",
    "    #system\n",
    "import os\n",
    "import sys\n",
    "import csv\n",
    "    #import other libraries\n",
    "import math\n",
    "import random\n",
    "from datetime import datetime\n",
    "from treelib import Tree\n",
    "    # ML model, Dataset and evalution metrics\n",
    "sys.path.append('../../') ### adding system parth for src folder\n",
    "from src import datasets # load datasets\n",
    "from src import MixUp_add_loss # load datasets\n",
    "from src import metrics # load hierarchcial metrics\n",
    "from src import sysenv # load hierarchcial metrics\n",
    "from src import models # load machine learning models\n",
    "\n",
    "    ## Tensorflow_docs\n",
    "import tensorflow_docs as tfdocs\n",
    "import tensorflow_docs.plots\n",
    "\n",
    "    # Auto reload local libraries if updated\n",
    "%load_ext autoreload\n",
    "%autoreload 2"
   ]
  },
  {
   "cell_type": "markdown",
   "id": "3c2c610b",
   "metadata": {},
   "source": [
    "# System information & GPU growth"
   ]
  },
  {
   "cell_type": "code",
   "execution_count": null,
   "id": "506c959d",
   "metadata": {
    "execution": {
     "iopub.execute_input": "2024-01-19T07:29:13.442722Z",
     "iopub.status.busy": "2024-01-19T07:29:13.440723Z",
     "iopub.status.idle": "2024-01-19T07:29:13.860721Z",
     "shell.execute_reply": "2024-01-19T07:29:13.860721Z"
    }
   },
   "outputs": [],
   "source": [
    "systeminfo = sysenv.systeminfo()\n",
    "print(systeminfo)"
   ]
  },
  {
   "cell_type": "code",
   "execution_count": 3,
   "id": "832d5a45",
   "metadata": {
    "execution": {
     "iopub.execute_input": "2024-01-19T07:29:13.866721Z",
     "iopub.status.busy": "2024-01-19T07:29:13.865721Z",
     "iopub.status.idle": "2024-01-19T07:29:15.271249Z",
     "shell.execute_reply": "2024-01-19T07:29:15.270248Z"
    },
    "scrolled": true
   },
   "outputs": [
    {
     "name": "stdout",
     "output_type": "stream",
     "text": [
      "Following GPUS are selected =  0\n",
      "Done: GPU PhysicalDevice(name='/physical_device:GPU:0', device_type='GPU')\n",
      "1 Physical GPUs, 1 Logical GPUs\n"
     ]
    }
   ],
   "source": [
    "gpus = \"0,1,2,3,4,5,6,7\" ## Selecting Available gpus (Multi-GPUS)\n",
    "gpus = \"0\" ## Selecting Available gpus (Single GPU)\n",
    "gpugrowth = sysenv.gpugrowth(gpus = gpus) ## Limiting GPUS from OS environment\n",
    "gpugrowth.memory_growth() #GPU memory growth"
   ]
  },
  {
   "cell_type": "markdown",
   "id": "b5b3c7c5",
   "metadata": {},
   "source": [
    "## log directory"
   ]
  },
  {
   "cell_type": "code",
   "execution_count": 4,
   "id": "ccc9ea91",
   "metadata": {
    "execution": {
     "iopub.execute_input": "2024-01-19T07:29:15.277244Z",
     "iopub.status.busy": "2024-01-19T07:29:15.277244Z",
     "iopub.status.idle": "2024-01-19T07:29:15.648237Z",
     "shell.execute_reply": "2024-01-19T07:29:15.647238Z"
    }
   },
   "outputs": [
    {
     "name": "stdout",
     "output_type": "stream",
     "text": [
      "Warning: Folder already exist.\n"
     ]
    }
   ],
   "source": [
    "directory = sysenv.log_dir('3_CIFAR_10/HD_CapsNet/HD_CapsNet_WO-SC')"
   ]
  },
  {
   "cell_type": "markdown",
   "id": "9cfde972",
   "metadata": {},
   "source": [
    "# Import Dataset : CIFAR-10"
   ]
  },
  {
   "cell_type": "code",
   "execution_count": 5,
   "id": "4714d33f",
   "metadata": {
    "execution": {
     "iopub.execute_input": "2024-01-19T07:29:15.654238Z",
     "iopub.status.busy": "2024-01-19T07:29:15.653239Z",
     "iopub.status.idle": "2024-01-19T07:29:18.711233Z",
     "shell.execute_reply": "2024-01-19T07:29:18.711233Z"
    }
   },
   "outputs": [
    {
     "name": "stdout",
     "output_type": "stream",
     "text": [
      "CIFAR-10 dataset: Training have 50,000 samples and testing have 10,000 samples\n"
     ]
    }
   ],
   "source": [
    "dataset = datasets.CIFAR10(version = 'ALL') # importing CIFAR10 Dataset\n",
    "# dataset = datasets.CIFAR10(version = 'reduce') # importing CIFAR10 Dataset"
   ]
  },
  {
   "cell_type": "markdown",
   "id": "cd551837",
   "metadata": {},
   "source": [
    "# Parameters"
   ]
  },
  {
   "cell_type": "code",
   "execution_count": 6,
   "id": "48b9d984",
   "metadata": {
    "execution": {
     "iopub.execute_input": "2024-01-19T07:29:18.716232Z",
     "iopub.status.busy": "2024-01-19T07:29:18.716232Z",
     "iopub.status.idle": "2024-01-19T07:29:19.106232Z",
     "shell.execute_reply": "2024-01-19T07:29:19.107233Z"
    }
   },
   "outputs": [],
   "source": [
    "train_params = {\"n_epochs\" : 100,\n",
    "                \"batch_size\": 64,\n",
    "                \"lr\": 0.001, # Initial learning rate\n",
    "                \"lr_decay\": 0.95, # Learning rate decay\n",
    "                \"decay_exe\": 9, #learning rate decay execution epoch after\n",
    "               }\n",
    "model_params = {\"optimizer\": tf.keras.optimizers.Adam(train_params['lr']),\n",
    "                \"loss_function\": models.MarginLoss(),\n",
    "               }"
   ]
  },
  {
   "cell_type": "markdown",
   "id": "3f38ee07",
   "metadata": {},
   "source": [
    "## Learning Rate Decay Scheduler"
   ]
  },
  {
   "cell_type": "code",
   "execution_count": 7,
   "id": "3ed77d4a",
   "metadata": {
    "execution": {
     "iopub.execute_input": "2024-01-19T07:29:19.114232Z",
     "iopub.status.busy": "2024-01-19T07:29:19.113232Z",
     "iopub.status.idle": "2024-01-19T07:29:19.560231Z",
     "shell.execute_reply": "2024-01-19T07:29:19.561231Z"
    }
   },
   "outputs": [],
   "source": [
    "def scheduler(epoch):\n",
    "    learning_rate_init = train_params[\"lr\"]\n",
    "    \n",
    "    if epoch > train_params[\"decay_exe\"]:\n",
    "        learning_rate_init = train_params[\"lr\"] * (train_params[\"lr_decay\"] ** (epoch-9))\n",
    "        \n",
    "    tf.summary.scalar('learning rate', data=learning_rate_init, step=epoch)\n",
    "        \n",
    "    return learning_rate_init"
   ]
  },
  {
   "cell_type": "markdown",
   "id": "d9272c71",
   "metadata": {},
   "source": [
    "# Bottom up Approach"
   ]
  },
  {
   "cell_type": "markdown",
   "id": "751d5e21",
   "metadata": {},
   "source": [
    "## Loss Function"
   ]
  },
  {
   "cell_type": "code",
   "execution_count": 8,
   "id": "48854261",
   "metadata": {
    "execution": {
     "iopub.execute_input": "2024-01-19T07:29:19.573229Z",
     "iopub.status.busy": "2024-01-19T07:29:19.572231Z",
     "iopub.status.idle": "2024-01-19T07:29:19.952228Z",
     "shell.execute_reply": "2024-01-19T07:29:19.951229Z"
    }
   },
   "outputs": [],
   "source": [
    "number_of_classes_c = len(np.unique(np.argmax(dataset['y_train_coarse'], axis=1)))\n",
    "number_of_classes_m = len(np.unique(np.argmax(dataset['y_train_medium'], axis=1)))\n",
    "number_of_classes_f = len(np.unique(np.argmax(dataset['y_train_fine'], axis=1)))\n",
    "\n",
    "## For Dynamic LossWeights\n",
    "initial_lw = models.initial_lw({\"coarse\": number_of_classes_c,\n",
    "                                \"medium\": number_of_classes_m,\n",
    "                                \"fine\": number_of_classes_f})\n",
    "\n",
    "lossweight = {'coarse_lw' : K.variable(value = initial_lw['coarse'], dtype=\"float32\", name=\"coarse_lw\"),\n",
    "             'medium_lw' : K.variable(value = initial_lw['medium'], dtype=\"float32\", name=\"medium_lw\"),\n",
    "             'fine_lw' : K.variable(value = initial_lw['fine'], dtype=\"float32\", name=\"fine_lw\"),\n",
    "              'decoder_lw' : 0.0\n",
    "             }"
   ]
  },
  {
   "cell_type": "code",
   "execution_count": 9,
   "id": "525fd057",
   "metadata": {
    "execution": {
     "iopub.execute_input": "2024-01-19T07:29:19.959229Z",
     "iopub.status.busy": "2024-01-19T07:29:19.959229Z",
     "iopub.status.idle": "2024-01-19T07:29:20.325234Z",
     "shell.execute_reply": "2024-01-19T07:29:20.324235Z"
    }
   },
   "outputs": [],
   "source": [
    "coarse_to_medium_array = np.zeros(shape=[number_of_classes_c,number_of_classes_m], dtype=np.int32)\n",
    "medium_to_fine_array = np.zeros(shape=[number_of_classes_m,number_of_classes_f], dtype=np.int32)\n",
    "\n",
    "c_id = np.argmax(dataset['y_train_coarse'],1)\n",
    "\n",
    "m_id = np.argmax(dataset['y_train_medium'],1)\n",
    "\n",
    "f_id = np.argmax(dataset['y_train_fine'],1)\n",
    "\n",
    "for x in range(len(dataset['y_test_medium'])):\n",
    "    coarse_to_medium_array[c_id[x]][m_id[x]] = 1\n",
    "    \n",
    "for x in range(len(dataset['y_test_fine'])):\n",
    "    medium_to_fine_array[m_id[x]][f_id[x]] = 1\n",
    "\n",
    "Matrix_coarse_to_medium_OneHot = tf.constant(coarse_to_medium_array, dtype=tf.float32)\n",
    "Matrix_medium_to_fine_OneHot = tf.constant(medium_to_fine_array, dtype=tf.float32)"
   ]
  },
  {
   "cell_type": "code",
   "execution_count": 10,
   "id": "256fd873",
   "metadata": {
    "execution": {
     "iopub.execute_input": "2024-01-19T07:29:20.334232Z",
     "iopub.status.busy": "2024-01-19T07:29:20.334232Z",
     "iopub.status.idle": "2024-01-19T07:29:20.698228Z",
     "shell.execute_reply": "2024-01-19T07:29:20.698228Z"
    }
   },
   "outputs": [],
   "source": [
    "def margin_loss(y_true, y_proba):\n",
    "    \n",
    "    present_error_raw = tf.square(tf.maximum(0., 0.9 - y_proba), name=\"present_error_raw\")\n",
    "    absent_error_raw = tf.square(tf.maximum(0., y_proba - 0.1), name=\"absent_error_raw\")\n",
    "    L = tf.add(y_true * present_error_raw, 0.5 * (1.0 - y_true) * absent_error_raw,name=\"L\")\n",
    "    total_marginloss = tf.reduce_sum(L, axis=1, name=\"margin_loss\")\n",
    "\n",
    "    return total_marginloss\n",
    "\n",
    "\n",
    "def consistency_check(y_pred_ancestor,y_pred_current,lookup_matrix,num_class_current):\n",
    "    pred_max_ancestor = tf.argmax(y_pred_ancestor,axis=1)\n",
    "    pred_max_current = tf.argmax(y_pred_current,axis=1)\n",
    "    \n",
    "    consistant_check = tf.gather(lookup_matrix, indices=pred_max_ancestor)*tf.one_hot(pred_max_current,num_class_current)\n",
    "    \n",
    "    return tf.reduce_sum(consistant_check,1)\n",
    "\n",
    "def get_consistency(y_true_ancestor, y_pred, lookup_matrix):\n",
    "    '''\n",
    "    Get consistency based on 2 levels\n",
    "    Provide true levels for the level above, predictions for the current level and a look up matrix\n",
    "    '''\n",
    "    # Applying softmax to y_pred for normalization\n",
    "    y_prob = tf.nn.softmax(y_pred, name='Probability')\n",
    "    \n",
    "    index_for_predictions = tf.cast(tf.math.argmax(y_true_ancestor, axis=1), dtype='int32')\n",
    "    consistent_fine = tf.gather(lookup_matrix, indices=index_for_predictions) * y_prob\n",
    "    Consistency_sum_array = tf.reduce_sum(consistent_fine, axis=1)\n",
    "    \n",
    "    return tf.abs(1 - Consistency_sum_array)\n",
    "\n",
    "def CustomLoss(y_true_c, y_true_m, y_true_f, y_pred_c, y_pred_m, y_pred_f, LW_C, LW_M, LW_F,tree: Tree,C_Weight=0.2):\n",
    "    \n",
    "    con_m = consistency_check(y_pred_c,y_pred_m,Matrix_coarse_to_medium_OneHot,num_class_current=7)\n",
    "    con_m_not = tf.abs(con_m-1)\n",
    "    \n",
    "    con_f = consistency_check(y_pred_m,y_pred_f,Matrix_medium_to_fine_OneHot,num_class_current=10)\n",
    "    con_f_not = tf.abs(con_f-1)\n",
    "    \n",
    "    con_sum_m = get_consistency(y_true_c,y_pred_m,Matrix_coarse_to_medium_OneHot)\n",
    "    con_sum_f = get_consistency(y_true_m,y_pred_f,Matrix_medium_to_fine_OneHot)\n",
    "    \n",
    "    medium_lvl_cosistency = con_sum_m * con_m_not\n",
    "    fine_lvl_cosistency = con_sum_f * con_f_not    \n",
    "   \n",
    "    ML_c = margin_loss(y_true_c, y_pred_c)*LW_C\n",
    "    ML_m = LW_M*((1-C_Weight)*(margin_loss(y_true_m, y_pred_m))+C_Weight*(medium_lvl_cosistency))\n",
    "    ML_f = LW_F*((1-C_Weight)*(margin_loss(y_true_f, y_pred_f))+C_Weight*(fine_lvl_cosistency))\n",
    "    \n",
    "    batch_loss = ML_c + ML_m+ ML_f\n",
    "\n",
    "    return tf.reduce_mean(batch_loss)"
   ]
  },
  {
   "cell_type": "markdown",
   "id": "dfc5ea00",
   "metadata": {},
   "source": [
    "## Model Architecture"
   ]
  },
  {
   "cell_type": "code",
   "execution_count": 11,
   "id": "91672ed7",
   "metadata": {
    "execution": {
     "iopub.execute_input": "2024-01-19T07:29:20.714228Z",
     "iopub.status.busy": "2024-01-19T07:29:20.713228Z",
     "iopub.status.idle": "2024-01-19T07:29:21.057234Z",
     "shell.execute_reply": "2024-01-19T07:29:21.056234Z"
    }
   },
   "outputs": [],
   "source": [
    "def get_compiled_model():\n",
    "    input_shape = dataset['x_train'].shape[1:]\n",
    "\n",
    "    input_shape_yc = dataset['y_train_coarse'].shape[1:]\n",
    "    input_shape_ym = dataset['y_train_medium'].shape[1:]\n",
    "    input_shape_yf = dataset['y_train_fine'].shape[1:]\n",
    "\n",
    "    no_coarse_class = 2\n",
    "    no_medium_class = 7\n",
    "    no_fine_class = 10\n",
    "\n",
    "    PCap_n_dims = 8\n",
    "\n",
    "    SCap_f_dims = 8\n",
    "    SCap_m_dims = 16\n",
    "    SCap_c_dims = 32\n",
    "\n",
    "\n",
    "    # Input image\n",
    "    x_input = keras.layers.Input(shape=input_shape, name=\"Input_Image\")\n",
    "\n",
    "    # Input True Labels\n",
    "    y_c = keras.layers.Input(shape=input_shape_yc, name='input_yc')\n",
    "    y_m = keras.layers.Input(shape=input_shape_ym, name='input_ym')\n",
    "    y_f = keras.layers.Input(shape=input_shape_yf, name='input_yf')\n",
    "\n",
    "    #--- block 1 ---\n",
    "    x = keras.layers.Conv2D(64, (3, 3), activation='relu', padding='same', name='block1_conv1')(x_input)\n",
    "    x = keras.layers.BatchNormalization()(x)\n",
    "    x = keras.layers.Conv2D(64, (3, 3), activation='relu', padding='same', name='block1_conv2')(x)\n",
    "    x = keras.layers.BatchNormalization()(x)\n",
    "    x = keras.layers.MaxPooling2D((2, 2), strides=(2, 2), name='block1_pool')(x)\n",
    "\n",
    "    #--- block 2 ---\n",
    "    x = keras.layers.Conv2D(128, (3, 3), activation='relu', padding='same', name='block2_conv1')(x)\n",
    "    x = keras.layers.BatchNormalization()(x)\n",
    "    x = keras.layers.Conv2D(128, (3, 3), activation='relu', padding='same', name='block2_conv2')(x)\n",
    "    x = keras.layers.BatchNormalization()(x)\n",
    "    x = keras.layers.MaxPooling2D((2, 2), strides=(2, 2), name='block2_pool')(x)\n",
    "\n",
    "    #--- block 3 ---\n",
    "    x = keras.layers.Conv2D(256, (3, 3), activation='relu', padding='same', name='block3_conv1')(x)\n",
    "    x = keras.layers.BatchNormalization()(x)\n",
    "    x = keras.layers.Conv2D(256, (3, 3), activation='relu', padding='same', name='block3_conv2')(x)\n",
    "    x = keras.layers.BatchNormalization()(x)\n",
    "    x = keras.layers.MaxPooling2D((2, 2), strides=(2, 2), name='block3_pool')(x)\n",
    "\n",
    "    #--- block 4 ---\n",
    "    x = keras.layers.Conv2D(512, (3, 3), activation='relu', padding='same', name='block4_conv1')(x)\n",
    "    x = keras.layers.BatchNormalization()(x)\n",
    "    x = keras.layers.Conv2D(512, (3, 3), activation='relu', padding='same', name='block4_conv2')(x)\n",
    "    x = keras.layers.BatchNormalization()(x)\n",
    "    x = keras.layers.MaxPooling2D((2, 2), strides=(2, 2), name='block4_pool')(x)\n",
    "\n",
    "\n",
    "    # Layer 3: Reshape to 8D primary capsules \n",
    "    reshapec = keras.layers.Reshape((int((tf.reduce_prod(x.shape[1:]).numpy())/PCap_n_dims), \n",
    "                                     PCap_n_dims), name=\"reshape_layer\")(x)\n",
    "    p_caps = keras.layers.Lambda(models.squash, name='p_caps')(reshapec)\n",
    "\n",
    "    ## Layer Secondary Capsule: For coarse level\n",
    "    s_caps_c = models.SecondaryCapsule(n_caps=no_coarse_class, n_dims=SCap_c_dims, \n",
    "                        name=\"s_caps_coarse\")(p_caps)\n",
    "    \n",
    "    ## Layer Secondary Capsule: For medium level\n",
    "    s_caps_m = models.SecondaryCapsule(n_caps=no_medium_class, n_dims=SCap_m_dims, \n",
    "                        name=\"s_caps_medium\")(s_caps_c)\n",
    "\n",
    "    ## Layer Secondary Capsule: For fine level\n",
    "    s_caps_f = models.SecondaryCapsule(n_caps=no_fine_class, n_dims=SCap_f_dims, \n",
    "                        name=\"s_caps_fine\")(s_caps_m)\n",
    "\n",
    "    pred_c = models.LengthLayer(name='prediction_coarse')(s_caps_c)\n",
    "\n",
    "    pred_m = models.LengthLayer(name='prediction_medium')(s_caps_m)\n",
    "\n",
    "    pred_f = models.LengthLayer(name='prediction_fine')(s_caps_f)\n",
    "\n",
    "    model = keras.Model(inputs= [x_input, y_c, y_m, y_f],\n",
    "                        outputs= [pred_c, pred_m, pred_f],\n",
    "                        name='HD-CapsNet')\n",
    "\n",
    "    model.add_loss(CustomLoss(y_c, y_m, y_f, pred_c, pred_m, pred_f, \n",
    "                              lossweight['coarse_lw'], lossweight['medium_lw'], lossweight['fine_lw'],\n",
    "                              dataset['tree']))\n",
    "\n",
    "    model.compile(optimizer='adam',                  \n",
    "                  metrics={'prediction_fine': 'accuracy',\n",
    "                           'prediction_medium': 'accuracy',\n",
    "                           'prediction_coarse': 'accuracy'\n",
    "                          }\n",
    "    )\n",
    "    return model"
   ]
  },
  {
   "cell_type": "code",
   "execution_count": 12,
   "id": "1087df76",
   "metadata": {
    "execution": {
     "iopub.execute_input": "2024-01-19T07:29:21.061230Z",
     "iopub.status.busy": "2024-01-19T07:29:21.060230Z",
     "iopub.status.idle": "2024-01-19T07:29:22.645855Z",
     "shell.execute_reply": "2024-01-19T07:29:22.646854Z"
    }
   },
   "outputs": [
    {
     "name": "stdout",
     "output_type": "stream",
     "text": [
      "WARNING:tensorflow:The following Variables were used in a Lambda layer's call (tf.math.multiply_9), but are not present in its tracked objects:   <tf.Variable 'coarse_lw:0' shape=() dtype=float32>. This is a strong indication that the Lambda layer should be rewritten as a subclassed Layer.\n"
     ]
    }
   ],
   "source": [
    "model = get_compiled_model()"
   ]
  },
  {
   "cell_type": "raw",
   "id": "17aadb80",
   "metadata": {},
   "source": [
    "strategy = multi_gpu_select('windows')\n",
    "\n",
    "print(\"Number of devices: {}\".format(strategy.num_replicas_in_sync))\n",
    "\n",
    "with strategy.scope():\n",
    "    # Everything that creates variables should be under the strategy scope.\n",
    "    # In general this is only model construction & `compile()`.\n",
    "    model = get_compiled_model()"
   ]
  },
  {
   "cell_type": "code",
   "execution_count": 13,
   "id": "a1e4b982",
   "metadata": {
    "execution": {
     "iopub.execute_input": "2024-01-19T07:29:22.651857Z",
     "iopub.status.busy": "2024-01-19T07:29:22.651857Z",
     "iopub.status.idle": "2024-01-19T07:29:23.364866Z",
     "shell.execute_reply": "2024-01-19T07:29:23.364866Z"
    },
    "scrolled": true
   },
   "outputs": [
    {
     "name": "stdout",
     "output_type": "stream",
     "text": [
      "Model: \"HD-CapsNet\"\n",
      "__________________________________________________________________________________________________\n",
      " Layer (type)                   Output Shape         Param #     Connected to                     \n",
      "==================================================================================================\n",
      " Input_Image (InputLayer)       [(None, 32, 32, 3)]  0           []                               \n",
      "                                                                                                  \n",
      " block1_conv1 (Conv2D)          (None, 32, 32, 64)   1792        ['Input_Image[0][0]']            \n",
      "                                                                                                  \n",
      " batch_normalization (BatchNorm  (None, 32, 32, 64)  256         ['block1_conv1[0][0]']           \n",
      " alization)                                                                                       \n",
      "                                                                                                  \n",
      " block1_conv2 (Conv2D)          (None, 32, 32, 64)   36928       ['batch_normalization[0][0]']    \n",
      "                                                                                                  \n",
      " batch_normalization_1 (BatchNo  (None, 32, 32, 64)  256         ['block1_conv2[0][0]']           \n",
      " rmalization)                                                                                     \n",
      "                                                                                                  \n",
      " block1_pool (MaxPooling2D)     (None, 16, 16, 64)   0           ['batch_normalization_1[0][0]']  \n",
      "                                                                                                  \n",
      " block2_conv1 (Conv2D)          (None, 16, 16, 128)  73856       ['block1_pool[0][0]']            \n",
      "                                                                                                  \n",
      " batch_normalization_2 (BatchNo  (None, 16, 16, 128)  512        ['block2_conv1[0][0]']           \n",
      " rmalization)                                                                                     \n",
      "                                                                                                  \n",
      " block2_conv2 (Conv2D)          (None, 16, 16, 128)  147584      ['batch_normalization_2[0][0]']  \n",
      "                                                                                                  \n",
      " batch_normalization_3 (BatchNo  (None, 16, 16, 128)  512        ['block2_conv2[0][0]']           \n",
      " rmalization)                                                                                     \n",
      "                                                                                                  \n",
      " block2_pool (MaxPooling2D)     (None, 8, 8, 128)    0           ['batch_normalization_3[0][0]']  \n",
      "                                                                                                  \n",
      " block3_conv1 (Conv2D)          (None, 8, 8, 256)    295168      ['block2_pool[0][0]']            \n",
      "                                                                                                  \n",
      " batch_normalization_4 (BatchNo  (None, 8, 8, 256)   1024        ['block3_conv1[0][0]']           \n",
      " rmalization)                                                                                     \n",
      "                                                                                                  \n",
      " block3_conv2 (Conv2D)          (None, 8, 8, 256)    590080      ['batch_normalization_4[0][0]']  \n",
      "                                                                                                  \n",
      " batch_normalization_5 (BatchNo  (None, 8, 8, 256)   1024        ['block3_conv2[0][0]']           \n",
      " rmalization)                                                                                     \n",
      "                                                                                                  \n",
      " block3_pool (MaxPooling2D)     (None, 4, 4, 256)    0           ['batch_normalization_5[0][0]']  \n",
      "                                                                                                  \n",
      " block4_conv1 (Conv2D)          (None, 4, 4, 512)    1180160     ['block3_pool[0][0]']            \n",
      "                                                                                                  \n",
      " batch_normalization_6 (BatchNo  (None, 4, 4, 512)   2048        ['block4_conv1[0][0]']           \n",
      " rmalization)                                                                                     \n",
      "                                                                                                  \n",
      " block4_conv2 (Conv2D)          (None, 4, 4, 512)    2359808     ['batch_normalization_6[0][0]']  \n",
      "                                                                                                  \n",
      " batch_normalization_7 (BatchNo  (None, 4, 4, 512)   2048        ['block4_conv2[0][0]']           \n",
      " rmalization)                                                                                     \n",
      "                                                                                                  \n",
      " block4_pool (MaxPooling2D)     (None, 2, 2, 512)    0           ['batch_normalization_7[0][0]']  \n",
      "                                                                                                  \n",
      " reshape_layer (Reshape)        (None, 256, 8)       0           ['block4_pool[0][0]']            \n",
      "                                                                                                  \n",
      " p_caps (Lambda)                (None, 256, 8)       0           ['reshape_layer[0][0]']          \n",
      "                                                                                                  \n",
      " s_caps_coarse (SecondaryCapsul  (None, 2, 32)       131072      ['p_caps[0][0]']                 \n",
      " e)                                                                                               \n",
      "                                                                                                  \n",
      " s_caps_medium (SecondaryCapsul  (None, 7, 16)       7168        ['s_caps_coarse[0][0]']          \n",
      " e)                                                                                               \n",
      "                                                                                                  \n",
      " s_caps_fine (SecondaryCapsule)  (None, 10, 8)       8960        ['s_caps_medium[0][0]']          \n",
      "                                                                                                  \n",
      " input_yc (InputLayer)          [(None, 2)]          0           []                               \n",
      "                                                                                                  \n",
      " input_ym (InputLayer)          [(None, 7)]          0           []                               \n",
      "                                                                                                  \n",
      " input_yf (InputLayer)          [(None, 10)]         0           []                               \n",
      "                                                                                                  \n",
      " prediction_coarse (LengthLayer  (None, 2)           0           ['s_caps_coarse[0][0]']          \n",
      " )                                                                                                \n",
      "                                                                                                  \n",
      " prediction_medium (LengthLayer  (None, 7)           0           ['s_caps_medium[0][0]']          \n",
      " )                                                                                                \n",
      "                                                                                                  \n",
      " prediction_fine (LengthLayer)  (None, 10)           0           ['s_caps_fine[0][0]']            \n",
      "                                                                                                  \n",
      " tf.math.argmax_4 (TFOpLambda)  (None,)              0           ['input_yc[0][0]']               \n",
      "                                                                                                  \n",
      " tf.math.reduce_sum_2 (TFOpLamb  (None,)             0           ['prediction_medium[0][0]']      \n",
      " da)                                                                                              \n",
      "                                                                                                  \n",
      " tf.cast (TFOpLambda)           (None,)              0           ['tf.math.argmax_4[0][0]']       \n",
      "                                                                                                  \n",
      " tf.reshape (TFOpLambda)        (None, 1)            0           ['tf.math.reduce_sum_2[0][0]']   \n",
      "                                                                                                  \n",
      " tf.math.argmax (TFOpLambda)    (None,)              0           ['prediction_coarse[0][0]']      \n",
      "                                                                                                  \n",
      " tf.math.argmax_1 (TFOpLambda)  (None,)              0           ['prediction_medium[0][0]']      \n",
      "                                                                                                  \n",
      " tf.math.argmax_5 (TFOpLambda)  (None,)              0           ['input_ym[0][0]']               \n",
      "                                                                                                  \n",
      " tf.math.reduce_sum_4 (TFOpLamb  (None,)             0           ['prediction_fine[0][0]']        \n",
      " da)                                                                                              \n",
      "                                                                                                  \n",
      " tf.math.subtract_7 (TFOpLambda  (None, 7)           0           ['prediction_medium[0][0]']      \n",
      " )                                                                                                \n",
      "                                                                                                  \n",
      " tf.math.subtract_8 (TFOpLambda  (None, 7)           0           ['prediction_medium[0][0]']      \n",
      " )                                                                                                \n",
      "                                                                                                  \n",
      " tf.compat.v1.gather_2 (TFOpLam  (None, 7)           0           ['tf.cast[0][0]']                \n",
      " bda)                                                                                             \n",
      "                                                                                                  \n",
      " tf.math.divide (TFOpLambda)    (None, 7)            0           ['prediction_medium[0][0]',      \n",
      "                                                                  'tf.reshape[0][0]']             \n",
      "                                                                                                  \n",
      " tf.compat.v1.gather (TFOpLambd  (None, 7)           0           ['tf.math.argmax[0][0]']         \n",
      " a)                                                                                               \n",
      "                                                                                                  \n",
      " tf.one_hot (TFOpLambda)        (None, 7)            0           ['tf.math.argmax_1[0][0]']       \n",
      "                                                                                                  \n",
      " tf.cast_1 (TFOpLambda)         (None,)              0           ['tf.math.argmax_5[0][0]']       \n",
      "                                                                                                  \n",
      " tf.reshape_1 (TFOpLambda)      (None, 1)            0           ['tf.math.reduce_sum_4[0][0]']   \n",
      "                                                                                                  \n",
      " tf.math.argmax_2 (TFOpLambda)  (None,)              0           ['prediction_medium[0][0]']      \n",
      "                                                                                                  \n",
      " tf.math.argmax_3 (TFOpLambda)  (None,)              0           ['prediction_fine[0][0]']        \n",
      "                                                                                                  \n",
      " tf.math.maximum_2 (TFOpLambda)  (None, 7)           0           ['tf.math.subtract_7[0][0]']     \n",
      "                                                                                                  \n",
      " tf.math.subtract_9 (TFOpLambda  (None, 7)           0           ['input_ym[0][0]']               \n",
      " )                                                                                                \n",
      "                                                                                                  \n",
      " tf.math.maximum_3 (TFOpLambda)  (None, 7)           0           ['tf.math.subtract_8[0][0]']     \n",
      "                                                                                                  \n",
      " tf.math.multiply_2 (TFOpLambda  (None, 7)           0           ['tf.compat.v1.gather_2[0][0]',  \n",
      " )                                                                'tf.math.divide[0][0]']         \n",
      "                                                                                                  \n",
      " tf.math.multiply (TFOpLambda)  (None, 7)            0           ['tf.compat.v1.gather[0][0]',    \n",
      "                                                                  'tf.one_hot[0][0]']             \n",
      "                                                                                                  \n",
      " tf.math.subtract_10 (TFOpLambd  (None, 10)          0           ['prediction_fine[0][0]']        \n",
      " a)                                                                                               \n",
      "                                                                                                  \n",
      " tf.math.subtract_11 (TFOpLambd  (None, 10)          0           ['prediction_fine[0][0]']        \n",
      " a)                                                                                               \n",
      "                                                                                                  \n",
      " tf.compat.v1.gather_3 (TFOpLam  (None, 10)          0           ['tf.cast_1[0][0]']              \n",
      " bda)                                                                                             \n",
      "                                                                                                  \n",
      " tf.math.divide_1 (TFOpLambda)  (None, 10)           0           ['prediction_fine[0][0]',        \n",
      "                                                                  'tf.reshape_1[0][0]']           \n",
      "                                                                                                  \n",
      " tf.compat.v1.gather_1 (TFOpLam  (None, 10)          0           ['tf.math.argmax_2[0][0]']       \n",
      " bda)                                                                                             \n",
      "                                                                                                  \n",
      " tf.one_hot_1 (TFOpLambda)      (None, 10)           0           ['tf.math.argmax_3[0][0]']       \n",
      "                                                                                                  \n",
      " tf.math.subtract_4 (TFOpLambda  (None, 2)           0           ['prediction_coarse[0][0]']      \n",
      " )                                                                                                \n",
      "                                                                                                  \n",
      " tf.math.subtract_5 (TFOpLambda  (None, 2)           0           ['prediction_coarse[0][0]']      \n",
      " )                                                                                                \n",
      "                                                                                                  \n",
      " tf.math.square_2 (TFOpLambda)  (None, 7)            0           ['tf.math.maximum_2[0][0]']      \n",
      "                                                                                                  \n",
      " tf.math.multiply_11 (TFOpLambd  (None, 7)           0           ['tf.math.subtract_9[0][0]']     \n",
      " a)                                                                                               \n",
      "                                                                                                  \n",
      " tf.math.square_3 (TFOpLambda)  (None, 7)            0           ['tf.math.maximum_3[0][0]']      \n",
      "                                                                                                  \n",
      " tf.math.reduce_sum_3 (TFOpLamb  (None,)             0           ['tf.math.multiply_2[0][0]']     \n",
      " da)                                                                                              \n",
      "                                                                                                  \n",
      " tf.math.reduce_sum (TFOpLambda  (None,)             0           ['tf.math.multiply[0][0]']       \n",
      " )                                                                                                \n",
      "                                                                                                  \n",
      " tf.math.maximum_4 (TFOpLambda)  (None, 10)          0           ['tf.math.subtract_10[0][0]']    \n",
      "                                                                                                  \n",
      " tf.math.subtract_12 (TFOpLambd  (None, 10)          0           ['input_yf[0][0]']               \n",
      " a)                                                                                               \n",
      "                                                                                                  \n",
      " tf.math.maximum_5 (TFOpLambda)  (None, 10)          0           ['tf.math.subtract_11[0][0]']    \n",
      "                                                                                                  \n",
      " tf.math.multiply_3 (TFOpLambda  (None, 10)          0           ['tf.compat.v1.gather_3[0][0]',  \n",
      " )                                                                'tf.math.divide_1[0][0]']       \n",
      "                                                                                                  \n",
      " tf.math.multiply_1 (TFOpLambda  (None, 10)          0           ['tf.compat.v1.gather_1[0][0]',  \n",
      " )                                                                'tf.one_hot_1[0][0]']           \n",
      "                                                                                                  \n",
      " tf.math.maximum (TFOpLambda)   (None, 2)            0           ['tf.math.subtract_4[0][0]']     \n",
      "                                                                                                  \n",
      " tf.math.subtract_6 (TFOpLambda  (None, 2)           0           ['input_yc[0][0]']               \n",
      " )                                                                                                \n",
      "                                                                                                  \n",
      " tf.math.maximum_1 (TFOpLambda)  (None, 2)           0           ['tf.math.subtract_5[0][0]']     \n",
      "                                                                                                  \n",
      " tf.math.multiply_10 (TFOpLambd  (None, 7)           0           ['input_ym[0][0]',               \n",
      " a)                                                               'tf.math.square_2[0][0]']       \n",
      "                                                                                                  \n",
      " tf.math.multiply_12 (TFOpLambd  (None, 7)           0           ['tf.math.multiply_11[0][0]',    \n",
      " a)                                                               'tf.math.square_3[0][0]']       \n",
      "                                                                                                  \n",
      " tf.math.subtract_2 (TFOpLambda  (None,)             0           ['tf.math.reduce_sum_3[0][0]']   \n",
      " )                                                                                                \n",
      "                                                                                                  \n",
      " tf.math.subtract (TFOpLambda)  (None,)              0           ['tf.math.reduce_sum[0][0]']     \n",
      "                                                                                                  \n",
      " tf.math.square_4 (TFOpLambda)  (None, 10)           0           ['tf.math.maximum_4[0][0]']      \n",
      "                                                                                                  \n",
      " tf.math.multiply_17 (TFOpLambd  (None, 10)          0           ['tf.math.subtract_12[0][0]']    \n",
      " a)                                                                                               \n",
      "                                                                                                  \n",
      " tf.math.square_5 (TFOpLambda)  (None, 10)           0           ['tf.math.maximum_5[0][0]']      \n",
      "                                                                                                  \n",
      " tf.math.reduce_sum_5 (TFOpLamb  (None,)             0           ['tf.math.multiply_3[0][0]']     \n",
      " da)                                                                                              \n",
      "                                                                                                  \n",
      " tf.math.reduce_sum_1 (TFOpLamb  (None,)             0           ['tf.math.multiply_1[0][0]']     \n",
      " da)                                                                                              \n",
      "                                                                                                  \n",
      " tf.math.square (TFOpLambda)    (None, 2)            0           ['tf.math.maximum[0][0]']        \n",
      "                                                                                                  \n",
      " tf.math.multiply_7 (TFOpLambda  (None, 2)           0           ['tf.math.subtract_6[0][0]']     \n",
      " )                                                                                                \n",
      "                                                                                                  \n",
      " tf.math.square_1 (TFOpLambda)  (None, 2)            0           ['tf.math.maximum_1[0][0]']      \n",
      "                                                                                                  \n",
      " tf.math.add_1 (TFOpLambda)     (None, 7)            0           ['tf.math.multiply_10[0][0]',    \n",
      "                                                                  'tf.math.multiply_12[0][0]']    \n",
      "                                                                                                  \n",
      " tf.math.abs_2 (TFOpLambda)     (None,)              0           ['tf.math.subtract_2[0][0]']     \n",
      "                                                                                                  \n",
      " tf.math.abs (TFOpLambda)       (None,)              0           ['tf.math.subtract[0][0]']       \n",
      "                                                                                                  \n",
      " tf.math.multiply_16 (TFOpLambd  (None, 10)          0           ['input_yf[0][0]',               \n",
      " a)                                                               'tf.math.square_4[0][0]']       \n",
      "                                                                                                  \n",
      " tf.math.multiply_18 (TFOpLambd  (None, 10)          0           ['tf.math.multiply_17[0][0]',    \n",
      " a)                                                               'tf.math.square_5[0][0]']       \n",
      "                                                                                                  \n",
      " tf.math.subtract_3 (TFOpLambda  (None,)             0           ['tf.math.reduce_sum_5[0][0]']   \n",
      " )                                                                                                \n",
      "                                                                                                  \n",
      " tf.math.subtract_1 (TFOpLambda  (None,)             0           ['tf.math.reduce_sum_1[0][0]']   \n",
      " )                                                                                                \n",
      "                                                                                                  \n",
      " tf.math.multiply_6 (TFOpLambda  (None, 2)           0           ['input_yc[0][0]',               \n",
      " )                                                                'tf.math.square[0][0]']         \n",
      "                                                                                                  \n",
      " tf.math.multiply_8 (TFOpLambda  (None, 2)           0           ['tf.math.multiply_7[0][0]',     \n",
      " )                                                                'tf.math.square_1[0][0]']       \n",
      "                                                                                                  \n",
      " tf.math.reduce_sum_7 (TFOpLamb  (None,)             0           ['tf.math.add_1[0][0]']          \n",
      " da)                                                                                              \n",
      "                                                                                                  \n",
      " tf.math.multiply_4 (TFOpLambda  (None,)             0           ['tf.math.abs_2[0][0]',          \n",
      " )                                                                'tf.math.abs[0][0]']            \n",
      "                                                                                                  \n",
      " tf.math.add_2 (TFOpLambda)     (None, 10)           0           ['tf.math.multiply_16[0][0]',    \n",
      "                                                                  'tf.math.multiply_18[0][0]']    \n",
      "                                                                                                  \n",
      " tf.math.abs_3 (TFOpLambda)     (None,)              0           ['tf.math.subtract_3[0][0]']     \n",
      "                                                                                                  \n",
      " tf.math.abs_1 (TFOpLambda)     (None,)              0           ['tf.math.subtract_1[0][0]']     \n",
      "                                                                                                  \n",
      " tf.math.add (TFOpLambda)       (None, 2)            0           ['tf.math.multiply_6[0][0]',     \n",
      "                                                                  'tf.math.multiply_8[0][0]']     \n",
      "                                                                                                  \n",
      " tf.math.multiply_13 (TFOpLambd  (None,)             0           ['tf.math.reduce_sum_7[0][0]']   \n",
      " a)                                                                                               \n",
      "                                                                                                  \n",
      " tf.math.multiply_14 (TFOpLambd  (None,)             0           ['tf.math.multiply_4[0][0]']     \n",
      " a)                                                                                               \n",
      "                                                                                                  \n",
      " tf.math.reduce_sum_8 (TFOpLamb  (None,)             0           ['tf.math.add_2[0][0]']          \n",
      " da)                                                                                              \n",
      "                                                                                                  \n",
      " tf.math.multiply_5 (TFOpLambda  (None,)             0           ['tf.math.abs_3[0][0]',          \n",
      " )                                                                'tf.math.abs_1[0][0]']          \n",
      "                                                                                                  \n",
      " tf.math.reduce_sum_6 (TFOpLamb  (None,)             0           ['tf.math.add[0][0]']            \n",
      " da)                                                                                              \n",
      "                                                                                                  \n",
      " tf.__operators__.add (TFOpLamb  (None,)             0           ['tf.math.multiply_13[0][0]',    \n",
      " da)                                                              'tf.math.multiply_14[0][0]']    \n",
      "                                                                                                  \n",
      " tf.math.multiply_19 (TFOpLambd  (None,)             0           ['tf.math.reduce_sum_8[0][0]']   \n",
      " a)                                                                                               \n",
      "                                                                                                  \n",
      " tf.math.multiply_20 (TFOpLambd  (None,)             0           ['tf.math.multiply_5[0][0]']     \n",
      " a)                                                                                               \n",
      "                                                                                                  \n",
      " tf.math.multiply_9 (TFOpLambda  (None,)             0           ['tf.math.reduce_sum_6[0][0]']   \n",
      " )                                                                                                \n",
      "                                                                                                  \n",
      " tf.math.multiply_15 (TFOpLambd  (None,)             0           ['tf.__operators__.add[0][0]']   \n",
      " a)                                                                                               \n",
      "                                                                                                  \n",
      " tf.__operators__.add_1 (TFOpLa  (None,)             0           ['tf.math.multiply_19[0][0]',    \n",
      " mbda)                                                            'tf.math.multiply_20[0][0]']    \n",
      "                                                                                                  \n",
      " tf.__operators__.add_2 (TFOpLa  (None,)             0           ['tf.math.multiply_9[0][0]',     \n",
      " mbda)                                                            'tf.math.multiply_15[0][0]']    \n",
      "                                                                                                  \n",
      " tf.math.multiply_21 (TFOpLambd  (None,)             0           ['tf.__operators__.add_1[0][0]'] \n",
      " a)                                                                                               \n",
      "                                                                                                  \n",
      " tf.__operators__.add_3 (TFOpLa  (None,)             0           ['tf.__operators__.add_2[0][0]', \n",
      " mbda)                                                            'tf.math.multiply_21[0][0]']    \n",
      "                                                                                                  \n",
      " tf.math.reduce_mean (TFOpLambd  ()                  0           ['tf.__operators__.add_3[0][0]'] \n",
      " a)                                                                                               \n",
      "                                                                                                  \n",
      " add_loss (AddLoss)             ()                   0           ['tf.math.reduce_mean[0][0]']    \n",
      "                                                                                                  \n",
      "==================================================================================================\n",
      "Total params: 4,840,256\n",
      "Trainable params: 4,836,416\n",
      "Non-trainable params: 3,840\n",
      "__________________________________________________________________________________________________\n"
     ]
    }
   ],
   "source": [
    "model.summary()\n",
    "# keras.utils.plot_model(model, to_file = directory+\"/Architecture.png\", show_shapes=True)"
   ]
  },
  {
   "cell_type": "markdown",
   "id": "74f72ece",
   "metadata": {},
   "source": [
    "## Data Augmentation"
   ]
  },
  {
   "cell_type": "code",
   "execution_count": 14,
   "id": "857527ad",
   "metadata": {
    "execution": {
     "iopub.execute_input": "2024-01-19T07:29:23.368866Z",
     "iopub.status.busy": "2024-01-19T07:29:23.368866Z",
     "iopub.status.idle": "2024-01-19T07:29:23.720375Z",
     "shell.execute_reply": "2024-01-19T07:29:23.720375Z"
    }
   },
   "outputs": [],
   "source": [
    "datagen = ImageDataGenerator(width_shift_range=0.1,\n",
    "                            height_shift_range=0.1)\n",
    "\n",
    "training_generator = MixUp_add_loss.MixupGenerator_3level(dataset['x_train'],\n",
    "                                                 dataset['y_train_coarse'], \n",
    "                                                 dataset['y_train_medium'],\n",
    "                                                 dataset['y_train_fine'],\n",
    "                                                 batch_size=train_params[\"batch_size\"],\n",
    "                                                 alpha=0.2, \n",
    "                                                 datagen=datagen\n",
    "                                                )()"
   ]
  },
  {
   "cell_type": "markdown",
   "id": "cb67d719",
   "metadata": {},
   "source": [
    "## Callback"
   ]
  },
  {
   "cell_type": "code",
   "execution_count": 15,
   "id": "9e0a123c",
   "metadata": {
    "execution": {
     "iopub.execute_input": "2024-01-19T07:29:23.727375Z",
     "iopub.status.busy": "2024-01-19T07:29:23.726377Z",
     "iopub.status.idle": "2024-01-19T07:29:24.098382Z",
     "shell.execute_reply": "2024-01-19T07:29:24.099376Z"
    }
   },
   "outputs": [],
   "source": [
    "tb = keras.callbacks.TensorBoard(directory+'./tb_logs'+ datetime.now().strftime(\"%Y%m%d-%H%M%S\"))\n",
    "log = keras.callbacks.CSVLogger(directory+'/log.csv', append=True)\n",
    "\n",
    "checkpoint = keras.callbacks.ModelCheckpoint(\n",
    "    directory+'/epoch-best.h5', \n",
    "    monitor='val_prediction_fine_accuracy',\n",
    "    save_best_only=True, save_weights_only=True, verbose=1)\n",
    "change_lw = models.LossWeightsModifier(lossweight = lossweight,\n",
    "                               initial_lw = initial_lw,\n",
    "                               directory = directory)\n",
    "lr_decay = keras.callbacks.LearningRateScheduler(scheduler)"
   ]
  },
  {
   "cell_type": "markdown",
   "id": "bdc176a2",
   "metadata": {},
   "source": [
    "## Model Training"
   ]
  },
  {
   "cell_type": "code",
   "execution_count": 16,
   "id": "7a48f8ef",
   "metadata": {
    "execution": {
     "iopub.execute_input": "2024-01-19T07:29:24.112378Z",
     "iopub.status.busy": "2024-01-19T07:29:24.111380Z",
     "iopub.status.idle": "2024-01-19T07:29:24.659405Z",
     "shell.execute_reply": "2024-01-19T07:29:24.658406Z"
    },
    "scrolled": true
   },
   "outputs": [],
   "source": [
    "model_save_dir = str(directory+'/trained_model.h5')\n",
    "try:\n",
    "    model.load_weights(model_save_dir)\n",
    "except:\n",
    "    history = model.fit(training_generator,\n",
    "                        steps_per_epoch = int(dataset['x_train'].shape[0] / train_params[\"batch_size\"]),\n",
    "                        epochs = train_params[\"n_epochs\"],\n",
    "                        validation_data = ([dataset['x_test'],\n",
    "                                            dataset['y_test_coarse'],dataset['y_test_medium'],dataset['y_test_fine']],\n",
    "                                           [dataset['y_test_coarse'],dataset['y_test_medium'],dataset['y_test_fine']]),\n",
    "                        callbacks = [tb,log,change_lw,lr_decay,checkpoint],\n",
    "                        verbose=1)\n",
    "    model.save_weights(model_save_dir)"
   ]
  },
  {
   "cell_type": "code",
   "execution_count": 17,
   "id": "b983f188",
   "metadata": {
    "execution": {
     "iopub.execute_input": "2024-01-19T07:29:24.665407Z",
     "iopub.status.busy": "2024-01-19T07:29:24.665407Z",
     "iopub.status.idle": "2024-01-19T07:29:25.081405Z",
     "shell.execute_reply": "2024-01-19T07:29:25.081405Z"
    }
   },
   "outputs": [
    {
     "name": "stdout",
     "output_type": "stream",
     "text": [
      "Trained model weights loaded\n"
     ]
    }
   ],
   "source": [
    "try:\n",
    "    history_dict = history.history\n",
    "\n",
    "    plotter = tfdocs.plots.HistoryPlotter()\n",
    "    plotter.plot({\"Coarse\": history}, metric = \"prediction_coarse_accuracy\")\n",
    "    plotter.plot({\"Medium\": history}, metric = \"prediction_medium_accuracy\")\n",
    "    plotter.plot({\"Fine\": history}, metric = \"prediction_fine_accuracy\")\n",
    "    plt.title(\"Model Accuracy\")\n",
    "    plt.ylim([0,1])\n",
    "\n",
    "except:\n",
    "    print('Trained model weights loaded')"
   ]
  },
  {
   "cell_type": "code",
   "execution_count": 18,
   "id": "9f5175ec",
   "metadata": {
    "execution": {
     "iopub.execute_input": "2024-01-19T07:29:25.085405Z",
     "iopub.status.busy": "2024-01-19T07:29:25.085405Z",
     "iopub.status.idle": "2024-01-19T07:29:25.475405Z",
     "shell.execute_reply": "2024-01-19T07:29:25.474406Z"
    }
   },
   "outputs": [
    {
     "name": "stdout",
     "output_type": "stream",
     "text": [
      "Trained model weights loaded\n"
     ]
    }
   ],
   "source": [
    "try:\n",
    "    plotter = tfdocs.plots.HistoryPlotter()\n",
    "    plotter.plot({\"loss\": history}, metric = \"loss\")\n",
    "    plt.title(\"Model Loss\")\n",
    "    plt.ylim([0,1])\n",
    "\n",
    "except:\n",
    "    print('Trained model weights loaded')"
   ]
  },
  {
   "cell_type": "markdown",
   "id": "0f08f53b",
   "metadata": {},
   "source": [
    "## Model Analysis"
   ]
  },
  {
   "cell_type": "code",
   "execution_count": 19,
   "id": "c3170fdd",
   "metadata": {
    "execution": {
     "iopub.execute_input": "2024-01-19T07:29:25.483404Z",
     "iopub.status.busy": "2024-01-19T07:29:25.481404Z",
     "iopub.status.idle": "2024-01-19T07:29:25.849405Z",
     "shell.execute_reply": "2024-01-19T07:29:25.849405Z"
    }
   },
   "outputs": [],
   "source": [
    "final_model = keras.Model(model.inputs[:1], model.output)\n",
    "\n",
    "lossfn = models.MarginLoss()\n",
    "final_model.compile(optimizer='adam', \n",
    "                    loss={'prediction_fine' : lossfn,\n",
    "                          'prediction_medium' : lossfn,\n",
    "                          'prediction_coarse' : lossfn},\n",
    "\n",
    "                    loss_weights={'prediction_fine' : lossweight['fine_lw'],\n",
    "                                  'prediction_medium' : lossweight['medium_lw'],\n",
    "                                  'prediction_coarse' : lossweight['coarse_lw']},\n",
    "\n",
    "                    metrics={'prediction_fine': 'accuracy',\n",
    "                             'prediction_medium': 'accuracy',\n",
    "                             'prediction_coarse': 'accuracy'\n",
    "                            }\n",
    "                   )"
   ]
  },
  {
   "cell_type": "code",
   "execution_count": 20,
   "id": "93ed4e40",
   "metadata": {
    "execution": {
     "iopub.execute_input": "2024-01-19T07:29:25.854402Z",
     "iopub.status.busy": "2024-01-19T07:29:25.853405Z",
     "iopub.status.idle": "2024-01-19T07:29:39.101165Z",
     "shell.execute_reply": "2024-01-19T07:29:39.100166Z"
    }
   },
   "outputs": [
    {
     "name": "stdout",
     "output_type": "stream",
     "text": [
      "313/313 [==============================] - 9s 12ms/step - loss: 0.0374 - prediction_coarse_loss: 0.0104 - prediction_medium_loss: 0.0490 - prediction_fine_loss: 0.0728 - prediction_coarse_accuracy: 0.9876 - prediction_medium_accuracy: 0.9336 - prediction_fine_accuracy: 0.9026\n",
      "1. loss ==> 0.03737586364150047\n",
      "2. prediction_coarse_loss ==> 0.0104169687256217\n",
      "3. prediction_medium_loss ==> 0.04903430491685867\n",
      "4. prediction_fine_loss ==> 0.07275364547967911\n",
      "5. prediction_coarse_accuracy ==> 0.9876000285148621\n",
      "6. prediction_medium_accuracy ==> 0.9336000084877014\n",
      "7. prediction_fine_accuracy ==> 0.9025999903678894\n",
      "313/313 [==============================] - 3s 7ms/step\n"
     ]
    },
    {
     "name": "stderr",
     "output_type": "stream",
     "text": [
      "Clipping input data to the valid range for imshow with RGB data ([0..1] for floats or [0..255] for integers).\n",
      "Clipping input data to the valid range for imshow with RGB data ([0..1] for floats or [0..255] for integers).\n",
      "Clipping input data to the valid range for imshow with RGB data ([0..1] for floats or [0..255] for integers).\n",
      "Clipping input data to the valid range for imshow with RGB data ([0..1] for floats or [0..255] for integers).\n",
      "Clipping input data to the valid range for imshow with RGB data ([0..1] for floats or [0..255] for integers).\n",
      "Clipping input data to the valid range for imshow with RGB data ([0..1] for floats or [0..255] for integers).\n",
      "Clipping input data to the valid range for imshow with RGB data ([0..1] for floats or [0..255] for integers).\n",
      "Clipping input data to the valid range for imshow with RGB data ([0..1] for floats or [0..255] for integers).\n",
      "Clipping input data to the valid range for imshow with RGB data ([0..1] for floats or [0..255] for integers).\n",
      "Clipping input data to the valid range for imshow with RGB data ([0..1] for floats or [0..255] for integers).\n"
     ]
    },
    {
     "data": {
      "image/png": "[encoded data removed]",
      "text/plain": [
       "<Figure size 1440x1440 with 10 Axes>"
      ]
     },
     "metadata": {},
     "output_type": "display_data"
    }
   ],
   "source": [
    "model_analysis = models.model_analysis(final_model, dataset)\n",
    "results = model_analysis.evaluate()\n",
    "predictions = model_analysis.prediction()"
   ]
  },
  {
   "cell_type": "code",
   "execution_count": 21,
   "id": "22e8e211",
   "metadata": {
    "execution": {
     "iopub.execute_input": "2024-01-19T07:29:39.105165Z",
     "iopub.status.busy": "2024-01-19T07:29:39.105165Z",
     "iopub.status.idle": "2024-01-19T07:29:41.422162Z",
     "shell.execute_reply": "2024-01-19T07:29:41.421160Z"
    }
   },
   "outputs": [
    {
     "name": "stdout",
     "output_type": "stream",
     "text": [
      "\u001b[91m \u001b[1m • Confusion_Matrix Level = 0 \u001b[0m\n"
     ]
    },
    {
     "data": {
      "image/png": "[encoded data removed]",
      "text/plain": [
       "<Figure size 504x504 with 2 Axes>"
      ]
     },
     "metadata": {
      "needs_background": "light"
     },
     "output_type": "display_data"
    },
    {
     "name": "stdout",
     "output_type": "stream",
     "text": [
      "\n",
      "\u001b[91m \u001b[1m • Classification Report for Level = 0 \u001b[0m\n",
      "\n",
      "              precision    recall  f1-score   support\n",
      "\n",
      "           0    0.98353   0.98550   0.98452      4000\n",
      "           1    0.99032   0.98900   0.98966      6000\n",
      "\n",
      "    accuracy                        0.98760     10000\n",
      "   macro avg    0.98693   0.98725   0.98709     10000\n",
      "weighted avg    0.98761   0.98760   0.98760     10000\n",
      "\n",
      "\u001b[91m \u001b[1m • Confusion_Matrix Level = 1 \u001b[0m\n"
     ]
    },
    {
     "data": {
      "image/png": "[encoded data removed]",
      "text/plain": [
       "<Figure size 504x504 with 2 Axes>"
      ]
     },
     "metadata": {
      "needs_background": "light"
     },
     "output_type": "display_data"
    },
    {
     "name": "stdout",
     "output_type": "stream",
     "text": [
      "\n",
      "\u001b[91m \u001b[1m • Classification Report for Level = 1 \u001b[0m\n",
      "\n",
      "              precision    recall  f1-score   support\n",
      "\n",
      "           0    0.91096   0.93100   0.92087      1000\n",
      "           1    0.95403   0.93400   0.94391      1000\n",
      "           2    0.97324   0.98200   0.97760      2000\n",
      "           3    0.88900   0.85700   0.87271      1000\n",
      "           4    0.91371   0.95300   0.93294      1000\n",
      "           5    0.91952   0.91400   0.91675      2000\n",
      "           6    0.94109   0.93450   0.93778      2000\n",
      "\n",
      "    accuracy                        0.93360     10000\n",
      "   macro avg    0.92879   0.92936   0.92894     10000\n",
      "weighted avg    0.93354   0.93360   0.93347     10000\n",
      "\n",
      "\u001b[91m \u001b[1m • Confusion_Matrix Level = 2 \u001b[0m\n"
     ]
    },
    {
     "data": {
      "image/png": "[encoded data removed]",
      "text/plain": [
       "<Figure size 504x504 with 2 Axes>"
      ]
     },
     "metadata": {
      "needs_background": "light"
     },
     "output_type": "display_data"
    },
    {
     "name": "stdout",
     "output_type": "stream",
     "text": [
      "\n",
      "\u001b[91m \u001b[1m • Classification Report for Level = 2 \u001b[0m\n",
      "\n",
      "              precision    recall  f1-score   support\n",
      "\n",
      "           0    0.90476   0.93100   0.91769      1000\n",
      "           1    0.93756   0.96100   0.94914      1000\n",
      "           2    0.87652   0.86600   0.87123      1000\n",
      "           3    0.79167   0.79800   0.79482      1000\n",
      "           4    0.91405   0.90400   0.90900      1000\n",
      "           5    0.85565   0.81800   0.83640      1000\n",
      "           6    0.90684   0.95400   0.92982      1000\n",
      "           7    0.94135   0.93100   0.93615      1000\n",
      "           8    0.95316   0.93600   0.94450      1000\n",
      "           9    0.94399   0.92700   0.93542      1000\n",
      "\n",
      "    accuracy                        0.90260     10000\n",
      "   macro avg    0.90256   0.90260   0.90242     10000\n",
      "weighted avg    0.90256   0.90260   0.90242     10000\n",
      "\n"
     ]
    }
   ],
   "source": [
    "true_label = [dataset['y_test_coarse'],dataset['y_test_medium'],dataset['y_test_fine']]\n",
    "pred_label = [predictions[0],predictions[1],predictions[2]]\n",
    "metrics.lvl_wise_metric(true_label,pred_label,directory)"
   ]
  },
  {
   "cell_type": "code",
   "execution_count": 22,
   "id": "1f34a20d",
   "metadata": {
    "execution": {
     "iopub.execute_input": "2024-01-19T07:29:41.427164Z",
     "iopub.status.busy": "2024-01-19T07:29:41.427164Z",
     "iopub.status.idle": "2024-01-19T07:29:43.452685Z",
     "shell.execute_reply": "2024-01-19T07:29:43.453685Z"
    }
   },
   "outputs": [
    {
     "data": {
      "text/html": [
       "<div>\n",
       "<style scoped>\n",
       "    .dataframe tbody tr th:only-of-type {\n",
       "        vertical-align: middle;\n",
       "    }\n",
       "\n",
       "    .dataframe tbody tr th {\n",
       "        vertical-align: top;\n",
       "    }\n",
       "\n",
       "    .dataframe thead th {\n",
       "        text-align: right;\n",
       "    }\n",
       "</style>\n",
       "<table border=\"1\" class=\"dataframe\">\n",
       "  <thead>\n",
       "    <tr style=\"text-align: right;\">\n",
       "      <th></th>\n",
       "      <th>Value</th>\n",
       "    </tr>\n",
       "  </thead>\n",
       "  <tbody>\n",
       "    <tr>\n",
       "      <th>Dataset</th>\n",
       "      <td>CIFAR-10</td>\n",
       "    </tr>\n",
       "    <tr>\n",
       "      <th>Model</th>\n",
       "      <td>HD-CapsNet</td>\n",
       "    </tr>\n",
       "    <tr>\n",
       "      <th>Accuracy L_0</th>\n",
       "      <td>0.9876</td>\n",
       "    </tr>\n",
       "    <tr>\n",
       "      <th>Accuracy L_1</th>\n",
       "      <td>0.9336</td>\n",
       "    </tr>\n",
       "    <tr>\n",
       "      <th>Accuracy L_2</th>\n",
       "      <td>0.9026</td>\n",
       "    </tr>\n",
       "    <tr>\n",
       "      <th>HarmonicM_Accuracy_k1</th>\n",
       "      <td>0.939971</td>\n",
       "    </tr>\n",
       "    <tr>\n",
       "      <th>HarmonicM_Accuracy_k2</th>\n",
       "      <td>0.977528</td>\n",
       "    </tr>\n",
       "    <tr>\n",
       "      <th>HarmonicM_Accuracy_k5</th>\n",
       "      <td>0.992051</td>\n",
       "    </tr>\n",
       "    <tr>\n",
       "      <th>ArithmeticM_Accuracy_k1</th>\n",
       "      <td>0.941267</td>\n",
       "    </tr>\n",
       "    <tr>\n",
       "      <th>ArithmeticM_Accuracy_k2</th>\n",
       "      <td>0.977833</td>\n",
       "    </tr>\n",
       "    <tr>\n",
       "      <th>ArithmeticM_Accuracy_k5</th>\n",
       "      <td>0.9921</td>\n",
       "    </tr>\n",
       "    <tr>\n",
       "      <th>Harmonic_mAP_Score</th>\n",
       "      <td>0.972158</td>\n",
       "    </tr>\n",
       "    <tr>\n",
       "      <th>Arithmetic_mAP_Score</th>\n",
       "      <td>0.972609</td>\n",
       "    </tr>\n",
       "    <tr>\n",
       "      <th>hP</th>\n",
       "      <td>0.940902</td>\n",
       "    </tr>\n",
       "    <tr>\n",
       "      <th>hR</th>\n",
       "      <td>0.942967</td>\n",
       "    </tr>\n",
       "    <tr>\n",
       "      <th>hF1</th>\n",
       "      <td>0.941763</td>\n",
       "    </tr>\n",
       "    <tr>\n",
       "      <th>consistency</th>\n",
       "      <td>0.9894</td>\n",
       "    </tr>\n",
       "    <tr>\n",
       "      <th>exact_match</th>\n",
       "      <td>0.8985</td>\n",
       "    </tr>\n",
       "  </tbody>\n",
       "</table>\n",
       "</div>"
      ],
      "text/plain": [
       "                              Value\n",
       "Dataset                    CIFAR-10\n",
       "Model                    HD-CapsNet\n",
       "Accuracy L_0                 0.9876\n",
       "Accuracy L_1                 0.9336\n",
       "Accuracy L_2                 0.9026\n",
       "HarmonicM_Accuracy_k1      0.939971\n",
       "HarmonicM_Accuracy_k2      0.977528\n",
       "HarmonicM_Accuracy_k5      0.992051\n",
       "ArithmeticM_Accuracy_k1    0.941267\n",
       "ArithmeticM_Accuracy_k2    0.977833\n",
       "ArithmeticM_Accuracy_k5      0.9921\n",
       "Harmonic_mAP_Score         0.972158\n",
       "Arithmetic_mAP_Score       0.972609\n",
       "hP                         0.940902\n",
       "hR                         0.942967\n",
       "hF1                        0.941763\n",
       "consistency                  0.9894\n",
       "exact_match                  0.8985"
      ]
     },
     "metadata": {},
     "output_type": "display_data"
    }
   ],
   "source": [
    "h_measurements,consistency,exact_match, get_performance_report = metrics.hmeasurements(true_label, pred_label, dataset['tree'])\n",
    "\n",
    "get_performance_report = {**{'Dataset': dataset['name'],\n",
    "                             'Model': 'HD-CapsNet'},\n",
    "                             **get_performance_report\n",
    "                             } # merging two dictionaries (adding Dataset and Model name)\n",
    "performance_metrics = pd.DataFrame(pd.DataFrame(get_performance_report.values(), get_performance_report.keys(), columns = ['Value']))\n",
    "performance_metrics.to_csv(os.path.join(directory,'performance_metrics.csv'))\n",
    "display(performance_metrics)"
   ]
  },
  {
   "cell_type": "code",
   "execution_count": null,
   "id": "05e4ed43",
   "metadata": {},
   "outputs": [],
   "source": []
  },
  {
   "cell_type": "code",
   "execution_count": null,
   "id": "e3d06b7b",
   "metadata": {},
   "outputs": [],
   "source": []
  }
 ],
 "metadata": {
  "kernelspec": {
   "display_name": "Python 3 (ipykernel)",
   "language": "python",
   "name": "python3"
  },
  "language_info": {
   "codemirror_mode": {
    "name": "ipython",
    "version": 3
   },
   "file_extension": ".py",
   "mimetype": "text/x-python",
   "name": "python",
   "nbconvert_exporter": "python",
   "pygments_lexer": "ipython3",
   "version": "3.8.12"
  },
  "toc": {
   "base_numbering": 1,
   "nav_menu": {},
   "number_sections": true,
   "sideBar": true,
   "skip_h1_title": false,
   "title_cell": "Table of Contents",
   "title_sidebar": "Contents",
   "toc_cell": false,
   "toc_position": {
    "height": "calc(100% - 180px)",
    "left": "10px",
    "top": "150px",
    "width": "336px"
   },
   "toc_section_display": true,
   "toc_window_display": true
  }
 },
 "nbformat": 4,
 "nbformat_minor": 5
}
