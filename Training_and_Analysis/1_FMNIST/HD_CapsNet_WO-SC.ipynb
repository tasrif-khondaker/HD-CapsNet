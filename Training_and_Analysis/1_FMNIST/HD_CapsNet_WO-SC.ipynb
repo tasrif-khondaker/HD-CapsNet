{
 "cells": [
  {
   "cell_type": "markdown",
   "id": "6b24df6d",
   "metadata": {},
   "source": [
    "***\n",
    "<font size=\"6\"><center><b> HD-CapsNet: A Hierarchical Deep Capsule Network for Image Classification </b></center></font>\n",
    "***"
   ]
  },
  {
   "cell_type": "markdown",
   "id": "f691c83f",
   "metadata": {},
   "source": [
    "**Changing Model Architecture**\n",
    "- **(Mod-3.1)** 32-D>16-D>8-D (Coarse>Medium>FINE) use skip connections between Secondary Capsules $Concatenate([P_{caps}, S_{coarse}])$ > input for $S_{medium}$ and $Concatenate([P_{caps}, S_{medium}])$ > input for $S_{fine}$\n",
    "- With $L_{Cons}$"
   ]
  },
  {
   "cell_type": "markdown",
   "id": "9ae9d6d5",
   "metadata": {},
   "source": [
    "# Files and Libraries"
   ]
  },
  {
   "cell_type": "code",
   "execution_count": 1,
   "id": "bc4aa737",
   "metadata": {
    "execution": {
     "iopub.execute_input": "2024-01-19T07:23:51.757947Z",
     "iopub.status.busy": "2024-01-19T07:23:51.756947Z",
     "iopub.status.idle": "2024-01-19T07:24:00.425991Z",
     "shell.execute_reply": "2024-01-19T07:24:00.424993Z"
    }
   },
   "outputs": [],
   "source": [
    "import tensorflow as tf\n",
    "from tensorflow import keras\n",
    "from tensorflow.keras.preprocessing.image import ImageDataGenerator\n",
    "from tensorflow.keras.models import Sequential\n",
    "from tensorflow.keras.layers import Dense, Activation, Flatten, Dropout, BatchNormalization\n",
    "from tensorflow.keras.layers import Conv2D, MaxPooling2D\n",
    "from tensorflow.keras import regularizers, optimizers\n",
    "from tensorflow.keras import backend as K\n",
    "\n",
    "import tensorflow_docs as tfdocs\n",
    "import tensorflow_docs.plots\n",
    "\n",
    "# Supporting Libraries:\n",
    "    #Mathplot lib for ploting graphs\n",
    "%matplotlib inline\n",
    "import matplotlib\n",
    "import matplotlib.pyplot as plt\n",
    "    # numpy and pandas\n",
    "import numpy as np\n",
    "import pandas as pd\n",
    "    #system\n",
    "import os\n",
    "import sys\n",
    "import csv\n",
    "    #import other libraries\n",
    "import math\n",
    "import random\n",
    "from datetime import datetime\n",
    "from treelib import Tree\n",
    "    # ML model, Dataset and evalution metrics\n",
    "sys.path.append('../../') ### adding system parth for src folder\n",
    "from src import datasets # load datasets\n",
    "from src import MixUp # load datasets\n",
    "from src import MixUp_add_loss # load datasets\n",
    "from src import metrics # load hierarchcial metrics\n",
    "from src import sysenv # load hierarchcial metrics\n",
    "from src import models # load machine learning models\n",
    "\n",
    "    ## Tensorflow_docs\n",
    "import tensorflow_docs as tfdocs\n",
    "import tensorflow_docs.plots\n",
    "\n",
    "    # Auto reload local libraries if updated\n",
    "%load_ext autoreload\n",
    "%autoreload 2"
   ]
  },
  {
   "cell_type": "markdown",
   "id": "3c2c610b",
   "metadata": {},
   "source": [
    "# System information & GPU growth"
   ]
  },
  {
   "cell_type": "code",
   "execution_count": 2,
   "id": "506c959d",
   "metadata": {
    "execution": {
     "iopub.execute_input": "2024-01-19T07:24:00.430993Z",
     "iopub.status.busy": "2024-01-19T07:24:00.429992Z",
     "iopub.status.idle": "2024-01-19T07:24:00.785999Z",
     "shell.execute_reply": "2024-01-19T07:24:00.786996Z"
    }
   },
   "outputs": [
    {
     "name": "stdout",
     "output_type": "stream",
     "text": [
      "\u001b[91m\u001b[1m\n",
      "• Computer Name = \u001b[0m30BFPC1AXW95\u001b[91m\u001b[1m\n",
      "• Working Directory = \u001b[0mC:\\Users\\knoor\\Downloads\\temp\\HD-CapsNet\\Training_and_Analysis\\1_FMNIST\u001b[91m\u001b[1m\n",
      "• Python Version = \u001b[0m3.8.12 (default, Oct 12 2021, 03:01:40) [MSC v.1916 64 bit (AMD64)]\u001b[91m\u001b[1m\n",
      "• TensorFlow Version = \u001b[0m2.8.0\u001b[91m\u001b[1m\n",
      "• Keras Version = \u001b[0m2.8.0\u001b[91m\u001b[1m\n",
      "• Current Environment = \u001b[0mAnaconda Environment Name : py38tf\n"
     ]
    }
   ],
   "source": [
    "systeminfo = sysenv.systeminfo()\n",
    "print(systeminfo)"
   ]
  },
  {
   "cell_type": "code",
   "execution_count": 3,
   "id": "832d5a45",
   "metadata": {
    "execution": {
     "iopub.execute_input": "2024-01-19T07:24:00.794999Z",
     "iopub.status.busy": "2024-01-19T07:24:00.792998Z",
     "iopub.status.idle": "2024-01-19T07:24:02.164992Z",
     "shell.execute_reply": "2024-01-19T07:24:02.164992Z"
    }
   },
   "outputs": [
    {
     "name": "stdout",
     "output_type": "stream",
     "text": [
      "Following GPUS are selected =  0\n",
      "Done: GPU PhysicalDevice(name='/physical_device:GPU:0', device_type='GPU')\n",
      "1 Physical GPUs, 1 Logical GPUs\n"
     ]
    }
   ],
   "source": [
    "gpus = \"0,1,2,3,4,5,6,7\" ## Selecting Available gpus (Multi-GPUS)\n",
    "gpus = \"0\" ## Selecting Available gpus (Single GPU)\n",
    "gpugrowth = sysenv.gpugrowth(gpus = gpus) ## Limiting GPUS from OS environment\n",
    "gpugrowth.memory_growth() #GPU memory growth"
   ]
  },
  {
   "cell_type": "markdown",
   "id": "cd551837",
   "metadata": {},
   "source": [
    "# Parameters"
   ]
  },
  {
   "cell_type": "code",
   "execution_count": 4,
   "id": "445ee1d5",
   "metadata": {
    "execution": {
     "iopub.execute_input": "2024-01-19T07:24:02.172990Z",
     "iopub.status.busy": "2024-01-19T07:24:02.171991Z",
     "iopub.status.idle": "2024-01-19T07:24:02.571988Z",
     "shell.execute_reply": "2024-01-19T07:24:02.572988Z"
    }
   },
   "outputs": [],
   "source": [
    "train_params = {\"n_epochs\" : 100,\n",
    "                \"batch_size\": 64,\n",
    "                \"lr\": 0.001, # Initial learning rate\n",
    "                \"lr_decay\": 0.95, # Learning rate decay\n",
    "                \"decay_exe\": 9, #learning rate decay execution epoch after\n",
    "               }\n",
    "model_params = {\"optimizer\": tf.keras.optimizers.Adam(train_params['lr']),\n",
    "                \"loss_function\": models.MarginLoss(),\n",
    "               }"
   ]
  },
  {
   "cell_type": "markdown",
   "id": "ad98815c",
   "metadata": {},
   "source": [
    "# log directory"
   ]
  },
  {
   "cell_type": "code",
   "execution_count": 5,
   "id": "63ace371",
   "metadata": {
    "execution": {
     "iopub.execute_input": "2024-01-19T07:24:02.577991Z",
     "iopub.status.busy": "2024-01-19T07:24:02.576988Z",
     "iopub.status.idle": "2024-01-19T07:24:02.964987Z",
     "shell.execute_reply": "2024-01-19T07:24:02.964987Z"
    },
    "scrolled": true
   },
   "outputs": [
    {
     "name": "stdout",
     "output_type": "stream",
     "text": [
      "Warning: Folder already exist.\n"
     ]
    }
   ],
   "source": [
    "directory = sysenv.log_dir('2_FMNIST/HD_CapsNet/HD_CapsNet_WO-SC')"
   ]
  },
  {
   "cell_type": "markdown",
   "id": "9cfde972",
   "metadata": {},
   "source": [
    "# Import Dataset : FMNIST"
   ]
  },
  {
   "cell_type": "code",
   "execution_count": 6,
   "id": "4714d33f",
   "metadata": {
    "execution": {
     "iopub.execute_input": "2024-01-19T07:24:02.969987Z",
     "iopub.status.busy": "2024-01-19T07:24:02.968986Z",
     "iopub.status.idle": "2024-01-19T07:24:04.824984Z",
     "shell.execute_reply": "2024-01-19T07:24:04.824984Z"
    }
   },
   "outputs": [
    {
     "name": "stdout",
     "output_type": "stream",
     "text": [
      "Fashion-MNIST dataset: Training have 60,000 samples and testing have 10,000 samples\n"
     ]
    }
   ],
   "source": [
    "dataset = datasets.F_MNIST(version = 'ALL') # importing Fashion MNIST Dataset\n",
    "# dataset = datasets.F_MNIST(version = 'reduce') # importing Fashion MNIST Dataset"
   ]
  },
  {
   "cell_type": "markdown",
   "id": "3f38ee07",
   "metadata": {},
   "source": [
    "## Learning Rate Decay Scheduler"
   ]
  },
  {
   "cell_type": "code",
   "execution_count": 7,
   "id": "3ed77d4a",
   "metadata": {
    "execution": {
     "iopub.execute_input": "2024-01-19T07:24:04.830985Z",
     "iopub.status.busy": "2024-01-19T07:24:04.830985Z",
     "iopub.status.idle": "2024-01-19T07:24:05.216983Z",
     "shell.execute_reply": "2024-01-19T07:24:05.216983Z"
    }
   },
   "outputs": [],
   "source": [
    "def scheduler(epoch):\n",
    "    learning_rate_init = train_params[\"lr\"]\n",
    "    \n",
    "    if epoch > train_params[\"decay_exe\"]:\n",
    "        learning_rate_init = train_params[\"lr\"] * (train_params[\"lr_decay\"] ** (epoch-9))\n",
    "        \n",
    "    tf.summary.scalar('learning rate', data=learning_rate_init, step=epoch)\n",
    "        \n",
    "    return learning_rate_init"
   ]
  },
  {
   "cell_type": "markdown",
   "id": "dfc5ea00",
   "metadata": {},
   "source": [
    "# Model Architecture"
   ]
  },
  {
   "cell_type": "markdown",
   "id": "dee6349a",
   "metadata": {},
   "source": [
    "## Loss Function"
   ]
  },
  {
   "cell_type": "code",
   "execution_count": 8,
   "id": "215a7b0c",
   "metadata": {
    "execution": {
     "iopub.execute_input": "2024-01-19T07:24:05.222983Z",
     "iopub.status.busy": "2024-01-19T07:24:05.221981Z",
     "iopub.status.idle": "2024-01-19T07:24:05.562982Z",
     "shell.execute_reply": "2024-01-19T07:24:05.562982Z"
    }
   },
   "outputs": [],
   "source": [
    "number_of_classes_c = len(np.unique(np.argmax(dataset['y_train_coarse'], axis=1)))\n",
    "number_of_classes_m = len(np.unique(np.argmax(dataset['y_train_medium'], axis=1)))\n",
    "number_of_classes_f = len(np.unique(np.argmax(dataset['y_train_fine'], axis=1)))\n",
    "\n",
    "## For Dynamic LossWeights\n",
    "initial_lw = models.initial_lw({\"coarse\": number_of_classes_c,\n",
    "                                \"medium\": number_of_classes_m,\n",
    "                                \"fine\": number_of_classes_f})\n",
    "\n",
    "lossweight = {'coarse_lw' : K.variable(value = initial_lw['coarse'], dtype=\"float32\", name=\"coarse_lw\"),\n",
    "             'medium_lw' : K.variable(value = initial_lw['medium'], dtype=\"float32\", name=\"medium_lw\"),\n",
    "             'fine_lw' : K.variable(value = initial_lw['fine'], dtype=\"float32\", name=\"fine_lw\"),\n",
    "              'decoder_lw' : 0.0\n",
    "             }"
   ]
  },
  {
   "cell_type": "code",
   "execution_count": 9,
   "id": "c9a92ef5",
   "metadata": {
    "execution": {
     "iopub.execute_input": "2024-01-19T07:24:05.569981Z",
     "iopub.status.busy": "2024-01-19T07:24:05.569981Z",
     "iopub.status.idle": "2024-01-19T07:24:05.934980Z",
     "shell.execute_reply": "2024-01-19T07:24:05.934980Z"
    }
   },
   "outputs": [],
   "source": [
    "coarse_to_medium_array = np.zeros(shape=[number_of_classes_c,number_of_classes_m], dtype=np.int32)\n",
    "medium_to_fine_array = np.zeros(shape=[number_of_classes_m,number_of_classes_f], dtype=np.int32)\n",
    "\n",
    "c_id = np.argmax(dataset['y_train_coarse'],1)\n",
    "\n",
    "m_id = np.argmax(dataset['y_train_medium'],1)\n",
    "\n",
    "f_id = np.argmax(dataset['y_train_fine'],1)\n",
    "\n",
    "for x in range(len(dataset['y_test_medium'])):\n",
    "    coarse_to_medium_array[c_id[x]][m_id[x]] = 1\n",
    "    \n",
    "for x in range(len(dataset['y_test_fine'])):\n",
    "    medium_to_fine_array[m_id[x]][f_id[x]] = 1\n",
    "\n",
    "Matrix_coarse_to_medium_OneHot = tf.constant(coarse_to_medium_array, dtype=tf.float32)\n",
    "Matrix_medium_to_fine_OneHot = tf.constant(medium_to_fine_array, dtype=tf.float32)"
   ]
  },
  {
   "cell_type": "code",
   "execution_count": 10,
   "id": "796bab2a",
   "metadata": {
    "execution": {
     "iopub.execute_input": "2024-01-19T07:24:05.944980Z",
     "iopub.status.busy": "2024-01-19T07:24:05.944980Z",
     "iopub.status.idle": "2024-01-19T07:24:06.310979Z",
     "shell.execute_reply": "2024-01-19T07:24:06.310979Z"
    }
   },
   "outputs": [],
   "source": [
    "def margin_loss(y_true, y_proba):\n",
    "    \n",
    "    present_error_raw = tf.square(tf.maximum(0., 0.9 - y_proba), name=\"present_error_raw\")\n",
    "    absent_error_raw = tf.square(tf.maximum(0., y_proba - 0.1), name=\"absent_error_raw\")\n",
    "    L = tf.add(y_true * present_error_raw, 0.5 * (1.0 - y_true) * absent_error_raw,name=\"L\")\n",
    "    total_marginloss = tf.reduce_sum(L, axis=1, name=\"margin_loss\")\n",
    "\n",
    "    return total_marginloss\n",
    "\n",
    "\n",
    "def consistency_check(y_pred_ancestor,y_pred_current,lookup_matrix,num_class_current):\n",
    "    pred_max_ancestor = tf.argmax(y_pred_ancestor,axis=1)\n",
    "    pred_max_current = tf.argmax(y_pred_current,axis=1)\n",
    "    \n",
    "    consistant_check = tf.gather(lookup_matrix, indices=pred_max_ancestor)*tf.one_hot(pred_max_current,num_class_current)\n",
    "    \n",
    "    return tf.reduce_sum(consistant_check,1)\n",
    "\n",
    "def get_consistency(y_true_ancestor, y_pred, lookup_matrix):\n",
    "    '''\n",
    "    Get consistency based on 2 levels\n",
    "    Provide ture levels for the level above, predictions for the current level and a look up metrix\n",
    "    '''\n",
    "    y_prob = tf.math.divide(y_pred,tf.reshape(tf.reduce_sum(y_pred,-1),(-1,1),name='reshape'),name='Probability')\n",
    "    \n",
    "    index_for_predictions = tf.cast(tf.math.argmax(y_true_ancestor,axis=1),dtype= 'int32')\n",
    "    consistent_fine = tf.gather(lookup_matrix, indices=index_for_predictions) * y_prob\n",
    "    Consistency_sum_array = tf.reduce_sum(consistent_fine, axis =1)\n",
    "    \n",
    "    return tf.abs(1-Consistency_sum_array)\n",
    "\n",
    "def CustomLoss(y_true_c, y_true_m, y_true_f, y_pred_c, y_pred_m, y_pred_f, LW_C, LW_M, LW_F,\n",
    "               number_of_classes_m, number_of_classes_f, C_Weight=0.2):\n",
    "    \n",
    "    con_m = consistency_check(y_pred_c,y_pred_m,Matrix_coarse_to_medium_OneHot,num_class_current=number_of_classes_m)\n",
    "    con_m_not = tf.abs(con_m-1)\n",
    "    \n",
    "    con_f = consistency_check(y_pred_m,y_pred_f,Matrix_medium_to_fine_OneHot,num_class_current=number_of_classes_f)\n",
    "    con_f_not = tf.abs(con_f-1)\n",
    "    \n",
    "    con_sum_m = get_consistency(y_true_c,y_pred_m,Matrix_coarse_to_medium_OneHot)\n",
    "    con_sum_f = get_consistency(y_true_m,y_pred_f,Matrix_medium_to_fine_OneHot)\n",
    "    \n",
    "    medium_lvl_cosistency = con_sum_m * con_m_not\n",
    "    fine_lvl_cosistency = con_sum_f * con_f_not    \n",
    "   \n",
    "    ML_c = margin_loss(y_true_c, y_pred_c)*LW_C\n",
    "    ML_m = LW_M*((1-C_Weight)*(margin_loss(y_true_m, y_pred_m))+C_Weight*(medium_lvl_cosistency))\n",
    "    ML_f = LW_F*((1-C_Weight)*(margin_loss(y_true_f, y_pred_f))+C_Weight*(fine_lvl_cosistency))\n",
    "    \n",
    "    batch_loss = ML_c + ML_m+ ML_f\n",
    "\n",
    "    return tf.reduce_mean(batch_loss)"
   ]
  },
  {
   "cell_type": "markdown",
   "id": "6a497572",
   "metadata": {},
   "source": [
    "## Architecture"
   ]
  },
  {
   "cell_type": "code",
   "execution_count": 11,
   "id": "f935c049",
   "metadata": {
    "execution": {
     "iopub.execute_input": "2024-01-19T07:24:06.318982Z",
     "iopub.status.busy": "2024-01-19T07:24:06.317981Z",
     "iopub.status.idle": "2024-01-19T07:24:06.654985Z",
     "shell.execute_reply": "2024-01-19T07:24:06.654985Z"
    }
   },
   "outputs": [],
   "source": [
    "def get_compiled_model():\n",
    "    \n",
    "    ## Calling the HD-CapsNet Model\n",
    "    model = models.HD_CapsNet_without_skip(input_shape     = dataset['x_train'].shape[1:], \n",
    "                                            input_shape_yc  = dataset['y_train_coarse'].shape[1:],\n",
    "                                            input_shape_ym  = dataset['y_train_medium'].shape[1:],\n",
    "                                            input_shape_yf  = dataset['y_train_fine'].shape[1:], \n",
    "                                            no_coarse_class = number_of_classes_c, \n",
    "                                            no_medium_class = number_of_classes_m, \n",
    "                                            no_fine_class   = number_of_classes_f,\n",
    "                                            PCap_n_dims     = 8, \n",
    "                                            SCap_f_dims     = 8, \n",
    "                                            SCap_m_dims     = 16, \n",
    "                                            SCap_c_dims     = 32\n",
    "                                            )\n",
    "    \n",
    "    ## Saving Model Architecture\n",
    "    keras.utils.plot_model(model, to_file = directory+\"/Architecture.png\", show_shapes=True)\n",
    "    \n",
    "    ## Add Loss for Model\n",
    "    model.add_loss(CustomLoss(y_true_c            = model.inputs[1], \n",
    "                              y_true_m            = model.inputs[2], \n",
    "                              y_true_f            = model.inputs[3], \n",
    "                              y_pred_c            = model.output[0], \n",
    "                              y_pred_m            = model.output[1], \n",
    "                              y_pred_f            = model.output[2], \n",
    "                              LW_C                = lossweight['coarse_lw'], \n",
    "                              LW_M                = lossweight['medium_lw'], \n",
    "                              LW_F                = lossweight['fine_lw'],\n",
    "                              number_of_classes_m = number_of_classes_m, \n",
    "                              number_of_classes_f = number_of_classes_f, \n",
    "                              C_Weight            =0.2\n",
    "                              )\n",
    "                  )\n",
    "    \n",
    "    ## Compile Model\n",
    "    model.compile(optimizer='adam',                  \n",
    "                  metrics={'prediction_fine': 'accuracy',\n",
    "                           'prediction_medium': 'accuracy',\n",
    "                           'prediction_coarse': 'accuracy'}\n",
    "                 )\n",
    "    return model"
   ]
  },
  {
   "cell_type": "markdown",
   "id": "86393b7d",
   "metadata": {},
   "source": [
    "## Compile Model"
   ]
  },
  {
   "cell_type": "code",
   "execution_count": 12,
   "id": "19234f8b",
   "metadata": {
    "execution": {
     "iopub.execute_input": "2024-01-19T07:24:06.658981Z",
     "iopub.status.busy": "2024-01-19T07:24:06.658981Z",
     "iopub.status.idle": "2024-01-19T07:24:09.603972Z",
     "shell.execute_reply": "2024-01-19T07:24:09.604973Z"
    }
   },
   "outputs": [
    {
     "name": "stdout",
     "output_type": "stream",
     "text": [
      "WARNING:tensorflow:The following Variables were used in a Lambda layer's call (tf.math.multiply_9), but are not present in its tracked objects:   <tf.Variable 'coarse_lw:0' shape=() dtype=float32>. This is a strong indication that the Lambda layer should be rewritten as a subclassed Layer.\n"
     ]
    }
   ],
   "source": [
    "model = get_compiled_model()"
   ]
  },
  {
   "cell_type": "raw",
   "id": "7fafa5af",
   "metadata": {},
   "source": [
    "strategy = models.multi_gpu_select('windows')\n",
    "\n",
    "print(\"Number of devices: {}\".format(strategy.num_replicas_in_sync))\n",
    "\n",
    "with strategy.scope():\n",
    "    # Everything that creates variables should be under the strategy scope.\n",
    "    # In general this is only model construction & `compile()`.\n",
    "    model = get_compiled_model()"
   ]
  },
  {
   "cell_type": "code",
   "execution_count": 13,
   "id": "a1e4b982",
   "metadata": {
    "execution": {
     "iopub.execute_input": "2024-01-19T07:24:09.611971Z",
     "iopub.status.busy": "2024-01-19T07:24:09.610971Z",
     "iopub.status.idle": "2024-01-19T07:24:10.402972Z",
     "shell.execute_reply": "2024-01-19T07:24:10.403972Z"
    },
    "scrolled": true
   },
   "outputs": [
    {
     "name": "stdout",
     "output_type": "stream",
     "text": [
      "Model: \"HD-CapsNet\"\n",
      "__________________________________________________________________________________________________\n",
      " Layer (type)                   Output Shape         Param #     Connected to                     \n",
      "==================================================================================================\n",
      " Input_Image (InputLayer)       [(None, 28, 28, 1)]  0           []                               \n",
      "                                                                                                  \n",
      " block1_conv1 (Conv2D)          (None, 28, 28, 64)   640         ['Input_Image[0][0]']            \n",
      "                                                                                                  \n",
      " batch_normalization (BatchNorm  (None, 28, 28, 64)  256         ['block1_conv1[0][0]']           \n",
      " alization)                                                                                       \n",
      "                                                                                                  \n",
      " block1_conv2 (Conv2D)          (None, 28, 28, 64)   36928       ['batch_normalization[0][0]']    \n",
      "                                                                                                  \n",
      " batch_normalization_1 (BatchNo  (None, 28, 28, 64)  256         ['block1_conv2[0][0]']           \n",
      " rmalization)                                                                                     \n",
      "                                                                                                  \n",
      " block1_pool (MaxPooling2D)     (None, 14, 14, 64)   0           ['batch_normalization_1[0][0]']  \n",
      "                                                                                                  \n",
      " block2_conv1 (Conv2D)          (None, 14, 14, 128)  73856       ['block1_pool[0][0]']            \n",
      "                                                                                                  \n",
      " batch_normalization_2 (BatchNo  (None, 14, 14, 128)  512        ['block2_conv1[0][0]']           \n",
      " rmalization)                                                                                     \n",
      "                                                                                                  \n",
      " block2_conv2 (Conv2D)          (None, 14, 14, 128)  147584      ['batch_normalization_2[0][0]']  \n",
      "                                                                                                  \n",
      " batch_normalization_3 (BatchNo  (None, 14, 14, 128)  512        ['block2_conv2[0][0]']           \n",
      " rmalization)                                                                                     \n",
      "                                                                                                  \n",
      " block2_pool (MaxPooling2D)     (None, 7, 7, 128)    0           ['batch_normalization_3[0][0]']  \n",
      "                                                                                                  \n",
      " block3_conv1 (Conv2D)          (None, 7, 7, 256)    295168      ['block2_pool[0][0]']            \n",
      "                                                                                                  \n",
      " batch_normalization_4 (BatchNo  (None, 7, 7, 256)   1024        ['block3_conv1[0][0]']           \n",
      " rmalization)                                                                                     \n",
      "                                                                                                  \n",
      " block3_conv2 (Conv2D)          (None, 7, 7, 256)    590080      ['batch_normalization_4[0][0]']  \n",
      "                                                                                                  \n",
      " batch_normalization_5 (BatchNo  (None, 7, 7, 256)   1024        ['block3_conv2[0][0]']           \n",
      " rmalization)                                                                                     \n",
      "                                                                                                  \n",
      " block3_pool (MaxPooling2D)     (None, 3, 3, 256)    0           ['batch_normalization_5[0][0]']  \n",
      "                                                                                                  \n",
      " block4_conv1 (Conv2D)          (None, 3, 3, 512)    1180160     ['block3_pool[0][0]']            \n",
      "                                                                                                  \n",
      " batch_normalization_6 (BatchNo  (None, 3, 3, 512)   2048        ['block4_conv1[0][0]']           \n",
      " rmalization)                                                                                     \n",
      "                                                                                                  \n",
      " block4_conv2 (Conv2D)          (None, 3, 3, 512)    2359808     ['batch_normalization_6[0][0]']  \n",
      "                                                                                                  \n",
      " batch_normalization_7 (BatchNo  (None, 3, 3, 512)   2048        ['block4_conv2[0][0]']           \n",
      " rmalization)                                                                                     \n",
      "                                                                                                  \n",
      " block4_pool (MaxPooling2D)     (None, 1, 1, 512)    0           ['batch_normalization_7[0][0]']  \n",
      "                                                                                                  \n",
      " reshape_layer (Reshape)        (None, 64, 8)        0           ['block4_pool[0][0]']            \n",
      "                                                                                                  \n",
      " p_caps (Lambda)                (None, 64, 8)        0           ['reshape_layer[0][0]']          \n",
      "                                                                                                  \n",
      " s_caps_coarse (SecondaryCapsul  (None, 2, 32)       32768       ['p_caps[0][0]']                 \n",
      " e)                                                                                               \n",
      "                                                                                                  \n",
      " s_caps_medium (SecondaryCapsul  (None, 6, 16)       6144        ['s_caps_coarse[0][0]']          \n",
      " e)                                                                                               \n",
      "                                                                                                  \n",
      " s_caps_fine (SecondaryCapsule)  (None, 10, 8)       7680        ['s_caps_medium[0][0]']          \n",
      "                                                                                                  \n",
      " input_yc (InputLayer)          [(None, 2)]          0           []                               \n",
      "                                                                                                  \n",
      " input_ym (InputLayer)          [(None, 6)]          0           []                               \n",
      "                                                                                                  \n",
      " input_yf (InputLayer)          [(None, 10)]         0           []                               \n",
      "                                                                                                  \n",
      " prediction_coarse (LengthLayer  (None, 2)           0           ['s_caps_coarse[0][0]']          \n",
      " )                                                                                                \n",
      "                                                                                                  \n",
      " prediction_medium (LengthLayer  (None, 6)           0           ['s_caps_medium[0][0]']          \n",
      " )                                                                                                \n",
      "                                                                                                  \n",
      " prediction_fine (LengthLayer)  (None, 10)           0           ['s_caps_fine[0][0]']            \n",
      "                                                                                                  \n",
      " tf.math.argmax_4 (TFOpLambda)  (None,)              0           ['input_yc[0][0]']               \n",
      "                                                                                                  \n",
      " tf.math.reduce_sum_2 (TFOpLamb  (None,)             0           ['prediction_medium[0][0]']      \n",
      " da)                                                                                              \n",
      "                                                                                                  \n",
      " tf.cast (TFOpLambda)           (None,)              0           ['tf.math.argmax_4[0][0]']       \n",
      "                                                                                                  \n",
      " tf.reshape (TFOpLambda)        (None, 1)            0           ['tf.math.reduce_sum_2[0][0]']   \n",
      "                                                                                                  \n",
      " tf.math.argmax (TFOpLambda)    (None,)              0           ['prediction_coarse[0][0]']      \n",
      "                                                                                                  \n",
      " tf.math.argmax_1 (TFOpLambda)  (None,)              0           ['prediction_medium[0][0]']      \n",
      "                                                                                                  \n",
      " tf.math.argmax_5 (TFOpLambda)  (None,)              0           ['input_ym[0][0]']               \n",
      "                                                                                                  \n",
      " tf.math.reduce_sum_4 (TFOpLamb  (None,)             0           ['prediction_fine[0][0]']        \n",
      " da)                                                                                              \n",
      "                                                                                                  \n",
      " tf.math.subtract_7 (TFOpLambda  (None, 6)           0           ['prediction_medium[0][0]']      \n",
      " )                                                                                                \n",
      "                                                                                                  \n",
      " tf.math.subtract_8 (TFOpLambda  (None, 6)           0           ['prediction_medium[0][0]']      \n",
      " )                                                                                                \n",
      "                                                                                                  \n",
      " tf.compat.v1.gather_2 (TFOpLam  (None, 6)           0           ['tf.cast[0][0]']                \n",
      " bda)                                                                                             \n",
      "                                                                                                  \n",
      " tf.math.divide (TFOpLambda)    (None, 6)            0           ['prediction_medium[0][0]',      \n",
      "                                                                  'tf.reshape[0][0]']             \n",
      "                                                                                                  \n",
      " tf.compat.v1.gather (TFOpLambd  (None, 6)           0           ['tf.math.argmax[0][0]']         \n",
      " a)                                                                                               \n",
      "                                                                                                  \n",
      " tf.one_hot (TFOpLambda)        (None, 6)            0           ['tf.math.argmax_1[0][0]']       \n",
      "                                                                                                  \n",
      " tf.cast_1 (TFOpLambda)         (None,)              0           ['tf.math.argmax_5[0][0]']       \n",
      "                                                                                                  \n",
      " tf.reshape_1 (TFOpLambda)      (None, 1)            0           ['tf.math.reduce_sum_4[0][0]']   \n",
      "                                                                                                  \n",
      " tf.math.argmax_2 (TFOpLambda)  (None,)              0           ['prediction_medium[0][0]']      \n",
      "                                                                                                  \n",
      " tf.math.argmax_3 (TFOpLambda)  (None,)              0           ['prediction_fine[0][0]']        \n",
      "                                                                                                  \n",
      " tf.math.maximum_2 (TFOpLambda)  (None, 6)           0           ['tf.math.subtract_7[0][0]']     \n",
      "                                                                                                  \n",
      " tf.math.subtract_9 (TFOpLambda  (None, 6)           0           ['input_ym[0][0]']               \n",
      " )                                                                                                \n",
      "                                                                                                  \n",
      " tf.math.maximum_3 (TFOpLambda)  (None, 6)           0           ['tf.math.subtract_8[0][0]']     \n",
      "                                                                                                  \n",
      " tf.math.multiply_2 (TFOpLambda  (None, 6)           0           ['tf.compat.v1.gather_2[0][0]',  \n",
      " )                                                                'tf.math.divide[0][0]']         \n",
      "                                                                                                  \n",
      " tf.math.multiply (TFOpLambda)  (None, 6)            0           ['tf.compat.v1.gather[0][0]',    \n",
      "                                                                  'tf.one_hot[0][0]']             \n",
      "                                                                                                  \n",
      " tf.math.subtract_10 (TFOpLambd  (None, 10)          0           ['prediction_fine[0][0]']        \n",
      " a)                                                                                               \n",
      "                                                                                                  \n",
      " tf.math.subtract_11 (TFOpLambd  (None, 10)          0           ['prediction_fine[0][0]']        \n",
      " a)                                                                                               \n",
      "                                                                                                  \n",
      " tf.compat.v1.gather_3 (TFOpLam  (None, 10)          0           ['tf.cast_1[0][0]']              \n",
      " bda)                                                                                             \n",
      "                                                                                                  \n",
      " tf.math.divide_1 (TFOpLambda)  (None, 10)           0           ['prediction_fine[0][0]',        \n",
      "                                                                  'tf.reshape_1[0][0]']           \n",
      "                                                                                                  \n",
      " tf.compat.v1.gather_1 (TFOpLam  (None, 10)          0           ['tf.math.argmax_2[0][0]']       \n",
      " bda)                                                                                             \n",
      "                                                                                                  \n",
      " tf.one_hot_1 (TFOpLambda)      (None, 10)           0           ['tf.math.argmax_3[0][0]']       \n",
      "                                                                                                  \n",
      " tf.math.subtract_4 (TFOpLambda  (None, 2)           0           ['prediction_coarse[0][0]']      \n",
      " )                                                                                                \n",
      "                                                                                                  \n",
      " tf.math.subtract_5 (TFOpLambda  (None, 2)           0           ['prediction_coarse[0][0]']      \n",
      " )                                                                                                \n",
      "                                                                                                  \n",
      " tf.math.square_2 (TFOpLambda)  (None, 6)            0           ['tf.math.maximum_2[0][0]']      \n",
      "                                                                                                  \n",
      " tf.math.multiply_11 (TFOpLambd  (None, 6)           0           ['tf.math.subtract_9[0][0]']     \n",
      " a)                                                                                               \n",
      "                                                                                                  \n",
      " tf.math.square_3 (TFOpLambda)  (None, 6)            0           ['tf.math.maximum_3[0][0]']      \n",
      "                                                                                                  \n",
      " tf.math.reduce_sum_3 (TFOpLamb  (None,)             0           ['tf.math.multiply_2[0][0]']     \n",
      " da)                                                                                              \n",
      "                                                                                                  \n",
      " tf.math.reduce_sum (TFOpLambda  (None,)             0           ['tf.math.multiply[0][0]']       \n",
      " )                                                                                                \n",
      "                                                                                                  \n",
      " tf.math.maximum_4 (TFOpLambda)  (None, 10)          0           ['tf.math.subtract_10[0][0]']    \n",
      "                                                                                                  \n",
      " tf.math.subtract_12 (TFOpLambd  (None, 10)          0           ['input_yf[0][0]']               \n",
      " a)                                                                                               \n",
      "                                                                                                  \n",
      " tf.math.maximum_5 (TFOpLambda)  (None, 10)          0           ['tf.math.subtract_11[0][0]']    \n",
      "                                                                                                  \n",
      " tf.math.multiply_3 (TFOpLambda  (None, 10)          0           ['tf.compat.v1.gather_3[0][0]',  \n",
      " )                                                                'tf.math.divide_1[0][0]']       \n",
      "                                                                                                  \n",
      " tf.math.multiply_1 (TFOpLambda  (None, 10)          0           ['tf.compat.v1.gather_1[0][0]',  \n",
      " )                                                                'tf.one_hot_1[0][0]']           \n",
      "                                                                                                  \n",
      " tf.math.maximum (TFOpLambda)   (None, 2)            0           ['tf.math.subtract_4[0][0]']     \n",
      "                                                                                                  \n",
      " tf.math.subtract_6 (TFOpLambda  (None, 2)           0           ['input_yc[0][0]']               \n",
      " )                                                                                                \n",
      "                                                                                                  \n",
      " tf.math.maximum_1 (TFOpLambda)  (None, 2)           0           ['tf.math.subtract_5[0][0]']     \n",
      "                                                                                                  \n",
      " tf.math.multiply_10 (TFOpLambd  (None, 6)           0           ['input_ym[0][0]',               \n",
      " a)                                                               'tf.math.square_2[0][0]']       \n",
      "                                                                                                  \n",
      " tf.math.multiply_12 (TFOpLambd  (None, 6)           0           ['tf.math.multiply_11[0][0]',    \n",
      " a)                                                               'tf.math.square_3[0][0]']       \n",
      "                                                                                                  \n",
      " tf.math.subtract_2 (TFOpLambda  (None,)             0           ['tf.math.reduce_sum_3[0][0]']   \n",
      " )                                                                                                \n",
      "                                                                                                  \n",
      " tf.math.subtract (TFOpLambda)  (None,)              0           ['tf.math.reduce_sum[0][0]']     \n",
      "                                                                                                  \n",
      " tf.math.square_4 (TFOpLambda)  (None, 10)           0           ['tf.math.maximum_4[0][0]']      \n",
      "                                                                                                  \n",
      " tf.math.multiply_17 (TFOpLambd  (None, 10)          0           ['tf.math.subtract_12[0][0]']    \n",
      " a)                                                                                               \n",
      "                                                                                                  \n",
      " tf.math.square_5 (TFOpLambda)  (None, 10)           0           ['tf.math.maximum_5[0][0]']      \n",
      "                                                                                                  \n",
      " tf.math.reduce_sum_5 (TFOpLamb  (None,)             0           ['tf.math.multiply_3[0][0]']     \n",
      " da)                                                                                              \n",
      "                                                                                                  \n",
      " tf.math.reduce_sum_1 (TFOpLamb  (None,)             0           ['tf.math.multiply_1[0][0]']     \n",
      " da)                                                                                              \n",
      "                                                                                                  \n",
      " tf.math.square (TFOpLambda)    (None, 2)            0           ['tf.math.maximum[0][0]']        \n",
      "                                                                                                  \n",
      " tf.math.multiply_7 (TFOpLambda  (None, 2)           0           ['tf.math.subtract_6[0][0]']     \n",
      " )                                                                                                \n",
      "                                                                                                  \n",
      " tf.math.square_1 (TFOpLambda)  (None, 2)            0           ['tf.math.maximum_1[0][0]']      \n",
      "                                                                                                  \n",
      " tf.math.add_1 (TFOpLambda)     (None, 6)            0           ['tf.math.multiply_10[0][0]',    \n",
      "                                                                  'tf.math.multiply_12[0][0]']    \n",
      "                                                                                                  \n",
      " tf.math.abs_2 (TFOpLambda)     (None,)              0           ['tf.math.subtract_2[0][0]']     \n",
      "                                                                                                  \n",
      " tf.math.abs (TFOpLambda)       (None,)              0           ['tf.math.subtract[0][0]']       \n",
      "                                                                                                  \n",
      " tf.math.multiply_16 (TFOpLambd  (None, 10)          0           ['input_yf[0][0]',               \n",
      " a)                                                               'tf.math.square_4[0][0]']       \n",
      "                                                                                                  \n",
      " tf.math.multiply_18 (TFOpLambd  (None, 10)          0           ['tf.math.multiply_17[0][0]',    \n",
      " a)                                                               'tf.math.square_5[0][0]']       \n",
      "                                                                                                  \n",
      " tf.math.subtract_3 (TFOpLambda  (None,)             0           ['tf.math.reduce_sum_5[0][0]']   \n",
      " )                                                                                                \n",
      "                                                                                                  \n",
      " tf.math.subtract_1 (TFOpLambda  (None,)             0           ['tf.math.reduce_sum_1[0][0]']   \n",
      " )                                                                                                \n",
      "                                                                                                  \n",
      " tf.math.multiply_6 (TFOpLambda  (None, 2)           0           ['input_yc[0][0]',               \n",
      " )                                                                'tf.math.square[0][0]']         \n",
      "                                                                                                  \n",
      " tf.math.multiply_8 (TFOpLambda  (None, 2)           0           ['tf.math.multiply_7[0][0]',     \n",
      " )                                                                'tf.math.square_1[0][0]']       \n",
      "                                                                                                  \n",
      " tf.math.reduce_sum_7 (TFOpLamb  (None,)             0           ['tf.math.add_1[0][0]']          \n",
      " da)                                                                                              \n",
      "                                                                                                  \n",
      " tf.math.multiply_4 (TFOpLambda  (None,)             0           ['tf.math.abs_2[0][0]',          \n",
      " )                                                                'tf.math.abs[0][0]']            \n",
      "                                                                                                  \n",
      " tf.math.add_2 (TFOpLambda)     (None, 10)           0           ['tf.math.multiply_16[0][0]',    \n",
      "                                                                  'tf.math.multiply_18[0][0]']    \n",
      "                                                                                                  \n",
      " tf.math.abs_3 (TFOpLambda)     (None,)              0           ['tf.math.subtract_3[0][0]']     \n",
      "                                                                                                  \n",
      " tf.math.abs_1 (TFOpLambda)     (None,)              0           ['tf.math.subtract_1[0][0]']     \n",
      "                                                                                                  \n",
      " tf.math.add (TFOpLambda)       (None, 2)            0           ['tf.math.multiply_6[0][0]',     \n",
      "                                                                  'tf.math.multiply_8[0][0]']     \n",
      "                                                                                                  \n",
      " tf.math.multiply_13 (TFOpLambd  (None,)             0           ['tf.math.reduce_sum_7[0][0]']   \n",
      " a)                                                                                               \n",
      "                                                                                                  \n",
      " tf.math.multiply_14 (TFOpLambd  (None,)             0           ['tf.math.multiply_4[0][0]']     \n",
      " a)                                                                                               \n",
      "                                                                                                  \n",
      " tf.math.reduce_sum_8 (TFOpLamb  (None,)             0           ['tf.math.add_2[0][0]']          \n",
      " da)                                                                                              \n",
      "                                                                                                  \n",
      " tf.math.multiply_5 (TFOpLambda  (None,)             0           ['tf.math.abs_3[0][0]',          \n",
      " )                                                                'tf.math.abs_1[0][0]']          \n",
      "                                                                                                  \n",
      " tf.math.reduce_sum_6 (TFOpLamb  (None,)             0           ['tf.math.add[0][0]']            \n",
      " da)                                                                                              \n",
      "                                                                                                  \n",
      " tf.__operators__.add (TFOpLamb  (None,)             0           ['tf.math.multiply_13[0][0]',    \n",
      " da)                                                              'tf.math.multiply_14[0][0]']    \n",
      "                                                                                                  \n",
      " tf.math.multiply_19 (TFOpLambd  (None,)             0           ['tf.math.reduce_sum_8[0][0]']   \n",
      " a)                                                                                               \n",
      "                                                                                                  \n",
      " tf.math.multiply_20 (TFOpLambd  (None,)             0           ['tf.math.multiply_5[0][0]']     \n",
      " a)                                                                                               \n",
      "                                                                                                  \n",
      " tf.math.multiply_9 (TFOpLambda  (None,)             0           ['tf.math.reduce_sum_6[0][0]']   \n",
      " )                                                                                                \n",
      "                                                                                                  \n",
      " tf.math.multiply_15 (TFOpLambd  (None,)             0           ['tf.__operators__.add[0][0]']   \n",
      " a)                                                                                               \n",
      "                                                                                                  \n",
      " tf.__operators__.add_1 (TFOpLa  (None,)             0           ['tf.math.multiply_19[0][0]',    \n",
      " mbda)                                                            'tf.math.multiply_20[0][0]']    \n",
      "                                                                                                  \n",
      " tf.__operators__.add_2 (TFOpLa  (None,)             0           ['tf.math.multiply_9[0][0]',     \n",
      " mbda)                                                            'tf.math.multiply_15[0][0]']    \n",
      "                                                                                                  \n",
      " tf.math.multiply_21 (TFOpLambd  (None,)             0           ['tf.__operators__.add_1[0][0]'] \n",
      " a)                                                                                               \n",
      "                                                                                                  \n",
      " tf.__operators__.add_3 (TFOpLa  (None,)             0           ['tf.__operators__.add_2[0][0]', \n",
      " mbda)                                                            'tf.math.multiply_21[0][0]']    \n",
      "                                                                                                  \n",
      " tf.math.reduce_mean (TFOpLambd  ()                  0           ['tf.__operators__.add_3[0][0]'] \n",
      " a)                                                                                               \n",
      "                                                                                                  \n",
      " add_loss (AddLoss)             ()                   0           ['tf.math.reduce_mean[0][0]']    \n",
      "                                                                                                  \n",
      "==================================================================================================\n",
      "Total params: 4,738,496\n",
      "Trainable params: 4,734,656\n",
      "Non-trainable params: 3,840\n",
      "__________________________________________________________________________________________________\n"
     ]
    }
   ],
   "source": [
    "model.summary()"
   ]
  },
  {
   "cell_type": "markdown",
   "id": "74f72ece",
   "metadata": {},
   "source": [
    "## Data Augmentation"
   ]
  },
  {
   "cell_type": "code",
   "execution_count": 14,
   "id": "35f28f4d",
   "metadata": {
    "execution": {
     "iopub.execute_input": "2024-01-19T07:24:10.409971Z",
     "iopub.status.busy": "2024-01-19T07:24:10.408971Z",
     "iopub.status.idle": "2024-01-19T07:24:10.855971Z",
     "shell.execute_reply": "2024-01-19T07:24:10.856971Z"
    }
   },
   "outputs": [],
   "source": [
    "datagen = ImageDataGenerator(width_shift_range=0.1,\n",
    "                            height_shift_range=0.1)\n",
    "\n",
    "training_generator = MixUp_add_loss.MixupGenerator_3level(dataset['x_train'],\n",
    "                                                 dataset['y_train_coarse'], \n",
    "                                                 dataset['y_train_medium'],\n",
    "                                                 dataset['y_train_fine'],\n",
    "                                                 batch_size=train_params[\"batch_size\"],\n",
    "                                                 alpha=0.2, \n",
    "                                                 datagen=datagen\n",
    "                                                )()"
   ]
  },
  {
   "cell_type": "markdown",
   "id": "cb67d719",
   "metadata": {},
   "source": [
    "## Callback"
   ]
  },
  {
   "cell_type": "code",
   "execution_count": 15,
   "id": "9e0a123c",
   "metadata": {
    "execution": {
     "iopub.execute_input": "2024-01-19T07:24:10.863971Z",
     "iopub.status.busy": "2024-01-19T07:24:10.862971Z",
     "iopub.status.idle": "2024-01-19T07:24:11.234152Z",
     "shell.execute_reply": "2024-01-19T07:24:11.234152Z"
    }
   },
   "outputs": [],
   "source": [
    "tb = keras.callbacks.TensorBoard(directory+'/tb_logs'+ datetime.now().strftime(\"%Y%m%d-%H%M%S\"))\n",
    "log = keras.callbacks.CSVLogger(directory+'/log.csv', append=True)\n",
    "\n",
    "checkpoint = keras.callbacks.ModelCheckpoint(directory+'/epoch-best.h5',\n",
    "                                             monitor='val_prediction_fine_accuracy',\n",
    "                                             save_best_only=True, \n",
    "                                             save_weights_only=True, \n",
    "                                             verbose=1)\n",
    "\n",
    "change_lw = models.LossWeightsModifier(lossweight = lossweight,\n",
    "                                       initial_lw = initial_lw,\n",
    "                                       directory = directory)\n",
    "\n",
    "lr_decay = keras.callbacks.LearningRateScheduler(scheduler)"
   ]
  },
  {
   "cell_type": "markdown",
   "id": "bdc176a2",
   "metadata": {},
   "source": [
    "# Model Training"
   ]
  },
  {
   "cell_type": "code",
   "execution_count": 16,
   "id": "eac4a0be",
   "metadata": {
    "execution": {
     "iopub.execute_input": "2024-01-19T07:24:11.240153Z",
     "iopub.status.busy": "2024-01-19T07:24:11.239154Z",
     "iopub.status.idle": "2024-01-19T07:24:11.690153Z",
     "shell.execute_reply": "2024-01-19T07:24:11.691152Z"
    },
    "scrolled": true
   },
   "outputs": [],
   "source": [
    "model_save_dir = str(directory+'/trained_model.h5')\n",
    "try:\n",
    "    model.load_weights(model_save_dir)\n",
    "except:\n",
    "    history = model.fit(training_generator,\n",
    "                        steps_per_epoch = int(dataset['x_train'].shape[0] / train_params[\"batch_size\"]),\n",
    "                        epochs = train_params[\"n_epochs\"],\n",
    "                        validation_data = ([dataset['x_test'],\n",
    "                                            dataset['y_test_coarse'],dataset['y_test_medium'],dataset['y_test_fine']],\n",
    "                                           [dataset['y_test_coarse'],dataset['y_test_medium'],dataset['y_test_fine']]),\n",
    "                        callbacks = [tb,log,change_lw,lr_decay,checkpoint],\n",
    "                        verbose=1\n",
    "                       )\n",
    "    \n",
    "    model.save_weights(model_save_dir)"
   ]
  },
  {
   "cell_type": "code",
   "execution_count": 17,
   "id": "588d7b95",
   "metadata": {
    "execution": {
     "iopub.execute_input": "2024-01-19T07:24:11.696152Z",
     "iopub.status.busy": "2024-01-19T07:24:11.696152Z",
     "iopub.status.idle": "2024-01-19T07:24:12.084157Z",
     "shell.execute_reply": "2024-01-19T07:24:12.085155Z"
    }
   },
   "outputs": [
    {
     "name": "stdout",
     "output_type": "stream",
     "text": [
      "Trained model weights loaded\n"
     ]
    }
   ],
   "source": [
    "try:\n",
    "    history_dict = history.history\n",
    "\n",
    "    plotter = tfdocs.plots.HistoryPlotter()\n",
    "    plotter.plot({\"Coarse\": history}, metric = \"prediction_coarse_accuracy\")\n",
    "    plotter.plot({\"Medium\": history}, metric = \"prediction_medium_accuracy\")\n",
    "    plotter.plot({\"Fine\": history}, metric = \"prediction_fine_accuracy\")\n",
    "    plt.title(\"Model Accuracy\")\n",
    "    plt.ylim([0,1])\n",
    "except:\n",
    "    print('Trained model weights loaded')"
   ]
  },
  {
   "cell_type": "code",
   "execution_count": 18,
   "id": "25f47f98",
   "metadata": {
    "execution": {
     "iopub.execute_input": "2024-01-19T07:24:12.093157Z",
     "iopub.status.busy": "2024-01-19T07:24:12.092165Z",
     "iopub.status.idle": "2024-01-19T07:24:12.505523Z",
     "shell.execute_reply": "2024-01-19T07:24:12.505523Z"
    }
   },
   "outputs": [
    {
     "name": "stdout",
     "output_type": "stream",
     "text": [
      "Trained model weights loaded\n"
     ]
    }
   ],
   "source": [
    "try:\n",
    "    plotter = tfdocs.plots.HistoryPlotter()\n",
    "    plotter.plot({\"loss\": history}, metric = \"loss\")\n",
    "    plt.title(\"Model Loss\")\n",
    "    plt.ylim([0,1])\n",
    "except:\n",
    "    print('Trained model weights loaded')"
   ]
  },
  {
   "cell_type": "markdown",
   "id": "0f08f53b",
   "metadata": {},
   "source": [
    "## Model Analysis"
   ]
  },
  {
   "cell_type": "code",
   "execution_count": 19,
   "id": "fa6652e0",
   "metadata": {
    "execution": {
     "iopub.execute_input": "2024-01-19T07:24:12.511524Z",
     "iopub.status.busy": "2024-01-19T07:24:12.510524Z",
     "iopub.status.idle": "2024-01-19T07:24:12.918525Z",
     "shell.execute_reply": "2024-01-19T07:24:12.918525Z"
    }
   },
   "outputs": [],
   "source": [
    "final_model = keras.Model(model.inputs[:1], model.output)\n",
    "\n",
    "lossfn = models.MarginLoss()\n",
    "final_model.compile(optimizer='adam', \n",
    "                    loss={'prediction_fine' : lossfn,\n",
    "                          'prediction_medium' : lossfn,\n",
    "                          'prediction_coarse' : lossfn},\n",
    "\n",
    "                    loss_weights={'prediction_fine' : lossweight['fine_lw'],\n",
    "                                  'prediction_medium' : lossweight['medium_lw'],\n",
    "                                  'prediction_coarse' : lossweight['coarse_lw']},\n",
    "\n",
    "                    metrics={'prediction_fine': 'accuracy',\n",
    "                             'prediction_medium': 'accuracy',\n",
    "                             'prediction_coarse': 'accuracy'\n",
    "                            }\n",
    "                   )"
   ]
  },
  {
   "cell_type": "code",
   "execution_count": 20,
   "id": "93ed4e40",
   "metadata": {
    "execution": {
     "iopub.execute_input": "2024-01-19T07:24:12.922521Z",
     "iopub.status.busy": "2024-01-19T07:24:12.922521Z",
     "iopub.status.idle": "2024-01-19T07:24:25.496416Z",
     "shell.execute_reply": "2024-01-19T07:24:25.496416Z"
    }
   },
   "outputs": [
    {
     "name": "stdout",
     "output_type": "stream",
     "text": [
      "313/313 [==============================] - 9s 12ms/step - loss: 0.0159 - prediction_coarse_loss: 0.0010 - prediction_medium_loss: 0.0180 - prediction_fine_loss: 0.0424 - prediction_coarse_accuracy: 0.9991 - prediction_medium_accuracy: 0.9763 - prediction_fine_accuracy: 0.9466\n",
      "1. loss ==> 0.015868233516812325\n",
      "2. prediction_coarse_loss ==> 0.0010145814158022404\n",
      "3. prediction_medium_loss ==> 0.017985500395298004\n",
      "4. prediction_fine_loss ==> 0.04239964857697487\n",
      "5. prediction_coarse_accuracy ==> 0.9991000294685364\n",
      "6. prediction_medium_accuracy ==> 0.9763000011444092\n",
      "7. prediction_fine_accuracy ==> 0.9466000199317932\n",
      "313/313 [==============================] - 3s 6ms/step\n"
     ]
    },
    {
     "data": {
      "image/png": "[encoded data removed]",
      "text/plain": [
       "<Figure size 1440x1440 with 10 Axes>"
      ]
     },
     "metadata": {},
     "output_type": "display_data"
    }
   ],
   "source": [
    "model_analysis = models.model_analysis(final_model, dataset)\n",
    "results = model_analysis.evaluate()\n",
    "predictions = model_analysis.prediction()"
   ]
  },
  {
   "cell_type": "code",
   "execution_count": 21,
   "id": "f67911a8",
   "metadata": {
    "execution": {
     "iopub.execute_input": "2024-01-19T07:24:25.501415Z",
     "iopub.status.busy": "2024-01-19T07:24:25.500417Z",
     "iopub.status.idle": "2024-01-19T07:24:25.861411Z",
     "shell.execute_reply": "2024-01-19T07:24:25.861411Z"
    }
   },
   "outputs": [],
   "source": [
    "true_label = [dataset['y_test_coarse'],dataset['y_test_medium'],dataset['y_test_fine']]\n",
    "pred_label = [predictions[0],predictions[1],predictions[2]]\n"
   ]
  },
  {
   "cell_type": "code",
   "execution_count": 22,
   "id": "075597a3",
   "metadata": {
    "execution": {
     "iopub.execute_input": "2024-01-19T07:24:25.866411Z",
     "iopub.status.busy": "2024-01-19T07:24:25.865409Z",
     "iopub.status.idle": "2024-01-19T07:24:27.991463Z",
     "shell.execute_reply": "2024-01-19T07:24:27.991463Z"
    }
   },
   "outputs": [
    {
     "name": "stdout",
     "output_type": "stream",
     "text": [
      "\u001b[91m \u001b[1m • Confusion_Matrix Level = 0 \u001b[0m\n"
     ]
    },
    {
     "data": {
      "image/png": "[encoded data removed]",
      "text/plain": [
       "<Figure size 504x504 with 2 Axes>"
      ]
     },
     "metadata": {
      "needs_background": "light"
     },
     "output_type": "display_data"
    },
    {
     "name": "stdout",
     "output_type": "stream",
     "text": [
      "\n",
      "\u001b[91m \u001b[1m • Classification Report for Level = 0 \u001b[0m\n",
      "\n",
      "              precision    recall  f1-score   support\n",
      "\n",
      "           0    0.99950   0.99900   0.99925      6000\n",
      "           1    0.99850   0.99925   0.99888      4000\n",
      "\n",
      "    accuracy                        0.99910     10000\n",
      "   macro avg    0.99900   0.99913   0.99906     10000\n",
      "weighted avg    0.99910   0.99910   0.99910     10000\n",
      "\n",
      "\u001b[91m \u001b[1m • Confusion_Matrix Level = 1 \u001b[0m\n"
     ]
    },
    {
     "data": {
      "image/png": "[encoded data removed]",
      "text/plain": [
       "<Figure size 504x504 with 2 Axes>"
      ]
     },
     "metadata": {
      "needs_background": "light"
     },
     "output_type": "display_data"
    },
    {
     "name": "stdout",
     "output_type": "stream",
     "text": [
      "\n",
      "\u001b[91m \u001b[1m • Classification Report for Level = 1 \u001b[0m\n",
      "\n",
      "              precision    recall  f1-score   support\n",
      "\n",
      "           0    0.96291   0.96933   0.96611      3000\n",
      "           1    0.99598   0.99100   0.99348      1000\n",
      "           2    0.95431   0.94000   0.94710      1000\n",
      "           3    0.93273   0.92900   0.93086      1000\n",
      "           4    0.99203   0.99600   0.99401      1000\n",
      "           5    0.99967   0.99967   0.99967      3000\n",
      "\n",
      "    accuracy                        0.97630     10000\n",
      "   macro avg    0.97294   0.97083   0.97187     10000\n",
      "weighted avg    0.97628   0.97630   0.97628     10000\n",
      "\n",
      "\u001b[91m \u001b[1m • Confusion_Matrix Level = 2 \u001b[0m\n"
     ]
    },
    {
     "data": {
      "image/png": "[encoded data removed]",
      "text/plain": [
       "<Figure size 504x504 with 2 Axes>"
      ]
     },
     "metadata": {
      "needs_background": "light"
     },
     "output_type": "display_data"
    },
    {
     "name": "stdout",
     "output_type": "stream",
     "text": [
      "\n",
      "\u001b[91m \u001b[1m • Classification Report for Level = 2 \u001b[0m\n",
      "\n",
      "              precision    recall  f1-score   support\n",
      "\n",
      "           0    0.91011   0.89100   0.90045      1000\n",
      "           1    0.99498   0.99100   0.99299      1000\n",
      "           2    0.90873   0.92600   0.91729      1000\n",
      "           3    0.95431   0.94000   0.94710      1000\n",
      "           4    0.93021   0.93300   0.93160      1000\n",
      "           5    0.98904   0.99300   0.99102      1000\n",
      "           6    0.83416   0.84500   0.83954      1000\n",
      "           7    0.97041   0.98400   0.97716      1000\n",
      "           8    0.99204   0.99700   0.99451      1000\n",
      "           9    0.98371   0.96600   0.97477      1000\n",
      "\n",
      "    accuracy                        0.94660     10000\n",
      "   macro avg    0.94677   0.94660   0.94664     10000\n",
      "weighted avg    0.94677   0.94660   0.94664     10000\n",
      "\n"
     ]
    }
   ],
   "source": [
    "## Level wise metrics analysis ##\n",
    "metrics.lvl_wise_metric(true_label,pred_label,directory)"
   ]
  },
  {
   "cell_type": "code",
   "execution_count": 23,
   "id": "91eb4db7",
   "metadata": {
    "execution": {
     "iopub.execute_input": "2024-01-19T07:24:27.996464Z",
     "iopub.status.busy": "2024-01-19T07:24:27.996464Z",
     "iopub.status.idle": "2024-01-19T07:24:30.090459Z",
     "shell.execute_reply": "2024-01-19T07:24:30.089457Z"
    }
   },
   "outputs": [
    {
     "data": {
      "text/html": [
       "<div>\n",
       "<style scoped>\n",
       "    .dataframe tbody tr th:only-of-type {\n",
       "        vertical-align: middle;\n",
       "    }\n",
       "\n",
       "    .dataframe tbody tr th {\n",
       "        vertical-align: top;\n",
       "    }\n",
       "\n",
       "    .dataframe thead th {\n",
       "        text-align: right;\n",
       "    }\n",
       "</style>\n",
       "<table border=\"1\" class=\"dataframe\">\n",
       "  <thead>\n",
       "    <tr style=\"text-align: right;\">\n",
       "      <th></th>\n",
       "      <th>Value</th>\n",
       "    </tr>\n",
       "  </thead>\n",
       "  <tbody>\n",
       "    <tr>\n",
       "      <th>Dataset</th>\n",
       "      <td>FMNIST</td>\n",
       "    </tr>\n",
       "    <tr>\n",
       "      <th>Model</th>\n",
       "      <td>HD-CapsNet</td>\n",
       "    </tr>\n",
       "    <tr>\n",
       "      <th>Accuracy L_0</th>\n",
       "      <td>0.9991</td>\n",
       "    </tr>\n",
       "    <tr>\n",
       "      <th>Accuracy L_1</th>\n",
       "      <td>0.9763</td>\n",
       "    </tr>\n",
       "    <tr>\n",
       "      <th>Accuracy L_2</th>\n",
       "      <td>0.9466</td>\n",
       "    </tr>\n",
       "    <tr>\n",
       "      <th>HarmonicM_Accuracy_k1</th>\n",
       "      <td>0.973524</td>\n",
       "    </tr>\n",
       "    <tr>\n",
       "      <th>HarmonicM_Accuracy_k2</th>\n",
       "      <td>0.990232</td>\n",
       "    </tr>\n",
       "    <tr>\n",
       "      <th>HarmonicM_Accuracy_k5</th>\n",
       "      <td>0.995748</td>\n",
       "    </tr>\n",
       "    <tr>\n",
       "      <th>ArithmeticM_Accuracy_k1</th>\n",
       "      <td>0.974</td>\n",
       "    </tr>\n",
       "    <tr>\n",
       "      <th>ArithmeticM_Accuracy_k2</th>\n",
       "      <td>0.9903</td>\n",
       "    </tr>\n",
       "    <tr>\n",
       "      <th>ArithmeticM_Accuracy_k5</th>\n",
       "      <td>0.995767</td>\n",
       "    </tr>\n",
       "    <tr>\n",
       "      <th>Harmonic_mAP_Score</th>\n",
       "      <td>0.983286</td>\n",
       "    </tr>\n",
       "    <tr>\n",
       "      <th>Arithmetic_mAP_Score</th>\n",
       "      <td>0.983474</td>\n",
       "    </tr>\n",
       "    <tr>\n",
       "      <th>hP</th>\n",
       "      <td>0.973952</td>\n",
       "    </tr>\n",
       "    <tr>\n",
       "      <th>hR</th>\n",
       "      <td>0.9742</td>\n",
       "    </tr>\n",
       "    <tr>\n",
       "      <th>hF1</th>\n",
       "      <td>0.974056</td>\n",
       "    </tr>\n",
       "    <tr>\n",
       "      <th>consistency</th>\n",
       "      <td>0.9987</td>\n",
       "    </tr>\n",
       "    <tr>\n",
       "      <th>exact_match</th>\n",
       "      <td>0.946</td>\n",
       "    </tr>\n",
       "  </tbody>\n",
       "</table>\n",
       "</div>"
      ],
      "text/plain": [
       "                              Value\n",
       "Dataset                      FMNIST\n",
       "Model                    HD-CapsNet\n",
       "Accuracy L_0                 0.9991\n",
       "Accuracy L_1                 0.9763\n",
       "Accuracy L_2                 0.9466\n",
       "HarmonicM_Accuracy_k1      0.973524\n",
       "HarmonicM_Accuracy_k2      0.990232\n",
       "HarmonicM_Accuracy_k5      0.995748\n",
       "ArithmeticM_Accuracy_k1       0.974\n",
       "ArithmeticM_Accuracy_k2      0.9903\n",
       "ArithmeticM_Accuracy_k5    0.995767\n",
       "Harmonic_mAP_Score         0.983286\n",
       "Arithmetic_mAP_Score       0.983474\n",
       "hP                         0.973952\n",
       "hR                           0.9742\n",
       "hF1                        0.974056\n",
       "consistency                  0.9987\n",
       "exact_match                   0.946"
      ]
     },
     "metadata": {},
     "output_type": "display_data"
    }
   ],
   "source": [
    "h_measurements,consistency,exact_match, get_performance_report = metrics.hmeasurements(true_label, pred_label, dataset['tree'])\n",
    "\n",
    "get_performance_report = {**{'Dataset': dataset['name'],\n",
    "                             'Model': 'HD-CapsNet'},\n",
    "                             **get_performance_report\n",
    "                             } # merging two dictionaries (adding Dataset and Model name)\n",
    "performance_metrics = pd.DataFrame(pd.DataFrame(get_performance_report.values(), get_performance_report.keys(), columns = ['Value']))\n",
    "performance_metrics.to_csv(os.path.join(directory,'performance_metrics.csv'))\n",
    "display(performance_metrics)"
   ]
  },
  {
   "cell_type": "code",
   "execution_count": null,
   "id": "92b98d56",
   "metadata": {},
   "outputs": [],
   "source": []
  }
 ],
 "metadata": {
  "kernelspec": {
   "display_name": "Python 3 (ipykernel)",
   "language": "python",
   "name": "python3"
  },
  "language_info": {
   "codemirror_mode": {
    "name": "ipython",
    "version": 3
   },
   "file_extension": ".py",
   "mimetype": "text/x-python",
   "name": "python",
   "nbconvert_exporter": "python",
   "pygments_lexer": "ipython3",
   "version": "3.8.12"
  },
  "toc": {
   "base_numbering": 1,
   "nav_menu": {},
   "number_sections": true,
   "sideBar": true,
   "skip_h1_title": false,
   "title_cell": "Table of Contents",
   "title_sidebar": "Contents",
   "toc_cell": false,
   "toc_position": {
    "height": "calc(100% - 180px)",
    "left": "10px",
    "top": "150px",
    "width": "321px"
   },
   "toc_section_display": true,
   "toc_window_display": true
  },
  "varInspector": {
   "cols": {
    "lenName": 16,
    "lenType": 16,
    "lenVar": 40
   },
   "kernels_config": {
    "python": {
     "delete_cmd_postfix": "",
     "delete_cmd_prefix": "del ",
     "library": "var_list.py",
     "varRefreshCmd": "print(var_dic_list())"
    },
    "r": {
     "delete_cmd_postfix": ") ",
     "delete_cmd_prefix": "rm(",
     "library": "var_list.r",
     "varRefreshCmd": "cat(var_dic_list()) "
    }
   },
   "types_to_exclude": [
    "module",
    "function",
    "builtin_function_or_method",
    "instance",
    "_Feature"
   ],
   "window_display": false
  }
 },
 "nbformat": 4,
 "nbformat_minor": 5
}
