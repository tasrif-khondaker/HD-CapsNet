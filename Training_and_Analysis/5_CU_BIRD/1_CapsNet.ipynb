{
 "cells": [
  {
   "cell_type": "markdown",
   "metadata": {
    "colab_type": "text",
    "id": "FucnLdoEAJLH"
   },
   "source": [
    "***\n",
    "<font size=\"6\"><center><b> Caspsule Networks (CIFAR100_JUST FINE CLASS_BASED ON PAPER) </b></center></font>\n",
    "***"
   ]
  },
  {
   "cell_type": "markdown",
   "metadata": {
    "colab_type": "text",
    "id": "Ljz9avRzBxCt"
   },
   "source": [
    "# Import Necessary libraries"
   ]
  },
  {
   "cell_type": "code",
   "execution_count": 1,
   "metadata": {
    "colab": {},
    "colab_type": "code",
    "id": "h0hvCdT7Knae"
   },
   "outputs": [
    {
     "name": "stdout",
     "output_type": "stream",
     "text": [
      "DONE loading MixUp Data generator\n",
      "DONE loading MixUp Data generator\n"
     ]
    }
   ],
   "source": [
    "import tensorflow as tf\n",
    "from tensorflow import keras\n",
    "from tensorflow.keras.preprocessing.image import ImageDataGenerator\n",
    "from tensorflow.keras.models import Sequential\n",
    "from tensorflow.keras.layers import Dense, Activation, Flatten, Dropout, BatchNormalization\n",
    "from tensorflow.keras.layers import Conv2D, MaxPooling2D\n",
    "from tensorflow.keras import regularizers, optimizers\n",
    "from tensorflow.keras import backend as K\n",
    "\n",
    "import tensorflow_docs as tfdocs\n",
    "import tensorflow_docs.plots\n",
    "\n",
    "# Supporting Libraries:\n",
    "    #Mathplot lib for ploting graphs\n",
    "%matplotlib inline\n",
    "import matplotlib\n",
    "import matplotlib.pyplot as plt\n",
    "    # numpy and pandas\n",
    "import numpy as np\n",
    "import pandas as pd\n",
    "    #system\n",
    "import os\n",
    "import sys\n",
    "import csv\n",
    "    #import other libraries\n",
    "import math\n",
    "import random\n",
    "from datetime import datetime\n",
    "from treelib import Tree\n",
    "    # ML model, Dataset and evalution metrics\n",
    "sys.path.append('../../') ### adding system parth for src folder\n",
    "from src import datasets # load datasets\n",
    "from src import MixUp # load datasets\n",
    "from src import MixUp_add_loss # load datasets\n",
    "from src import metrics # load hierarchcial metrics\n",
    "from src import sysenv # load hierarchcial metrics\n",
    "from src import models # load machine learning models\n",
    "\n",
    "    ## Tensorflow_docs\n",
    "import tensorflow_docs as tfdocs\n",
    "import tensorflow_docs.plots\n",
    "\n",
    "    # Auto reload local libraries if updated\n",
    "%load_ext autoreload\n",
    "%autoreload 2"
   ]
  },
  {
   "cell_type": "code",
   "execution_count": 2,
   "metadata": {
    "colab": {
     "base_uri": "https://localhost:8080/",
     "height": 68
    },
    "colab_type": "code",
    "id": "QWv7UHO2CN_t",
    "outputId": "37c5c388-d2fa-4527-ba47-e58aa6ee4ba0"
   },
   "outputs": [
    {
     "name": "stdout",
     "output_type": "stream",
     "text": [
      "\u001b[91m\u001b[1m\n",
      "• Computer Name = \u001b[0mSARUMAN\u001b[91m\u001b[1m\n",
      "• Working Directory = \u001b[0mD:\\knoor\\Deep Learning with Python\\RunningOnServer\\GitHub Repo\\HDeep_CapsNet\\code\\training\\CU_bird\u001b[91m\u001b[1m\n",
      "• Python Version = \u001b[0m3.8.12 (default, Oct 12 2021, 03:01:40) [MSC v.1916 64 bit (AMD64)]\u001b[91m\u001b[1m\n",
      "• TensorFlow Version = \u001b[0m2.8.0\u001b[91m\u001b[1m\n",
      "• Keras Version = \u001b[0m2.8.0\u001b[91m\u001b[1m\n",
      "• Current Environment = \u001b[0mAnaconda Environment Name : D:\\knoor\\AnacondaEnvironment\\py38tf28\n"
     ]
    }
   ],
   "source": [
    "systeminfo = sysenv.systeminfo()\n",
    "print(systeminfo)"
   ]
  },
  {
   "cell_type": "markdown",
   "metadata": {},
   "source": [
    "## For GPU growth (not required if GPU does not give any error)"
   ]
  },
  {
   "cell_type": "code",
   "execution_count": 3,
   "metadata": {},
   "outputs": [
    {
     "name": "stdout",
     "output_type": "stream",
     "text": [
      "Following GPUS are selected =  4\n",
      "Done: GPU PhysicalDevice(name='/physical_device:GPU:0', device_type='GPU')\n",
      "1 Physical GPUs, 1 Logical GPUs\n"
     ]
    }
   ],
   "source": [
    "gpus = \"0,1,2,3,4,5,6,7\" ## Selecting Available gpus (Multi-GPUS)\n",
    "gpus = \"4\" ## Selecting Available gpus (Single GPU)\n",
    "gpugrowth = sysenv.gpugrowth(gpus = gpus) ## Limiting GPUS from OS environment\n",
    "gpugrowth.memory_growth() #GPU memory growth"
   ]
  },
  {
   "cell_type": "markdown",
   "metadata": {
    "colab_type": "text",
    "id": "WCGpdY2KRDTR"
   },
   "source": [
    "# Import Dataset : CU BIRD"
   ]
  },
  {
   "cell_type": "code",
   "execution_count": 4,
   "metadata": {},
   "outputs": [],
   "source": [
    "train_params = {\"n_epochs\" : 100,\n",
    "                \"batch_size\": 8,\n",
    "                \"lr\": 0.001, # Initial learning rate\n",
    "                \"lr_decay\": 0.95, # Learning rate decay\n",
    "                \"decay_exe\": 9, #learning rate decay execution epoch after\n",
    "               }"
   ]
  },
  {
   "cell_type": "code",
   "execution_count": 5,
   "metadata": {},
   "outputs": [],
   "source": [
    "training_dataset,  test_dataset, val_dataset, tree, info = datasets.CU_Birds_200_2011(image_size=(64, 64), \n",
    "                                                                                  batch_size=train_params['batch_size'],\n",
    "                                                                                  data_aug = 'mixup', # 'mixup'\n",
    "                                                                                  data_normalizing = None) #'normalize'"
   ]
  },
  {
   "cell_type": "code",
   "execution_count": 6,
   "metadata": {},
   "outputs": [],
   "source": [
    "for x,y in training_dataset.take(1):\n",
    "    image_shape = x.shape[1:]\n",
    "    coarse_label_shape = y[0].shape[1:]\n",
    "    medium_label_shape = y[1].shape[1:]\n",
    "    fine_label_shape = y[2].shape[1:]"
   ]
  },
  {
   "cell_type": "markdown",
   "metadata": {
    "colab_type": "text",
    "id": "jC18UnjMK57_"
   },
   "source": [
    "# CapsNet Layers"
   ]
  },
  {
   "cell_type": "code",
   "execution_count": 7,
   "metadata": {
    "colab": {},
    "colab_type": "code",
    "id": "lvoZxetHEMyH"
   },
   "outputs": [],
   "source": [
    "def squash(s, axis=-1, name=\"squash\"):\n",
    "    \"\"\"\n",
    "    non-linear squashing function to manupulate the length of the capsule vectors\n",
    "    \"\"\"\n",
    "    with tf.name_scope(name):\n",
    "        squared_norm = tf.reduce_sum(tf.square(s), axis=axis,\n",
    "                                         keepdims=True)\n",
    "        safe_norm = tf.sqrt(squared_norm + keras.backend.epsilon())\n",
    "        squash_factor = squared_norm / (1. + squared_norm)\n",
    "        unit_vector = s / safe_norm\n",
    "        return squash_factor * unit_vector"
   ]
  },
  {
   "cell_type": "code",
   "execution_count": 8,
   "metadata": {
    "colab": {},
    "colab_type": "code",
    "id": "BIo-mlQRGKTp"
   },
   "outputs": [],
   "source": [
    "def safe_norm(s, axis=-1, keepdims=False, name=\"safe_norm\"):\n",
    "    \"\"\"\n",
    "    Safe computation of vector 2-norm\n",
    "    \"\"\"\n",
    "    with tf.name_scope(name):\n",
    "        squared_norm = tf.reduce_sum(tf.square(s), axis=axis,\n",
    "                                 keepdims=keepdims)\n",
    "        return tf.sqrt(squared_norm + keras.backend.epsilon())    "
   ]
  },
  {
   "cell_type": "code",
   "execution_count": 9,
   "metadata": {
    "colab": {},
    "colab_type": "code",
    "id": "bcqsamGFLO6N"
   },
   "outputs": [],
   "source": [
    "class SecondaryCapsule(keras.layers.Layer):\n",
    "    \"\"\"\n",
    "    The digit capsule layer. \n",
    "    input shape = [None, input_num_capsule, input_dim_capsule] \n",
    "    output shape = [None, num_capsule, dim_capsule]\n",
    "    :param n_caps: number of capsules in this layer\n",
    "    :param n_dims: dimension of the output vectors of the capsules in this layer\n",
    "    \"\"\"\n",
    "    def __init__(self, n_caps, n_dims, routings=2, **kwargs):\n",
    "        super().__init__(**kwargs)\n",
    "        self.n_caps = n_caps\n",
    "        self.n_dims = n_dims\n",
    "        self.routings = routings\n",
    "    def build(self, batch_input_shape):\n",
    "        # transformation matrix\n",
    "        self.W = self.add_weight(\n",
    "            name=\"W\", \n",
    "            shape=(1, batch_input_shape[1], self.n_caps, self.n_dims, batch_input_shape[2]),\n",
    "            initializer=keras.initializers.RandomNormal(stddev=0.1))\n",
    "        super().build(batch_input_shape)\n",
    "    def call(self, X):\n",
    "        # predict output vector\n",
    "        batch_size = tf.shape(X)[0]\n",
    "        caps1_n_caps = tf.shape(X)[1] \n",
    "        W_tiled = tf.tile(self.W, [batch_size, 1, 1, 1, 1])\n",
    "        caps1_output_expanded = tf.expand_dims(X, -1, name=\"caps1_output_expanded\")\n",
    "        caps1_output_tile = tf.expand_dims(caps1_output_expanded, 2, name=\"caps1_output_tile\")\n",
    "        caps1_output_tiled = tf.tile(caps1_output_tile, [1, 1, self.n_caps, 1, 1], name=\"caps1_output_tiled\")\n",
    "        caps2_predicted = tf.matmul(W_tiled, caps1_output_tiled, name=\"caps2_predicted\")\n",
    "        \n",
    "        # rounting by agreement\n",
    "        # routing weights\n",
    "        raw_weights = tf.zeros([batch_size, caps1_n_caps, self.n_caps, 1, 1],\n",
    "                       dtype=np.float32, name=\"raw_weights\")\n",
    "        assert self.routings > 0, 'The routings should be > 0.'\n",
    "        for i in range(self.routings):\n",
    "            routing_weights = tf.nn.softmax(raw_weights, axis=2, name=\"routing_weights\")\n",
    "            weighted_predictions = tf.multiply(routing_weights, caps2_predicted, name=\"weighted_predictions\")\n",
    "            weighted_sum = tf.reduce_sum(weighted_predictions, axis=1, keepdims=True, name=\"weighted_sum\")\n",
    "            caps2_output_round_1 = squash(weighted_sum, axis=-2, name=\"caps2_output_round_\")\n",
    "            caps2_output_squeezed = tf.squeeze(caps2_output_round_1, axis=[1,4], name=\"caps2_output_squeezed\")\n",
    "            if i < self.routings - 1:\n",
    "                caps2_output_round_1_tiled = tf.tile(\n",
    "                                        caps2_output_round_1, [1, caps1_n_caps, 1, 1, 1],\n",
    "                                        name=\"caps2_output_tiled_round_\")\n",
    "                agreement = tf.matmul(caps2_predicted, caps2_output_round_1_tiled,\n",
    "                      transpose_a=True, name=\"agreement\")\n",
    "                raw_weights_round_2 = tf.add(raw_weights, agreement,\n",
    "                             name=\"raw_weights_round_\")\n",
    "                raw_weights = raw_weights_round_2\n",
    "        return caps2_output_squeezed\n",
    "    def compute_output_shape(self, batch_input_shape):\n",
    "        return (batch_input_shape[0], self.n_caps, self.n_dims)\n",
    "    def get_config(self): ### custom layers to be serializable as part of a Functional model\n",
    "        base_config = super().get_config()\n",
    "        return {**base_config, \n",
    "                \"n_caps\": self.n_caps, \n",
    "                \"n_dims\": self.n_dims,\n",
    "                \"routings\": self.routings}"
   ]
  },
  {
   "cell_type": "code",
   "execution_count": 10,
   "metadata": {
    "colab": {},
    "colab_type": "code",
    "id": "JHrqvUQ8MLRV"
   },
   "outputs": [],
   "source": [
    "class LengthLayer(keras.layers.Layer):\n",
    "    \"\"\"\n",
    "    Compute the length of capsule vectors.\n",
    "    inputs: shape=[None, num_capsule, dim_vector]\n",
    "    output: shape=[None, num_capsule]\n",
    "    \"\"\"\n",
    "    def call(self, X):\n",
    "        y_proba = safe_norm(X, axis=-1, name=\"y_proba\")\n",
    "        return y_proba\n",
    "    def compute_output_shape(self, batch_input_shape): # in case the layer modifies the shape of its input, \n",
    "                                                        #you should specify here the shape transformation logic.\n",
    "                                                        #This allows Keras to do automatic shape inference.\n",
    "        return (batch_input_shape[0], batch_input_shape[1])"
   ]
  },
  {
   "cell_type": "code",
   "execution_count": 11,
   "metadata": {
    "colab": {},
    "colab_type": "code",
    "id": "1p8ylhB6M_6V"
   },
   "outputs": [],
   "source": [
    "class Mask(keras.layers.Layer):\n",
    "    \"\"\"\n",
    "    Mask a Tensor with the label during training \n",
    "    and mask a Tensor with predicted lable during test/inference\n",
    "    input shapes\n",
    "      X shape = [None, num_capsule, dim_vector] \n",
    "      y_true shape = [None, num_capsule] \n",
    "      y_pred shape = [None, num_capsule]\n",
    "    output shape = [None, num_capsule * dim_vector]\n",
    "    \"\"\"\n",
    "    def build(self, batch_input_shape):\n",
    "        self.n_caps = batch_input_shape[0][1]\n",
    "        self.n_dims = batch_input_shape[0][2]\n",
    "        super().build(batch_input_shape)\n",
    "    def call(self, input, training=None):\n",
    "        X, y_true, y_proba = input\n",
    "        if training:\n",
    "            reconstruction_mask = y_true\n",
    "        else:\n",
    "            y_proba_argmax = tf.math.argmax(y_proba, axis=1, name=\"y_proba\")\n",
    "            y_pred = tf.one_hot(y_proba_argmax, depth=self.n_caps, name=\"y_pred\")\n",
    "            reconstruction_mask = y_pred\n",
    "        reconstruction_mask_reshaped = tf.reshape(\n",
    "                                      reconstruction_mask, [-1, self.n_caps, 1],\n",
    "                                      name=\"reconstruction_mask_reshaped\")\n",
    "        caps2_output_masked = tf.multiply(\n",
    "                            X, reconstruction_mask_reshaped,\n",
    "                            name=\"caps2_output_masked\")\n",
    "        decoder_input = tf.reshape(caps2_output_masked,\n",
    "                        [-1, self.n_caps * self.n_dims],\n",
    "                        name=\"decoder_input\")\n",
    "        return decoder_input\n",
    "\n",
    "    def compute_output_shape(self, input_shape):\n",
    "        return (None, input_shape[0][1] * input_shape[0][2])"
   ]
  },
  {
   "cell_type": "code",
   "execution_count": 12,
   "metadata": {
    "colab": {},
    "colab_type": "code",
    "id": "rQpk77Q-ORaL"
   },
   "outputs": [],
   "source": [
    "class MarginLoss(keras.losses.Loss):\n",
    "    \"\"\"\n",
    "    Compute margin loss.\n",
    "    y_true shape [None, n_classes] \n",
    "    y_pred shape [None, num_capsule] = [None, n_classes]\n",
    "    \"\"\"\n",
    "    def __init__(self, m_plus=0.9, m_minus=0.1, lambda_=0.5, **kwargs):\n",
    "        self.m_plus = m_plus\n",
    "        self.m_minus = m_minus\n",
    "        self.lambda_ = lambda_\n",
    "        super().__init__(**kwargs)\n",
    "        \n",
    "    def call(self, y_true, y_proba):\n",
    "        present_error_raw = tf.square(tf.maximum(0., self.m_plus - y_proba), name=\"present_error_raw\")\n",
    "        absent_error_raw = tf.square(tf.maximum(0., y_proba - self.m_minus), name=\"absent_error_raw\")\n",
    "        L = tf.add(y_true * present_error_raw, self.lambda_ * (1.0 - y_true) * absent_error_raw,\n",
    "           name=\"L\")\n",
    "        total_marginloss = tf.reduce_mean(tf.reduce_sum(L, axis=1), name=\"margin_loss\")\n",
    "        return total_marginloss\n",
    "    \n",
    "    def get_config(self): ### custom layers to be serializable as part of a Functional model\n",
    "        base_config = super().get_config()\n",
    "        return {**base_config, \n",
    "                \"m_plus\": self.m_plus,\n",
    "                \"m_minus\": self.m_minus,\n",
    "                \"lambda_\": self.lambda_}"
   ]
  },
  {
   "cell_type": "markdown",
   "metadata": {
    "colab_type": "text",
    "id": "rbAaMvu-LE4M"
   },
   "source": [
    "# Build the CapsNet architecture"
   ]
  },
  {
   "cell_type": "markdown",
   "metadata": {
    "colab_type": "text",
    "id": "rbAaMvu-LE4M"
   },
   "source": [
    "## - Configuation parameters"
   ]
  },
  {
   "cell_type": "code",
   "execution_count": 13,
   "metadata": {
    "colab": {},
    "colab_type": "code",
    "id": "0HvL_KvlQEbh"
   },
   "outputs": [],
   "source": [
    "caps1_n_maps = 64\n",
    "caps1_n_caps = caps1_n_maps * 7 * 7\n",
    "caps1_n_dims = 8\n",
    "conv1_params = {\n",
    "    \"filters\": 256,\n",
    "    \"kernel_size\": 9,\n",
    "    \"strides\": 2,\n",
    "    \"padding\": \"valid\",\n",
    "    \"activation\": tf.nn.relu,\n",
    "}\n",
    "conv2_params = {\n",
    "    \"filters\": caps1_n_maps * caps1_n_dims,\n",
    "    \"kernel_size\": 9,\n",
    "    \"strides\": 3,\n",
    "    \"padding\": \"valid\",\n",
    "    \"activation\": tf.nn.relu\n",
    "}\n",
    "n_class_fine=info['Num_Fine']\n",
    "caps2_n_caps_fine = n_class_fine\n",
    "caps2_n_dims = 16\n",
    "\n",
    "n_hidden1 = 512\n",
    "n_hidden2 = 1024\n",
    "n_output = 30 * 30"
   ]
  },
  {
   "cell_type": "markdown",
   "metadata": {
    "colab_type": "text",
    "id": "SK4UrYq_QbmQ"
   },
   "source": [
    "## Connect layers"
   ]
  },
  {
   "cell_type": "code",
   "execution_count": 14,
   "metadata": {
    "colab": {
     "base_uri": "https://localhost:8080/",
     "height": 547
    },
    "colab_type": "code",
    "id": "pnbWy9xtQY1s",
    "outputId": "cd50b71b-275a-4983-8c73-238ef6734e0a",
    "scrolled": true
   },
   "outputs": [],
   "source": [
    "# clear session\n",
    "tf.keras.backend.clear_session()\n",
    "\n",
    "def get_compiled_model():\n",
    "    \n",
    "    # Input image\n",
    "    x_input = keras.layers.Input(shape=image_shape, name=\"Input_Image\")\n",
    "\n",
    "    # Layer 1 and 2: Two conventional Conv2D layer\n",
    "    # input [batch_size, 28, 28, 1], output [batch_size, 6, 6, 256]\n",
    "    conv1 = keras.layers.Conv2D(name='conv1', **conv1_params)(x_input)\n",
    "    conv2 = keras.layers.Conv2D(name='conv2', **conv2_params)(conv1)\n",
    "\n",
    "    # Layer 3: Reshape to 8D primary capsules \n",
    "    # input [batch_size, 6, 6, 256], output [batch_size, 1152, 8]\n",
    "    reshape1 = keras.layers.Reshape((caps1_n_caps, caps1_n_dims), name=\"reshape_layer\")(conv2)\n",
    "\n",
    "    # Layer 3: Squash to normalize length of each primary capsule vector\n",
    "    # input [batch_size, 1152, 8], output [batch_size, 1152, 8]\n",
    "    squash1 = keras.layers.Lambda(squash, name='squash_layer')(reshape1)\n",
    "\n",
    "    # Layer 4.1: Digit capsule layer with routing by agreement\n",
    "    # input [batch_size, 1152, 8], output [batch_size, 10, 16]\n",
    "    digitcaps_fine = SecondaryCapsule(n_caps=caps2_n_caps_fine, n_dims=caps2_n_dims, \n",
    "                        name=\"Digit_Caps_fine\")(squash1)\n",
    "\n",
    "    # Layer 5.1: Compute the length of each capsule vector\n",
    "    # input [batch_size, 10, 16], output [batch_size, 10]\n",
    "    fine_pred_layer = LengthLayer(name='Fine_prediction_output_layer')(digitcaps_fine)\n",
    "\n",
    "\n",
    "    # Decoder network.\n",
    "    n_hidden1 = 512\n",
    "    n_hidden2 = 1024\n",
    "    n_output = np.prod(image_shape) # 28 * 28\n",
    "\n",
    "    fine_input = keras.Input(shape=(n_class_fine,), name=\"fine_image_label\")\n",
    "\n",
    "    # Mask layer\n",
    "    # input [batch_size, 10], output [batch_size, 160]\n",
    "\n",
    "    decoder_input_fine = Mask(name='Mask_input_fine')([digitcaps_fine, fine_input, fine_pred_layer]) \n",
    "\n",
    "    # Decoder_fine\n",
    "    # input [batch_size, 160], output [batch_size, 28, 28, 1]\n",
    "    decoder_fine = keras.models.Sequential(name='Decoder_fine')\n",
    "    decoder_fine.add(keras.layers.Dense(n_hidden1, activation='relu', input_dim=caps2_n_dims*n_class_fine))\n",
    "    decoder_fine.add(keras.layers.Dense(n_hidden2, activation='relu'))\n",
    "    decoder_fine.add(keras.layers.Dense(n_output, activation='sigmoid'))\n",
    "    decoder_fine.add(keras.layers.Reshape(target_shape=image_shape, name='recon_output_layer_fine'))\n",
    "\n",
    "    fine_decoder= decoder_fine(decoder_input_fine)\n",
    "\n",
    "    # Capsnet model\n",
    "    model = keras.Model(\n",
    "        inputs= [x_input, fine_input],\n",
    "        outputs= [fine_pred_layer, fine_decoder],\n",
    "        name='capsnet_tf2.X')\n",
    "    \n",
    "    model.compile(\n",
    "        optimizer='adam',\n",
    "        loss=[MarginLoss(),\n",
    "              MarginLoss(),\n",
    "              'mse'\n",
    "             ],\n",
    "        loss_weights=[0.9995, 0.0005],\n",
    "        metrics={'Fine_prediction_output_layer': 'accuracy'\n",
    "                }\n",
    "    )\n",
    "    return model"
   ]
  },
  {
   "cell_type": "markdown",
   "metadata": {},
   "source": [
    "## Model Compile"
   ]
  },
  {
   "cell_type": "code",
   "execution_count": 15,
   "metadata": {},
   "outputs": [],
   "source": [
    "#Single GPU\n",
    "model = get_compiled_model()"
   ]
  },
  {
   "cell_type": "raw",
   "metadata": {},
   "source": [
    "#Multiple GPU ------ LINUX\n",
    "strategy = tf.distribute.MirroredStrategy()\n",
    "print(\"Number of devices: {}\".format(strategy.num_replicas_in_sync))\n",
    "\n",
    "# Open a strategy scope.\n",
    "with strategy.scope():\n",
    "    # Everything that creates variables should be under the strategy scope.\n",
    "    # In general this is only model construction & `compile()`.\n",
    "    model = get_compiled_model()"
   ]
  },
  {
   "cell_type": "raw",
   "metadata": {},
   "source": [
    "#Multiple GPU ------ Windows\n",
    "strategy = tf.distribute.MirroredStrategy(devices=[\"/gpu:0\",\n",
    "                                                   \"/gpu:1\",\n",
    "                                                   \"/gpu:2\",\n",
    "                                                   \"/gpu:3\",\n",
    "                                                   \"/gpu:4\",\n",
    "                                                   \"/gpu:5\",], \n",
    "                                          cross_device_ops=tf.distribute.HierarchicalCopyAllReduce())\n",
    "\n",
    "print(\"Number of devices: {}\".format(strategy.num_replicas_in_sync))\n",
    "\n",
    "# Open a strategy scope.\n",
    "with strategy.scope():\n",
    "    # Everything that creates variables should be under the strategy scope.\n",
    "    # In general this is only model construction & `compile()`.\n",
    "    model = get_compiled_model()"
   ]
  },
  {
   "cell_type": "markdown",
   "metadata": {},
   "source": [
    "# Model Summary"
   ]
  },
  {
   "cell_type": "code",
   "execution_count": 16,
   "metadata": {
    "scrolled": true
   },
   "outputs": [
    {
     "name": "stdout",
     "output_type": "stream",
     "text": [
      "Model: \"capsnet_tf2.X\"\n",
      "__________________________________________________________________________________________________\n",
      " Layer (type)                   Output Shape         Param #     Connected to                     \n",
      "==================================================================================================\n",
      " Input_Image (InputLayer)       [(None, 64, 64, 3)]  0           []                               \n",
      "                                                                                                  \n",
      " conv1 (Conv2D)                 (None, 28, 28, 256)  62464       ['Input_Image[0][0]']            \n",
      "                                                                                                  \n",
      " conv2 (Conv2D)                 (None, 7, 7, 512)    10617344    ['conv1[0][0]']                  \n",
      "                                                                                                  \n",
      " reshape_layer (Reshape)        (None, 3136, 8)      0           ['conv2[0][0]']                  \n",
      "                                                                                                  \n",
      " squash_layer (Lambda)          (None, 3136, 8)      0           ['reshape_layer[0][0]']          \n",
      "                                                                                                  \n",
      " Digit_Caps_fine (SecondaryCaps  (None, 200, 16)     80281600    ['squash_layer[0][0]']           \n",
      " ule)                                                                                             \n",
      "                                                                                                  \n",
      " Fine_prediction_output_layer (  (None, 200)         0           ['Digit_Caps_fine[0][0]']        \n",
      " LengthLayer)                                                                                     \n",
      "                                                                                                  \n",
      " fine_image_label (InputLayer)  [(None, 200)]        0           []                               \n",
      "                                                                                                  \n",
      " Mask_input_fine (Mask)         (None, 3200)         0           ['Digit_Caps_fine[0][0]',        \n",
      "                                                                  'fine_image_label[0][0]',       \n",
      "                                                                  'Fine_prediction_output_layer[0]\n",
      "                                                                 [0]']                            \n",
      "                                                                                                  \n",
      " Decoder_fine (Sequential)      (None, 64, 64, 3)    14759424    ['Mask_input_fine[0][0]']        \n",
      "                                                                                                  \n",
      "==================================================================================================\n",
      "Total params: 105,720,832\n",
      "Trainable params: 105,720,832\n",
      "Non-trainable params: 0\n",
      "__________________________________________________________________________________________________\n"
     ]
    }
   ],
   "source": [
    "model.summary()"
   ]
  },
  {
   "cell_type": "markdown",
   "metadata": {},
   "source": [
    "## Log Directory"
   ]
  },
  {
   "cell_type": "code",
   "execution_count": 17,
   "metadata": {},
   "outputs": [
    {
     "name": "stdout",
     "output_type": "stream",
     "text": [
      "FOLDER CREATED =  ./logs/CapsNet/Flat_Classification\n"
     ]
    }
   ],
   "source": [
    "directory = sysenv.log_dir('CapsNet/Flat_Classification')"
   ]
  },
  {
   "cell_type": "code",
   "execution_count": 18,
   "metadata": {
    "scrolled": true
   },
   "outputs": [
    {
     "data": {
      "image/png": "[encoded data removed]",
      "text/plain": [
       "<IPython.core.display.Image object>"
      ]
     },
     "execution_count": 18,
     "metadata": {},
     "output_type": "execute_result"
    }
   ],
   "source": [
    "keras.utils.plot_model(model, to_file = directory+\"/Architecture.png\", show_shapes=True)"
   ]
  },
  {
   "cell_type": "markdown",
   "metadata": {
    "colab_type": "text",
    "id": "6zf2V-ClRTpe"
   },
   "source": [
    "<font color='red'><h2 align=\"center\"> **Training Parameters** </h2></font>"
   ]
  },
  {
   "cell_type": "markdown",
   "metadata": {
    "colab_type": "text",
    "id": "fhSuy8JNR3L6"
   },
   "source": [
    "## Callbacks"
   ]
  },
  {
   "cell_type": "code",
   "execution_count": 19,
   "metadata": {
    "colab": {},
    "colab_type": "code",
    "id": "E1f1j-RPRzbj"
   },
   "outputs": [],
   "source": [
    "tb = keras.callbacks.TensorBoard(directory+'./tb_logs'+ datetime.now().strftime(\"%Y%m%d-%H%M%S\"))\n",
    "\n",
    "log = keras.callbacks.CSVLogger(directory+'/log.csv', append=True)\n",
    "\n",
    "checkpoint = keras.callbacks.ModelCheckpoint(\n",
    "    directory+'/weights-{epoch:02d}.h5',  \n",
    "    monitor='val_loss',\n",
    "    save_best_only=True, save_weights_only=True, verbose=1)\n",
    "\n",
    "lr_decay = keras.callbacks.LearningRateScheduler(\n",
    "    schedule=lambda epoch: train_params[\"lr\"] * (train_params[\"lr_decay\"] ** epoch))"
   ]
  },
  {
   "cell_type": "markdown",
   "metadata": {
    "colab_type": "text",
    "id": "ddvlIAnLR_N1"
   },
   "source": [
    "# Run training"
   ]
  },
  {
   "cell_type": "markdown",
   "metadata": {},
   "source": [
    "## Training Pipeline Alignment"
   ]
  },
  {
   "cell_type": "code",
   "execution_count": 20,
   "metadata": {},
   "outputs": [],
   "source": [
    "#### Matching the pipeling with model inputs\n",
    "def pipeline_multi_input_output(image, label):\n",
    "    label_0 = label[0]\n",
    "    label_1 = label[1]\n",
    "    label_2 = label[2]\n",
    "    return (image, label_2), (label_2,image)\n",
    "### matchin X,Y with model input\n",
    "training_dataset_match = training_dataset.map(pipeline_multi_input_output) ## Mixup dataset\n",
    "val_dataset_match = val_dataset.map(pipeline_multi_input_output) ## Val Dataset\n",
    "test_dataset_match = test_dataset.map(pipeline_multi_input_output) ## test Dataset\n"
   ]
  },
  {
   "cell_type": "code",
   "execution_count": 21,
   "metadata": {},
   "outputs": [
    {
     "data": {
      "image/png": "[encoded data removed]",
      "text/plain": [
       "<Figure size 432x288 with 1 Axes>"
      ]
     },
     "metadata": {
      "needs_background": "light"
     },
     "output_type": "display_data"
    },
    {
     "name": "stdout",
     "output_type": "stream",
     "text": [
      "tf.Tensor(\n",
      "[0.         0.         0.         0.         0.         0.\n",
      " 0.         0.         0.         0.         0.         0.\n",
      " 0.         0.         0.         0.         0.         0.\n",
      " 0.         0.         0.         0.         0.         0.\n",
      " 0.         0.         0.         0.         0.         0.\n",
      " 0.         0.         0.         0.         0.         0.\n",
      " 0.         0.         0.         0.         0.         0.\n",
      " 0.         0.         0.         0.         0.         0.\n",
      " 0.         0.         0.         0.         0.         0.\n",
      " 0.         0.         0.         0.         0.         0.\n",
      " 0.         0.         0.         0.         0.         0.\n",
      " 0.         0.         0.         0.         0.         0.\n",
      " 0.         0.         0.         0.         0.         0.\n",
      " 0.         0.11353481 0.         0.         0.         0.\n",
      " 0.         0.         0.         0.         0.         0.\n",
      " 0.         0.         0.         0.         0.         0.\n",
      " 0.         0.         0.         0.         0.         0.\n",
      " 0.         0.         0.         0.         0.         0.\n",
      " 0.         0.         0.         0.         0.         0.\n",
      " 0.         0.         0.         0.         0.         0.\n",
      " 0.         0.         0.         0.         0.         0.\n",
      " 0.         0.         0.         0.         0.         0.\n",
      " 0.         0.         0.         0.         0.         0.\n",
      " 0.         0.         0.         0.         0.         0.\n",
      " 0.         0.         0.         0.         0.         0.\n",
      " 0.         0.         0.         0.         0.         0.\n",
      " 0.         0.         0.         0.         0.         0.\n",
      " 0.         0.         0.         0.         0.         0.\n",
      " 0.         0.         0.         0.         0.         0.\n",
      " 0.         0.         0.         0.         0.         0.\n",
      " 0.         0.         0.         0.         0.8864652  0.\n",
      " 0.         0.         0.         0.         0.         0.\n",
      " 0.         0.         0.         0.         0.         0.\n",
      " 0.         0.        ], shape=(200,), dtype=float32)\n"
     ]
    },
    {
     "data": {
      "image/png": "[encoded data removed]",
      "text/plain": [
       "<Figure size 432x288 with 1 Axes>"
      ]
     },
     "metadata": {
      "needs_background": "light"
     },
     "output_type": "display_data"
    },
    {
     "name": "stdout",
     "output_type": "stream",
     "text": [
      "tf.Tensor(\n",
      "[0.         0.         0.         0.         0.         0.\n",
      " 0.         0.         0.         0.         0.         0.\n",
      " 0.         0.         0.         0.         0.         0.\n",
      " 0.         0.         0.         0.         0.         0.\n",
      " 0.         0.         0.         0.         0.         0.\n",
      " 0.         0.         0.         0.         0.         0.\n",
      " 0.         0.         0.         0.         0.         0.\n",
      " 0.         0.         0.         0.         0.         0.\n",
      " 0.         0.         0.         0.         0.         0.\n",
      " 0.         0.         0.         0.         0.         0.\n",
      " 0.         0.         0.         0.         0.         0.\n",
      " 0.         0.         0.         0.         0.         0.\n",
      " 0.         0.         0.         0.         0.         0.\n",
      " 0.         0.         0.         0.         0.         0.\n",
      " 0.         0.         0.         0.         0.         0.\n",
      " 0.         0.         0.         0.         0.         0.\n",
      " 0.         0.         0.         0.         0.         0.\n",
      " 0.         0.         0.         0.         0.         0.\n",
      " 0.         0.         0.         0.         0.         0.\n",
      " 0.         0.         0.         0.         0.         0.\n",
      " 0.         0.         0.         0.         0.         0.\n",
      " 0.         0.         0.         0.         0.         0.\n",
      " 0.         0.         0.         0.         0.         0.\n",
      " 0.         0.         0.         0.         0.         0.\n",
      " 0.         0.         0.         0.         0.         0.\n",
      " 0.         0.         0.         0.         0.         0.\n",
      " 0.         0.         0.5689132  0.         0.         0.\n",
      " 0.         0.         0.         0.         0.         0.\n",
      " 0.         0.         0.         0.         0.         0.\n",
      " 0.         0.         0.         0.         0.         0.\n",
      " 0.         0.         0.         0.         0.         0.43108678\n",
      " 0.         0.         0.         0.         0.         0.\n",
      " 0.         0.         0.         0.         0.         0.\n",
      " 0.         0.        ], shape=(200,), dtype=float32)\n"
     ]
    },
    {
     "data": {
      "image/png": "[encoded data removed]",
      "text/plain": [
       "<Figure size 432x288 with 1 Axes>"
      ]
     },
     "metadata": {
      "needs_background": "light"
     },
     "output_type": "display_data"
    },
    {
     "name": "stdout",
     "output_type": "stream",
     "text": [
      "tf.Tensor(\n",
      "[0.         0.         0.         0.         0.         0.\n",
      " 0.         0.         0.         0.         0.         0.\n",
      " 0.         0.         0.         0.         0.         0.\n",
      " 0.         0.         0.         0.         0.         0.\n",
      " 0.         0.         0.         0.         0.         0.\n",
      " 0.         0.         0.         0.         0.         0.\n",
      " 0.         0.         0.         0.         0.         0.\n",
      " 0.         0.         0.         0.         0.         0.\n",
      " 0.         0.         0.         0.         0.         0.\n",
      " 0.         0.         0.         0.         0.         0.\n",
      " 0.         0.         0.         0.         0.         0.\n",
      " 0.         0.         0.         0.         0.         0.\n",
      " 0.         0.         0.         0.         0.         0.\n",
      " 0.         0.         0.         0.         0.         0.\n",
      " 0.         0.         0.         0.         0.         0.\n",
      " 0.         0.         0.         0.         0.         0.\n",
      " 0.         0.         0.         0.         0.         0.\n",
      " 0.         0.         0.         0.         0.         0.\n",
      " 0.         0.         0.         0.         0.         0.\n",
      " 0.         0.         0.         0.         0.         0.\n",
      " 0.         0.         0.         0.         0.         0.\n",
      " 0.         0.         0.         0.         0.         0.\n",
      " 0.         0.         0.         0.         0.         0.\n",
      " 0.         0.         0.         0.         0.         0.\n",
      " 0.         0.         0.         0.         0.         0.\n",
      " 0.         0.         0.         0.         0.         0.00250751\n",
      " 0.         0.         0.         0.         0.         0.\n",
      " 0.         0.         0.         0.         0.         0.\n",
      " 0.         0.         0.         0.         0.         0.\n",
      " 0.         0.         0.         0.         0.         0.\n",
      " 0.         0.         0.         0.         0.         0.\n",
      " 0.         0.         0.         0.         0.         0.9974925\n",
      " 0.         0.         0.         0.         0.         0.\n",
      " 0.         0.        ], shape=(200,), dtype=float32)\n"
     ]
    },
    {
     "data": {
      "image/png": "[encoded data removed]",
      "text/plain": [
       "<Figure size 432x288 with 1 Axes>"
      ]
     },
     "metadata": {
      "needs_background": "light"
     },
     "output_type": "display_data"
    },
    {
     "name": "stdout",
     "output_type": "stream",
     "text": [
      "tf.Tensor(\n",
      "[0.         0.         0.         0.         0.         0.\n",
      " 0.         0.         0.         0.         0.         0.\n",
      " 0.         0.         0.         0.         0.         0.\n",
      " 0.         0.         0.         0.         0.         0.\n",
      " 0.         0.         0.         0.         0.         0.\n",
      " 0.         0.         0.         0.         0.         0.\n",
      " 0.         0.         0.         0.         0.         0.\n",
      " 0.         0.99809027 0.         0.         0.         0.\n",
      " 0.         0.         0.         0.         0.         0.\n",
      " 0.         0.         0.         0.         0.         0.\n",
      " 0.         0.         0.         0.         0.         0.\n",
      " 0.         0.         0.         0.         0.         0.\n",
      " 0.         0.         0.         0.         0.         0.\n",
      " 0.         0.         0.         0.         0.         0.\n",
      " 0.         0.         0.         0.         0.         0.\n",
      " 0.         0.         0.         0.         0.         0.\n",
      " 0.         0.         0.         0.         0.         0.\n",
      " 0.         0.         0.         0.         0.         0.\n",
      " 0.         0.         0.         0.         0.         0.\n",
      " 0.         0.         0.         0.         0.         0.\n",
      " 0.         0.         0.         0.         0.         0.\n",
      " 0.         0.         0.         0.         0.         0.\n",
      " 0.         0.         0.         0.         0.         0.00190973\n",
      " 0.         0.         0.         0.         0.         0.\n",
      " 0.         0.         0.         0.         0.         0.\n",
      " 0.         0.         0.         0.         0.         0.\n",
      " 0.         0.         0.         0.         0.         0.\n",
      " 0.         0.         0.         0.         0.         0.\n",
      " 0.         0.         0.         0.         0.         0.\n",
      " 0.         0.         0.         0.         0.         0.\n",
      " 0.         0.         0.         0.         0.         0.\n",
      " 0.         0.         0.         0.         0.         0.\n",
      " 0.         0.         0.         0.         0.         0.\n",
      " 0.         0.        ], shape=(200,), dtype=float32)\n"
     ]
    },
    {
     "data": {
      "image/png": "[encoded data removed]",
      "text/plain": [
       "<Figure size 432x288 with 1 Axes>"
      ]
     },
     "metadata": {
      "needs_background": "light"
     },
     "output_type": "display_data"
    },
    {
     "name": "stdout",
     "output_type": "stream",
     "text": [
      "tf.Tensor(\n",
      "[0.         0.         0.         0.         0.         0.\n",
      " 0.         0.         0.         0.         0.         0.\n",
      " 0.         0.         0.         0.         0.         0.\n",
      " 0.         0.         0.         0.         0.         0.\n",
      " 0.         0.         0.         0.         0.         0.\n",
      " 0.         0.         0.         0.         0.         0.\n",
      " 0.         0.         0.         0.         0.         0.\n",
      " 0.         0.         0.         0.         0.         0.\n",
      " 0.         0.         0.         0.         0.         0.\n",
      " 0.         0.         0.         0.         0.         0.\n",
      " 0.         0.         0.         0.92353404 0.         0.\n",
      " 0.         0.         0.         0.         0.         0.\n",
      " 0.         0.         0.         0.         0.         0.\n",
      " 0.         0.         0.         0.         0.         0.\n",
      " 0.         0.         0.         0.         0.         0.\n",
      " 0.         0.         0.         0.         0.         0.\n",
      " 0.         0.         0.         0.         0.         0.\n",
      " 0.         0.         0.         0.         0.         0.\n",
      " 0.         0.         0.         0.         0.         0.\n",
      " 0.         0.         0.         0.         0.         0.\n",
      " 0.         0.         0.         0.         0.         0.\n",
      " 0.         0.         0.         0.         0.         0.07646596\n",
      " 0.         0.         0.         0.         0.         0.\n",
      " 0.         0.         0.         0.         0.         0.\n",
      " 0.         0.         0.         0.         0.         0.\n",
      " 0.         0.         0.         0.         0.         0.\n",
      " 0.         0.         0.         0.         0.         0.\n",
      " 0.         0.         0.         0.         0.         0.\n",
      " 0.         0.         0.         0.         0.         0.\n",
      " 0.         0.         0.         0.         0.         0.\n",
      " 0.         0.         0.         0.         0.         0.\n",
      " 0.         0.         0.         0.         0.         0.\n",
      " 0.         0.         0.         0.         0.         0.\n",
      " 0.         0.        ], shape=(200,), dtype=float32)\n"
     ]
    }
   ],
   "source": [
    "for x,y in training_dataset_match.take(5):\n",
    "    plt.imshow(x[0][0])\n",
    "    plt.show()\n",
    "    print(y[0][0])"
   ]
  },
  {
   "cell_type": "markdown",
   "metadata": {},
   "source": [
    "## Training"
   ]
  },
  {
   "cell_type": "code",
   "execution_count": null,
   "metadata": {},
   "outputs": [],
   "source": [
    "model.load"
   ]
  },
  {
   "cell_type": "code",
   "execution_count": 22,
   "metadata": {
    "scrolled": true
   },
   "outputs": [
    {
     "name": "stdout",
     "output_type": "stream",
     "text": [
      "Epoch 1/100\n",
      "750/750 [==============================] - ETA: 0s - loss: 0.6983 - Fine_prediction_output_layer_loss: 0.6951 - Decoder_fine_loss: 7.0217 - Fine_prediction_output_layer_accuracy: 0.0048\n",
      "Epoch 1: val_loss improved from inf to 0.67473, saving model to ./logs/CapsNet/Flat_Classification\\weights-01.h5\n",
      "750/750 [==============================] - 366s 463ms/step - loss: 0.6983 - Fine_prediction_output_layer_loss: 0.6951 - Decoder_fine_loss: 7.0217 - Fine_prediction_output_layer_accuracy: 0.0048 - val_loss: 0.6747 - val_Fine_prediction_output_layer_loss: 0.6716 - val_Decoder_fine_loss: 6.9088 - val_Fine_prediction_output_layer_accuracy: 0.0055 - lr: 0.0010\n",
      "Epoch 2/100\n",
      "750/750 [==============================] - ETA: 0s - loss: 0.6667 - Fine_prediction_output_layer_loss: 0.6635 - Decoder_fine_loss: 6.9195 - Fine_prediction_output_layer_accuracy: 0.0050\n",
      "Epoch 2: val_loss improved from 0.67473 to 0.66604, saving model to ./logs/CapsNet/Flat_Classification\\weights-02.h5\n",
      "750/750 [==============================] - 356s 468ms/step - loss: 0.6667 - Fine_prediction_output_layer_loss: 0.6635 - Decoder_fine_loss: 6.9195 - Fine_prediction_output_layer_accuracy: 0.0050 - val_loss: 0.6660 - val_Fine_prediction_output_layer_loss: 0.6629 - val_Decoder_fine_loss: 6.9067 - val_Fine_prediction_output_layer_accuracy: 0.0045 - lr: 9.5000e-04\n",
      "Epoch 3/100\n",
      "750/750 [==============================] - ETA: 0s - loss: 0.6602 - Fine_prediction_output_layer_loss: 0.6570 - Decoder_fine_loss: 6.9096 - Fine_prediction_output_layer_accuracy: 0.0040\n",
      "Epoch 3: val_loss improved from 0.66604 to 0.66089, saving model to ./logs/CapsNet/Flat_Classification\\weights-03.h5\n",
      "750/750 [==============================] - 355s 468ms/step - loss: 0.6602 - Fine_prediction_output_layer_loss: 0.6570 - Decoder_fine_loss: 6.9096 - Fine_prediction_output_layer_accuracy: 0.0040 - val_loss: 0.6609 - val_Fine_prediction_output_layer_loss: 0.6578 - val_Decoder_fine_loss: 6.9190 - val_Fine_prediction_output_layer_accuracy: 0.0041 - lr: 9.0250e-04\n",
      "Epoch 4/100\n",
      "750/750 [==============================] - ETA: 0s - loss: 0.6570 - Fine_prediction_output_layer_loss: 0.6539 - Decoder_fine_loss: 6.9034 - Fine_prediction_output_layer_accuracy: 0.0058\n",
      "Epoch 4: val_loss improved from 0.66089 to 0.65326, saving model to ./logs/CapsNet/Flat_Classification\\weights-04.h5\n",
      "750/750 [==============================] - 353s 465ms/step - loss: 0.6570 - Fine_prediction_output_layer_loss: 0.6539 - Decoder_fine_loss: 6.9034 - Fine_prediction_output_layer_accuracy: 0.0058 - val_loss: 0.6533 - val_Fine_prediction_output_layer_loss: 0.6501 - val_Decoder_fine_loss: 6.9045 - val_Fine_prediction_output_layer_accuracy: 0.0052 - lr: 8.5737e-04\n",
      "Epoch 5/100\n",
      "750/750 [==============================] - ETA: 0s - loss: 0.6561 - Fine_prediction_output_layer_loss: 0.6530 - Decoder_fine_loss: 6.8957 - Fine_prediction_output_layer_accuracy: 0.0062\n",
      "Epoch 5: val_loss improved from 0.65326 to 0.65324, saving model to ./logs/CapsNet/Flat_Classification\\weights-05.h5\n",
      "750/750 [==============================] - 353s 465ms/step - loss: 0.6561 - Fine_prediction_output_layer_loss: 0.6530 - Decoder_fine_loss: 6.8957 - Fine_prediction_output_layer_accuracy: 0.0062 - val_loss: 0.6532 - val_Fine_prediction_output_layer_loss: 0.6501 - val_Decoder_fine_loss: 6.9072 - val_Fine_prediction_output_layer_accuracy: 0.0055 - lr: 8.1451e-04\n",
      "Epoch 6/100\n",
      "750/750 [==============================] - ETA: 0s - loss: 0.6540 - Fine_prediction_output_layer_loss: 0.6509 - Decoder_fine_loss: 6.8821 - Fine_prediction_output_layer_accuracy: 0.0055\n",
      "Epoch 6: val_loss did not improve from 0.65324\n",
      "750/750 [==============================] - 347s 457ms/step - loss: 0.6540 - Fine_prediction_output_layer_loss: 0.6509 - Decoder_fine_loss: 6.8821 - Fine_prediction_output_layer_accuracy: 0.0055 - val_loss: 0.6545 - val_Fine_prediction_output_layer_loss: 0.6514 - val_Decoder_fine_loss: 6.9396 - val_Fine_prediction_output_layer_accuracy: 0.0045 - lr: 7.7378e-04\n",
      "Epoch 7/100\n",
      "750/750 [==============================] - ETA: 0s - loss: 0.6517 - Fine_prediction_output_layer_loss: 0.6485 - Decoder_fine_loss: 6.8662 - Fine_prediction_output_layer_accuracy: 0.0048\n",
      "Epoch 7: val_loss improved from 0.65324 to 0.65130, saving model to ./logs/CapsNet/Flat_Classification\\weights-07.h5\n",
      "750/750 [==============================] - 355s 467ms/step - loss: 0.6517 - Fine_prediction_output_layer_loss: 0.6485 - Decoder_fine_loss: 6.8662 - Fine_prediction_output_layer_accuracy: 0.0048 - val_loss: 0.6513 - val_Fine_prediction_output_layer_loss: 0.6481 - val_Decoder_fine_loss: 6.9657 - val_Fine_prediction_output_layer_accuracy: 0.0048 - lr: 7.3509e-04\n",
      "Epoch 8/100\n",
      "750/750 [==============================] - ETA: 0s - loss: 0.6523 - Fine_prediction_output_layer_loss: 0.6492 - Decoder_fine_loss: 6.8607 - Fine_prediction_output_layer_accuracy: 0.0058\n",
      "Epoch 8: val_loss did not improve from 0.65130\n",
      "750/750 [==============================] - 347s 456ms/step - loss: 0.6523 - Fine_prediction_output_layer_loss: 0.6492 - Decoder_fine_loss: 6.8607 - Fine_prediction_output_layer_accuracy: 0.0058 - val_loss: 0.6522 - val_Fine_prediction_output_layer_loss: 0.6491 - val_Decoder_fine_loss: 6.8815 - val_Fine_prediction_output_layer_accuracy: 0.0083 - lr: 6.9834e-04\n",
      "Epoch 9/100\n",
      "750/750 [==============================] - ETA: 0s - loss: 0.6501 - Fine_prediction_output_layer_loss: 0.6470 - Decoder_fine_loss: 6.8503 - Fine_prediction_output_layer_accuracy: 0.0063\n",
      "Epoch 9: val_loss did not improve from 0.65130\n",
      "750/750 [==============================] - 347s 457ms/step - loss: 0.6501 - Fine_prediction_output_layer_loss: 0.6470 - Decoder_fine_loss: 6.8503 - Fine_prediction_output_layer_accuracy: 0.0063 - val_loss: 0.6534 - val_Fine_prediction_output_layer_loss: 0.6502 - val_Decoder_fine_loss: 7.0311 - val_Fine_prediction_output_layer_accuracy: 0.0041 - lr: 6.6342e-04\n",
      "Epoch 10/100\n",
      "750/750 [==============================] - ETA: 0s - loss: 0.6500 - Fine_prediction_output_layer_loss: 0.6469 - Decoder_fine_loss: 6.8429 - Fine_prediction_output_layer_accuracy: 0.0078\n",
      "Epoch 10: val_loss improved from 0.65130 to 0.65003, saving model to ./logs/CapsNet/Flat_Classification\\weights-10.h5\n",
      "750/750 [==============================] - 355s 467ms/step - loss: 0.6500 - Fine_prediction_output_layer_loss: 0.6469 - Decoder_fine_loss: 6.8429 - Fine_prediction_output_layer_accuracy: 0.0078 - val_loss: 0.6500 - val_Fine_prediction_output_layer_loss: 0.6467 - val_Decoder_fine_loss: 7.3108 - val_Fine_prediction_output_layer_accuracy: 0.0062 - lr: 6.3025e-04\n",
      "Epoch 11/100\n",
      "750/750 [==============================] - ETA: 0s - loss: 0.6474 - Fine_prediction_output_layer_loss: 0.6443 - Decoder_fine_loss: 6.8507 - Fine_prediction_output_layer_accuracy: 0.0063\n",
      "Epoch 11: val_loss did not improve from 0.65003\n",
      "750/750 [==============================] - 347s 457ms/step - loss: 0.6474 - Fine_prediction_output_layer_loss: 0.6443 - Decoder_fine_loss: 6.8507 - Fine_prediction_output_layer_accuracy: 0.0063 - val_loss: 0.6520 - val_Fine_prediction_output_layer_loss: 0.6489 - val_Decoder_fine_loss: 6.9541 - val_Fine_prediction_output_layer_accuracy: 0.0045 - lr: 5.9874e-04\n",
      "Epoch 12/100\n",
      "750/750 [==============================] - ETA: 0s - loss: 0.6461 - Fine_prediction_output_layer_loss: 0.6431 - Decoder_fine_loss: 6.8414 - Fine_prediction_output_layer_accuracy: 0.0073\n",
      "Epoch 12: val_loss improved from 0.65003 to 0.64872, saving model to ./logs/CapsNet/Flat_Classification\\weights-12.h5\n",
      "750/750 [==============================] - 357s 470ms/step - loss: 0.6461 - Fine_prediction_output_layer_loss: 0.6431 - Decoder_fine_loss: 6.8414 - Fine_prediction_output_layer_accuracy: 0.0073 - val_loss: 0.6487 - val_Fine_prediction_output_layer_loss: 0.6456 - val_Decoder_fine_loss: 6.9060 - val_Fine_prediction_output_layer_accuracy: 0.0045 - lr: 5.6880e-04\n",
      "Epoch 13/100\n",
      "750/750 [==============================] - ETA: 0s - loss: 0.6450 - Fine_prediction_output_layer_loss: 0.6419 - Decoder_fine_loss: 6.8487 - Fine_prediction_output_layer_accuracy: 0.0085\n",
      "Epoch 13: val_loss improved from 0.64872 to 0.64845, saving model to ./logs/CapsNet/Flat_Classification\\weights-13.h5\n",
      "750/750 [==============================] - 354s 467ms/step - loss: 0.6450 - Fine_prediction_output_layer_loss: 0.6419 - Decoder_fine_loss: 6.8487 - Fine_prediction_output_layer_accuracy: 0.0085 - val_loss: 0.6485 - val_Fine_prediction_output_layer_loss: 0.6453 - val_Decoder_fine_loss: 6.9717 - val_Fine_prediction_output_layer_accuracy: 0.0083 - lr: 5.4036e-04\n"
     ]
    },
    {
     "name": "stdout",
     "output_type": "stream",
     "text": [
      "Epoch 14/100\n",
      "750/750 [==============================] - ETA: 0s - loss: 0.6443 - Fine_prediction_output_layer_loss: 0.6412 - Decoder_fine_loss: 6.8419 - Fine_prediction_output_layer_accuracy: 0.0133\n",
      "Epoch 14: val_loss did not improve from 0.64845\n",
      "750/750 [==============================] - 348s 458ms/step - loss: 0.6443 - Fine_prediction_output_layer_loss: 0.6412 - Decoder_fine_loss: 6.8419 - Fine_prediction_output_layer_accuracy: 0.0133 - val_loss: 0.6503 - val_Fine_prediction_output_layer_loss: 0.6471 - val_Decoder_fine_loss: 6.8888 - val_Fine_prediction_output_layer_accuracy: 0.0086 - lr: 5.1334e-04\n",
      "Epoch 15/100\n",
      "750/750 [==============================] - ETA: 0s - loss: 0.6427 - Fine_prediction_output_layer_loss: 0.6396 - Decoder_fine_loss: 6.8380 - Fine_prediction_output_layer_accuracy: 0.0147\n",
      "Epoch 15: val_loss did not improve from 0.64845\n",
      "750/750 [==============================] - 347s 457ms/step - loss: 0.6427 - Fine_prediction_output_layer_loss: 0.6396 - Decoder_fine_loss: 6.8380 - Fine_prediction_output_layer_accuracy: 0.0147 - val_loss: 0.6516 - val_Fine_prediction_output_layer_loss: 0.6484 - val_Decoder_fine_loss: 6.9208 - val_Fine_prediction_output_layer_accuracy: 0.0086 - lr: 4.8767e-04\n",
      "Epoch 16/100\n",
      "750/750 [==============================] - ETA: 0s - loss: 0.6408 - Fine_prediction_output_layer_loss: 0.6377 - Decoder_fine_loss: 6.8339 - Fine_prediction_output_layer_accuracy: 0.0190\n",
      "Epoch 16: val_loss did not improve from 0.64845\n",
      "750/750 [==============================] - 347s 457ms/step - loss: 0.6408 - Fine_prediction_output_layer_loss: 0.6377 - Decoder_fine_loss: 6.8339 - Fine_prediction_output_layer_accuracy: 0.0190 - val_loss: 0.6549 - val_Fine_prediction_output_layer_loss: 0.6517 - val_Decoder_fine_loss: 7.0718 - val_Fine_prediction_output_layer_accuracy: 0.0086 - lr: 4.6329e-04\n",
      "Epoch 17/100\n",
      "750/750 [==============================] - ETA: 0s - loss: 0.6392 - Fine_prediction_output_layer_loss: 0.6361 - Decoder_fine_loss: 6.8401 - Fine_prediction_output_layer_accuracy: 0.0207\n",
      "Epoch 17: val_loss did not improve from 0.64845\n",
      "750/750 [==============================] - 347s 457ms/step - loss: 0.6392 - Fine_prediction_output_layer_loss: 0.6361 - Decoder_fine_loss: 6.8401 - Fine_prediction_output_layer_accuracy: 0.0207 - val_loss: 0.6503 - val_Fine_prediction_output_layer_loss: 0.6472 - val_Decoder_fine_loss: 6.8223 - val_Fine_prediction_output_layer_accuracy: 0.0155 - lr: 4.4013e-04\n",
      "Epoch 18/100\n",
      "750/750 [==============================] - ETA: 0s - loss: 0.6368 - Fine_prediction_output_layer_loss: 0.6337 - Decoder_fine_loss: 6.8396 - Fine_prediction_output_layer_accuracy: 0.0260\n",
      "Epoch 18: val_loss improved from 0.64845 to 0.64751, saving model to ./logs/CapsNet/Flat_Classification\\weights-18.h5\n",
      "750/750 [==============================] - 354s 466ms/step - loss: 0.6368 - Fine_prediction_output_layer_loss: 0.6337 - Decoder_fine_loss: 6.8396 - Fine_prediction_output_layer_accuracy: 0.0260 - val_loss: 0.6475 - val_Fine_prediction_output_layer_loss: 0.6444 - val_Decoder_fine_loss: 6.8689 - val_Fine_prediction_output_layer_accuracy: 0.0121 - lr: 4.1812e-04\n",
      "Epoch 19/100\n",
      "750/750 [==============================] - ETA: 0s - loss: 0.6343 - Fine_prediction_output_layer_loss: 0.6312 - Decoder_fine_loss: 6.8348 - Fine_prediction_output_layer_accuracy: 0.0319\n",
      "Epoch 19: val_loss did not improve from 0.64751\n",
      "750/750 [==============================] - 347s 457ms/step - loss: 0.6343 - Fine_prediction_output_layer_loss: 0.6312 - Decoder_fine_loss: 6.8348 - Fine_prediction_output_layer_accuracy: 0.0319 - val_loss: 0.6477 - val_Fine_prediction_output_layer_loss: 0.6446 - val_Decoder_fine_loss: 6.7959 - val_Fine_prediction_output_layer_accuracy: 0.0138 - lr: 3.9721e-04\n",
      "Epoch 20/100\n",
      "750/750 [==============================] - ETA: 0s - loss: 0.6311 - Fine_prediction_output_layer_loss: 0.6280 - Decoder_fine_loss: 6.8292 - Fine_prediction_output_layer_accuracy: 0.0419\n",
      "Epoch 20: val_loss improved from 0.64751 to 0.64508, saving model to ./logs/CapsNet/Flat_Classification\\weights-20.h5\n",
      "750/750 [==============================] - 354s 466ms/step - loss: 0.6311 - Fine_prediction_output_layer_loss: 0.6280 - Decoder_fine_loss: 6.8292 - Fine_prediction_output_layer_accuracy: 0.0419 - val_loss: 0.6451 - val_Fine_prediction_output_layer_loss: 0.6420 - val_Decoder_fine_loss: 6.8849 - val_Fine_prediction_output_layer_accuracy: 0.0155 - lr: 3.7735e-04\n",
      "Epoch 21/100\n",
      "750/750 [==============================] - ETA: 0s - loss: 0.6276 - Fine_prediction_output_layer_loss: 0.6245 - Decoder_fine_loss: 6.8190 - Fine_prediction_output_layer_accuracy: 0.0562\n",
      "Epoch 21: val_loss did not improve from 0.64508\n",
      "750/750 [==============================] - 347s 457ms/step - loss: 0.6276 - Fine_prediction_output_layer_loss: 0.6245 - Decoder_fine_loss: 6.8190 - Fine_prediction_output_layer_accuracy: 0.0562 - val_loss: 0.6469 - val_Fine_prediction_output_layer_loss: 0.6438 - val_Decoder_fine_loss: 6.7512 - val_Fine_prediction_output_layer_accuracy: 0.0159 - lr: 3.5849e-04\n",
      "Epoch 22/100\n",
      "750/750 [==============================] - ETA: 0s - loss: 0.6236 - Fine_prediction_output_layer_loss: 0.6206 - Decoder_fine_loss: 6.8076 - Fine_prediction_output_layer_accuracy: 0.0674\n",
      "Epoch 22: val_loss did not improve from 0.64508\n",
      "750/750 [==============================] - 347s 457ms/step - loss: 0.6236 - Fine_prediction_output_layer_loss: 0.6206 - Decoder_fine_loss: 6.8076 - Fine_prediction_output_layer_accuracy: 0.0674 - val_loss: 0.6498 - val_Fine_prediction_output_layer_loss: 0.6468 - val_Decoder_fine_loss: 6.7519 - val_Fine_prediction_output_layer_accuracy: 0.0128 - lr: 3.4056e-04\n",
      "Epoch 23/100\n",
      "750/750 [==============================] - ETA: 0s - loss: 0.6220 - Fine_prediction_output_layer_loss: 0.6189 - Decoder_fine_loss: 6.8115 - Fine_prediction_output_layer_accuracy: 0.0749\n",
      "Epoch 23: val_loss did not improve from 0.64508\n",
      "750/750 [==============================] - 347s 457ms/step - loss: 0.6220 - Fine_prediction_output_layer_loss: 0.6189 - Decoder_fine_loss: 6.8115 - Fine_prediction_output_layer_accuracy: 0.0749 - val_loss: 0.6482 - val_Fine_prediction_output_layer_loss: 0.6452 - val_Decoder_fine_loss: 6.7402 - val_Fine_prediction_output_layer_accuracy: 0.0235 - lr: 3.2353e-04\n",
      "Epoch 24/100\n",
      "750/750 [==============================] - ETA: 0s - loss: 0.6161 - Fine_prediction_output_layer_loss: 0.6130 - Decoder_fine_loss: 6.8011 - Fine_prediction_output_layer_accuracy: 0.0953\n",
      "Epoch 24: val_loss did not improve from 0.64508\n",
      "750/750 [==============================] - 347s 457ms/step - loss: 0.6161 - Fine_prediction_output_layer_loss: 0.6130 - Decoder_fine_loss: 6.8011 - Fine_prediction_output_layer_accuracy: 0.0953 - val_loss: 0.6486 - val_Fine_prediction_output_layer_loss: 0.6456 - val_Decoder_fine_loss: 6.7534 - val_Fine_prediction_output_layer_accuracy: 0.0200 - lr: 3.0736e-04\n",
      "Epoch 25/100\n",
      "750/750 [==============================] - ETA: 0s - loss: 0.6111 - Fine_prediction_output_layer_loss: 0.6080 - Decoder_fine_loss: 6.7867 - Fine_prediction_output_layer_accuracy: 0.1220\n",
      "Epoch 25: val_loss did not improve from 0.64508\n",
      "750/750 [==============================] - 347s 457ms/step - loss: 0.6111 - Fine_prediction_output_layer_loss: 0.6080 - Decoder_fine_loss: 6.7867 - Fine_prediction_output_layer_accuracy: 0.1220 - val_loss: 0.6501 - val_Fine_prediction_output_layer_loss: 0.6471 - val_Decoder_fine_loss: 6.7386 - val_Fine_prediction_output_layer_accuracy: 0.0217 - lr: 2.9199e-04\n",
      "Epoch 26/100\n",
      "750/750 [==============================] - ETA: 0s - loss: 0.6071 - Fine_prediction_output_layer_loss: 0.6040 - Decoder_fine_loss: 6.7817 - Fine_prediction_output_layer_accuracy: 0.1398\n",
      "Epoch 26: val_loss did not improve from 0.64508\n",
      "750/750 [==============================] - 347s 456ms/step - loss: 0.6071 - Fine_prediction_output_layer_loss: 0.6040 - Decoder_fine_loss: 6.7817 - Fine_prediction_output_layer_accuracy: 0.1398 - val_loss: 0.6490 - val_Fine_prediction_output_layer_loss: 0.6460 - val_Decoder_fine_loss: 6.7140 - val_Fine_prediction_output_layer_accuracy: 0.0214 - lr: 2.7739e-04\n",
      "Epoch 27/100\n",
      "750/750 [==============================] - ETA: 0s - loss: 0.6019 - Fine_prediction_output_layer_loss: 0.5988 - Decoder_fine_loss: 6.7726 - Fine_prediction_output_layer_accuracy: 0.1592\n",
      "Epoch 27: val_loss did not improve from 0.64508\n",
      "750/750 [==============================] - 347s 456ms/step - loss: 0.6019 - Fine_prediction_output_layer_loss: 0.5988 - Decoder_fine_loss: 6.7726 - Fine_prediction_output_layer_accuracy: 0.1592 - val_loss: 0.6500 - val_Fine_prediction_output_layer_loss: 0.6470 - val_Decoder_fine_loss: 6.6913 - val_Fine_prediction_output_layer_accuracy: 0.0269 - lr: 2.6352e-04\n",
      "Epoch 28/100\n",
      "750/750 [==============================] - ETA: 0s - loss: 0.5940 - Fine_prediction_output_layer_loss: 0.5910 - Decoder_fine_loss: 6.7545 - Fine_prediction_output_layer_accuracy: 0.1952\n",
      "Epoch 28: val_loss did not improve from 0.64508\n",
      "750/750 [==============================] - 347s 457ms/step - loss: 0.5940 - Fine_prediction_output_layer_loss: 0.5910 - Decoder_fine_loss: 6.7545 - Fine_prediction_output_layer_accuracy: 0.1952 - val_loss: 0.6524 - val_Fine_prediction_output_layer_loss: 0.6494 - val_Decoder_fine_loss: 6.7458 - val_Fine_prediction_output_layer_accuracy: 0.0235 - lr: 2.5034e-04\n",
      "Epoch 29/100\n",
      "750/750 [==============================] - ETA: 0s - loss: 0.5865 - Fine_prediction_output_layer_loss: 0.5834 - Decoder_fine_loss: 6.7501 - Fine_prediction_output_layer_accuracy: 0.2297\n",
      "Epoch 29: val_loss did not improve from 0.64508\n",
      "750/750 [==============================] - 347s 456ms/step - loss: 0.5865 - Fine_prediction_output_layer_loss: 0.5834 - Decoder_fine_loss: 6.7501 - Fine_prediction_output_layer_accuracy: 0.2297 - val_loss: 0.6520 - val_Fine_prediction_output_layer_loss: 0.6490 - val_Decoder_fine_loss: 6.7039 - val_Fine_prediction_output_layer_accuracy: 0.0283 - lr: 2.3783e-04\n",
      "Epoch 30/100\n",
      "750/750 [==============================] - ETA: 0s - loss: 0.5819 - Fine_prediction_output_layer_loss: 0.5788 - Decoder_fine_loss: 6.7415 - Fine_prediction_output_layer_accuracy: 0.2609\n",
      "Epoch 30: val_loss did not improve from 0.64508\n",
      "750/750 [==============================] - 347s 456ms/step - loss: 0.5819 - Fine_prediction_output_layer_loss: 0.5788 - Decoder_fine_loss: 6.7415 - Fine_prediction_output_layer_accuracy: 0.2609 - val_loss: 0.6525 - val_Fine_prediction_output_layer_loss: 0.6494 - val_Decoder_fine_loss: 6.6827 - val_Fine_prediction_output_layer_accuracy: 0.0287 - lr: 2.2594e-04\n",
      "Epoch 31/100\n",
      "750/750 [==============================] - ETA: 0s - loss: 0.5720 - Fine_prediction_output_layer_loss: 0.5689 - Decoder_fine_loss: 6.7306 - Fine_prediction_output_layer_accuracy: 0.3010\n",
      "Epoch 31: val_loss did not improve from 0.64508\n",
      "750/750 [==============================] - 348s 458ms/step - loss: 0.5720 - Fine_prediction_output_layer_loss: 0.5689 - Decoder_fine_loss: 6.7306 - Fine_prediction_output_layer_accuracy: 0.3010 - val_loss: 0.6545 - val_Fine_prediction_output_layer_loss: 0.6515 - val_Decoder_fine_loss: 6.6892 - val_Fine_prediction_output_layer_accuracy: 0.0273 - lr: 2.1464e-04\n",
      "Epoch 32/100\n",
      "750/750 [==============================] - ETA: 0s - loss: 0.5638 - Fine_prediction_output_layer_loss: 0.5607 - Decoder_fine_loss: 6.7145 - Fine_prediction_output_layer_accuracy: 0.3340\n",
      "Epoch 32: val_loss did not improve from 0.64508\n",
      "750/750 [==============================] - 348s 458ms/step - loss: 0.5638 - Fine_prediction_output_layer_loss: 0.5607 - Decoder_fine_loss: 6.7145 - Fine_prediction_output_layer_accuracy: 0.3340 - val_loss: 0.6552 - val_Fine_prediction_output_layer_loss: 0.6521 - val_Decoder_fine_loss: 6.6839 - val_Fine_prediction_output_layer_accuracy: 0.0280 - lr: 2.0391e-04\n",
      "Epoch 33/100\n",
      "750/750 [==============================] - ETA: 0s - loss: 0.5566 - Fine_prediction_output_layer_loss: 0.5535 - Decoder_fine_loss: 6.7091 - Fine_prediction_output_layer_accuracy: 0.3690\n",
      "Epoch 33: val_loss did not improve from 0.64508\n",
      "750/750 [==============================] - 347s 456ms/step - loss: 0.5566 - Fine_prediction_output_layer_loss: 0.5535 - Decoder_fine_loss: 6.7091 - Fine_prediction_output_layer_accuracy: 0.3690 - val_loss: 0.6556 - val_Fine_prediction_output_layer_loss: 0.6525 - val_Decoder_fine_loss: 6.7008 - val_Fine_prediction_output_layer_accuracy: 0.0324 - lr: 1.9371e-04\n",
      "Epoch 34/100\n",
      "750/750 [==============================] - ETA: 0s - loss: 0.5500 - Fine_prediction_output_layer_loss: 0.5469 - Decoder_fine_loss: 6.7084 - Fine_prediction_output_layer_accuracy: 0.4032\n",
      "Epoch 34: val_loss did not improve from 0.64508\n",
      "750/750 [==============================] - 347s 456ms/step - loss: 0.5500 - Fine_prediction_output_layer_loss: 0.5469 - Decoder_fine_loss: 6.7084 - Fine_prediction_output_layer_accuracy: 0.4032 - val_loss: 0.6556 - val_Fine_prediction_output_layer_loss: 0.6526 - val_Decoder_fine_loss: 6.6717 - val_Fine_prediction_output_layer_accuracy: 0.0338 - lr: 1.8403e-04\n",
      "Epoch 35/100\n",
      "750/750 [==============================] - ETA: 0s - loss: 0.5410 - Fine_prediction_output_layer_loss: 0.5380 - Decoder_fine_loss: 6.6993 - Fine_prediction_output_layer_accuracy: 0.4283\n",
      "Epoch 35: val_loss did not improve from 0.64508\n",
      "750/750 [==============================] - 347s 457ms/step - loss: 0.5410 - Fine_prediction_output_layer_loss: 0.5380 - Decoder_fine_loss: 6.6993 - Fine_prediction_output_layer_accuracy: 0.4283 - val_loss: 0.6574 - val_Fine_prediction_output_layer_loss: 0.6544 - val_Decoder_fine_loss: 6.6708 - val_Fine_prediction_output_layer_accuracy: 0.0331 - lr: 1.7482e-04\n",
      "Epoch 36/100\n",
      "750/750 [==============================] - ETA: 0s - loss: 0.5336 - Fine_prediction_output_layer_loss: 0.5305 - Decoder_fine_loss: 6.6837 - Fine_prediction_output_layer_accuracy: 0.4681\n",
      "Epoch 36: val_loss did not improve from 0.64508\n",
      "750/750 [==============================] - 347s 456ms/step - loss: 0.5336 - Fine_prediction_output_layer_loss: 0.5305 - Decoder_fine_loss: 6.6837 - Fine_prediction_output_layer_accuracy: 0.4681 - val_loss: 0.6560 - val_Fine_prediction_output_layer_loss: 0.6530 - val_Decoder_fine_loss: 6.6660 - val_Fine_prediction_output_layer_accuracy: 0.0366 - lr: 1.6608e-04\n",
      "Epoch 37/100\n",
      "750/750 [==============================] - ETA: 0s - loss: 0.5256 - Fine_prediction_output_layer_loss: 0.5225 - Decoder_fine_loss: 6.6850 - Fine_prediction_output_layer_accuracy: 0.5028\n",
      "Epoch 37: val_loss did not improve from 0.64508\n",
      "750/750 [==============================] - 347s 456ms/step - loss: 0.5256 - Fine_prediction_output_layer_loss: 0.5225 - Decoder_fine_loss: 6.6850 - Fine_prediction_output_layer_accuracy: 0.5028 - val_loss: 0.6577 - val_Fine_prediction_output_layer_loss: 0.6546 - val_Decoder_fine_loss: 6.6684 - val_Fine_prediction_output_layer_accuracy: 0.0342 - lr: 1.5778e-04\n",
      "Epoch 38/100\n",
      "750/750 [==============================] - ETA: 0s - loss: 0.5197 - Fine_prediction_output_layer_loss: 0.5166 - Decoder_fine_loss: 6.6814 - Fine_prediction_output_layer_accuracy: 0.5249\n",
      "Epoch 38: val_loss did not improve from 0.64508\n",
      "750/750 [==============================] - 347s 457ms/step - loss: 0.5197 - Fine_prediction_output_layer_loss: 0.5166 - Decoder_fine_loss: 6.6814 - Fine_prediction_output_layer_accuracy: 0.5249 - val_loss: 0.6580 - val_Fine_prediction_output_layer_loss: 0.6550 - val_Decoder_fine_loss: 6.6513 - val_Fine_prediction_output_layer_accuracy: 0.0335 - lr: 1.4989e-04\n",
      "Epoch 39/100\n",
      "750/750 [==============================] - ETA: 0s - loss: 0.5125 - Fine_prediction_output_layer_loss: 0.5095 - Decoder_fine_loss: 6.6713 - Fine_prediction_output_layer_accuracy: 0.5435\n",
      "Epoch 39: val_loss did not improve from 0.64508\n",
      "750/750 [==============================] - 347s 457ms/step - loss: 0.5125 - Fine_prediction_output_layer_loss: 0.5095 - Decoder_fine_loss: 6.6713 - Fine_prediction_output_layer_accuracy: 0.5435 - val_loss: 0.6609 - val_Fine_prediction_output_layer_loss: 0.6579 - val_Decoder_fine_loss: 6.6609 - val_Fine_prediction_output_layer_accuracy: 0.0338 - lr: 1.4240e-04\n",
      "Epoch 40/100\n",
      "750/750 [==============================] - ETA: 0s - loss: 0.5051 - Fine_prediction_output_layer_loss: 0.5020 - Decoder_fine_loss: 6.6737 - Fine_prediction_output_layer_accuracy: 0.5784\n",
      "Epoch 40: val_loss did not improve from 0.64508\n",
      "750/750 [==============================] - 347s 457ms/step - loss: 0.5051 - Fine_prediction_output_layer_loss: 0.5020 - Decoder_fine_loss: 6.6737 - Fine_prediction_output_layer_accuracy: 0.5784 - val_loss: 0.6598 - val_Fine_prediction_output_layer_loss: 0.6568 - val_Decoder_fine_loss: 6.6590 - val_Fine_prediction_output_layer_accuracy: 0.0356 - lr: 1.3528e-04\n"
     ]
    },
    {
     "name": "stdout",
     "output_type": "stream",
     "text": [
      "Epoch 41/100\n",
      "750/750 [==============================] - ETA: 0s - loss: 0.4995 - Fine_prediction_output_layer_loss: 0.4964 - Decoder_fine_loss: 6.6635 - Fine_prediction_output_layer_accuracy: 0.5949\n",
      "Epoch 41: val_loss did not improve from 0.64508\n",
      "750/750 [==============================] - 347s 456ms/step - loss: 0.4995 - Fine_prediction_output_layer_loss: 0.4964 - Decoder_fine_loss: 6.6635 - Fine_prediction_output_layer_accuracy: 0.5949 - val_loss: 0.6592 - val_Fine_prediction_output_layer_loss: 0.6562 - val_Decoder_fine_loss: 6.6558 - val_Fine_prediction_output_layer_accuracy: 0.0373 - lr: 1.2851e-04\n",
      "Epoch 42/100\n",
      "750/750 [==============================] - ETA: 0s - loss: 0.4891 - Fine_prediction_output_layer_loss: 0.4860 - Decoder_fine_loss: 6.6616 - Fine_prediction_output_layer_accuracy: 0.6276\n",
      "Epoch 42: val_loss did not improve from 0.64508\n",
      "750/750 [==============================] - 347s 457ms/step - loss: 0.4891 - Fine_prediction_output_layer_loss: 0.4860 - Decoder_fine_loss: 6.6616 - Fine_prediction_output_layer_accuracy: 0.6276 - val_loss: 0.6610 - val_Fine_prediction_output_layer_loss: 0.6580 - val_Decoder_fine_loss: 6.6533 - val_Fine_prediction_output_layer_accuracy: 0.0394 - lr: 1.2209e-04\n",
      "Epoch 43/100\n",
      "750/750 [==============================] - ETA: 0s - loss: 0.4857 - Fine_prediction_output_layer_loss: 0.4826 - Decoder_fine_loss: 6.6573 - Fine_prediction_output_layer_accuracy: 0.6406\n",
      "Epoch 43: val_loss did not improve from 0.64508\n",
      "750/750 [==============================] - 347s 457ms/step - loss: 0.4857 - Fine_prediction_output_layer_loss: 0.4826 - Decoder_fine_loss: 6.6573 - Fine_prediction_output_layer_accuracy: 0.6406 - val_loss: 0.6621 - val_Fine_prediction_output_layer_loss: 0.6591 - val_Decoder_fine_loss: 6.6556 - val_Fine_prediction_output_layer_accuracy: 0.0356 - lr: 1.1598e-04\n",
      "Epoch 44/100\n",
      "750/750 [==============================] - ETA: 0s - loss: 0.4778 - Fine_prediction_output_layer_loss: 0.4747 - Decoder_fine_loss: 6.6488 - Fine_prediction_output_layer_accuracy: 0.6702\n",
      "Epoch 44: val_loss did not improve from 0.64508\n",
      "750/750 [==============================] - 346s 456ms/step - loss: 0.4778 - Fine_prediction_output_layer_loss: 0.4747 - Decoder_fine_loss: 6.6488 - Fine_prediction_output_layer_accuracy: 0.6702 - val_loss: 0.6628 - val_Fine_prediction_output_layer_loss: 0.6598 - val_Decoder_fine_loss: 6.6633 - val_Fine_prediction_output_layer_accuracy: 0.0352 - lr: 1.1018e-04\n",
      "Epoch 45/100\n",
      "750/750 [==============================] - ETA: 0s - loss: 0.4727 - Fine_prediction_output_layer_loss: 0.4696 - Decoder_fine_loss: 6.6497 - Fine_prediction_output_layer_accuracy: 0.6849\n",
      "Epoch 45: val_loss did not improve from 0.64508\n",
      "750/750 [==============================] - 347s 457ms/step - loss: 0.4727 - Fine_prediction_output_layer_loss: 0.4696 - Decoder_fine_loss: 6.6497 - Fine_prediction_output_layer_accuracy: 0.6849 - val_loss: 0.6630 - val_Fine_prediction_output_layer_loss: 0.6600 - val_Decoder_fine_loss: 6.6510 - val_Fine_prediction_output_layer_accuracy: 0.0369 - lr: 1.0467e-04\n",
      "Epoch 46/100\n",
      "750/750 [==============================] - ETA: 0s - loss: 0.4679 - Fine_prediction_output_layer_loss: 0.4648 - Decoder_fine_loss: 6.6412 - Fine_prediction_output_layer_accuracy: 0.6992\n",
      "Epoch 46: val_loss did not improve from 0.64508\n",
      "750/750 [==============================] - 347s 457ms/step - loss: 0.4679 - Fine_prediction_output_layer_loss: 0.4648 - Decoder_fine_loss: 6.6412 - Fine_prediction_output_layer_accuracy: 0.6992 - val_loss: 0.6633 - val_Fine_prediction_output_layer_loss: 0.6603 - val_Decoder_fine_loss: 6.6512 - val_Fine_prediction_output_layer_accuracy: 0.0397 - lr: 9.9440e-05\n",
      "Epoch 47/100\n",
      "750/750 [==============================] - ETA: 0s - loss: 0.4619 - Fine_prediction_output_layer_loss: 0.4589 - Decoder_fine_loss: 6.6434 - Fine_prediction_output_layer_accuracy: 0.7165\n",
      "Epoch 47: val_loss did not improve from 0.64508\n",
      "750/750 [==============================] - 347s 457ms/step - loss: 0.4619 - Fine_prediction_output_layer_loss: 0.4589 - Decoder_fine_loss: 6.6434 - Fine_prediction_output_layer_accuracy: 0.7165 - val_loss: 0.6638 - val_Fine_prediction_output_layer_loss: 0.6608 - val_Decoder_fine_loss: 6.6588 - val_Fine_prediction_output_layer_accuracy: 0.0404 - lr: 9.4468e-05\n",
      "Epoch 48/100\n",
      "750/750 [==============================] - ETA: 0s - loss: 0.4610 - Fine_prediction_output_layer_loss: 0.4579 - Decoder_fine_loss: 6.6413 - Fine_prediction_output_layer_accuracy: 0.7212\n",
      "Epoch 48: val_loss did not improve from 0.64508\n",
      "750/750 [==============================] - 347s 456ms/step - loss: 0.4610 - Fine_prediction_output_layer_loss: 0.4579 - Decoder_fine_loss: 6.6413 - Fine_prediction_output_layer_accuracy: 0.7212 - val_loss: 0.6652 - val_Fine_prediction_output_layer_loss: 0.6622 - val_Decoder_fine_loss: 6.6493 - val_Fine_prediction_output_layer_accuracy: 0.0387 - lr: 8.9745e-05\n",
      "Epoch 49/100\n",
      "750/750 [==============================] - ETA: 0s - loss: 0.4502 - Fine_prediction_output_layer_loss: 0.4471 - Decoder_fine_loss: 6.6493 - Fine_prediction_output_layer_accuracy: 0.7528\n",
      "Epoch 49: val_loss did not improve from 0.64508\n",
      "750/750 [==============================] - 347s 457ms/step - loss: 0.4502 - Fine_prediction_output_layer_loss: 0.4471 - Decoder_fine_loss: 6.6493 - Fine_prediction_output_layer_accuracy: 0.7528 - val_loss: 0.6658 - val_Fine_prediction_output_layer_loss: 0.6628 - val_Decoder_fine_loss: 6.6509 - val_Fine_prediction_output_layer_accuracy: 0.0383 - lr: 8.5258e-05\n",
      "Epoch 50/100\n",
      "750/750 [==============================] - ETA: 0s - loss: 0.4477 - Fine_prediction_output_layer_loss: 0.4446 - Decoder_fine_loss: 6.6425 - Fine_prediction_output_layer_accuracy: 0.7494\n",
      "Epoch 50: val_loss did not improve from 0.64508\n",
      "750/750 [==============================] - 347s 456ms/step - loss: 0.4477 - Fine_prediction_output_layer_loss: 0.4446 - Decoder_fine_loss: 6.6425 - Fine_prediction_output_layer_accuracy: 0.7494 - val_loss: 0.6656 - val_Fine_prediction_output_layer_loss: 0.6626 - val_Decoder_fine_loss: 6.6473 - val_Fine_prediction_output_layer_accuracy: 0.0362 - lr: 8.0995e-05\n",
      "Epoch 51/100\n",
      "750/750 [==============================] - ETA: 0s - loss: 0.4434 - Fine_prediction_output_layer_loss: 0.4403 - Decoder_fine_loss: 6.6326 - Fine_prediction_output_layer_accuracy: 0.7676\n",
      "Epoch 51: val_loss did not improve from 0.64508\n",
      "750/750 [==============================] - 347s 457ms/step - loss: 0.4434 - Fine_prediction_output_layer_loss: 0.4403 - Decoder_fine_loss: 6.6326 - Fine_prediction_output_layer_accuracy: 0.7676 - val_loss: 0.6656 - val_Fine_prediction_output_layer_loss: 0.6626 - val_Decoder_fine_loss: 6.6501 - val_Fine_prediction_output_layer_accuracy: 0.0411 - lr: 7.6945e-05\n",
      "Epoch 52/100\n",
      "750/750 [==============================] - ETA: 0s - loss: 0.4393 - Fine_prediction_output_layer_loss: 0.4362 - Decoder_fine_loss: 6.6212 - Fine_prediction_output_layer_accuracy: 0.7739\n",
      "Epoch 52: val_loss did not improve from 0.64508\n",
      "750/750 [==============================] - 347s 456ms/step - loss: 0.4393 - Fine_prediction_output_layer_loss: 0.4362 - Decoder_fine_loss: 6.6212 - Fine_prediction_output_layer_accuracy: 0.7739 - val_loss: 0.6657 - val_Fine_prediction_output_layer_loss: 0.6627 - val_Decoder_fine_loss: 6.6535 - val_Fine_prediction_output_layer_accuracy: 0.0418 - lr: 7.3098e-05\n",
      "Epoch 53/100\n",
      "750/750 [==============================] - ETA: 0s - loss: 0.4344 - Fine_prediction_output_layer_loss: 0.4313 - Decoder_fine_loss: 6.6273 - Fine_prediction_output_layer_accuracy: 0.7875\n",
      "Epoch 53: val_loss did not improve from 0.64508\n",
      "750/750 [==============================] - 347s 456ms/step - loss: 0.4344 - Fine_prediction_output_layer_loss: 0.4313 - Decoder_fine_loss: 6.6273 - Fine_prediction_output_layer_accuracy: 0.7875 - val_loss: 0.6668 - val_Fine_prediction_output_layer_loss: 0.6638 - val_Decoder_fine_loss: 6.6569 - val_Fine_prediction_output_layer_accuracy: 0.0390 - lr: 6.9443e-05\n",
      "Epoch 54/100\n",
      "750/750 [==============================] - ETA: 0s - loss: 0.4300 - Fine_prediction_output_layer_loss: 0.4269 - Decoder_fine_loss: 6.6119 - Fine_prediction_output_layer_accuracy: 0.7876\n",
      "Epoch 54: val_loss did not improve from 0.64508\n",
      "750/750 [==============================] - 347s 457ms/step - loss: 0.4300 - Fine_prediction_output_layer_loss: 0.4269 - Decoder_fine_loss: 6.6119 - Fine_prediction_output_layer_accuracy: 0.7876 - val_loss: 0.6676 - val_Fine_prediction_output_layer_loss: 0.6646 - val_Decoder_fine_loss: 6.6573 - val_Fine_prediction_output_layer_accuracy: 0.0387 - lr: 6.5971e-05\n"
     ]
    },
    {
     "name": "stdout",
     "output_type": "stream",
     "text": [
      "Epoch 55/100\n",
      "750/750 [==============================] - ETA: 0s - loss: 0.4270 - Fine_prediction_output_layer_loss: 0.4239 - Decoder_fine_loss: 6.6276 - Fine_prediction_output_layer_accuracy: 0.8046\n",
      "Epoch 55: val_loss did not improve from 0.64508\n",
      "750/750 [==============================] - 347s 457ms/step - loss: 0.4270 - Fine_prediction_output_layer_loss: 0.4239 - Decoder_fine_loss: 6.6276 - Fine_prediction_output_layer_accuracy: 0.8046 - val_loss: 0.6671 - val_Fine_prediction_output_layer_loss: 0.6641 - val_Decoder_fine_loss: 6.6476 - val_Fine_prediction_output_layer_accuracy: 0.0373 - lr: 6.2672e-05\n",
      "Epoch 56/100\n",
      "750/750 [==============================] - ETA: 0s - loss: 0.4257 - Fine_prediction_output_layer_loss: 0.4226 - Decoder_fine_loss: 6.6287 - Fine_prediction_output_layer_accuracy: 0.7998\n",
      "Epoch 56: val_loss did not improve from 0.64508\n",
      "750/750 [==============================] - 347s 457ms/step - loss: 0.4257 - Fine_prediction_output_layer_loss: 0.4226 - Decoder_fine_loss: 6.6287 - Fine_prediction_output_layer_accuracy: 0.7998 - val_loss: 0.6679 - val_Fine_prediction_output_layer_loss: 0.6649 - val_Decoder_fine_loss: 6.6481 - val_Fine_prediction_output_layer_accuracy: 0.0400 - lr: 5.9539e-05\n",
      "Epoch 57/100\n",
      "750/750 [==============================] - ETA: 0s - loss: 0.4227 - Fine_prediction_output_layer_loss: 0.4196 - Decoder_fine_loss: 6.6217 - Fine_prediction_output_layer_accuracy: 0.8126\n",
      "Epoch 57: val_loss did not improve from 0.64508\n",
      "750/750 [==============================] - 348s 457ms/step - loss: 0.4227 - Fine_prediction_output_layer_loss: 0.4196 - Decoder_fine_loss: 6.6217 - Fine_prediction_output_layer_accuracy: 0.8126 - val_loss: 0.6687 - val_Fine_prediction_output_layer_loss: 0.6657 - val_Decoder_fine_loss: 6.6512 - val_Fine_prediction_output_layer_accuracy: 0.0387 - lr: 5.6562e-05\n",
      "Epoch 58/100\n",
      "750/750 [==============================] - ETA: 0s - loss: 0.4186 - Fine_prediction_output_layer_loss: 0.4155 - Decoder_fine_loss: 6.6185 - Fine_prediction_output_layer_accuracy: 0.8156\n",
      "Epoch 58: val_loss did not improve from 0.64508\n",
      "750/750 [==============================] - 347s 457ms/step - loss: 0.4186 - Fine_prediction_output_layer_loss: 0.4155 - Decoder_fine_loss: 6.6185 - Fine_prediction_output_layer_accuracy: 0.8156 - val_loss: 0.6684 - val_Fine_prediction_output_layer_loss: 0.6655 - val_Decoder_fine_loss: 6.6505 - val_Fine_prediction_output_layer_accuracy: 0.0421 - lr: 5.3734e-05\n",
      "Epoch 59/100\n",
      "750/750 [==============================] - ETA: 0s - loss: 0.4135 - Fine_prediction_output_layer_loss: 0.4104 - Decoder_fine_loss: 6.6154 - Fine_prediction_output_layer_accuracy: 0.8233\n",
      "Epoch 59: val_loss did not improve from 0.64508\n",
      "750/750 [==============================] - 348s 457ms/step - loss: 0.4135 - Fine_prediction_output_layer_loss: 0.4104 - Decoder_fine_loss: 6.6154 - Fine_prediction_output_layer_accuracy: 0.8233 - val_loss: 0.6690 - val_Fine_prediction_output_layer_loss: 0.6660 - val_Decoder_fine_loss: 6.6517 - val_Fine_prediction_output_layer_accuracy: 0.0414 - lr: 5.1047e-05\n",
      "Epoch 60/100\n",
      "750/750 [==============================] - ETA: 0s - loss: 0.4102 - Fine_prediction_output_layer_loss: 0.4071 - Decoder_fine_loss: 6.6210 - Fine_prediction_output_layer_accuracy: 0.8230\n",
      "Epoch 60: val_loss did not improve from 0.64508\n",
      "750/750 [==============================] - 348s 457ms/step - loss: 0.4102 - Fine_prediction_output_layer_loss: 0.4071 - Decoder_fine_loss: 6.6210 - Fine_prediction_output_layer_accuracy: 0.8230 - val_loss: 0.6688 - val_Fine_prediction_output_layer_loss: 0.6658 - val_Decoder_fine_loss: 6.6521 - val_Fine_prediction_output_layer_accuracy: 0.0390 - lr: 4.8495e-05\n",
      "Epoch 61/100\n",
      "750/750 [==============================] - ETA: 0s - loss: 0.4096 - Fine_prediction_output_layer_loss: 0.4065 - Decoder_fine_loss: 6.6187 - Fine_prediction_output_layer_accuracy: 0.8347\n",
      "Epoch 61: val_loss did not improve from 0.64508\n",
      "750/750 [==============================] - 348s 457ms/step - loss: 0.4096 - Fine_prediction_output_layer_loss: 0.4065 - Decoder_fine_loss: 6.6187 - Fine_prediction_output_layer_accuracy: 0.8347 - val_loss: 0.6695 - val_Fine_prediction_output_layer_loss: 0.6665 - val_Decoder_fine_loss: 6.6553 - val_Fine_prediction_output_layer_accuracy: 0.0387 - lr: 4.6070e-05\n",
      "Epoch 62/100\n",
      "750/750 [==============================] - ETA: 0s - loss: 0.4055 - Fine_prediction_output_layer_loss: 0.4024 - Decoder_fine_loss: 6.6036 - Fine_prediction_output_layer_accuracy: 0.8425\n",
      "Epoch 62: val_loss did not improve from 0.64508\n",
      "750/750 [==============================] - 347s 457ms/step - loss: 0.4055 - Fine_prediction_output_layer_loss: 0.4024 - Decoder_fine_loss: 6.6036 - Fine_prediction_output_layer_accuracy: 0.8425 - val_loss: 0.6697 - val_Fine_prediction_output_layer_loss: 0.6667 - val_Decoder_fine_loss: 6.6525 - val_Fine_prediction_output_layer_accuracy: 0.0394 - lr: 4.3766e-05\n",
      "Epoch 63/100\n",
      "750/750 [==============================] - ETA: 0s - loss: 0.4033 - Fine_prediction_output_layer_loss: 0.4002 - Decoder_fine_loss: 6.6191 - Fine_prediction_output_layer_accuracy: 0.8463\n",
      "Epoch 63: val_loss did not improve from 0.64508\n",
      "750/750 [==============================] - 347s 457ms/step - loss: 0.4033 - Fine_prediction_output_layer_loss: 0.4002 - Decoder_fine_loss: 6.6191 - Fine_prediction_output_layer_accuracy: 0.8463 - val_loss: 0.6699 - val_Fine_prediction_output_layer_loss: 0.6669 - val_Decoder_fine_loss: 6.6480 - val_Fine_prediction_output_layer_accuracy: 0.0414 - lr: 4.1578e-05\n",
      "Epoch 64/100\n",
      "750/750 [==============================] - ETA: 0s - loss: 0.4005 - Fine_prediction_output_layer_loss: 0.3974 - Decoder_fine_loss: 6.6154 - Fine_prediction_output_layer_accuracy: 0.8482\n",
      "Epoch 64: val_loss did not improve from 0.64508\n",
      "750/750 [==============================] - 346s 457ms/step - loss: 0.4005 - Fine_prediction_output_layer_loss: 0.3974 - Decoder_fine_loss: 6.6154 - Fine_prediction_output_layer_accuracy: 0.8482 - val_loss: 0.6706 - val_Fine_prediction_output_layer_loss: 0.6676 - val_Decoder_fine_loss: 6.6552 - val_Fine_prediction_output_layer_accuracy: 0.0383 - lr: 3.9499e-05\n",
      "Epoch 65/100\n",
      "750/750 [==============================] - ETA: 0s - loss: 0.3988 - Fine_prediction_output_layer_loss: 0.3957 - Decoder_fine_loss: 6.6079 - Fine_prediction_output_layer_accuracy: 0.8524\n",
      "Epoch 65: val_loss did not improve from 0.64508\n",
      "750/750 [==============================] - 347s 457ms/step - loss: 0.3988 - Fine_prediction_output_layer_loss: 0.3957 - Decoder_fine_loss: 6.6079 - Fine_prediction_output_layer_accuracy: 0.8524 - val_loss: 0.6707 - val_Fine_prediction_output_layer_loss: 0.6677 - val_Decoder_fine_loss: 6.6524 - val_Fine_prediction_output_layer_accuracy: 0.0394 - lr: 3.7524e-05\n",
      "Epoch 66/100\n",
      "750/750 [==============================] - ETA: 0s - loss: 0.3968 - Fine_prediction_output_layer_loss: 0.3937 - Decoder_fine_loss: 6.6030 - Fine_prediction_output_layer_accuracy: 0.8540\n",
      "Epoch 66: val_loss did not improve from 0.64508\n",
      "750/750 [==============================] - 347s 457ms/step - loss: 0.3968 - Fine_prediction_output_layer_loss: 0.3937 - Decoder_fine_loss: 6.6030 - Fine_prediction_output_layer_accuracy: 0.8540 - val_loss: 0.6704 - val_Fine_prediction_output_layer_loss: 0.6674 - val_Decoder_fine_loss: 6.6489 - val_Fine_prediction_output_layer_accuracy: 0.0449 - lr: 3.5648e-05\n",
      "Epoch 67/100\n",
      "750/750 [==============================] - ETA: 0s - loss: 0.3947 - Fine_prediction_output_layer_loss: 0.3916 - Decoder_fine_loss: 6.6029 - Fine_prediction_output_layer_accuracy: 0.8542\n",
      "Epoch 67: val_loss did not improve from 0.64508\n",
      "750/750 [==============================] - 347s 457ms/step - loss: 0.3947 - Fine_prediction_output_layer_loss: 0.3916 - Decoder_fine_loss: 6.6029 - Fine_prediction_output_layer_accuracy: 0.8542 - val_loss: 0.6710 - val_Fine_prediction_output_layer_loss: 0.6680 - val_Decoder_fine_loss: 6.6561 - val_Fine_prediction_output_layer_accuracy: 0.0414 - lr: 3.3866e-05\n",
      "Epoch 68/100\n",
      "750/750 [==============================] - ETA: 0s - loss: 0.3928 - Fine_prediction_output_layer_loss: 0.3897 - Decoder_fine_loss: 6.6007 - Fine_prediction_output_layer_accuracy: 0.8595\n",
      "Epoch 68: val_loss did not improve from 0.64508\n",
      "750/750 [==============================] - 347s 457ms/step - loss: 0.3928 - Fine_prediction_output_layer_loss: 0.3897 - Decoder_fine_loss: 6.6007 - Fine_prediction_output_layer_accuracy: 0.8595 - val_loss: 0.6708 - val_Fine_prediction_output_layer_loss: 0.6678 - val_Decoder_fine_loss: 6.6514 - val_Fine_prediction_output_layer_accuracy: 0.0421 - lr: 3.2172e-05\n"
     ]
    },
    {
     "name": "stdout",
     "output_type": "stream",
     "text": [
      "Epoch 69/100\n",
      "750/750 [==============================] - ETA: 0s - loss: 0.3894 - Fine_prediction_output_layer_loss: 0.3863 - Decoder_fine_loss: 6.6069 - Fine_prediction_output_layer_accuracy: 0.8652\n",
      "Epoch 69: val_loss did not improve from 0.64508\n",
      "750/750 [==============================] - 347s 457ms/step - loss: 0.3894 - Fine_prediction_output_layer_loss: 0.3863 - Decoder_fine_loss: 6.6069 - Fine_prediction_output_layer_accuracy: 0.8652 - val_loss: 0.6715 - val_Fine_prediction_output_layer_loss: 0.6685 - val_Decoder_fine_loss: 6.6544 - val_Fine_prediction_output_layer_accuracy: 0.0438 - lr: 3.0564e-05\n",
      "Epoch 70/100\n",
      "750/750 [==============================] - ETA: 0s - loss: 0.3886 - Fine_prediction_output_layer_loss: 0.3855 - Decoder_fine_loss: 6.6036 - Fine_prediction_output_layer_accuracy: 0.8642\n",
      "Epoch 70: val_loss did not improve from 0.64508\n",
      "750/750 [==============================] - 347s 457ms/step - loss: 0.3886 - Fine_prediction_output_layer_loss: 0.3855 - Decoder_fine_loss: 6.6036 - Fine_prediction_output_layer_accuracy: 0.8642 - val_loss: 0.6713 - val_Fine_prediction_output_layer_loss: 0.6684 - val_Decoder_fine_loss: 6.6522 - val_Fine_prediction_output_layer_accuracy: 0.0438 - lr: 2.9035e-05\n",
      "Epoch 71/100\n",
      "750/750 [==============================] - ETA: 0s - loss: 0.3868 - Fine_prediction_output_layer_loss: 0.3837 - Decoder_fine_loss: 6.6025 - Fine_prediction_output_layer_accuracy: 0.8687\n",
      "Epoch 71: val_loss did not improve from 0.64508\n",
      "750/750 [==============================] - 347s 456ms/step - loss: 0.3868 - Fine_prediction_output_layer_loss: 0.3837 - Decoder_fine_loss: 6.6025 - Fine_prediction_output_layer_accuracy: 0.8687 - val_loss: 0.6714 - val_Fine_prediction_output_layer_loss: 0.6684 - val_Decoder_fine_loss: 6.6509 - val_Fine_prediction_output_layer_accuracy: 0.0428 - lr: 2.7584e-05\n",
      "Epoch 72/100\n",
      "750/750 [==============================] - ETA: 0s - loss: 0.3860 - Fine_prediction_output_layer_loss: 0.3829 - Decoder_fine_loss: 6.6002 - Fine_prediction_output_layer_accuracy: 0.8695\n",
      "Epoch 72: val_loss did not improve from 0.64508\n",
      "750/750 [==============================] - 347s 457ms/step - loss: 0.3860 - Fine_prediction_output_layer_loss: 0.3829 - Decoder_fine_loss: 6.6002 - Fine_prediction_output_layer_accuracy: 0.8695 - val_loss: 0.6713 - val_Fine_prediction_output_layer_loss: 0.6683 - val_Decoder_fine_loss: 6.6536 - val_Fine_prediction_output_layer_accuracy: 0.0452 - lr: 2.6205e-05\n",
      "Epoch 73/100\n",
      "750/750 [==============================] - ETA: 0s - loss: 0.3847 - Fine_prediction_output_layer_loss: 0.3816 - Decoder_fine_loss: 6.6024 - Fine_prediction_output_layer_accuracy: 0.8734\n",
      "Epoch 73: val_loss did not improve from 0.64508\n",
      "750/750 [==============================] - 347s 457ms/step - loss: 0.3847 - Fine_prediction_output_layer_loss: 0.3816 - Decoder_fine_loss: 6.6024 - Fine_prediction_output_layer_accuracy: 0.8734 - val_loss: 0.6719 - val_Fine_prediction_output_layer_loss: 0.6689 - val_Decoder_fine_loss: 6.6545 - val_Fine_prediction_output_layer_accuracy: 0.0431 - lr: 2.4894e-05\n",
      "Epoch 74/100\n",
      "750/750 [==============================] - ETA: 0s - loss: 0.3813 - Fine_prediction_output_layer_loss: 0.3782 - Decoder_fine_loss: 6.5951 - Fine_prediction_output_layer_accuracy: 0.8822\n",
      "Epoch 74: val_loss did not improve from 0.64508\n",
      "750/750 [==============================] - 347s 457ms/step - loss: 0.3813 - Fine_prediction_output_layer_loss: 0.3782 - Decoder_fine_loss: 6.5951 - Fine_prediction_output_layer_accuracy: 0.8822 - val_loss: 0.6721 - val_Fine_prediction_output_layer_loss: 0.6692 - val_Decoder_fine_loss: 6.6540 - val_Fine_prediction_output_layer_accuracy: 0.0418 - lr: 2.3650e-05\n",
      "Epoch 75/100\n",
      "750/750 [==============================] - ETA: 0s - loss: 0.3821 - Fine_prediction_output_layer_loss: 0.3790 - Decoder_fine_loss: 6.5919 - Fine_prediction_output_layer_accuracy: 0.8765\n",
      "Epoch 75: val_loss did not improve from 0.64508\n",
      "750/750 [==============================] - 347s 457ms/step - loss: 0.3821 - Fine_prediction_output_layer_loss: 0.3790 - Decoder_fine_loss: 6.5919 - Fine_prediction_output_layer_accuracy: 0.8765 - val_loss: 0.6721 - val_Fine_prediction_output_layer_loss: 0.6691 - val_Decoder_fine_loss: 6.6540 - val_Fine_prediction_output_layer_accuracy: 0.0418 - lr: 2.2467e-05\n",
      "Epoch 76/100\n",
      "750/750 [==============================] - ETA: 0s - loss: 0.3809 - Fine_prediction_output_layer_loss: 0.3778 - Decoder_fine_loss: 6.5931 - Fine_prediction_output_layer_accuracy: 0.8750\n",
      "Epoch 76: val_loss did not improve from 0.64508\n",
      "750/750 [==============================] - 347s 457ms/step - loss: 0.3809 - Fine_prediction_output_layer_loss: 0.3778 - Decoder_fine_loss: 6.5931 - Fine_prediction_output_layer_accuracy: 0.8750 - val_loss: 0.6724 - val_Fine_prediction_output_layer_loss: 0.6694 - val_Decoder_fine_loss: 6.6529 - val_Fine_prediction_output_layer_accuracy: 0.0428 - lr: 2.1344e-05\n",
      "Epoch 77/100\n",
      "750/750 [==============================] - ETA: 0s - loss: 0.3816 - Fine_prediction_output_layer_loss: 0.3785 - Decoder_fine_loss: 6.5917 - Fine_prediction_output_layer_accuracy: 0.8695\n",
      "Epoch 77: val_loss did not improve from 0.64508\n",
      "750/750 [==============================] - 347s 457ms/step - loss: 0.3816 - Fine_prediction_output_layer_loss: 0.3785 - Decoder_fine_loss: 6.5917 - Fine_prediction_output_layer_accuracy: 0.8695 - val_loss: 0.6724 - val_Fine_prediction_output_layer_loss: 0.6694 - val_Decoder_fine_loss: 6.6508 - val_Fine_prediction_output_layer_accuracy: 0.0431 - lr: 2.0277e-05\n",
      "Epoch 78/100\n",
      "750/750 [==============================] - ETA: 0s - loss: 0.3809 - Fine_prediction_output_layer_loss: 0.3778 - Decoder_fine_loss: 6.5893 - Fine_prediction_output_layer_accuracy: 0.8760\n",
      "Epoch 78: val_loss did not improve from 0.64508\n",
      "750/750 [==============================] - 347s 457ms/step - loss: 0.3809 - Fine_prediction_output_layer_loss: 0.3778 - Decoder_fine_loss: 6.5893 - Fine_prediction_output_layer_accuracy: 0.8760 - val_loss: 0.6724 - val_Fine_prediction_output_layer_loss: 0.6694 - val_Decoder_fine_loss: 6.6535 - val_Fine_prediction_output_layer_accuracy: 0.0431 - lr: 1.9263e-05\n",
      "Epoch 79/100\n",
      "750/750 [==============================] - ETA: 0s - loss: 0.3773 - Fine_prediction_output_layer_loss: 0.3742 - Decoder_fine_loss: 6.5881 - Fine_prediction_output_layer_accuracy: 0.8819\n",
      "Epoch 79: val_loss did not improve from 0.64508\n",
      "750/750 [==============================] - 347s 457ms/step - loss: 0.3773 - Fine_prediction_output_layer_loss: 0.3742 - Decoder_fine_loss: 6.5881 - Fine_prediction_output_layer_accuracy: 0.8819 - val_loss: 0.6726 - val_Fine_prediction_output_layer_loss: 0.6696 - val_Decoder_fine_loss: 6.6543 - val_Fine_prediction_output_layer_accuracy: 0.0418 - lr: 1.8300e-05\n",
      "Epoch 80/100\n",
      "750/750 [==============================] - ETA: 0s - loss: 0.3771 - Fine_prediction_output_layer_loss: 0.3739 - Decoder_fine_loss: 6.5877 - Fine_prediction_output_layer_accuracy: 0.8744\n",
      "Epoch 80: val_loss did not improve from 0.64508\n",
      "750/750 [==============================] - 347s 457ms/step - loss: 0.3771 - Fine_prediction_output_layer_loss: 0.3739 - Decoder_fine_loss: 6.5877 - Fine_prediction_output_layer_accuracy: 0.8744 - val_loss: 0.6725 - val_Fine_prediction_output_layer_loss: 0.6695 - val_Decoder_fine_loss: 6.6545 - val_Fine_prediction_output_layer_accuracy: 0.0438 - lr: 1.7385e-05\n",
      "Epoch 81/100\n",
      "750/750 [==============================] - ETA: 0s - loss: 0.3761 - Fine_prediction_output_layer_loss: 0.3730 - Decoder_fine_loss: 6.6038 - Fine_prediction_output_layer_accuracy: 0.8809\n",
      "Epoch 81: val_loss did not improve from 0.64508\n",
      "750/750 [==============================] - 347s 457ms/step - loss: 0.3761 - Fine_prediction_output_layer_loss: 0.3730 - Decoder_fine_loss: 6.6038 - Fine_prediction_output_layer_accuracy: 0.8809 - val_loss: 0.6728 - val_Fine_prediction_output_layer_loss: 0.6699 - val_Decoder_fine_loss: 6.6525 - val_Fine_prediction_output_layer_accuracy: 0.0442 - lr: 1.6515e-05\n",
      "Epoch 82/100\n",
      "750/750 [==============================] - ETA: 0s - loss: 0.3742 - Fine_prediction_output_layer_loss: 0.3711 - Decoder_fine_loss: 6.6036 - Fine_prediction_output_layer_accuracy: 0.8844\n",
      "Epoch 82: val_loss did not improve from 0.64508\n",
      "750/750 [==============================] - 347s 457ms/step - loss: 0.3742 - Fine_prediction_output_layer_loss: 0.3711 - Decoder_fine_loss: 6.6036 - Fine_prediction_output_layer_accuracy: 0.8844 - val_loss: 0.6729 - val_Fine_prediction_output_layer_loss: 0.6699 - val_Decoder_fine_loss: 6.6535 - val_Fine_prediction_output_layer_accuracy: 0.0449 - lr: 1.5690e-05\n"
     ]
    },
    {
     "name": "stdout",
     "output_type": "stream",
     "text": [
      "Epoch 83/100\n",
      "750/750 [==============================] - ETA: 0s - loss: 0.3738 - Fine_prediction_output_layer_loss: 0.3707 - Decoder_fine_loss: 6.5890 - Fine_prediction_output_layer_accuracy: 0.8882\n",
      "Epoch 83: val_loss did not improve from 0.64508\n",
      "750/750 [==============================] - 347s 457ms/step - loss: 0.3738 - Fine_prediction_output_layer_loss: 0.3707 - Decoder_fine_loss: 6.5890 - Fine_prediction_output_layer_accuracy: 0.8882 - val_loss: 0.6730 - val_Fine_prediction_output_layer_loss: 0.6700 - val_Decoder_fine_loss: 6.6545 - val_Fine_prediction_output_layer_accuracy: 0.0414 - lr: 1.4905e-05\n",
      "Epoch 84/100\n",
      "750/750 [==============================] - ETA: 0s - loss: 0.3718 - Fine_prediction_output_layer_loss: 0.3687 - Decoder_fine_loss: 6.5988 - Fine_prediction_output_layer_accuracy: 0.8909\n",
      "Epoch 84: val_loss did not improve from 0.64508\n",
      "750/750 [==============================] - 347s 457ms/step - loss: 0.3718 - Fine_prediction_output_layer_loss: 0.3687 - Decoder_fine_loss: 6.5988 - Fine_prediction_output_layer_accuracy: 0.8909 - val_loss: 0.6729 - val_Fine_prediction_output_layer_loss: 0.6699 - val_Decoder_fine_loss: 6.6539 - val_Fine_prediction_output_layer_accuracy: 0.0456 - lr: 1.4160e-05\n",
      "Epoch 85/100\n",
      "750/750 [==============================] - ETA: 0s - loss: 0.3739 - Fine_prediction_output_layer_loss: 0.3708 - Decoder_fine_loss: 6.5946 - Fine_prediction_output_layer_accuracy: 0.8872\n",
      "Epoch 85: val_loss did not improve from 0.64508\n",
      "750/750 [==============================] - 347s 457ms/step - loss: 0.3739 - Fine_prediction_output_layer_loss: 0.3708 - Decoder_fine_loss: 6.5946 - Fine_prediction_output_layer_accuracy: 0.8872 - val_loss: 0.6732 - val_Fine_prediction_output_layer_loss: 0.6702 - val_Decoder_fine_loss: 6.6510 - val_Fine_prediction_output_layer_accuracy: 0.0435 - lr: 1.3452e-05\n",
      "Epoch 86/100\n",
      "750/750 [==============================] - ETA: 0s - loss: 0.3719 - Fine_prediction_output_layer_loss: 0.3688 - Decoder_fine_loss: 6.5940 - Fine_prediction_output_layer_accuracy: 0.8937\n",
      "Epoch 86: val_loss did not improve from 0.64508\n",
      "750/750 [==============================] - 347s 457ms/step - loss: 0.3719 - Fine_prediction_output_layer_loss: 0.3688 - Decoder_fine_loss: 6.5940 - Fine_prediction_output_layer_accuracy: 0.8937 - val_loss: 0.6732 - val_Fine_prediction_output_layer_loss: 0.6702 - val_Decoder_fine_loss: 6.6526 - val_Fine_prediction_output_layer_accuracy: 0.0442 - lr: 1.2779e-05\n",
      "Epoch 87/100\n",
      "750/750 [==============================] - ETA: 0s - loss: 0.3720 - Fine_prediction_output_layer_loss: 0.3689 - Decoder_fine_loss: 6.5817 - Fine_prediction_output_layer_accuracy: 0.8836\n",
      "Epoch 87: val_loss did not improve from 0.64508\n",
      "750/750 [==============================] - 348s 458ms/step - loss: 0.3720 - Fine_prediction_output_layer_loss: 0.3689 - Decoder_fine_loss: 6.5817 - Fine_prediction_output_layer_accuracy: 0.8836 - val_loss: 0.6732 - val_Fine_prediction_output_layer_loss: 0.6702 - val_Decoder_fine_loss: 6.6536 - val_Fine_prediction_output_layer_accuracy: 0.0452 - lr: 1.2140e-05\n",
      "Epoch 88/100\n",
      "750/750 [==============================] - ETA: 0s - loss: 0.3712 - Fine_prediction_output_layer_loss: 0.3681 - Decoder_fine_loss: 6.5986 - Fine_prediction_output_layer_accuracy: 0.8859\n",
      "Epoch 88: val_loss did not improve from 0.64508\n",
      "750/750 [==============================] - 347s 457ms/step - loss: 0.3712 - Fine_prediction_output_layer_loss: 0.3681 - Decoder_fine_loss: 6.5986 - Fine_prediction_output_layer_accuracy: 0.8859 - val_loss: 0.6733 - val_Fine_prediction_output_layer_loss: 0.6703 - val_Decoder_fine_loss: 6.6527 - val_Fine_prediction_output_layer_accuracy: 0.0469 - lr: 1.1533e-05\n",
      "Epoch 89/100\n",
      "750/750 [==============================] - ETA: 0s - loss: 0.3714 - Fine_prediction_output_layer_loss: 0.3682 - Decoder_fine_loss: 6.5960 - Fine_prediction_output_layer_accuracy: 0.8916\n",
      "Epoch 89: val_loss did not improve from 0.64508\n",
      "750/750 [==============================] - 347s 457ms/step - loss: 0.3714 - Fine_prediction_output_layer_loss: 0.3682 - Decoder_fine_loss: 6.5960 - Fine_prediction_output_layer_accuracy: 0.8916 - val_loss: 0.6736 - val_Fine_prediction_output_layer_loss: 0.6706 - val_Decoder_fine_loss: 6.6536 - val_Fine_prediction_output_layer_accuracy: 0.0452 - lr: 1.0957e-05\n",
      "Epoch 90/100\n",
      "750/750 [==============================] - ETA: 0s - loss: 0.3704 - Fine_prediction_output_layer_loss: 0.3673 - Decoder_fine_loss: 6.5819 - Fine_prediction_output_layer_accuracy: 0.8954\n",
      "Epoch 90: val_loss did not improve from 0.64508\n",
      "750/750 [==============================] - 347s 457ms/step - loss: 0.3704 - Fine_prediction_output_layer_loss: 0.3673 - Decoder_fine_loss: 6.5819 - Fine_prediction_output_layer_accuracy: 0.8954 - val_loss: 0.6734 - val_Fine_prediction_output_layer_loss: 0.6704 - val_Decoder_fine_loss: 6.6553 - val_Fine_prediction_output_layer_accuracy: 0.0431 - lr: 1.0409e-05\n",
      "Epoch 91/100\n",
      "750/750 [==============================] - ETA: 0s - loss: 0.3696 - Fine_prediction_output_layer_loss: 0.3664 - Decoder_fine_loss: 6.5888 - Fine_prediction_output_layer_accuracy: 0.8886\n",
      "Epoch 91: val_loss did not improve from 0.64508\n",
      "750/750 [==============================] - 348s 457ms/step - loss: 0.3696 - Fine_prediction_output_layer_loss: 0.3664 - Decoder_fine_loss: 6.5888 - Fine_prediction_output_layer_accuracy: 0.8886 - val_loss: 0.6736 - val_Fine_prediction_output_layer_loss: 0.6706 - val_Decoder_fine_loss: 6.6543 - val_Fine_prediction_output_layer_accuracy: 0.0428 - lr: 9.8884e-06\n",
      "Epoch 92/100\n",
      "750/750 [==============================] - ETA: 0s - loss: 0.3694 - Fine_prediction_output_layer_loss: 0.3663 - Decoder_fine_loss: 6.5950 - Fine_prediction_output_layer_accuracy: 0.8802\n",
      "Epoch 92: val_loss did not improve from 0.64508\n",
      "750/750 [==============================] - 347s 457ms/step - loss: 0.3694 - Fine_prediction_output_layer_loss: 0.3663 - Decoder_fine_loss: 6.5950 - Fine_prediction_output_layer_accuracy: 0.8802 - val_loss: 0.6736 - val_Fine_prediction_output_layer_loss: 0.6706 - val_Decoder_fine_loss: 6.6579 - val_Fine_prediction_output_layer_accuracy: 0.0435 - lr: 9.3939e-06\n",
      "Epoch 93/100\n",
      "750/750 [==============================] - ETA: 0s - loss: 0.3679 - Fine_prediction_output_layer_loss: 0.3648 - Decoder_fine_loss: 6.5965 - Fine_prediction_output_layer_accuracy: 0.8917\n",
      "Epoch 93: val_loss did not improve from 0.64508\n",
      "750/750 [==============================] - 348s 457ms/step - loss: 0.3679 - Fine_prediction_output_layer_loss: 0.3648 - Decoder_fine_loss: 6.5965 - Fine_prediction_output_layer_accuracy: 0.8917 - val_loss: 0.6736 - val_Fine_prediction_output_layer_loss: 0.6706 - val_Decoder_fine_loss: 6.6541 - val_Fine_prediction_output_layer_accuracy: 0.0431 - lr: 8.9242e-06\n",
      "Epoch 94/100\n",
      "750/750 [==============================] - ETA: 0s - loss: 0.3654 - Fine_prediction_output_layer_loss: 0.3623 - Decoder_fine_loss: 6.5918 - Fine_prediction_output_layer_accuracy: 0.8912\n",
      "Epoch 94: val_loss did not improve from 0.64508\n",
      "750/750 [==============================] - 348s 458ms/step - loss: 0.3654 - Fine_prediction_output_layer_loss: 0.3623 - Decoder_fine_loss: 6.5918 - Fine_prediction_output_layer_accuracy: 0.8912 - val_loss: 0.6736 - val_Fine_prediction_output_layer_loss: 0.6707 - val_Decoder_fine_loss: 6.6539 - val_Fine_prediction_output_layer_accuracy: 0.0435 - lr: 8.4780e-06\n",
      "Epoch 95/100\n",
      "750/750 [==============================] - ETA: 0s - loss: 0.3643 - Fine_prediction_output_layer_loss: 0.3612 - Decoder_fine_loss: 6.5848 - Fine_prediction_output_layer_accuracy: 0.8946\n",
      "Epoch 95: val_loss did not improve from 0.64508\n",
      "750/750 [==============================] - 348s 457ms/step - loss: 0.3643 - Fine_prediction_output_layer_loss: 0.3612 - Decoder_fine_loss: 6.5848 - Fine_prediction_output_layer_accuracy: 0.8946 - val_loss: 0.6736 - val_Fine_prediction_output_layer_loss: 0.6706 - val_Decoder_fine_loss: 6.6524 - val_Fine_prediction_output_layer_accuracy: 0.0449 - lr: 8.0541e-06\n",
      "Epoch 96/100\n",
      "750/750 [==============================] - ETA: 0s - loss: 0.3678 - Fine_prediction_output_layer_loss: 0.3647 - Decoder_fine_loss: 6.5937 - Fine_prediction_output_layer_accuracy: 0.8907\n",
      "Epoch 96: val_loss did not improve from 0.64508\n",
      "750/750 [==============================] - 348s 458ms/step - loss: 0.3678 - Fine_prediction_output_layer_loss: 0.3647 - Decoder_fine_loss: 6.5937 - Fine_prediction_output_layer_accuracy: 0.8907 - val_loss: 0.6737 - val_Fine_prediction_output_layer_loss: 0.6707 - val_Decoder_fine_loss: 6.6523 - val_Fine_prediction_output_layer_accuracy: 0.0445 - lr: 7.6514e-06\n"
     ]
    },
    {
     "name": "stdout",
     "output_type": "stream",
     "text": [
      "Epoch 97/100\n",
      "750/750 [==============================] - ETA: 0s - loss: 0.3692 - Fine_prediction_output_layer_loss: 0.3661 - Decoder_fine_loss: 6.5913 - Fine_prediction_output_layer_accuracy: 0.8911\n",
      "Epoch 97: val_loss did not improve from 0.64508\n",
      "750/750 [==============================] - 348s 458ms/step - loss: 0.3692 - Fine_prediction_output_layer_loss: 0.3661 - Decoder_fine_loss: 6.5913 - Fine_prediction_output_layer_accuracy: 0.8911 - val_loss: 0.6737 - val_Fine_prediction_output_layer_loss: 0.6708 - val_Decoder_fine_loss: 6.6554 - val_Fine_prediction_output_layer_accuracy: 0.0449 - lr: 7.2689e-06\n",
      "Epoch 98/100\n",
      "750/750 [==============================] - ETA: 0s - loss: 0.3662 - Fine_prediction_output_layer_loss: 0.3631 - Decoder_fine_loss: 6.5874 - Fine_prediction_output_layer_accuracy: 0.8974\n",
      "Epoch 98: val_loss did not improve from 0.64508\n",
      "750/750 [==============================] - 348s 457ms/step - loss: 0.3662 - Fine_prediction_output_layer_loss: 0.3631 - Decoder_fine_loss: 6.5874 - Fine_prediction_output_layer_accuracy: 0.8974 - val_loss: 0.6737 - val_Fine_prediction_output_layer_loss: 0.6707 - val_Decoder_fine_loss: 6.6546 - val_Fine_prediction_output_layer_accuracy: 0.0445 - lr: 6.9054e-06\n",
      "Epoch 99/100\n",
      "750/750 [==============================] - ETA: 0s - loss: 0.3653 - Fine_prediction_output_layer_loss: 0.3621 - Decoder_fine_loss: 6.5957 - Fine_prediction_output_layer_accuracy: 0.8961\n",
      "Epoch 99: val_loss did not improve from 0.64508\n",
      "750/750 [==============================] - 348s 457ms/step - loss: 0.3653 - Fine_prediction_output_layer_loss: 0.3621 - Decoder_fine_loss: 6.5957 - Fine_prediction_output_layer_accuracy: 0.8961 - val_loss: 0.6737 - val_Fine_prediction_output_layer_loss: 0.6707 - val_Decoder_fine_loss: 6.6530 - val_Fine_prediction_output_layer_accuracy: 0.0456 - lr: 6.5601e-06\n",
      "Epoch 100/100\n",
      "750/750 [==============================] - ETA: 0s - loss: 0.3658 - Fine_prediction_output_layer_loss: 0.3627 - Decoder_fine_loss: 6.5907 - Fine_prediction_output_layer_accuracy: 0.8936\n",
      "Epoch 100: val_loss did not improve from 0.64508\n",
      "750/750 [==============================] - 348s 458ms/step - loss: 0.3658 - Fine_prediction_output_layer_loss: 0.3627 - Decoder_fine_loss: 6.5907 - Fine_prediction_output_layer_accuracy: 0.8936 - val_loss: 0.6740 - val_Fine_prediction_output_layer_loss: 0.6710 - val_Decoder_fine_loss: 6.6520 - val_Fine_prediction_output_layer_accuracy: 0.0459 - lr: 6.2321e-06\n",
      "Trained model saved to =  ./logs/CapsNet/Flat_Classification/trained_model.h5\n"
     ]
    }
   ],
   "source": [
    "history = model.fit(training_dataset_match,\n",
    "                    batch_size = train_params[\"batch_size\"],\n",
    "                    epochs = train_params[\"n_epochs\"],\n",
    "                    validation_data = val_dataset_match,\n",
    "                    callbacks =[tb, log, checkpoint, lr_decay],\n",
    "                    verbose=\"auto\")\n",
    "\n",
    "model_save_dir = str(directory+'/trained_model.h5')\n",
    "\n",
    "model.save_weights(model_save_dir)\n",
    "print('Trained model saved to = ', model_save_dir)"
   ]
  },
  {
   "cell_type": "code",
   "execution_count": 23,
   "metadata": {
    "scrolled": true
   },
   "outputs": [
    {
     "name": "stdout",
     "output_type": "stream",
     "text": [
      "\u001b[91m \u001b[1m \n",
      "==> Parameters in history =  \u001b[0m\n",
      "1 --> loss\n",
      "2 --> Fine_prediction_output_layer_loss\n",
      "3 --> Decoder_fine_loss\n",
      "4 --> Fine_prediction_output_layer_accuracy\n",
      "5 --> val_loss\n",
      "6 --> val_Fine_prediction_output_layer_loss\n",
      "7 --> val_Decoder_fine_loss\n",
      "8 --> val_Fine_prediction_output_layer_accuracy\n",
      "9 --> lr\n"
     ]
    }
   ],
   "source": [
    "history_dict = history.history\n",
    "# history_dict.keys()\n",
    "n=1\n",
    "print('\\033[91m','\\033[1m',\"\\n==>\",\"Parameters in history = \", '\\033[0m')\n",
    "for key, value in history_dict.items():\n",
    "    print(n, \"-->\", key)\n",
    "    n+=1\n",
    "    \n",
    "# print('\\033[91m','\\033[1m',\"\\n==>\",\"Parameters and values in history = \", '\\033[0m')\n",
    "# n=1\n",
    "# print('\\n\\nVALUE of the key parameters')\n",
    "# for key, value in history_dict.items():\n",
    "#     print(n, \"-->\", key, ' : ', value)\n",
    "#     n+=1"
   ]
  },
  {
   "cell_type": "code",
   "execution_count": 24,
   "metadata": {},
   "outputs": [
    {
     "data": {
      "image/png": "[encoded data removed]",
      "text/plain": [
       "<Figure size 432x288 with 1 Axes>"
      ]
     },
     "metadata": {
      "needs_background": "light"
     },
     "output_type": "display_data"
    },
    {
     "data": {
      "image/png": "[encoded data removed]",
      "text/plain": [
       "<Figure size 432x288 with 1 Axes>"
      ]
     },
     "metadata": {
      "needs_background": "light"
     },
     "output_type": "display_data"
    }
   ],
   "source": [
    "acc = history_dict['Fine_prediction_output_layer_accuracy']\n",
    "val_acc = history_dict['val_Fine_prediction_output_layer_accuracy']\n",
    "loss = history_dict['loss']\n",
    "val_loss = history_dict['val_loss']\n",
    "\n",
    "epochs = range(1, len(acc) + 1)\n",
    "\n",
    "# \"bo\" is for \"blue dot\"\n",
    "plt.plot(epochs, loss, 'bo', label='Training loss')\n",
    "# b is for \"solid blue line\"\n",
    "plt.plot(epochs, val_loss, 'b', label='Validation loss')\n",
    "plt.title('Training and validation loss')\n",
    "plt.xlabel('Epochs')\n",
    "plt.ylabel('Loss')\n",
    "plt.legend()\n",
    "\n",
    "plt.show()\n",
    "\n",
    "plt.plot(epochs, acc, 'bo', label='Training acc')\n",
    "plt.plot(epochs, val_acc, 'b', label='Validation acc')\n",
    "plt.title('Training and validation accuracy')\n",
    "plt.xlabel('Epochs')\n",
    "plt.ylabel('Accuracy')\n",
    "plt.legend(loc='lower right')\n",
    "\n",
    "plt.show()"
   ]
  },
  {
   "cell_type": "markdown",
   "metadata": {},
   "source": [
    "# Model evaluate"
   ]
  },
  {
   "cell_type": "code",
   "execution_count": 25,
   "metadata": {},
   "outputs": [
    {
     "name": "stdout",
     "output_type": "stream",
     "text": [
      "['loss', 'Fine_prediction_output_layer_loss', 'Decoder_fine_loss', 'Fine_prediction_output_layer_accuracy']\n"
     ]
    }
   ],
   "source": [
    "print(model.metrics_names)"
   ]
  },
  {
   "cell_type": "code",
   "execution_count": 26,
   "metadata": {
    "colab": {},
    "colab_type": "code",
    "id": "4Jr8-7E3IphF",
    "scrolled": true
   },
   "outputs": [
    {
     "name": "stdout",
     "output_type": "stream",
     "text": [
      "363/363 [==============================] - 47s 128ms/step - loss: 0.6740 - Fine_prediction_output_layer_loss: 0.6710 - Decoder_fine_loss: 6.6520 - Fine_prediction_output_layer_accuracy: 0.0459\n"
     ]
    }
   ],
   "source": [
    "results = model.evaluate(test_dataset_match,\n",
    "                         verbose=1)"
   ]
  },
  {
   "cell_type": "code",
   "execution_count": 27,
   "metadata": {},
   "outputs": [
    {
     "name": "stdout",
     "output_type": "stream",
     "text": [
      "1 _ loss ==> 0.6739814281463623 \n",
      "\n",
      "2 _ Fine_prediction_output_layer_loss ==> 0.6709907054901123 \n",
      "\n",
      "3 _ Decoder_fine_loss ==> 6.652037620544434 \n",
      "\n",
      "4 _ Fine_prediction_output_layer_accuracy ==> 0.04590956121683121 \n",
      "\n"
     ]
    }
   ],
   "source": [
    "for n in range(len(results)):\n",
    "    print(n+1,'_',model.metrics_names[n], '==>', results[n],'\\n')"
   ]
  },
  {
   "cell_type": "markdown",
   "metadata": {},
   "source": [
    "# Model Prediction"
   ]
  },
  {
   "cell_type": "code",
   "execution_count": 28,
   "metadata": {},
   "outputs": [
    {
     "name": "stdout",
     "output_type": "stream",
     "text": [
      "363/363 [==============================] - 46s 123ms/step\n"
     ]
    }
   ],
   "source": [
    "predictions = model.predict(test_dataset_match,\n",
    "                            verbose=1\n",
    "                           )"
   ]
  },
  {
   "cell_type": "code",
   "execution_count": 29,
   "metadata": {},
   "outputs": [
    {
     "name": "stdout",
     "output_type": "stream",
     "text": [
      "\u001b[91m \u001b[1m \n",
      "Model prediction array shape: \u001b[0m\n",
      "predictions[0]: (2897, 200)\n",
      "predictions[1]: (2897, 64, 64, 3)\n"
     ]
    }
   ],
   "source": [
    "print('\\033[91m','\\033[1m',\"\\nModel prediction array shape:\", '\\033[0m')\n",
    "for n in range(len(predictions)):\n",
    "    print(\"predictions[{0}]:\".format(n), predictions[n].shape)"
   ]
  },
  {
   "cell_type": "markdown",
   "metadata": {},
   "source": [
    "# Analysis"
   ]
  },
  {
   "cell_type": "code",
   "execution_count": 30,
   "metadata": {},
   "outputs": [],
   "source": [
    "def predict_from_pipeline(model, dataset):\n",
    "    y_pred = []\n",
    "    y_true = []\n",
    "    for x, y in dataset:\n",
    "        batch_pred = model.predict(x)\n",
    "        for i in range(len(batch_pred)):\n",
    "            if i >= len(y_pred):\n",
    "                y_pred.append(None)\n",
    "                y_true.append(None)\n",
    "            if y_pred[i] is None:\n",
    "                y_pred[i] = batch_pred[i]\n",
    "                y_true[i] = list(y[i].numpy())\n",
    "            else:\n",
    "                y_pred[i] = np.concatenate([y_pred[i], batch_pred[i]])\n",
    "                y_true[i] = y_true[i] + list(y[i].numpy())\n",
    "    return y_true, y_pred"
   ]
  },
  {
   "cell_type": "code",
   "execution_count": 31,
   "metadata": {},
   "outputs": [],
   "source": [
    "pred = []\n",
    "pred.append(predict_from_pipeline(model, test_dataset_match))"
   ]
  },
  {
   "cell_type": "code",
   "execution_count": 32,
   "metadata": {},
   "outputs": [],
   "source": [
    "y_true = pred[0][0]\n",
    "y_pred = pred[0][1]\n",
    "\n",
    "y_true_fine, image = y_true[0], y_true[1]\n",
    "y_pred_fine, image_recon = y_pred[0], y_pred[1]"
   ]
  },
  {
   "cell_type": "code",
   "execution_count": 33,
   "metadata": {},
   "outputs": [],
   "source": [
    "true_label = [y_true_fine,y_true_fine]\n",
    "pred_label = [y_pred_fine,y_pred_fine]"
   ]
  },
  {
   "cell_type": "code",
   "execution_count": 34,
   "metadata": {},
   "outputs": [
    {
     "name": "stdout",
     "output_type": "stream",
     "text": [
      "\u001b[91m \u001b[1m • Confusion_Matrix \u001b[0m\n",
      "\n",
      "\u001b[91m \u001b[1m • COARSE LEVEL \u001b[0m\n",
      "[[1 0 0 ... 0 0 0]\n",
      " [0 0 0 ... 0 0 0]\n",
      " [0 0 0 ... 0 0 0]\n",
      " ...\n",
      " [0 0 0 ... 0 0 0]\n",
      " [0 0 0 ... 0 0 0]\n",
      " [0 0 0 ... 0 0 1]]\n",
      "\n",
      "\u001b[91m \u001b[1m • FINE LEVEL \u001b[0m\n",
      "[[1 0 0 ... 0 0 0]\n",
      " [0 0 0 ... 0 0 0]\n",
      " [0 0 0 ... 0 0 0]\n",
      " ...\n",
      " [0 0 0 ... 0 0 0]\n",
      " [0 0 0 ... 0 0 0]\n",
      " [0 0 0 ... 0 0 1]]\n",
      "\n",
      "\u001b[91m \u001b[1m • Classification Report \u001b[0m\n",
      "\n",
      "\n",
      "\u001b[91m \u001b[1m • COARSE LEVEL \u001b[0m\n"
     ]
    },
    {
     "data": {
      "image/png": "[encoded data removed]",
      "text/plain": [
       "<Figure size 432x288 with 2 Axes>"
      ]
     },
     "metadata": {
      "needs_background": "light"
     },
     "output_type": "display_data"
    },
    {
     "name": "stdout",
     "output_type": "stream",
     "text": [
      "              precision    recall  f1-score   support\n",
      "\n",
      "           0    0.07143   0.06667   0.06897        15\n",
      "           1    0.00000   0.00000   0.00000        16\n",
      "           2    0.00000   0.00000   0.00000        16\n",
      "           3    0.07692   0.07692   0.07692        13\n",
      "           4    0.00000   0.00000   0.00000         7\n",
      "           5    0.00000   0.00000   0.00000         4\n",
      "           6    0.10345   0.18750   0.13333        16\n",
      "           7    0.00000   0.00000   0.00000        10\n",
      "           8    0.06667   0.08333   0.07407        12\n",
      "           9    0.00000   0.00000   0.00000        11\n",
      "          10    0.00000   0.00000   0.00000        17\n",
      "          11    0.10526   0.15385   0.12500        13\n",
      "          12    0.02941   0.08333   0.04348        12\n",
      "          13    0.07895   0.23077   0.11765        13\n",
      "          14    0.00000   0.00000   0.00000        16\n",
      "          15    0.00000   0.00000   0.00000        15\n",
      "          16    0.00000   0.00000   0.00000        10\n",
      "          17    0.00000   0.00000   0.00000         9\n",
      "          18    0.25000   0.16667   0.20000        18\n",
      "          19    0.00000   0.00000   0.00000        15\n",
      "          20    0.05882   0.07143   0.06452        14\n",
      "          21    0.00000   0.00000   0.00000         8\n",
      "          22    0.06250   0.20000   0.09524        10\n",
      "          23    0.09091   0.25000   0.13333        12\n",
      "          24    0.04348   0.05556   0.04878        18\n",
      "          25    0.11111   0.15000   0.12766        20\n",
      "          26    0.00000   0.00000   0.00000        14\n",
      "          27    0.00000   0.00000   0.00000        15\n",
      "          28    0.07143   0.11111   0.08696        18\n",
      "          29    0.00000   0.00000   0.00000         9\n",
      "          30    0.00000   0.00000   0.00000        19\n",
      "          31    0.00000   0.00000   0.00000        12\n",
      "          32    0.05556   0.07143   0.06250        14\n",
      "          33    0.00000   0.00000   0.00000        15\n",
      "          34    0.00000   0.00000   0.00000        16\n",
      "          35    0.00000   0.00000   0.00000        16\n",
      "          36    0.05000   0.07692   0.06061        13\n",
      "          37    0.07692   0.08333   0.08000        12\n",
      "          38    0.00000   0.00000   0.00000        11\n",
      "          39    0.00000   0.00000   0.00000        12\n",
      "          40    0.22222   0.11765   0.15385        17\n",
      "          41    0.11111   0.09091   0.10000        11\n",
      "          42    0.00000   0.00000   0.00000        12\n",
      "          43    0.14286   0.17391   0.15686        23\n",
      "          44    0.00000   0.00000   0.00000        15\n",
      "          45    0.09091   0.13333   0.10811        15\n",
      "          46    0.00000   0.00000   0.00000        18\n",
      "          47    0.00000   0.00000   0.00000        18\n",
      "          48    0.00000   0.00000   0.00000        15\n",
      "          49    0.06667   0.12500   0.08696        16\n",
      "          50    0.04762   0.08333   0.06061        12\n",
      "          51    0.05263   0.08333   0.06452        12\n",
      "          52    0.15385   0.10000   0.12121        20\n",
      "          53    0.05882   0.05556   0.05714        18\n",
      "          54    0.00000   0.00000   0.00000        14\n",
      "          55    0.00000   0.00000   0.00000        13\n",
      "          56    0.07143   0.10526   0.08511        19\n",
      "          57    0.00000   0.00000   0.00000        13\n",
      "          58    0.00000   0.00000   0.00000        15\n",
      "          59    0.03448   0.09091   0.05000        11\n",
      "          60    0.00000   0.00000   0.00000        17\n",
      "          61    0.00000   0.00000   0.00000        11\n",
      "          62    0.05556   0.07692   0.06452        13\n",
      "          63    0.10000   0.13333   0.11429        15\n",
      "          64    0.07692   0.12500   0.09524         8\n",
      "          65    0.06667   0.07143   0.06897        14\n",
      "          66    0.08333   0.05882   0.06897        17\n",
      "          67    0.00000   0.00000   0.00000        16\n",
      "          68    0.00000   0.00000   0.00000        10\n",
      "          69    0.11765   0.12500   0.12121        16\n",
      "          70    0.07143   0.05882   0.06452        17\n",
      "          71    0.03704   0.07692   0.05000        13\n",
      "          72    0.08000   0.12500   0.09756        16\n",
      "          73    0.00000   0.00000   0.00000        16\n",
      "          74    0.10000   0.10000   0.10000        10\n",
      "          75    0.00000   0.00000   0.00000        19\n",
      "          76    0.00000   0.00000   0.00000        16\n",
      "          77    0.00000   0.00000   0.00000        16\n",
      "          78    0.00000   0.00000   0.00000        17\n",
      "          79    0.00000   0.00000   0.00000        14\n",
      "          80    0.00000   0.00000   0.00000        16\n",
      "          81    0.00000   0.00000   0.00000        15\n",
      "          82    0.00000   0.00000   0.00000        12\n",
      "          83    0.03333   0.09091   0.04878        11\n",
      "          84    0.12500   0.07143   0.09091        14\n",
      "          85    0.00000   0.00000   0.00000        12\n",
      "          86    0.00000   0.00000   0.00000        15\n",
      "          87    0.12500   0.05000   0.07143        20\n",
      "          88    0.06897   0.11765   0.08696        17\n",
      "          89    0.12500   0.10526   0.11429        19\n",
      "          90    0.00000   0.00000   0.00000        12\n",
      "          91    0.03846   0.07692   0.05128        13\n",
      "          92    0.08333   0.13333   0.10256        15\n",
      "          93    0.00000   0.00000   0.00000        19\n",
      "          94    0.07143   0.07692   0.07407        13\n",
      "          95    0.00000   0.00000   0.00000        14\n",
      "          96    0.00000   0.00000   0.00000        17\n",
      "          97    0.22727   0.26316   0.24390        19\n",
      "          98    0.00000   0.00000   0.00000        20\n",
      "          99    0.00000   0.00000   0.00000        14\n",
      "         100    0.15000   0.30000   0.20000        10\n",
      "         101    0.00000   0.00000   0.00000        12\n",
      "         102    0.00000   0.00000   0.00000        12\n",
      "         103    0.00000   0.00000   0.00000        16\n",
      "         104    0.06667   0.12500   0.08696         8\n",
      "         105    0.05556   0.05882   0.05714        17\n",
      "         106    0.05263   0.05263   0.05263        19\n",
      "         107    0.00000   0.00000   0.00000        15\n",
      "         108    0.00000   0.00000   0.00000        18\n",
      "         109    0.06667   0.05556   0.06061        18\n",
      "         110    0.10000   0.05000   0.06667        20\n",
      "         111    0.10000   0.07143   0.08333        14\n",
      "         112    0.06452   0.20000   0.09756        10\n",
      "         113    0.00000   0.00000   0.00000        13\n",
      "         114    0.00000   0.00000   0.00000        11\n",
      "         115    0.00000   0.00000   0.00000        15\n",
      "         116    0.00000   0.00000   0.00000        15\n",
      "         117    0.00000   0.00000   0.00000        15\n",
      "         118    0.00000   0.00000   0.00000         8\n",
      "         119    0.00000   0.00000   0.00000        14\n",
      "         120    0.00000   0.00000   0.00000        14\n",
      "         121    0.00000   0.00000   0.00000        12\n",
      "         122    0.00000   0.00000   0.00000         7\n",
      "         123    0.00000   0.00000   0.00000        18\n",
      "         124    0.00000   0.00000   0.00000        17\n",
      "         125    0.00000   0.00000   0.00000        13\n",
      "         126    0.00000   0.00000   0.00000        17\n",
      "         127    0.08333   0.09091   0.08696        11\n",
      "         128    0.00000   0.00000   0.00000        11\n",
      "         129    0.00000   0.00000   0.00000        16\n",
      "         130    0.25000   0.07692   0.11765        13\n",
      "         131    0.00000   0.00000   0.00000        13\n",
      "         132    0.00000   0.00000   0.00000        16\n",
      "         133    0.08333   0.07143   0.07692        14\n",
      "         134    0.09091   0.05882   0.07143        17\n",
      "         135    0.00000   0.00000   0.00000        17\n",
      "         136    0.10000   0.06250   0.07692        16\n",
      "         137    0.00000   0.00000   0.00000        16\n",
      "         138    0.07692   0.07692   0.07692        13\n",
      "         139    0.05000   0.06667   0.05714        15\n",
      "         140    0.00000   0.00000   0.00000        19\n",
      "         141    0.00000   0.00000   0.00000        11\n",
      "         142    0.05263   0.14286   0.07692         7\n",
      "         143    0.05556   0.11765   0.07547        17\n",
      "         144    0.10000   0.16667   0.12500        18\n",
      "         145    0.06250   0.09091   0.07407        11\n",
      "         146    0.14286   0.05556   0.08000        18\n",
      "         147    0.00000   0.00000   0.00000        16\n",
      "         148    0.00000   0.00000   0.00000        11\n",
      "         149    0.00000   0.00000   0.00000        16\n",
      "         150    0.00000   0.00000   0.00000        12\n",
      "         151    0.07692   0.05882   0.06667        17\n",
      "         152    0.00000   0.00000   0.00000        11\n",
      "         153    0.06667   0.06667   0.06667        15\n",
      "         154    0.00000   0.00000   0.00000        17\n",
      "         155    0.00000   0.00000   0.00000        14\n",
      "         156    0.00000   0.00000   0.00000        13\n",
      "         157    0.00000   0.00000   0.00000        10\n",
      "         158    0.00000   0.00000   0.00000        14\n",
      "         159    0.00000   0.00000   0.00000        13\n",
      "         160    0.03030   0.06250   0.04082        16\n",
      "         161    0.05263   0.04348   0.04762        23\n",
      "         162    0.00000   0.00000   0.00000        10\n",
      "         163    0.14286   0.25000   0.18182        16\n",
      "         164    0.00000   0.00000   0.00000        13\n",
      "         165    0.00000   0.00000   0.00000        13\n",
      "         166    0.00000   0.00000   0.00000        17\n",
      "         167    0.07143   0.05882   0.06452        17\n",
      "         168    0.00000   0.00000   0.00000        15\n",
      "         169    0.05556   0.11111   0.07407        18\n",
      "         170    0.00000   0.00000   0.00000        18\n",
      "         171    0.00000   0.00000   0.00000        15\n",
      "         172    0.00000   0.00000   0.00000        12\n",
      "         173    0.11111   0.05882   0.07692        17\n",
      "         174    0.00000   0.00000   0.00000        16\n",
      "         175    0.05263   0.06667   0.05882        15\n",
      "         176    0.00000   0.00000   0.00000        19\n",
      "         177    0.00000   0.00000   0.00000        12\n",
      "         178    0.00000   0.00000   0.00000        17\n",
      "         179    0.04348   0.05556   0.04878        18\n",
      "         180    0.00000   0.00000   0.00000        15\n",
      "         181    0.17857   0.33333   0.23256        15\n",
      "         182    0.00000   0.00000   0.00000        12\n",
      "         183    0.00000   0.00000   0.00000        18\n",
      "         184    0.00000   0.00000   0.00000        18\n",
      "         185    0.00000   0.00000   0.00000        17\n",
      "         186    0.06452   0.28571   0.10526         7\n",
      "         187    0.08333   0.05882   0.06897        17\n",
      "         188    0.00000   0.00000   0.00000        12\n",
      "         189    0.12500   0.07143   0.09091        14\n",
      "         190    0.00000   0.00000   0.00000        13\n",
      "         191    0.10000   0.15385   0.12121        13\n",
      "         192    0.00000   0.00000   0.00000        15\n",
      "         193    0.14286   0.22222   0.17391         9\n",
      "         194    0.00000   0.00000   0.00000        17\n",
      "         195    0.00000   0.00000   0.00000        19\n",
      "         196    0.50000   0.06667   0.11765        15\n",
      "         197    0.00000   0.00000   0.00000        20\n",
      "         198    0.00000   0.00000   0.00000        12\n",
      "         199    0.14286   0.06667   0.09091        15\n",
      "\n",
      "    accuracy                        0.04591      2897\n",
      "   macro avg    0.03993   0.04649   0.03901      2897\n",
      "weighted avg    0.04186   0.04591   0.04001      2897\n",
      "\n",
      "\n",
      "\u001b[91m \u001b[1m • FINE LEVEL \u001b[0m\n"
     ]
    },
    {
     "data": {
      "image/png": "[encoded data removed]",
      "text/plain": [
       "<Figure size 432x288 with 2 Axes>"
      ]
     },
     "metadata": {
      "needs_background": "light"
     },
     "output_type": "display_data"
    },
    {
     "name": "stdout",
     "output_type": "stream",
     "text": [
      "              precision    recall  f1-score   support\n",
      "\n",
      "           0    0.07143   0.06667   0.06897        15\n",
      "           1    0.00000   0.00000   0.00000        16\n",
      "           2    0.00000   0.00000   0.00000        16\n",
      "           3    0.07692   0.07692   0.07692        13\n",
      "           4    0.00000   0.00000   0.00000         7\n",
      "           5    0.00000   0.00000   0.00000         4\n",
      "           6    0.10345   0.18750   0.13333        16\n",
      "           7    0.00000   0.00000   0.00000        10\n",
      "           8    0.06667   0.08333   0.07407        12\n",
      "           9    0.00000   0.00000   0.00000        11\n",
      "          10    0.00000   0.00000   0.00000        17\n",
      "          11    0.10526   0.15385   0.12500        13\n",
      "          12    0.02941   0.08333   0.04348        12\n",
      "          13    0.07895   0.23077   0.11765        13\n",
      "          14    0.00000   0.00000   0.00000        16\n",
      "          15    0.00000   0.00000   0.00000        15\n",
      "          16    0.00000   0.00000   0.00000        10\n",
      "          17    0.00000   0.00000   0.00000         9\n",
      "          18    0.25000   0.16667   0.20000        18\n",
      "          19    0.00000   0.00000   0.00000        15\n",
      "          20    0.05882   0.07143   0.06452        14\n",
      "          21    0.00000   0.00000   0.00000         8\n",
      "          22    0.06250   0.20000   0.09524        10\n",
      "          23    0.09091   0.25000   0.13333        12\n",
      "          24    0.04348   0.05556   0.04878        18\n",
      "          25    0.11111   0.15000   0.12766        20\n",
      "          26    0.00000   0.00000   0.00000        14\n",
      "          27    0.00000   0.00000   0.00000        15\n",
      "          28    0.07143   0.11111   0.08696        18\n",
      "          29    0.00000   0.00000   0.00000         9\n",
      "          30    0.00000   0.00000   0.00000        19\n",
      "          31    0.00000   0.00000   0.00000        12\n",
      "          32    0.05556   0.07143   0.06250        14\n",
      "          33    0.00000   0.00000   0.00000        15\n",
      "          34    0.00000   0.00000   0.00000        16\n",
      "          35    0.00000   0.00000   0.00000        16\n",
      "          36    0.05000   0.07692   0.06061        13\n",
      "          37    0.07692   0.08333   0.08000        12\n",
      "          38    0.00000   0.00000   0.00000        11\n",
      "          39    0.00000   0.00000   0.00000        12\n",
      "          40    0.22222   0.11765   0.15385        17\n",
      "          41    0.11111   0.09091   0.10000        11\n",
      "          42    0.00000   0.00000   0.00000        12\n",
      "          43    0.14286   0.17391   0.15686        23\n",
      "          44    0.00000   0.00000   0.00000        15\n",
      "          45    0.09091   0.13333   0.10811        15\n",
      "          46    0.00000   0.00000   0.00000        18\n",
      "          47    0.00000   0.00000   0.00000        18\n",
      "          48    0.00000   0.00000   0.00000        15\n",
      "          49    0.06667   0.12500   0.08696        16\n",
      "          50    0.04762   0.08333   0.06061        12\n",
      "          51    0.05263   0.08333   0.06452        12\n",
      "          52    0.15385   0.10000   0.12121        20\n",
      "          53    0.05882   0.05556   0.05714        18\n",
      "          54    0.00000   0.00000   0.00000        14\n",
      "          55    0.00000   0.00000   0.00000        13\n",
      "          56    0.07143   0.10526   0.08511        19\n",
      "          57    0.00000   0.00000   0.00000        13\n",
      "          58    0.00000   0.00000   0.00000        15\n",
      "          59    0.03448   0.09091   0.05000        11\n",
      "          60    0.00000   0.00000   0.00000        17\n",
      "          61    0.00000   0.00000   0.00000        11\n",
      "          62    0.05556   0.07692   0.06452        13\n",
      "          63    0.10000   0.13333   0.11429        15\n",
      "          64    0.07692   0.12500   0.09524         8\n",
      "          65    0.06667   0.07143   0.06897        14\n",
      "          66    0.08333   0.05882   0.06897        17\n",
      "          67    0.00000   0.00000   0.00000        16\n",
      "          68    0.00000   0.00000   0.00000        10\n",
      "          69    0.11765   0.12500   0.12121        16\n",
      "          70    0.07143   0.05882   0.06452        17\n",
      "          71    0.03704   0.07692   0.05000        13\n",
      "          72    0.08000   0.12500   0.09756        16\n",
      "          73    0.00000   0.00000   0.00000        16\n",
      "          74    0.10000   0.10000   0.10000        10\n",
      "          75    0.00000   0.00000   0.00000        19\n",
      "          76    0.00000   0.00000   0.00000        16\n",
      "          77    0.00000   0.00000   0.00000        16\n",
      "          78    0.00000   0.00000   0.00000        17\n",
      "          79    0.00000   0.00000   0.00000        14\n",
      "          80    0.00000   0.00000   0.00000        16\n",
      "          81    0.00000   0.00000   0.00000        15\n",
      "          82    0.00000   0.00000   0.00000        12\n",
      "          83    0.03333   0.09091   0.04878        11\n",
      "          84    0.12500   0.07143   0.09091        14\n",
      "          85    0.00000   0.00000   0.00000        12\n",
      "          86    0.00000   0.00000   0.00000        15\n",
      "          87    0.12500   0.05000   0.07143        20\n",
      "          88    0.06897   0.11765   0.08696        17\n",
      "          89    0.12500   0.10526   0.11429        19\n",
      "          90    0.00000   0.00000   0.00000        12\n",
      "          91    0.03846   0.07692   0.05128        13\n",
      "          92    0.08333   0.13333   0.10256        15\n",
      "          93    0.00000   0.00000   0.00000        19\n",
      "          94    0.07143   0.07692   0.07407        13\n",
      "          95    0.00000   0.00000   0.00000        14\n",
      "          96    0.00000   0.00000   0.00000        17\n",
      "          97    0.22727   0.26316   0.24390        19\n",
      "          98    0.00000   0.00000   0.00000        20\n",
      "          99    0.00000   0.00000   0.00000        14\n",
      "         100    0.15000   0.30000   0.20000        10\n",
      "         101    0.00000   0.00000   0.00000        12\n",
      "         102    0.00000   0.00000   0.00000        12\n",
      "         103    0.00000   0.00000   0.00000        16\n",
      "         104    0.06667   0.12500   0.08696         8\n",
      "         105    0.05556   0.05882   0.05714        17\n",
      "         106    0.05263   0.05263   0.05263        19\n",
      "         107    0.00000   0.00000   0.00000        15\n",
      "         108    0.00000   0.00000   0.00000        18\n",
      "         109    0.06667   0.05556   0.06061        18\n",
      "         110    0.10000   0.05000   0.06667        20\n",
      "         111    0.10000   0.07143   0.08333        14\n",
      "         112    0.06452   0.20000   0.09756        10\n",
      "         113    0.00000   0.00000   0.00000        13\n",
      "         114    0.00000   0.00000   0.00000        11\n",
      "         115    0.00000   0.00000   0.00000        15\n",
      "         116    0.00000   0.00000   0.00000        15\n",
      "         117    0.00000   0.00000   0.00000        15\n",
      "         118    0.00000   0.00000   0.00000         8\n",
      "         119    0.00000   0.00000   0.00000        14\n",
      "         120    0.00000   0.00000   0.00000        14\n",
      "         121    0.00000   0.00000   0.00000        12\n",
      "         122    0.00000   0.00000   0.00000         7\n",
      "         123    0.00000   0.00000   0.00000        18\n",
      "         124    0.00000   0.00000   0.00000        17\n",
      "         125    0.00000   0.00000   0.00000        13\n",
      "         126    0.00000   0.00000   0.00000        17\n",
      "         127    0.08333   0.09091   0.08696        11\n",
      "         128    0.00000   0.00000   0.00000        11\n",
      "         129    0.00000   0.00000   0.00000        16\n",
      "         130    0.25000   0.07692   0.11765        13\n",
      "         131    0.00000   0.00000   0.00000        13\n",
      "         132    0.00000   0.00000   0.00000        16\n",
      "         133    0.08333   0.07143   0.07692        14\n",
      "         134    0.09091   0.05882   0.07143        17\n",
      "         135    0.00000   0.00000   0.00000        17\n",
      "         136    0.10000   0.06250   0.07692        16\n",
      "         137    0.00000   0.00000   0.00000        16\n",
      "         138    0.07692   0.07692   0.07692        13\n",
      "         139    0.05000   0.06667   0.05714        15\n",
      "         140    0.00000   0.00000   0.00000        19\n",
      "         141    0.00000   0.00000   0.00000        11\n",
      "         142    0.05263   0.14286   0.07692         7\n",
      "         143    0.05556   0.11765   0.07547        17\n",
      "         144    0.10000   0.16667   0.12500        18\n",
      "         145    0.06250   0.09091   0.07407        11\n",
      "         146    0.14286   0.05556   0.08000        18\n",
      "         147    0.00000   0.00000   0.00000        16\n",
      "         148    0.00000   0.00000   0.00000        11\n",
      "         149    0.00000   0.00000   0.00000        16\n",
      "         150    0.00000   0.00000   0.00000        12\n",
      "         151    0.07692   0.05882   0.06667        17\n",
      "         152    0.00000   0.00000   0.00000        11\n",
      "         153    0.06667   0.06667   0.06667        15\n",
      "         154    0.00000   0.00000   0.00000        17\n",
      "         155    0.00000   0.00000   0.00000        14\n",
      "         156    0.00000   0.00000   0.00000        13\n",
      "         157    0.00000   0.00000   0.00000        10\n",
      "         158    0.00000   0.00000   0.00000        14\n",
      "         159    0.00000   0.00000   0.00000        13\n",
      "         160    0.03030   0.06250   0.04082        16\n",
      "         161    0.05263   0.04348   0.04762        23\n",
      "         162    0.00000   0.00000   0.00000        10\n",
      "         163    0.14286   0.25000   0.18182        16\n",
      "         164    0.00000   0.00000   0.00000        13\n",
      "         165    0.00000   0.00000   0.00000        13\n",
      "         166    0.00000   0.00000   0.00000        17\n",
      "         167    0.07143   0.05882   0.06452        17\n",
      "         168    0.00000   0.00000   0.00000        15\n",
      "         169    0.05556   0.11111   0.07407        18\n",
      "         170    0.00000   0.00000   0.00000        18\n",
      "         171    0.00000   0.00000   0.00000        15\n",
      "         172    0.00000   0.00000   0.00000        12\n",
      "         173    0.11111   0.05882   0.07692        17\n",
      "         174    0.00000   0.00000   0.00000        16\n",
      "         175    0.05263   0.06667   0.05882        15\n",
      "         176    0.00000   0.00000   0.00000        19\n",
      "         177    0.00000   0.00000   0.00000        12\n",
      "         178    0.00000   0.00000   0.00000        17\n",
      "         179    0.04348   0.05556   0.04878        18\n",
      "         180    0.00000   0.00000   0.00000        15\n",
      "         181    0.17857   0.33333   0.23256        15\n",
      "         182    0.00000   0.00000   0.00000        12\n",
      "         183    0.00000   0.00000   0.00000        18\n",
      "         184    0.00000   0.00000   0.00000        18\n",
      "         185    0.00000   0.00000   0.00000        17\n",
      "         186    0.06452   0.28571   0.10526         7\n",
      "         187    0.08333   0.05882   0.06897        17\n",
      "         188    0.00000   0.00000   0.00000        12\n",
      "         189    0.12500   0.07143   0.09091        14\n",
      "         190    0.00000   0.00000   0.00000        13\n",
      "         191    0.10000   0.15385   0.12121        13\n",
      "         192    0.00000   0.00000   0.00000        15\n",
      "         193    0.14286   0.22222   0.17391         9\n",
      "         194    0.00000   0.00000   0.00000        17\n",
      "         195    0.00000   0.00000   0.00000        19\n",
      "         196    0.50000   0.06667   0.11765        15\n",
      "         197    0.00000   0.00000   0.00000        20\n",
      "         198    0.00000   0.00000   0.00000        12\n",
      "         199    0.14286   0.06667   0.09091        15\n",
      "\n",
      "    accuracy                        0.04591      2897\n",
      "   macro avg    0.03993   0.04649   0.03901      2897\n",
      "weighted avg    0.04186   0.04591   0.04001      2897\n",
      "\n"
     ]
    }
   ],
   "source": [
    "metrics.lvl_wise_metric(true_label,pred_label)"
   ]
  },
  {
   "cell_type": "code",
   "execution_count": null,
   "metadata": {},
   "outputs": [],
   "source": []
  }
 ],
 "metadata": {
  "accelerator": "GPU",
  "colab": {
   "include_colab_link": true,
   "name": "CapsNet_MNIST.ipynb",
   "provenance": [],
   "toc_visible": true
  },
  "kernelspec": {
   "display_name": "Python 3 (ipykernel)",
   "language": "python",
   "name": "python3"
  },
  "language_info": {
   "codemirror_mode": {
    "name": "ipython",
    "version": 3
   },
   "file_extension": ".py",
   "mimetype": "text/x-python",
   "name": "python",
   "nbconvert_exporter": "python",
   "pygments_lexer": "ipython3",
   "version": "3.8.12"
  },
  "toc": {
   "base_numbering": 1,
   "nav_menu": {},
   "number_sections": true,
   "sideBar": true,
   "skip_h1_title": false,
   "title_cell": "Table of Contents",
   "title_sidebar": "Contents",
   "toc_cell": false,
   "toc_position": {
    "height": "calc(100% - 180px)",
    "left": "10px",
    "top": "150px",
    "width": "248px"
   },
   "toc_section_display": true,
   "toc_window_display": true
  }
 },
 "nbformat": 4,
 "nbformat_minor": 1
}
