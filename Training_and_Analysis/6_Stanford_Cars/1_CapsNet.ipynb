{
 "cells": [
  {
   "cell_type": "markdown",
   "metadata": {
    "colab_type": "text",
    "id": "FucnLdoEAJLH"
   },
   "source": [
    "***\n",
    "<font size=\"6\"><center><b> Caspsule Networks (CIFAR100_JUST FINE CLASS_BASED ON PAPER) </b></center></font>\n",
    "***"
   ]
  },
  {
   "cell_type": "markdown",
   "metadata": {
    "colab_type": "text",
    "id": "Ljz9avRzBxCt"
   },
   "source": [
    "# Import Necessary libraries"
   ]
  },
  {
   "cell_type": "code",
   "execution_count": 1,
   "metadata": {
    "colab": {},
    "colab_type": "code",
    "id": "h0hvCdT7Knae"
   },
   "outputs": [
    {
     "name": "stdout",
     "output_type": "stream",
     "text": [
      "DONE loading MixUp Data generator\n",
      "DONE loading MixUp Data generator\n"
     ]
    }
   ],
   "source": [
    "import tensorflow as tf\n",
    "from tensorflow import keras\n",
    "from tensorflow.keras.preprocessing.image import ImageDataGenerator\n",
    "from tensorflow.keras.models import Sequential\n",
    "from tensorflow.keras.layers import Dense, Activation, Flatten, Dropout, BatchNormalization\n",
    "from tensorflow.keras.layers import Conv2D, MaxPooling2D\n",
    "from tensorflow.keras import regularizers, optimizers\n",
    "from tensorflow.keras import backend as K\n",
    "\n",
    "import tensorflow_docs as tfdocs\n",
    "import tensorflow_docs.plots\n",
    "\n",
    "# Supporting Libraries:\n",
    "    #Mathplot lib for ploting graphs\n",
    "%matplotlib inline\n",
    "import matplotlib\n",
    "import matplotlib.pyplot as plt\n",
    "    # numpy and pandas\n",
    "import numpy as np\n",
    "import pandas as pd\n",
    "    #system\n",
    "import os\n",
    "import sys\n",
    "import csv\n",
    "    #import other libraries\n",
    "import math\n",
    "import random\n",
    "from datetime import datetime\n",
    "from treelib import Tree\n",
    "    # ML model, Dataset and evalution metrics\n",
    "sys.path.append('../../') ### adding system parth for src folder\n",
    "from src import datasets # load datasets\n",
    "from src import MixUp # load datasets\n",
    "from src import MixUp_add_loss # load datasets\n",
    "from src import metrics # load hierarchcial metrics\n",
    "from src import sysenv # load hierarchcial metrics\n",
    "from src import models # load machine learning models\n",
    "\n",
    "    ## Tensorflow_docs\n",
    "import tensorflow_docs as tfdocs\n",
    "import tensorflow_docs.plots\n",
    "\n",
    "    # Auto reload local libraries if updated\n",
    "%load_ext autoreload\n",
    "%autoreload 2"
   ]
  },
  {
   "cell_type": "code",
   "execution_count": 2,
   "metadata": {
    "colab": {
     "base_uri": "https://localhost:8080/",
     "height": 68
    },
    "colab_type": "code",
    "id": "QWv7UHO2CN_t",
    "outputId": "37c5c388-d2fa-4527-ba47-e58aa6ee4ba0"
   },
   "outputs": [
    {
     "name": "stdout",
     "output_type": "stream",
     "text": [
      "\u001b[91m\u001b[1m\n",
      "• Computer Name = \u001b[0mSARUMAN\u001b[91m\u001b[1m\n",
      "• Working Directory = \u001b[0mD:\\knoor\\Deep Learning with Python\\RunningOnServer\\GitHub Repo\\HDeep_CapsNet\\code\\training\\Stanford_Cars\u001b[91m\u001b[1m\n",
      "• Python Version = \u001b[0m3.8.12 (default, Oct 12 2021, 03:01:40) [MSC v.1916 64 bit (AMD64)]\u001b[91m\u001b[1m\n",
      "• TensorFlow Version = \u001b[0m2.8.0\u001b[91m\u001b[1m\n",
      "• Keras Version = \u001b[0m2.8.0\u001b[91m\u001b[1m\n",
      "• Current Environment = \u001b[0mAnaconda Environment Name : D:\\knoor\\AnacondaEnvironment\\py38tf28\n"
     ]
    }
   ],
   "source": [
    "systeminfo = sysenv.systeminfo()\n",
    "print(systeminfo)"
   ]
  },
  {
   "cell_type": "markdown",
   "metadata": {},
   "source": [
    "## For GPU growth (not required if GPU does not give any error)"
   ]
  },
  {
   "cell_type": "code",
   "execution_count": 3,
   "metadata": {},
   "outputs": [
    {
     "name": "stdout",
     "output_type": "stream",
     "text": [
      "Following GPUS are selected =  3\n",
      "Done: GPU PhysicalDevice(name='/physical_device:GPU:0', device_type='GPU')\n",
      "1 Physical GPUs, 1 Logical GPUs\n"
     ]
    }
   ],
   "source": [
    "gpus = \"0,1,2,3,4,5,6,7\" ## Selecting Available gpus (Multi-GPUS)\n",
    "gpus = \"3\" ## Selecting Available gpus (Single GPU)\n",
    "gpugrowth = sysenv.gpugrowth(gpus = gpus) ## Limiting GPUS from OS environment\n",
    "gpugrowth.memory_growth() #GPU memory growth"
   ]
  },
  {
   "cell_type": "markdown",
   "metadata": {
    "colab_type": "text",
    "id": "WCGpdY2KRDTR"
   },
   "source": [
    "# Import Dataset : Stanford Cars"
   ]
  },
  {
   "cell_type": "code",
   "execution_count": 4,
   "metadata": {},
   "outputs": [],
   "source": [
    "train_params = {\"n_epochs\" : 100,\n",
    "                \"batch_size\": 8,\n",
    "                \"lr\": 0.001, # Initial learning rate\n",
    "                \"lr_decay\": 0.95, # Learning rate decay\n",
    "                \"decay_exe\": 9, #learning rate decay execution epoch after\n",
    "               }"
   ]
  },
  {
   "cell_type": "code",
   "execution_count": 5,
   "metadata": {},
   "outputs": [],
   "source": [
    "training_dataset,  test_dataset, val_dataset, tree, info = datasets.Stanford_Cars(image_size=(64, 64), \n",
    "                                                                                  batch_size=train_params['batch_size'],\n",
    "                                                                                  data_aug = 'mixup',\n",
    "                                                                                  data_normalizing = None)"
   ]
  },
  {
   "cell_type": "code",
   "execution_count": 6,
   "metadata": {},
   "outputs": [],
   "source": [
    "for x,y in training_dataset.take(1):\n",
    "    image_shape = x.shape[1:]\n",
    "    coarse_label_shape = y[0].shape[1:]\n",
    "    medium_label_shape = y[1].shape[1:]\n",
    "    fine_label_shape = y[2].shape[1:]"
   ]
  },
  {
   "cell_type": "markdown",
   "metadata": {
    "colab_type": "text",
    "id": "jC18UnjMK57_"
   },
   "source": [
    "# CapsNet Layers"
   ]
  },
  {
   "cell_type": "code",
   "execution_count": 7,
   "metadata": {
    "colab": {},
    "colab_type": "code",
    "id": "lvoZxetHEMyH"
   },
   "outputs": [],
   "source": [
    "def squash(s, axis=-1, name=\"squash\"):\n",
    "    \"\"\"\n",
    "    non-linear squashing function to manupulate the length of the capsule vectors\n",
    "    \"\"\"\n",
    "    with tf.name_scope(name):\n",
    "        squared_norm = tf.reduce_sum(tf.square(s), axis=axis,\n",
    "                                         keepdims=True)\n",
    "        safe_norm = tf.sqrt(squared_norm + keras.backend.epsilon())\n",
    "        squash_factor = squared_norm / (1. + squared_norm)\n",
    "        unit_vector = s / safe_norm\n",
    "        return squash_factor * unit_vector"
   ]
  },
  {
   "cell_type": "code",
   "execution_count": 8,
   "metadata": {
    "colab": {},
    "colab_type": "code",
    "id": "BIo-mlQRGKTp"
   },
   "outputs": [],
   "source": [
    "def safe_norm(s, axis=-1, keepdims=False, name=\"safe_norm\"):\n",
    "    \"\"\"\n",
    "    Safe computation of vector 2-norm\n",
    "    \"\"\"\n",
    "    with tf.name_scope(name):\n",
    "        squared_norm = tf.reduce_sum(tf.square(s), axis=axis,\n",
    "                                 keepdims=keepdims)\n",
    "        return tf.sqrt(squared_norm + keras.backend.epsilon())    "
   ]
  },
  {
   "cell_type": "code",
   "execution_count": 9,
   "metadata": {
    "colab": {},
    "colab_type": "code",
    "id": "bcqsamGFLO6N"
   },
   "outputs": [],
   "source": [
    "class SecondaryCapsule(keras.layers.Layer):\n",
    "    \"\"\"\n",
    "    The digit capsule layer. \n",
    "    input shape = [None, input_num_capsule, input_dim_capsule] \n",
    "    output shape = [None, num_capsule, dim_capsule]\n",
    "    :param n_caps: number of capsules in this layer\n",
    "    :param n_dims: dimension of the output vectors of the capsules in this layer\n",
    "    \"\"\"\n",
    "    def __init__(self, n_caps, n_dims, routings=2, **kwargs):\n",
    "        super().__init__(**kwargs)\n",
    "        self.n_caps = n_caps\n",
    "        self.n_dims = n_dims\n",
    "        self.routings = routings\n",
    "    def build(self, batch_input_shape):\n",
    "        # transformation matrix\n",
    "        self.W = self.add_weight(\n",
    "            name=\"W\", \n",
    "            shape=(1, batch_input_shape[1], self.n_caps, self.n_dims, batch_input_shape[2]),\n",
    "            initializer=keras.initializers.RandomNormal(stddev=0.1))\n",
    "        super().build(batch_input_shape)\n",
    "    def call(self, X):\n",
    "        # predict output vector\n",
    "        batch_size = tf.shape(X)[0]\n",
    "        caps1_n_caps = tf.shape(X)[1] \n",
    "        W_tiled = tf.tile(self.W, [batch_size, 1, 1, 1, 1])\n",
    "        caps1_output_expanded = tf.expand_dims(X, -1, name=\"caps1_output_expanded\")\n",
    "        caps1_output_tile = tf.expand_dims(caps1_output_expanded, 2, name=\"caps1_output_tile\")\n",
    "        caps1_output_tiled = tf.tile(caps1_output_tile, [1, 1, self.n_caps, 1, 1], name=\"caps1_output_tiled\")\n",
    "        caps2_predicted = tf.matmul(W_tiled, caps1_output_tiled, name=\"caps2_predicted\")\n",
    "        \n",
    "        # rounting by agreement\n",
    "        # routing weights\n",
    "        raw_weights = tf.zeros([batch_size, caps1_n_caps, self.n_caps, 1, 1],\n",
    "                       dtype=np.float32, name=\"raw_weights\")\n",
    "        assert self.routings > 0, 'The routings should be > 0.'\n",
    "        for i in range(self.routings):\n",
    "            routing_weights = tf.nn.softmax(raw_weights, axis=2, name=\"routing_weights\")\n",
    "            weighted_predictions = tf.multiply(routing_weights, caps2_predicted, name=\"weighted_predictions\")\n",
    "            weighted_sum = tf.reduce_sum(weighted_predictions, axis=1, keepdims=True, name=\"weighted_sum\")\n",
    "            caps2_output_round_1 = squash(weighted_sum, axis=-2, name=\"caps2_output_round_\")\n",
    "            caps2_output_squeezed = tf.squeeze(caps2_output_round_1, axis=[1,4], name=\"caps2_output_squeezed\")\n",
    "            if i < self.routings - 1:\n",
    "                caps2_output_round_1_tiled = tf.tile(\n",
    "                                        caps2_output_round_1, [1, caps1_n_caps, 1, 1, 1],\n",
    "                                        name=\"caps2_output_tiled_round_\")\n",
    "                agreement = tf.matmul(caps2_predicted, caps2_output_round_1_tiled,\n",
    "                      transpose_a=True, name=\"agreement\")\n",
    "                raw_weights_round_2 = tf.add(raw_weights, agreement,\n",
    "                             name=\"raw_weights_round_\")\n",
    "                raw_weights = raw_weights_round_2\n",
    "        return caps2_output_squeezed\n",
    "    def compute_output_shape(self, batch_input_shape):\n",
    "        return (batch_input_shape[0], self.n_caps, self.n_dims)\n",
    "    def get_config(self): ### custom layers to be serializable as part of a Functional model\n",
    "        base_config = super().get_config()\n",
    "        return {**base_config, \n",
    "                \"n_caps\": self.n_caps, \n",
    "                \"n_dims\": self.n_dims,\n",
    "                \"routings\": self.routings}"
   ]
  },
  {
   "cell_type": "code",
   "execution_count": 10,
   "metadata": {
    "colab": {},
    "colab_type": "code",
    "id": "JHrqvUQ8MLRV"
   },
   "outputs": [],
   "source": [
    "class LengthLayer(keras.layers.Layer):\n",
    "    \"\"\"\n",
    "    Compute the length of capsule vectors.\n",
    "    inputs: shape=[None, num_capsule, dim_vector]\n",
    "    output: shape=[None, num_capsule]\n",
    "    \"\"\"\n",
    "    def call(self, X):\n",
    "        y_proba = safe_norm(X, axis=-1, name=\"y_proba\")\n",
    "        return y_proba\n",
    "    def compute_output_shape(self, batch_input_shape): # in case the layer modifies the shape of its input, \n",
    "                                                        #you should specify here the shape transformation logic.\n",
    "                                                        #This allows Keras to do automatic shape inference.\n",
    "        return (batch_input_shape[0], batch_input_shape[1])"
   ]
  },
  {
   "cell_type": "markdown",
   "metadata": {
    "colab_type": "text",
    "id": "6TfyrAFiMM5x"
   },
   "source": [
    "We add a decoder network for regularization. The **Mask Layer** mask out all but the activity vector of the correct digit capsule during training. The output of the Mask Layer is the input of the decoder network."
   ]
  },
  {
   "cell_type": "code",
   "execution_count": 11,
   "metadata": {
    "colab": {},
    "colab_type": "code",
    "id": "1p8ylhB6M_6V"
   },
   "outputs": [],
   "source": [
    "class Mask(keras.layers.Layer):\n",
    "    \"\"\"\n",
    "    Mask a Tensor with the label during training \n",
    "    and mask a Tensor with predicted lable during test/inference\n",
    "    input shapes\n",
    "      X shape = [None, num_capsule, dim_vector] \n",
    "      y_true shape = [None, num_capsule] \n",
    "      y_pred shape = [None, num_capsule]\n",
    "    output shape = [None, num_capsule * dim_vector]\n",
    "    \"\"\"\n",
    "    def build(self, batch_input_shape):\n",
    "        self.n_caps = batch_input_shape[0][1]\n",
    "        self.n_dims = batch_input_shape[0][2]\n",
    "        super().build(batch_input_shape)\n",
    "    def call(self, input, training=None):\n",
    "        X, y_true, y_proba = input\n",
    "        if training:\n",
    "            reconstruction_mask = y_true\n",
    "        else:\n",
    "            y_proba_argmax = tf.math.argmax(y_proba, axis=1, name=\"y_proba\")\n",
    "            y_pred = tf.one_hot(y_proba_argmax, depth=self.n_caps, name=\"y_pred\")\n",
    "            reconstruction_mask = y_pred\n",
    "        reconstruction_mask_reshaped = tf.reshape(\n",
    "                                      reconstruction_mask, [-1, self.n_caps, 1],\n",
    "                                      name=\"reconstruction_mask_reshaped\")\n",
    "        caps2_output_masked = tf.multiply(\n",
    "                            X, reconstruction_mask_reshaped,\n",
    "                            name=\"caps2_output_masked\")\n",
    "        decoder_input = tf.reshape(caps2_output_masked,\n",
    "                        [-1, self.n_caps * self.n_dims],\n",
    "                        name=\"decoder_input\")\n",
    "        return decoder_input\n",
    "\n",
    "    def compute_output_shape(self, input_shape):\n",
    "        return (None, input_shape[0][1] * input_shape[0][2])"
   ]
  },
  {
   "cell_type": "markdown",
   "metadata": {
    "colab_type": "text",
    "id": "JkXeoUpsOS0q"
   },
   "source": [
    "**Margin Loss** as defined in equation 4:\n",
    "\n",
    "$ L_k = T_k \\textrm{max}(0, m^+ - \\left \\|vk\\right \\|)^2 + \\lambda (1 - T_k) \\textrm{max}(0, \\left \\|v_k\\right \\| - m^-)^2$"
   ]
  },
  {
   "cell_type": "code",
   "execution_count": 12,
   "metadata": {
    "colab": {},
    "colab_type": "code",
    "id": "rQpk77Q-ORaL"
   },
   "outputs": [],
   "source": [
    "class MarginLoss(keras.losses.Loss):\n",
    "    \"\"\"\n",
    "    Compute margin loss.\n",
    "    y_true shape [None, n_classes] \n",
    "    y_pred shape [None, num_capsule] = [None, n_classes]\n",
    "    \"\"\"\n",
    "    def __init__(self, m_plus=0.9, m_minus=0.1, lambda_=0.5, **kwargs):\n",
    "        self.m_plus = m_plus\n",
    "        self.m_minus = m_minus\n",
    "        self.lambda_ = lambda_\n",
    "        super().__init__(**kwargs)\n",
    "        \n",
    "    def call(self, y_true, y_proba):\n",
    "        present_error_raw = tf.square(tf.maximum(0., self.m_plus - y_proba), name=\"present_error_raw\")\n",
    "        absent_error_raw = tf.square(tf.maximum(0., y_proba - self.m_minus), name=\"absent_error_raw\")\n",
    "        L = tf.add(y_true * present_error_raw, self.lambda_ * (1.0 - y_true) * absent_error_raw,\n",
    "           name=\"L\")\n",
    "        total_marginloss = tf.reduce_mean(tf.reduce_sum(L, axis=1), name=\"margin_loss\")\n",
    "        return total_marginloss\n",
    "    \n",
    "    def get_config(self): ### custom layers to be serializable as part of a Functional model\n",
    "        base_config = super().get_config()\n",
    "        return {**base_config, \n",
    "                \"m_plus\": self.m_plus,\n",
    "                \"m_minus\": self.m_minus,\n",
    "                \"lambda_\": self.lambda_}"
   ]
  },
  {
   "cell_type": "markdown",
   "metadata": {
    "colab_type": "text",
    "id": "rbAaMvu-LE4M"
   },
   "source": [
    "# Build the CapsNet architecture"
   ]
  },
  {
   "cell_type": "markdown",
   "metadata": {
    "colab_type": "text",
    "id": "rbAaMvu-LE4M"
   },
   "source": [
    "## - Configuation parameters"
   ]
  },
  {
   "cell_type": "code",
   "execution_count": 13,
   "metadata": {
    "colab": {},
    "colab_type": "code",
    "id": "0HvL_KvlQEbh"
   },
   "outputs": [],
   "source": [
    "caps1_n_maps = 64\n",
    "caps1_n_caps = caps1_n_maps * 7 * 7\n",
    "caps1_n_dims = 8\n",
    "conv1_params = {\n",
    "    \"filters\": 256,\n",
    "    \"kernel_size\": 9,\n",
    "    \"strides\": 2,\n",
    "    \"padding\": \"valid\",\n",
    "    \"activation\": tf.nn.relu,\n",
    "}\n",
    "conv2_params = {\n",
    "    \"filters\": caps1_n_maps * caps1_n_dims,\n",
    "    \"kernel_size\": 9,\n",
    "    \"strides\": 3,\n",
    "    \"padding\": \"valid\",\n",
    "    \"activation\": tf.nn.relu\n",
    "}\n",
    "n_class_fine=info['Num_Fine']\n",
    "caps2_n_caps_fine = n_class_fine\n",
    "caps2_n_dims = 16\n",
    "\n",
    "n_hidden1 = 512\n",
    "n_hidden2 = 1024\n",
    "n_output = 30 * 30"
   ]
  },
  {
   "cell_type": "markdown",
   "metadata": {
    "colab_type": "text",
    "id": "SK4UrYq_QbmQ"
   },
   "source": [
    "## Connect layers"
   ]
  },
  {
   "cell_type": "code",
   "execution_count": 14,
   "metadata": {
    "colab": {
     "base_uri": "https://localhost:8080/",
     "height": 547
    },
    "colab_type": "code",
    "id": "pnbWy9xtQY1s",
    "outputId": "cd50b71b-275a-4983-8c73-238ef6734e0a",
    "scrolled": true
   },
   "outputs": [],
   "source": [
    "# clear session\n",
    "tf.keras.backend.clear_session()\n",
    "\n",
    "def get_compiled_model():\n",
    "    \n",
    "    # Input image\n",
    "    x_input = keras.layers.Input(shape=image_shape, name=\"Input_Image\")\n",
    "\n",
    "    # Layer 1 and 2: Two conventional Conv2D layer\n",
    "    # input [batch_size, 28, 28, 1], output [batch_size, 6, 6, 256]\n",
    "    conv1 = keras.layers.Conv2D(name='conv1', **conv1_params)(x_input)\n",
    "    conv2 = keras.layers.Conv2D(name='conv2', **conv2_params)(conv1)\n",
    "\n",
    "    # Layer 3: Reshape to 8D primary capsules \n",
    "    # input [batch_size, 6, 6, 256], output [batch_size, 1152, 8]\n",
    "    reshape1 = keras.layers.Reshape((caps1_n_caps, caps1_n_dims), name=\"reshape_layer\")(conv2)\n",
    "\n",
    "    # Layer 3: Squash to normalize length of each primary capsule vector\n",
    "    # input [batch_size, 1152, 8], output [batch_size, 1152, 8]\n",
    "    squash1 = keras.layers.Lambda(squash, name='squash_layer')(reshape1)\n",
    "\n",
    "    # Layer 4.1: Digit capsule layer with routing by agreement\n",
    "    # input [batch_size, 1152, 8], output [batch_size, 10, 16]\n",
    "    digitcaps_fine = SecondaryCapsule(n_caps=caps2_n_caps_fine, n_dims=caps2_n_dims, \n",
    "                        name=\"Digit_Caps_fine\")(squash1)\n",
    "\n",
    "    # Layer 5.1: Compute the length of each capsule vector\n",
    "    # input [batch_size, 10, 16], output [batch_size, 10]\n",
    "    fine_pred_layer = LengthLayer(name='Fine_prediction_output_layer')(digitcaps_fine)\n",
    "\n",
    "\n",
    "    # Decoder network.\n",
    "    n_hidden1 = 512\n",
    "    n_hidden2 = 1024\n",
    "    n_output = np.prod(image_shape) # 28 * 28\n",
    "\n",
    "    fine_input = keras.Input(shape=(n_class_fine,), name=\"fine_image_label\")\n",
    "\n",
    "    # Mask layer\n",
    "    # input [batch_size, 10], output [batch_size, 160]\n",
    "\n",
    "    decoder_input_fine = Mask(name='Mask_input_fine')([digitcaps_fine, fine_input, fine_pred_layer]) \n",
    "\n",
    "    # Decoder_fine\n",
    "    # input [batch_size, 160], output [batch_size, 28, 28, 1]\n",
    "    decoder_fine = keras.models.Sequential(name='Decoder_fine')\n",
    "    decoder_fine.add(keras.layers.Dense(n_hidden1, activation='relu', input_dim=caps2_n_dims*n_class_fine))\n",
    "    decoder_fine.add(keras.layers.Dense(n_hidden2, activation='relu'))\n",
    "    decoder_fine.add(keras.layers.Dense(n_output, activation='sigmoid'))\n",
    "    decoder_fine.add(keras.layers.Reshape(target_shape=image_shape, name='recon_output_layer_fine'))\n",
    "\n",
    "    fine_decoder= decoder_fine(decoder_input_fine)\n",
    "\n",
    "    # Capsnet model\n",
    "    model = keras.Model(\n",
    "        inputs= [x_input, fine_input],\n",
    "        outputs= [fine_pred_layer, fine_decoder],\n",
    "        name='capsnet_tf2.X')\n",
    "    \n",
    "    model.compile(\n",
    "        optimizer='adam',\n",
    "        loss=[MarginLoss(),\n",
    "              MarginLoss(),\n",
    "              'mse'\n",
    "             ],\n",
    "        loss_weights=[0.9995, 0.0005],\n",
    "        metrics={'Fine_prediction_output_layer': 'accuracy'\n",
    "                }\n",
    "    )\n",
    "    return model"
   ]
  },
  {
   "cell_type": "markdown",
   "metadata": {},
   "source": [
    "<font color='red'><h2 align=\"center\"> **GPU Selection** </h2></font>"
   ]
  },
  {
   "cell_type": "code",
   "execution_count": 15,
   "metadata": {},
   "outputs": [],
   "source": [
    "#Single GPU\n",
    "model = get_compiled_model()"
   ]
  },
  {
   "cell_type": "raw",
   "metadata": {},
   "source": [
    "#Multiple GPU ------ LINUX\n",
    "strategy = tf.distribute.MirroredStrategy()\n",
    "print(\"Number of devices: {}\".format(strategy.num_replicas_in_sync))\n",
    "\n",
    "# Open a strategy scope.\n",
    "with strategy.scope():\n",
    "    # Everything that creates variables should be under the strategy scope.\n",
    "    # In general this is only model construction & `compile()`.\n",
    "    model = get_compiled_model()"
   ]
  },
  {
   "cell_type": "raw",
   "metadata": {},
   "source": [
    "#Multiple GPU ------ Windows\n",
    "strategy = tf.distribute.MirroredStrategy(devices=[\"/gpu:0\",\n",
    "                                                   \"/gpu:1\",\n",
    "                                                   \"/gpu:2\",\n",
    "                                                   \"/gpu:3\",\n",
    "                                                   \"/gpu:4\",\n",
    "                                                   \"/gpu:5\",], \n",
    "                                          cross_device_ops=tf.distribute.HierarchicalCopyAllReduce())\n",
    "\n",
    "print(\"Number of devices: {}\".format(strategy.num_replicas_in_sync))\n",
    "\n",
    "# Open a strategy scope.\n",
    "with strategy.scope():\n",
    "    # Everything that creates variables should be under the strategy scope.\n",
    "    # In general this is only model construction & `compile()`.\n",
    "    model = get_compiled_model()"
   ]
  },
  {
   "cell_type": "markdown",
   "metadata": {},
   "source": [
    "# Model Summary"
   ]
  },
  {
   "cell_type": "code",
   "execution_count": 16,
   "metadata": {},
   "outputs": [
    {
     "name": "stdout",
     "output_type": "stream",
     "text": [
      "Model: \"capsnet_tf2.X\"\n",
      "__________________________________________________________________________________________________\n",
      " Layer (type)                   Output Shape         Param #     Connected to                     \n",
      "==================================================================================================\n",
      " Input_Image (InputLayer)       [(None, 64, 64, 3)]  0           []                               \n",
      "                                                                                                  \n",
      " conv1 (Conv2D)                 (None, 28, 28, 256)  62464       ['Input_Image[0][0]']            \n",
      "                                                                                                  \n",
      " conv2 (Conv2D)                 (None, 7, 7, 512)    10617344    ['conv1[0][0]']                  \n",
      "                                                                                                  \n",
      " reshape_layer (Reshape)        (None, 3136, 8)      0           ['conv2[0][0]']                  \n",
      "                                                                                                  \n",
      " squash_layer (Lambda)          (None, 3136, 8)      0           ['reshape_layer[0][0]']          \n",
      "                                                                                                  \n",
      " Digit_Caps_fine (SecondaryCaps  (None, 196, 16)     78675968    ['squash_layer[0][0]']           \n",
      " ule)                                                                                             \n",
      "                                                                                                  \n",
      " Fine_prediction_output_layer (  (None, 196)         0           ['Digit_Caps_fine[0][0]']        \n",
      " LengthLayer)                                                                                     \n",
      "                                                                                                  \n",
      " fine_image_label (InputLayer)  [(None, 196)]        0           []                               \n",
      "                                                                                                  \n",
      " Mask_input_fine (Mask)         (None, 3136)         0           ['Digit_Caps_fine[0][0]',        \n",
      "                                                                  'fine_image_label[0][0]',       \n",
      "                                                                  'Fine_prediction_output_layer[0]\n",
      "                                                                 [0]']                            \n",
      "                                                                                                  \n",
      " Decoder_fine (Sequential)      (None, 64, 64, 3)    14726656    ['Mask_input_fine[0][0]']        \n",
      "                                                                                                  \n",
      "==================================================================================================\n",
      "Total params: 104,082,432\n",
      "Trainable params: 104,082,432\n",
      "Non-trainable params: 0\n",
      "__________________________________________________________________________________________________\n"
     ]
    }
   ],
   "source": [
    "model.summary()"
   ]
  },
  {
   "cell_type": "markdown",
   "metadata": {},
   "source": [
    "## Log Directory"
   ]
  },
  {
   "cell_type": "code",
   "execution_count": 17,
   "metadata": {},
   "outputs": [
    {
     "name": "stdout",
     "output_type": "stream",
     "text": [
      "FOLDER CREATED =  ./logs/CapsNet/Flat_Classification\n"
     ]
    }
   ],
   "source": [
    "directory = sysenv.log_dir('CapsNet/Flat_Classification')"
   ]
  },
  {
   "cell_type": "code",
   "execution_count": 18,
   "metadata": {
    "scrolled": true
   },
   "outputs": [
    {
     "data": {
      "image/png": "[encoded data removed]",
      "text/plain": [
       "<IPython.core.display.Image object>"
      ]
     },
     "execution_count": 18,
     "metadata": {},
     "output_type": "execute_result"
    }
   ],
   "source": [
    "keras.utils.plot_model(model, to_file = directory+\"/Architecture.png\", show_shapes=True)"
   ]
  },
  {
   "cell_type": "markdown",
   "metadata": {
    "colab_type": "text",
    "id": "6zf2V-ClRTpe"
   },
   "source": [
    "<font color='red'><h2 align=\"center\"> **Training Parameters** </h2></font>"
   ]
  },
  {
   "cell_type": "markdown",
   "metadata": {
    "colab_type": "text",
    "id": "fhSuy8JNR3L6"
   },
   "source": [
    "## Callbacks"
   ]
  },
  {
   "cell_type": "code",
   "execution_count": 19,
   "metadata": {
    "colab": {},
    "colab_type": "code",
    "id": "E1f1j-RPRzbj"
   },
   "outputs": [],
   "source": [
    "tb = keras.callbacks.TensorBoard(directory+'./tb_logs'+ datetime.now().strftime(\"%Y%m%d-%H%M%S\"))\n",
    "\n",
    "log = keras.callbacks.CSVLogger(directory+'/log.csv', append=True)\n",
    "\n",
    "checkpoint = keras.callbacks.ModelCheckpoint(\n",
    "    directory+'/weights-{epoch:02d}.h5',  \n",
    "    monitor='val_loss',\n",
    "    save_best_only=True, save_weights_only=True, verbose=1)\n",
    "\n",
    "lr_decay = keras.callbacks.LearningRateScheduler(\n",
    "    schedule=lambda epoch: train_params[\"lr\"] * (train_params[\"lr_decay\"] ** epoch))"
   ]
  },
  {
   "cell_type": "markdown",
   "metadata": {
    "colab_type": "text",
    "id": "ddvlIAnLR_N1"
   },
   "source": [
    "# Run training"
   ]
  },
  {
   "cell_type": "markdown",
   "metadata": {},
   "source": [
    "## Training Pipeline Alignment"
   ]
  },
  {
   "cell_type": "code",
   "execution_count": 20,
   "metadata": {},
   "outputs": [],
   "source": [
    "#### Matching the pipeling with model inputs\n",
    "def pipeline_multi_input_output(image, label):\n",
    "    label_0 = label[0]\n",
    "    label_1 = label[1]\n",
    "    label_2 = label[2]\n",
    "    return (image, label_2), (label_2,image)\n",
    "### matchin X,Y with model input\n",
    "training_dataset_match = training_dataset.map(pipeline_multi_input_output) ## Mixup dataset\n",
    "val_dataset_match = val_dataset.map(pipeline_multi_input_output) ## Val Dataset\n",
    "test_dataset_match = test_dataset.map(pipeline_multi_input_output) ## test Dataset\n"
   ]
  },
  {
   "cell_type": "code",
   "execution_count": 21,
   "metadata": {},
   "outputs": [
    {
     "data": {
      "image/png": "[encoded data removed]",
      "text/plain": [
       "<Figure size 432x288 with 1 Axes>"
      ]
     },
     "metadata": {
      "needs_background": "light"
     },
     "output_type": "display_data"
    },
    {
     "name": "stdout",
     "output_type": "stream",
     "text": [
      "tf.Tensor(\n",
      "[0.         0.         0.         0.         0.         0.\n",
      " 0.         0.         0.         0.         0.         0.\n",
      " 0.         0.         0.         0.         0.         0.\n",
      " 0.         0.         0.         0.         0.         0.\n",
      " 0.         0.         0.         0.         0.         0.\n",
      " 0.         0.         0.         0.         0.         0.\n",
      " 0.         0.         0.         0.         0.         0.\n",
      " 0.         0.         0.         0.         0.         0.\n",
      " 0.         0.         0.         0.         0.         0.\n",
      " 0.         0.         0.         0.         0.         0.\n",
      " 0.         0.         0.         0.         0.         0.\n",
      " 0.         0.         0.         0.         0.         0.\n",
      " 0.         0.         0.         0.         0.         0.\n",
      " 0.         0.         0.         0.         0.         0.\n",
      " 0.         0.         0.         0.         0.         0.\n",
      " 0.         0.         0.         0.         0.         0.\n",
      " 0.         0.         0.         0.26300752 0.         0.\n",
      " 0.         0.         0.         0.         0.         0.\n",
      " 0.         0.         0.         0.         0.         0.\n",
      " 0.         0.         0.         0.         0.         0.\n",
      " 0.         0.         0.         0.         0.         0.\n",
      " 0.         0.         0.         0.         0.         0.\n",
      " 0.         0.         0.         0.         0.         0.\n",
      " 0.         0.         0.         0.         0.         0.\n",
      " 0.         0.         0.         0.         0.         0.\n",
      " 0.         0.         0.         0.         0.         0.\n",
      " 0.         0.         0.         0.         0.         0.\n",
      " 0.         0.         0.         0.         0.         0.\n",
      " 0.         0.         0.         0.         0.         0.\n",
      " 0.         0.         0.         0.7369925  0.         0.\n",
      " 0.         0.         0.         0.         0.         0.\n",
      " 0.         0.         0.         0.         0.         0.\n",
      " 0.         0.         0.         0.        ], shape=(196,), dtype=float32)\n"
     ]
    },
    {
     "data": {
      "image/png": "[encoded data removed]",
      "text/plain": [
       "<Figure size 432x288 with 1 Axes>"
      ]
     },
     "metadata": {
      "needs_background": "light"
     },
     "output_type": "display_data"
    },
    {
     "name": "stdout",
     "output_type": "stream",
     "text": [
      "tf.Tensor(\n",
      "[0.0000000e+00 0.0000000e+00 0.0000000e+00 0.0000000e+00 0.0000000e+00\n",
      " 0.0000000e+00 0.0000000e+00 0.0000000e+00 0.0000000e+00 0.0000000e+00\n",
      " 0.0000000e+00 0.0000000e+00 0.0000000e+00 0.0000000e+00 0.0000000e+00\n",
      " 0.0000000e+00 0.0000000e+00 0.0000000e+00 0.0000000e+00 0.0000000e+00\n",
      " 0.0000000e+00 0.0000000e+00 0.0000000e+00 0.0000000e+00 0.0000000e+00\n",
      " 0.0000000e+00 0.0000000e+00 0.0000000e+00 0.0000000e+00 3.2621008e-06\n",
      " 0.0000000e+00 0.0000000e+00 0.0000000e+00 0.0000000e+00 0.0000000e+00\n",
      " 0.0000000e+00 0.0000000e+00 0.0000000e+00 0.0000000e+00 0.0000000e+00\n",
      " 0.0000000e+00 0.0000000e+00 0.0000000e+00 0.0000000e+00 0.0000000e+00\n",
      " 0.0000000e+00 0.0000000e+00 0.0000000e+00 0.0000000e+00 0.0000000e+00\n",
      " 0.0000000e+00 0.0000000e+00 0.0000000e+00 0.0000000e+00 0.0000000e+00\n",
      " 0.0000000e+00 0.0000000e+00 0.0000000e+00 0.0000000e+00 0.0000000e+00\n",
      " 0.0000000e+00 0.0000000e+00 0.0000000e+00 0.0000000e+00 0.0000000e+00\n",
      " 0.0000000e+00 0.0000000e+00 0.0000000e+00 0.0000000e+00 0.0000000e+00\n",
      " 0.0000000e+00 0.0000000e+00 0.0000000e+00 0.0000000e+00 0.0000000e+00\n",
      " 0.0000000e+00 0.0000000e+00 0.0000000e+00 0.0000000e+00 0.0000000e+00\n",
      " 0.0000000e+00 0.0000000e+00 0.0000000e+00 0.0000000e+00 0.0000000e+00\n",
      " 0.0000000e+00 0.0000000e+00 0.0000000e+00 0.0000000e+00 0.0000000e+00\n",
      " 0.0000000e+00 0.0000000e+00 0.0000000e+00 0.0000000e+00 0.0000000e+00\n",
      " 0.0000000e+00 0.0000000e+00 0.0000000e+00 0.0000000e+00 0.0000000e+00\n",
      " 0.0000000e+00 0.0000000e+00 0.0000000e+00 0.0000000e+00 0.0000000e+00\n",
      " 0.0000000e+00 0.0000000e+00 0.0000000e+00 0.0000000e+00 0.0000000e+00\n",
      " 0.0000000e+00 0.0000000e+00 0.0000000e+00 0.0000000e+00 0.0000000e+00\n",
      " 0.0000000e+00 0.0000000e+00 0.0000000e+00 0.0000000e+00 0.0000000e+00\n",
      " 0.0000000e+00 0.0000000e+00 0.0000000e+00 0.0000000e+00 0.0000000e+00\n",
      " 0.0000000e+00 0.0000000e+00 0.0000000e+00 0.0000000e+00 0.0000000e+00\n",
      " 0.0000000e+00 0.0000000e+00 0.0000000e+00 0.0000000e+00 0.0000000e+00\n",
      " 0.0000000e+00 0.0000000e+00 0.0000000e+00 0.0000000e+00 0.0000000e+00\n",
      " 0.0000000e+00 0.0000000e+00 0.0000000e+00 0.0000000e+00 0.0000000e+00\n",
      " 0.0000000e+00 0.0000000e+00 0.0000000e+00 0.0000000e+00 0.0000000e+00\n",
      " 0.0000000e+00 0.0000000e+00 0.0000000e+00 0.0000000e+00 0.0000000e+00\n",
      " 0.0000000e+00 0.0000000e+00 0.0000000e+00 0.0000000e+00 0.0000000e+00\n",
      " 0.0000000e+00 0.0000000e+00 0.0000000e+00 0.0000000e+00 0.0000000e+00\n",
      " 0.0000000e+00 0.0000000e+00 0.0000000e+00 0.0000000e+00 0.0000000e+00\n",
      " 0.0000000e+00 0.0000000e+00 0.0000000e+00 0.0000000e+00 0.0000000e+00\n",
      " 0.0000000e+00 0.0000000e+00 0.0000000e+00 0.0000000e+00 0.0000000e+00\n",
      " 9.9999672e-01 0.0000000e+00 0.0000000e+00 0.0000000e+00 0.0000000e+00\n",
      " 0.0000000e+00 0.0000000e+00 0.0000000e+00 0.0000000e+00 0.0000000e+00\n",
      " 0.0000000e+00 0.0000000e+00 0.0000000e+00 0.0000000e+00 0.0000000e+00\n",
      " 0.0000000e+00], shape=(196,), dtype=float32)\n"
     ]
    },
    {
     "data": {
      "image/png": "[encoded data removed]",
      "text/plain": [
       "<Figure size 432x288 with 1 Axes>"
      ]
     },
     "metadata": {
      "needs_background": "light"
     },
     "output_type": "display_data"
    },
    {
     "name": "stdout",
     "output_type": "stream",
     "text": [
      "tf.Tensor(\n",
      "[0.         0.         0.         0.         0.         0.\n",
      " 0.         0.         0.         0.         0.         0.\n",
      " 0.         0.         0.         0.         0.         0.\n",
      " 0.         0.         0.         0.         0.         0.\n",
      " 0.         0.         0.         0.         0.         0.\n",
      " 0.         0.         0.         0.         0.         0.\n",
      " 0.         0.         0.         0.         0.         0.\n",
      " 0.         0.         0.         0.         0.         0.\n",
      " 0.         0.         0.         0.         0.         0.\n",
      " 0.         0.         0.         0.         0.         0.\n",
      " 0.         0.         0.         0.         0.         0.\n",
      " 0.         0.         0.         0.         0.         0.\n",
      " 0.         0.         0.         0.         0.         0.\n",
      " 0.         0.         0.         0.         0.         0.\n",
      " 0.         0.         0.         0.         0.         0.\n",
      " 0.         0.         0.         0.         0.         0.\n",
      " 0.         0.         0.         0.         0.         0.\n",
      " 0.         0.         0.         0.         0.         0.\n",
      " 0.         0.         0.         0.         0.         0.\n",
      " 0.         0.         0.         0.         0.         0.\n",
      " 0.         0.         0.         0.         0.         0.\n",
      " 0.         0.         0.         0.         0.         0.\n",
      " 0.         0.         0.         0.         0.         0.\n",
      " 0.         0.         0.         0.         0.         0.\n",
      " 0.         0.         0.         0.         0.         0.\n",
      " 0.         0.         0.         0.         0.         0.\n",
      " 0.         0.         0.         0.         0.         0.\n",
      " 0.         0.         0.         0.         0.         0.\n",
      " 0.         0.         0.         0.         0.         0.\n",
      " 0.         0.         0.         0.         0.         0.\n",
      " 0.         0.         0.         0.         0.         0.\n",
      " 0.         0.         0.         0.         0.         0.00185972\n",
      " 0.         0.         0.         0.9981403 ], shape=(196,), dtype=float32)\n"
     ]
    },
    {
     "data": {
      "image/png": "[encoded data removed]",
      "text/plain": [
       "<Figure size 432x288 with 1 Axes>"
      ]
     },
     "metadata": {
      "needs_background": "light"
     },
     "output_type": "display_data"
    },
    {
     "name": "stdout",
     "output_type": "stream",
     "text": [
      "tf.Tensor(\n",
      "[0.         0.         0.         0.         0.         0.\n",
      " 0.         0.         0.         0.         0.         0.\n",
      " 0.         0.         0.         0.         0.         0.\n",
      " 0.         0.         0.         0.         0.         0.\n",
      " 0.         0.         0.         0.         0.         0.\n",
      " 0.         0.         0.         0.         0.         0.\n",
      " 0.         0.20921026 0.         0.         0.         0.\n",
      " 0.         0.         0.         0.         0.         0.\n",
      " 0.         0.         0.         0.         0.         0.\n",
      " 0.         0.         0.         0.         0.         0.\n",
      " 0.         0.7907897  0.         0.         0.         0.\n",
      " 0.         0.         0.         0.         0.         0.\n",
      " 0.         0.         0.         0.         0.         0.\n",
      " 0.         0.         0.         0.         0.         0.\n",
      " 0.         0.         0.         0.         0.         0.\n",
      " 0.         0.         0.         0.         0.         0.\n",
      " 0.         0.         0.         0.         0.         0.\n",
      " 0.         0.         0.         0.         0.         0.\n",
      " 0.         0.         0.         0.         0.         0.\n",
      " 0.         0.         0.         0.         0.         0.\n",
      " 0.         0.         0.         0.         0.         0.\n",
      " 0.         0.         0.         0.         0.         0.\n",
      " 0.         0.         0.         0.         0.         0.\n",
      " 0.         0.         0.         0.         0.         0.\n",
      " 0.         0.         0.         0.         0.         0.\n",
      " 0.         0.         0.         0.         0.         0.\n",
      " 0.         0.         0.         0.         0.         0.\n",
      " 0.         0.         0.         0.         0.         0.\n",
      " 0.         0.         0.         0.         0.         0.\n",
      " 0.         0.         0.         0.         0.         0.\n",
      " 0.         0.         0.         0.         0.         0.\n",
      " 0.         0.         0.         0.         0.         0.\n",
      " 0.         0.         0.         0.        ], shape=(196,), dtype=float32)\n"
     ]
    },
    {
     "data": {
      "image/png": "[encoded data removed]",
      "text/plain": [
       "<Figure size 432x288 with 1 Axes>"
      ]
     },
     "metadata": {
      "needs_background": "light"
     },
     "output_type": "display_data"
    },
    {
     "name": "stdout",
     "output_type": "stream",
     "text": [
      "tf.Tensor(\n",
      "[0.         0.         0.         0.         0.         0.\n",
      " 0.         0.         0.         0.         0.         0.\n",
      " 0.         0.         0.01430231 0.         0.         0.\n",
      " 0.         0.         0.         0.         0.         0.\n",
      " 0.         0.         0.         0.         0.         0.\n",
      " 0.         0.         0.         0.         0.         0.\n",
      " 0.         0.         0.9856977  0.         0.         0.\n",
      " 0.         0.         0.         0.         0.         0.\n",
      " 0.         0.         0.         0.         0.         0.\n",
      " 0.         0.         0.         0.         0.         0.\n",
      " 0.         0.         0.         0.         0.         0.\n",
      " 0.         0.         0.         0.         0.         0.\n",
      " 0.         0.         0.         0.         0.         0.\n",
      " 0.         0.         0.         0.         0.         0.\n",
      " 0.         0.         0.         0.         0.         0.\n",
      " 0.         0.         0.         0.         0.         0.\n",
      " 0.         0.         0.         0.         0.         0.\n",
      " 0.         0.         0.         0.         0.         0.\n",
      " 0.         0.         0.         0.         0.         0.\n",
      " 0.         0.         0.         0.         0.         0.\n",
      " 0.         0.         0.         0.         0.         0.\n",
      " 0.         0.         0.         0.         0.         0.\n",
      " 0.         0.         0.         0.         0.         0.\n",
      " 0.         0.         0.         0.         0.         0.\n",
      " 0.         0.         0.         0.         0.         0.\n",
      " 0.         0.         0.         0.         0.         0.\n",
      " 0.         0.         0.         0.         0.         0.\n",
      " 0.         0.         0.         0.         0.         0.\n",
      " 0.         0.         0.         0.         0.         0.\n",
      " 0.         0.         0.         0.         0.         0.\n",
      " 0.         0.         0.         0.         0.         0.\n",
      " 0.         0.         0.         0.         0.         0.\n",
      " 0.         0.         0.         0.        ], shape=(196,), dtype=float32)\n"
     ]
    }
   ],
   "source": [
    "for x,y in training_dataset_match.take(5):\n",
    "    plt.imshow(x[0][0])\n",
    "    plt.show()\n",
    "    print(y[0][0])"
   ]
  },
  {
   "cell_type": "markdown",
   "metadata": {},
   "source": [
    "## Training"
   ]
  },
  {
   "cell_type": "code",
   "execution_count": 22,
   "metadata": {
    "scrolled": true
   },
   "outputs": [
    {
     "name": "stdout",
     "output_type": "stream",
     "text": [
      "Epoch 1/100\n",
      "1018/1018 [==============================] - ETA: 0s - loss: 0.6880 - Fine_prediction_output_layer_loss: 0.6849 - Decoder_fine_loss: 6.9026 - Fine_prediction_output_layer_accuracy: 0.0042\n",
      "Epoch 1: val_loss improved from inf to 0.67155, saving model to ./logs/CapsNet/Flat_Classification\\weights-01.h5\n",
      "1018/1018 [==============================] - 497s 464ms/step - loss: 0.6880 - Fine_prediction_output_layer_loss: 0.6849 - Decoder_fine_loss: 6.9026 - Fine_prediction_output_layer_accuracy: 0.0042 - val_loss: 0.6715 - val_Fine_prediction_output_layer_loss: 0.6685 - val_Decoder_fine_loss: 6.8216 - val_Fine_prediction_output_layer_accuracy: 0.0052 - lr: 0.0010\n",
      "Epoch 2/100\n",
      "1018/1018 [==============================] - ETA: 0s - loss: 0.6630 - Fine_prediction_output_layer_loss: 0.6599 - Decoder_fine_loss: 6.8213 - Fine_prediction_output_layer_accuracy: 0.0052\n",
      "Epoch 2: val_loss improved from 0.67155 to 0.65801, saving model to ./logs/CapsNet/Flat_Classification\\weights-02.h5\n",
      "1018/1018 [==============================] - 486s 469ms/step - loss: 0.6630 - Fine_prediction_output_layer_loss: 0.6599 - Decoder_fine_loss: 6.8213 - Fine_prediction_output_layer_accuracy: 0.0052 - val_loss: 0.6580 - val_Fine_prediction_output_layer_loss: 0.6549 - val_Decoder_fine_loss: 6.8181 - val_Fine_prediction_output_layer_accuracy: 0.0062 - lr: 9.5000e-04\n",
      "Epoch 3/100\n",
      "1018/1018 [==============================] - ETA: 0s - loss: 0.6597 - Fine_prediction_output_layer_loss: 0.6566 - Decoder_fine_loss: 6.8101 - Fine_prediction_output_layer_accuracy: 0.0048\n",
      "Epoch 3: val_loss improved from 0.65801 to 0.65740, saving model to ./logs/CapsNet/Flat_Classification\\weights-03.h5\n",
      "1018/1018 [==============================] - 482s 466ms/step - loss: 0.6597 - Fine_prediction_output_layer_loss: 0.6566 - Decoder_fine_loss: 6.8101 - Fine_prediction_output_layer_accuracy: 0.0048 - val_loss: 0.6574 - val_Fine_prediction_output_layer_loss: 0.6543 - val_Decoder_fine_loss: 6.8247 - val_Fine_prediction_output_layer_accuracy: 0.0045 - lr: 9.0250e-04\n",
      "Epoch 4/100\n",
      "1018/1018 [==============================] - ETA: 0s - loss: 0.6569 - Fine_prediction_output_layer_loss: 0.6538 - Decoder_fine_loss: 6.8028 - Fine_prediction_output_layer_accuracy: 0.0069\n",
      "Epoch 4: val_loss did not improve from 0.65740\n",
      "1018/1018 [==============================] - 475s 458ms/step - loss: 0.6569 - Fine_prediction_output_layer_loss: 0.6538 - Decoder_fine_loss: 6.8028 - Fine_prediction_output_layer_accuracy: 0.0069 - val_loss: 0.6624 - val_Fine_prediction_output_layer_loss: 0.6593 - val_Decoder_fine_loss: 6.8515 - val_Fine_prediction_output_layer_accuracy: 0.0042 - lr: 8.5737e-04\n",
      "Epoch 5/100\n",
      "1018/1018 [==============================] - ETA: 0s - loss: 0.6553 - Fine_prediction_output_layer_loss: 0.6522 - Decoder_fine_loss: 6.8021 - Fine_prediction_output_layer_accuracy: 0.0061\n",
      "Epoch 5: val_loss improved from 0.65740 to 0.65300, saving model to ./logs/CapsNet/Flat_Classification\\weights-05.h5\n",
      "1018/1018 [==============================] - 481s 465ms/step - loss: 0.6553 - Fine_prediction_output_layer_loss: 0.6522 - Decoder_fine_loss: 6.8021 - Fine_prediction_output_layer_accuracy: 0.0061 - val_loss: 0.6530 - val_Fine_prediction_output_layer_loss: 0.6499 - val_Decoder_fine_loss: 6.8332 - val_Fine_prediction_output_layer_accuracy: 0.0047 - lr: 8.1451e-04\n",
      "Epoch 6/100\n",
      "1018/1018 [==============================] - ETA: 0s - loss: 0.6538 - Fine_prediction_output_layer_loss: 0.6507 - Decoder_fine_loss: 6.7962 - Fine_prediction_output_layer_accuracy: 0.0063\n",
      "Epoch 6: val_loss did not improve from 0.65300\n",
      "1018/1018 [==============================] - 475s 458ms/step - loss: 0.6538 - Fine_prediction_output_layer_loss: 0.6507 - Decoder_fine_loss: 6.7962 - Fine_prediction_output_layer_accuracy: 0.0063 - val_loss: 0.6535 - val_Fine_prediction_output_layer_loss: 0.6504 - val_Decoder_fine_loss: 6.8838 - val_Fine_prediction_output_layer_accuracy: 0.0042 - lr: 7.7378e-04\n",
      "Epoch 7/100\n",
      "1018/1018 [==============================] - ETA: 0s - loss: 0.6523 - Fine_prediction_output_layer_loss: 0.6492 - Decoder_fine_loss: 6.7862 - Fine_prediction_output_layer_accuracy: 0.0054\n",
      "Epoch 7: val_loss did not improve from 0.65300\n",
      "1018/1018 [==============================] - 476s 459ms/step - loss: 0.6523 - Fine_prediction_output_layer_loss: 0.6492 - Decoder_fine_loss: 6.7862 - Fine_prediction_output_layer_accuracy: 0.0054 - val_loss: 0.6536 - val_Fine_prediction_output_layer_loss: 0.6505 - val_Decoder_fine_loss: 6.8545 - val_Fine_prediction_output_layer_accuracy: 0.0057 - lr: 7.3509e-04\n",
      "Epoch 8/100\n",
      "1018/1018 [==============================] - ETA: 0s - loss: 0.6504 - Fine_prediction_output_layer_loss: 0.6473 - Decoder_fine_loss: 6.7883 - Fine_prediction_output_layer_accuracy: 0.0045\n",
      "Epoch 8: val_loss did not improve from 0.65300\n",
      "1018/1018 [==============================] - 475s 459ms/step - loss: 0.6504 - Fine_prediction_output_layer_loss: 0.6473 - Decoder_fine_loss: 6.7883 - Fine_prediction_output_layer_accuracy: 0.0045 - val_loss: 0.6540 - val_Fine_prediction_output_layer_loss: 0.6509 - val_Decoder_fine_loss: 6.8548 - val_Fine_prediction_output_layer_accuracy: 0.0057 - lr: 6.9834e-04\n",
      "Epoch 9/100\n",
      "1018/1018 [==============================] - ETA: 0s - loss: 0.6495 - Fine_prediction_output_layer_loss: 0.6464 - Decoder_fine_loss: 6.7915 - Fine_prediction_output_layer_accuracy: 0.0042\n",
      "Epoch 9: val_loss improved from 0.65300 to 0.65020, saving model to ./logs/CapsNet/Flat_Classification\\weights-09.h5\n",
      "1018/1018 [==============================] - 482s 465ms/step - loss: 0.6495 - Fine_prediction_output_layer_loss: 0.6464 - Decoder_fine_loss: 6.7915 - Fine_prediction_output_layer_accuracy: 0.0042 - val_loss: 0.6502 - val_Fine_prediction_output_layer_loss: 0.6471 - val_Decoder_fine_loss: 6.8166 - val_Fine_prediction_output_layer_accuracy: 0.0050 - lr: 6.6342e-04\n",
      "Epoch 10/100\n",
      "1018/1018 [==============================] - ETA: 0s - loss: 0.6486 - Fine_prediction_output_layer_loss: 0.6456 - Decoder_fine_loss: 6.7887 - Fine_prediction_output_layer_accuracy: 0.0047\n",
      "Epoch 10: val_loss improved from 0.65020 to 0.64981, saving model to ./logs/CapsNet/Flat_Classification\\weights-10.h5\n",
      "1018/1018 [==============================] - 483s 467ms/step - loss: 0.6486 - Fine_prediction_output_layer_loss: 0.6456 - Decoder_fine_loss: 6.7887 - Fine_prediction_output_layer_accuracy: 0.0047 - val_loss: 0.6498 - val_Fine_prediction_output_layer_loss: 0.6466 - val_Decoder_fine_loss: 7.0036 - val_Fine_prediction_output_layer_accuracy: 0.0077 - lr: 6.3025e-04\n",
      "Epoch 11/100\n",
      "1018/1018 [==============================] - ETA: 0s - loss: 0.6474 - Fine_prediction_output_layer_loss: 0.6443 - Decoder_fine_loss: 6.7932 - Fine_prediction_output_layer_accuracy: 0.0049\n",
      "Epoch 11: val_loss did not improve from 0.64981\n",
      "1018/1018 [==============================] - 476s 459ms/step - loss: 0.6474 - Fine_prediction_output_layer_loss: 0.6443 - Decoder_fine_loss: 6.7932 - Fine_prediction_output_layer_accuracy: 0.0049 - val_loss: 0.6500 - val_Fine_prediction_output_layer_loss: 0.6469 - val_Decoder_fine_loss: 6.8285 - val_Fine_prediction_output_layer_accuracy: 0.0062 - lr: 5.9874e-04\n",
      "Epoch 12/100\n",
      "1018/1018 [==============================] - ETA: 0s - loss: 0.6473 - Fine_prediction_output_layer_loss: 0.6442 - Decoder_fine_loss: 6.7891 - Fine_prediction_output_layer_accuracy: 0.0074\n",
      "Epoch 12: val_loss did not improve from 0.64981\n",
      "1018/1018 [==============================] - 476s 459ms/step - loss: 0.6473 - Fine_prediction_output_layer_loss: 0.6442 - Decoder_fine_loss: 6.7891 - Fine_prediction_output_layer_accuracy: 0.0074 - val_loss: 0.6515 - val_Fine_prediction_output_layer_loss: 0.6484 - val_Decoder_fine_loss: 6.8191 - val_Fine_prediction_output_layer_accuracy: 0.0060 - lr: 5.6880e-04\n",
      "Epoch 13/100\n",
      "1018/1018 [==============================] - ETA: 0s - loss: 0.6465 - Fine_prediction_output_layer_loss: 0.6435 - Decoder_fine_loss: 6.7881 - Fine_prediction_output_layer_accuracy: 0.0043\n",
      "Epoch 13: val_loss improved from 0.64981 to 0.64579, saving model to ./logs/CapsNet/Flat_Classification\\weights-13.h5\n",
      "1018/1018 [==============================] - 483s 466ms/step - loss: 0.6465 - Fine_prediction_output_layer_loss: 0.6435 - Decoder_fine_loss: 6.7881 - Fine_prediction_output_layer_accuracy: 0.0043 - val_loss: 0.6458 - val_Fine_prediction_output_layer_loss: 0.6427 - val_Decoder_fine_loss: 6.8403 - val_Fine_prediction_output_layer_accuracy: 0.0050 - lr: 5.4036e-04\n"
     ]
    },
    {
     "name": "stdout",
     "output_type": "stream",
     "text": [
      "Epoch 14/100\n",
      "1018/1018 [==============================] - ETA: 0s - loss: 0.6455 - Fine_prediction_output_layer_loss: 0.6424 - Decoder_fine_loss: 6.7836 - Fine_prediction_output_layer_accuracy: 0.0054\n",
      "Epoch 14: val_loss improved from 0.64579 to 0.64553, saving model to ./logs/CapsNet/Flat_Classification\\weights-14.h5\n",
      "1018/1018 [==============================] - 482s 465ms/step - loss: 0.6455 - Fine_prediction_output_layer_loss: 0.6424 - Decoder_fine_loss: 6.7836 - Fine_prediction_output_layer_accuracy: 0.0054 - val_loss: 0.6455 - val_Fine_prediction_output_layer_loss: 0.6424 - val_Decoder_fine_loss: 6.8506 - val_Fine_prediction_output_layer_accuracy: 0.0052 - lr: 5.1334e-04\n",
      "Epoch 15/100\n",
      "1018/1018 [==============================] - ETA: 0s - loss: 0.6450 - Fine_prediction_output_layer_loss: 0.6419 - Decoder_fine_loss: 6.7833 - Fine_prediction_output_layer_accuracy: 0.0052\n",
      "Epoch 15: val_loss improved from 0.64553 to 0.64539, saving model to ./logs/CapsNet/Flat_Classification\\weights-15.h5\n",
      "1018/1018 [==============================] - 481s 464ms/step - loss: 0.6450 - Fine_prediction_output_layer_loss: 0.6419 - Decoder_fine_loss: 6.7833 - Fine_prediction_output_layer_accuracy: 0.0052 - val_loss: 0.6454 - val_Fine_prediction_output_layer_loss: 0.6422 - val_Decoder_fine_loss: 6.9793 - val_Fine_prediction_output_layer_accuracy: 0.0067 - lr: 4.8767e-04\n",
      "Epoch 16/100\n",
      "1018/1018 [==============================] - ETA: 0s - loss: 0.6449 - Fine_prediction_output_layer_loss: 0.6419 - Decoder_fine_loss: 6.7809 - Fine_prediction_output_layer_accuracy: 0.0042\n",
      "Epoch 16: val_loss did not improve from 0.64539\n",
      "1018/1018 [==============================] - 475s 458ms/step - loss: 0.6449 - Fine_prediction_output_layer_loss: 0.6419 - Decoder_fine_loss: 6.7809 - Fine_prediction_output_layer_accuracy: 0.0042 - val_loss: 0.6476 - val_Fine_prediction_output_layer_loss: 0.6445 - val_Decoder_fine_loss: 6.7556 - val_Fine_prediction_output_layer_accuracy: 0.0052 - lr: 4.6329e-04\n",
      "Epoch 17/100\n",
      "1018/1018 [==============================] - ETA: 0s - loss: 0.6440 - Fine_prediction_output_layer_loss: 0.6409 - Decoder_fine_loss: 6.7809 - Fine_prediction_output_layer_accuracy: 0.0065\n",
      "Epoch 17: val_loss did not improve from 0.64539\n",
      "1018/1018 [==============================] - 475s 458ms/step - loss: 0.6440 - Fine_prediction_output_layer_loss: 0.6409 - Decoder_fine_loss: 6.7809 - Fine_prediction_output_layer_accuracy: 0.0065 - val_loss: 0.6473 - val_Fine_prediction_output_layer_loss: 0.6442 - val_Decoder_fine_loss: 6.8152 - val_Fine_prediction_output_layer_accuracy: 0.0060 - lr: 4.4013e-04\n",
      "Epoch 18/100\n",
      "1018/1018 [==============================] - ETA: 0s - loss: 0.6432 - Fine_prediction_output_layer_loss: 0.6401 - Decoder_fine_loss: 6.7808 - Fine_prediction_output_layer_accuracy: 0.0070\n",
      "Epoch 18: val_loss improved from 0.64539 to 0.64481, saving model to ./logs/CapsNet/Flat_Classification\\weights-18.h5\n",
      "1018/1018 [==============================] - 483s 466ms/step - loss: 0.6432 - Fine_prediction_output_layer_loss: 0.6401 - Decoder_fine_loss: 6.7808 - Fine_prediction_output_layer_accuracy: 0.0070 - val_loss: 0.6448 - val_Fine_prediction_output_layer_loss: 0.6417 - val_Decoder_fine_loss: 6.7972 - val_Fine_prediction_output_layer_accuracy: 0.0062 - lr: 4.1812e-04\n",
      "Epoch 19/100\n",
      "1018/1018 [==============================] - ETA: 0s - loss: 0.6419 - Fine_prediction_output_layer_loss: 0.6389 - Decoder_fine_loss: 6.7798 - Fine_prediction_output_layer_accuracy: 0.0068\n",
      "Epoch 19: val_loss did not improve from 0.64481\n",
      "1018/1018 [==============================] - 474s 458ms/step - loss: 0.6419 - Fine_prediction_output_layer_loss: 0.6389 - Decoder_fine_loss: 6.7798 - Fine_prediction_output_layer_accuracy: 0.0068 - val_loss: 0.6467 - val_Fine_prediction_output_layer_loss: 0.6436 - val_Decoder_fine_loss: 6.9261 - val_Fine_prediction_output_layer_accuracy: 0.0060 - lr: 3.9721e-04\n",
      "Epoch 20/100\n",
      "1018/1018 [==============================] - ETA: 0s - loss: 0.6405 - Fine_prediction_output_layer_loss: 0.6375 - Decoder_fine_loss: 6.7790 - Fine_prediction_output_layer_accuracy: 0.0107\n",
      "Epoch 20: val_loss improved from 0.64481 to 0.64355, saving model to ./logs/CapsNet/Flat_Classification\\weights-20.h5\n",
      "1018/1018 [==============================] - 481s 464ms/step - loss: 0.6405 - Fine_prediction_output_layer_loss: 0.6375 - Decoder_fine_loss: 6.7790 - Fine_prediction_output_layer_accuracy: 0.0107 - val_loss: 0.6435 - val_Fine_prediction_output_layer_loss: 0.6405 - val_Decoder_fine_loss: 6.8387 - val_Fine_prediction_output_layer_accuracy: 0.0060 - lr: 3.7735e-04\n",
      "Epoch 21/100\n",
      "1018/1018 [==============================] - ETA: 0s - loss: 0.6389 - Fine_prediction_output_layer_loss: 0.6359 - Decoder_fine_loss: 6.7806 - Fine_prediction_output_layer_accuracy: 0.0134\n",
      "Epoch 21: val_loss improved from 0.64355 to 0.63983, saving model to ./logs/CapsNet/Flat_Classification\\weights-21.h5\n",
      "1018/1018 [==============================] - 483s 466ms/step - loss: 0.6389 - Fine_prediction_output_layer_loss: 0.6359 - Decoder_fine_loss: 6.7806 - Fine_prediction_output_layer_accuracy: 0.0134 - val_loss: 0.6398 - val_Fine_prediction_output_layer_loss: 0.6368 - val_Decoder_fine_loss: 6.7435 - val_Fine_prediction_output_layer_accuracy: 0.0122 - lr: 3.5849e-04\n",
      "Epoch 22/100\n",
      "1018/1018 [==============================] - ETA: 0s - loss: 0.6371 - Fine_prediction_output_layer_loss: 0.6341 - Decoder_fine_loss: 6.7723 - Fine_prediction_output_layer_accuracy: 0.0205\n",
      "Epoch 22: val_loss did not improve from 0.63983\n",
      "1018/1018 [==============================] - 475s 458ms/step - loss: 0.6371 - Fine_prediction_output_layer_loss: 0.6341 - Decoder_fine_loss: 6.7723 - Fine_prediction_output_layer_accuracy: 0.0205 - val_loss: 0.6431 - val_Fine_prediction_output_layer_loss: 0.6400 - val_Decoder_fine_loss: 6.7979 - val_Fine_prediction_output_layer_accuracy: 0.0097 - lr: 3.4056e-04\n",
      "Epoch 23/100\n",
      "1018/1018 [==============================] - ETA: 0s - loss: 0.6347 - Fine_prediction_output_layer_loss: 0.6316 - Decoder_fine_loss: 6.7740 - Fine_prediction_output_layer_accuracy: 0.0250\n",
      "Epoch 23: val_loss did not improve from 0.63983\n",
      "1018/1018 [==============================] - 475s 459ms/step - loss: 0.6347 - Fine_prediction_output_layer_loss: 0.6316 - Decoder_fine_loss: 6.7740 - Fine_prediction_output_layer_accuracy: 0.0250 - val_loss: 0.6449 - val_Fine_prediction_output_layer_loss: 0.6418 - val_Decoder_fine_loss: 6.7852 - val_Fine_prediction_output_layer_accuracy: 0.0097 - lr: 3.2353e-04\n",
      "Epoch 24/100\n",
      "1018/1018 [==============================] - ETA: 0s - loss: 0.6324 - Fine_prediction_output_layer_loss: 0.6293 - Decoder_fine_loss: 6.7753 - Fine_prediction_output_layer_accuracy: 0.0340\n",
      "Epoch 24: val_loss did not improve from 0.63983\n",
      "1018/1018 [==============================] - 475s 459ms/step - loss: 0.6324 - Fine_prediction_output_layer_loss: 0.6293 - Decoder_fine_loss: 6.7753 - Fine_prediction_output_layer_accuracy: 0.0340 - val_loss: 0.6424 - val_Fine_prediction_output_layer_loss: 0.6394 - val_Decoder_fine_loss: 6.7135 - val_Fine_prediction_output_layer_accuracy: 0.0201 - lr: 3.0736e-04\n",
      "Epoch 25/100\n",
      "1018/1018 [==============================] - ETA: 0s - loss: 0.6294 - Fine_prediction_output_layer_loss: 0.6263 - Decoder_fine_loss: 6.7681 - Fine_prediction_output_layer_accuracy: 0.0457\n",
      "Epoch 25: val_loss did not improve from 0.63983\n",
      "1018/1018 [==============================] - 475s 458ms/step - loss: 0.6294 - Fine_prediction_output_layer_loss: 0.6263 - Decoder_fine_loss: 6.7681 - Fine_prediction_output_layer_accuracy: 0.0457 - val_loss: 0.6439 - val_Fine_prediction_output_layer_loss: 0.6409 - val_Decoder_fine_loss: 6.7100 - val_Fine_prediction_output_layer_accuracy: 0.0144 - lr: 2.9199e-04\n",
      "Epoch 26/100\n",
      "1018/1018 [==============================] - ETA: 0s - loss: 0.6260 - Fine_prediction_output_layer_loss: 0.6230 - Decoder_fine_loss: 6.7653 - Fine_prediction_output_layer_accuracy: 0.0603\n",
      "Epoch 26: val_loss did not improve from 0.63983\n",
      "1018/1018 [==============================] - 475s 458ms/step - loss: 0.6260 - Fine_prediction_output_layer_loss: 0.6230 - Decoder_fine_loss: 6.7653 - Fine_prediction_output_layer_accuracy: 0.0603 - val_loss: 0.6477 - val_Fine_prediction_output_layer_loss: 0.6447 - val_Decoder_fine_loss: 6.7240 - val_Fine_prediction_output_layer_accuracy: 0.0154 - lr: 2.7739e-04\n"
     ]
    },
    {
     "name": "stdout",
     "output_type": "stream",
     "text": [
      "Epoch 27/100\n",
      "1018/1018 [==============================] - ETA: 0s - loss: 0.6226 - Fine_prediction_output_layer_loss: 0.6195 - Decoder_fine_loss: 6.7615 - Fine_prediction_output_layer_accuracy: 0.0786\n",
      "Epoch 27: val_loss did not improve from 0.63983\n",
      "1018/1018 [==============================] - 475s 458ms/step - loss: 0.6226 - Fine_prediction_output_layer_loss: 0.6195 - Decoder_fine_loss: 6.7615 - Fine_prediction_output_layer_accuracy: 0.0786 - val_loss: 0.6431 - val_Fine_prediction_output_layer_loss: 0.6401 - val_Decoder_fine_loss: 6.7087 - val_Fine_prediction_output_layer_accuracy: 0.0221 - lr: 2.6352e-04\n",
      "Epoch 28/100\n",
      "1018/1018 [==============================] - ETA: 0s - loss: 0.6181 - Fine_prediction_output_layer_loss: 0.6150 - Decoder_fine_loss: 6.7521 - Fine_prediction_output_layer_accuracy: 0.1094\n",
      "Epoch 28: val_loss did not improve from 0.63983\n",
      "1018/1018 [==============================] - 475s 458ms/step - loss: 0.6181 - Fine_prediction_output_layer_loss: 0.6150 - Decoder_fine_loss: 6.7521 - Fine_prediction_output_layer_accuracy: 0.1094 - val_loss: 0.6456 - val_Fine_prediction_output_layer_loss: 0.6425 - val_Decoder_fine_loss: 6.7223 - val_Fine_prediction_output_layer_accuracy: 0.0182 - lr: 2.5034e-04\n",
      "Epoch 29/100\n",
      "1018/1018 [==============================] - ETA: 0s - loss: 0.6128 - Fine_prediction_output_layer_loss: 0.6097 - Decoder_fine_loss: 6.7512 - Fine_prediction_output_layer_accuracy: 0.1338\n",
      "Epoch 29: val_loss did not improve from 0.63983\n",
      "1018/1018 [==============================] - 475s 459ms/step - loss: 0.6128 - Fine_prediction_output_layer_loss: 0.6097 - Decoder_fine_loss: 6.7512 - Fine_prediction_output_layer_accuracy: 0.1338 - val_loss: 0.6462 - val_Fine_prediction_output_layer_loss: 0.6431 - val_Decoder_fine_loss: 6.7074 - val_Fine_prediction_output_layer_accuracy: 0.0224 - lr: 2.3783e-04\n",
      "Epoch 30/100\n",
      "1018/1018 [==============================] - ETA: 0s - loss: 0.6066 - Fine_prediction_output_layer_loss: 0.6036 - Decoder_fine_loss: 6.7460 - Fine_prediction_output_layer_accuracy: 0.1702\n",
      "Epoch 30: val_loss did not improve from 0.63983\n",
      "1018/1018 [==============================] - 474s 458ms/step - loss: 0.6066 - Fine_prediction_output_layer_loss: 0.6036 - Decoder_fine_loss: 6.7460 - Fine_prediction_output_layer_accuracy: 0.1702 - val_loss: 0.6505 - val_Fine_prediction_output_layer_loss: 0.6475 - val_Decoder_fine_loss: 6.7465 - val_Fine_prediction_output_layer_accuracy: 0.0216 - lr: 2.2594e-04\n",
      "Epoch 31/100\n",
      "1018/1018 [==============================] - ETA: 0s - loss: 0.5998 - Fine_prediction_output_layer_loss: 0.5967 - Decoder_fine_loss: 6.7399 - Fine_prediction_output_layer_accuracy: 0.2177\n",
      "Epoch 31: val_loss did not improve from 0.63983\n",
      "1018/1018 [==============================] - 475s 458ms/step - loss: 0.5998 - Fine_prediction_output_layer_loss: 0.5967 - Decoder_fine_loss: 6.7399 - Fine_prediction_output_layer_accuracy: 0.2177 - val_loss: 0.6485 - val_Fine_prediction_output_layer_loss: 0.6455 - val_Decoder_fine_loss: 6.7099 - val_Fine_prediction_output_layer_accuracy: 0.0239 - lr: 2.1464e-04\n",
      "Epoch 32/100\n",
      "1018/1018 [==============================] - ETA: 0s - loss: 0.5920 - Fine_prediction_output_layer_loss: 0.5890 - Decoder_fine_loss: 6.7314 - Fine_prediction_output_layer_accuracy: 0.2650\n",
      "Epoch 32: val_loss did not improve from 0.63983\n",
      "1018/1018 [==============================] - 474s 458ms/step - loss: 0.5920 - Fine_prediction_output_layer_loss: 0.5890 - Decoder_fine_loss: 6.7314 - Fine_prediction_output_layer_accuracy: 0.2650 - val_loss: 0.6493 - val_Fine_prediction_output_layer_loss: 0.6463 - val_Decoder_fine_loss: 6.6895 - val_Fine_prediction_output_layer_accuracy: 0.0294 - lr: 2.0391e-04\n",
      "Epoch 33/100\n",
      "1018/1018 [==============================] - ETA: 0s - loss: 0.5843 - Fine_prediction_output_layer_loss: 0.5812 - Decoder_fine_loss: 6.7181 - Fine_prediction_output_layer_accuracy: 0.3110\n",
      "Epoch 33: val_loss did not improve from 0.63983\n",
      "1018/1018 [==============================] - 475s 459ms/step - loss: 0.5843 - Fine_prediction_output_layer_loss: 0.5812 - Decoder_fine_loss: 6.7181 - Fine_prediction_output_layer_accuracy: 0.3110 - val_loss: 0.6498 - val_Fine_prediction_output_layer_loss: 0.6468 - val_Decoder_fine_loss: 6.6627 - val_Fine_prediction_output_layer_accuracy: 0.0318 - lr: 1.9371e-04\n",
      "Epoch 34/100\n",
      "1018/1018 [==============================] - ETA: 0s - loss: 0.5759 - Fine_prediction_output_layer_loss: 0.5729 - Decoder_fine_loss: 6.6989 - Fine_prediction_output_layer_accuracy: 0.3558\n",
      "Epoch 34: val_loss did not improve from 0.63983\n",
      "1018/1018 [==============================] - 475s 458ms/step - loss: 0.5759 - Fine_prediction_output_layer_loss: 0.5729 - Decoder_fine_loss: 6.6989 - Fine_prediction_output_layer_accuracy: 0.3558 - val_loss: 0.6517 - val_Fine_prediction_output_layer_loss: 0.6487 - val_Decoder_fine_loss: 6.6660 - val_Fine_prediction_output_layer_accuracy: 0.0301 - lr: 1.8403e-04\n",
      "Epoch 35/100\n",
      "1018/1018 [==============================] - ETA: 0s - loss: 0.5652 - Fine_prediction_output_layer_loss: 0.5621 - Decoder_fine_loss: 6.6909 - Fine_prediction_output_layer_accuracy: 0.4179\n",
      "Epoch 35: val_loss did not improve from 0.63983\n",
      "1018/1018 [==============================] - 474s 458ms/step - loss: 0.5652 - Fine_prediction_output_layer_loss: 0.5621 - Decoder_fine_loss: 6.6909 - Fine_prediction_output_layer_accuracy: 0.4179 - val_loss: 0.6530 - val_Fine_prediction_output_layer_loss: 0.6500 - val_Decoder_fine_loss: 6.6324 - val_Fine_prediction_output_layer_accuracy: 0.0331 - lr: 1.7482e-04\n",
      "Epoch 36/100\n",
      "1018/1018 [==============================] - ETA: 0s - loss: 0.5561 - Fine_prediction_output_layer_loss: 0.5531 - Decoder_fine_loss: 6.6669 - Fine_prediction_output_layer_accuracy: 0.4611\n",
      "Epoch 36: val_loss did not improve from 0.63983\n",
      "1018/1018 [==============================] - 475s 458ms/step - loss: 0.5561 - Fine_prediction_output_layer_loss: 0.5531 - Decoder_fine_loss: 6.6669 - Fine_prediction_output_layer_accuracy: 0.4611 - val_loss: 0.6547 - val_Fine_prediction_output_layer_loss: 0.6517 - val_Decoder_fine_loss: 6.6433 - val_Fine_prediction_output_layer_accuracy: 0.0333 - lr: 1.6608e-04\n",
      "Epoch 37/100\n",
      "1018/1018 [==============================] - ETA: 0s - loss: 0.5475 - Fine_prediction_output_layer_loss: 0.5444 - Decoder_fine_loss: 6.6619 - Fine_prediction_output_layer_accuracy: 0.5037\n",
      "Epoch 37: val_loss did not improve from 0.63983\n",
      "1018/1018 [==============================] - 475s 458ms/step - loss: 0.5475 - Fine_prediction_output_layer_loss: 0.5444 - Decoder_fine_loss: 6.6619 - Fine_prediction_output_layer_accuracy: 0.5037 - val_loss: 0.6555 - val_Fine_prediction_output_layer_loss: 0.6525 - val_Decoder_fine_loss: 6.6175 - val_Fine_prediction_output_layer_accuracy: 0.0346 - lr: 1.5778e-04\n",
      "Epoch 38/100\n",
      "1018/1018 [==============================] - ETA: 0s - loss: 0.5378 - Fine_prediction_output_layer_loss: 0.5347 - Decoder_fine_loss: 6.6529 - Fine_prediction_output_layer_accuracy: 0.5485\n",
      "Epoch 38: val_loss did not improve from 0.63983\n",
      "1018/1018 [==============================] - 475s 459ms/step - loss: 0.5378 - Fine_prediction_output_layer_loss: 0.5347 - Decoder_fine_loss: 6.6529 - Fine_prediction_output_layer_accuracy: 0.5485 - val_loss: 0.6575 - val_Fine_prediction_output_layer_loss: 0.6545 - val_Decoder_fine_loss: 6.6201 - val_Fine_prediction_output_layer_accuracy: 0.0338 - lr: 1.4989e-04\n",
      "Epoch 39/100\n",
      "1018/1018 [==============================] - ETA: 0s - loss: 0.5283 - Fine_prediction_output_layer_loss: 0.5252 - Decoder_fine_loss: 6.6449 - Fine_prediction_output_layer_accuracy: 0.5981\n",
      "Epoch 39: val_loss did not improve from 0.63983\n",
      "1018/1018 [==============================] - 475s 459ms/step - loss: 0.5283 - Fine_prediction_output_layer_loss: 0.5252 - Decoder_fine_loss: 6.6449 - Fine_prediction_output_layer_accuracy: 0.5981 - val_loss: 0.6589 - val_Fine_prediction_output_layer_loss: 0.6559 - val_Decoder_fine_loss: 6.6053 - val_Fine_prediction_output_layer_accuracy: 0.0428 - lr: 1.4240e-04\n",
      "Epoch 40/100\n",
      "1018/1018 [==============================] - ETA: 0s - loss: 0.5195 - Fine_prediction_output_layer_loss: 0.5164 - Decoder_fine_loss: 6.6294 - Fine_prediction_output_layer_accuracy: 0.6265\n",
      "Epoch 40: val_loss did not improve from 0.63983\n"
     ]
    },
    {
     "name": "stdout",
     "output_type": "stream",
     "text": [
      "1018/1018 [==============================] - 475s 458ms/step - loss: 0.5195 - Fine_prediction_output_layer_loss: 0.5164 - Decoder_fine_loss: 6.6294 - Fine_prediction_output_layer_accuracy: 0.6265 - val_loss: 0.6590 - val_Fine_prediction_output_layer_loss: 0.6560 - val_Decoder_fine_loss: 6.6070 - val_Fine_prediction_output_layer_accuracy: 0.0400 - lr: 1.3528e-04\n",
      "Epoch 41/100\n",
      "1018/1018 [==============================] - ETA: 0s - loss: 0.5110 - Fine_prediction_output_layer_loss: 0.5080 - Decoder_fine_loss: 6.6251 - Fine_prediction_output_layer_accuracy: 0.6573\n",
      "Epoch 41: val_loss did not improve from 0.63983\n",
      "1018/1018 [==============================] - 475s 459ms/step - loss: 0.5110 - Fine_prediction_output_layer_loss: 0.5080 - Decoder_fine_loss: 6.6251 - Fine_prediction_output_layer_accuracy: 0.6573 - val_loss: 0.6607 - val_Fine_prediction_output_layer_loss: 0.6577 - val_Decoder_fine_loss: 6.6025 - val_Fine_prediction_output_layer_accuracy: 0.0378 - lr: 1.2851e-04\n",
      "Epoch 42/100\n",
      "1018/1018 [==============================] - ETA: 0s - loss: 0.5041 - Fine_prediction_output_layer_loss: 0.5011 - Decoder_fine_loss: 6.6154 - Fine_prediction_output_layer_accuracy: 0.6865\n",
      "Epoch 42: val_loss did not improve from 0.63983\n",
      "1018/1018 [==============================] - 474s 458ms/step - loss: 0.5041 - Fine_prediction_output_layer_loss: 0.5011 - Decoder_fine_loss: 6.6154 - Fine_prediction_output_layer_accuracy: 0.6865 - val_loss: 0.6614 - val_Fine_prediction_output_layer_loss: 0.6584 - val_Decoder_fine_loss: 6.6001 - val_Fine_prediction_output_layer_accuracy: 0.0415 - lr: 1.2209e-04\n",
      "Epoch 43/100\n",
      "1018/1018 [==============================] - ETA: 0s - loss: 0.4953 - Fine_prediction_output_layer_loss: 0.4922 - Decoder_fine_loss: 6.6110 - Fine_prediction_output_layer_accuracy: 0.7122\n",
      "Epoch 43: val_loss did not improve from 0.63983\n",
      "1018/1018 [==============================] - 475s 459ms/step - loss: 0.4953 - Fine_prediction_output_layer_loss: 0.4922 - Decoder_fine_loss: 6.6110 - Fine_prediction_output_layer_accuracy: 0.7122 - val_loss: 0.6634 - val_Fine_prediction_output_layer_loss: 0.6604 - val_Decoder_fine_loss: 6.5841 - val_Fine_prediction_output_layer_accuracy: 0.0376 - lr: 1.1598e-04\n",
      "Epoch 44/100\n",
      "1018/1018 [==============================] - ETA: 0s - loss: 0.4874 - Fine_prediction_output_layer_loss: 0.4843 - Decoder_fine_loss: 6.6006 - Fine_prediction_output_layer_accuracy: 0.7367\n",
      "Epoch 44: val_loss did not improve from 0.63983\n",
      "1018/1018 [==============================] - 475s 459ms/step - loss: 0.4874 - Fine_prediction_output_layer_loss: 0.4843 - Decoder_fine_loss: 6.6006 - Fine_prediction_output_layer_accuracy: 0.7367 - val_loss: 0.6652 - val_Fine_prediction_output_layer_loss: 0.6623 - val_Decoder_fine_loss: 6.5962 - val_Fine_prediction_output_layer_accuracy: 0.0408 - lr: 1.1018e-04\n",
      "Epoch 45/100\n",
      "1018/1018 [==============================] - ETA: 0s - loss: 0.4790 - Fine_prediction_output_layer_loss: 0.4759 - Decoder_fine_loss: 6.6044 - Fine_prediction_output_layer_accuracy: 0.7608\n",
      "Epoch 45: val_loss did not improve from 0.63983\n",
      "1018/1018 [==============================] - 475s 459ms/step - loss: 0.4790 - Fine_prediction_output_layer_loss: 0.4759 - Decoder_fine_loss: 6.6044 - Fine_prediction_output_layer_accuracy: 0.7608 - val_loss: 0.6661 - val_Fine_prediction_output_layer_loss: 0.6631 - val_Decoder_fine_loss: 6.5855 - val_Fine_prediction_output_layer_accuracy: 0.0403 - lr: 1.0467e-04\n",
      "Epoch 46/100\n",
      "1018/1018 [==============================] - ETA: 0s - loss: 0.4724 - Fine_prediction_output_layer_loss: 0.4694 - Decoder_fine_loss: 6.5938 - Fine_prediction_output_layer_accuracy: 0.7749\n",
      "Epoch 46: val_loss did not improve from 0.63983\n",
      "1018/1018 [==============================] - 475s 458ms/step - loss: 0.4724 - Fine_prediction_output_layer_loss: 0.4694 - Decoder_fine_loss: 6.5938 - Fine_prediction_output_layer_accuracy: 0.7749 - val_loss: 0.6658 - val_Fine_prediction_output_layer_loss: 0.6628 - val_Decoder_fine_loss: 6.5718 - val_Fine_prediction_output_layer_accuracy: 0.0440 - lr: 9.9440e-05\n",
      "Epoch 47/100\n",
      "1018/1018 [==============================] - ETA: 0s - loss: 0.4661 - Fine_prediction_output_layer_loss: 0.4630 - Decoder_fine_loss: 6.5973 - Fine_prediction_output_layer_accuracy: 0.7868\n",
      "Epoch 47: val_loss did not improve from 0.63983\n",
      "1018/1018 [==============================] - 475s 459ms/step - loss: 0.4661 - Fine_prediction_output_layer_loss: 0.4630 - Decoder_fine_loss: 6.5973 - Fine_prediction_output_layer_accuracy: 0.7868 - val_loss: 0.6672 - val_Fine_prediction_output_layer_loss: 0.6642 - val_Decoder_fine_loss: 6.5887 - val_Fine_prediction_output_layer_accuracy: 0.0410 - lr: 9.4468e-05\n",
      "Epoch 48/100\n",
      "1018/1018 [==============================] - ETA: 0s - loss: 0.4569 - Fine_prediction_output_layer_loss: 0.4539 - Decoder_fine_loss: 6.5823 - Fine_prediction_output_layer_accuracy: 0.8072\n",
      "Epoch 48: val_loss did not improve from 0.63983\n",
      "1018/1018 [==============================] - 475s 459ms/step - loss: 0.4569 - Fine_prediction_output_layer_loss: 0.4539 - Decoder_fine_loss: 6.5823 - Fine_prediction_output_layer_accuracy: 0.8072 - val_loss: 0.6678 - val_Fine_prediction_output_layer_loss: 0.6648 - val_Decoder_fine_loss: 6.5710 - val_Fine_prediction_output_layer_accuracy: 0.0433 - lr: 8.9745e-05\n",
      "Epoch 49/100\n",
      "1018/1018 [==============================] - ETA: 0s - loss: 0.4527 - Fine_prediction_output_layer_loss: 0.4497 - Decoder_fine_loss: 6.5761 - Fine_prediction_output_layer_accuracy: 0.8218\n",
      "Epoch 49: val_loss did not improve from 0.63983\n",
      "1018/1018 [==============================] - 474s 458ms/step - loss: 0.4527 - Fine_prediction_output_layer_loss: 0.4497 - Decoder_fine_loss: 6.5761 - Fine_prediction_output_layer_accuracy: 0.8218 - val_loss: 0.6687 - val_Fine_prediction_output_layer_loss: 0.6657 - val_Decoder_fine_loss: 6.5702 - val_Fine_prediction_output_layer_accuracy: 0.0425 - lr: 8.5258e-05\n",
      "Epoch 50/100\n",
      "1018/1018 [==============================] - ETA: 0s - loss: 0.4460 - Fine_prediction_output_layer_loss: 0.4430 - Decoder_fine_loss: 6.5697 - Fine_prediction_output_layer_accuracy: 0.8401\n",
      "Epoch 50: val_loss did not improve from 0.63983\n",
      "1018/1018 [==============================] - 475s 459ms/step - loss: 0.4460 - Fine_prediction_output_layer_loss: 0.4430 - Decoder_fine_loss: 6.5697 - Fine_prediction_output_layer_accuracy: 0.8401 - val_loss: 0.6691 - val_Fine_prediction_output_layer_loss: 0.6662 - val_Decoder_fine_loss: 6.5639 - val_Fine_prediction_output_layer_accuracy: 0.0415 - lr: 8.0995e-05\n",
      "Epoch 51/100\n",
      "1018/1018 [==============================] - ETA: 0s - loss: 0.4415 - Fine_prediction_output_layer_loss: 0.4384 - Decoder_fine_loss: 6.5600 - Fine_prediction_output_layer_accuracy: 0.8412\n",
      "Epoch 51: val_loss did not improve from 0.63983\n",
      "1018/1018 [==============================] - 475s 459ms/step - loss: 0.4415 - Fine_prediction_output_layer_loss: 0.4384 - Decoder_fine_loss: 6.5600 - Fine_prediction_output_layer_accuracy: 0.8412 - val_loss: 0.6705 - val_Fine_prediction_output_layer_loss: 0.6675 - val_Decoder_fine_loss: 6.5714 - val_Fine_prediction_output_layer_accuracy: 0.0405 - lr: 7.6945e-05\n",
      "Epoch 52/100\n",
      "1018/1018 [==============================] - ETA: 0s - loss: 0.4369 - Fine_prediction_output_layer_loss: 0.4338 - Decoder_fine_loss: 6.5692 - Fine_prediction_output_layer_accuracy: 0.8463\n",
      "Epoch 52: val_loss did not improve from 0.63983\n",
      "1018/1018 [==============================] - 475s 458ms/step - loss: 0.4369 - Fine_prediction_output_layer_loss: 0.4338 - Decoder_fine_loss: 6.5692 - Fine_prediction_output_layer_accuracy: 0.8463 - val_loss: 0.6703 - val_Fine_prediction_output_layer_loss: 0.6674 - val_Decoder_fine_loss: 6.5635 - val_Fine_prediction_output_layer_accuracy: 0.0458 - lr: 7.3098e-05\n",
      "Epoch 53/100\n",
      "1018/1018 [==============================] - ETA: 0s - loss: 0.4305 - Fine_prediction_output_layer_loss: 0.4274 - Decoder_fine_loss: 6.5656 - Fine_prediction_output_layer_accuracy: 0.8593\n",
      "Epoch 53: val_loss did not improve from 0.63983\n",
      "1018/1018 [==============================] - 474s 458ms/step - loss: 0.4305 - Fine_prediction_output_layer_loss: 0.4274 - Decoder_fine_loss: 6.5656 - Fine_prediction_output_layer_accuracy: 0.8593 - val_loss: 0.6713 - val_Fine_prediction_output_layer_loss: 0.6683 - val_Decoder_fine_loss: 6.5692 - val_Fine_prediction_output_layer_accuracy: 0.0410 - lr: 6.9443e-05\n"
     ]
    },
    {
     "name": "stdout",
     "output_type": "stream",
     "text": [
      "Epoch 54/100\n",
      "1018/1018 [==============================] - ETA: 0s - loss: 0.4254 - Fine_prediction_output_layer_loss: 0.4223 - Decoder_fine_loss: 6.5571 - Fine_prediction_output_layer_accuracy: 0.8701\n",
      "Epoch 54: val_loss did not improve from 0.63983\n",
      "1018/1018 [==============================] - 475s 459ms/step - loss: 0.4254 - Fine_prediction_output_layer_loss: 0.4223 - Decoder_fine_loss: 6.5571 - Fine_prediction_output_layer_accuracy: 0.8701 - val_loss: 0.6717 - val_Fine_prediction_output_layer_loss: 0.6688 - val_Decoder_fine_loss: 6.5699 - val_Fine_prediction_output_layer_accuracy: 0.0455 - lr: 6.5971e-05\n",
      "Epoch 55/100\n",
      "1018/1018 [==============================] - ETA: 0s - loss: 0.4218 - Fine_prediction_output_layer_loss: 0.4187 - Decoder_fine_loss: 6.5510 - Fine_prediction_output_layer_accuracy: 0.8739\n",
      "Epoch 55: val_loss did not improve from 0.63983\n",
      "1018/1018 [==============================] - 475s 459ms/step - loss: 0.4218 - Fine_prediction_output_layer_loss: 0.4187 - Decoder_fine_loss: 6.5510 - Fine_prediction_output_layer_accuracy: 0.8739 - val_loss: 0.6722 - val_Fine_prediction_output_layer_loss: 0.6692 - val_Decoder_fine_loss: 6.5689 - val_Fine_prediction_output_layer_accuracy: 0.0435 - lr: 6.2672e-05\n",
      "Epoch 56/100\n",
      "1018/1018 [==============================] - ETA: 0s - loss: 0.4162 - Fine_prediction_output_layer_loss: 0.4132 - Decoder_fine_loss: 6.5498 - Fine_prediction_output_layer_accuracy: 0.8822\n",
      "Epoch 56: val_loss did not improve from 0.63983\n",
      "1018/1018 [==============================] - 475s 459ms/step - loss: 0.4162 - Fine_prediction_output_layer_loss: 0.4132 - Decoder_fine_loss: 6.5498 - Fine_prediction_output_layer_accuracy: 0.8822 - val_loss: 0.6732 - val_Fine_prediction_output_layer_loss: 0.6702 - val_Decoder_fine_loss: 6.5716 - val_Fine_prediction_output_layer_accuracy: 0.0443 - lr: 5.9539e-05\n",
      "Epoch 57/100\n",
      "1018/1018 [==============================] - ETA: 0s - loss: 0.4127 - Fine_prediction_output_layer_loss: 0.4096 - Decoder_fine_loss: 6.5500 - Fine_prediction_output_layer_accuracy: 0.8799\n",
      "Epoch 57: val_loss did not improve from 0.63983\n",
      "1018/1018 [==============================] - 475s 459ms/step - loss: 0.4127 - Fine_prediction_output_layer_loss: 0.4096 - Decoder_fine_loss: 6.5500 - Fine_prediction_output_layer_accuracy: 0.8799 - val_loss: 0.6734 - val_Fine_prediction_output_layer_loss: 0.6705 - val_Decoder_fine_loss: 6.5631 - val_Fine_prediction_output_layer_accuracy: 0.0443 - lr: 5.6562e-05\n",
      "Epoch 58/100\n",
      "1018/1018 [==============================] - ETA: 0s - loss: 0.4087 - Fine_prediction_output_layer_loss: 0.4056 - Decoder_fine_loss: 6.5536 - Fine_prediction_output_layer_accuracy: 0.8926\n",
      "Epoch 58: val_loss did not improve from 0.63983\n",
      "1018/1018 [==============================] - 474s 458ms/step - loss: 0.4087 - Fine_prediction_output_layer_loss: 0.4056 - Decoder_fine_loss: 6.5536 - Fine_prediction_output_layer_accuracy: 0.8926 - val_loss: 0.6739 - val_Fine_prediction_output_layer_loss: 0.6709 - val_Decoder_fine_loss: 6.5649 - val_Fine_prediction_output_layer_accuracy: 0.0465 - lr: 5.3734e-05\n",
      "Epoch 59/100\n",
      "1018/1018 [==============================] - ETA: 0s - loss: 0.4050 - Fine_prediction_output_layer_loss: 0.4019 - Decoder_fine_loss: 6.5505 - Fine_prediction_output_layer_accuracy: 0.8951\n",
      "Epoch 59: val_loss did not improve from 0.63983\n",
      "1018/1018 [==============================] - 474s 458ms/step - loss: 0.4050 - Fine_prediction_output_layer_loss: 0.4019 - Decoder_fine_loss: 6.5505 - Fine_prediction_output_layer_accuracy: 0.8951 - val_loss: 0.6744 - val_Fine_prediction_output_layer_loss: 0.6715 - val_Decoder_fine_loss: 6.5618 - val_Fine_prediction_output_layer_accuracy: 0.0450 - lr: 5.1047e-05\n",
      "Epoch 60/100\n",
      "1018/1018 [==============================] - ETA: 0s - loss: 0.4015 - Fine_prediction_output_layer_loss: 0.3984 - Decoder_fine_loss: 6.5370 - Fine_prediction_output_layer_accuracy: 0.8956\n",
      "Epoch 60: val_loss did not improve from 0.63983\n",
      "1018/1018 [==============================] - 474s 458ms/step - loss: 0.4015 - Fine_prediction_output_layer_loss: 0.3984 - Decoder_fine_loss: 6.5370 - Fine_prediction_output_layer_accuracy: 0.8956 - val_loss: 0.6745 - val_Fine_prediction_output_layer_loss: 0.6716 - val_Decoder_fine_loss: 6.5615 - val_Fine_prediction_output_layer_accuracy: 0.0455 - lr: 4.8495e-05\n",
      "Epoch 61/100\n",
      "1018/1018 [==============================] - ETA: 0s - loss: 0.3987 - Fine_prediction_output_layer_loss: 0.3956 - Decoder_fine_loss: 6.5422 - Fine_prediction_output_layer_accuracy: 0.9089\n",
      "Epoch 61: val_loss did not improve from 0.63983\n",
      "1018/1018 [==============================] - 475s 459ms/step - loss: 0.3987 - Fine_prediction_output_layer_loss: 0.3956 - Decoder_fine_loss: 6.5422 - Fine_prediction_output_layer_accuracy: 0.9089 - val_loss: 0.6755 - val_Fine_prediction_output_layer_loss: 0.6725 - val_Decoder_fine_loss: 6.5688 - val_Fine_prediction_output_layer_accuracy: 0.0463 - lr: 4.6070e-05\n",
      "Epoch 62/100\n",
      "1018/1018 [==============================] - ETA: 0s - loss: 0.3960 - Fine_prediction_output_layer_loss: 0.3929 - Decoder_fine_loss: 6.5433 - Fine_prediction_output_layer_accuracy: 0.9025\n",
      "Epoch 62: val_loss did not improve from 0.63983\n",
      "1018/1018 [==============================] - 475s 458ms/step - loss: 0.3960 - Fine_prediction_output_layer_loss: 0.3929 - Decoder_fine_loss: 6.5433 - Fine_prediction_output_layer_accuracy: 0.9025 - val_loss: 0.6759 - val_Fine_prediction_output_layer_loss: 0.6730 - val_Decoder_fine_loss: 6.5672 - val_Fine_prediction_output_layer_accuracy: 0.0440 - lr: 4.3766e-05\n",
      "Epoch 63/100\n",
      "1018/1018 [==============================] - ETA: 0s - loss: 0.3934 - Fine_prediction_output_layer_loss: 0.3903 - Decoder_fine_loss: 6.5413 - Fine_prediction_output_layer_accuracy: 0.9066\n",
      "Epoch 63: val_loss did not improve from 0.63983\n",
      "1018/1018 [==============================] - 475s 459ms/step - loss: 0.3934 - Fine_prediction_output_layer_loss: 0.3903 - Decoder_fine_loss: 6.5413 - Fine_prediction_output_layer_accuracy: 0.9066 - val_loss: 0.6760 - val_Fine_prediction_output_layer_loss: 0.6731 - val_Decoder_fine_loss: 6.5663 - val_Fine_prediction_output_layer_accuracy: 0.0433 - lr: 4.1578e-05\n",
      "Epoch 64/100\n",
      "1018/1018 [==============================] - ETA: 0s - loss: 0.3893 - Fine_prediction_output_layer_loss: 0.3862 - Decoder_fine_loss: 6.5497 - Fine_prediction_output_layer_accuracy: 0.9102\n",
      "Epoch 64: val_loss did not improve from 0.63983\n",
      "1018/1018 [==============================] - 475s 459ms/step - loss: 0.3893 - Fine_prediction_output_layer_loss: 0.3862 - Decoder_fine_loss: 6.5497 - Fine_prediction_output_layer_accuracy: 0.9102 - val_loss: 0.6762 - val_Fine_prediction_output_layer_loss: 0.6732 - val_Decoder_fine_loss: 6.5693 - val_Fine_prediction_output_layer_accuracy: 0.0448 - lr: 3.9499e-05\n",
      "Epoch 65/100\n",
      "1018/1018 [==============================] - ETA: 0s - loss: 0.3877 - Fine_prediction_output_layer_loss: 0.3846 - Decoder_fine_loss: 6.5374 - Fine_prediction_output_layer_accuracy: 0.9138\n",
      "Epoch 65: val_loss did not improve from 0.63983\n",
      "1018/1018 [==============================] - 475s 459ms/step - loss: 0.3877 - Fine_prediction_output_layer_loss: 0.3846 - Decoder_fine_loss: 6.5374 - Fine_prediction_output_layer_accuracy: 0.9138 - val_loss: 0.6763 - val_Fine_prediction_output_layer_loss: 0.6734 - val_Decoder_fine_loss: 6.5627 - val_Fine_prediction_output_layer_accuracy: 0.0463 - lr: 3.7524e-05\n",
      "Epoch 66/100\n",
      "1018/1018 [==============================] - ETA: 0s - loss: 0.3829 - Fine_prediction_output_layer_loss: 0.3799 - Decoder_fine_loss: 6.5344 - Fine_prediction_output_layer_accuracy: 0.9214\n",
      "Epoch 66: val_loss did not improve from 0.63983\n",
      "1018/1018 [==============================] - 475s 459ms/step - loss: 0.3829 - Fine_prediction_output_layer_loss: 0.3799 - Decoder_fine_loss: 6.5344 - Fine_prediction_output_layer_accuracy: 0.9214 - val_loss: 0.6773 - val_Fine_prediction_output_layer_loss: 0.6743 - val_Decoder_fine_loss: 6.5626 - val_Fine_prediction_output_layer_accuracy: 0.0445 - lr: 3.5648e-05\n",
      "Epoch 67/100\n",
      "1018/1018 [==============================] - ETA: 0s - loss: 0.3829 - Fine_prediction_output_layer_loss: 0.3798 - Decoder_fine_loss: 6.5360 - Fine_prediction_output_layer_accuracy: 0.9161\n",
      "Epoch 67: val_loss did not improve from 0.63983\n"
     ]
    },
    {
     "name": "stdout",
     "output_type": "stream",
     "text": [
      "1018/1018 [==============================] - 475s 459ms/step - loss: 0.3829 - Fine_prediction_output_layer_loss: 0.3798 - Decoder_fine_loss: 6.5360 - Fine_prediction_output_layer_accuracy: 0.9161 - val_loss: 0.6775 - val_Fine_prediction_output_layer_loss: 0.6745 - val_Decoder_fine_loss: 6.5680 - val_Fine_prediction_output_layer_accuracy: 0.0475 - lr: 3.3866e-05\n",
      "Epoch 68/100\n",
      "1018/1018 [==============================] - ETA: 0s - loss: 0.3792 - Fine_prediction_output_layer_loss: 0.3761 - Decoder_fine_loss: 6.5383 - Fine_prediction_output_layer_accuracy: 0.9191\n",
      "Epoch 68: val_loss did not improve from 0.63983\n",
      "1018/1018 [==============================] - 475s 459ms/step - loss: 0.3792 - Fine_prediction_output_layer_loss: 0.3761 - Decoder_fine_loss: 6.5383 - Fine_prediction_output_layer_accuracy: 0.9191 - val_loss: 0.6771 - val_Fine_prediction_output_layer_loss: 0.6742 - val_Decoder_fine_loss: 6.5617 - val_Fine_prediction_output_layer_accuracy: 0.0473 - lr: 3.2172e-05\n",
      "Epoch 69/100\n",
      "1018/1018 [==============================] - ETA: 0s - loss: 0.3776 - Fine_prediction_output_layer_loss: 0.3745 - Decoder_fine_loss: 6.5321 - Fine_prediction_output_layer_accuracy: 0.9220\n",
      "Epoch 69: val_loss did not improve from 0.63983\n",
      "1018/1018 [==============================] - 475s 459ms/step - loss: 0.3776 - Fine_prediction_output_layer_loss: 0.3745 - Decoder_fine_loss: 6.5321 - Fine_prediction_output_layer_accuracy: 0.9220 - val_loss: 0.6776 - val_Fine_prediction_output_layer_loss: 0.6747 - val_Decoder_fine_loss: 6.5641 - val_Fine_prediction_output_layer_accuracy: 0.0460 - lr: 3.0564e-05\n",
      "Epoch 70/100\n",
      "1018/1018 [==============================] - ETA: 0s - loss: 0.3770 - Fine_prediction_output_layer_loss: 0.3740 - Decoder_fine_loss: 6.5309 - Fine_prediction_output_layer_accuracy: 0.9251\n",
      "Epoch 70: val_loss did not improve from 0.63983\n",
      "1018/1018 [==============================] - 475s 459ms/step - loss: 0.3770 - Fine_prediction_output_layer_loss: 0.3740 - Decoder_fine_loss: 6.5309 - Fine_prediction_output_layer_accuracy: 0.9251 - val_loss: 0.6783 - val_Fine_prediction_output_layer_loss: 0.6753 - val_Decoder_fine_loss: 6.5676 - val_Fine_prediction_output_layer_accuracy: 0.0450 - lr: 2.9035e-05\n",
      "Epoch 71/100\n",
      "1018/1018 [==============================] - ETA: 0s - loss: 0.3733 - Fine_prediction_output_layer_loss: 0.3702 - Decoder_fine_loss: 6.5321 - Fine_prediction_output_layer_accuracy: 0.9260\n",
      "Epoch 71: val_loss did not improve from 0.63983\n",
      "1018/1018 [==============================] - 474s 458ms/step - loss: 0.3733 - Fine_prediction_output_layer_loss: 0.3702 - Decoder_fine_loss: 6.5321 - Fine_prediction_output_layer_accuracy: 0.9260 - val_loss: 0.6783 - val_Fine_prediction_output_layer_loss: 0.6754 - val_Decoder_fine_loss: 6.5641 - val_Fine_prediction_output_layer_accuracy: 0.0463 - lr: 2.7584e-05\n",
      "Epoch 72/100\n",
      "1018/1018 [==============================] - ETA: 0s - loss: 0.3726 - Fine_prediction_output_layer_loss: 0.3695 - Decoder_fine_loss: 6.5297 - Fine_prediction_output_layer_accuracy: 0.9296\n",
      "Epoch 72: val_loss did not improve from 0.63983\n",
      "1018/1018 [==============================] - 475s 459ms/step - loss: 0.3726 - Fine_prediction_output_layer_loss: 0.3695 - Decoder_fine_loss: 6.5297 - Fine_prediction_output_layer_accuracy: 0.9296 - val_loss: 0.6784 - val_Fine_prediction_output_layer_loss: 0.6755 - val_Decoder_fine_loss: 6.5663 - val_Fine_prediction_output_layer_accuracy: 0.0473 - lr: 2.6205e-05\n",
      "Epoch 73/100\n",
      "1018/1018 [==============================] - ETA: 0s - loss: 0.3709 - Fine_prediction_output_layer_loss: 0.3678 - Decoder_fine_loss: 6.5265 - Fine_prediction_output_layer_accuracy: 0.9261\n",
      "Epoch 73: val_loss did not improve from 0.63983\n",
      "1018/1018 [==============================] - 475s 459ms/step - loss: 0.3709 - Fine_prediction_output_layer_loss: 0.3678 - Decoder_fine_loss: 6.5265 - Fine_prediction_output_layer_accuracy: 0.9261 - val_loss: 0.6789 - val_Fine_prediction_output_layer_loss: 0.6760 - val_Decoder_fine_loss: 6.5619 - val_Fine_prediction_output_layer_accuracy: 0.0465 - lr: 2.4894e-05\n",
      "Epoch 74/100\n",
      "1018/1018 [==============================] - ETA: 0s - loss: 0.3676 - Fine_prediction_output_layer_loss: 0.3645 - Decoder_fine_loss: 6.5274 - Fine_prediction_output_layer_accuracy: 0.9346\n",
      "Epoch 74: val_loss did not improve from 0.63983\n",
      "1018/1018 [==============================] - 474s 458ms/step - loss: 0.3676 - Fine_prediction_output_layer_loss: 0.3645 - Decoder_fine_loss: 6.5274 - Fine_prediction_output_layer_accuracy: 0.9346 - val_loss: 0.6793 - val_Fine_prediction_output_layer_loss: 0.6764 - val_Decoder_fine_loss: 6.5640 - val_Fine_prediction_output_layer_accuracy: 0.0448 - lr: 2.3650e-05\n",
      "Epoch 75/100\n",
      "1018/1018 [==============================] - ETA: 0s - loss: 0.3682 - Fine_prediction_output_layer_loss: 0.3651 - Decoder_fine_loss: 6.5256 - Fine_prediction_output_layer_accuracy: 0.9276\n",
      "Epoch 75: val_loss did not improve from 0.63983\n",
      "1018/1018 [==============================] - 474s 458ms/step - loss: 0.3682 - Fine_prediction_output_layer_loss: 0.3651 - Decoder_fine_loss: 6.5256 - Fine_prediction_output_layer_accuracy: 0.9276 - val_loss: 0.6795 - val_Fine_prediction_output_layer_loss: 0.6766 - val_Decoder_fine_loss: 6.5600 - val_Fine_prediction_output_layer_accuracy: 0.0455 - lr: 2.2467e-05\n",
      "Epoch 76/100\n",
      "1018/1018 [==============================] - ETA: 0s - loss: 0.3662 - Fine_prediction_output_layer_loss: 0.3631 - Decoder_fine_loss: 6.5314 - Fine_prediction_output_layer_accuracy: 0.9287\n",
      "Epoch 76: val_loss did not improve from 0.63983\n",
      "1018/1018 [==============================] - 474s 458ms/step - loss: 0.3662 - Fine_prediction_output_layer_loss: 0.3631 - Decoder_fine_loss: 6.5314 - Fine_prediction_output_layer_accuracy: 0.9287 - val_loss: 0.6796 - val_Fine_prediction_output_layer_loss: 0.6767 - val_Decoder_fine_loss: 6.5628 - val_Fine_prediction_output_layer_accuracy: 0.0458 - lr: 2.1344e-05\n",
      "Epoch 77/100\n",
      "1018/1018 [==============================] - ETA: 0s - loss: 0.3646 - Fine_prediction_output_layer_loss: 0.3615 - Decoder_fine_loss: 6.5177 - Fine_prediction_output_layer_accuracy: 0.9314\n",
      "Epoch 77: val_loss did not improve from 0.63983\n",
      "1018/1018 [==============================] - 473s 458ms/step - loss: 0.3646 - Fine_prediction_output_layer_loss: 0.3615 - Decoder_fine_loss: 6.5177 - Fine_prediction_output_layer_accuracy: 0.9314 - val_loss: 0.6795 - val_Fine_prediction_output_layer_loss: 0.6766 - val_Decoder_fine_loss: 6.5628 - val_Fine_prediction_output_layer_accuracy: 0.0453 - lr: 2.0277e-05\n",
      "Epoch 78/100\n",
      "1018/1018 [==============================] - ETA: 0s - loss: 0.3633 - Fine_prediction_output_layer_loss: 0.3602 - Decoder_fine_loss: 6.5197 - Fine_prediction_output_layer_accuracy: 0.9310\n",
      "Epoch 78: val_loss did not improve from 0.63983\n",
      "1018/1018 [==============================] - 474s 458ms/step - loss: 0.3633 - Fine_prediction_output_layer_loss: 0.3602 - Decoder_fine_loss: 6.5197 - Fine_prediction_output_layer_accuracy: 0.9310 - val_loss: 0.6799 - val_Fine_prediction_output_layer_loss: 0.6770 - val_Decoder_fine_loss: 6.5644 - val_Fine_prediction_output_layer_accuracy: 0.0463 - lr: 1.9263e-05\n",
      "Epoch 79/100\n",
      "1018/1018 [==============================] - ETA: 0s - loss: 0.3612 - Fine_prediction_output_layer_loss: 0.3581 - Decoder_fine_loss: 6.5147 - Fine_prediction_output_layer_accuracy: 0.9306\n",
      "Epoch 79: val_loss did not improve from 0.63983\n",
      "1018/1018 [==============================] - 473s 458ms/step - loss: 0.3612 - Fine_prediction_output_layer_loss: 0.3581 - Decoder_fine_loss: 6.5147 - Fine_prediction_output_layer_accuracy: 0.9306 - val_loss: 0.6802 - val_Fine_prediction_output_layer_loss: 0.6772 - val_Decoder_fine_loss: 6.5624 - val_Fine_prediction_output_layer_accuracy: 0.0455 - lr: 1.8300e-05\n",
      "Epoch 80/100\n",
      "1018/1018 [==============================] - ETA: 0s - loss: 0.3612 - Fine_prediction_output_layer_loss: 0.3582 - Decoder_fine_loss: 6.5239 - Fine_prediction_output_layer_accuracy: 0.9290\n",
      "Epoch 80: val_loss did not improve from 0.63983\n",
      "1018/1018 [==============================] - 473s 458ms/step - loss: 0.3612 - Fine_prediction_output_layer_loss: 0.3582 - Decoder_fine_loss: 6.5239 - Fine_prediction_output_layer_accuracy: 0.9290 - val_loss: 0.6803 - val_Fine_prediction_output_layer_loss: 0.6774 - val_Decoder_fine_loss: 6.5658 - val_Fine_prediction_output_layer_accuracy: 0.0453 - lr: 1.7385e-05\n"
     ]
    },
    {
     "name": "stdout",
     "output_type": "stream",
     "text": [
      "Epoch 81/100\n",
      "1018/1018 [==============================] - ETA: 0s - loss: 0.3598 - Fine_prediction_output_layer_loss: 0.3567 - Decoder_fine_loss: 6.5236 - Fine_prediction_output_layer_accuracy: 0.9361\n",
      "Epoch 81: val_loss did not improve from 0.63983\n",
      "1018/1018 [==============================] - 473s 458ms/step - loss: 0.3598 - Fine_prediction_output_layer_loss: 0.3567 - Decoder_fine_loss: 6.5236 - Fine_prediction_output_layer_accuracy: 0.9361 - val_loss: 0.6806 - val_Fine_prediction_output_layer_loss: 0.6776 - val_Decoder_fine_loss: 6.5663 - val_Fine_prediction_output_layer_accuracy: 0.0458 - lr: 1.6515e-05\n",
      "Epoch 82/100\n",
      "1018/1018 [==============================] - ETA: 0s - loss: 0.3600 - Fine_prediction_output_layer_loss: 0.3569 - Decoder_fine_loss: 6.5279 - Fine_prediction_output_layer_accuracy: 0.9323\n",
      "Epoch 82: val_loss did not improve from 0.63983\n",
      "1018/1018 [==============================] - 473s 457ms/step - loss: 0.3600 - Fine_prediction_output_layer_loss: 0.3569 - Decoder_fine_loss: 6.5279 - Fine_prediction_output_layer_accuracy: 0.9323 - val_loss: 0.6806 - val_Fine_prediction_output_layer_loss: 0.6777 - val_Decoder_fine_loss: 6.5619 - val_Fine_prediction_output_layer_accuracy: 0.0460 - lr: 1.5690e-05\n",
      "Epoch 83/100\n",
      "1018/1018 [==============================] - ETA: 0s - loss: 0.3585 - Fine_prediction_output_layer_loss: 0.3554 - Decoder_fine_loss: 6.5097 - Fine_prediction_output_layer_accuracy: 0.9325\n",
      "Epoch 83: val_loss did not improve from 0.63983\n",
      "1018/1018 [==============================] - 474s 457ms/step - loss: 0.3585 - Fine_prediction_output_layer_loss: 0.3554 - Decoder_fine_loss: 6.5097 - Fine_prediction_output_layer_accuracy: 0.9325 - val_loss: 0.6809 - val_Fine_prediction_output_layer_loss: 0.6779 - val_Decoder_fine_loss: 6.5634 - val_Fine_prediction_output_layer_accuracy: 0.0443 - lr: 1.4905e-05\n",
      "Epoch 84/100\n",
      "1018/1018 [==============================] - ETA: 0s - loss: 0.3577 - Fine_prediction_output_layer_loss: 0.3546 - Decoder_fine_loss: 6.5229 - Fine_prediction_output_layer_accuracy: 0.9358\n",
      "Epoch 84: val_loss did not improve from 0.63983\n",
      "1018/1018 [==============================] - 474s 458ms/step - loss: 0.3577 - Fine_prediction_output_layer_loss: 0.3546 - Decoder_fine_loss: 6.5229 - Fine_prediction_output_layer_accuracy: 0.9358 - val_loss: 0.6809 - val_Fine_prediction_output_layer_loss: 0.6780 - val_Decoder_fine_loss: 6.5634 - val_Fine_prediction_output_layer_accuracy: 0.0453 - lr: 1.4160e-05\n",
      "Epoch 85/100\n",
      "1018/1018 [==============================] - ETA: 0s - loss: 0.3562 - Fine_prediction_output_layer_loss: 0.3531 - Decoder_fine_loss: 6.5173 - Fine_prediction_output_layer_accuracy: 0.9353\n",
      "Epoch 85: val_loss did not improve from 0.63983\n",
      "1018/1018 [==============================] - 474s 458ms/step - loss: 0.3562 - Fine_prediction_output_layer_loss: 0.3531 - Decoder_fine_loss: 6.5173 - Fine_prediction_output_layer_accuracy: 0.9353 - val_loss: 0.6811 - val_Fine_prediction_output_layer_loss: 0.6782 - val_Decoder_fine_loss: 6.5624 - val_Fine_prediction_output_layer_accuracy: 0.0443 - lr: 1.3452e-05\n",
      "Epoch 86/100\n",
      "1018/1018 [==============================] - ETA: 0s - loss: 0.3550 - Fine_prediction_output_layer_loss: 0.3519 - Decoder_fine_loss: 6.5225 - Fine_prediction_output_layer_accuracy: 0.9420\n",
      "Epoch 86: val_loss did not improve from 0.63983\n",
      "1018/1018 [==============================] - 473s 458ms/step - loss: 0.3550 - Fine_prediction_output_layer_loss: 0.3519 - Decoder_fine_loss: 6.5225 - Fine_prediction_output_layer_accuracy: 0.9420 - val_loss: 0.6814 - val_Fine_prediction_output_layer_loss: 0.6784 - val_Decoder_fine_loss: 6.5639 - val_Fine_prediction_output_layer_accuracy: 0.0453 - lr: 1.2779e-05\n",
      "Epoch 87/100\n",
      "1018/1018 [==============================] - ETA: 0s - loss: 0.3568 - Fine_prediction_output_layer_loss: 0.3537 - Decoder_fine_loss: 6.5171 - Fine_prediction_output_layer_accuracy: 0.9325\n",
      "Epoch 87: val_loss did not improve from 0.63983\n",
      "1018/1018 [==============================] - 474s 458ms/step - loss: 0.3568 - Fine_prediction_output_layer_loss: 0.3537 - Decoder_fine_loss: 6.5171 - Fine_prediction_output_layer_accuracy: 0.9325 - val_loss: 0.6814 - val_Fine_prediction_output_layer_loss: 0.6784 - val_Decoder_fine_loss: 6.5658 - val_Fine_prediction_output_layer_accuracy: 0.0463 - lr: 1.2140e-05\n",
      "Epoch 88/100\n",
      "1018/1018 [==============================] - ETA: 0s - loss: 0.3564 - Fine_prediction_output_layer_loss: 0.3533 - Decoder_fine_loss: 6.5149 - Fine_prediction_output_layer_accuracy: 0.9391\n",
      "Epoch 88: val_loss did not improve from 0.63983\n",
      "1018/1018 [==============================] - 474s 458ms/step - loss: 0.3564 - Fine_prediction_output_layer_loss: 0.3533 - Decoder_fine_loss: 6.5149 - Fine_prediction_output_layer_accuracy: 0.9391 - val_loss: 0.6815 - val_Fine_prediction_output_layer_loss: 0.6786 - val_Decoder_fine_loss: 6.5623 - val_Fine_prediction_output_layer_accuracy: 0.0450 - lr: 1.1533e-05\n",
      "Epoch 89/100\n",
      "1018/1018 [==============================] - ETA: 0s - loss: 0.3532 - Fine_prediction_output_layer_loss: 0.3501 - Decoder_fine_loss: 6.5081 - Fine_prediction_output_layer_accuracy: 0.9401\n",
      "Epoch 89: val_loss did not improve from 0.63983\n",
      "1018/1018 [==============================] - 474s 458ms/step - loss: 0.3532 - Fine_prediction_output_layer_loss: 0.3501 - Decoder_fine_loss: 6.5081 - Fine_prediction_output_layer_accuracy: 0.9401 - val_loss: 0.6815 - val_Fine_prediction_output_layer_loss: 0.6786 - val_Decoder_fine_loss: 6.5631 - val_Fine_prediction_output_layer_accuracy: 0.0458 - lr: 1.0957e-05\n",
      "Epoch 90/100\n",
      "1018/1018 [==============================] - ETA: 0s - loss: 0.3535 - Fine_prediction_output_layer_loss: 0.3504 - Decoder_fine_loss: 6.5143 - Fine_prediction_output_layer_accuracy: 0.9396\n",
      "Epoch 90: val_loss did not improve from 0.63983\n",
      "1018/1018 [==============================] - 474s 458ms/step - loss: 0.3535 - Fine_prediction_output_layer_loss: 0.3504 - Decoder_fine_loss: 6.5143 - Fine_prediction_output_layer_accuracy: 0.9396 - val_loss: 0.6818 - val_Fine_prediction_output_layer_loss: 0.6789 - val_Decoder_fine_loss: 6.5616 - val_Fine_prediction_output_layer_accuracy: 0.0455 - lr: 1.0409e-05\n",
      "Epoch 91/100\n",
      "1018/1018 [==============================] - ETA: 0s - loss: 0.3516 - Fine_prediction_output_layer_loss: 0.3486 - Decoder_fine_loss: 6.5122 - Fine_prediction_output_layer_accuracy: 0.9365\n",
      "Epoch 91: val_loss did not improve from 0.63983\n",
      "1018/1018 [==============================] - 474s 458ms/step - loss: 0.3516 - Fine_prediction_output_layer_loss: 0.3486 - Decoder_fine_loss: 6.5122 - Fine_prediction_output_layer_accuracy: 0.9365 - val_loss: 0.6818 - val_Fine_prediction_output_layer_loss: 0.6788 - val_Decoder_fine_loss: 6.5614 - val_Fine_prediction_output_layer_accuracy: 0.0443 - lr: 9.8884e-06\n",
      "Epoch 92/100\n",
      "1018/1018 [==============================] - ETA: 0s - loss: 0.3535 - Fine_prediction_output_layer_loss: 0.3505 - Decoder_fine_loss: 6.5145 - Fine_prediction_output_layer_accuracy: 0.9363\n",
      "Epoch 92: val_loss did not improve from 0.63983\n",
      "1018/1018 [==============================] - 473s 458ms/step - loss: 0.3535 - Fine_prediction_output_layer_loss: 0.3505 - Decoder_fine_loss: 6.5145 - Fine_prediction_output_layer_accuracy: 0.9363 - val_loss: 0.6821 - val_Fine_prediction_output_layer_loss: 0.6791 - val_Decoder_fine_loss: 6.5625 - val_Fine_prediction_output_layer_accuracy: 0.0438 - lr: 9.3939e-06\n",
      "Epoch 93/100\n",
      "1018/1018 [==============================] - ETA: 0s - loss: 0.3516 - Fine_prediction_output_layer_loss: 0.3485 - Decoder_fine_loss: 6.5187 - Fine_prediction_output_layer_accuracy: 0.9395\n",
      "Epoch 93: val_loss did not improve from 0.63983\n",
      "1018/1018 [==============================] - 474s 458ms/step - loss: 0.3516 - Fine_prediction_output_layer_loss: 0.3485 - Decoder_fine_loss: 6.5187 - Fine_prediction_output_layer_accuracy: 0.9395 - val_loss: 0.6819 - val_Fine_prediction_output_layer_loss: 0.6790 - val_Decoder_fine_loss: 6.5619 - val_Fine_prediction_output_layer_accuracy: 0.0463 - lr: 8.9242e-06\n",
      "Epoch 94/100\n",
      "1018/1018 [==============================] - ETA: 0s - loss: 0.3506 - Fine_prediction_output_layer_loss: 0.3475 - Decoder_fine_loss: 6.5084 - Fine_prediction_output_layer_accuracy: 0.9392\n",
      "Epoch 94: val_loss did not improve from 0.63983\n"
     ]
    },
    {
     "name": "stdout",
     "output_type": "stream",
     "text": [
      "1018/1018 [==============================] - 474s 458ms/step - loss: 0.3506 - Fine_prediction_output_layer_loss: 0.3475 - Decoder_fine_loss: 6.5084 - Fine_prediction_output_layer_accuracy: 0.9392 - val_loss: 0.6819 - val_Fine_prediction_output_layer_loss: 0.6789 - val_Decoder_fine_loss: 6.5631 - val_Fine_prediction_output_layer_accuracy: 0.0460 - lr: 8.4780e-06\n",
      "Epoch 95/100\n",
      "1018/1018 [==============================] - ETA: 0s - loss: 0.3499 - Fine_prediction_output_layer_loss: 0.3468 - Decoder_fine_loss: 6.5145 - Fine_prediction_output_layer_accuracy: 0.9428\n",
      "Epoch 95: val_loss did not improve from 0.63983\n",
      "1018/1018 [==============================] - 474s 458ms/step - loss: 0.3499 - Fine_prediction_output_layer_loss: 0.3468 - Decoder_fine_loss: 6.5145 - Fine_prediction_output_layer_accuracy: 0.9428 - val_loss: 0.6818 - val_Fine_prediction_output_layer_loss: 0.6789 - val_Decoder_fine_loss: 6.5617 - val_Fine_prediction_output_layer_accuracy: 0.0448 - lr: 8.0541e-06\n",
      "Epoch 96/100\n",
      "1018/1018 [==============================] - ETA: 0s - loss: 0.3493 - Fine_prediction_output_layer_loss: 0.3462 - Decoder_fine_loss: 6.5080 - Fine_prediction_output_layer_accuracy: 0.9326\n",
      "Epoch 96: val_loss did not improve from 0.63983\n",
      "1018/1018 [==============================] - 474s 458ms/step - loss: 0.3493 - Fine_prediction_output_layer_loss: 0.3462 - Decoder_fine_loss: 6.5080 - Fine_prediction_output_layer_accuracy: 0.9326 - val_loss: 0.6819 - val_Fine_prediction_output_layer_loss: 0.6790 - val_Decoder_fine_loss: 6.5625 - val_Fine_prediction_output_layer_accuracy: 0.0448 - lr: 7.6514e-06\n",
      "Epoch 97/100\n",
      "1018/1018 [==============================] - ETA: 0s - loss: 0.3513 - Fine_prediction_output_layer_loss: 0.3483 - Decoder_fine_loss: 6.5129 - Fine_prediction_output_layer_accuracy: 0.9396\n",
      "Epoch 97: val_loss did not improve from 0.63983\n",
      "1018/1018 [==============================] - 474s 458ms/step - loss: 0.3513 - Fine_prediction_output_layer_loss: 0.3483 - Decoder_fine_loss: 6.5129 - Fine_prediction_output_layer_accuracy: 0.9396 - val_loss: 0.6822 - val_Fine_prediction_output_layer_loss: 0.6792 - val_Decoder_fine_loss: 6.5617 - val_Fine_prediction_output_layer_accuracy: 0.0458 - lr: 7.2689e-06\n",
      "Epoch 98/100\n",
      "1018/1018 [==============================] - ETA: 0s - loss: 0.3506 - Fine_prediction_output_layer_loss: 0.3475 - Decoder_fine_loss: 6.5241 - Fine_prediction_output_layer_accuracy: 0.9392\n",
      "Epoch 98: val_loss did not improve from 0.63983\n",
      "1018/1018 [==============================] - 473s 457ms/step - loss: 0.3506 - Fine_prediction_output_layer_loss: 0.3475 - Decoder_fine_loss: 6.5241 - Fine_prediction_output_layer_accuracy: 0.9392 - val_loss: 0.6824 - val_Fine_prediction_output_layer_loss: 0.6794 - val_Decoder_fine_loss: 6.5609 - val_Fine_prediction_output_layer_accuracy: 0.0450 - lr: 6.9054e-06\n",
      "Epoch 99/100\n",
      "1018/1018 [==============================] - ETA: 0s - loss: 0.3516 - Fine_prediction_output_layer_loss: 0.3485 - Decoder_fine_loss: 6.5196 - Fine_prediction_output_layer_accuracy: 0.9370\n",
      "Epoch 99: val_loss did not improve from 0.63983\n",
      "1018/1018 [==============================] - 473s 457ms/step - loss: 0.3516 - Fine_prediction_output_layer_loss: 0.3485 - Decoder_fine_loss: 6.5196 - Fine_prediction_output_layer_accuracy: 0.9370 - val_loss: 0.6825 - val_Fine_prediction_output_layer_loss: 0.6795 - val_Decoder_fine_loss: 6.5615 - val_Fine_prediction_output_layer_accuracy: 0.0465 - lr: 6.5601e-06\n",
      "Epoch 100/100\n",
      "1018/1018 [==============================] - ETA: 0s - loss: 0.3512 - Fine_prediction_output_layer_loss: 0.3481 - Decoder_fine_loss: 6.5122 - Fine_prediction_output_layer_accuracy: 0.9375\n",
      "Epoch 100: val_loss did not improve from 0.63983\n",
      "1018/1018 [==============================] - 473s 457ms/step - loss: 0.3512 - Fine_prediction_output_layer_loss: 0.3481 - Decoder_fine_loss: 6.5122 - Fine_prediction_output_layer_accuracy: 0.9375 - val_loss: 0.6823 - val_Fine_prediction_output_layer_loss: 0.6794 - val_Decoder_fine_loss: 6.5637 - val_Fine_prediction_output_layer_accuracy: 0.0458 - lr: 6.2321e-06\n",
      "Trained model saved to =  ./logs/CapsNet/Flat_Classification/trained_model.h5\n"
     ]
    }
   ],
   "source": [
    "history = model.fit(training_dataset_match,\n",
    "                    batch_size = train_params[\"batch_size\"],\n",
    "                    epochs = train_params[\"n_epochs\"],\n",
    "                    validation_data = val_dataset_match,\n",
    "                    callbacks =[tb, log, checkpoint, lr_decay],\n",
    "                    verbose=\"auto\")\n",
    "\n",
    "model_save_dir = str(directory+'/trained_model.h5')\n",
    "\n",
    "model.save_weights(model_save_dir)\n",
    "print('Trained model saved to = ', model_save_dir)"
   ]
  },
  {
   "cell_type": "code",
   "execution_count": 23,
   "metadata": {
    "scrolled": true
   },
   "outputs": [
    {
     "name": "stdout",
     "output_type": "stream",
     "text": [
      "\u001b[91m \u001b[1m \n",
      "==> Parameters in history =  \u001b[0m\n",
      "1 --> loss\n",
      "2 --> Fine_prediction_output_layer_loss\n",
      "3 --> Decoder_fine_loss\n",
      "4 --> Fine_prediction_output_layer_accuracy\n",
      "5 --> val_loss\n",
      "6 --> val_Fine_prediction_output_layer_loss\n",
      "7 --> val_Decoder_fine_loss\n",
      "8 --> val_Fine_prediction_output_layer_accuracy\n",
      "9 --> lr\n"
     ]
    }
   ],
   "source": [
    "history_dict = history.history\n",
    "# history_dict.keys()\n",
    "n=1\n",
    "print('\\033[91m','\\033[1m',\"\\n==>\",\"Parameters in history = \", '\\033[0m')\n",
    "for key, value in history_dict.items():\n",
    "    print(n, \"-->\", key)\n",
    "    n+=1\n",
    "    \n",
    "# print('\\033[91m','\\033[1m',\"\\n==>\",\"Parameters and values in history = \", '\\033[0m')\n",
    "# n=1\n",
    "# print('\\n\\nVALUE of the key parameters')\n",
    "# for key, value in history_dict.items():\n",
    "#     print(n, \"-->\", key, ' : ', value)\n",
    "#     n+=1"
   ]
  },
  {
   "cell_type": "code",
   "execution_count": 24,
   "metadata": {},
   "outputs": [
    {
     "data": {
      "image/png": "[encoded data removed]",
      "text/plain": [
       "<Figure size 432x288 with 1 Axes>"
      ]
     },
     "metadata": {
      "needs_background": "light"
     },
     "output_type": "display_data"
    },
    {
     "data": {
      "image/png": "[encoded data removed]",
      "text/plain": [
       "<Figure size 432x288 with 1 Axes>"
      ]
     },
     "metadata": {
      "needs_background": "light"
     },
     "output_type": "display_data"
    }
   ],
   "source": [
    "acc = history_dict['Fine_prediction_output_layer_accuracy']\n",
    "val_acc = history_dict['val_Fine_prediction_output_layer_accuracy']\n",
    "loss = history_dict['loss']\n",
    "val_loss = history_dict['val_loss']\n",
    "\n",
    "epochs = range(1, len(acc) + 1)\n",
    "\n",
    "# \"bo\" is for \"blue dot\"\n",
    "plt.plot(epochs, loss, 'bo', label='Training loss')\n",
    "# b is for \"solid blue line\"\n",
    "plt.plot(epochs, val_loss, 'b', label='Validation loss')\n",
    "plt.title('Training and validation loss')\n",
    "plt.xlabel('Epochs')\n",
    "plt.ylabel('Loss')\n",
    "plt.legend()\n",
    "\n",
    "plt.show()\n",
    "\n",
    "plt.plot(epochs, acc, 'bo', label='Training acc')\n",
    "plt.plot(epochs, val_acc, 'b', label='Validation acc')\n",
    "plt.title('Training and validation accuracy')\n",
    "plt.xlabel('Epochs')\n",
    "plt.ylabel('Accuracy')\n",
    "plt.legend(loc='lower right')\n",
    "\n",
    "plt.show()"
   ]
  },
  {
   "cell_type": "markdown",
   "metadata": {},
   "source": [
    "# Model evaluate"
   ]
  },
  {
   "cell_type": "code",
   "execution_count": 25,
   "metadata": {},
   "outputs": [
    {
     "name": "stdout",
     "output_type": "stream",
     "text": [
      "['loss', 'Fine_prediction_output_layer_loss', 'Decoder_fine_loss', 'Fine_prediction_output_layer_accuracy']\n"
     ]
    }
   ],
   "source": [
    "print(model.metrics_names)"
   ]
  },
  {
   "cell_type": "code",
   "execution_count": 26,
   "metadata": {
    "colab": {},
    "colab_type": "code",
    "id": "4Jr8-7E3IphF",
    "scrolled": true
   },
   "outputs": [
    {
     "name": "stdout",
     "output_type": "stream",
     "text": [
      "503/503 [==============================] - 64s 127ms/step - loss: 0.6823 - Fine_prediction_output_layer_loss: 0.6794 - Decoder_fine_loss: 6.5639 - Fine_prediction_output_layer_accuracy: 0.0458\n"
     ]
    }
   ],
   "source": [
    "results = model.evaluate(test_dataset_match,\n",
    "                         verbose=1)"
   ]
  },
  {
   "cell_type": "code",
   "execution_count": 27,
   "metadata": {},
   "outputs": [
    {
     "name": "stdout",
     "output_type": "stream",
     "text": [
      "1 _ loss ==> 0.6823246479034424 \n",
      "\n",
      "2 _ Fine_prediction_output_layer_loss ==> 0.6793820261955261 \n",
      "\n",
      "3 _ Decoder_fine_loss ==> 6.563859939575195 \n",
      "\n",
      "4 _ Fine_prediction_output_layer_accuracy ==> 0.04575975984334946 \n",
      "\n"
     ]
    }
   ],
   "source": [
    "for n in range(len(results)):\n",
    "    print(n+1,'_',model.metrics_names[n], '==>', results[n],'\\n')"
   ]
  },
  {
   "cell_type": "markdown",
   "metadata": {},
   "source": [
    "# Model Prediction"
   ]
  },
  {
   "cell_type": "code",
   "execution_count": 28,
   "metadata": {},
   "outputs": [
    {
     "name": "stdout",
     "output_type": "stream",
     "text": [
      "503/503 [==============================] - 63s 123ms/step\n"
     ]
    }
   ],
   "source": [
    "predictions = model.predict(test_dataset_match,\n",
    "                            verbose=1\n",
    "                           )"
   ]
  },
  {
   "cell_type": "code",
   "execution_count": 29,
   "metadata": {},
   "outputs": [
    {
     "name": "stdout",
     "output_type": "stream",
     "text": [
      "\u001b[91m \u001b[1m \n",
      "Model prediction array shape: \u001b[0m\n",
      "predictions[0]: (4021, 196)\n",
      "predictions[1]: (4021, 64, 64, 3)\n"
     ]
    }
   ],
   "source": [
    "print('\\033[91m','\\033[1m',\"\\nModel prediction array shape:\", '\\033[0m')\n",
    "for n in range(len(predictions)):\n",
    "    print(\"predictions[{0}]:\".format(n), predictions[n].shape)"
   ]
  },
  {
   "cell_type": "markdown",
   "metadata": {},
   "source": [
    "# Analysis"
   ]
  },
  {
   "cell_type": "code",
   "execution_count": 30,
   "metadata": {},
   "outputs": [],
   "source": [
    "def predict_from_pipeline(model, dataset):\n",
    "    y_pred = []\n",
    "    y_true = []\n",
    "    for x, y in dataset:\n",
    "        batch_pred = model.predict(x)\n",
    "        for i in range(len(batch_pred)):\n",
    "            if i >= len(y_pred):\n",
    "                y_pred.append(None)\n",
    "                y_true.append(None)\n",
    "            if y_pred[i] is None:\n",
    "                y_pred[i] = batch_pred[i]\n",
    "                y_true[i] = list(y[i].numpy())\n",
    "            else:\n",
    "                y_pred[i] = np.concatenate([y_pred[i], batch_pred[i]])\n",
    "                y_true[i] = y_true[i] + list(y[i].numpy())\n",
    "    return y_true, y_pred"
   ]
  },
  {
   "cell_type": "code",
   "execution_count": 31,
   "metadata": {},
   "outputs": [],
   "source": [
    "pred = []\n",
    "pred.append(predict_from_pipeline(model, test_dataset_match))"
   ]
  },
  {
   "cell_type": "code",
   "execution_count": 32,
   "metadata": {},
   "outputs": [],
   "source": [
    "y_true = pred[0][0]\n",
    "y_pred = pred[0][1]\n",
    "\n",
    "y_true_fine, image = y_true[0], y_true[1]\n",
    "y_pred_fine, image_recon = y_pred[0], y_pred[1]"
   ]
  },
  {
   "cell_type": "code",
   "execution_count": 33,
   "metadata": {},
   "outputs": [],
   "source": [
    "true_label = [y_true_fine,y_true_fine]\n",
    "pred_label = [y_pred_fine,y_pred_fine]"
   ]
  },
  {
   "cell_type": "code",
   "execution_count": 34,
   "metadata": {},
   "outputs": [
    {
     "name": "stdout",
     "output_type": "stream",
     "text": [
      "\u001b[91m \u001b[1m • Confusion_Matrix \u001b[0m\n",
      "\n",
      "\u001b[91m \u001b[1m • COARSE LEVEL \u001b[0m\n",
      "[[5 0 0 ... 0 0 0]\n",
      " [0 0 1 ... 0 0 0]\n",
      " [0 1 0 ... 0 0 0]\n",
      " ...\n",
      " [0 0 1 ... 0 0 0]\n",
      " [0 0 0 ... 0 0 0]\n",
      " [0 0 0 ... 0 0 2]]\n",
      "\n",
      "\u001b[91m \u001b[1m • FINE LEVEL \u001b[0m\n",
      "[[5 0 0 ... 0 0 0]\n",
      " [0 0 1 ... 0 0 0]\n",
      " [0 1 0 ... 0 0 0]\n",
      " ...\n",
      " [0 0 1 ... 0 0 0]\n",
      " [0 0 0 ... 0 0 0]\n",
      " [0 0 0 ... 0 0 2]]\n",
      "\n",
      "\u001b[91m \u001b[1m • Classification Report \u001b[0m\n",
      "\n",
      "\n",
      "\u001b[91m \u001b[1m • COARSE LEVEL \u001b[0m\n"
     ]
    },
    {
     "data": {
      "image/png": "[encoded data removed]",
      "text/plain": [
       "<Figure size 432x288 with 2 Axes>"
      ]
     },
     "metadata": {
      "needs_background": "light"
     },
     "output_type": "display_data"
    },
    {
     "name": "stdout",
     "output_type": "stream",
     "text": [
      "              precision    recall  f1-score   support\n",
      "\n",
      "           0    0.10638   0.26316   0.15152        19\n",
      "           1    0.00000   0.00000   0.00000        20\n",
      "           2    0.00000   0.00000   0.00000        21\n",
      "           3    0.00000   0.00000   0.00000        24\n",
      "           4    0.00000   0.00000   0.00000        21\n",
      "           5    0.25000   0.22222   0.23529        18\n",
      "           6    0.00000   0.00000   0.00000        19\n",
      "           7    0.00000   0.00000   0.00000        22\n",
      "           8    0.00000   0.00000   0.00000        18\n",
      "           9    0.00000   0.00000   0.00000        20\n",
      "          10    0.09524   0.08696   0.09091        23\n",
      "          11    0.00000   0.00000   0.00000        21\n",
      "          12    0.00000   0.00000   0.00000        22\n",
      "          13    0.00000   0.00000   0.00000        19\n",
      "          14    0.14286   0.04762   0.07143        21\n",
      "          15    0.00000   0.00000   0.00000        22\n",
      "          16    0.10000   0.10000   0.10000        20\n",
      "          17    0.00000   0.00000   0.00000        19\n",
      "          18    0.00000   0.00000   0.00000        23\n",
      "          19    0.08571   0.15000   0.10909        20\n",
      "          20    0.10000   0.12000   0.10909        25\n",
      "          21    0.00000   0.00000   0.00000        23\n",
      "          22    0.00000   0.00000   0.00000        19\n",
      "          23    0.00000   0.00000   0.00000        25\n",
      "          24    0.02381   0.07692   0.03636        13\n",
      "          25    0.00000   0.00000   0.00000        16\n",
      "          26    0.00000   0.00000   0.00000        17\n",
      "          27    0.18182   0.18182   0.18182        22\n",
      "          28    0.22222   0.10000   0.13793        20\n",
      "          29    0.15385   0.07143   0.09756        28\n",
      "          30    0.06250   0.04762   0.05405        21\n",
      "          31    0.00000   0.00000   0.00000        23\n",
      "          32    0.00000   0.00000   0.00000        20\n",
      "          33    0.00000   0.00000   0.00000        25\n",
      "          34    0.00000   0.00000   0.00000        18\n",
      "          35    0.00000   0.00000   0.00000        21\n",
      "          36    0.00000   0.00000   0.00000        23\n",
      "          37    0.00000   0.00000   0.00000        20\n",
      "          38    0.00000   0.00000   0.00000        13\n",
      "          39    0.00000   0.00000   0.00000        23\n",
      "          40    0.04762   0.06250   0.05405        16\n",
      "          41    0.00000   0.00000   0.00000        16\n",
      "          42    0.09091   0.08333   0.08696        24\n",
      "          43    0.00000   0.00000   0.00000        21\n",
      "          44    0.13043   0.16667   0.14634        18\n",
      "          45    0.00000   0.00000   0.00000        19\n",
      "          46    0.00000   0.00000   0.00000        22\n",
      "          47    0.00000   0.00000   0.00000        19\n",
      "          48    0.00000   0.00000   0.00000        13\n",
      "          49    0.00000   0.00000   0.00000        24\n",
      "          50    0.08333   0.11111   0.09524        18\n",
      "          51    0.00000   0.00000   0.00000        20\n",
      "          52    0.04762   0.04167   0.04444        24\n",
      "          53    0.08696   0.10526   0.09524        19\n",
      "          54    0.00000   0.00000   0.00000        19\n",
      "          55    0.00000   0.00000   0.00000        24\n",
      "          56    0.03846   0.05882   0.04651        17\n",
      "          57    0.00000   0.00000   0.00000        21\n",
      "          58    0.00000   0.00000   0.00000        18\n",
      "          59    0.12500   0.20000   0.15385        15\n",
      "          60    0.03125   0.04545   0.03704        22\n",
      "          61    0.06667   0.04762   0.05556        21\n",
      "          62    0.00000   0.00000   0.00000        27\n",
      "          63    0.09091   0.10000   0.09524        20\n",
      "          64    0.10000   0.05263   0.06897        19\n",
      "          65    0.00000   0.00000   0.00000        21\n",
      "          66    0.00000   0.00000   0.00000        18\n",
      "          67    0.00000   0.00000   0.00000        17\n",
      "          68    0.06061   0.10000   0.07547        20\n",
      "          69    0.13636   0.12000   0.12766        25\n",
      "          70    0.00000   0.00000   0.00000        20\n",
      "          71    0.00000   0.00000   0.00000        20\n",
      "          72    0.00000   0.00000   0.00000        17\n",
      "          73    0.04348   0.05556   0.04878        18\n",
      "          74    0.00000   0.00000   0.00000        22\n",
      "          75    0.10526   0.08333   0.09302        24\n",
      "          76    0.00000   0.00000   0.00000        22\n",
      "          77    0.00000   0.00000   0.00000        22\n",
      "          78    0.00000   0.00000   0.00000        24\n",
      "          79    0.00000   0.00000   0.00000        23\n",
      "          80    0.05556   0.05000   0.05263        20\n",
      "          81    0.00000   0.00000   0.00000        26\n",
      "          82    0.06667   0.05000   0.05714        20\n",
      "          83    0.00000   0.00000   0.00000        19\n",
      "          84    0.08333   0.07692   0.08000        26\n",
      "          85    0.03704   0.05882   0.04545        17\n",
      "          86    0.05000   0.04348   0.04651        23\n",
      "          87    0.20833   0.20000   0.20408        25\n",
      "          88    0.00000   0.00000   0.00000        23\n",
      "          89    0.00000   0.00000   0.00000        18\n",
      "          90    0.00000   0.00000   0.00000        14\n",
      "          91    0.15385   0.13333   0.14286        15\n",
      "          92    0.03846   0.04762   0.04255        21\n",
      "          93    0.05882   0.05556   0.05714        18\n",
      "          94    0.02941   0.11765   0.04706        17\n",
      "          95    0.00000   0.00000   0.00000        20\n",
      "          96    0.05556   0.04348   0.04878        23\n",
      "          97    0.00000   0.00000   0.00000        26\n",
      "          98    0.11765   0.12500   0.12121        16\n",
      "          99    0.12000   0.18750   0.14634        16\n",
      "         100    0.05000   0.05556   0.05263        18\n",
      "         101    0.04255   0.09091   0.05797        22\n",
      "         102    0.06383   0.17647   0.09375        17\n",
      "         103    0.11765   0.10000   0.10811        20\n",
      "         104    0.00000   0.00000   0.00000        21\n",
      "         105    0.00000   0.00000   0.00000        14\n",
      "         106    0.00000   0.00000   0.00000        25\n",
      "         107    0.09524   0.08696   0.09091        23\n",
      "         108    0.00000   0.00000   0.00000        20\n",
      "         109    0.09524   0.09091   0.09302        22\n",
      "         110    0.00000   0.00000   0.00000        16\n",
      "         111    0.00000   0.00000   0.00000        21\n",
      "         112    0.16000   0.19048   0.17391        21\n",
      "         113    0.05882   0.05556   0.05714        18\n",
      "         114    0.00000   0.00000   0.00000        25\n",
      "         115    0.13636   0.16667   0.15000        18\n",
      "         116    0.00000   0.00000   0.00000        25\n",
      "         117    0.00000   0.00000   0.00000        23\n",
      "         118    0.09333   0.22581   0.13208        31\n",
      "         119    0.00000   0.00000   0.00000        18\n",
      "         120    0.04167   0.05263   0.04651        19\n",
      "         121    0.00000   0.00000   0.00000        21\n",
      "         122    0.07500   0.13043   0.09524        23\n",
      "         123    0.08696   0.11111   0.09756        18\n",
      "         124    0.12121   0.20000   0.15094        20\n",
      "         125    0.03704   0.05000   0.04255        20\n",
      "         126    0.04348   0.05000   0.04651        20\n",
      "         127    0.08333   0.07692   0.08000        13\n",
      "         128    0.06667   0.05263   0.05882        19\n",
      "         129    0.00000   0.00000   0.00000        22\n",
      "         130    0.03704   0.04167   0.03922        24\n",
      "         131    0.00000   0.00000   0.00000        25\n",
      "         132    0.00000   0.00000   0.00000        19\n",
      "         133    0.00000   0.00000   0.00000        16\n",
      "         134    0.00000   0.00000   0.00000        22\n",
      "         135    0.00000   0.00000   0.00000        16\n",
      "         136    0.03704   0.04167   0.03922        24\n",
      "         137    0.00000   0.00000   0.00000        19\n",
      "         138    0.00000   0.00000   0.00000        16\n",
      "         139    0.06250   0.04167   0.05000        24\n",
      "         140    0.00000   0.00000   0.00000        17\n",
      "         141    0.09091   0.06250   0.07407        16\n",
      "         142    0.00000   0.00000   0.00000        24\n",
      "         143    0.00000   0.00000   0.00000        26\n",
      "         144    0.05263   0.05263   0.05263        19\n",
      "         145    0.09524   0.08333   0.08889        24\n",
      "         146    0.00000   0.00000   0.00000        25\n",
      "         147    0.00000   0.00000   0.00000        22\n",
      "         148    0.05556   0.05882   0.05714        17\n",
      "         149    0.05882   0.05263   0.05556        19\n",
      "         150    0.03125   0.04762   0.03774        21\n",
      "         151    0.23077   0.35294   0.27907        17\n",
      "         152    0.17500   0.38889   0.24138        18\n",
      "         153    0.03448   0.05263   0.04167        19\n",
      "         154    0.00000   0.00000   0.00000        19\n",
      "         155    0.00000   0.00000   0.00000        23\n",
      "         156    0.14286   0.04348   0.06667        23\n",
      "         157    0.12500   0.22222   0.16000         9\n",
      "         158    0.00000   0.00000   0.00000        20\n",
      "         159    0.09259   0.20833   0.12821        24\n",
      "         160    0.00000   0.00000   0.00000        21\n",
      "         161    0.09091   0.13333   0.10811        15\n",
      "         162    0.14286   0.10526   0.12121        19\n",
      "         163    0.00000   0.00000   0.00000        20\n",
      "         164    0.00000   0.00000   0.00000        22\n",
      "         165    0.14286   0.28571   0.19048        14\n",
      "         166    0.00000   0.00000   0.00000        25\n",
      "         167    0.08333   0.04762   0.06061        21\n",
      "         168    0.00000   0.00000   0.00000        13\n",
      "         169    0.00000   0.00000   0.00000        19\n",
      "         170    0.00000   0.00000   0.00000        22\n",
      "         171    0.15000   0.10714   0.12500        28\n",
      "         172    0.00000   0.00000   0.00000        21\n",
      "         173    0.00000   0.00000   0.00000        24\n",
      "         174    0.00000   0.00000   0.00000        13\n",
      "         175    0.06250   0.04762   0.05405        21\n",
      "         176    0.00000   0.00000   0.00000        22\n",
      "         177    0.06667   0.05882   0.06250        17\n",
      "         178    0.04878   0.09091   0.06349        22\n",
      "         179    0.08333   0.09091   0.08696        22\n",
      "         180    0.00000   0.00000   0.00000        22\n",
      "         181    0.06667   0.03333   0.04444        30\n",
      "         182    0.03125   0.04762   0.03774        21\n",
      "         183    0.00000   0.00000   0.00000        24\n",
      "         184    0.00000   0.00000   0.00000        15\n",
      "         185    0.03448   0.04545   0.03922        22\n",
      "         186    0.00000   0.00000   0.00000        22\n",
      "         187    0.11111   0.07407   0.08889        27\n",
      "         188    0.08108   0.13043   0.10000        23\n",
      "         189    0.08333   0.12500   0.10000        16\n",
      "         190    0.00000   0.00000   0.00000        27\n",
      "         191    0.00000   0.00000   0.00000        24\n",
      "         192    0.00000   0.00000   0.00000        21\n",
      "         193    0.00000   0.00000   0.00000        28\n",
      "         194    0.00000   0.00000   0.00000        22\n",
      "         195    0.09524   0.11765   0.10526        17\n",
      "\n",
      "    accuracy                        0.04576      4021\n",
      "   macro avg    0.04106   0.04768   0.04193      4021\n",
      "weighted avg    0.04054   0.04576   0.04078      4021\n",
      "\n",
      "\n",
      "\u001b[91m \u001b[1m • FINE LEVEL \u001b[0m\n"
     ]
    },
    {
     "data": {
      "image/png": "[encoded data removed]",
      "text/plain": [
       "<Figure size 432x288 with 2 Axes>"
      ]
     },
     "metadata": {
      "needs_background": "light"
     },
     "output_type": "display_data"
    },
    {
     "name": "stdout",
     "output_type": "stream",
     "text": [
      "              precision    recall  f1-score   support\n",
      "\n",
      "           0    0.10638   0.26316   0.15152        19\n",
      "           1    0.00000   0.00000   0.00000        20\n",
      "           2    0.00000   0.00000   0.00000        21\n",
      "           3    0.00000   0.00000   0.00000        24\n",
      "           4    0.00000   0.00000   0.00000        21\n",
      "           5    0.25000   0.22222   0.23529        18\n",
      "           6    0.00000   0.00000   0.00000        19\n",
      "           7    0.00000   0.00000   0.00000        22\n",
      "           8    0.00000   0.00000   0.00000        18\n",
      "           9    0.00000   0.00000   0.00000        20\n",
      "          10    0.09524   0.08696   0.09091        23\n",
      "          11    0.00000   0.00000   0.00000        21\n",
      "          12    0.00000   0.00000   0.00000        22\n",
      "          13    0.00000   0.00000   0.00000        19\n",
      "          14    0.14286   0.04762   0.07143        21\n",
      "          15    0.00000   0.00000   0.00000        22\n",
      "          16    0.10000   0.10000   0.10000        20\n",
      "          17    0.00000   0.00000   0.00000        19\n",
      "          18    0.00000   0.00000   0.00000        23\n",
      "          19    0.08571   0.15000   0.10909        20\n",
      "          20    0.10000   0.12000   0.10909        25\n",
      "          21    0.00000   0.00000   0.00000        23\n",
      "          22    0.00000   0.00000   0.00000        19\n",
      "          23    0.00000   0.00000   0.00000        25\n",
      "          24    0.02381   0.07692   0.03636        13\n",
      "          25    0.00000   0.00000   0.00000        16\n",
      "          26    0.00000   0.00000   0.00000        17\n",
      "          27    0.18182   0.18182   0.18182        22\n",
      "          28    0.22222   0.10000   0.13793        20\n",
      "          29    0.15385   0.07143   0.09756        28\n",
      "          30    0.06250   0.04762   0.05405        21\n",
      "          31    0.00000   0.00000   0.00000        23\n",
      "          32    0.00000   0.00000   0.00000        20\n",
      "          33    0.00000   0.00000   0.00000        25\n",
      "          34    0.00000   0.00000   0.00000        18\n",
      "          35    0.00000   0.00000   0.00000        21\n",
      "          36    0.00000   0.00000   0.00000        23\n",
      "          37    0.00000   0.00000   0.00000        20\n",
      "          38    0.00000   0.00000   0.00000        13\n",
      "          39    0.00000   0.00000   0.00000        23\n",
      "          40    0.04762   0.06250   0.05405        16\n",
      "          41    0.00000   0.00000   0.00000        16\n",
      "          42    0.09091   0.08333   0.08696        24\n",
      "          43    0.00000   0.00000   0.00000        21\n",
      "          44    0.13043   0.16667   0.14634        18\n",
      "          45    0.00000   0.00000   0.00000        19\n",
      "          46    0.00000   0.00000   0.00000        22\n",
      "          47    0.00000   0.00000   0.00000        19\n",
      "          48    0.00000   0.00000   0.00000        13\n",
      "          49    0.00000   0.00000   0.00000        24\n",
      "          50    0.08333   0.11111   0.09524        18\n",
      "          51    0.00000   0.00000   0.00000        20\n",
      "          52    0.04762   0.04167   0.04444        24\n",
      "          53    0.08696   0.10526   0.09524        19\n",
      "          54    0.00000   0.00000   0.00000        19\n",
      "          55    0.00000   0.00000   0.00000        24\n",
      "          56    0.03846   0.05882   0.04651        17\n",
      "          57    0.00000   0.00000   0.00000        21\n",
      "          58    0.00000   0.00000   0.00000        18\n",
      "          59    0.12500   0.20000   0.15385        15\n",
      "          60    0.03125   0.04545   0.03704        22\n",
      "          61    0.06667   0.04762   0.05556        21\n",
      "          62    0.00000   0.00000   0.00000        27\n",
      "          63    0.09091   0.10000   0.09524        20\n",
      "          64    0.10000   0.05263   0.06897        19\n",
      "          65    0.00000   0.00000   0.00000        21\n",
      "          66    0.00000   0.00000   0.00000        18\n",
      "          67    0.00000   0.00000   0.00000        17\n",
      "          68    0.06061   0.10000   0.07547        20\n",
      "          69    0.13636   0.12000   0.12766        25\n",
      "          70    0.00000   0.00000   0.00000        20\n",
      "          71    0.00000   0.00000   0.00000        20\n",
      "          72    0.00000   0.00000   0.00000        17\n",
      "          73    0.04348   0.05556   0.04878        18\n",
      "          74    0.00000   0.00000   0.00000        22\n",
      "          75    0.10526   0.08333   0.09302        24\n",
      "          76    0.00000   0.00000   0.00000        22\n",
      "          77    0.00000   0.00000   0.00000        22\n",
      "          78    0.00000   0.00000   0.00000        24\n",
      "          79    0.00000   0.00000   0.00000        23\n",
      "          80    0.05556   0.05000   0.05263        20\n",
      "          81    0.00000   0.00000   0.00000        26\n",
      "          82    0.06667   0.05000   0.05714        20\n",
      "          83    0.00000   0.00000   0.00000        19\n",
      "          84    0.08333   0.07692   0.08000        26\n",
      "          85    0.03704   0.05882   0.04545        17\n",
      "          86    0.05000   0.04348   0.04651        23\n",
      "          87    0.20833   0.20000   0.20408        25\n",
      "          88    0.00000   0.00000   0.00000        23\n",
      "          89    0.00000   0.00000   0.00000        18\n",
      "          90    0.00000   0.00000   0.00000        14\n",
      "          91    0.15385   0.13333   0.14286        15\n",
      "          92    0.03846   0.04762   0.04255        21\n",
      "          93    0.05882   0.05556   0.05714        18\n",
      "          94    0.02941   0.11765   0.04706        17\n",
      "          95    0.00000   0.00000   0.00000        20\n",
      "          96    0.05556   0.04348   0.04878        23\n",
      "          97    0.00000   0.00000   0.00000        26\n",
      "          98    0.11765   0.12500   0.12121        16\n",
      "          99    0.12000   0.18750   0.14634        16\n",
      "         100    0.05000   0.05556   0.05263        18\n",
      "         101    0.04255   0.09091   0.05797        22\n",
      "         102    0.06383   0.17647   0.09375        17\n",
      "         103    0.11765   0.10000   0.10811        20\n",
      "         104    0.00000   0.00000   0.00000        21\n",
      "         105    0.00000   0.00000   0.00000        14\n",
      "         106    0.00000   0.00000   0.00000        25\n",
      "         107    0.09524   0.08696   0.09091        23\n",
      "         108    0.00000   0.00000   0.00000        20\n",
      "         109    0.09524   0.09091   0.09302        22\n",
      "         110    0.00000   0.00000   0.00000        16\n",
      "         111    0.00000   0.00000   0.00000        21\n",
      "         112    0.16000   0.19048   0.17391        21\n",
      "         113    0.05882   0.05556   0.05714        18\n",
      "         114    0.00000   0.00000   0.00000        25\n",
      "         115    0.13636   0.16667   0.15000        18\n",
      "         116    0.00000   0.00000   0.00000        25\n",
      "         117    0.00000   0.00000   0.00000        23\n",
      "         118    0.09333   0.22581   0.13208        31\n",
      "         119    0.00000   0.00000   0.00000        18\n",
      "         120    0.04167   0.05263   0.04651        19\n",
      "         121    0.00000   0.00000   0.00000        21\n",
      "         122    0.07500   0.13043   0.09524        23\n",
      "         123    0.08696   0.11111   0.09756        18\n",
      "         124    0.12121   0.20000   0.15094        20\n",
      "         125    0.03704   0.05000   0.04255        20\n",
      "         126    0.04348   0.05000   0.04651        20\n",
      "         127    0.08333   0.07692   0.08000        13\n",
      "         128    0.06667   0.05263   0.05882        19\n",
      "         129    0.00000   0.00000   0.00000        22\n",
      "         130    0.03704   0.04167   0.03922        24\n",
      "         131    0.00000   0.00000   0.00000        25\n",
      "         132    0.00000   0.00000   0.00000        19\n",
      "         133    0.00000   0.00000   0.00000        16\n",
      "         134    0.00000   0.00000   0.00000        22\n",
      "         135    0.00000   0.00000   0.00000        16\n",
      "         136    0.03704   0.04167   0.03922        24\n",
      "         137    0.00000   0.00000   0.00000        19\n",
      "         138    0.00000   0.00000   0.00000        16\n",
      "         139    0.06250   0.04167   0.05000        24\n",
      "         140    0.00000   0.00000   0.00000        17\n",
      "         141    0.09091   0.06250   0.07407        16\n",
      "         142    0.00000   0.00000   0.00000        24\n",
      "         143    0.00000   0.00000   0.00000        26\n",
      "         144    0.05263   0.05263   0.05263        19\n",
      "         145    0.09524   0.08333   0.08889        24\n",
      "         146    0.00000   0.00000   0.00000        25\n",
      "         147    0.00000   0.00000   0.00000        22\n",
      "         148    0.05556   0.05882   0.05714        17\n",
      "         149    0.05882   0.05263   0.05556        19\n",
      "         150    0.03125   0.04762   0.03774        21\n",
      "         151    0.23077   0.35294   0.27907        17\n",
      "         152    0.17500   0.38889   0.24138        18\n",
      "         153    0.03448   0.05263   0.04167        19\n",
      "         154    0.00000   0.00000   0.00000        19\n",
      "         155    0.00000   0.00000   0.00000        23\n",
      "         156    0.14286   0.04348   0.06667        23\n",
      "         157    0.12500   0.22222   0.16000         9\n",
      "         158    0.00000   0.00000   0.00000        20\n",
      "         159    0.09259   0.20833   0.12821        24\n",
      "         160    0.00000   0.00000   0.00000        21\n",
      "         161    0.09091   0.13333   0.10811        15\n",
      "         162    0.14286   0.10526   0.12121        19\n",
      "         163    0.00000   0.00000   0.00000        20\n",
      "         164    0.00000   0.00000   0.00000        22\n",
      "         165    0.14286   0.28571   0.19048        14\n",
      "         166    0.00000   0.00000   0.00000        25\n",
      "         167    0.08333   0.04762   0.06061        21\n",
      "         168    0.00000   0.00000   0.00000        13\n",
      "         169    0.00000   0.00000   0.00000        19\n",
      "         170    0.00000   0.00000   0.00000        22\n",
      "         171    0.15000   0.10714   0.12500        28\n",
      "         172    0.00000   0.00000   0.00000        21\n",
      "         173    0.00000   0.00000   0.00000        24\n",
      "         174    0.00000   0.00000   0.00000        13\n",
      "         175    0.06250   0.04762   0.05405        21\n",
      "         176    0.00000   0.00000   0.00000        22\n",
      "         177    0.06667   0.05882   0.06250        17\n",
      "         178    0.04878   0.09091   0.06349        22\n",
      "         179    0.08333   0.09091   0.08696        22\n",
      "         180    0.00000   0.00000   0.00000        22\n",
      "         181    0.06667   0.03333   0.04444        30\n",
      "         182    0.03125   0.04762   0.03774        21\n",
      "         183    0.00000   0.00000   0.00000        24\n",
      "         184    0.00000   0.00000   0.00000        15\n",
      "         185    0.03448   0.04545   0.03922        22\n",
      "         186    0.00000   0.00000   0.00000        22\n",
      "         187    0.11111   0.07407   0.08889        27\n",
      "         188    0.08108   0.13043   0.10000        23\n",
      "         189    0.08333   0.12500   0.10000        16\n",
      "         190    0.00000   0.00000   0.00000        27\n",
      "         191    0.00000   0.00000   0.00000        24\n",
      "         192    0.00000   0.00000   0.00000        21\n",
      "         193    0.00000   0.00000   0.00000        28\n",
      "         194    0.00000   0.00000   0.00000        22\n",
      "         195    0.09524   0.11765   0.10526        17\n",
      "\n",
      "    accuracy                        0.04576      4021\n",
      "   macro avg    0.04106   0.04768   0.04193      4021\n",
      "weighted avg    0.04054   0.04576   0.04078      4021\n",
      "\n"
     ]
    }
   ],
   "source": [
    "metrics.lvl_wise_metric(true_label,pred_label)"
   ]
  },
  {
   "cell_type": "code",
   "execution_count": null,
   "metadata": {},
   "outputs": [],
   "source": []
  }
 ],
 "metadata": {
  "accelerator": "GPU",
  "colab": {
   "include_colab_link": true,
   "name": "CapsNet_MNIST.ipynb",
   "provenance": [],
   "toc_visible": true
  },
  "kernelspec": {
   "display_name": "Python 3 (ipykernel)",
   "language": "python",
   "name": "python3"
  },
  "language_info": {
   "codemirror_mode": {
    "name": "ipython",
    "version": 3
   },
   "file_extension": ".py",
   "mimetype": "text/x-python",
   "name": "python",
   "nbconvert_exporter": "python",
   "pygments_lexer": "ipython3",
   "version": "3.8.12"
  },
  "toc": {
   "base_numbering": 1,
   "nav_menu": {},
   "number_sections": true,
   "sideBar": true,
   "skip_h1_title": false,
   "title_cell": "Table of Contents",
   "title_sidebar": "Contents",
   "toc_cell": false,
   "toc_position": {
    "height": "calc(100% - 180px)",
    "left": "10px",
    "top": "150px",
    "width": "248px"
   },
   "toc_section_display": true,
   "toc_window_display": true
  }
 },
 "nbformat": 4,
 "nbformat_minor": 1
}
