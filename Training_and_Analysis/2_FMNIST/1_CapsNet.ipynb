{
 "cells": [
  {
   "cell_type": "markdown",
   "metadata": {
    "colab_type": "text",
    "id": "FucnLdoEAJLH"
   },
   "source": [
    "***\n",
    "<font size=\"6\"><center><b> Caspsule Networks (CIFAR100_JUST FINE CLASS_BASED ON PAPER) </b></center></font>\n",
    "***"
   ]
  },
  {
   "cell_type": "markdown",
   "metadata": {
    "colab_type": "text",
    "id": "Ljz9avRzBxCt"
   },
   "source": [
    "# Import Necessary libraries"
   ]
  },
  {
   "cell_type": "code",
   "execution_count": 1,
   "metadata": {
    "colab": {},
    "colab_type": "code",
    "id": "h0hvCdT7Knae"
   },
   "outputs": [
    {
     "name": "stdout",
     "output_type": "stream",
     "text": [
      "DONE loading MixUp Data generator\n",
      "DONE loading MixUp Data generator\n"
     ]
    }
   ],
   "source": [
    "import tensorflow as tf\n",
    "from tensorflow import keras\n",
    "from tensorflow.keras.preprocessing.image import ImageDataGenerator\n",
    "from tensorflow.keras.models import Sequential\n",
    "from tensorflow.keras.layers import Dense, Activation, Flatten, Dropout, BatchNormalization\n",
    "from tensorflow.keras.layers import Conv2D, MaxPooling2D\n",
    "from tensorflow.keras import regularizers, optimizers\n",
    "from tensorflow.keras import backend as K\n",
    "\n",
    "import tensorflow_docs as tfdocs\n",
    "import tensorflow_docs.plots\n",
    "\n",
    "# Supporting Libraries:\n",
    "    #Mathplot lib for ploting graphs\n",
    "%matplotlib inline\n",
    "import matplotlib\n",
    "import matplotlib.pyplot as plt\n",
    "    # numpy and pandas\n",
    "import numpy as np\n",
    "import pandas as pd\n",
    "    #system\n",
    "import os\n",
    "import sys\n",
    "import csv\n",
    "    #import other libraries\n",
    "import math\n",
    "import random\n",
    "from datetime import datetime\n",
    "from treelib import Tree\n",
    "    # ML model, Dataset and evalution metrics\n",
    "sys.path.append('../../') ### adding system parth for src folder\n",
    "from src import datasets # load datasets\n",
    "from src import MixUp # load datasets\n",
    "from src import MixUp_add_loss # load datasets\n",
    "from src import metrics # load hierarchcial metrics\n",
    "from src import sysenv # load hierarchcial metrics\n",
    "from src import models # load machine learning models\n",
    "\n",
    "    ## Tensorflow_docs\n",
    "import tensorflow_docs as tfdocs\n",
    "import tensorflow_docs.plots\n",
    "\n",
    "    # Auto reload local libraries if updated\n",
    "%load_ext autoreload\n",
    "%autoreload 2"
   ]
  },
  {
   "cell_type": "code",
   "execution_count": 2,
   "metadata": {
    "colab": {
     "base_uri": "https://localhost:8080/",
     "height": 68
    },
    "colab_type": "code",
    "id": "QWv7UHO2CN_t",
    "outputId": "37c5c388-d2fa-4527-ba47-e58aa6ee4ba0"
   },
   "outputs": [
    {
     "name": "stdout",
     "output_type": "stream",
     "text": [
      "\u001b[91m\u001b[1m\n",
      "• Computer Name = \u001b[0m30BFPC1AXW95\u001b[91m\u001b[1m\n",
      "• Working Directory = \u001b[0mC:\\Users\\knoor\\OneDrive - Deakin University\\Deep Learning with Python\\HDeep_CapsNet\\code\\Training_and_Analysis\\3_FMNIST\u001b[91m\u001b[1m\n",
      "• Python Version = \u001b[0m3.8.12 (default, Oct 12 2021, 03:01:40) [MSC v.1916 64 bit (AMD64)]\u001b[91m\u001b[1m\n",
      "• TensorFlow Version = \u001b[0m2.8.0\u001b[91m\u001b[1m\n",
      "• Keras Version = \u001b[0m2.8.0\u001b[91m\u001b[1m\n",
      "• Current Environment = \u001b[0mAnaconda Environment Name : py38tf\n"
     ]
    }
   ],
   "source": [
    "systeminfo = sysenv.systeminfo()\n",
    "print(systeminfo)"
   ]
  },
  {
   "cell_type": "markdown",
   "metadata": {},
   "source": [
    "## For GPU growth (not required if GPU does not give any error)"
   ]
  },
  {
   "cell_type": "code",
   "execution_count": 3,
   "metadata": {},
   "outputs": [
    {
     "name": "stdout",
     "output_type": "stream",
     "text": [
      "Following GPUS are selected =  0\n",
      "Done: GPU PhysicalDevice(name='/physical_device:GPU:0', device_type='GPU')\n",
      "1 Physical GPUs, 1 Logical GPUs\n"
     ]
    }
   ],
   "source": [
    "gpus = \"0,1,2,3,4,5,6,7\" ## Selecting Available gpus (Multi-GPUS)\n",
    "gpus = \"0\" ## Selecting Available gpus (Single GPU)\n",
    "gpugrowth = sysenv.gpugrowth(gpus = gpus) ## Limiting GPUS from OS environment\n",
    "gpugrowth.memory_growth() #GPU memory growth"
   ]
  },
  {
   "cell_type": "markdown",
   "metadata": {},
   "source": [
    "# Training Parameters"
   ]
  },
  {
   "cell_type": "code",
   "execution_count": 4,
   "metadata": {},
   "outputs": [],
   "source": [
    "train_params = {\"n_epochs\" : 100,\n",
    "                \"batch_size\": 64,\n",
    "                \"lr\": 0.001, # Initial learning rate\n",
    "                \"lr_decay\": 0.95, # Learning rate decay\n",
    "                \"decay_exe\": 9, #learning rate decay execution epoch after\n",
    "               }\n",
    "model_params = {\"optimizer\": tf.keras.optimizers.Adam(train_params['lr']),\n",
    "                \"loss_function\": models.MarginLoss(),\n",
    "               }"
   ]
  },
  {
   "cell_type": "markdown",
   "metadata": {
    "colab_type": "text",
    "id": "WCGpdY2KRDTR"
   },
   "source": [
    "# Import Dataset : Fashion MNIST"
   ]
  },
  {
   "cell_type": "code",
   "execution_count": 5,
   "metadata": {
    "scrolled": true
   },
   "outputs": [
    {
     "name": "stdout",
     "output_type": "stream",
     "text": [
      "Fashion-MNIST dataset: Training have 60,000 samples and testing have 10,000 samples\n"
     ]
    }
   ],
   "source": [
    "dataset = datasets.F_MNIST(version = 'ALL') # importing CIFAR10 Dataset"
   ]
  },
  {
   "cell_type": "markdown",
   "metadata": {
    "colab_type": "text",
    "id": "rbAaMvu-LE4M"
   },
   "source": [
    "# Build the CapsNet architecture"
   ]
  },
  {
   "cell_type": "markdown",
   "metadata": {
    "colab_type": "text",
    "id": "rbAaMvu-LE4M"
   },
   "source": [
    "## - Configuation parameters"
   ]
  },
  {
   "cell_type": "code",
   "execution_count": 6,
   "metadata": {
    "colab": {},
    "colab_type": "code",
    "id": "0HvL_KvlQEbh"
   },
   "outputs": [],
   "source": [
    "caps1_n_maps = 32\n",
    "caps1_n_caps = caps1_n_maps * 6 * 6\n",
    "caps1_n_dims = 8\n",
    "conv1_params = {\n",
    "    \"filters\": 256,\n",
    "    \"kernel_size\": 9,\n",
    "    \"strides\": 1,\n",
    "    \"padding\": \"valid\",\n",
    "    \"activation\": tf.nn.relu,\n",
    "}\n",
    "conv2_params = {\n",
    "    \"filters\": caps1_n_maps * caps1_n_dims,\n",
    "    \"kernel_size\": 9,\n",
    "    \"strides\": 2,\n",
    "    \"padding\": \"valid\",\n",
    "    \"activation\": tf.nn.relu\n",
    "}\n",
    "n_class_fine=10\n",
    "caps2_n_caps_fine = n_class_fine\n",
    "caps2_n_dims = 16\n",
    "\n",
    "n_hidden1 = 512\n",
    "n_hidden2 = 1024\n",
    "n_output = 30 * 30"
   ]
  },
  {
   "cell_type": "markdown",
   "metadata": {
    "colab_type": "text",
    "id": "SK4UrYq_QbmQ"
   },
   "source": [
    "## Connect layers"
   ]
  },
  {
   "cell_type": "code",
   "execution_count": 7,
   "metadata": {
    "colab": {
     "base_uri": "https://localhost:8080/",
     "height": 547
    },
    "colab_type": "code",
    "id": "pnbWy9xtQY1s",
    "outputId": "cd50b71b-275a-4983-8c73-238ef6734e0a",
    "scrolled": true
   },
   "outputs": [],
   "source": [
    "# clear session\n",
    "tf.keras.backend.clear_session()\n",
    "\n",
    "def get_compiled_model():\n",
    "    image_shape = dataset['x_train'].shape[1:]\n",
    "    # Input image\n",
    "    x_input = keras.layers.Input(shape=image_shape, name=\"Input_Image\")\n",
    "\n",
    "    # Layer 1 and 2: Two conventional Conv2D layer\n",
    "    # input [batch_size, 28, 28, 1], output [batch_size, 6, 6, 256]\n",
    "    conv1 = keras.layers.Conv2D(name='conv1', **conv1_params)(x_input)\n",
    "    conv2 = keras.layers.Conv2D(name='conv2', **conv2_params)(conv1)\n",
    "\n",
    "    # Layer 3: Reshape to 8D primary capsules \n",
    "    # input [batch_size, 6, 6, 256], output [batch_size, 1152, 8]\n",
    "    reshape1 = keras.layers.Reshape((caps1_n_caps, caps1_n_dims), name=\"reshape_layer\")(conv2)\n",
    "\n",
    "    # Layer 3: Squash to normalize length of each primary capsule vector\n",
    "    # input [batch_size, 1152, 8], output [batch_size, 1152, 8]\n",
    "    squash1 = keras.layers.Lambda(models.squash, name='squash_layer')(reshape1)\n",
    "\n",
    "    # Layer 4.1: Digit capsule layer with routing by agreement\n",
    "    # input [batch_size, 1152, 8], output [batch_size, 10, 16]\n",
    "    digitcaps_fine = models.SecondaryCapsule(n_caps=caps2_n_caps_fine, n_dims=caps2_n_dims, \n",
    "                        name=\"Digit_Caps_fine\")(squash1)\n",
    "\n",
    "    # Layer 5.1: Compute the length of each capsule vector\n",
    "    # input [batch_size, 10, 16], output [batch_size, 10]\n",
    "    fine_pred_layer = models.LengthLayer(name='Fine_prediction_output_layer')(digitcaps_fine)\n",
    "\n",
    "\n",
    "    # Decoder network.\n",
    "    n_hidden1 = 512\n",
    "    n_hidden2 = 1024\n",
    "    n_output = np.prod(image_shape) # 28 * 28\n",
    "\n",
    "    fine_input = keras.Input(shape=(n_class_fine,), name=\"fine_image_label\")\n",
    "\n",
    "    # Mask layer\n",
    "    # input [batch_size, 10], output [batch_size, 160]\n",
    "\n",
    "    decoder_input_fine = models.Mask(name='Mask_input_fine')([digitcaps_fine, fine_input, fine_pred_layer]) \n",
    "\n",
    "    # Decoder_fine\n",
    "    # input [batch_size, 160], output [batch_size, 28, 28, 1]\n",
    "    decoder_fine = keras.models.Sequential(name='Decoder_fine')\n",
    "    decoder_fine.add(keras.layers.Dense(n_hidden1, activation='relu', input_dim=caps2_n_dims*n_class_fine))\n",
    "    decoder_fine.add(keras.layers.Dense(n_hidden2, activation='relu'))\n",
    "    decoder_fine.add(keras.layers.Dense(n_output, activation='sigmoid'))\n",
    "    decoder_fine.add(keras.layers.Reshape(target_shape=image_shape, name='recon_output_layer_fine'))\n",
    "\n",
    "    fine_decoder= decoder_fine(decoder_input_fine)\n",
    "\n",
    "    # Capsnet model\n",
    "    model = keras.Model(\n",
    "        inputs= [x_input, fine_input],\n",
    "        outputs= [fine_pred_layer, fine_decoder],\n",
    "        name='capsnet_tf2.X')\n",
    "    \n",
    "    model.compile(\n",
    "        optimizer='adam',\n",
    "        loss=[model_params['loss_function'],\n",
    "              'mse'],\n",
    "        loss_weights=[0.9995, 0.0005],\n",
    "        metrics={'Fine_prediction_output_layer': 'accuracy'}\n",
    "    )\n",
    "    return model"
   ]
  },
  {
   "cell_type": "markdown",
   "metadata": {},
   "source": [
    "## Compile Model"
   ]
  },
  {
   "cell_type": "code",
   "execution_count": 8,
   "metadata": {},
   "outputs": [],
   "source": [
    "#Single GPU\n",
    "model = get_compiled_model()"
   ]
  },
  {
   "cell_type": "raw",
   "metadata": {},
   "source": [
    "#Multiple GPU ------ LINUX\n",
    "strategy = tf.distribute.MirroredStrategy()\n",
    "print(\"Number of devices: {}\".format(strategy.num_replicas_in_sync))\n",
    "\n",
    "# Open a strategy scope.\n",
    "with strategy.scope():\n",
    "    # Everything that creates variables should be under the strategy scope.\n",
    "    # In general this is only model construction & `compile()`.\n",
    "    model = get_compiled_model()"
   ]
  },
  {
   "cell_type": "raw",
   "metadata": {},
   "source": [
    "#Multiple GPU ------ Windows\n",
    "strategy = tf.distribute.MirroredStrategy(devices=[\"/gpu:0\",\n",
    "                                                   \"/gpu:1\",\n",
    "                                                   \"/gpu:2\",\n",
    "                                                   \"/gpu:3\",\n",
    "                                                   \"/gpu:4\",\n",
    "                                                   \"/gpu:5\",], \n",
    "                                          cross_device_ops=tf.distribute.HierarchicalCopyAllReduce())\n",
    "\n",
    "print(\"Number of devices: {}\".format(strategy.num_replicas_in_sync))\n",
    "\n",
    "# Open a strategy scope.\n",
    "with strategy.scope():\n",
    "    # Everything that creates variables should be under the strategy scope.\n",
    "    # In general this is only model construction & `compile()`.\n",
    "    model = get_compiled_model()"
   ]
  },
  {
   "cell_type": "markdown",
   "metadata": {},
   "source": [
    "# Model Summary"
   ]
  },
  {
   "cell_type": "code",
   "execution_count": 9,
   "metadata": {},
   "outputs": [
    {
     "name": "stdout",
     "output_type": "stream",
     "text": [
      "Model: \"capsnet_tf2.X\"\n",
      "__________________________________________________________________________________________________\n",
      " Layer (type)                   Output Shape         Param #     Connected to                     \n",
      "==================================================================================================\n",
      " Input_Image (InputLayer)       [(None, 28, 28, 1)]  0           []                               \n",
      "                                                                                                  \n",
      " conv1 (Conv2D)                 (None, 20, 20, 256)  20992       ['Input_Image[0][0]']            \n",
      "                                                                                                  \n",
      " conv2 (Conv2D)                 (None, 6, 6, 256)    5308672     ['conv1[0][0]']                  \n",
      "                                                                                                  \n",
      " reshape_layer (Reshape)        (None, 1152, 8)      0           ['conv2[0][0]']                  \n",
      "                                                                                                  \n",
      " squash_layer (Lambda)          (None, 1152, 8)      0           ['reshape_layer[0][0]']          \n",
      "                                                                                                  \n",
      " Digit_Caps_fine (SecondaryCaps  (None, 10, 16)      1474560     ['squash_layer[0][0]']           \n",
      " ule)                                                                                             \n",
      "                                                                                                  \n",
      " Fine_prediction_output_layer (  (None, 10)          0           ['Digit_Caps_fine[0][0]']        \n",
      " LengthLayer)                                                                                     \n",
      "                                                                                                  \n",
      " fine_image_label (InputLayer)  [(None, 10)]         0           []                               \n",
      "                                                                                                  \n",
      " Mask_input_fine (Mask)         (None, 160)          0           ['Digit_Caps_fine[0][0]',        \n",
      "                                                                  'fine_image_label[0][0]',       \n",
      "                                                                  'Fine_prediction_output_layer[0]\n",
      "                                                                 [0]']                            \n",
      "                                                                                                  \n",
      " Decoder_fine (Sequential)      (None, 28, 28, 1)    1411344     ['Mask_input_fine[0][0]']        \n",
      "                                                                                                  \n",
      "==================================================================================================\n",
      "Total params: 8,215,568\n",
      "Trainable params: 8,215,568\n",
      "Non-trainable params: 0\n",
      "__________________________________________________________________________________________________\n"
     ]
    }
   ],
   "source": [
    "model.summary()"
   ]
  },
  {
   "cell_type": "markdown",
   "metadata": {},
   "source": [
    "## Log Directory"
   ]
  },
  {
   "cell_type": "code",
   "execution_count": 10,
   "metadata": {},
   "outputs": [
    {
     "name": "stdout",
     "output_type": "stream",
     "text": [
      "Warning: Folder already exist.\n"
     ]
    }
   ],
   "source": [
    "directory = sysenv.log_dir('CapsNet')"
   ]
  },
  {
   "cell_type": "code",
   "execution_count": 11,
   "metadata": {
    "scrolled": true
   },
   "outputs": [
    {
     "data": {
      "image/png": "[encoded data removed]",
      "text/plain": [
       "<IPython.core.display.Image object>"
      ]
     },
     "execution_count": 11,
     "metadata": {},
     "output_type": "execute_result"
    }
   ],
   "source": [
    "keras.utils.plot_model(model, to_file = directory+\"/Architecture.png\", show_shapes=True)"
   ]
  },
  {
   "cell_type": "markdown",
   "metadata": {
    "colab_type": "text",
    "id": "fhSuy8JNR3L6"
   },
   "source": [
    "## Callbacks"
   ]
  },
  {
   "cell_type": "code",
   "execution_count": 12,
   "metadata": {
    "colab": {},
    "colab_type": "code",
    "id": "E1f1j-RPRzbj"
   },
   "outputs": [],
   "source": [
    "tb = keras.callbacks.TensorBoard(directory+'/tb_logs'+ datetime.now().strftime(\"%Y%m%d-%H%M%S\"))\n",
    "\n",
    "log = keras.callbacks.CSVLogger(directory+'/log.csv', append=True)\n",
    "\n",
    "checkpoint = keras.callbacks.ModelCheckpoint(\n",
    "    directory+'/weights-best.h5',  \n",
    "    monitor='val_loss',\n",
    "    save_best_only=True, save_weights_only=True, verbose=1)\n",
    "\n",
    "lr_decay = keras.callbacks.LearningRateScheduler(\n",
    "    schedule=lambda epoch: train_params[\"lr\"] * (train_params[\"lr_decay\"] ** epoch))"
   ]
  },
  {
   "cell_type": "markdown",
   "metadata": {
    "colab_type": "text",
    "id": "ddvlIAnLR_N1"
   },
   "source": [
    "# Run training"
   ]
  },
  {
   "cell_type": "markdown",
   "metadata": {},
   "source": [
    "## Training"
   ]
  },
  {
   "cell_type": "code",
   "execution_count": 13,
   "metadata": {},
   "outputs": [],
   "source": [
    "model_save_dir = str(directory+'/trained_model.h5')\n",
    "try:\n",
    "    model.load_weights(model_save_dir)\n",
    "except:\n",
    "    history = model.fit(x=[dataset['x_train'], dataset['y_train_fine']],\n",
    "                    y=[dataset['y_train_fine'], dataset['x_train']],\n",
    "                    batch_size = train_params[\"batch_size\"],\n",
    "                    epochs = train_params[\"n_epochs\"],\n",
    "                    validation_data=([dataset['x_test'], dataset['y_test_fine']],\n",
    "                                    [dataset['y_test_fine'], dataset['x_test']]),\n",
    "                    callbacks =[tb, log, checkpoint, lr_decay],\n",
    "                    verbose=\"auto\")\n",
    "    \n",
    "    model.save_weights(model_save_dir)"
   ]
  },
  {
   "cell_type": "raw",
   "metadata": {
    "scrolled": true
   },
   "source": [
    "history_dict = history.history\n",
    "# history_dict.keys()\n",
    "n=1\n",
    "print('\\033[91m','\\033[1m',\"==>\",\"Parameters in history = \", '\\033[0m')\n",
    "for key, value in history_dict.items():\n",
    "    print(n, \"-->\", key)\n",
    "    n+=1"
   ]
  },
  {
   "cell_type": "raw",
   "metadata": {},
   "source": [
    "acc = history_dict['Fine_prediction_output_layer_accuracy']\n",
    "val_acc = history_dict['val_Fine_prediction_output_layer_accuracy']\n",
    "loss = history_dict['loss']\n",
    "val_loss = history_dict['val_loss']\n",
    "\n",
    "epochs = range(1, len(acc) + 1)\n",
    "\n",
    "# \"bo\" is for \"blue dot\"\n",
    "plt.plot(epochs, loss, 'bo', label='Training loss')\n",
    "# b is for \"solid blue line\"\n",
    "plt.plot(epochs, val_loss, 'b', label='Validation loss')\n",
    "plt.title('Training and validation loss')\n",
    "plt.xlabel('Epochs')\n",
    "plt.ylabel('Loss')\n",
    "plt.legend()\n",
    "\n",
    "plt.show()\n",
    "\n",
    "plt.plot(epochs, acc, 'bo', label='Training acc')\n",
    "plt.plot(epochs, val_acc, 'b', label='Validation acc')\n",
    "plt.title('Training and validation accuracy')\n",
    "plt.xlabel('Epochs')\n",
    "plt.ylabel('Accuracy')\n",
    "plt.legend(loc='lower right')\n",
    "\n",
    "plt.show()"
   ]
  },
  {
   "cell_type": "markdown",
   "metadata": {},
   "source": [
    "# Model evaluate"
   ]
  },
  {
   "cell_type": "code",
   "execution_count": 14,
   "metadata": {},
   "outputs": [
    {
     "name": "stdout",
     "output_type": "stream",
     "text": [
      "[]\n"
     ]
    }
   ],
   "source": [
    "print(model.metrics_names)"
   ]
  },
  {
   "cell_type": "code",
   "execution_count": 15,
   "metadata": {
    "colab": {},
    "colab_type": "code",
    "id": "4Jr8-7E3IphF",
    "scrolled": true
   },
   "outputs": [
    {
     "name": "stdout",
     "output_type": "stream",
     "text": [
      "313/313 [==============================] - 9s 14ms/step - loss: 0.0651 - Fine_prediction_output_layer_loss: 0.0648 - Decoder_fine_loss: 0.6931 - Fine_prediction_output_layer_accuracy: 0.9190\n"
     ]
    }
   ],
   "source": [
    "results = model.evaluate([dataset['x_test'], dataset['y_test_fine']],\n",
    "                         [dataset['y_test_fine'], dataset['x_test']],\n",
    "                         verbose=1)"
   ]
  },
  {
   "cell_type": "code",
   "execution_count": 16,
   "metadata": {},
   "outputs": [
    {
     "name": "stdout",
     "output_type": "stream",
     "text": [
      "1 _ loss ==> 0.06510399281978607 \n",
      "\n",
      "2 _ Fine_prediction_output_layer_loss ==> 0.06478981673717499 \n",
      "\n",
      "3 _ Decoder_fine_loss ==> 0.6930983662605286 \n",
      "\n",
      "4 _ Fine_prediction_output_layer_accuracy ==> 0.9190000295639038 \n",
      "\n"
     ]
    }
   ],
   "source": [
    "for n in range(len(results)):\n",
    "    print(n+1,'_',model.metrics_names[n], '==>', results[n],'\\n')"
   ]
  },
  {
   "cell_type": "markdown",
   "metadata": {},
   "source": [
    "# Model Prediction"
   ]
  },
  {
   "cell_type": "code",
   "execution_count": 17,
   "metadata": {},
   "outputs": [
    {
     "name": "stdout",
     "output_type": "stream",
     "text": [
      "313/313 [==============================] - 3s 10ms/step\n"
     ]
    }
   ],
   "source": [
    "predictions = model.predict([dataset['x_test'], dataset['y_test_fine']],\n",
    "                            verbose=1\n",
    "                           )"
   ]
  },
  {
   "cell_type": "code",
   "execution_count": 18,
   "metadata": {},
   "outputs": [
    {
     "name": "stdout",
     "output_type": "stream",
     "text": [
      "\u001b[91m \u001b[1m \n",
      "Model prediction array shape: \u001b[0m\n",
      "predictions[0]: (10000, 10)\n",
      "predictions[1]: (10000, 28, 28, 1)\n"
     ]
    }
   ],
   "source": [
    "print('\\033[91m','\\033[1m',\"\\nModel prediction array shape:\", '\\033[0m')\n",
    "for n in range(len(predictions)):\n",
    "    print(\"predictions[{0}]:\".format(n), predictions[n].shape)"
   ]
  },
  {
   "cell_type": "markdown",
   "metadata": {},
   "source": [
    "# Analysis"
   ]
  },
  {
   "cell_type": "code",
   "execution_count": 19,
   "metadata": {},
   "outputs": [
    {
     "name": "stdout",
     "output_type": "stream",
     "text": [
      "{0, 1, 2, 3, 4, 5, 6, 7, 8, 9}\n",
      "[0, 1, 2, 3, 4, 5, 6, 7, 8, 9]\n",
      "['0', '1', '2', '3', '4', '5', '6', '7', '8', '9']\n",
      "\n",
      "\u001b[91m \u001b[1m • multilabel-Confusion_Matrix \u001b[0m\n",
      "\n",
      "\n",
      "\u001b[91m \u001b[1m • FINE LEVEL \u001b[0m\n",
      "[[[8852  148]\n",
      "  [ 126  874]]\n",
      "\n",
      " [[8996    4]\n",
      "  [  18  982]]\n",
      "\n",
      " [[8873  127]\n",
      "  [ 123  877]]\n",
      "\n",
      " [[8913   87]\n",
      "  [  73  927]]\n",
      "\n",
      " [[8871  129]\n",
      "  [ 131  869]]\n",
      "\n",
      " [[8983   17]\n",
      "  [  16  984]]\n",
      "\n",
      " [[8786  214]\n",
      "  [ 248  752]]\n",
      "\n",
      " [[8958   42]\n",
      "  [  23  977]]\n",
      "\n",
      " [[8978   22]\n",
      "  [  16  984]]\n",
      "\n",
      " [[8980   20]\n",
      "  [  36  964]]]\n",
      "\n",
      "\u001b[91m \u001b[1m • Confusion_Matrix \u001b[0m\n",
      "\n",
      "\n",
      "\u001b[91m \u001b[1m • FINE LEVEL \u001b[0m\n",
      "[[874   1  18  12   3   1  84   0   7   0]\n",
      " [  2 982   1  10   1   0   3   0   1   0]\n",
      " [ 20   1 877   9  46   0  44   0   3   0]\n",
      " [ 15   1  10 927  24   0  21   0   2   0]\n",
      " [  0   1  45  23 869   1  60   0   1   0]\n",
      " [  0   0   0   1   0 984   0  10   0   5]\n",
      " [109   0  51  27  53   0 752   0   8   0]\n",
      " [  0   0   0   0   0   8   0 977   0  15]\n",
      " [  2   0   2   5   2   2   1   2 984   0]\n",
      " [  0   0   0   0   0   5   1  30   0 964]]\n",
      "\n",
      "\u001b[91m \u001b[1m • Classification Report \u001b[0m\n",
      "\n",
      "\n",
      "\u001b[91m \u001b[1m • FINE LEVEL \u001b[0m\n"
     ]
    },
    {
     "data": {
      "image/png": "[encoded data removed]",
      "text/plain": [
       "<Figure size 432x288 with 2 Axes>"
      ]
     },
     "metadata": {
      "needs_background": "light"
     },
     "output_type": "display_data"
    },
    {
     "name": "stdout",
     "output_type": "stream",
     "text": [
      "              precision    recall  f1-score   support\n",
      "\n",
      "           0    0.85519   0.87400   0.86449      1000\n",
      "           1    0.99594   0.98200   0.98892      1000\n",
      "           2    0.87351   0.87700   0.87525      1000\n",
      "           3    0.91420   0.92700   0.92056      1000\n",
      "           4    0.87074   0.86900   0.86987      1000\n",
      "           5    0.98302   0.98400   0.98351      1000\n",
      "           6    0.77847   0.75200   0.76501      1000\n",
      "           7    0.95878   0.97700   0.96781      1000\n",
      "           8    0.97813   0.98400   0.98106      1000\n",
      "           9    0.97967   0.96400   0.97177      1000\n",
      "\n",
      "    accuracy                        0.91900     10000\n",
      "   macro avg    0.91877   0.91900   0.91882     10000\n",
      "weighted avg    0.91877   0.91900   0.91882     10000\n",
      "\n"
     ]
    }
   ],
   "source": [
    "from sklearn.metrics import confusion_matrix, multilabel_confusion_matrix, classification_report\n",
    "from sklearn.metrics import ConfusionMatrixDisplay, accuracy_score\n",
    "\n",
    "fine_classes_number = n_class_fine\n",
    "\n",
    "y_true_fine = np.argmax(dataset['y_test_fine'], axis=1)\n",
    "y_pred_fine = np.argmax(predictions[0], axis=1)\n",
    "\n",
    "output = set()\n",
    "for x in y_true_fine:\n",
    "    output.add(x)\n",
    "print(output)\n",
    "\n",
    "fine_labels = list(range(0, fine_classes_number))\n",
    "fine_target_names = [str(x) for x in list(range(0, fine_classes_number))]\n",
    "\n",
    "print(fine_labels)\n",
    "print(fine_target_names)\n",
    "\n",
    "def confusion_matrixDisplay(y_true, y_pred, target_names):\n",
    "    labels = target_names\n",
    "    cm = confusion_matrix(y_true, y_pred)\n",
    "    ConfusionMatrixDisplay(cm, display_labels=labels).plot()\n",
    "    plt.show()\n",
    "    #plt.savefig(\"Confusion_Matrix.png\")\n",
    "\n",
    "print('\\n\\033[91m','\\033[1m',\"\\u2022\",'multilabel-Confusion_Matrix','\\033[0m\\n')\n",
    "\n",
    "print('\\n\\033[91m','\\033[1m',\"\\u2022\",'FINE LEVEL','\\033[0m')\n",
    "print(multilabel_confusion_matrix(y_true_fine, y_pred_fine))\n",
    "\n",
    "print('\\n\\033[91m','\\033[1m',\"\\u2022\",'Confusion_Matrix','\\033[0m\\n')\n",
    "\n",
    "\n",
    "print('\\n\\033[91m','\\033[1m',\"\\u2022\",'FINE LEVEL','\\033[0m')\n",
    "print(confusion_matrix(y_true_fine, y_pred_fine))\n",
    "\n",
    "print('\\n\\033[91m','\\033[1m',\"\\u2022\",'Classification Report','\\033[0m\\n')\n",
    "\n",
    "print('\\n\\033[91m','\\033[1m',\"\\u2022\",'FINE LEVEL','\\033[0m')\n",
    "confusion_matrixDisplay(y_true_fine, y_pred_fine, fine_target_names)\n",
    "print(classification_report(y_true_fine, y_pred_fine, target_names=fine_target_names, digits=5))"
   ]
  },
  {
   "cell_type": "markdown",
   "metadata": {},
   "source": [
    "## Hierarchical Metrics"
   ]
  },
  {
   "cell_type": "code",
   "execution_count": 20,
   "metadata": {
    "scrolled": true
   },
   "outputs": [
    {
     "name": "stdout",
     "output_type": "stream",
     "text": [
      "Root\n",
      "├── 0\n",
      "├── 1\n",
      "├── 2\n",
      "├── 3\n",
      "├── 4\n",
      "├── 5\n",
      "├── 6\n",
      "├── 7\n",
      "├── 8\n",
      "└── 9\n",
      "\n"
     ]
    }
   ],
   "source": [
    "tree = Tree()\n",
    "tree.create_node(\"Root\", \"root\")  # root node\n",
    "for i in range(n_class_fine):\n",
    "    tree.create_node(i, 'L0_'+ str(i), parent=\"root\")\n",
    "tree.show()"
   ]
  },
  {
   "cell_type": "code",
   "execution_count": 21,
   "metadata": {},
   "outputs": [],
   "source": [
    "true_label = [y_true_fine.tolist()]\n",
    "pred_label = [predictions[0]]"
   ]
  },
  {
   "cell_type": "code",
   "execution_count": 22,
   "metadata": {},
   "outputs": [
    {
     "name": "stdout",
     "output_type": "stream",
     "text": [
      "\n",
      "Hierarchical Precision = 0.919 \n",
      "Hierarchical Recall = 0.919 \n",
      "Hierarchical F1-Score = 0.919\n",
      "\n",
      "H Accuracy= 0.919 \n",
      "This method computes the harmonic mean of accuracies of all level in the taxonomy.\n",
      "\n",
      "M Accuracy= 0.919 \n",
      "This method computes the harmonic mean of accuracies of all level in the taxonomy.\n",
      "\n",
      "Exact_Match= 0.919 \n",
      "This method compute the exact match score. Exact match is defined as the #of examples for which the predictions for all level in the taxonomy is correct by the total #of examples.\n",
      "\n",
      "Consistency= 1.0 \n",
      "This methods estimates the consistency.\n"
     ]
    }
   ],
   "source": [
    "h_measurements = metrics.get_hierarchical_metrics(true_label, pred_label, tree)\n",
    "print('\\nHierarchical Precision =',h_measurements[0],\n",
    "      '\\nHierarchical Recall =', h_measurements[1],\n",
    "      '\\nHierarchical F1-Score =',h_measurements[2])\n",
    "print('\\nH Accuracy=',\n",
    "     metrics.get_h_accuracy(true_label, pred_label),\n",
    "     '\\nThis method computes the harmonic mean of accuracies of all level in the taxonomy.',)\n",
    "\n",
    "print('\\nM Accuracy=',\n",
    "     metrics.get_m_accuracy(true_label, pred_label),\n",
    "     '\\nThis method computes the harmonic mean of accuracies of all level in the taxonomy.',\n",
    "      )\n",
    "\n",
    "print('\\nExact_Match=',\n",
    "     metrics.get_exact_match(true_label, pred_label),\n",
    "     '\\nThis method compute the exact match score. Exact match is defined as the #of examples for which the predictions for all level in the taxonomy is correct by the total #of examples.',\n",
    "      )\n",
    "\n",
    "print('\\nConsistency=',\n",
    "     metrics.get_consistency(pred_label, tree),\n",
    "     '\\nThis methods estimates the consistency.',\n",
    "      )"
   ]
  },
  {
   "cell_type": "code",
   "execution_count": null,
   "metadata": {},
   "outputs": [],
   "source": []
  },
  {
   "cell_type": "code",
   "execution_count": null,
   "metadata": {},
   "outputs": [],
   "source": []
  }
 ],
 "metadata": {
  "accelerator": "GPU",
  "colab": {
   "include_colab_link": true,
   "name": "CapsNet_MNIST.ipynb",
   "provenance": [],
   "toc_visible": true
  },
  "kernelspec": {
   "display_name": "Python 3 (ipykernel)",
   "language": "python",
   "name": "python3"
  },
  "language_info": {
   "codemirror_mode": {
    "name": "ipython",
    "version": 3
   },
   "file_extension": ".py",
   "mimetype": "text/x-python",
   "name": "python",
   "nbconvert_exporter": "python",
   "pygments_lexer": "ipython3",
   "version": "3.8.12"
  },
  "toc": {
   "base_numbering": 1,
   "nav_menu": {},
   "number_sections": true,
   "sideBar": true,
   "skip_h1_title": false,
   "title_cell": "Table of Contents",
   "title_sidebar": "Contents",
   "toc_cell": false,
   "toc_position": {
    "height": "calc(100% - 180px)",
    "left": "10px",
    "top": "150px",
    "width": "248px"
   },
   "toc_section_display": true,
   "toc_window_display": true
  }
 },
 "nbformat": 4,
 "nbformat_minor": 1
}
