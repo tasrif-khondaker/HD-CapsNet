{
 "cells": [
  {
   "cell_type": "markdown",
   "id": "5c016cb9",
   "metadata": {},
   "source": [
    "# Training HD_CapsNet_Mod_3_1"
   ]
  },
  {
   "cell_type": "code",
   "execution_count": 2,
   "id": "85efe86d",
   "metadata": {},
   "outputs": [
    {
     "name": "stdout",
     "output_type": "stream",
     "text": [
      "/bin/bash: /home/knoor/.conda/envs/tf28_luthin/lib/libtinfo.so.6: no version information available (required by /bin/bash)\n",
      "Input Notebook:  HD_CapsNet_Mod_3_1.ipynb\n",
      "Output Notebook: HD_CapsNet_Mod_3_1-TRAINED.ipynb\n",
      "Executing:   0%|                                       | 0/45 [00:00<?, ?cell/s]Executing notebook with kernel: python3\n",
      "Executing:  13%|████▏                          | 6/45 [01:44<10:53, 16.75s/cell]2023-04-13 21:39:46.880904: I tensorflow/core/platform/cpu_feature_guard.cc:151] This TensorFlow binary is optimized with oneAPI Deep Neural Network Library (oneDNN) to use the following CPU instructions in performance-critical operations:  AVX2 AVX512F FMA\n",
      "To enable them in other operations, rebuild TensorFlow with the appropriate compiler flags.\n",
      "2023-04-13 21:39:50.928139: I tensorflow/core/common_runtime/gpu/gpu_device.cc:1525] Created device /job:localhost/replica:0/task:0/device:GPU:0 with 14075 MB memory:  -> device: 0, name: Tesla V100-PCIE-32GB, pci bus id: 0000:86:00.0, compute capability: 7.0\n",
      "Executing:  73%|██████████████████████        | 33/45 [02:52<00:08,  1.42cell/s]2023-04-13 21:41:14.238167: I tensorflow/stream_executor/cuda/cuda_dnn.cc:368] Loaded cuDNN version 8100\n",
      "2023-04-13 21:41:21.106760: I tensorflow/core/platform/default/subprocess.cc:304] Start cannot spawn child process: No such file or directory\n",
      "2023-04-13 21:41:21.248018: W tensorflow/stream_executor/gpu/redzone_allocator.cc:314] RESOURCE_EXHAUSTED: /tmp/tempfile-luthin-42fdf16b-304223-5f936341a5fd1; No space left on device\n",
      "Relying on driver to perform ptx compilation. \n",
      "Modify $PATH to customize ptxas location.\n",
      "This message will be only logged once.\n",
      "2023-04-13 21:55:43.027210: I tensorflow/core/kernels/data/shuffle_dataset_op.cc:390] Filling up shuffle buffer (this may take a while): 4461 of 6400\n",
      "2023-04-13 21:55:47.947969: I tensorflow/core/kernels/data/shuffle_dataset_op.cc:415] Shuffle buffer filled.\n",
      "Autosave too slow: 7.55 sec, over 25% limit. Backing off to 60 sec\n",
      "2023-04-13 23:47:05.755454: I tensorflow/core/kernels/data/shuffle_dataset_op.cc:390] Filling up shuffle buffer (this may take a while): 1840 of 6400\n",
      "2023-04-13 23:47:15.825016: I tensorflow/core/kernels/data/shuffle_dataset_op.cc:390] Filling up shuffle buffer (this may take a while): 3667 of 6400\n",
      "2023-04-13 23:47:25.770252: I tensorflow/core/kernels/data/shuffle_dataset_op.cc:390] Filling up shuffle buffer (this may take a while): 5530 of 6400\n",
      "2023-04-13 23:47:30.679652: I tensorflow/core/kernels/data/shuffle_dataset_op.cc:415] Shuffle buffer filled.\n",
      "Autosave too slow: 58.21 sec, over 25% limit. Backing off to 120 sec\n",
      "2023-04-14 00:09:30.723793: I tensorflow/core/kernels/data/shuffle_dataset_op.cc:390] Filling up shuffle buffer (this may take a while): 1956 of 6400\n",
      "2023-04-14 00:09:40.692370: I tensorflow/core/kernels/data/shuffle_dataset_op.cc:390] Filling up shuffle buffer (this may take a while): 3989 of 6400\n",
      "2023-04-14 00:09:50.690818: I tensorflow/core/kernels/data/shuffle_dataset_op.cc:390] Filling up shuffle buffer (this may take a while): 5880 of 6400\n",
      "2023-04-14 00:09:53.372314: I tensorflow/core/kernels/data/shuffle_dataset_op.cc:415] Shuffle buffer filled.\n",
      "Executing: 100%|███████████████████████████| 45/45 [4:51:39<00:00, 388.87s/cell]\n"
     ]
    }
   ],
   "source": [
    "!papermill \"HD_CapsNet_Mod_3_1.ipynb\" \"HD_CapsNet_Mod_3_1-TRAINED.ipynb\" --progress-bar"
   ]
  },
  {
   "cell_type": "markdown",
   "id": "67dba7e1",
   "metadata": {},
   "source": [
    "# Training HD_CapsNet_Mod_3_2"
   ]
  },
  {
   "cell_type": "code",
   "execution_count": 3,
   "id": "3d485c65",
   "metadata": {},
   "outputs": [
    {
     "name": "stdout",
     "output_type": "stream",
     "text": [
      "/bin/bash: /home/knoor/.conda/envs/tf28_luthin/lib/libtinfo.so.6: no version information available (required by /bin/bash)\n",
      "Input Notebook:  HD_CapsNet_Mod_3_2.ipynb\n",
      "Output Notebook: HD_CapsNet_Mod_3_2-TRAINED.ipynb\n",
      "Executing:   0%|                                       | 0/43 [00:00<?, ?cell/s]Executing notebook with kernel: python3\n",
      "Executing:  12%|███▌                           | 5/43 [01:39<13:21, 21.08s/cell]2023-04-14 02:31:57.875042: I tensorflow/core/platform/cpu_feature_guard.cc:151] This TensorFlow binary is optimized with oneAPI Deep Neural Network Library (oneDNN) to use the following CPU instructions in performance-critical operations:  AVX2 AVX512F FMA\n",
      "To enable them in other operations, rebuild TensorFlow with the appropriate compiler flags.\n",
      "2023-04-14 02:31:59.752828: I tensorflow/core/common_runtime/gpu/gpu_device.cc:1525] Created device /job:localhost/replica:0/task:0/device:GPU:0 with 14075 MB memory:  -> device: 0, name: Tesla V100-PCIE-32GB, pci bus id: 0000:86:00.0, compute capability: 7.0\n",
      "Executing:  74%|██████████████████████▎       | 32/43 [03:03<00:06,  1.61cell/s]2023-04-14 02:33:44.711788: I tensorflow/stream_executor/cuda/cuda_dnn.cc:368] Loaded cuDNN version 8100\n",
      "2023-04-14 02:33:47.187921: I tensorflow/core/platform/default/subprocess.cc:304] Start cannot spawn child process: No such file or directory\n",
      "2023-04-14 02:33:47.355930: W tensorflow/stream_executor/gpu/redzone_allocator.cc:314] RESOURCE_EXHAUSTED: /tmp/tempfile-luthin-8b810cb7-342653-5f93a49eebd3c; No space left on device\n",
      "Relying on driver to perform ptx compilation. \n",
      "Modify $PATH to customize ptxas location.\n",
      "This message will be only logged once.\n",
      "2023-04-14 03:58:19.793532: I tensorflow/core/kernels/data/shuffle_dataset_op.cc:390] Filling up shuffle buffer (this may take a while): 2236 of 12800\n",
      "2023-04-14 03:58:29.745024: I tensorflow/core/kernels/data/shuffle_dataset_op.cc:390] Filling up shuffle buffer (this may take a while): 4380 of 12800\n",
      "2023-04-14 03:58:39.767595: I tensorflow/core/kernels/data/shuffle_dataset_op.cc:390] Filling up shuffle buffer (this may take a while): 6579 of 12800\n",
      "2023-04-14 03:58:49.730618: I tensorflow/core/kernels/data/shuffle_dataset_op.cc:390] Filling up shuffle buffer (this may take a while): 8878 of 12800\n",
      "2023-04-14 03:58:59.761285: I tensorflow/core/kernels/data/shuffle_dataset_op.cc:390] Filling up shuffle buffer (this may take a while): 11009 of 12800\n",
      "2023-04-14 03:59:09.396686: I tensorflow/core/kernels/data/shuffle_dataset_op.cc:415] Shuffle buffer filled.\n",
      "Autosave too slow: 7.72 sec, over 25% limit. Backing off to 60 sec\n",
      "2023-04-14 06:18:18.077821: I tensorflow/core/kernels/data/shuffle_dataset_op.cc:390] Filling up shuffle buffer (this may take a while): 7808 of 12800\n",
      "2023-04-14 06:18:28.272466: I tensorflow/core/kernels/data/shuffle_dataset_op.cc:390] Filling up shuffle buffer (this may take a while): 9729 of 12800\n",
      "2023-04-14 06:18:38.097732: I tensorflow/core/kernels/data/shuffle_dataset_op.cc:390] Filling up shuffle buffer (this may take a while): 11713 of 12800\n",
      "2023-04-14 06:18:44.056629: I tensorflow/core/kernels/data/shuffle_dataset_op.cc:415] Shuffle buffer filled.\n",
      "2023-04-14 06:41:03.432959: I tensorflow/core/kernels/data/shuffle_dataset_op.cc:390] Filling up shuffle buffer (this may take a while): 12260 of 12800\n",
      "2023-04-14 06:41:05.089941: I tensorflow/core/kernels/data/shuffle_dataset_op.cc:415] Shuffle buffer filled.\n",
      "Executing: 100%|███████████████████████████| 43/43 [4:17:55<00:00, 359.90s/cell]\n"
     ]
    }
   ],
   "source": [
    "!papermill \"HD_CapsNet_Mod_3_2.ipynb\" \"HD_CapsNet_Mod_3_2-TRAINED.ipynb\" --progress-bar"
   ]
  },
  {
   "cell_type": "markdown",
   "id": "0f1c87f0",
   "metadata": {},
   "source": [
    "# Training HD_CapsNet_Mod_3_4"
   ]
  },
  {
   "cell_type": "code",
   "execution_count": 1,
   "id": "0cdd9fed",
   "metadata": {
    "scrolled": true
   },
   "outputs": [
    {
     "name": "stdout",
     "output_type": "stream",
     "text": [
      "/bin/bash: /home/knoor/.conda/envs/tf28_luthin/lib/libtinfo.so.6: no version information available (required by /bin/bash)\n",
      "Input Notebook:  HD_CapsNet_Mod_3_4.ipynb\n",
      "Output Notebook: HD_CapsNet_Mod_3_4-TRAINED.ipynb\n",
      "Executing:   0%|                                       | 0/43 [00:00<?, ?cell/s]Executing notebook with kernel: python3\n",
      "Executing:  14%|████▎                          | 6/43 [00:17<01:33,  2.53s/cell]2023-04-13 12:42:56.400177: I tensorflow/core/platform/cpu_feature_guard.cc:151] This TensorFlow binary is optimized with oneAPI Deep Neural Network Library (oneDNN) to use the following CPU instructions in performance-critical operations:  AVX2 AVX512F FMA\n",
      "To enable them in other operations, rebuild TensorFlow with the appropriate compiler flags.\n",
      "2023-04-13 12:42:58.334467: I tensorflow/core/common_runtime/gpu/gpu_device.cc:1525] Created device /job:localhost/replica:0/task:0/device:GPU:0 with 14075 MB memory:  -> device: 0, name: Tesla V100-PCIE-32GB, pci bus id: 0000:86:00.0, compute capability: 7.0\n",
      "Executing:  74%|██████████████████████▎       | 32/43 [01:31<00:05,  2.18cell/s]2023-04-13 12:44:33.552679: I tensorflow/stream_executor/cuda/cuda_dnn.cc:368] Loaded cuDNN version 8100\n",
      "2023-04-13 12:44:35.066658: I tensorflow/core/platform/default/subprocess.cc:304] Start cannot spawn child process: No such file or directory\n",
      "2023-04-13 12:44:35.208545: W tensorflow/stream_executor/gpu/redzone_allocator.cc:314] RESOURCE_EXHAUSTED: /tmp/tempfile-luthin-1d4c3132-214985-5f92eb4793705; No space left on device\n",
      "Relying on driver to perform ptx compilation. \n",
      "Modify $PATH to customize ptxas location.\n",
      "This message will be only logged once.\n",
      "2023-04-13 13:05:29.787649: I tensorflow/core/kernels/data/shuffle_dataset_op.cc:390] Filling up shuffle buffer (this may take a while): 2749 of 3200\n",
      "2023-04-13 13:05:31.520714: I tensorflow/core/kernels/data/shuffle_dataset_op.cc:415] Shuffle buffer filled.\n",
      "2023-04-13 13:13:23.878711: I tensorflow/core/kernels/data/shuffle_dataset_op.cc:390] Filling up shuffle buffer (this may take a while): 2571 of 3200\n",
      "2023-04-13 13:13:26.115759: I tensorflow/core/kernels/data/shuffle_dataset_op.cc:415] Shuffle buffer filled.\n",
      "2023-04-13 13:23:01.384611: I tensorflow/core/kernels/data/shuffle_dataset_op.cc:390] Filling up shuffle buffer (this may take a while): 2217 of 3200\n",
      "2023-04-13 13:23:06.316325: I tensorflow/core/kernels/data/shuffle_dataset_op.cc:415] Shuffle buffer filled.\n",
      "Autosave too slow: 9.47 sec, over 25% limit. Backing off to 60 sec\n",
      "2023-04-13 14:41:07.783062: I tensorflow/core/kernels/data/shuffle_dataset_op.cc:390] Filling up shuffle buffer (this may take a while): 2870 of 3200\n",
      "2023-04-13 14:41:08.917208: I tensorflow/core/kernels/data/shuffle_dataset_op.cc:415] Shuffle buffer filled.\n",
      "Autosave too slow: 18.12 sec, over 25% limit. Backing off to 120 sec\n",
      "Autosave too slow: 35.10 sec, over 25% limit. Backing off to 240 sec\n",
      "2023-04-13 19:22:32.307427: I tensorflow/core/kernels/data/shuffle_dataset_op.cc:390] Filling up shuffle buffer (this may take a while): 2259 of 3200\n",
      "2023-04-13 19:22:35.907326: I tensorflow/core/kernels/data/shuffle_dataset_op.cc:415] Shuffle buffer filled.\n",
      "Executing: 100%|███████████████████████████| 43/43 [8:54:07<00:00, 745.29s/cell]\n"
     ]
    }
   ],
   "source": [
    "!papermill \"HD_CapsNet_Mod_3_4.ipynb\" \"HD_CapsNet_Mod_3_4-TRAINED.ipynb\" --progress-bar"
   ]
  },
  {
   "cell_type": "code",
   "execution_count": null,
   "id": "2eae9ef7",
   "metadata": {},
   "outputs": [],
   "source": []
  }
 ],
 "metadata": {
  "kernelspec": {
   "display_name": "Python 3 (ipykernel)",
   "language": "python",
   "name": "python3"
  },
  "language_info": {
   "codemirror_mode": {
    "name": "ipython",
    "version": 3
   },
   "file_extension": ".py",
   "mimetype": "text/x-python",
   "name": "python",
   "nbconvert_exporter": "python",
   "pygments_lexer": "ipython3",
   "version": "3.9.16"
  },
  "toc": {
   "base_numbering": 1,
   "nav_menu": {},
   "number_sections": true,
   "sideBar": true,
   "skip_h1_title": false,
   "title_cell": "Table of Contents",
   "title_sidebar": "Contents",
   "toc_cell": false,
   "toc_position": {
    "height": "calc(100% - 180px)",
    "left": "10px",
    "top": "150px",
    "width": "262px"
   },
   "toc_section_display": true,
   "toc_window_display": true
  },
  "varInspector": {
   "cols": {
    "lenName": 16,
    "lenType": 16,
    "lenVar": 40
   },
   "kernels_config": {
    "python": {
     "delete_cmd_postfix": "",
     "delete_cmd_prefix": "del ",
     "library": "var_list.py",
     "varRefreshCmd": "print(var_dic_list())"
    },
    "r": {
     "delete_cmd_postfix": ") ",
     "delete_cmd_prefix": "rm(",
     "library": "var_list.r",
     "varRefreshCmd": "cat(var_dic_list()) "
    }
   },
   "types_to_exclude": [
    "module",
    "function",
    "builtin_function_or_method",
    "instance",
    "_Feature"
   ],
   "window_display": false
  }
 },
 "nbformat": 4,
 "nbformat_minor": 5
}
