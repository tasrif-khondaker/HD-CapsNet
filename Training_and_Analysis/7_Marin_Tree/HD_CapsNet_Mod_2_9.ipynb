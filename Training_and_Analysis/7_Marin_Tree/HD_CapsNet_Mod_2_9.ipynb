{
 "cells": [
  {
   "cell_type": "markdown",
   "id": "6b24df6d",
   "metadata": {},
   "source": [
    "***\n",
    "<font size=\"6\"><center><b> HD-CapsNet: A Hierarchical Deep Capsule Network for Image Classification </b></center></font>\n",
    "***"
   ]
  },
  {
   "cell_type": "markdown",
   "id": "f691c83f",
   "metadata": {},
   "source": [
    "**Changing Model Architecture**\n",
    "- **(Mod-3.1)** 32D>16D>8D (Coarse>Medium>FINE) use skip connections between Secondary Capsules $Concatenate([P_{caps}, S_{coarse}])$ > input for $S_{medium}$ and $Concatenate([P_{caps}, S_{medium}])$ > input for $S_{fine}$\n",
    "- With $L_{Cons}$"
   ]
  },
  {
   "cell_type": "markdown",
   "id": "9ae9d6d5",
   "metadata": {},
   "source": [
    "# Files and Libraries"
   ]
  },
  {
   "cell_type": "code",
   "execution_count": 1,
   "id": "bc4aa737",
   "metadata": {},
   "outputs": [
    {
     "name": "stderr",
     "output_type": "stream",
     "text": [
      "2023-05-11 13:57:42.334427: I tensorflow/core/platform/cpu_feature_guard.cc:193] This TensorFlow binary is optimized with oneAPI Deep Neural Network Library (oneDNN) to use the following CPU instructions in performance-critical operations:  AVX2 AVX512F FMA\n",
      "To enable them in other operations, rebuild TensorFlow with the appropriate compiler flags.\n",
      "2023-05-11 13:57:45.768703: W tensorflow/compiler/xla/stream_executor/platform/default/dso_loader.cc:64] Could not load dynamic library 'libnvinfer.so.7'; dlerror: libnvinfer.so.7: cannot open shared object file: No such file or directory; LD_LIBRARY_PATH: :/home/knoor/.conda/envs/tfpy/lib/\n",
      "2023-05-11 13:57:45.769244: W tensorflow/compiler/xla/stream_executor/platform/default/dso_loader.cc:64] Could not load dynamic library 'libnvinfer_plugin.so.7'; dlerror: libnvinfer_plugin.so.7: cannot open shared object file: No such file or directory; LD_LIBRARY_PATH: :/home/knoor/.conda/envs/tfpy/lib/\n",
      "2023-05-11 13:57:45.769264: W tensorflow/compiler/tf2tensorrt/utils/py_utils.cc:38] TF-TRT Warning: Cannot dlopen some TensorRT libraries. If you would like to use Nvidia GPU with TensorRT, please make sure the missing libraries mentioned above are installed properly.\n"
     ]
    }
   ],
   "source": [
    "import tensorflow as tf\n",
    "from tensorflow import keras\n",
    "from tensorflow.keras.preprocessing.image import ImageDataGenerator\n",
    "from tensorflow.keras.models import Sequential\n",
    "from tensorflow.keras.layers import Dense, Activation, Flatten, Dropout, BatchNormalization\n",
    "from tensorflow.keras.layers import Conv2D, MaxPooling2D\n",
    "from tensorflow.keras import regularizers, optimizers\n",
    "from tensorflow.keras import backend as K\n",
    "\n",
    "import tensorflow_docs as tfdocs\n",
    "import tensorflow_docs.plots\n",
    "\n",
    "# Supporting Libraries:\n",
    "    #Mathplot lib for ploting graphs\n",
    "%matplotlib inline\n",
    "import matplotlib\n",
    "import matplotlib.pyplot as plt\n",
    "    # numpy and pandas\n",
    "import numpy as np\n",
    "import pandas as pd\n",
    "    #system\n",
    "import os\n",
    "import sys\n",
    "import csv\n",
    "    #import other libraries\n",
    "import math\n",
    "import random\n",
    "from datetime import datetime\n",
    "from treelib import Tree\n",
    "    # ML model, Dataset and evalution metrics\n",
    "sys.path.append('../../') ### adding system parth for src folder\n",
    "from src import datasets # load datasets\n",
    "from src import MixUp # load datasets\n",
    "from src import MixUp_add_loss # load datasets\n",
    "from src import metrics # load hierarchcial metrics\n",
    "from src import sysenv # load hierarchcial metrics\n",
    "from src import models # load machine learning models\n",
    "\n",
    "    ## Tensorflow_docs\n",
    "import tensorflow_docs as tfdocs\n",
    "import tensorflow_docs.plots\n",
    "\n",
    "    # Auto reload local libraries if updated\n",
    "%load_ext autoreload\n",
    "%autoreload 2"
   ]
  },
  {
   "cell_type": "markdown",
   "id": "3c2c610b",
   "metadata": {},
   "source": [
    "# System information & GPU growth"
   ]
  },
  {
   "cell_type": "code",
   "execution_count": 2,
   "id": "506c959d",
   "metadata": {},
   "outputs": [
    {
     "name": "stdout",
     "output_type": "stream",
     "text": [
      "\u001b[91m\u001b[1m\n",
      "• Computer Name = \u001b[0mposix\u001b[91m\u001b[1m\n",
      "• Working Directory = \u001b[0m/home/knoor/Downloads/RunningOnServer/HD_CapsNet/Training_and_Analysis/7_Marin_Tree\u001b[91m\u001b[1m\n",
      "• Python Version = \u001b[0m3.9.16 (main, Mar  8 2023, 14:00:05) \n",
      "[GCC 11.2.0]\u001b[91m\u001b[1m\n",
      "• TensorFlow Version = \u001b[0m2.11.0\u001b[91m\u001b[1m\n",
      "• Keras Version = \u001b[0m2.11.0\u001b[91m\u001b[1m\n",
      "• Current Environment = \u001b[0mNot Using Anaconda\n"
     ]
    }
   ],
   "source": [
    "systeminfo = sysenv.systeminfo()\n",
    "print(systeminfo)"
   ]
  },
  {
   "cell_type": "code",
   "execution_count": 3,
   "id": "832d5a45",
   "metadata": {},
   "outputs": [
    {
     "name": "stdout",
     "output_type": "stream",
     "text": [
      "Following GPUS are selected =  1,4\n",
      "Done: GPU PhysicalDevice(name='/physical_device:GPU:0', device_type='GPU')\n",
      "Done: GPU PhysicalDevice(name='/physical_device:GPU:1', device_type='GPU')\n",
      "2 Physical GPUs, 2 Logical GPUs\n"
     ]
    },
    {
     "name": "stderr",
     "output_type": "stream",
     "text": [
      "2023-05-11 13:57:55.758868: I tensorflow/core/platform/cpu_feature_guard.cc:193] This TensorFlow binary is optimized with oneAPI Deep Neural Network Library (oneDNN) to use the following CPU instructions in performance-critical operations:  AVX2 AVX512F FMA\n",
      "To enable them in other operations, rebuild TensorFlow with the appropriate compiler flags.\n",
      "2023-05-11 13:58:02.503822: I tensorflow/core/common_runtime/gpu/gpu_device.cc:1613] Created device /job:localhost/replica:0/task:0/device:GPU:0 with 10403 MB memory:  -> device: 0, name: NVIDIA GeForce GTX 1080 Ti, pci bus id: 0000:1b:00.0, compute capability: 6.1\n",
      "2023-05-11 13:58:02.527368: I tensorflow/core/common_runtime/gpu/gpu_device.cc:1613] Created device /job:localhost/replica:0/task:0/device:GPU:1 with 10379 MB memory:  -> device: 1, name: NVIDIA GeForce GTX 1080 Ti, pci bus id: 0000:88:00.0, compute capability: 6.1\n"
     ]
    }
   ],
   "source": [
    "gpus = \"0,1,2,3,4,5,6,7\" ## Selecting Available gpus (Multi-GPUS)\n",
    "gpus = \"1,4\" ## Selecting Available gpus (Single GPU)\n",
    "gpugrowth = sysenv.gpugrowth(gpus = gpus) ## Limiting GPUS from OS environment\n",
    "gpugrowth.memory_growth() #GPU memory growth"
   ]
  },
  {
   "cell_type": "markdown",
   "id": "cd551837",
   "metadata": {},
   "source": [
    "# Parameters"
   ]
  },
  {
   "cell_type": "code",
   "execution_count": 4,
   "id": "445ee1d5",
   "metadata": {},
   "outputs": [],
   "source": [
    "train_params = {\"n_epochs\" : 100,\n",
    "                \"batch_size\": 64,\n",
    "                \"lr\": 0.001, # Initial learning rate\n",
    "                \"lr_decay\": 0.95, # Learning rate decay\n",
    "                \"decay_exe\": 9, #learning rate decay execution epoch after\n",
    "               }\n",
    "model_params = {\"optimizer\": tf.keras.optimizers.Adam(train_params['lr']),\n",
    "                \"loss_function\": models.MarginLoss(),\n",
    "               }"
   ]
  },
  {
   "cell_type": "markdown",
   "id": "ad98815c",
   "metadata": {},
   "source": [
    "# log directory"
   ]
  },
  {
   "cell_type": "code",
   "execution_count": 5,
   "id": "63ace371",
   "metadata": {
    "scrolled": true
   },
   "outputs": [
    {
     "name": "stdout",
     "output_type": "stream",
     "text": [
      "FOLDER CREATED =  ../../logs/7_Marine_Tree/HD_CapsNet/Mod_2_9\n"
     ]
    }
   ],
   "source": [
    "directory = sysenv.log_dir('7_Marine_Tree/HD_CapsNet/Mod_2_9')"
   ]
  },
  {
   "cell_type": "markdown",
   "id": "9cfde972",
   "metadata": {},
   "source": [
    "# Import Dataset : Marine Tree Dataset"
   ]
  },
  {
   "cell_type": "code",
   "execution_count": 6,
   "id": "4714d33f",
   "metadata": {},
   "outputs": [
    {
     "name": "stdout",
     "output_type": "stream",
     "text": [
      "WARNING:tensorflow:From /home/knoor/.conda/envs/tfpy/lib/python3.9/site-packages/tensorflow/python/autograph/pyct/static_analysis/liveness.py:83: Analyzer.lamba_check (from tensorflow.python.autograph.pyct.static_analysis.liveness) is deprecated and will be removed after 2023-09-23.\n",
      "Instructions for updating:\n",
      "Lambda fuctions will be no more assumed to be used in the statement where they are used, or at least in the same block. https://github.com/tensorflow/tensorflow/issues/56089\n"
     ]
    }
   ],
   "source": [
    "dataset = datasets.get_Marine_dataset(output_level='level_depth_3', # 'level_depth_3', 'level_depth_4', 'level_depth_5\n",
    "#                                       dataset_path ='D:\\Datasets\\Marine_tree', ## Path to the dataset directory\n",
    "                                      dataset_path ='/home/knoor/Downloads/RunningOnServer/H-CapsNet_Revision/Dataset/Marine_tree', ## Path to the dataset directory\n",
    "                                      image_size=(64,64),\n",
    "                                      batch_size=train_params['batch_size'],\n",
    "                                      subtype='Combined',\n",
    "                                      data_normalizing ='normalize',\n",
    "                                      class_encoding = 'One_Hot_Encoder',\n",
    "                                      data_augmantation = 'mixup'\n",
    "                                     )"
   ]
  },
  {
   "cell_type": "code",
   "execution_count": 7,
   "id": "0ac17124",
   "metadata": {
    "scrolled": true
   },
   "outputs": [
    {
     "name": "stderr",
     "output_type": "stream",
     "text": [
      "2023-05-11 13:58:41.725745: I tensorflow/core/kernels/data/shuffle_dataset_op.cc:392] Filling up shuffle buffer (this may take a while): 4497 of 6400\n",
      "2023-05-11 13:58:45.839525: I tensorflow/core/kernels/data/shuffle_dataset_op.cc:417] Shuffle buffer filled.\n",
      "2023-05-11 13:58:56.052187: I tensorflow/core/kernels/data/shuffle_dataset_op.cc:392] Filling up shuffle buffer (this may take a while): 4764 of 6400\n",
      "2023-05-11 13:58:58.598397: I tensorflow/core/kernels/data/shuffle_dataset_op.cc:417] Shuffle buffer filled.\n"
     ]
    },
    {
     "name": "stdout",
     "output_type": "stream",
     "text": [
      "Example =  0\n"
     ]
    },
    {
     "data": {
      "image/png": "[encoded data removed]",
      "text/plain": [
       "<Figure size 640x480 with 1 Axes>"
      ]
     },
     "metadata": {},
     "output_type": "display_data"
    },
    {
     "name": "stdout",
     "output_type": "stream",
     "text": [
      "Coarse = {0: 1.0}\n",
      "Medium = {6: 0.99941164, 7: 0.0005883711}\n",
      "Fine   = {25: 0.99941164, 33: 0.0005883711}\n",
      "Example =  1\n"
     ]
    },
    {
     "data": {
      "image/png": "[encoded data removed]",
      "text/plain": [
       "<Figure size 640x480 with 1 Axes>"
      ]
     },
     "metadata": {},
     "output_type": "display_data"
    },
    {
     "name": "stdout",
     "output_type": "stream",
     "text": [
      "Coarse = {0: 1.0}\n",
      "Medium = {7: 1.0}\n",
      "Fine   = {1: 0.9991058, 33: 0.00089416985}\n",
      "Example =  2\n"
     ]
    },
    {
     "data": {
      "image/png": "[encoded data removed]",
      "text/plain": [
       "<Figure size 640x480 with 1 Axes>"
      ]
     },
     "metadata": {},
     "output_type": "display_data"
    },
    {
     "name": "stdout",
     "output_type": "stream",
     "text": [
      "Coarse = {0: 0.046058, 1: 0.953942}\n",
      "Medium = {7: 0.046058, 9: 0.953942}\n",
      "Fine   = {33: 0.046058, 37: 0.953942}\n",
      "Example =  3\n"
     ]
    }
   ],
   "source": [
    "for x,y in dataset.train_dataset.take(1):\n",
    "    for i in range(len(x)):\n",
    "        print('Example = ', i)\n",
    "        plt.imshow(x[i])\n",
    "        plt.show()\n",
    "        print('Coarse =', {k:v for k,v in enumerate(y[0][i].numpy()) if v != 0}) # coarse lables\n",
    "        print('Medium =', {k:v for k,v in enumerate(y[1][i].numpy()) if v != 0}) # medium lables\n",
    "        print('Fine   =', {k:v for k,v in enumerate(y[2][i].numpy()) if v != 0}) # fine lables"
   ]
  },
  {
   "cell_type": "code",
   "execution_count": 8,
   "id": "18d4db5b",
   "metadata": {},
   "outputs": [
    {
     "name": "stderr",
     "output_type": "stream",
     "text": [
      "2023-05-11 14:01:13.948008: I tensorflow/core/kernels/data/shuffle_dataset_op.cc:392] Filling up shuffle buffer (this may take a while): 6183 of 6400\n",
      "2023-05-11 14:01:14.229358: I tensorflow/core/kernels/data/shuffle_dataset_op.cc:417] Shuffle buffer filled.\n"
     ]
    }
   ],
   "source": [
    "for x,y in dataset.train_dataset.take(1):\n",
    "    image_shape = x.shape[1:]\n",
    "    coarse_label_shape = y[0].shape[1:]\n",
    "    medium_label_shape = y[1].shape[1:]\n",
    "    fine_label_shape = y[2].shape[1:]"
   ]
  },
  {
   "cell_type": "markdown",
   "id": "3f38ee07",
   "metadata": {},
   "source": [
    "## Learning Rate Decay Scheduler"
   ]
  },
  {
   "cell_type": "code",
   "execution_count": 9,
   "id": "3ed77d4a",
   "metadata": {},
   "outputs": [],
   "source": [
    "def scheduler(epoch):\n",
    "    learning_rate_init = train_params[\"lr\"]\n",
    "    \n",
    "    if epoch > train_params[\"decay_exe\"]:\n",
    "        learning_rate_init = train_params[\"lr\"] * (train_params[\"lr_decay\"] ** (epoch-9))\n",
    "        \n",
    "    tf.summary.scalar('learning rate', data=learning_rate_init, step=epoch)\n",
    "        \n",
    "    return learning_rate_init"
   ]
  },
  {
   "cell_type": "markdown",
   "id": "dfc5ea00",
   "metadata": {},
   "source": [
    "# Model Architecture"
   ]
  },
  {
   "cell_type": "markdown",
   "id": "dee6349a",
   "metadata": {},
   "source": [
    "## Loss Function"
   ]
  },
  {
   "cell_type": "code",
   "execution_count": 10,
   "id": "48854261",
   "metadata": {},
   "outputs": [],
   "source": [
    "coarse_class, medium_class, fine_class = dataset.num_classes\n",
    "\n",
    "## For Dynamic LossWeights\n",
    "initial_lw = models.initial_lw({\"coarse\": coarse_class,\n",
    "                                 \"medium\": medium_class,\n",
    "                                 \"fine\": fine_class})\n",
    "\n",
    "lossweight = {'coarse_lw' : K.variable(value = initial_lw['coarse'], dtype=\"float32\", name=\"coarse_lw\"),\n",
    "             'medium_lw' : K.variable(value = initial_lw['medium'], dtype=\"float32\", name=\"medium_lw\"),\n",
    "             'fine_lw' : K.variable(value = initial_lw['fine'], dtype=\"float32\", name=\"fine_lw\"),\n",
    "              'decoder_lw' : 0.0\n",
    "             }"
   ]
  },
  {
   "cell_type": "code",
   "execution_count": 11,
   "id": "8b69892d",
   "metadata": {},
   "outputs": [],
   "source": [
    "Matrix_coarse_to_medium_OneHot = dataset.Matrix_coarse_to_medium_OneHot\n",
    "Matrix_medium_to_fine_OneHot = dataset.Matrix_medium_to_fine_OneHot"
   ]
  },
  {
   "cell_type": "code",
   "execution_count": 12,
   "id": "796bab2a",
   "metadata": {},
   "outputs": [],
   "source": [
    "def margin_loss(y_true, y_proba):\n",
    "    \n",
    "    present_error_raw = tf.square(tf.maximum(0., 0.9 - y_proba), name=\"present_error_raw\")\n",
    "    absent_error_raw = tf.square(tf.maximum(0., y_proba - 0.1), name=\"absent_error_raw\")\n",
    "    L = tf.add(y_true * present_error_raw, 0.5 * (1.0 - y_true) * absent_error_raw,name=\"L\")\n",
    "    total_marginloss = tf.reduce_sum(L, axis=1, name=\"margin_loss\")\n",
    "\n",
    "    return total_marginloss\n",
    "\n",
    "\n",
    "def consistency_check(y_pred_ancestor,y_pred_current,lookup_matrix,num_class_current):\n",
    "    pred_max_ancestor = tf.argmax(y_pred_ancestor,axis=1)\n",
    "    pred_max_current = tf.argmax(y_pred_current,axis=1)\n",
    "    \n",
    "    consistant_check = tf.gather(lookup_matrix, indices=pred_max_ancestor)*tf.one_hot(pred_max_current,num_class_current)\n",
    "    \n",
    "    return tf.reduce_sum(consistant_check,1)\n",
    "\n",
    "def get_consistency(y_true_ancestor, y_pred, lookup_matrix):\n",
    "    '''\n",
    "    Get consistency based on 2 levels\n",
    "    Provide ture levels for the level above, predictions for the current level and a look up metrix\n",
    "    '''\n",
    "    y_prob = tf.math.divide(y_pred,tf.reshape(tf.reduce_sum(y_pred,-1),(-1,1),name='reshape'),name='Probability')\n",
    "    \n",
    "    index_for_predictions = tf.cast(tf.math.argmax(y_true_ancestor,axis=1),dtype= 'int32')\n",
    "    consistent_fine = tf.gather(lookup_matrix, indices=index_for_predictions) * y_prob\n",
    "    Consistency_sum_array = tf.reduce_sum(consistent_fine, axis =1)\n",
    "    \n",
    "    return tf.abs(1-Consistency_sum_array)\n",
    "\n",
    "def CustomLoss(y_true_c, y_true_m, y_true_f, y_pred_c, y_pred_m, y_pred_f, LW_C, LW_M, LW_F,\n",
    "               number_of_classes_m, number_of_classes_f, C_Weight=0.2):\n",
    "    \n",
    "    con_m = consistency_check(y_pred_c,y_pred_m,Matrix_coarse_to_medium_OneHot,num_class_current=number_of_classes_m)\n",
    "    con_m_not = tf.abs(con_m-1)\n",
    "    \n",
    "    con_f = consistency_check(y_pred_m,y_pred_f,Matrix_medium_to_fine_OneHot,num_class_current=number_of_classes_f)\n",
    "    con_f_not = tf.abs(con_f-1)\n",
    "    \n",
    "    con_sum_m = get_consistency(y_true_c,y_pred_m,Matrix_coarse_to_medium_OneHot)\n",
    "    con_sum_f = get_consistency(y_true_m,y_pred_f,Matrix_medium_to_fine_OneHot)\n",
    "    \n",
    "    medium_lvl_cosistency = con_sum_m * con_m_not\n",
    "    fine_lvl_cosistency = con_sum_f * con_f_not    \n",
    "   \n",
    "    ML_c = margin_loss(y_true_c, y_pred_c)*LW_C\n",
    "    ML_m = LW_M*((1-C_Weight)*(margin_loss(y_true_m, y_pred_m))+C_Weight*(medium_lvl_cosistency))\n",
    "    ML_f = LW_F*((1-C_Weight)*(margin_loss(y_true_f, y_pred_f))+C_Weight*(fine_lvl_cosistency))\n",
    "    \n",
    "    batch_loss = ML_c + ML_m+ ML_f\n",
    "\n",
    "    return tf.reduce_mean(batch_loss)"
   ]
  },
  {
   "cell_type": "markdown",
   "id": "6a497572",
   "metadata": {},
   "source": [
    "## Architecture"
   ]
  },
  {
   "cell_type": "code",
   "execution_count": 13,
   "id": "f935c049",
   "metadata": {},
   "outputs": [],
   "source": [
    "def get_compiled_model():\n",
    "    \n",
    "    ## Calling the HD-CapsNet Model\n",
    "    model = models.HD_CapsNet_without_skip(input_shape     = image_shape, \n",
    "                                            input_shape_yc  = coarse_label_shape,\n",
    "                                            input_shape_ym  = medium_label_shape,\n",
    "                                            input_shape_yf  = fine_label_shape, \n",
    "                                            no_coarse_class = coarse_class, \n",
    "                                            no_medium_class = medium_class, \n",
    "                                            no_fine_class   = fine_class,\n",
    "                                            PCap_n_dims     = 8, \n",
    "                                            SCap_f_dims     = 16, \n",
    "                                            SCap_m_dims     = 32, \n",
    "                                            SCap_c_dims     = 64\n",
    "                                            )\n",
    "    \n",
    "    ## Saving Model Architecture\n",
    "    keras.utils.plot_model(model, to_file = directory+\"/Architecture.png\", show_shapes=True)\n",
    "    \n",
    "    ## Add Loss for Model\n",
    "    model.add_loss(CustomLoss(y_true_c            = model.inputs[1], \n",
    "                              y_true_m            = model.inputs[2], \n",
    "                              y_true_f            = model.inputs[3], \n",
    "                              y_pred_c            = model.output[0], \n",
    "                              y_pred_m            = model.output[1], \n",
    "                              y_pred_f            = model.output[2], \n",
    "                              LW_C                = lossweight['coarse_lw'], \n",
    "                              LW_M                = lossweight['medium_lw'], \n",
    "                              LW_F                = lossweight['fine_lw'],\n",
    "                              number_of_classes_m = medium_class, \n",
    "                              number_of_classes_f = fine_class, \n",
    "                              C_Weight            =0.2)\n",
    "                  )\n",
    "    \n",
    "    ## Compile Model\n",
    "    model.compile(optimizer='adam',                  \n",
    "                  metrics={'prediction_fine': 'accuracy',\n",
    "                           'prediction_medium': 'accuracy',\n",
    "                           'prediction_coarse': 'accuracy'}\n",
    "                 )\n",
    "    return model"
   ]
  },
  {
   "cell_type": "markdown",
   "id": "86393b7d",
   "metadata": {},
   "source": [
    "## Compile Model"
   ]
  },
  {
   "cell_type": "raw",
   "id": "05797918",
   "metadata": {},
   "source": [
    "model = get_compiled_model()"
   ]
  },
  {
   "cell_type": "code",
   "execution_count": 14,
   "id": "d3acd8d7",
   "metadata": {},
   "outputs": [
    {
     "name": "stdout",
     "output_type": "stream",
     "text": [
      "INFO:tensorflow:Using MirroredStrategy with devices ('/job:localhost/replica:0/task:0/device:GPU:0', '/job:localhost/replica:0/task:0/device:GPU:1')\n",
      "Number of devices: 2\n",
      "INFO:tensorflow:Reduce to /job:localhost/replica:0/task:0/device:CPU:0 then broadcast to ('/job:localhost/replica:0/task:0/device:CPU:0',).\n",
      "INFO:tensorflow:Reduce to /job:localhost/replica:0/task:0/device:CPU:0 then broadcast to ('/job:localhost/replica:0/task:0/device:CPU:0',).\n",
      "INFO:tensorflow:Reduce to /job:localhost/replica:0/task:0/device:CPU:0 then broadcast to ('/job:localhost/replica:0/task:0/device:CPU:0',).\n",
      "INFO:tensorflow:Reduce to /job:localhost/replica:0/task:0/device:CPU:0 then broadcast to ('/job:localhost/replica:0/task:0/device:CPU:0',).\n",
      "INFO:tensorflow:Reduce to /job:localhost/replica:0/task:0/device:CPU:0 then broadcast to ('/job:localhost/replica:0/task:0/device:CPU:0',).\n",
      "INFO:tensorflow:Reduce to /job:localhost/replica:0/task:0/device:CPU:0 then broadcast to ('/job:localhost/replica:0/task:0/device:CPU:0',).\n",
      "INFO:tensorflow:Reduce to /job:localhost/replica:0/task:0/device:CPU:0 then broadcast to ('/job:localhost/replica:0/task:0/device:CPU:0',).\n",
      "INFO:tensorflow:Reduce to /job:localhost/replica:0/task:0/device:CPU:0 then broadcast to ('/job:localhost/replica:0/task:0/device:CPU:0',).\n",
      "INFO:tensorflow:Reduce to /job:localhost/replica:0/task:0/device:CPU:0 then broadcast to ('/job:localhost/replica:0/task:0/device:CPU:0',).\n",
      "INFO:tensorflow:Reduce to /job:localhost/replica:0/task:0/device:CPU:0 then broadcast to ('/job:localhost/replica:0/task:0/device:CPU:0',).\n",
      "WARNING:tensorflow:The following Variables were used in a Lambda layer's call (tf.math.multiply_9), but are not present in its tracked objects:   <tf.Variable 'coarse_lw:0' shape=() dtype=float32>. This is a strong indication that the Lambda layer should be rewritten as a subclassed Layer.\n"
     ]
    }
   ],
   "source": [
    "# strategy = models.multi_gpu_select('windows')\n",
    "strategy = models.multi_gpu_select('linux')\n",
    "\n",
    "print(\"Number of devices: {}\".format(strategy.num_replicas_in_sync))\n",
    "\n",
    "with strategy.scope():\n",
    "    # Everything that creates variables should be under the strategy scope.\n",
    "    # In general this is only model construction & `compile()`.\n",
    "    model = get_compiled_model()"
   ]
  },
  {
   "cell_type": "code",
   "execution_count": 15,
   "id": "a1e4b982",
   "metadata": {
    "scrolled": true
   },
   "outputs": [
    {
     "name": "stdout",
     "output_type": "stream",
     "text": [
      "Model: \"HD-CapsNet\"\n",
      "__________________________________________________________________________________________________\n",
      " Layer (type)                   Output Shape         Param #     Connected to                     \n",
      "==================================================================================================\n",
      " Input_Image (InputLayer)       [(None, 64, 64, 3)]  0           []                               \n",
      "                                                                                                  \n",
      " block1_conv1 (Conv2D)          (None, 64, 64, 64)   1792        ['Input_Image[0][0]']            \n",
      "                                                                                                  \n",
      " batch_normalization (BatchNorm  (None, 64, 64, 64)  256         ['block1_conv1[0][0]']           \n",
      " alization)                                                                                       \n",
      "                                                                                                  \n",
      " block1_conv2 (Conv2D)          (None, 64, 64, 64)   36928       ['batch_normalization[0][0]']    \n",
      "                                                                                                  \n",
      " batch_normalization_1 (BatchNo  (None, 64, 64, 64)  256         ['block1_conv2[0][0]']           \n",
      " rmalization)                                                                                     \n",
      "                                                                                                  \n",
      " block1_pool (MaxPooling2D)     (None, 32, 32, 64)   0           ['batch_normalization_1[0][0]']  \n",
      "                                                                                                  \n",
      " block2_conv1 (Conv2D)          (None, 32, 32, 128)  73856       ['block1_pool[0][0]']            \n",
      "                                                                                                  \n",
      " batch_normalization_2 (BatchNo  (None, 32, 32, 128)  512        ['block2_conv1[0][0]']           \n",
      " rmalization)                                                                                     \n",
      "                                                                                                  \n",
      " block2_conv2 (Conv2D)          (None, 32, 32, 128)  147584      ['batch_normalization_2[0][0]']  \n",
      "                                                                                                  \n",
      " batch_normalization_3 (BatchNo  (None, 32, 32, 128)  512        ['block2_conv2[0][0]']           \n",
      " rmalization)                                                                                     \n",
      "                                                                                                  \n",
      " block2_pool (MaxPooling2D)     (None, 16, 16, 128)  0           ['batch_normalization_3[0][0]']  \n",
      "                                                                                                  \n",
      " block3_conv1 (Conv2D)          (None, 16, 16, 256)  295168      ['block2_pool[0][0]']            \n",
      "                                                                                                  \n",
      " batch_normalization_4 (BatchNo  (None, 16, 16, 256)  1024       ['block3_conv1[0][0]']           \n",
      " rmalization)                                                                                     \n",
      "                                                                                                  \n",
      " block3_conv2 (Conv2D)          (None, 16, 16, 256)  590080      ['batch_normalization_4[0][0]']  \n",
      "                                                                                                  \n",
      " batch_normalization_5 (BatchNo  (None, 16, 16, 256)  1024       ['block3_conv2[0][0]']           \n",
      " rmalization)                                                                                     \n",
      "                                                                                                  \n",
      " block3_pool (MaxPooling2D)     (None, 8, 8, 256)    0           ['batch_normalization_5[0][0]']  \n",
      "                                                                                                  \n",
      " block4_conv1 (Conv2D)          (None, 8, 8, 512)    1180160     ['block3_pool[0][0]']            \n",
      "                                                                                                  \n",
      " batch_normalization_6 (BatchNo  (None, 8, 8, 512)   2048        ['block4_conv1[0][0]']           \n",
      " rmalization)                                                                                     \n",
      "                                                                                                  \n",
      " block4_conv2 (Conv2D)          (None, 8, 8, 512)    2359808     ['batch_normalization_6[0][0]']  \n",
      "                                                                                                  \n",
      " batch_normalization_7 (BatchNo  (None, 8, 8, 512)   2048        ['block4_conv2[0][0]']           \n",
      " rmalization)                                                                                     \n",
      "                                                                                                  \n",
      " block4_pool (MaxPooling2D)     (None, 4, 4, 512)    0           ['batch_normalization_7[0][0]']  \n",
      "                                                                                                  \n",
      " reshape_layer (Reshape)        (None, 1024, 8)      0           ['block4_pool[0][0]']            \n",
      "                                                                                                  \n",
      " p_caps (Lambda)                (None, 1024, 8)      0           ['reshape_layer[0][0]']          \n",
      "                                                                                                  \n",
      " s_caps_coarse (SecondaryCapsul  (None, 2, 64)       1048576     ['p_caps[0][0]']                 \n",
      " e)                                                                                               \n",
      "                                                                                                  \n",
      " s_caps_medium (SecondaryCapsul  (None, 10, 32)      40960       ['s_caps_coarse[0][0]']          \n",
      " e)                                                                                               \n",
      "                                                                                                  \n",
      " s_caps_fine (SecondaryCapsule)  (None, 38, 16)      194560      ['s_caps_medium[0][0]']          \n",
      "                                                                                                  \n",
      " input_yc (InputLayer)          [(None, 2)]          0           []                               \n",
      "                                                                                                  \n",
      " input_ym (InputLayer)          [(None, 10)]         0           []                               \n",
      "                                                                                                  \n",
      " input_yf (InputLayer)          [(None, 38)]         0           []                               \n",
      "                                                                                                  \n",
      " prediction_coarse (LengthLayer  (None, 2)           0           ['s_caps_coarse[0][0]']          \n",
      " )                                                                                                \n",
      "                                                                                                  \n",
      " prediction_medium (LengthLayer  (None, 10)          0           ['s_caps_medium[0][0]']          \n",
      " )                                                                                                \n",
      "                                                                                                  \n",
      " prediction_fine (LengthLayer)  (None, 38)           0           ['s_caps_fine[0][0]']            \n",
      "                                                                                                  \n",
      " tf.math.argmax_4 (TFOpLambda)  (None,)              0           ['input_yc[0][0]']               \n",
      "                                                                                                  \n",
      " tf.math.reduce_sum_2 (TFOpLamb  (None,)             0           ['prediction_medium[0][0]']      \n",
      " da)                                                                                              \n"
     ]
    },
    {
     "name": "stdout",
     "output_type": "stream",
     "text": [
      "                                                                                                  \n",
      " tf.cast (TFOpLambda)           (None,)              0           ['tf.math.argmax_4[0][0]']       \n",
      "                                                                                                  \n",
      " tf.reshape (TFOpLambda)        (None, 1)            0           ['tf.math.reduce_sum_2[0][0]']   \n",
      "                                                                                                  \n",
      " tf.math.argmax (TFOpLambda)    (None,)              0           ['prediction_coarse[0][0]']      \n",
      "                                                                                                  \n",
      " tf.math.argmax_1 (TFOpLambda)  (None,)              0           ['prediction_medium[0][0]']      \n",
      "                                                                                                  \n",
      " tf.math.argmax_5 (TFOpLambda)  (None,)              0           ['input_ym[0][0]']               \n",
      "                                                                                                  \n",
      " tf.math.reduce_sum_4 (TFOpLamb  (None,)             0           ['prediction_fine[0][0]']        \n",
      " da)                                                                                              \n",
      "                                                                                                  \n",
      " tf.math.subtract_7 (TFOpLambda  (None, 10)          0           ['prediction_medium[0][0]']      \n",
      " )                                                                                                \n",
      "                                                                                                  \n",
      " tf.math.subtract_8 (TFOpLambda  (None, 10)          0           ['prediction_medium[0][0]']      \n",
      " )                                                                                                \n",
      "                                                                                                  \n",
      " tf.compat.v1.gather_2 (TFOpLam  (None, 10)          0           ['tf.cast[0][0]']                \n",
      " bda)                                                                                             \n",
      "                                                                                                  \n",
      " tf.math.divide (TFOpLambda)    (None, 10)           0           ['prediction_medium[0][0]',      \n",
      "                                                                  'tf.reshape[0][0]']             \n",
      "                                                                                                  \n",
      " tf.compat.v1.gather (TFOpLambd  (None, 10)          0           ['tf.math.argmax[0][0]']         \n",
      " a)                                                                                               \n",
      "                                                                                                  \n",
      " tf.one_hot (TFOpLambda)        (None, 10)           0           ['tf.math.argmax_1[0][0]']       \n",
      "                                                                                                  \n",
      " tf.cast_1 (TFOpLambda)         (None,)              0           ['tf.math.argmax_5[0][0]']       \n",
      "                                                                                                  \n",
      " tf.reshape_1 (TFOpLambda)      (None, 1)            0           ['tf.math.reduce_sum_4[0][0]']   \n",
      "                                                                                                  \n",
      " tf.math.argmax_2 (TFOpLambda)  (None,)              0           ['prediction_medium[0][0]']      \n",
      "                                                                                                  \n",
      " tf.math.argmax_3 (TFOpLambda)  (None,)              0           ['prediction_fine[0][0]']        \n",
      "                                                                                                  \n",
      " tf.math.maximum_2 (TFOpLambda)  (None, 10)          0           ['tf.math.subtract_7[0][0]']     \n",
      "                                                                                                  \n",
      " tf.math.subtract_9 (TFOpLambda  (None, 10)          0           ['input_ym[0][0]']               \n",
      " )                                                                                                \n",
      "                                                                                                  \n",
      " tf.math.maximum_3 (TFOpLambda)  (None, 10)          0           ['tf.math.subtract_8[0][0]']     \n",
      "                                                                                                  \n",
      " tf.math.multiply_2 (TFOpLambda  (None, 10)          0           ['tf.compat.v1.gather_2[0][0]',  \n",
      " )                                                                'tf.math.divide[0][0]']         \n",
      "                                                                                                  \n",
      " tf.math.multiply (TFOpLambda)  (None, 10)           0           ['tf.compat.v1.gather[0][0]',    \n",
      "                                                                  'tf.one_hot[0][0]']             \n",
      "                                                                                                  \n",
      " tf.math.subtract_10 (TFOpLambd  (None, 38)          0           ['prediction_fine[0][0]']        \n",
      " a)                                                                                               \n",
      "                                                                                                  \n",
      " tf.math.subtract_11 (TFOpLambd  (None, 38)          0           ['prediction_fine[0][0]']        \n",
      " a)                                                                                               \n",
      "                                                                                                  \n",
      " tf.compat.v1.gather_3 (TFOpLam  (None, 38)          0           ['tf.cast_1[0][0]']              \n",
      " bda)                                                                                             \n",
      "                                                                                                  \n",
      " tf.math.divide_1 (TFOpLambda)  (None, 38)           0           ['prediction_fine[0][0]',        \n",
      "                                                                  'tf.reshape_1[0][0]']           \n",
      "                                                                                                  \n",
      " tf.compat.v1.gather_1 (TFOpLam  (None, 38)          0           ['tf.math.argmax_2[0][0]']       \n",
      " bda)                                                                                             \n",
      "                                                                                                  \n",
      " tf.one_hot_1 (TFOpLambda)      (None, 38)           0           ['tf.math.argmax_3[0][0]']       \n",
      "                                                                                                  \n",
      " tf.math.subtract_4 (TFOpLambda  (None, 2)           0           ['prediction_coarse[0][0]']      \n",
      " )                                                                                                \n",
      "                                                                                                  \n",
      " tf.math.subtract_5 (TFOpLambda  (None, 2)           0           ['prediction_coarse[0][0]']      \n",
      " )                                                                                                \n",
      "                                                                                                  \n",
      " tf.math.square_2 (TFOpLambda)  (None, 10)           0           ['tf.math.maximum_2[0][0]']      \n",
      "                                                                                                  \n",
      " tf.math.multiply_11 (TFOpLambd  (None, 10)          0           ['tf.math.subtract_9[0][0]']     \n",
      " a)                                                                                               \n",
      "                                                                                                  \n",
      " tf.math.square_3 (TFOpLambda)  (None, 10)           0           ['tf.math.maximum_3[0][0]']      \n",
      "                                                                                                  \n",
      " tf.math.reduce_sum_3 (TFOpLamb  (None,)             0           ['tf.math.multiply_2[0][0]']     \n"
     ]
    },
    {
     "name": "stdout",
     "output_type": "stream",
     "text": [
      " da)                                                                                              \n",
      "                                                                                                  \n",
      " tf.math.reduce_sum (TFOpLambda  (None,)             0           ['tf.math.multiply[0][0]']       \n",
      " )                                                                                                \n",
      "                                                                                                  \n",
      " tf.math.maximum_4 (TFOpLambda)  (None, 38)          0           ['tf.math.subtract_10[0][0]']    \n",
      "                                                                                                  \n",
      " tf.math.subtract_12 (TFOpLambd  (None, 38)          0           ['input_yf[0][0]']               \n",
      " a)                                                                                               \n",
      "                                                                                                  \n",
      " tf.math.maximum_5 (TFOpLambda)  (None, 38)          0           ['tf.math.subtract_11[0][0]']    \n",
      "                                                                                                  \n",
      " tf.math.multiply_3 (TFOpLambda  (None, 38)          0           ['tf.compat.v1.gather_3[0][0]',  \n",
      " )                                                                'tf.math.divide_1[0][0]']       \n",
      "                                                                                                  \n",
      " tf.math.multiply_1 (TFOpLambda  (None, 38)          0           ['tf.compat.v1.gather_1[0][0]',  \n",
      " )                                                                'tf.one_hot_1[0][0]']           \n",
      "                                                                                                  \n",
      " tf.math.maximum (TFOpLambda)   (None, 2)            0           ['tf.math.subtract_4[0][0]']     \n",
      "                                                                                                  \n",
      " tf.math.subtract_6 (TFOpLambda  (None, 2)           0           ['input_yc[0][0]']               \n",
      " )                                                                                                \n",
      "                                                                                                  \n",
      " tf.math.maximum_1 (TFOpLambda)  (None, 2)           0           ['tf.math.subtract_5[0][0]']     \n",
      "                                                                                                  \n",
      " tf.math.multiply_10 (TFOpLambd  (None, 10)          0           ['input_ym[0][0]',               \n",
      " a)                                                               'tf.math.square_2[0][0]']       \n",
      "                                                                                                  \n",
      " tf.math.multiply_12 (TFOpLambd  (None, 10)          0           ['tf.math.multiply_11[0][0]',    \n",
      " a)                                                               'tf.math.square_3[0][0]']       \n",
      "                                                                                                  \n",
      " tf.math.subtract_2 (TFOpLambda  (None,)             0           ['tf.math.reduce_sum_3[0][0]']   \n",
      " )                                                                                                \n",
      "                                                                                                  \n",
      " tf.math.subtract (TFOpLambda)  (None,)              0           ['tf.math.reduce_sum[0][0]']     \n",
      "                                                                                                  \n",
      " tf.math.square_4 (TFOpLambda)  (None, 38)           0           ['tf.math.maximum_4[0][0]']      \n",
      "                                                                                                  \n",
      " tf.math.multiply_17 (TFOpLambd  (None, 38)          0           ['tf.math.subtract_12[0][0]']    \n",
      " a)                                                                                               \n",
      "                                                                                                  \n",
      " tf.math.square_5 (TFOpLambda)  (None, 38)           0           ['tf.math.maximum_5[0][0]']      \n",
      "                                                                                                  \n",
      " tf.math.reduce_sum_5 (TFOpLamb  (None,)             0           ['tf.math.multiply_3[0][0]']     \n",
      " da)                                                                                              \n",
      "                                                                                                  \n",
      " tf.math.reduce_sum_1 (TFOpLamb  (None,)             0           ['tf.math.multiply_1[0][0]']     \n",
      " da)                                                                                              \n",
      "                                                                                                  \n",
      " tf.math.square (TFOpLambda)    (None, 2)            0           ['tf.math.maximum[0][0]']        \n",
      "                                                                                                  \n",
      " tf.math.multiply_7 (TFOpLambda  (None, 2)           0           ['tf.math.subtract_6[0][0]']     \n",
      " )                                                                                                \n",
      "                                                                                                  \n",
      " tf.math.square_1 (TFOpLambda)  (None, 2)            0           ['tf.math.maximum_1[0][0]']      \n",
      "                                                                                                  \n",
      " tf.math.add_1 (TFOpLambda)     (None, 10)           0           ['tf.math.multiply_10[0][0]',    \n",
      "                                                                  'tf.math.multiply_12[0][0]']    \n",
      "                                                                                                  \n",
      " tf.math.abs_2 (TFOpLambda)     (None,)              0           ['tf.math.subtract_2[0][0]']     \n",
      "                                                                                                  \n",
      " tf.math.abs (TFOpLambda)       (None,)              0           ['tf.math.subtract[0][0]']       \n",
      "                                                                                                  \n",
      " tf.math.multiply_16 (TFOpLambd  (None, 38)          0           ['input_yf[0][0]',               \n",
      " a)                                                               'tf.math.square_4[0][0]']       \n",
      "                                                                                                  \n",
      " tf.math.multiply_18 (TFOpLambd  (None, 38)          0           ['tf.math.multiply_17[0][0]',    \n",
      " a)                                                               'tf.math.square_5[0][0]']       \n",
      "                                                                                                  \n",
      " tf.math.subtract_3 (TFOpLambda  (None,)             0           ['tf.math.reduce_sum_5[0][0]']   \n",
      " )                                                                                                \n",
      "                                                                                                  \n",
      " tf.math.subtract_1 (TFOpLambda  (None,)             0           ['tf.math.reduce_sum_1[0][0]']   \n",
      " )                                                                                                \n",
      "                                                                                                  \n",
      " tf.math.multiply_6 (TFOpLambda  (None, 2)           0           ['input_yc[0][0]',               \n",
      " )                                                                'tf.math.square[0][0]']         \n",
      "                                                                                                  \n",
      " tf.math.multiply_8 (TFOpLambda  (None, 2)           0           ['tf.math.multiply_7[0][0]',     \n",
      " )                                                                'tf.math.square_1[0][0]']       \n",
      "                                                                                                  \n",
      " tf.math.reduce_sum_7 (TFOpLamb  (None,)             0           ['tf.math.add_1[0][0]']          \n",
      " da)                                                                                              \n"
     ]
    },
    {
     "name": "stdout",
     "output_type": "stream",
     "text": [
      "                                                                                                  \n",
      " tf.math.multiply_4 (TFOpLambda  (None,)             0           ['tf.math.abs_2[0][0]',          \n",
      " )                                                                'tf.math.abs[0][0]']            \n",
      "                                                                                                  \n",
      " tf.math.add_2 (TFOpLambda)     (None, 38)           0           ['tf.math.multiply_16[0][0]',    \n",
      "                                                                  'tf.math.multiply_18[0][0]']    \n",
      "                                                                                                  \n",
      " tf.math.abs_3 (TFOpLambda)     (None,)              0           ['tf.math.subtract_3[0][0]']     \n",
      "                                                                                                  \n",
      " tf.math.abs_1 (TFOpLambda)     (None,)              0           ['tf.math.subtract_1[0][0]']     \n",
      "                                                                                                  \n",
      " tf.math.add (TFOpLambda)       (None, 2)            0           ['tf.math.multiply_6[0][0]',     \n",
      "                                                                  'tf.math.multiply_8[0][0]']     \n",
      "                                                                                                  \n",
      " tf.math.multiply_13 (TFOpLambd  (None,)             0           ['tf.math.reduce_sum_7[0][0]']   \n",
      " a)                                                                                               \n",
      "                                                                                                  \n",
      " tf.math.multiply_14 (TFOpLambd  (None,)             0           ['tf.math.multiply_4[0][0]']     \n",
      " a)                                                                                               \n",
      "                                                                                                  \n",
      " tf.math.reduce_sum_8 (TFOpLamb  (None,)             0           ['tf.math.add_2[0][0]']          \n",
      " da)                                                                                              \n",
      "                                                                                                  \n",
      " tf.math.multiply_5 (TFOpLambda  (None,)             0           ['tf.math.abs_3[0][0]',          \n",
      " )                                                                'tf.math.abs_1[0][0]']          \n",
      "                                                                                                  \n",
      " tf.math.reduce_sum_6 (TFOpLamb  (None,)             0           ['tf.math.add[0][0]']            \n",
      " da)                                                                                              \n",
      "                                                                                                  \n",
      " tf.__operators__.add (TFOpLamb  (None,)             0           ['tf.math.multiply_13[0][0]',    \n",
      " da)                                                              'tf.math.multiply_14[0][0]']    \n",
      "                                                                                                  \n",
      " tf.math.multiply_19 (TFOpLambd  (None,)             0           ['tf.math.reduce_sum_8[0][0]']   \n",
      " a)                                                                                               \n",
      "                                                                                                  \n",
      " tf.math.multiply_20 (TFOpLambd  (None,)             0           ['tf.math.multiply_5[0][0]']     \n",
      " a)                                                                                               \n",
      "                                                                                                  \n",
      " tf.math.multiply_9 (TFOpLambda  (None,)             0           ['tf.math.reduce_sum_6[0][0]']   \n",
      " )                                                                                                \n",
      "                                                                                                  \n",
      " tf.math.multiply_15 (TFOpLambd  (None,)             0           ['tf.__operators__.add[0][0]']   \n",
      " a)                                                                                               \n",
      "                                                                                                  \n",
      " tf.__operators__.add_1 (TFOpLa  (None,)             0           ['tf.math.multiply_19[0][0]',    \n",
      " mbda)                                                            'tf.math.multiply_20[0][0]']    \n",
      "                                                                                                  \n",
      " tf.__operators__.add_2 (TFOpLa  (None,)             0           ['tf.math.multiply_9[0][0]',     \n",
      " mbda)                                                            'tf.math.multiply_15[0][0]']    \n",
      "                                                                                                  \n",
      " tf.math.multiply_21 (TFOpLambd  (None,)             0           ['tf.__operators__.add_1[0][0]'] \n",
      " a)                                                                                               \n",
      "                                                                                                  \n",
      " tf.__operators__.add_3 (TFOpLa  (None,)             0           ['tf.__operators__.add_2[0][0]', \n",
      " mbda)                                                            'tf.math.multiply_21[0][0]']    \n",
      "                                                                                                  \n",
      " tf.math.reduce_mean (TFOpLambd  ()                  0           ['tf.__operators__.add_3[0][0]'] \n",
      " a)                                                                                               \n",
      "                                                                                                  \n",
      " add_loss (AddLoss)             ()                   0           ['tf.math.reduce_mean[0][0]']    \n",
      "                                                                                                  \n",
      "==================================================================================================\n",
      "Total params: 5,977,152\n",
      "Trainable params: 5,973,312\n",
      "Non-trainable params: 3,840\n",
      "__________________________________________________________________________________________________\n"
     ]
    }
   ],
   "source": [
    "model.summary()\n",
    "# keras.utils.plot_model(model, to_file = directory+\"/Architecture.png\", show_shapes=True)"
   ]
  },
  {
   "cell_type": "markdown",
   "id": "8078d887",
   "metadata": {},
   "source": [
    "## Training Pipeline Alignment"
   ]
  },
  {
   "cell_type": "code",
   "execution_count": 16,
   "id": "d6d82a21",
   "metadata": {},
   "outputs": [],
   "source": [
    "#### Matching the pipeling with model inputs\n",
    "def pipeline_multi_input_output(image, label):\n",
    "    label_0 = label[0]\n",
    "    label_1 = label[1]\n",
    "    label_2 = label[2]\n",
    "    return (image, label_0, label_1, label_2), (label_0, label_1, label_2)\n",
    "\n",
    "training_dataset_match = dataset.train_dataset.map(pipeline_multi_input_output) ## Mixup dataset\n",
    "val_dataset_match = dataset.val_dataset.map(pipeline_multi_input_output) ## Val Dataset"
   ]
  },
  {
   "cell_type": "markdown",
   "id": "cb67d719",
   "metadata": {},
   "source": [
    "## Callback"
   ]
  },
  {
   "cell_type": "code",
   "execution_count": 17,
   "id": "9e0a123c",
   "metadata": {},
   "outputs": [],
   "source": [
    "tb = keras.callbacks.TensorBoard(directory+'/tb_logs'+ datetime.now().strftime(\"%Y%m%d-%H%M%S\"))\n",
    "log = keras.callbacks.CSVLogger(directory+'/log.csv', append=True)\n",
    "\n",
    "checkpoint = keras.callbacks.ModelCheckpoint(directory+'/epoch-best.h5',\n",
    "                                             monitor='val_prediction_fine_accuracy',\n",
    "                                             save_best_only=True, \n",
    "                                             save_weights_only=True, \n",
    "                                             verbose=1)\n",
    "\n",
    "change_lw = models.LossWeightsModifier(lossweight = lossweight,\n",
    "                                       initial_lw = initial_lw,\n",
    "                                       directory = directory)\n",
    "\n",
    "lr_decay = keras.callbacks.LearningRateScheduler(scheduler)"
   ]
  },
  {
   "cell_type": "markdown",
   "id": "bdc176a2",
   "metadata": {},
   "source": [
    "## Model Training"
   ]
  },
  {
   "cell_type": "code",
   "execution_count": 18,
   "id": "eac4a0be",
   "metadata": {
    "scrolled": true
   },
   "outputs": [
    {
     "name": "stderr",
     "output_type": "stream",
     "text": [
      "2023-05-11 14:01:31.865874: W tensorflow/core/grappler/optimizers/data/auto_shard.cc:784] AUTO sharding policy will apply DATA sharding policy as it failed to apply FILE sharding policy because of the following reason: Found an unshardable source dataset: name: \"TensorSliceDataset/_8\"\n",
      "op: \"TensorSliceDataset\"\n",
      "input: \"Placeholder/_0\"\n",
      "input: \"Placeholder/_1\"\n",
      "input: \"Placeholder/_2\"\n",
      "input: \"Placeholder/_3\"\n",
      "input: \"Placeholder/_4\"\n",
      "input: \"Placeholder/_5\"\n",
      "input: \"Placeholder/_6\"\n",
      "input: \"Placeholder/_7\"\n",
      "attr {\n",
      "  key: \"Toutput_types\"\n",
      "  value {\n",
      "    list {\n",
      "      type: DT_STRING\n",
      "      type: DT_INT32\n",
      "      type: DT_INT32\n",
      "      type: DT_INT32\n",
      "      type: DT_INT32\n",
      "      type: DT_INT32\n",
      "      type: DT_STRING\n",
      "      type: DT_STRING\n",
      "    }\n",
      "  }\n",
      "}\n",
      "attr {\n",
      "  key: \"_cardinality\"\n",
      "  value {\n",
      "    i: 118260\n",
      "  }\n",
      "}\n",
      "attr {\n",
      "  key: \"is_files\"\n",
      "  value {\n",
      "    b: false\n",
      "  }\n",
      "}\n",
      "attr {\n",
      "  key: \"metadata\"\n",
      "  value {\n",
      "    s: \"\\n\\024TensorSliceDataset:0\"\n",
      "  }\n",
      "}\n",
      "attr {\n",
      "  key: \"output_shapes\"\n",
      "  value {\n",
      "    list {\n",
      "      shape {\n",
      "      }\n",
      "      shape {\n",
      "      }\n",
      "      shape {\n",
      "      }\n",
      "      shape {\n",
      "      }\n",
      "      shape {\n",
      "      }\n",
      "      shape {\n",
      "      }\n",
      "      shape {\n",
      "      }\n",
      "      shape {\n",
      "      }\n",
      "    }\n",
      "  }\n",
      "}\n",
      "attr {\n",
      "  key: \"replicate_on_split\"\n",
      "  value {\n",
      "    b: false\n",
      "  }\n",
      "}\n",
      "experimental_type {\n",
      "  type_id: TFT_PRODUCT\n",
      "  args {\n",
      "    type_id: TFT_DATASET\n",
      "    args {\n",
      "      type_id: TFT_PRODUCT\n",
      "      args {\n",
      "        type_id: TFT_TENSOR\n",
      "        args {\n",
      "          type_id: TFT_STRING\n",
      "        }\n",
      "      }\n",
      "      args {\n",
      "        type_id: TFT_TENSOR\n",
      "        args {\n",
      "          type_id: TFT_INT32\n",
      "        }\n",
      "      }\n",
      "      args {\n",
      "        type_id: TFT_TENSOR\n",
      "        args {\n",
      "          type_id: TFT_INT32\n",
      "        }\n",
      "      }\n",
      "      args {\n",
      "        type_id: TFT_TENSOR\n",
      "        args {\n",
      "          type_id: TFT_INT32\n",
      "        }\n",
      "      }\n",
      "      args {\n",
      "        type_id: TFT_TENSOR\n",
      "        args {\n",
      "          type_id: TFT_INT32\n",
      "        }\n",
      "      }\n",
      "      args {\n",
      "        type_id: TFT_TENSOR\n",
      "        args {\n",
      "          type_id: TFT_INT32\n",
      "        }\n",
      "      }\n",
      "      args {\n",
      "        type_id: TFT_TENSOR\n",
      "        args {\n",
      "          type_id: TFT_STRING\n",
      "        }\n",
      "      }\n",
      "      args {\n",
      "        type_id: TFT_TENSOR\n",
      "        args {\n",
      "          type_id: TFT_STRING\n",
      "        }\n",
      "      }\n",
      "    }\n",
      "  }\n",
      "}\n",
      "\n"
     ]
    },
    {
     "name": "stdout",
     "output_type": "stream",
     "text": [
      "WARNING:tensorflow:Model failed to serialize as JSON. Ignoring... Unable to serialize VariableSpec(shape=(), dtype=tf.float32, trainable=True, alias_id=None) to JSON, because the TypeSpec class <class 'tensorflow.python.ops.resource_variable_ops.VariableSpec'> has not been registered.\n",
      "Epoch 1/100\n",
      "INFO:tensorflow:batch_all_reduce: 35 all-reduces with algorithm = nccl, num_packs = 1\n",
      "INFO:tensorflow:batch_all_reduce: 35 all-reduces with algorithm = nccl, num_packs = 1\n"
     ]
    },
    {
     "name": "stderr",
     "output_type": "stream",
     "text": [
      "2023-05-11 14:02:51.933924: I tensorflow/core/kernels/data/shuffle_dataset_op.cc:392] Filling up shuffle buffer (this may take a while): 5889 of 6400\n",
      "2023-05-11 14:02:52.544674: I tensorflow/core/kernels/data/shuffle_dataset_op.cc:417] Shuffle buffer filled.\n",
      "2023-05-11 14:03:02.655599: I tensorflow/core/kernels/data/shuffle_dataset_op.cc:392] Filling up shuffle buffer (this may take a while): 4171 of 6400\n",
      "2023-05-11 14:03:06.086594: I tensorflow/core/kernels/data/shuffle_dataset_op.cc:417] Shuffle buffer filled.\n",
      "2023-05-11 14:03:13.085146: I tensorflow/compiler/xla/stream_executor/cuda/cuda_dnn.cc:428] Loaded cuDNN version 8100\n",
      "2023-05-11 14:03:14.612618: I tensorflow/compiler/xla/stream_executor/cuda/cuda_dnn.cc:428] Loaded cuDNN version 8100\n",
      "2023-05-11 14:03:19.964324: I tensorflow/tsl/platform/default/subprocess.cc:304] Start cannot spawn child process: No such file or directory\n",
      "2023-05-11 14:03:34.502544: I tensorflow/compiler/xla/service/service.cc:173] XLA service 0x7f10291eda70 initialized for platform CUDA (this does not guarantee that XLA will be used). Devices:\n",
      "2023-05-11 14:03:34.502621: I tensorflow/compiler/xla/service/service.cc:181]   StreamExecutor device (0): NVIDIA GeForce GTX 1080 Ti, Compute Capability 6.1\n",
      "2023-05-11 14:03:34.502633: I tensorflow/compiler/xla/service/service.cc:181]   StreamExecutor device (1): NVIDIA GeForce GTX 1080 Ti, Compute Capability 6.1\n",
      "2023-05-11 14:03:34.544832: I tensorflow/compiler/mlir/tensorflow/utils/dump_mlir_util.cc:268] disabling MLIR crash reproducer, set env var `MLIR_CRASH_REPRODUCER_DIRECTORY` to enable.\n",
      "2023-05-11 14:03:35.092896: I tensorflow/tsl/platform/default/subprocess.cc:304] Start cannot spawn child process: No such file or directory\n",
      "2023-05-11 14:03:35.463084: I tensorflow/compiler/jit/xla_compilation_cache.cc:477] Compiled cluster using XLA!  This line is logged at most once for the lifetime of the process.\n"
     ]
    },
    {
     "name": "stdout",
     "output_type": "stream",
     "text": [
      "   6/1848 [..............................] - ETA: 4:03 - loss: 0.5285 - prediction_coarse_accuracy: 0.7422 - prediction_medium_accuracy: 0.6172 - prediction_fine_accuracy: 0.0391WARNING:tensorflow:Callback method `on_train_batch_end` is slow compared to the batch time (batch time: 0.1232s vs `on_train_batch_end` time: 0.4023s). Check your callbacks.\n",
      "1848/1848 [==============================] - ETA: 0s - loss: 0.3167 - prediction_coarse_accuracy: 0.7488 - prediction_medium_accuracy: 0.7125 - prediction_fine_accuracy: 0.3624"
     ]
    },
    {
     "name": "stderr",
     "output_type": "stream",
     "text": [
      "2023-05-11 14:12:21.454718: W tensorflow/core/grappler/optimizers/data/auto_shard.cc:784] AUTO sharding policy will apply DATA sharding policy as it failed to apply FILE sharding policy because of the following reason: Found an unshardable source dataset: name: \"TensorSliceDataset/_8\"\n",
      "op: \"TensorSliceDataset\"\n",
      "input: \"Placeholder/_0\"\n",
      "input: \"Placeholder/_1\"\n",
      "input: \"Placeholder/_2\"\n",
      "input: \"Placeholder/_3\"\n",
      "input: \"Placeholder/_4\"\n",
      "input: \"Placeholder/_5\"\n",
      "input: \"Placeholder/_6\"\n",
      "input: \"Placeholder/_7\"\n",
      "attr {\n",
      "  key: \"Toutput_types\"\n",
      "  value {\n",
      "    list {\n",
      "      type: DT_STRING\n",
      "      type: DT_INT32\n",
      "      type: DT_INT32\n",
      "      type: DT_INT32\n",
      "      type: DT_INT32\n",
      "      type: DT_INT32\n",
      "      type: DT_STRING\n",
      "      type: DT_STRING\n",
      "    }\n",
      "  }\n",
      "}\n",
      "attr {\n",
      "  key: \"_cardinality\"\n",
      "  value {\n",
      "    i: 16127\n",
      "  }\n",
      "}\n",
      "attr {\n",
      "  key: \"is_files\"\n",
      "  value {\n",
      "    b: false\n",
      "  }\n",
      "}\n",
      "attr {\n",
      "  key: \"metadata\"\n",
      "  value {\n",
      "    s: \"\\n\\025TensorSliceDataset:16\"\n",
      "  }\n",
      "}\n",
      "attr {\n",
      "  key: \"output_shapes\"\n",
      "  value {\n",
      "    list {\n",
      "      shape {\n",
      "      }\n",
      "      shape {\n",
      "      }\n",
      "      shape {\n",
      "      }\n",
      "      shape {\n",
      "      }\n",
      "      shape {\n",
      "      }\n",
      "      shape {\n",
      "      }\n",
      "      shape {\n",
      "      }\n",
      "      shape {\n",
      "      }\n",
      "    }\n",
      "  }\n",
      "}\n",
      "attr {\n",
      "  key: \"replicate_on_split\"\n",
      "  value {\n",
      "    b: false\n",
      "  }\n",
      "}\n",
      "experimental_type {\n",
      "  type_id: TFT_PRODUCT\n",
      "  args {\n",
      "    type_id: TFT_DATASET\n",
      "    args {\n",
      "      type_id: TFT_PRODUCT\n",
      "      args {\n",
      "        type_id: TFT_TENSOR\n",
      "        args {\n",
      "          type_id: TFT_STRING\n",
      "        }\n",
      "      }\n",
      "      args {\n",
      "        type_id: TFT_TENSOR\n",
      "        args {\n",
      "          type_id: TFT_INT32\n",
      "        }\n",
      "      }\n",
      "      args {\n",
      "        type_id: TFT_TENSOR\n",
      "        args {\n",
      "          type_id: TFT_INT32\n",
      "        }\n",
      "      }\n",
      "      args {\n",
      "        type_id: TFT_TENSOR\n",
      "        args {\n",
      "          type_id: TFT_INT32\n",
      "        }\n",
      "      }\n",
      "      args {\n",
      "        type_id: TFT_TENSOR\n",
      "        args {\n",
      "          type_id: TFT_INT32\n",
      "        }\n",
      "      }\n",
      "      args {\n",
      "        type_id: TFT_TENSOR\n",
      "        args {\n",
      "          type_id: TFT_INT32\n",
      "        }\n",
      "      }\n",
      "      args {\n",
      "        type_id: TFT_TENSOR\n",
      "        args {\n",
      "          type_id: TFT_STRING\n",
      "        }\n",
      "      }\n",
      "      args {\n",
      "        type_id: TFT_TENSOR\n",
      "        args {\n",
      "          type_id: TFT_STRING\n",
      "        }\n",
      "      }\n",
      "    }\n",
      "  }\n",
      "}\n",
      "\n"
     ]
    },
    {
     "name": "stdout",
     "output_type": "stream",
     "text": [
      "\n",
      "\u001b[91m \u001b[1m • Coarse Accuracy = 74.88% | Val_Accuracy = 65.77% | LossWeight = 0.39 \u001b[0m\n",
      "\u001b[91m \u001b[1m • Medium Accuracy = 71.25% | Val_Accuracy = 72.20% | LossWeight = 0.37 \u001b[0m\n",
      "\u001b[91m \u001b[1m • Fine   Accuracy = 36.24% | Val_Accuracy = 43.20% | LossWeight = 0.25 \u001b[0m\n",
      "\n",
      "Epoch 1: val_prediction_fine_accuracy improved from -inf to 0.43201, saving model to ../../logs/7_Marine_Tree/HD_CapsNet/Mod_2_9/epoch-best.h5\n",
      "1848/1848 [==============================] - 802s 358ms/step - loss: 0.3167 - prediction_coarse_accuracy: 0.7488 - prediction_medium_accuracy: 0.7125 - prediction_fine_accuracy: 0.3624 - val_loss: 0.3033 - val_prediction_coarse_accuracy: 0.6577 - val_prediction_medium_accuracy: 0.7220 - val_prediction_fine_accuracy: 0.4320 - lr: 0.0010\n",
      "Epoch 2/100\n"
     ]
    },
    {
     "name": "stderr",
     "output_type": "stream",
     "text": [
      "2023-05-11 14:15:14.520689: I tensorflow/core/kernels/data/shuffle_dataset_op.cc:392] Filling up shuffle buffer (this may take a while): 5921 of 6400\n",
      "2023-05-11 14:15:15.028209: I tensorflow/core/kernels/data/shuffle_dataset_op.cc:417] Shuffle buffer filled.\n",
      "2023-05-11 14:15:25.154628: I tensorflow/core/kernels/data/shuffle_dataset_op.cc:392] Filling up shuffle buffer (this may take a while): 3364 of 6400\n",
      "2023-05-11 14:15:29.658980: I tensorflow/core/kernels/data/shuffle_dataset_op.cc:417] Shuffle buffer filled.\n"
     ]
    },
    {
     "name": "stdout",
     "output_type": "stream",
     "text": [
      "1848/1848 [==============================] - ETA: 0s - loss: 0.2623 - prediction_coarse_accuracy: 0.8570 - prediction_medium_accuracy: 0.7354 - prediction_fine_accuracy: 0.4377\n",
      "\u001b[91m \u001b[1m • Coarse Accuracy = 85.70% | Val_Accuracy = 85.84% | LossWeight = 0.28 \u001b[0m\n",
      "\u001b[91m \u001b[1m • Medium Accuracy = 73.54% | Val_Accuracy = 74.92% | LossWeight = 0.44 \u001b[0m\n",
      "\u001b[91m \u001b[1m • Fine   Accuracy = 43.77% | Val_Accuracy = 46.56% | LossWeight = 0.28 \u001b[0m\n",
      "\n",
      "Epoch 2: val_prediction_fine_accuracy improved from 0.43201 to 0.46562, saving model to ../../logs/7_Marine_Tree/HD_CapsNet/Mod_2_9/epoch-best.h5\n",
      "1848/1848 [==============================] - 320s 159ms/step - loss: 0.2623 - prediction_coarse_accuracy: 0.8570 - prediction_medium_accuracy: 0.7354 - prediction_fine_accuracy: 0.4377 - val_loss: 0.2547 - val_prediction_coarse_accuracy: 0.8584 - val_prediction_medium_accuracy: 0.7492 - val_prediction_fine_accuracy: 0.4656 - lr: 0.0010\n",
      "Epoch 3/100\n",
      "1848/1848 [==============================] - ETA: 0s - loss: 0.2154 - prediction_coarse_accuracy: 0.8573 - prediction_medium_accuracy: 0.7537 - prediction_fine_accuracy: 0.4639\n",
      "\u001b[91m \u001b[1m • Coarse Accuracy = 85.73% | Val_Accuracy = 85.84% | LossWeight = 0.30 \u001b[0m\n",
      "\u001b[91m \u001b[1m • Medium Accuracy = 75.37% | Val_Accuracy = 75.53% | LossWeight = 0.43 \u001b[0m\n",
      "\u001b[91m \u001b[1m • Fine   Accuracy = 46.39% | Val_Accuracy = 46.75% | LossWeight = 0.28 \u001b[0m\n",
      "\n",
      "Epoch 3: val_prediction_fine_accuracy improved from 0.46562 to 0.46754, saving model to ../../logs/7_Marine_Tree/HD_CapsNet/Mod_2_9/epoch-best.h5\n",
      "1848/1848 [==============================] - 304s 154ms/step - loss: 0.2154 - prediction_coarse_accuracy: 0.8573 - prediction_medium_accuracy: 0.7537 - prediction_fine_accuracy: 0.4639 - val_loss: 0.2138 - val_prediction_coarse_accuracy: 0.8584 - val_prediction_medium_accuracy: 0.7553 - val_prediction_fine_accuracy: 0.4675 - lr: 0.0010\n",
      "Epoch 4/100\n",
      "1848/1848 [==============================] - ETA: 0s - loss: 0.2164 - prediction_coarse_accuracy: 0.8571 - prediction_medium_accuracy: 0.7668 - prediction_fine_accuracy: 0.4779\n",
      "\u001b[91m \u001b[1m • Coarse Accuracy = 85.71% | Val_Accuracy = 85.84% | LossWeight = 0.31 \u001b[0m\n",
      "\u001b[91m \u001b[1m • Medium Accuracy = 76.68% | Val_Accuracy = 76.93% | LossWeight = 0.42 \u001b[0m\n",
      "\u001b[91m \u001b[1m • Fine   Accuracy = 47.79% | Val_Accuracy = 48.97% | LossWeight = 0.28 \u001b[0m\n",
      "\n",
      "Epoch 4: val_prediction_fine_accuracy improved from 0.46754 to 0.48974, saving model to ../../logs/7_Marine_Tree/HD_CapsNet/Mod_2_9/epoch-best.h5\n",
      "1848/1848 [==============================] - 302s 153ms/step - loss: 0.2164 - prediction_coarse_accuracy: 0.8571 - prediction_medium_accuracy: 0.7668 - prediction_fine_accuracy: 0.4779 - val_loss: 0.2124 - val_prediction_coarse_accuracy: 0.8584 - val_prediction_medium_accuracy: 0.7693 - val_prediction_fine_accuracy: 0.4897 - lr: 0.0010\n",
      "Epoch 5/100\n",
      "1848/1848 [==============================] - ETA: 0s - loss: 0.2171 - prediction_coarse_accuracy: 0.8593 - prediction_medium_accuracy: 0.7802 - prediction_fine_accuracy: 0.4932\n",
      "\u001b[91m \u001b[1m • Coarse Accuracy = 85.93% | Val_Accuracy = 85.84% | LossWeight = 0.31 \u001b[0m\n",
      "\u001b[91m \u001b[1m • Medium Accuracy = 78.02% | Val_Accuracy = 78.22% | LossWeight = 0.41 \u001b[0m\n",
      "\u001b[91m \u001b[1m • Fine   Accuracy = 49.32% | Val_Accuracy = 51.40% | LossWeight = 0.28 \u001b[0m\n",
      "\n",
      "Epoch 5: val_prediction_fine_accuracy improved from 0.48974 to 0.51404, saving model to ../../logs/7_Marine_Tree/HD_CapsNet/Mod_2_9/epoch-best.h5\n",
      "1848/1848 [==============================] - 323s 164ms/step - loss: 0.2171 - prediction_coarse_accuracy: 0.8593 - prediction_medium_accuracy: 0.7802 - prediction_fine_accuracy: 0.4932 - val_loss: 0.2125 - val_prediction_coarse_accuracy: 0.8584 - val_prediction_medium_accuracy: 0.7822 - val_prediction_fine_accuracy: 0.5140 - lr: 0.0010\n",
      "Epoch 6/100\n",
      "1848/1848 [==============================] - ETA: 0s - loss: 0.2166 - prediction_coarse_accuracy: 0.8586 - prediction_medium_accuracy: 0.7903 - prediction_fine_accuracy: 0.5081\n",
      "\u001b[91m \u001b[1m • Coarse Accuracy = 85.86% | Val_Accuracy = 85.81% | LossWeight = 0.32 \u001b[0m\n",
      "\u001b[91m \u001b[1m • Medium Accuracy = 79.03% | Val_Accuracy = 78.10% | LossWeight = 0.40 \u001b[0m\n",
      "\u001b[91m \u001b[1m • Fine   Accuracy = 50.81% | Val_Accuracy = 50.00% | LossWeight = 0.28 \u001b[0m\n",
      "\n",
      "Epoch 6: val_prediction_fine_accuracy did not improve from 0.51404\n",
      "1848/1848 [==============================] - 344s 177ms/step - loss: 0.2166 - prediction_coarse_accuracy: 0.8586 - prediction_medium_accuracy: 0.7903 - prediction_fine_accuracy: 0.5081 - val_loss: 0.2155 - val_prediction_coarse_accuracy: 0.8581 - val_prediction_medium_accuracy: 0.7810 - val_prediction_fine_accuracy: 0.5000 - lr: 0.0010\n",
      "Epoch 7/100\n",
      "1848/1848 [==============================] - ETA: 0s - loss: 0.2186 - prediction_coarse_accuracy: 0.8576 - prediction_medium_accuracy: 0.7983 - prediction_fine_accuracy: 0.5194\n",
      "\u001b[91m \u001b[1m • Coarse Accuracy = 85.76% | Val_Accuracy = 85.82% | LossWeight = 0.33 \u001b[0m\n",
      "\u001b[91m \u001b[1m • Medium Accuracy = 79.83% | Val_Accuracy = 79.06% | LossWeight = 0.39 \u001b[0m\n",
      "\u001b[91m \u001b[1m • Fine   Accuracy = 51.94% | Val_Accuracy = 51.77% | LossWeight = 0.28 \u001b[0m\n",
      "\n",
      "Epoch 7: val_prediction_fine_accuracy improved from 0.51404 to 0.51770, saving model to ../../logs/7_Marine_Tree/HD_CapsNet/Mod_2_9/epoch-best.h5\n",
      "1848/1848 [==============================] - 331s 169ms/step - loss: 0.2186 - prediction_coarse_accuracy: 0.8576 - prediction_medium_accuracy: 0.7983 - prediction_fine_accuracy: 0.5194 - val_loss: 0.2155 - val_prediction_coarse_accuracy: 0.8582 - val_prediction_medium_accuracy: 0.7906 - val_prediction_fine_accuracy: 0.5177 - lr: 0.0010\n",
      "Epoch 8/100\n"
     ]
    },
    {
     "name": "stderr",
     "output_type": "stream",
     "text": [
      "2023-05-11 14:49:19.894227: I tensorflow/core/kernels/data/shuffle_dataset_op.cc:392] Filling up shuffle buffer (this may take a while): 6305 of 6400\n",
      "2023-05-11 14:49:20.042075: I tensorflow/core/kernels/data/shuffle_dataset_op.cc:417] Shuffle buffer filled.\n",
      "2023-05-11 14:49:30.131312: I tensorflow/core/kernels/data/shuffle_dataset_op.cc:392] Filling up shuffle buffer (this may take a while): 3892 of 6400\n",
      "2023-05-11 14:49:33.917206: I tensorflow/core/kernels/data/shuffle_dataset_op.cc:417] Shuffle buffer filled.\n"
     ]
    },
    {
     "name": "stdout",
     "output_type": "stream",
     "text": [
      "1848/1848 [==============================] - ETA: 0s - loss: 0.2185 - prediction_coarse_accuracy: 0.8579 - prediction_medium_accuracy: 0.8130 - prediction_fine_accuracy: 0.5356\n",
      "\u001b[91m \u001b[1m • Coarse Accuracy = 85.79% | Val_Accuracy = 85.84% | LossWeight = 0.34 \u001b[0m\n",
      "\u001b[91m \u001b[1m • Medium Accuracy = 81.30% | Val_Accuracy = 79.09% | LossWeight = 0.38 \u001b[0m\n",
      "\u001b[91m \u001b[1m • Fine   Accuracy = 53.56% | Val_Accuracy = 53.18% | LossWeight = 0.28 \u001b[0m\n",
      "\n",
      "Epoch 8: val_prediction_fine_accuracy improved from 0.51770 to 0.53184, saving model to ../../logs/7_Marine_Tree/HD_CapsNet/Mod_2_9/epoch-best.h5\n",
      "1848/1848 [==============================] - 345s 173ms/step - loss: 0.2185 - prediction_coarse_accuracy: 0.8579 - prediction_medium_accuracy: 0.8130 - prediction_fine_accuracy: 0.5356 - val_loss: 0.2192 - val_prediction_coarse_accuracy: 0.8584 - val_prediction_medium_accuracy: 0.7909 - val_prediction_fine_accuracy: 0.5318 - lr: 0.0010\n",
      "Epoch 9/100\n",
      "1848/1848 [==============================] - ETA: 0s - loss: 0.2206 - prediction_coarse_accuracy: 0.8600 - prediction_medium_accuracy: 0.8238 - prediction_fine_accuracy: 0.5498\n",
      "\u001b[91m \u001b[1m • Coarse Accuracy = 86.00% | Val_Accuracy = 85.84% | LossWeight = 0.35 \u001b[0m\n",
      "\u001b[91m \u001b[1m • Medium Accuracy = 82.38% | Val_Accuracy = 72.88% | LossWeight = 0.37 \u001b[0m\n",
      "\u001b[91m \u001b[1m • Fine   Accuracy = 54.98% | Val_Accuracy = 45.23% | LossWeight = 0.28 \u001b[0m\n",
      "\n",
      "Epoch 9: val_prediction_fine_accuracy did not improve from 0.53184\n",
      "1848/1848 [==============================] - 338s 172ms/step - loss: 0.2206 - prediction_coarse_accuracy: 0.8600 - prediction_medium_accuracy: 0.8238 - prediction_fine_accuracy: 0.5498 - val_loss: 0.2422 - val_prediction_coarse_accuracy: 0.8584 - val_prediction_medium_accuracy: 0.7288 - val_prediction_fine_accuracy: 0.4523 - lr: 0.0010\n",
      "Epoch 10/100\n",
      "1848/1848 [==============================] - ETA: 0s - loss: 0.2196 - prediction_coarse_accuracy: 0.8602 - prediction_medium_accuracy: 0.8408 - prediction_fine_accuracy: 0.5637\n",
      "\u001b[91m \u001b[1m • Coarse Accuracy = 86.02% | Val_Accuracy = 86.46% | LossWeight = 0.37 \u001b[0m\n",
      "\u001b[91m \u001b[1m • Medium Accuracy = 84.08% | Val_Accuracy = 79.16% | LossWeight = 0.35 \u001b[0m\n",
      "\u001b[91m \u001b[1m • Fine   Accuracy = 56.37% | Val_Accuracy = 53.58% | LossWeight = 0.29 \u001b[0m\n",
      "\n",
      "Epoch 10: val_prediction_fine_accuracy improved from 0.53184 to 0.53581, saving model to ../../logs/7_Marine_Tree/HD_CapsNet/Mod_2_9/epoch-best.h5\n",
      "1848/1848 [==============================] - 356s 183ms/step - loss: 0.2196 - prediction_coarse_accuracy: 0.8602 - prediction_medium_accuracy: 0.8408 - prediction_fine_accuracy: 0.5637 - val_loss: 0.2270 - val_prediction_coarse_accuracy: 0.8646 - val_prediction_medium_accuracy: 0.7916 - val_prediction_fine_accuracy: 0.5358 - lr: 0.0010\n",
      "Epoch 11/100\n",
      "1396/1848 [=====================>........] - ETA: 1:26 - loss: 0.2229 - prediction_coarse_accuracy: 0.8639 - prediction_medium_accuracy: 0.8523 - prediction_fine_accuracy: 0.5759\n",
      "\u001b[91m \u001b[1m • Coarse Accuracy = 86.43% | Val_Accuracy = 86.65% | LossWeight = 0.38 \u001b[0m\n",
      "\u001b[91m \u001b[1m • Medium Accuracy = 85.55% | Val_Accuracy = 77.64% | LossWeight = 0.33 \u001b[0m\n",
      "\u001b[91m \u001b[1m • Fine   Accuracy = 57.93% | Val_Accuracy = 53.37% | LossWeight = 0.29 \u001b[0m\n",
      "\n",
      "Epoch 11: val_prediction_fine_accuracy did not improve from 0.53581\n",
      "1848/1848 [==============================] - 398s 205ms/step - loss: 0.2222 - prediction_coarse_accuracy: 0.8643 - prediction_medium_accuracy: 0.8555 - prediction_fine_accuracy: 0.5793 - val_loss: 0.2387 - val_prediction_coarse_accuracy: 0.8665 - val_prediction_medium_accuracy: 0.7764 - val_prediction_fine_accuracy: 0.5337 - lr: 9.5000e-04\n",
      "Epoch 12/100\n"
     ]
    },
    {
     "name": "stderr",
     "output_type": "stream",
     "text": [
      "2023-05-11 15:15:16.115965: I tensorflow/core/kernels/data/shuffle_dataset_op.cc:392] Filling up shuffle buffer (this may take a while): 6278 of 6400\n",
      "2023-05-11 15:15:16.307792: I tensorflow/core/kernels/data/shuffle_dataset_op.cc:417] Shuffle buffer filled.\n"
     ]
    },
    {
     "name": "stdout",
     "output_type": "stream",
     "text": [
      "1848/1848 [==============================] - ETA: 0s - loss: 0.2212 - prediction_coarse_accuracy: 0.8625 - prediction_medium_accuracy: 0.8724 - prediction_fine_accuracy: 0.5946\n",
      "\u001b[91m \u001b[1m • Coarse Accuracy = 86.25% | Val_Accuracy = 86.76% | LossWeight = 0.40 \u001b[0m\n",
      "\u001b[91m \u001b[1m • Medium Accuracy = 87.24% | Val_Accuracy = 78.89% | LossWeight = 0.31 \u001b[0m\n",
      "\u001b[91m \u001b[1m • Fine   Accuracy = 59.46% | Val_Accuracy = 53.87% | LossWeight = 0.29 \u001b[0m\n",
      "\n",
      "Epoch 12: val_prediction_fine_accuracy improved from 0.53581 to 0.53866, saving model to ../../logs/7_Marine_Tree/HD_CapsNet/Mod_2_9/epoch-best.h5\n",
      "1848/1848 [==============================] - 332s 169ms/step - loss: 0.2212 - prediction_coarse_accuracy: 0.8625 - prediction_medium_accuracy: 0.8724 - prediction_fine_accuracy: 0.5946 - val_loss: 0.2386 - val_prediction_coarse_accuracy: 0.8676 - val_prediction_medium_accuracy: 0.7889 - val_prediction_fine_accuracy: 0.5387 - lr: 9.0250e-04\n",
      "Epoch 13/100\n"
     ]
    },
    {
     "name": "stderr",
     "output_type": "stream",
     "text": [
      "2023-05-11 15:21:39.737436: I tensorflow/core/kernels/data/shuffle_dataset_op.cc:392] Filling up shuffle buffer (this may take a while): 5746 of 6400\n",
      "2023-05-11 15:21:40.690579: I tensorflow/core/kernels/data/shuffle_dataset_op.cc:417] Shuffle buffer filled.\n"
     ]
    },
    {
     "name": "stdout",
     "output_type": "stream",
     "text": [
      "1848/1848 [==============================] - ETA: 0s - loss: 0.2271 - prediction_coarse_accuracy: 0.8676 - prediction_medium_accuracy: 0.8852 - prediction_fine_accuracy: 0.6073\n",
      "\u001b[91m \u001b[1m • Coarse Accuracy = 86.76% | Val_Accuracy = 87.16% | LossWeight = 0.41 \u001b[0m\n",
      "\u001b[91m \u001b[1m • Medium Accuracy = 88.52% | Val_Accuracy = 77.76% | LossWeight = 0.29 \u001b[0m\n",
      "\u001b[91m \u001b[1m • Fine   Accuracy = 60.73% | Val_Accuracy = 53.97% | LossWeight = 0.30 \u001b[0m\n",
      "\n",
      "Epoch 13: val_prediction_fine_accuracy improved from 0.53866 to 0.53965, saving model to ../../logs/7_Marine_Tree/HD_CapsNet/Mod_2_9/epoch-best.h5\n",
      "1848/1848 [==============================] - 355s 181ms/step - loss: 0.2271 - prediction_coarse_accuracy: 0.8676 - prediction_medium_accuracy: 0.8852 - prediction_fine_accuracy: 0.6073 - val_loss: 0.2531 - val_prediction_coarse_accuracy: 0.8716 - val_prediction_medium_accuracy: 0.7776 - val_prediction_fine_accuracy: 0.5397 - lr: 8.5737e-04\n",
      "Epoch 14/100\n"
     ]
    },
    {
     "name": "stderr",
     "output_type": "stream",
     "text": [
      "2023-05-11 15:27:35.986774: I tensorflow/core/kernels/data/shuffle_dataset_op.cc:392] Filling up shuffle buffer (this may take a while): 6145 of 6400\n",
      "2023-05-11 15:27:36.329974: I tensorflow/core/kernels/data/shuffle_dataset_op.cc:417] Shuffle buffer filled.\n"
     ]
    },
    {
     "name": "stdout",
     "output_type": "stream",
     "text": [
      "1848/1848 [==============================] - ETA: 0s - loss: 0.2262 - prediction_coarse_accuracy: 0.8682 - prediction_medium_accuracy: 0.8997 - prediction_fine_accuracy: 0.6222\n",
      "\u001b[91m \u001b[1m • Coarse Accuracy = 86.82% | Val_Accuracy = 86.62% | LossWeight = 0.43 \u001b[0m\n",
      "\u001b[91m \u001b[1m • Medium Accuracy = 89.97% | Val_Accuracy = 77.08% | LossWeight = 0.27 \u001b[0m\n",
      "\u001b[91m \u001b[1m • Fine   Accuracy = 62.22% | Val_Accuracy = 53.58% | LossWeight = 0.30 \u001b[0m\n",
      "\n",
      "Epoch 14: val_prediction_fine_accuracy did not improve from 0.53965\n",
      "1848/1848 [==============================] - 347s 177ms/step - loss: 0.2262 - prediction_coarse_accuracy: 0.8682 - prediction_medium_accuracy: 0.8997 - prediction_fine_accuracy: 0.6222 - val_loss: 0.2598 - val_prediction_coarse_accuracy: 0.8662 - val_prediction_medium_accuracy: 0.7708 - val_prediction_fine_accuracy: 0.5358 - lr: 8.1451e-04\n",
      "Epoch 15/100\n"
     ]
    },
    {
     "name": "stderr",
     "output_type": "stream",
     "text": [
      "2023-05-11 15:33:15.646228: I tensorflow/core/kernels/data/shuffle_dataset_op.cc:392] Filling up shuffle buffer (this may take a while): 5893 of 6400\n",
      "2023-05-11 15:33:16.344517: I tensorflow/core/kernels/data/shuffle_dataset_op.cc:417] Shuffle buffer filled.\n",
      "2023-05-11 15:33:26.440089: I tensorflow/core/kernels/data/shuffle_dataset_op.cc:392] Filling up shuffle buffer (this may take a while): 4171 of 6400\n",
      "2023-05-11 15:33:29.719209: I tensorflow/core/kernels/data/shuffle_dataset_op.cc:417] Shuffle buffer filled.\n"
     ]
    },
    {
     "name": "stdout",
     "output_type": "stream",
     "text": [
      "1848/1848 [==============================] - ETA: 0s - loss: 0.2308 - prediction_coarse_accuracy: 0.8655 - prediction_medium_accuracy: 0.9112 - prediction_fine_accuracy: 0.6377\n",
      "\u001b[91m \u001b[1m • Coarse Accuracy = 86.55% | Val_Accuracy = 86.86% | LossWeight = 0.45 \u001b[0m\n",
      "\u001b[91m \u001b[1m • Medium Accuracy = 91.12% | Val_Accuracy = 77.59% | LossWeight = 0.25 \u001b[0m\n",
      "\u001b[91m \u001b[1m • Fine   Accuracy = 63.77% | Val_Accuracy = 54.72% | LossWeight = 0.30 \u001b[0m\n",
      "\n",
      "Epoch 15: val_prediction_fine_accuracy improved from 0.53965 to 0.54716, saving model to ../../logs/7_Marine_Tree/HD_CapsNet/Mod_2_9/epoch-best.h5\n",
      "1848/1848 [==============================] - 345s 173ms/step - loss: 0.2308 - prediction_coarse_accuracy: 0.8655 - prediction_medium_accuracy: 0.9112 - prediction_fine_accuracy: 0.6377 - val_loss: 0.2672 - val_prediction_coarse_accuracy: 0.8686 - val_prediction_medium_accuracy: 0.7759 - val_prediction_fine_accuracy: 0.5472 - lr: 7.7378e-04\n",
      "Epoch 16/100\n",
      "1848/1848 [==============================] - ETA: 0s - loss: 0.2383 - prediction_coarse_accuracy: 0.8673 - prediction_medium_accuracy: 0.9181 - prediction_fine_accuracy: 0.6498\n",
      "\u001b[91m \u001b[1m • Coarse Accuracy = 86.73% | Val_Accuracy = 87.05% | LossWeight = 0.46 \u001b[0m\n",
      "\u001b[91m \u001b[1m • Medium Accuracy = 91.81% | Val_Accuracy = 76.94% | LossWeight = 0.24 \u001b[0m\n",
      "\u001b[91m \u001b[1m • Fine   Accuracy = 64.98% | Val_Accuracy = 53.94% | LossWeight = 0.30 \u001b[0m\n",
      "\n",
      "Epoch 16: val_prediction_fine_accuracy did not improve from 0.54716\n",
      "1848/1848 [==============================] - 336s 172ms/step - loss: 0.2383 - prediction_coarse_accuracy: 0.8673 - prediction_medium_accuracy: 0.9181 - prediction_fine_accuracy: 0.6498 - val_loss: 0.2791 - val_prediction_coarse_accuracy: 0.8705 - val_prediction_medium_accuracy: 0.7694 - val_prediction_fine_accuracy: 0.5394 - lr: 7.3509e-04\n",
      "Epoch 17/100\n",
      "1848/1848 [==============================] - ETA: 0s - loss: 0.2400 - prediction_coarse_accuracy: 0.8674 - prediction_medium_accuracy: 0.9262 - prediction_fine_accuracy: 0.6607\n",
      "\u001b[91m \u001b[1m • Coarse Accuracy = 86.74% | Val_Accuracy = 86.31% | LossWeight = 0.48 \u001b[0m\n",
      "\u001b[91m \u001b[1m • Medium Accuracy = 92.62% | Val_Accuracy = 78.08% | LossWeight = 0.22 \u001b[0m\n",
      "\u001b[91m \u001b[1m • Fine   Accuracy = 66.07% | Val_Accuracy = 54.72% | LossWeight = 0.30 \u001b[0m\n",
      "\n",
      "Epoch 17: val_prediction_fine_accuracy did not improve from 0.54716\n",
      "1848/1848 [==============================] - 353s 181ms/step - loss: 0.2400 - prediction_coarse_accuracy: 0.8674 - prediction_medium_accuracy: 0.9262 - prediction_fine_accuracy: 0.6607 - val_loss: 0.2787 - val_prediction_coarse_accuracy: 0.8631 - val_prediction_medium_accuracy: 0.7808 - val_prediction_fine_accuracy: 0.5472 - lr: 6.9834e-04\n",
      "Epoch 18/100\n",
      "1848/1848 [==============================] - ETA: 0s - loss: 0.2445 - prediction_coarse_accuracy: 0.8685 - prediction_medium_accuracy: 0.9306 - prediction_fine_accuracy: 0.6718\n",
      "\u001b[91m \u001b[1m • Coarse Accuracy = 86.85% | Val_Accuracy = 86.78% | LossWeight = 0.48 \u001b[0m\n",
      "\u001b[91m \u001b[1m • Medium Accuracy = 93.06% | Val_Accuracy = 78.81% | LossWeight = 0.21 \u001b[0m\n",
      "\u001b[91m \u001b[1m • Fine   Accuracy = 67.18% | Val_Accuracy = 55.72% | LossWeight = 0.30 \u001b[0m\n",
      "\n",
      "Epoch 18: val_prediction_fine_accuracy improved from 0.54716 to 0.55720, saving model to ../../logs/7_Marine_Tree/HD_CapsNet/Mod_2_9/epoch-best.h5\n",
      "1848/1848 [==============================] - 449s 233ms/step - loss: 0.2445 - prediction_coarse_accuracy: 0.8685 - prediction_medium_accuracy: 0.9306 - prediction_fine_accuracy: 0.6718 - val_loss: 0.2822 - val_prediction_coarse_accuracy: 0.8678 - val_prediction_medium_accuracy: 0.7881 - val_prediction_fine_accuracy: 0.5572 - lr: 6.6342e-04\n",
      "Epoch 19/100\n",
      "1848/1848 [==============================] - ETA: 0s - loss: 0.2462 - prediction_coarse_accuracy: 0.8681 - prediction_medium_accuracy: 0.9363 - prediction_fine_accuracy: 0.6852\n",
      "\u001b[91m \u001b[1m • Coarse Accuracy = 86.81% | Val_Accuracy = 86.28% | LossWeight = 0.50 \u001b[0m\n",
      "\u001b[91m \u001b[1m • Medium Accuracy = 93.63% | Val_Accuracy = 77.76% | LossWeight = 0.20 \u001b[0m\n",
      "\u001b[91m \u001b[1m • Fine   Accuracy = 68.52% | Val_Accuracy = 55.07% | LossWeight = 0.30 \u001b[0m\n",
      "\n",
      "Epoch 19: val_prediction_fine_accuracy did not improve from 0.55720\n",
      "1848/1848 [==============================] - 355s 182ms/step - loss: 0.2462 - prediction_coarse_accuracy: 0.8681 - prediction_medium_accuracy: 0.9363 - prediction_fine_accuracy: 0.6852 - val_loss: 0.2906 - val_prediction_coarse_accuracy: 0.8628 - val_prediction_medium_accuracy: 0.7776 - val_prediction_fine_accuracy: 0.5507 - lr: 6.3025e-04\n",
      "Epoch 20/100\n",
      "1848/1848 [==============================] - ETA: 0s - loss: 0.2511 - prediction_coarse_accuracy: 0.8689 - prediction_medium_accuracy: 0.9393 - prediction_fine_accuracy: 0.6945\n",
      "\u001b[91m \u001b[1m • Coarse Accuracy = 86.89% | Val_Accuracy = 86.71% | LossWeight = 0.51 \u001b[0m\n",
      "\u001b[91m \u001b[1m • Medium Accuracy = 93.93% | Val_Accuracy = 78.48% | LossWeight = 0.20 \u001b[0m\n",
      "\u001b[91m \u001b[1m • Fine   Accuracy = 69.45% | Val_Accuracy = 54.78% | LossWeight = 0.30 \u001b[0m\n",
      "\n",
      "Epoch 20: val_prediction_fine_accuracy did not improve from 0.55720\n",
      "1848/1848 [==============================] - 357s 183ms/step - loss: 0.2511 - prediction_coarse_accuracy: 0.8689 - prediction_medium_accuracy: 0.9393 - prediction_fine_accuracy: 0.6945 - val_loss: 0.2941 - val_prediction_coarse_accuracy: 0.8671 - val_prediction_medium_accuracy: 0.7848 - val_prediction_fine_accuracy: 0.5478 - lr: 5.9874e-04\n",
      "Epoch 21/100\n",
      "1848/1848 [==============================] - ETA: 0s - loss: 0.2526 - prediction_coarse_accuracy: 0.8702 - prediction_medium_accuracy: 0.9438 - prediction_fine_accuracy: 0.7073\n",
      "\u001b[91m \u001b[1m • Coarse Accuracy = 87.02% | Val_Accuracy = 87.02% | LossWeight = 0.52 \u001b[0m\n",
      "\u001b[91m \u001b[1m • Medium Accuracy = 94.38% | Val_Accuracy = 77.27% | LossWeight = 0.19 \u001b[0m\n",
      "\u001b[91m \u001b[1m • Fine   Accuracy = 70.73% | Val_Accuracy = 54.50% | LossWeight = 0.29 \u001b[0m\n",
      "\n",
      "Epoch 21: val_prediction_fine_accuracy did not improve from 0.55720\n",
      "1848/1848 [==============================] - 348s 178ms/step - loss: 0.2526 - prediction_coarse_accuracy: 0.8702 - prediction_medium_accuracy: 0.9438 - prediction_fine_accuracy: 0.7073 - val_loss: 0.3018 - val_prediction_coarse_accuracy: 0.8702 - val_prediction_medium_accuracy: 0.7727 - val_prediction_fine_accuracy: 0.5450 - lr: 5.6880e-04\n",
      "Epoch 22/100\n"
     ]
    },
    {
     "name": "stderr",
     "output_type": "stream",
     "text": [
      "2023-05-11 16:19:10.338385: I tensorflow/core/kernels/data/shuffle_dataset_op.cc:392] Filling up shuffle buffer (this may take a while): 6116 of 6400\n",
      "2023-05-11 16:19:10.778552: I tensorflow/core/kernels/data/shuffle_dataset_op.cc:417] Shuffle buffer filled.\n"
     ]
    },
    {
     "name": "stdout",
     "output_type": "stream",
     "text": [
      "1848/1848 [==============================] - ETA: 0s - loss: 0.2554 - prediction_coarse_accuracy: 0.8692 - prediction_medium_accuracy: 0.9482 - prediction_fine_accuracy: 0.7216\n",
      "\u001b[91m \u001b[1m • Coarse Accuracy = 86.92% | Val_Accuracy = 86.98% | LossWeight = 0.54 \u001b[0m\n",
      "\u001b[91m \u001b[1m • Medium Accuracy = 94.82% | Val_Accuracy = 78.15% | LossWeight = 0.18 \u001b[0m\n",
      "\u001b[91m \u001b[1m • Fine   Accuracy = 72.16% | Val_Accuracy = 54.91% | LossWeight = 0.29 \u001b[0m\n",
      "\n",
      "Epoch 22: val_prediction_fine_accuracy did not improve from 0.55720\n",
      "1848/1848 [==============================] - 341s 174ms/step - loss: 0.2554 - prediction_coarse_accuracy: 0.8692 - prediction_medium_accuracy: 0.9482 - prediction_fine_accuracy: 0.7216 - val_loss: 0.3037 - val_prediction_coarse_accuracy: 0.8698 - val_prediction_medium_accuracy: 0.7815 - val_prediction_fine_accuracy: 0.5491 - lr: 5.4036e-04\n",
      "Epoch 23/100\n"
     ]
    },
    {
     "name": "stderr",
     "output_type": "stream",
     "text": [
      "2023-05-11 16:25:23.768603: I tensorflow/core/kernels/data/shuffle_dataset_op.cc:392] Filling up shuffle buffer (this may take a while): 6277 of 6400\n",
      "2023-05-11 16:25:23.954239: I tensorflow/core/kernels/data/shuffle_dataset_op.cc:417] Shuffle buffer filled.\n",
      "2023-05-11 16:25:34.068212: I tensorflow/core/kernels/data/shuffle_dataset_op.cc:392] Filling up shuffle buffer (this may take a while): 4246 of 6400\n",
      "2023-05-11 16:25:37.615721: I tensorflow/core/kernels/data/shuffle_dataset_op.cc:417] Shuffle buffer filled.\n"
     ]
    },
    {
     "name": "stdout",
     "output_type": "stream",
     "text": [
      "1848/1848 [==============================] - ETA: 0s - loss: 0.2612 - prediction_coarse_accuracy: 0.8711 - prediction_medium_accuracy: 0.9512 - prediction_fine_accuracy: 0.7338\n",
      "\u001b[91m \u001b[1m • Coarse Accuracy = 87.11% | Val_Accuracy = 87.47% | LossWeight = 0.55 \u001b[0m\n",
      "\u001b[91m \u001b[1m • Medium Accuracy = 95.12% | Val_Accuracy = 78.13% | LossWeight = 0.17 \u001b[0m\n",
      "\u001b[91m \u001b[1m • Fine   Accuracy = 73.38% | Val_Accuracy = 54.68% | LossWeight = 0.28 \u001b[0m\n",
      "\n",
      "Epoch 23: val_prediction_fine_accuracy did not improve from 0.55720\n",
      "1848/1848 [==============================] - 345s 174ms/step - loss: 0.2612 - prediction_coarse_accuracy: 0.8711 - prediction_medium_accuracy: 0.9512 - prediction_fine_accuracy: 0.7338 - val_loss: 0.3107 - val_prediction_coarse_accuracy: 0.8747 - val_prediction_medium_accuracy: 0.7813 - val_prediction_fine_accuracy: 0.5468 - lr: 5.1334e-04\n",
      "Epoch 24/100\n"
     ]
    },
    {
     "name": "stderr",
     "output_type": "stream",
     "text": [
      "2023-05-11 16:31:19.985760: I tensorflow/core/kernels/data/shuffle_dataset_op.cc:392] Filling up shuffle buffer (this may take a while): 5978 of 6400\n",
      "2023-05-11 16:31:20.482843: I tensorflow/core/kernels/data/shuffle_dataset_op.cc:417] Shuffle buffer filled.\n"
     ]
    },
    {
     "name": "stdout",
     "output_type": "stream",
     "text": [
      "1848/1848 [==============================] - ETA: 0s - loss: 0.2637 - prediction_coarse_accuracy: 0.8697 - prediction_medium_accuracy: 0.9525 - prediction_fine_accuracy: 0.7446\n",
      "\u001b[91m \u001b[1m • Coarse Accuracy = 86.97% | Val_Accuracy = 86.49% | LossWeight = 0.56 \u001b[0m\n",
      "\u001b[91m \u001b[1m • Medium Accuracy = 95.25% | Val_Accuracy = 76.59% | LossWeight = 0.17 \u001b[0m\n",
      "\u001b[91m \u001b[1m • Fine   Accuracy = 74.46% | Val_Accuracy = 53.46% | LossWeight = 0.27 \u001b[0m\n",
      "\n",
      "Epoch 24: val_prediction_fine_accuracy did not improve from 0.55720\n",
      "1848/1848 [==============================] - 360s 184ms/step - loss: 0.2637 - prediction_coarse_accuracy: 0.8697 - prediction_medium_accuracy: 0.9525 - prediction_fine_accuracy: 0.7446 - val_loss: 0.3227 - val_prediction_coarse_accuracy: 0.8649 - val_prediction_medium_accuracy: 0.7659 - val_prediction_fine_accuracy: 0.5346 - lr: 4.8767e-04\n",
      "Epoch 25/100\n"
     ]
    },
    {
     "name": "stderr",
     "output_type": "stream",
     "text": [
      "2023-05-11 16:37:41.045238: I tensorflow/core/kernels/data/shuffle_dataset_op.cc:392] Filling up shuffle buffer (this may take a while): 6124 of 6400\n",
      "2023-05-11 16:37:41.480534: I tensorflow/core/kernels/data/shuffle_dataset_op.cc:417] Shuffle buffer filled.\n"
     ]
    },
    {
     "name": "stdout",
     "output_type": "stream",
     "text": [
      "1848/1848 [==============================] - ETA: 0s - loss: 0.2672 - prediction_coarse_accuracy: 0.8681 - prediction_medium_accuracy: 0.9542 - prediction_fine_accuracy: 0.7550\n",
      "\u001b[91m \u001b[1m • Coarse Accuracy = 86.81% | Val_Accuracy = 86.77% | LossWeight = 0.57 \u001b[0m\n",
      "\u001b[91m \u001b[1m • Medium Accuracy = 95.42% | Val_Accuracy = 78.77% | LossWeight = 0.17 \u001b[0m\n",
      "\u001b[91m \u001b[1m • Fine   Accuracy = 75.50% | Val_Accuracy = 54.45% | LossWeight = 0.26 \u001b[0m\n",
      "\n",
      "Epoch 25: val_prediction_fine_accuracy did not improve from 0.55720\n",
      "1848/1848 [==============================] - 437s 226ms/step - loss: 0.2672 - prediction_coarse_accuracy: 0.8681 - prediction_medium_accuracy: 0.9542 - prediction_fine_accuracy: 0.7550 - val_loss: 0.3172 - val_prediction_coarse_accuracy: 0.8677 - val_prediction_medium_accuracy: 0.7877 - val_prediction_fine_accuracy: 0.5445 - lr: 4.6329e-04\n",
      "Epoch 26/100\n"
     ]
    },
    {
     "name": "stderr",
     "output_type": "stream",
     "text": [
      "2023-05-11 16:45:04.738142: I tensorflow/core/kernels/data/shuffle_dataset_op.cc:392] Filling up shuffle buffer (this may take a while): 6173 of 6400\n",
      "2023-05-11 16:45:05.010795: I tensorflow/core/kernels/data/shuffle_dataset_op.cc:417] Shuffle buffer filled.\n"
     ]
    },
    {
     "name": "stdout",
     "output_type": "stream",
     "text": [
      "1848/1848 [==============================] - ETA: 0s - loss: 0.2712 - prediction_coarse_accuracy: 0.8705 - prediction_medium_accuracy: 0.9568 - prediction_fine_accuracy: 0.7668\n",
      "\u001b[91m \u001b[1m • Coarse Accuracy = 87.05% | Val_Accuracy = 86.84% | LossWeight = 0.58 \u001b[0m\n",
      "\u001b[91m \u001b[1m • Medium Accuracy = 95.68% | Val_Accuracy = 78.47% | LossWeight = 0.16 \u001b[0m\n",
      "\u001b[91m \u001b[1m • Fine   Accuracy = 76.68% | Val_Accuracy = 54.69% | LossWeight = 0.26 \u001b[0m\n",
      "\n",
      "Epoch 26: val_prediction_fine_accuracy did not improve from 0.55720\n",
      "1848/1848 [==============================] - 354s 181ms/step - loss: 0.2712 - prediction_coarse_accuracy: 0.8705 - prediction_medium_accuracy: 0.9568 - prediction_fine_accuracy: 0.7668 - val_loss: 0.3236 - val_prediction_coarse_accuracy: 0.8684 - val_prediction_medium_accuracy: 0.7847 - val_prediction_fine_accuracy: 0.5469 - lr: 4.4013e-04\n",
      "Epoch 27/100\n",
      "1848/1848 [==============================] - ETA: 0s - loss: 0.2738 - prediction_coarse_accuracy: 0.8697 - prediction_medium_accuracy: 0.9581 - prediction_fine_accuracy: 0.7781\n",
      "\u001b[91m \u001b[1m • Coarse Accuracy = 86.97% | Val_Accuracy = 86.53% | LossWeight = 0.59 \u001b[0m\n",
      "\u001b[91m \u001b[1m • Medium Accuracy = 95.81% | Val_Accuracy = 78.19% | LossWeight = 0.16 \u001b[0m\n",
      "\u001b[91m \u001b[1m • Fine   Accuracy = 77.81% | Val_Accuracy = 54.62% | LossWeight = 0.25 \u001b[0m\n",
      "\n",
      "Epoch 27: val_prediction_fine_accuracy did not improve from 0.55720\n",
      "1848/1848 [==============================] - 346s 177ms/step - loss: 0.2738 - prediction_coarse_accuracy: 0.8697 - prediction_medium_accuracy: 0.9581 - prediction_fine_accuracy: 0.7781 - val_loss: 0.3279 - val_prediction_coarse_accuracy: 0.8653 - val_prediction_medium_accuracy: 0.7819 - val_prediction_fine_accuracy: 0.5462 - lr: 4.1812e-04\n",
      "Epoch 28/100\n",
      "1848/1848 [==============================] - ETA: 0s - loss: 0.2777 - prediction_coarse_accuracy: 0.8704 - prediction_medium_accuracy: 0.9587 - prediction_fine_accuracy: 0.7889\n",
      "\u001b[91m \u001b[1m • Coarse Accuracy = 87.04% | Val_Accuracy = 87.03% | LossWeight = 0.60 \u001b[0m\n",
      "\u001b[91m \u001b[1m • Medium Accuracy = 95.87% | Val_Accuracy = 78.59% | LossWeight = 0.16 \u001b[0m\n",
      "\u001b[91m \u001b[1m • Fine   Accuracy = 78.89% | Val_Accuracy = 54.21% | LossWeight = 0.24 \u001b[0m\n",
      "\n",
      "Epoch 28: val_prediction_fine_accuracy did not improve from 0.55720\n",
      "1848/1848 [==============================] - 349s 179ms/step - loss: 0.2777 - prediction_coarse_accuracy: 0.8704 - prediction_medium_accuracy: 0.9587 - prediction_fine_accuracy: 0.7889 - val_loss: 0.3323 - val_prediction_coarse_accuracy: 0.8703 - val_prediction_medium_accuracy: 0.7859 - val_prediction_fine_accuracy: 0.5421 - lr: 3.9721e-04\n",
      "Epoch 29/100\n",
      "1848/1848 [==============================] - ETA: 0s - loss: 0.2799 - prediction_coarse_accuracy: 0.8688 - prediction_medium_accuracy: 0.9596 - prediction_fine_accuracy: 0.7963\n",
      "\u001b[91m \u001b[1m • Coarse Accuracy = 86.88% | Val_Accuracy = 87.47% | LossWeight = 0.61 \u001b[0m\n",
      "\u001b[91m \u001b[1m • Medium Accuracy = 95.96% | Val_Accuracy = 78.76% | LossWeight = 0.16 \u001b[0m\n",
      "\u001b[91m \u001b[1m • Fine   Accuracy = 79.63% | Val_Accuracy = 54.28% | LossWeight = 0.24 \u001b[0m\n",
      "\n",
      "Epoch 29: val_prediction_fine_accuracy did not improve from 0.55720\n",
      "1848/1848 [==============================] - 346s 177ms/step - loss: 0.2799 - prediction_coarse_accuracy: 0.8688 - prediction_medium_accuracy: 0.9596 - prediction_fine_accuracy: 0.7963 - val_loss: 0.3338 - val_prediction_coarse_accuracy: 0.8747 - val_prediction_medium_accuracy: 0.7876 - val_prediction_fine_accuracy: 0.5428 - lr: 3.7735e-04\n",
      "Epoch 30/100\n"
     ]
    },
    {
     "name": "stderr",
     "output_type": "stream",
     "text": [
      "2023-05-11 17:10:01.301515: I tensorflow/core/kernels/data/shuffle_dataset_op.cc:392] Filling up shuffle buffer (this may take a while): 6157 of 6400\n",
      "2023-05-11 17:10:01.597249: I tensorflow/core/kernels/data/shuffle_dataset_op.cc:417] Shuffle buffer filled.\n"
     ]
    },
    {
     "name": "stdout",
     "output_type": "stream",
     "text": [
      "1848/1848 [==============================] - ETA: 0s - loss: 0.2834 - prediction_coarse_accuracy: 0.8690 - prediction_medium_accuracy: 0.9607 - prediction_fine_accuracy: 0.8058\n",
      "\u001b[91m \u001b[1m • Coarse Accuracy = 86.90% | Val_Accuracy = 87.18% | LossWeight = 0.62 \u001b[0m\n",
      "\u001b[91m \u001b[1m • Medium Accuracy = 96.07% | Val_Accuracy = 78.69% | LossWeight = 0.15 \u001b[0m\n",
      "\u001b[91m \u001b[1m • Fine   Accuracy = 80.58% | Val_Accuracy = 54.35% | LossWeight = 0.23 \u001b[0m\n",
      "\n",
      "Epoch 30: val_prediction_fine_accuracy did not improve from 0.55720\n",
      "1848/1848 [==============================] - 345s 176ms/step - loss: 0.2834 - prediction_coarse_accuracy: 0.8690 - prediction_medium_accuracy: 0.9607 - prediction_fine_accuracy: 0.8058 - val_loss: 0.3392 - val_prediction_coarse_accuracy: 0.8718 - val_prediction_medium_accuracy: 0.7869 - val_prediction_fine_accuracy: 0.5435 - lr: 3.5849e-04\n",
      "Epoch 31/100\n",
      "1848/1848 [==============================] - ETA: 0s - loss: 0.2860 - prediction_coarse_accuracy: 0.8688 - prediction_medium_accuracy: 0.9621 - prediction_fine_accuracy: 0.8139\n",
      "\u001b[91m \u001b[1m • Coarse Accuracy = 86.88% | Val_Accuracy = 87.15% | LossWeight = 0.63 \u001b[0m\n",
      "\u001b[91m \u001b[1m • Medium Accuracy = 96.21% | Val_Accuracy = 78.23% | LossWeight = 0.15 \u001b[0m\n",
      "\u001b[91m \u001b[1m • Fine   Accuracy = 81.39% | Val_Accuracy = 53.82% | LossWeight = 0.22 \u001b[0m\n",
      "\n",
      "Epoch 31: val_prediction_fine_accuracy did not improve from 0.55720\n",
      "1848/1848 [==============================] - 330s 168ms/step - loss: 0.2860 - prediction_coarse_accuracy: 0.8688 - prediction_medium_accuracy: 0.9621 - prediction_fine_accuracy: 0.8139 - val_loss: 0.3435 - val_prediction_coarse_accuracy: 0.8715 - val_prediction_medium_accuracy: 0.7823 - val_prediction_fine_accuracy: 0.5382 - lr: 3.4056e-04\n",
      "Epoch 32/100\n",
      "1848/1848 [==============================] - ETA: 0s - loss: 0.2895 - prediction_coarse_accuracy: 0.8697 - prediction_medium_accuracy: 0.9622 - prediction_fine_accuracy: 0.8191\n",
      "\u001b[91m \u001b[1m • Coarse Accuracy = 86.97% | Val_Accuracy = 87.00% | LossWeight = 0.63 \u001b[0m\n",
      "\u001b[91m \u001b[1m • Medium Accuracy = 96.22% | Val_Accuracy = 78.62% | LossWeight = 0.15 \u001b[0m\n",
      "\u001b[91m \u001b[1m • Fine   Accuracy = 81.91% | Val_Accuracy = 54.03% | LossWeight = 0.22 \u001b[0m\n",
      "\n",
      "Epoch 32: val_prediction_fine_accuracy did not improve from 0.55720\n",
      "1848/1848 [==============================] - 460s 239ms/step - loss: 0.2895 - prediction_coarse_accuracy: 0.8697 - prediction_medium_accuracy: 0.9622 - prediction_fine_accuracy: 0.8191 - val_loss: 0.3472 - val_prediction_coarse_accuracy: 0.8700 - val_prediction_medium_accuracy: 0.7862 - val_prediction_fine_accuracy: 0.5403 - lr: 3.2353e-04\n",
      "Epoch 33/100\n"
     ]
    },
    {
     "name": "stderr",
     "output_type": "stream",
     "text": [
      "2023-05-11 17:30:24.601405: I tensorflow/core/kernels/data/shuffle_dataset_op.cc:392] Filling up shuffle buffer (this may take a while): 1622 of 6400\n",
      "2023-05-11 17:30:34.633436: I tensorflow/core/kernels/data/shuffle_dataset_op.cc:392] Filling up shuffle buffer (this may take a while): 3411 of 6400\n",
      "2023-05-11 17:30:44.603666: I tensorflow/core/kernels/data/shuffle_dataset_op.cc:392] Filling up shuffle buffer (this may take a while): 5148 of 6400\n",
      "2023-05-11 17:30:46.298340: I tensorflow/core/kernels/data/shuffle_dataset_op.cc:417] Shuffle buffer filled.\n",
      "2023-05-11 17:30:56.481647: I tensorflow/core/kernels/data/shuffle_dataset_op.cc:392] Filling up shuffle buffer (this may take a while): 4171 of 6400\n",
      "2023-05-11 17:30:59.295530: I tensorflow/core/kernels/data/shuffle_dataset_op.cc:417] Shuffle buffer filled.\n"
     ]
    },
    {
     "name": "stdout",
     "output_type": "stream",
     "text": [
      "1848/1848 [==============================] - ETA: 0s - loss: 0.2899 - prediction_coarse_accuracy: 0.8687 - prediction_medium_accuracy: 0.9617 - prediction_fine_accuracy: 0.8262\n",
      "\u001b[91m \u001b[1m • Coarse Accuracy = 86.87% | Val_Accuracy = 86.87% | LossWeight = 0.64 \u001b[0m\n",
      "\u001b[91m \u001b[1m • Medium Accuracy = 96.17% | Val_Accuracy = 78.40% | LossWeight = 0.15 \u001b[0m\n",
      "\u001b[91m \u001b[1m • Fine   Accuracy = 82.62% | Val_Accuracy = 53.78% | LossWeight = 0.21 \u001b[0m\n",
      "\n",
      "Epoch 33: val_prediction_fine_accuracy did not improve from 0.55720\n",
      "1848/1848 [==============================] - 358s 170ms/step - loss: 0.2899 - prediction_coarse_accuracy: 0.8687 - prediction_medium_accuracy: 0.9617 - prediction_fine_accuracy: 0.8262 - val_loss: 0.3485 - val_prediction_coarse_accuracy: 0.8687 - val_prediction_medium_accuracy: 0.7840 - val_prediction_fine_accuracy: 0.5378 - lr: 3.0736e-04\n",
      "Epoch 34/100\n"
     ]
    },
    {
     "name": "stderr",
     "output_type": "stream",
     "text": [
      "2023-05-11 17:36:56.287324: I tensorflow/core/kernels/data/shuffle_dataset_op.cc:392] Filling up shuffle buffer (this may take a while): 5794 of 6400\n",
      "2023-05-11 17:36:57.084937: I tensorflow/core/kernels/data/shuffle_dataset_op.cc:417] Shuffle buffer filled.\n"
     ]
    },
    {
     "name": "stdout",
     "output_type": "stream",
     "text": [
      "1848/1848 [==============================] - ETA: 0s - loss: 0.2919 - prediction_coarse_accuracy: 0.8694 - prediction_medium_accuracy: 0.9630 - prediction_fine_accuracy: 0.8328\n",
      "\u001b[91m \u001b[1m • Coarse Accuracy = 86.94% | Val_Accuracy = 86.79% | LossWeight = 0.64 \u001b[0m\n",
      "\u001b[91m \u001b[1m • Medium Accuracy = 96.30% | Val_Accuracy = 78.87% | LossWeight = 0.15 \u001b[0m\n",
      "\u001b[91m \u001b[1m • Fine   Accuracy = 83.28% | Val_Accuracy = 53.91% | LossWeight = 0.21 \u001b[0m\n",
      "\n",
      "Epoch 34: val_prediction_fine_accuracy did not improve from 0.55720\n",
      "1848/1848 [==============================] - 341s 173ms/step - loss: 0.2919 - prediction_coarse_accuracy: 0.8694 - prediction_medium_accuracy: 0.9630 - prediction_fine_accuracy: 0.8328 - val_loss: 0.3504 - val_prediction_coarse_accuracy: 0.8679 - val_prediction_medium_accuracy: 0.7887 - val_prediction_fine_accuracy: 0.5391 - lr: 2.9199e-04\n",
      "Epoch 35/100\n"
     ]
    },
    {
     "name": "stderr",
     "output_type": "stream",
     "text": [
      "2023-05-11 17:42:29.322269: I tensorflow/core/kernels/data/shuffle_dataset_op.cc:392] Filling up shuffle buffer (this may take a while): 6192 of 6400\n",
      "2023-05-11 17:42:29.663258: I tensorflow/core/kernels/data/shuffle_dataset_op.cc:417] Shuffle buffer filled.\n",
      "2023-05-11 17:42:39.918042: I tensorflow/core/kernels/data/shuffle_dataset_op.cc:392] Filling up shuffle buffer (this may take a while): 3880 of 6400\n",
      "2023-05-11 17:42:43.426000: I tensorflow/core/kernels/data/shuffle_dataset_op.cc:417] Shuffle buffer filled.\n"
     ]
    },
    {
     "name": "stdout",
     "output_type": "stream",
     "text": [
      "1848/1848 [==============================] - ETA: 0s - loss: 0.2943 - prediction_coarse_accuracy: 0.8688 - prediction_medium_accuracy: 0.9628 - prediction_fine_accuracy: 0.8372\n",
      "\u001b[91m \u001b[1m • Coarse Accuracy = 86.88% | Val_Accuracy = 86.97% | LossWeight = 0.65 \u001b[0m\n",
      "\u001b[91m \u001b[1m • Medium Accuracy = 96.28% | Val_Accuracy = 79.02% | LossWeight = 0.15 \u001b[0m\n",
      "\u001b[91m \u001b[1m • Fine   Accuracy = 83.72% | Val_Accuracy = 54.08% | LossWeight = 0.20 \u001b[0m\n",
      "\n",
      "Epoch 35: val_prediction_fine_accuracy did not improve from 0.55720\n",
      "1848/1848 [==============================] - 342s 172ms/step - loss: 0.2943 - prediction_coarse_accuracy: 0.8688 - prediction_medium_accuracy: 0.9628 - prediction_fine_accuracy: 0.8372 - val_loss: 0.3528 - val_prediction_coarse_accuracy: 0.8697 - val_prediction_medium_accuracy: 0.7902 - val_prediction_fine_accuracy: 0.5408 - lr: 2.7739e-04\n",
      "Epoch 36/100\n",
      "1848/1848 [==============================] - ETA: 0s - loss: 0.2952 - prediction_coarse_accuracy: 0.8715 - prediction_medium_accuracy: 0.9651 - prediction_fine_accuracy: 0.8447\n",
      "\u001b[91m \u001b[1m • Coarse Accuracy = 87.15% | Val_Accuracy = 86.98% | LossWeight = 0.65 \u001b[0m\n",
      "\u001b[91m \u001b[1m • Medium Accuracy = 96.51% | Val_Accuracy = 78.94% | LossWeight = 0.15 \u001b[0m\n",
      "\u001b[91m \u001b[1m • Fine   Accuracy = 84.47% | Val_Accuracy = 53.82% | LossWeight = 0.20 \u001b[0m\n",
      "\n",
      "Epoch 36: val_prediction_fine_accuracy did not improve from 0.55720\n",
      "1848/1848 [==============================] - 316s 161ms/step - loss: 0.2952 - prediction_coarse_accuracy: 0.8715 - prediction_medium_accuracy: 0.9651 - prediction_fine_accuracy: 0.8447 - val_loss: 0.3541 - val_prediction_coarse_accuracy: 0.8698 - val_prediction_medium_accuracy: 0.7894 - val_prediction_fine_accuracy: 0.5382 - lr: 2.6352e-04\n",
      "Epoch 37/100\n",
      "1848/1848 [==============================] - ETA: 0s - loss: 0.2982 - prediction_coarse_accuracy: 0.8704 - prediction_medium_accuracy: 0.9643 - prediction_fine_accuracy: 0.8457\n",
      "\u001b[91m \u001b[1m • Coarse Accuracy = 87.04% | Val_Accuracy = 86.80% | LossWeight = 0.65 \u001b[0m\n",
      "\u001b[91m \u001b[1m • Medium Accuracy = 96.43% | Val_Accuracy = 78.68% | LossWeight = 0.15 \u001b[0m\n",
      "\u001b[91m \u001b[1m • Fine   Accuracy = 84.57% | Val_Accuracy = 54.02% | LossWeight = 0.19 \u001b[0m\n",
      "\n",
      "Epoch 37: val_prediction_fine_accuracy did not improve from 0.55720\n",
      "1848/1848 [==============================] - 343s 175ms/step - loss: 0.2982 - prediction_coarse_accuracy: 0.8704 - prediction_medium_accuracy: 0.9643 - prediction_fine_accuracy: 0.8457 - val_loss: 0.3584 - val_prediction_coarse_accuracy: 0.8680 - val_prediction_medium_accuracy: 0.7868 - val_prediction_fine_accuracy: 0.5402 - lr: 2.5034e-04\n",
      "Epoch 38/100\n",
      "1848/1848 [==============================] - ETA: 0s - loss: 0.2979 - prediction_coarse_accuracy: 0.8675 - prediction_medium_accuracy: 0.9643 - prediction_fine_accuracy: 0.8508\n",
      "\u001b[91m \u001b[1m • Coarse Accuracy = 86.75% | Val_Accuracy = 86.76% | LossWeight = 0.66 \u001b[0m\n",
      "\u001b[91m \u001b[1m • Medium Accuracy = 96.43% | Val_Accuracy = 78.99% | LossWeight = 0.15 \u001b[0m\n",
      "\u001b[91m \u001b[1m • Fine   Accuracy = 85.08% | Val_Accuracy = 53.75% | LossWeight = 0.19 \u001b[0m\n",
      "\n",
      "Epoch 38: val_prediction_fine_accuracy did not improve from 0.55720\n",
      "1848/1848 [==============================] - 343s 175ms/step - loss: 0.2979 - prediction_coarse_accuracy: 0.8675 - prediction_medium_accuracy: 0.9643 - prediction_fine_accuracy: 0.8508 - val_loss: 0.3578 - val_prediction_coarse_accuracy: 0.8676 - val_prediction_medium_accuracy: 0.7899 - val_prediction_fine_accuracy: 0.5375 - lr: 2.3783e-04\n",
      "Epoch 39/100\n"
     ]
    },
    {
     "name": "stderr",
     "output_type": "stream",
     "text": [
      "2023-05-11 18:06:23.769826: I tensorflow/core/kernels/data/shuffle_dataset_op.cc:392] Filling up shuffle buffer (this may take a while): 6191 of 6400\n",
      "2023-05-11 18:06:24.068936: I tensorflow/core/kernels/data/shuffle_dataset_op.cc:417] Shuffle buffer filled.\n",
      "2023-05-11 18:06:34.258871: I tensorflow/core/kernels/data/shuffle_dataset_op.cc:392] Filling up shuffle buffer (this may take a while): 3660 of 6400\n",
      "2023-05-11 18:06:38.102390: I tensorflow/core/kernels/data/shuffle_dataset_op.cc:417] Shuffle buffer filled.\n"
     ]
    },
    {
     "name": "stdout",
     "output_type": "stream",
     "text": [
      "1675/1848 [==========================>...] - ETA: 24s - loss: 0.3016 - prediction_coarse_accuracy: 0.8673 - prediction_medium_accuracy: 0.9646 - prediction_fine_accuracy: 0.8540"
     ]
    },
    {
     "name": "stderr",
     "output_type": "stream",
     "text": [
      "IOPub message rate exceeded.\n",
      "The notebook server will temporarily stop sending output\n",
      "to the client in order to avoid crashing it.\n",
      "To change this limit, set the config variable\n",
      "`--NotebookApp.iopub_msg_rate_limit`.\n",
      "\n",
      "Current values:\n",
      "NotebookApp.iopub_msg_rate_limit=1000.0 (msgs/sec)\n",
      "NotebookApp.rate_limit_window=3.0 (secs)\n",
      "\n"
     ]
    },
    {
     "name": "stdout",
     "output_type": "stream",
     "text": [
      "1848/1848 [==============================] - ETA: 0s - loss: 0.3031 - prediction_coarse_accuracy: 0.8687 - prediction_medium_accuracy: 0.9646 - prediction_fine_accuracy: 0.8578\n",
      "\u001b[91m \u001b[1m • Coarse Accuracy = 86.87% | Val_Accuracy = 86.87% | LossWeight = 0.67 \u001b[0m\n",
      "\u001b[91m \u001b[1m • Medium Accuracy = 96.46% | Val_Accuracy = 79.12% | LossWeight = 0.15 \u001b[0m\n",
      "\u001b[91m \u001b[1m • Fine   Accuracy = 85.78% | Val_Accuracy = 54.02% | LossWeight = 0.18 \u001b[0m\n",
      "\n",
      "Epoch 40: val_prediction_fine_accuracy did not improve from 0.55720\n",
      "1848/1848 [==============================] - 302s 151ms/step - loss: 0.3031 - prediction_coarse_accuracy: 0.8687 - prediction_medium_accuracy: 0.9646 - prediction_fine_accuracy: 0.8578 - val_loss: 0.3640 - val_prediction_coarse_accuracy: 0.8687 - val_prediction_medium_accuracy: 0.7912 - val_prediction_fine_accuracy: 0.5402 - lr: 2.1464e-04\n",
      "Epoch 41/100\n",
      "1848/1848 [==============================] - ETA: 0s - loss: 0.3027 - prediction_coarse_accuracy: 0.8690 - prediction_medium_accuracy: 0.9660 - prediction_fine_accuracy: 0.8629\n",
      "\u001b[91m \u001b[1m • Coarse Accuracy = 86.90% | Val_Accuracy = 86.77% | LossWeight = 0.68 \u001b[0m\n",
      "\u001b[91m \u001b[1m • Medium Accuracy = 96.60% | Val_Accuracy = 77.91% | LossWeight = 0.15 \u001b[0m\n",
      "\u001b[91m \u001b[1m • Fine   Accuracy = 86.29% | Val_Accuracy = 53.75% | LossWeight = 0.18 \u001b[0m\n",
      "\n",
      "Epoch 41: val_prediction_fine_accuracy did not improve from 0.55720\n",
      "1848/1848 [==============================] - 328s 167ms/step - loss: 0.3027 - prediction_coarse_accuracy: 0.8690 - prediction_medium_accuracy: 0.9660 - prediction_fine_accuracy: 0.8629 - val_loss: 0.3660 - val_prediction_coarse_accuracy: 0.8677 - val_prediction_medium_accuracy: 0.7791 - val_prediction_fine_accuracy: 0.5375 - lr: 2.0391e-04\n",
      "Epoch 42/100\n"
     ]
    },
    {
     "name": "stderr",
     "output_type": "stream",
     "text": [
      "2023-05-11 18:23:20.494925: I tensorflow/core/kernels/data/shuffle_dataset_op.cc:392] Filling up shuffle buffer (this may take a while): 5674 of 6400\n",
      "2023-05-11 18:23:21.707862: I tensorflow/core/kernels/data/shuffle_dataset_op.cc:417] Shuffle buffer filled.\n"
     ]
    },
    {
     "name": "stdout",
     "output_type": "stream",
     "text": [
      "1848/1848 [==============================] - ETA: 0s - loss: 0.3057 - prediction_coarse_accuracy: 0.8682 - prediction_medium_accuracy: 0.9654 - prediction_fine_accuracy: 0.8649\n",
      "\u001b[91m \u001b[1m • Coarse Accuracy = 86.82% | Val_Accuracy = 86.69% | LossWeight = 0.68 \u001b[0m\n",
      "\u001b[91m \u001b[1m • Medium Accuracy = 96.54% | Val_Accuracy = 79.12% | LossWeight = 0.15 \u001b[0m\n",
      "\u001b[91m \u001b[1m • Fine   Accuracy = 86.49% | Val_Accuracy = 53.66% | LossWeight = 0.17 \u001b[0m\n",
      "\n",
      "Epoch 42: val_prediction_fine_accuracy did not improve from 0.55720\n",
      "1848/1848 [==============================] - 338s 172ms/step - loss: 0.3057 - prediction_coarse_accuracy: 0.8682 - prediction_medium_accuracy: 0.9654 - prediction_fine_accuracy: 0.8649 - val_loss: 0.3663 - val_prediction_coarse_accuracy: 0.8669 - val_prediction_medium_accuracy: 0.7912 - val_prediction_fine_accuracy: 0.5366 - lr: 1.9371e-04\n",
      "Epoch 43/100\n",
      "1848/1848 [==============================] - ETA: 0s - loss: 0.3058 - prediction_coarse_accuracy: 0.8666 - prediction_medium_accuracy: 0.9668 - prediction_fine_accuracy: 0.8683\n",
      "\u001b[91m \u001b[1m • Coarse Accuracy = 86.66% | Val_Accuracy = 86.61% | LossWeight = 0.69 \u001b[0m\n",
      "\u001b[91m \u001b[1m • Medium Accuracy = 96.68% | Val_Accuracy = 78.83% | LossWeight = 0.14 \u001b[0m\n",
      "\u001b[91m \u001b[1m • Fine   Accuracy = 86.83% | Val_Accuracy = 53.43% | LossWeight = 0.17 \u001b[0m\n",
      "\n",
      "Epoch 43: val_prediction_fine_accuracy did not improve from 0.55720\n",
      "1848/1848 [==============================] - 314s 160ms/step - loss: 0.3058 - prediction_coarse_accuracy: 0.8666 - prediction_medium_accuracy: 0.9668 - prediction_fine_accuracy: 0.8683 - val_loss: 0.3689 - val_prediction_coarse_accuracy: 0.8661 - val_prediction_medium_accuracy: 0.7883 - val_prediction_fine_accuracy: 0.5343 - lr: 1.8403e-04\n",
      "Epoch 44/100\n"
     ]
    },
    {
     "name": "stderr",
     "output_type": "stream",
     "text": [
      "2023-05-11 18:34:51.172524: I tensorflow/core/kernels/data/shuffle_dataset_op.cc:392] Filling up shuffle buffer (this may take a while): 6365 of 6400\n",
      "2023-05-11 18:34:51.299828: I tensorflow/core/kernels/data/shuffle_dataset_op.cc:417] Shuffle buffer filled.\n",
      "2023-05-11 18:35:01.461893: I tensorflow/core/kernels/data/shuffle_dataset_op.cc:392] Filling up shuffle buffer (this may take a while): 3967 of 6400\n",
      "2023-05-11 18:35:05.743844: I tensorflow/core/kernels/data/shuffle_dataset_op.cc:417] Shuffle buffer filled.\n"
     ]
    },
    {
     "name": "stdout",
     "output_type": "stream",
     "text": [
      "1848/1848 [==============================] - ETA: 0s - loss: 0.3095 - prediction_coarse_accuracy: 0.8664 - prediction_medium_accuracy: 0.9661 - prediction_fine_accuracy: 0.8698\n",
      "\u001b[91m \u001b[1m • Coarse Accuracy = 86.64% | Val_Accuracy = 86.43% | LossWeight = 0.69 \u001b[0m\n",
      "\u001b[91m \u001b[1m • Medium Accuracy = 96.61% | Val_Accuracy = 79.18% | LossWeight = 0.15 \u001b[0m\n",
      "\u001b[91m \u001b[1m • Fine   Accuracy = 86.98% | Val_Accuracy = 53.72% | LossWeight = 0.17 \u001b[0m\n",
      "\n",
      "Epoch 44: val_prediction_fine_accuracy did not improve from 0.55720\n",
      "1848/1848 [==============================] - 440s 224ms/step - loss: 0.3095 - prediction_coarse_accuracy: 0.8664 - prediction_medium_accuracy: 0.9661 - prediction_fine_accuracy: 0.8698 - val_loss: 0.3703 - val_prediction_coarse_accuracy: 0.8643 - val_prediction_medium_accuracy: 0.7918 - val_prediction_fine_accuracy: 0.5372 - lr: 1.7482e-04\n",
      "Epoch 45/100\n",
      "1848/1848 [==============================] - ETA: 0s - loss: 0.3093 - prediction_coarse_accuracy: 0.8656 - prediction_medium_accuracy: 0.9666 - prediction_fine_accuracy: 0.8720\n",
      "\u001b[91m \u001b[1m • Coarse Accuracy = 86.56% | Val_Accuracy = 86.31% | LossWeight = 0.69 \u001b[0m\n",
      "\u001b[91m \u001b[1m • Medium Accuracy = 96.66% | Val_Accuracy = 78.61% | LossWeight = 0.14 \u001b[0m\n",
      "\u001b[91m \u001b[1m • Fine   Accuracy = 87.20% | Val_Accuracy = 54.00% | LossWeight = 0.16 \u001b[0m\n",
      "\n",
      "Epoch 45: val_prediction_fine_accuracy did not improve from 0.55720\n",
      "1848/1848 [==============================] - 339s 174ms/step - loss: 0.3093 - prediction_coarse_accuracy: 0.8656 - prediction_medium_accuracy: 0.9666 - prediction_fine_accuracy: 0.8720 - val_loss: 0.3719 - val_prediction_coarse_accuracy: 0.8631 - val_prediction_medium_accuracy: 0.7861 - val_prediction_fine_accuracy: 0.5400 - lr: 1.6608e-04\n",
      "Epoch 46/100\n",
      "1848/1848 [==============================] - ETA: 0s - loss: 0.3110 - prediction_coarse_accuracy: 0.8651 - prediction_medium_accuracy: 0.9670 - prediction_fine_accuracy: 0.8759\n",
      "\u001b[91m \u001b[1m • Coarse Accuracy = 86.51% | Val_Accuracy = 86.62% | LossWeight = 0.70 \u001b[0m\n",
      "\u001b[91m \u001b[1m • Medium Accuracy = 96.70% | Val_Accuracy = 78.48% | LossWeight = 0.14 \u001b[0m\n",
      "\u001b[91m \u001b[1m • Fine   Accuracy = 87.59% | Val_Accuracy = 53.48% | LossWeight = 0.16 \u001b[0m\n",
      "\n",
      "Epoch 46: val_prediction_fine_accuracy did not improve from 0.55720\n",
      "1848/1848 [==============================] - 346s 177ms/step - loss: 0.3110 - prediction_coarse_accuracy: 0.8651 - prediction_medium_accuracy: 0.9670 - prediction_fine_accuracy: 0.8759 - val_loss: 0.3739 - val_prediction_coarse_accuracy: 0.8662 - val_prediction_medium_accuracy: 0.7848 - val_prediction_fine_accuracy: 0.5348 - lr: 1.5778e-04\n",
      "Epoch 47/100\n"
     ]
    },
    {
     "name": "stderr",
     "output_type": "stream",
     "text": [
      "2023-05-11 18:54:26.315290: I tensorflow/core/kernels/data/shuffle_dataset_op.cc:392] Filling up shuffle buffer (this may take a while): 5743 of 6400\n",
      "2023-05-11 18:54:27.600698: I tensorflow/core/kernels/data/shuffle_dataset_op.cc:417] Shuffle buffer filled.\n"
     ]
    },
    {
     "name": "stdout",
     "output_type": "stream",
     "text": [
      "1848/1848 [==============================] - ETA: 0s - loss: 0.3131 - prediction_coarse_accuracy: 0.8643 - prediction_medium_accuracy: 0.9669 - prediction_fine_accuracy: 0.8773\n",
      "\u001b[91m \u001b[1m • Coarse Accuracy = 86.43% | Val_Accuracy = 86.40% | LossWeight = 0.70 \u001b[0m\n",
      "\u001b[91m \u001b[1m • Medium Accuracy = 96.69% | Val_Accuracy = 78.46% | LossWeight = 0.14 \u001b[0m\n",
      "\u001b[91m \u001b[1m • Fine   Accuracy = 87.73% | Val_Accuracy = 53.77% | LossWeight = 0.16 \u001b[0m\n",
      "\n",
      "Epoch 47: val_prediction_fine_accuracy did not improve from 0.55720\n",
      "1848/1848 [==============================] - 334s 170ms/step - loss: 0.3131 - prediction_coarse_accuracy: 0.8643 - prediction_medium_accuracy: 0.9669 - prediction_fine_accuracy: 0.8773 - val_loss: 0.3764 - val_prediction_coarse_accuracy: 0.8640 - val_prediction_medium_accuracy: 0.7846 - val_prediction_fine_accuracy: 0.5377 - lr: 1.4989e-04\n",
      "Epoch 48/100\n",
      "1848/1848 [==============================] - ETA: 0s - loss: 0.3136 - prediction_coarse_accuracy: 0.8655 - prediction_medium_accuracy: 0.9673 - prediction_fine_accuracy: 0.8801\n",
      "\u001b[91m \u001b[1m • Coarse Accuracy = 86.55% | Val_Accuracy = 86.35% | LossWeight = 0.70 \u001b[0m\n",
      "\u001b[91m \u001b[1m • Medium Accuracy = 96.73% | Val_Accuracy = 78.89% | LossWeight = 0.14 \u001b[0m\n",
      "\u001b[91m \u001b[1m • Fine   Accuracy = 88.01% | Val_Accuracy = 53.84% | LossWeight = 0.16 \u001b[0m\n",
      "\n",
      "Epoch 48: val_prediction_fine_accuracy did not improve from 0.55720\n",
      "1848/1848 [==============================] - 346s 177ms/step - loss: 0.3136 - prediction_coarse_accuracy: 0.8655 - prediction_medium_accuracy: 0.9673 - prediction_fine_accuracy: 0.8801 - val_loss: 0.3765 - val_prediction_coarse_accuracy: 0.8635 - val_prediction_medium_accuracy: 0.7889 - val_prediction_fine_accuracy: 0.5384 - lr: 1.4240e-04\n",
      "Epoch 49/100\n"
     ]
    },
    {
     "name": "stderr",
     "output_type": "stream",
     "text": [
      "2023-05-11 19:06:29.043625: I tensorflow/core/kernels/data/shuffle_dataset_op.cc:392] Filling up shuffle buffer (this may take a while): 6268 of 6400\n",
      "2023-05-11 19:06:29.229191: I tensorflow/core/kernels/data/shuffle_dataset_op.cc:417] Shuffle buffer filled.\n",
      "2023-05-11 19:06:39.334908: I tensorflow/core/kernels/data/shuffle_dataset_op.cc:392] Filling up shuffle buffer (this may take a while): 3975 of 6400\n",
      "2023-05-11 19:06:42.793281: I tensorflow/core/kernels/data/shuffle_dataset_op.cc:417] Shuffle buffer filled.\n"
     ]
    },
    {
     "name": "stdout",
     "output_type": "stream",
     "text": [
      "1848/1848 [==============================] - ETA: 0s - loss: 0.3145 - prediction_coarse_accuracy: 0.8632 - prediction_medium_accuracy: 0.9661 - prediction_fine_accuracy: 0.8811\n",
      "\u001b[91m \u001b[1m • Coarse Accuracy = 86.32% | Val_Accuracy = 86.45% | LossWeight = 0.70 \u001b[0m\n",
      "\u001b[91m \u001b[1m • Medium Accuracy = 96.61% | Val_Accuracy = 78.76% | LossWeight = 0.14 \u001b[0m\n",
      "\u001b[91m \u001b[1m • Fine   Accuracy = 88.11% | Val_Accuracy = 53.96% | LossWeight = 0.15 \u001b[0m\n",
      "\n",
      "Epoch 49: val_prediction_fine_accuracy did not improve from 0.55720\n",
      "1848/1848 [==============================] - 343s 172ms/step - loss: 0.3145 - prediction_coarse_accuracy: 0.8632 - prediction_medium_accuracy: 0.9661 - prediction_fine_accuracy: 0.8811 - val_loss: 0.3768 - val_prediction_coarse_accuracy: 0.8645 - val_prediction_medium_accuracy: 0.7876 - val_prediction_fine_accuracy: 0.5396 - lr: 1.3528e-04\n",
      "Epoch 50/100\n"
     ]
    },
    {
     "name": "stderr",
     "output_type": "stream",
     "text": [
      "2023-05-11 19:13:01.301690: I tensorflow/core/kernels/data/shuffle_dataset_op.cc:392] Filling up shuffle buffer (this may take a while): 6326 of 6400\n",
      "2023-05-11 19:13:01.392710: I tensorflow/core/kernels/data/shuffle_dataset_op.cc:417] Shuffle buffer filled.\n"
     ]
    },
    {
     "name": "stdout",
     "output_type": "stream",
     "text": [
      "1848/1848 [==============================] - ETA: 0s - loss: 0.3146 - prediction_coarse_accuracy: 0.8651 - prediction_medium_accuracy: 0.9674 - prediction_fine_accuracy: 0.8830\n",
      "\u001b[91m \u001b[1m • Coarse Accuracy = 86.51% | Val_Accuracy = 86.46% | LossWeight = 0.71 \u001b[0m\n",
      "\u001b[91m \u001b[1m • Medium Accuracy = 96.74% | Val_Accuracy = 79.04% | LossWeight = 0.14 \u001b[0m\n",
      "\u001b[91m \u001b[1m • Fine   Accuracy = 88.30% | Val_Accuracy = 53.88% | LossWeight = 0.15 \u001b[0m\n",
      "\n",
      "Epoch 50: val_prediction_fine_accuracy did not improve from 0.55720\n",
      "1848/1848 [==============================] - 343s 175ms/step - loss: 0.3146 - prediction_coarse_accuracy: 0.8651 - prediction_medium_accuracy: 0.9674 - prediction_fine_accuracy: 0.8830 - val_loss: 0.3767 - val_prediction_coarse_accuracy: 0.8646 - val_prediction_medium_accuracy: 0.7904 - val_prediction_fine_accuracy: 0.5388 - lr: 1.2851e-04\n",
      "Epoch 51/100\n"
     ]
    },
    {
     "name": "stderr",
     "output_type": "stream",
     "text": [
      "2023-05-11 19:19:14.134444: I tensorflow/core/kernels/data/shuffle_dataset_op.cc:392] Filling up shuffle buffer (this may take a while): 6183 of 6400\n",
      "2023-05-11 19:19:14.460809: I tensorflow/core/kernels/data/shuffle_dataset_op.cc:417] Shuffle buffer filled.\n",
      "2023-05-11 19:19:24.648546: I tensorflow/core/kernels/data/shuffle_dataset_op.cc:392] Filling up shuffle buffer (this may take a while): 3778 of 6400\n",
      "2023-05-11 19:19:28.566689: I tensorflow/core/kernels/data/shuffle_dataset_op.cc:417] Shuffle buffer filled.\n"
     ]
    },
    {
     "name": "stdout",
     "output_type": "stream",
     "text": [
      "1848/1848 [==============================] - ETA: 0s - loss: 0.3154 - prediction_coarse_accuracy: 0.8647 - prediction_medium_accuracy: 0.9675 - prediction_fine_accuracy: 0.8854\n",
      "\u001b[91m \u001b[1m • Coarse Accuracy = 86.47% | Val_Accuracy = 86.41% | LossWeight = 0.71 \u001b[0m\n",
      "\u001b[91m \u001b[1m • Medium Accuracy = 96.75% | Val_Accuracy = 79.08% | LossWeight = 0.14 \u001b[0m\n",
      "\u001b[91m \u001b[1m • Fine   Accuracy = 88.54% | Val_Accuracy = 53.95% | LossWeight = 0.15 \u001b[0m\n",
      "\n",
      "Epoch 51: val_prediction_fine_accuracy did not improve from 0.55720\n",
      "1848/1848 [==============================] - 448s 229ms/step - loss: 0.3154 - prediction_coarse_accuracy: 0.8647 - prediction_medium_accuracy: 0.9675 - prediction_fine_accuracy: 0.8854 - val_loss: 0.3782 - val_prediction_coarse_accuracy: 0.8641 - val_prediction_medium_accuracy: 0.7908 - val_prediction_fine_accuracy: 0.5395 - lr: 1.2209e-04\n",
      "Epoch 52/100\n",
      "1848/1848 [==============================] - ETA: 0s - loss: 0.3166 - prediction_coarse_accuracy: 0.8645 - prediction_medium_accuracy: 0.9678 - prediction_fine_accuracy: 0.8860\n",
      "\u001b[91m \u001b[1m • Coarse Accuracy = 86.45% | Val_Accuracy = 86.44% | LossWeight = 0.71 \u001b[0m\n",
      "\u001b[91m \u001b[1m • Medium Accuracy = 96.78% | Val_Accuracy = 78.71% | LossWeight = 0.14 \u001b[0m\n",
      "\u001b[91m \u001b[1m • Fine   Accuracy = 88.60% | Val_Accuracy = 53.50% | LossWeight = 0.15 \u001b[0m\n",
      "\n",
      "Epoch 52: val_prediction_fine_accuracy did not improve from 0.55720\n",
      "1848/1848 [==============================] - 344s 176ms/step - loss: 0.3166 - prediction_coarse_accuracy: 0.8645 - prediction_medium_accuracy: 0.9678 - prediction_fine_accuracy: 0.8860 - val_loss: 0.3797 - val_prediction_coarse_accuracy: 0.8644 - val_prediction_medium_accuracy: 0.7871 - val_prediction_fine_accuracy: 0.5350 - lr: 1.1598e-04\n",
      "Epoch 53/100\n",
      "1848/1848 [==============================] - ETA: 0s - loss: 0.3173 - prediction_coarse_accuracy: 0.8638 - prediction_medium_accuracy: 0.9675 - prediction_fine_accuracy: 0.8886\n",
      "\u001b[91m \u001b[1m • Coarse Accuracy = 86.38% | Val_Accuracy = 86.35% | LossWeight = 0.71 \u001b[0m\n",
      "\u001b[91m \u001b[1m • Medium Accuracy = 96.75% | Val_Accuracy = 79.13% | LossWeight = 0.14 \u001b[0m\n",
      "\u001b[91m \u001b[1m • Fine   Accuracy = 88.86% | Val_Accuracy = 53.72% | LossWeight = 0.15 \u001b[0m\n",
      "\n",
      "Epoch 53: val_prediction_fine_accuracy did not improve from 0.55720\n",
      "1848/1848 [==============================] - 331s 169ms/step - loss: 0.3173 - prediction_coarse_accuracy: 0.8638 - prediction_medium_accuracy: 0.9675 - prediction_fine_accuracy: 0.8886 - val_loss: 0.3797 - val_prediction_coarse_accuracy: 0.8635 - val_prediction_medium_accuracy: 0.7913 - val_prediction_fine_accuracy: 0.5372 - lr: 1.1018e-04\n",
      "Epoch 54/100\n",
      "1848/1848 [==============================] - ETA: 0s - loss: 0.3178 - prediction_coarse_accuracy: 0.8651 - prediction_medium_accuracy: 0.9681 - prediction_fine_accuracy: 0.8900\n",
      "\u001b[91m \u001b[1m • Coarse Accuracy = 86.51% | Val_Accuracy = 86.34% | LossWeight = 0.71 \u001b[0m\n",
      "\u001b[91m \u001b[1m • Medium Accuracy = 96.81% | Val_Accuracy = 78.82% | LossWeight = 0.14 \u001b[0m\n",
      "\u001b[91m \u001b[1m • Fine   Accuracy = 89.00% | Val_Accuracy = 53.70% | LossWeight = 0.15 \u001b[0m\n",
      "\n",
      "Epoch 54: val_prediction_fine_accuracy did not improve from 0.55720\n",
      "1848/1848 [==============================] - 327s 167ms/step - loss: 0.3178 - prediction_coarse_accuracy: 0.8651 - prediction_medium_accuracy: 0.9681 - prediction_fine_accuracy: 0.8900 - val_loss: 0.3814 - val_prediction_coarse_accuracy: 0.8634 - val_prediction_medium_accuracy: 0.7882 - val_prediction_fine_accuracy: 0.5370 - lr: 1.0467e-04\n",
      "Epoch 55/100\n",
      "1848/1848 [==============================] - ETA: 0s - loss: 0.3187 - prediction_coarse_accuracy: 0.8631 - prediction_medium_accuracy: 0.9675 - prediction_fine_accuracy: 0.8907\n",
      "\u001b[91m \u001b[1m • Coarse Accuracy = 86.31% | Val_Accuracy = 86.22% | LossWeight = 0.72 \u001b[0m\n",
      "\u001b[91m \u001b[1m • Medium Accuracy = 96.75% | Val_Accuracy = 78.86% | LossWeight = 0.14 \u001b[0m\n",
      "\u001b[91m \u001b[1m • Fine   Accuracy = 89.07% | Val_Accuracy = 53.46% | LossWeight = 0.14 \u001b[0m\n",
      "\n",
      "Epoch 55: val_prediction_fine_accuracy did not improve from 0.55720\n",
      "1848/1848 [==============================] - 331s 169ms/step - loss: 0.3187 - prediction_coarse_accuracy: 0.8631 - prediction_medium_accuracy: 0.9675 - prediction_fine_accuracy: 0.8907 - val_loss: 0.3814 - val_prediction_coarse_accuracy: 0.8622 - val_prediction_medium_accuracy: 0.7886 - val_prediction_fine_accuracy: 0.5346 - lr: 9.9440e-05\n",
      "Epoch 56/100\n"
     ]
    },
    {
     "name": "stderr",
     "output_type": "stream",
     "text": [
      "2023-05-11 19:52:22.309902: I tensorflow/core/kernels/data/shuffle_dataset_op.cc:392] Filling up shuffle buffer (this may take a while): 5689 of 6400\n",
      "2023-05-11 19:52:23.155733: I tensorflow/core/kernels/data/shuffle_dataset_op.cc:417] Shuffle buffer filled.\n"
     ]
    },
    {
     "name": "stdout",
     "output_type": "stream",
     "text": [
      "1848/1848 [==============================] - ETA: 0s - loss: 0.3191 - prediction_coarse_accuracy: 0.8631 - prediction_medium_accuracy: 0.9674 - prediction_fine_accuracy: 0.8918\n",
      "\u001b[91m \u001b[1m • Coarse Accuracy = 86.31% | Val_Accuracy = 86.22% | LossWeight = 0.72 \u001b[0m\n",
      "\u001b[91m \u001b[1m • Medium Accuracy = 96.74% | Val_Accuracy = 78.53% | LossWeight = 0.14 \u001b[0m\n",
      "\u001b[91m \u001b[1m • Fine   Accuracy = 89.18% | Val_Accuracy = 53.62% | LossWeight = 0.14 \u001b[0m\n",
      "\n",
      "Epoch 56: val_prediction_fine_accuracy did not improve from 0.55720\n",
      "1848/1848 [==============================] - 326s 165ms/step - loss: 0.3191 - prediction_coarse_accuracy: 0.8631 - prediction_medium_accuracy: 0.9674 - prediction_fine_accuracy: 0.8918 - val_loss: 0.3839 - val_prediction_coarse_accuracy: 0.8622 - val_prediction_medium_accuracy: 0.7853 - val_prediction_fine_accuracy: 0.5362 - lr: 9.4468e-05\n",
      "Epoch 57/100\n",
      "1848/1848 [==============================] - ETA: 0s - loss: 0.3193 - prediction_coarse_accuracy: 0.8612 - prediction_medium_accuracy: 0.9676 - prediction_fine_accuracy: 0.8924\n",
      "\u001b[91m \u001b[1m • Coarse Accuracy = 86.12% | Val_Accuracy = 86.17% | LossWeight = 0.72 \u001b[0m\n",
      "\u001b[91m \u001b[1m • Medium Accuracy = 96.76% | Val_Accuracy = 78.54% | LossWeight = 0.14 \u001b[0m\n",
      "\u001b[91m \u001b[1m • Fine   Accuracy = 89.24% | Val_Accuracy = 53.79% | LossWeight = 0.14 \u001b[0m\n",
      "\n",
      "Epoch 57: val_prediction_fine_accuracy did not improve from 0.55720\n",
      "1848/1848 [==============================] - 330s 169ms/step - loss: 0.3193 - prediction_coarse_accuracy: 0.8612 - prediction_medium_accuracy: 0.9676 - prediction_fine_accuracy: 0.8924 - val_loss: 0.3837 - val_prediction_coarse_accuracy: 0.8617 - val_prediction_medium_accuracy: 0.7854 - val_prediction_fine_accuracy: 0.5379 - lr: 8.9745e-05\n",
      "Epoch 58/100\n",
      "1848/1848 [==============================] - ETA: 0s - loss: 0.3205 - prediction_coarse_accuracy: 0.8613 - prediction_medium_accuracy: 0.9682 - prediction_fine_accuracy: 0.8939\n",
      "\u001b[91m \u001b[1m • Coarse Accuracy = 86.13% | Val_Accuracy = 86.11% | LossWeight = 0.72 \u001b[0m\n",
      "\u001b[91m \u001b[1m • Medium Accuracy = 96.82% | Val_Accuracy = 78.61% | LossWeight = 0.14 \u001b[0m\n",
      "\u001b[91m \u001b[1m • Fine   Accuracy = 89.39% | Val_Accuracy = 53.62% | LossWeight = 0.14 \u001b[0m\n",
      "\n",
      "Epoch 58: val_prediction_fine_accuracy did not improve from 0.55720\n",
      "1848/1848 [==============================] - 389s 200ms/step - loss: 0.3205 - prediction_coarse_accuracy: 0.8613 - prediction_medium_accuracy: 0.9682 - prediction_fine_accuracy: 0.8939 - val_loss: 0.3849 - val_prediction_coarse_accuracy: 0.8611 - val_prediction_medium_accuracy: 0.7861 - val_prediction_fine_accuracy: 0.5362 - lr: 8.5258e-05\n",
      "Epoch 59/100\n"
     ]
    },
    {
     "name": "stderr",
     "output_type": "stream",
     "text": [
      "2023-05-11 20:12:21.292519: I tensorflow/core/kernels/data/shuffle_dataset_op.cc:392] Filling up shuffle buffer (this may take a while): 1810 of 6400\n",
      "2023-05-11 20:12:31.374732: I tensorflow/core/kernels/data/shuffle_dataset_op.cc:392] Filling up shuffle buffer (this may take a while): 3817 of 6400\n",
      "2023-05-11 20:12:41.309626: I tensorflow/core/kernels/data/shuffle_dataset_op.cc:392] Filling up shuffle buffer (this may take a while): 5465 of 6400\n",
      "2023-05-11 20:12:46.960940: I tensorflow/core/kernels/data/shuffle_dataset_op.cc:417] Shuffle buffer filled.\n",
      "2023-05-11 20:12:57.424903: I tensorflow/core/kernels/data/shuffle_dataset_op.cc:392] Filling up shuffle buffer (this may take a while): 5654 of 6400\n",
      "2023-05-11 20:12:58.787279: I tensorflow/core/kernels/data/shuffle_dataset_op.cc:417] Shuffle buffer filled.\n"
     ]
    },
    {
     "name": "stdout",
     "output_type": "stream",
     "text": [
      "1848/1848 [==============================] - ETA: 0s - loss: 0.3219 - prediction_coarse_accuracy: 0.8612 - prediction_medium_accuracy: 0.9685 - prediction_fine_accuracy: 0.8958\n",
      "\u001b[91m \u001b[1m • Coarse Accuracy = 86.12% | Val_Accuracy = 86.10% | LossWeight = 0.73 \u001b[0m\n",
      "\u001b[91m \u001b[1m • Medium Accuracy = 96.85% | Val_Accuracy = 78.79% | LossWeight = 0.14 \u001b[0m\n",
      "\u001b[91m \u001b[1m • Fine   Accuracy = 89.58% | Val_Accuracy = 53.66% | LossWeight = 0.14 \u001b[0m\n",
      "\n",
      "Epoch 59: val_prediction_fine_accuracy did not improve from 0.55720\n",
      "1848/1848 [==============================] - 427s 205ms/step - loss: 0.3219 - prediction_coarse_accuracy: 0.8612 - prediction_medium_accuracy: 0.9685 - prediction_fine_accuracy: 0.8958 - val_loss: 0.3870 - val_prediction_coarse_accuracy: 0.8610 - val_prediction_medium_accuracy: 0.7879 - val_prediction_fine_accuracy: 0.5366 - lr: 8.0995e-05\n",
      "Epoch 60/100\n",
      "1848/1848 [==============================] - ETA: 0s - loss: 0.3230 - prediction_coarse_accuracy: 0.8607 - prediction_medium_accuracy: 0.9688 - prediction_fine_accuracy: 0.8962\n",
      "\u001b[91m \u001b[1m • Coarse Accuracy = 86.07% | Val_Accuracy = 86.11% | LossWeight = 0.73 \u001b[0m\n",
      "\u001b[91m \u001b[1m • Medium Accuracy = 96.88% | Val_Accuracy = 78.76% | LossWeight = 0.14 \u001b[0m\n",
      "\u001b[91m \u001b[1m • Fine   Accuracy = 89.62% | Val_Accuracy = 53.78% | LossWeight = 0.14 \u001b[0m\n",
      "\n",
      "Epoch 60: val_prediction_fine_accuracy did not improve from 0.55720\n",
      "1848/1848 [==============================] - 346s 177ms/step - loss: 0.3230 - prediction_coarse_accuracy: 0.8607 - prediction_medium_accuracy: 0.9688 - prediction_fine_accuracy: 0.8962 - val_loss: 0.3869 - val_prediction_coarse_accuracy: 0.8611 - val_prediction_medium_accuracy: 0.7876 - val_prediction_fine_accuracy: 0.5378 - lr: 7.6945e-05\n",
      "Epoch 61/100\n"
     ]
    },
    {
     "name": "stderr",
     "output_type": "stream",
     "text": [
      "2023-05-11 20:25:17.444949: I tensorflow/core/kernels/data/shuffle_dataset_op.cc:392] Filling up shuffle buffer (this may take a while): 6353 of 6400\n",
      "2023-05-11 20:25:17.458874: I tensorflow/core/kernels/data/shuffle_dataset_op.cc:417] Shuffle buffer filled.\n",
      "2023-05-11 20:25:27.593233: I tensorflow/core/kernels/data/shuffle_dataset_op.cc:392] Filling up shuffle buffer (this may take a while): 3880 of 6400\n",
      "2023-05-11 20:25:31.603506: I tensorflow/core/kernels/data/shuffle_dataset_op.cc:417] Shuffle buffer filled.\n"
     ]
    },
    {
     "name": "stdout",
     "output_type": "stream",
     "text": [
      "1848/1848 [==============================] - ETA: 0s - loss: 0.3237 - prediction_coarse_accuracy: 0.8606 - prediction_medium_accuracy: 0.9690 - prediction_fine_accuracy: 0.8965\n",
      "\u001b[91m \u001b[1m • Coarse Accuracy = 86.06% | Val_Accuracy = 86.07% | LossWeight = 0.73 \u001b[0m\n",
      "\u001b[91m \u001b[1m • Medium Accuracy = 96.90% | Val_Accuracy = 78.71% | LossWeight = 0.14 \u001b[0m\n",
      "\u001b[91m \u001b[1m • Fine   Accuracy = 89.65% | Val_Accuracy = 53.57% | LossWeight = 0.14 \u001b[0m\n",
      "\n",
      "Epoch 61: val_prediction_fine_accuracy did not improve from 0.55720\n",
      "1848/1848 [==============================] - 346s 174ms/step - loss: 0.3237 - prediction_coarse_accuracy: 0.8606 - prediction_medium_accuracy: 0.9690 - prediction_fine_accuracy: 0.8965 - val_loss: 0.3880 - val_prediction_coarse_accuracy: 0.8607 - val_prediction_medium_accuracy: 0.7871 - val_prediction_fine_accuracy: 0.5357 - lr: 7.3098e-05\n",
      "Epoch 62/100\n",
      "1848/1848 [==============================] - ETA: 0s - loss: 0.3240 - prediction_coarse_accuracy: 0.8605 - prediction_medium_accuracy: 0.9685 - prediction_fine_accuracy: 0.8979\n",
      "\u001b[91m \u001b[1m • Coarse Accuracy = 86.05% | Val_Accuracy = 86.05% | LossWeight = 0.73 \u001b[0m\n",
      "\u001b[91m \u001b[1m • Medium Accuracy = 96.85% | Val_Accuracy = 78.50% | LossWeight = 0.14 \u001b[0m\n",
      "\u001b[91m \u001b[1m • Fine   Accuracy = 89.79% | Val_Accuracy = 53.59% | LossWeight = 0.13 \u001b[0m\n",
      "\n",
      "Epoch 62: val_prediction_fine_accuracy did not improve from 0.55720\n",
      "1848/1848 [==============================] - 322s 164ms/step - loss: 0.3240 - prediction_coarse_accuracy: 0.8605 - prediction_medium_accuracy: 0.9685 - prediction_fine_accuracy: 0.8979 - val_loss: 0.3890 - val_prediction_coarse_accuracy: 0.8605 - val_prediction_medium_accuracy: 0.7850 - val_prediction_fine_accuracy: 0.5359 - lr: 6.9443e-05\n",
      "Epoch 63/100\n",
      "1848/1848 [==============================] - ETA: 0s - loss: 0.3241 - prediction_coarse_accuracy: 0.8606 - prediction_medium_accuracy: 0.9682 - prediction_fine_accuracy: 0.8980\n",
      "\u001b[91m \u001b[1m • Coarse Accuracy = 86.06% | Val_Accuracy = 86.10% | LossWeight = 0.73 \u001b[0m\n",
      "\u001b[91m \u001b[1m • Medium Accuracy = 96.82% | Val_Accuracy = 78.80% | LossWeight = 0.14 \u001b[0m\n",
      "\u001b[91m \u001b[1m • Fine   Accuracy = 89.80% | Val_Accuracy = 53.63% | LossWeight = 0.13 \u001b[0m\n",
      "\n",
      "Epoch 63: val_prediction_fine_accuracy did not improve from 0.55720\n",
      "1848/1848 [==============================] - 342s 175ms/step - loss: 0.3241 - prediction_coarse_accuracy: 0.8606 - prediction_medium_accuracy: 0.9682 - prediction_fine_accuracy: 0.8980 - val_loss: 0.3887 - val_prediction_coarse_accuracy: 0.8610 - val_prediction_medium_accuracy: 0.7880 - val_prediction_fine_accuracy: 0.5363 - lr: 6.5971e-05\n",
      "Epoch 64/100\n"
     ]
    },
    {
     "name": "stderr",
     "output_type": "stream",
     "text": [
      "2023-05-11 20:43:55.442447: I tensorflow/core/kernels/data/shuffle_dataset_op.cc:392] Filling up shuffle buffer (this may take a while): 6362 of 6400\n",
      "2023-05-11 20:43:55.504075: I tensorflow/core/kernels/data/shuffle_dataset_op.cc:417] Shuffle buffer filled.\n"
     ]
    },
    {
     "name": "stdout",
     "output_type": "stream",
     "text": [
      "1848/1848 [==============================] - ETA: 0s - loss: 0.3237 - prediction_coarse_accuracy: 0.8611 - prediction_medium_accuracy: 0.9683 - prediction_fine_accuracy: 0.8987\n",
      "\u001b[91m \u001b[1m • Coarse Accuracy = 86.11% | Val_Accuracy = 86.00% | LossWeight = 0.73 \u001b[0m\n",
      "\u001b[91m \u001b[1m • Medium Accuracy = 96.83% | Val_Accuracy = 78.83% | LossWeight = 0.14 \u001b[0m\n",
      "\u001b[91m \u001b[1m • Fine   Accuracy = 89.87% | Val_Accuracy = 53.48% | LossWeight = 0.13 \u001b[0m\n",
      "\n",
      "Epoch 64: val_prediction_fine_accuracy did not improve from 0.55720\n",
      "1848/1848 [==============================] - 332s 169ms/step - loss: 0.3237 - prediction_coarse_accuracy: 0.8611 - prediction_medium_accuracy: 0.9683 - prediction_fine_accuracy: 0.8987 - val_loss: 0.3876 - val_prediction_coarse_accuracy: 0.8600 - val_prediction_medium_accuracy: 0.7883 - val_prediction_fine_accuracy: 0.5348 - lr: 6.2672e-05\n",
      "Epoch 65/100\n",
      "1848/1848 [==============================] - ETA: 0s - loss: 0.3238 - prediction_coarse_accuracy: 0.8613 - prediction_medium_accuracy: 0.9681 - prediction_fine_accuracy: 0.8989\n",
      "\u001b[91m \u001b[1m • Coarse Accuracy = 86.13% | Val_Accuracy = 86.05% | LossWeight = 0.73 \u001b[0m\n",
      "\u001b[91m \u001b[1m • Medium Accuracy = 96.81% | Val_Accuracy = 78.61% | LossWeight = 0.14 \u001b[0m\n",
      "\u001b[91m \u001b[1m • Fine   Accuracy = 89.89% | Val_Accuracy = 53.66% | LossWeight = 0.13 \u001b[0m\n",
      "\n",
      "Epoch 65: val_prediction_fine_accuracy did not improve from 0.55720\n",
      "1848/1848 [==============================] - 339s 173ms/step - loss: 0.3238 - prediction_coarse_accuracy: 0.8613 - prediction_medium_accuracy: 0.9681 - prediction_fine_accuracy: 0.8989 - val_loss: 0.3884 - val_prediction_coarse_accuracy: 0.8605 - val_prediction_medium_accuracy: 0.7861 - val_prediction_fine_accuracy: 0.5366 - lr: 5.9539e-05\n",
      "Epoch 66/100\n"
     ]
    },
    {
     "name": "stderr",
     "output_type": "stream",
     "text": [
      "2023-05-11 20:55:50.914536: I tensorflow/core/kernels/data/shuffle_dataset_op.cc:392] Filling up shuffle buffer (this may take a while): 5992 of 6400\n",
      "2023-05-11 20:55:51.543610: I tensorflow/core/kernels/data/shuffle_dataset_op.cc:417] Shuffle buffer filled.\n"
     ]
    },
    {
     "name": "stdout",
     "output_type": "stream",
     "text": [
      "1848/1848 [==============================] - ETA: 0s - loss: 0.3233 - prediction_coarse_accuracy: 0.8604 - prediction_medium_accuracy: 0.9681 - prediction_fine_accuracy: 0.8997\n",
      "\u001b[91m \u001b[1m • Coarse Accuracy = 86.04% | Val_Accuracy = 86.00% | LossWeight = 0.73 \u001b[0m\n",
      "\u001b[91m \u001b[1m • Medium Accuracy = 96.81% | Val_Accuracy = 78.81% | LossWeight = 0.14 \u001b[0m\n",
      "\u001b[91m \u001b[1m • Fine   Accuracy = 89.97% | Val_Accuracy = 53.72% | LossWeight = 0.13 \u001b[0m\n",
      "\n",
      "Epoch 66: val_prediction_fine_accuracy did not improve from 0.55720\n",
      "1848/1848 [==============================] - 443s 229ms/step - loss: 0.3233 - prediction_coarse_accuracy: 0.8604 - prediction_medium_accuracy: 0.9681 - prediction_fine_accuracy: 0.8997 - val_loss: 0.3882 - val_prediction_coarse_accuracy: 0.8600 - val_prediction_medium_accuracy: 0.7881 - val_prediction_fine_accuracy: 0.5372 - lr: 5.6562e-05\n",
      "Epoch 67/100\n",
      "1848/1848 [==============================] - ETA: 0s - loss: 0.3239 - prediction_coarse_accuracy: 0.8605 - prediction_medium_accuracy: 0.9696 - prediction_fine_accuracy: 0.9016\n",
      "\u001b[91m \u001b[1m • Coarse Accuracy = 86.05% | Val_Accuracy = 85.99% | LossWeight = 0.74 \u001b[0m\n",
      "\u001b[91m \u001b[1m • Medium Accuracy = 96.96% | Val_Accuracy = 78.80% | LossWeight = 0.13 \u001b[0m\n",
      "\u001b[91m \u001b[1m • Fine   Accuracy = 90.16% | Val_Accuracy = 53.70% | LossWeight = 0.13 \u001b[0m\n",
      "\n",
      "Epoch 67: val_prediction_fine_accuracy did not improve from 0.55720\n",
      "1848/1848 [==============================] - 348s 178ms/step - loss: 0.3239 - prediction_coarse_accuracy: 0.8605 - prediction_medium_accuracy: 0.9696 - prediction_fine_accuracy: 0.9016 - val_loss: 0.3886 - val_prediction_coarse_accuracy: 0.8599 - val_prediction_medium_accuracy: 0.7880 - val_prediction_fine_accuracy: 0.5370 - lr: 5.3734e-05\n",
      "Epoch 68/100\n",
      "1848/1848 [==============================] - ETA: 0s - loss: 0.3266 - prediction_coarse_accuracy: 0.8604 - prediction_medium_accuracy: 0.9687 - prediction_fine_accuracy: 0.9023\n",
      "\u001b[91m \u001b[1m • Coarse Accuracy = 86.04% | Val_Accuracy = 86.04% | LossWeight = 0.73 \u001b[0m\n",
      "\u001b[91m \u001b[1m • Medium Accuracy = 96.87% | Val_Accuracy = 79.01% | LossWeight = 0.14 \u001b[0m\n",
      "\u001b[91m \u001b[1m • Fine   Accuracy = 90.23% | Val_Accuracy = 53.89% | LossWeight = 0.13 \u001b[0m\n",
      "\n",
      "Epoch 68: val_prediction_fine_accuracy did not improve from 0.55720\n",
      "1848/1848 [==============================] - 347s 178ms/step - loss: 0.3266 - prediction_coarse_accuracy: 0.8604 - prediction_medium_accuracy: 0.9687 - prediction_fine_accuracy: 0.9023 - val_loss: 0.3907 - val_prediction_coarse_accuracy: 0.8604 - val_prediction_medium_accuracy: 0.7901 - val_prediction_fine_accuracy: 0.5389 - lr: 5.1047e-05\n",
      "Epoch 69/100\n",
      "1848/1848 [==============================] - ETA: 0s - loss: 0.3256 - prediction_coarse_accuracy: 0.8606 - prediction_medium_accuracy: 0.9694 - prediction_fine_accuracy: 0.9042\n",
      "\u001b[91m \u001b[1m • Coarse Accuracy = 86.06% | Val_Accuracy = 85.99% | LossWeight = 0.74 \u001b[0m\n",
      "\u001b[91m \u001b[1m • Medium Accuracy = 96.94% | Val_Accuracy = 78.73% | LossWeight = 0.13 \u001b[0m\n",
      "\u001b[91m \u001b[1m • Fine   Accuracy = 90.42% | Val_Accuracy = 53.62% | LossWeight = 0.13 \u001b[0m\n",
      "\n",
      "Epoch 69: val_prediction_fine_accuracy did not improve from 0.55720\n",
      "1848/1848 [==============================] - 342s 175ms/step - loss: 0.3256 - prediction_coarse_accuracy: 0.8606 - prediction_medium_accuracy: 0.9694 - prediction_fine_accuracy: 0.9042 - val_loss: 0.3908 - val_prediction_coarse_accuracy: 0.8599 - val_prediction_medium_accuracy: 0.7873 - val_prediction_fine_accuracy: 0.5362 - lr: 4.8495e-05\n",
      "Epoch 70/100\n",
      "1848/1848 [==============================] - ETA: 0s - loss: 0.3270 - prediction_coarse_accuracy: 0.8596 - prediction_medium_accuracy: 0.9695 - prediction_fine_accuracy: 0.9042\n",
      "\u001b[91m \u001b[1m • Coarse Accuracy = 85.96% | Val_Accuracy = 86.02% | LossWeight = 0.74 \u001b[0m\n",
      "\u001b[91m \u001b[1m • Medium Accuracy = 96.95% | Val_Accuracy = 78.69% | LossWeight = 0.13 \u001b[0m\n",
      "\u001b[91m \u001b[1m • Fine   Accuracy = 90.42% | Val_Accuracy = 53.61% | LossWeight = 0.13 \u001b[0m\n",
      "\n",
      "Epoch 70: val_prediction_fine_accuracy did not improve from 0.55720\n",
      "1848/1848 [==============================] - 352s 180ms/step - loss: 0.3270 - prediction_coarse_accuracy: 0.8596 - prediction_medium_accuracy: 0.9695 - prediction_fine_accuracy: 0.9042 - val_loss: 0.3918 - val_prediction_coarse_accuracy: 0.8602 - val_prediction_medium_accuracy: 0.7869 - val_prediction_fine_accuracy: 0.5361 - lr: 4.6070e-05\n",
      "Epoch 71/100\n",
      "1848/1848 [==============================] - ETA: 0s - loss: 0.3279 - prediction_coarse_accuracy: 0.8606 - prediction_medium_accuracy: 0.9687 - prediction_fine_accuracy: 0.9023\n",
      "\u001b[91m \u001b[1m • Coarse Accuracy = 86.06% | Val_Accuracy = 86.01% | LossWeight = 0.73 \u001b[0m\n",
      "\u001b[91m \u001b[1m • Medium Accuracy = 96.87% | Val_Accuracy = 78.86% | LossWeight = 0.14 \u001b[0m\n",
      "\u001b[91m \u001b[1m • Fine   Accuracy = 90.23% | Val_Accuracy = 53.62% | LossWeight = 0.13 \u001b[0m\n",
      "\n",
      "Epoch 71: val_prediction_fine_accuracy did not improve from 0.55720\n",
      "1848/1848 [==============================] - 329s 167ms/step - loss: 0.3279 - prediction_coarse_accuracy: 0.8606 - prediction_medium_accuracy: 0.9687 - prediction_fine_accuracy: 0.9023 - val_loss: 0.3926 - val_prediction_coarse_accuracy: 0.8601 - val_prediction_medium_accuracy: 0.7886 - val_prediction_fine_accuracy: 0.5362 - lr: 4.3766e-05\n",
      "Epoch 72/100\n"
     ]
    },
    {
     "name": "stderr",
     "output_type": "stream",
     "text": [
      "2023-05-11 21:34:44.290503: I tensorflow/core/kernels/data/shuffle_dataset_op.cc:392] Filling up shuffle buffer (this may take a while): 5955 of 6400\n",
      "2023-05-11 21:34:44.968323: I tensorflow/core/kernels/data/shuffle_dataset_op.cc:417] Shuffle buffer filled.\n"
     ]
    },
    {
     "name": "stdout",
     "output_type": "stream",
     "text": [
      "1848/1848 [==============================] - ETA: 0s - loss: 0.3255 - prediction_coarse_accuracy: 0.8594 - prediction_medium_accuracy: 0.9686 - prediction_fine_accuracy: 0.9026\n",
      "\u001b[91m \u001b[1m • Coarse Accuracy = 85.94% | Val_Accuracy = 86.00% | LossWeight = 0.74 \u001b[0m\n",
      "\u001b[91m \u001b[1m • Medium Accuracy = 96.86% | Val_Accuracy = 78.73% | LossWeight = 0.14 \u001b[0m\n",
      "\u001b[91m \u001b[1m • Fine   Accuracy = 90.26% | Val_Accuracy = 53.49% | LossWeight = 0.13 \u001b[0m\n",
      "\n",
      "Epoch 72: val_prediction_fine_accuracy did not improve from 0.55720\n",
      "1848/1848 [==============================] - 352s 180ms/step - loss: 0.3255 - prediction_coarse_accuracy: 0.8594 - prediction_medium_accuracy: 0.9686 - prediction_fine_accuracy: 0.9026 - val_loss: 0.3902 - val_prediction_coarse_accuracy: 0.8600 - val_prediction_medium_accuracy: 0.7873 - val_prediction_fine_accuracy: 0.5349 - lr: 4.1578e-05\n",
      "Epoch 73/100\n"
     ]
    },
    {
     "name": "stderr",
     "output_type": "stream",
     "text": [
      "2023-05-11 21:41:06.880806: I tensorflow/core/kernels/data/shuffle_dataset_op.cc:392] Filling up shuffle buffer (this may take a while): 6079 of 6400\n",
      "2023-05-11 21:41:07.285663: I tensorflow/core/kernels/data/shuffle_dataset_op.cc:417] Shuffle buffer filled.\n"
     ]
    },
    {
     "name": "stdout",
     "output_type": "stream",
     "text": [
      "1848/1848 [==============================] - ETA: 0s - loss: 0.3258 - prediction_coarse_accuracy: 0.8607 - prediction_medium_accuracy: 0.9684 - prediction_fine_accuracy: 0.9049\n",
      "\u001b[91m \u001b[1m • Coarse Accuracy = 86.07% | Val_Accuracy = 85.97% | LossWeight = 0.74 \u001b[0m\n",
      "\u001b[91m \u001b[1m • Medium Accuracy = 96.84% | Val_Accuracy = 78.76% | LossWeight = 0.14 \u001b[0m\n",
      "\u001b[91m \u001b[1m • Fine   Accuracy = 90.49% | Val_Accuracy = 53.80% | LossWeight = 0.13 \u001b[0m\n",
      "\n",
      "Epoch 73: val_prediction_fine_accuracy did not improve from 0.55720\n",
      "1848/1848 [==============================] - 465s 241ms/step - loss: 0.3258 - prediction_coarse_accuracy: 0.8607 - prediction_medium_accuracy: 0.9684 - prediction_fine_accuracy: 0.9049 - val_loss: 0.3907 - val_prediction_coarse_accuracy: 0.8597 - val_prediction_medium_accuracy: 0.7876 - val_prediction_fine_accuracy: 0.5380 - lr: 3.9499e-05\n",
      "Epoch 74/100\n"
     ]
    },
    {
     "name": "stderr",
     "output_type": "stream",
     "text": [
      "2023-05-11 21:49:20.200469: I tensorflow/core/kernels/data/shuffle_dataset_op.cc:392] Filling up shuffle buffer (this may take a while): 1535 of 6400\n",
      "2023-05-11 21:49:30.222443: I tensorflow/core/kernels/data/shuffle_dataset_op.cc:392] Filling up shuffle buffer (this may take a while): 6270 of 6400\n",
      "2023-05-11 21:49:30.456967: I tensorflow/core/kernels/data/shuffle_dataset_op.cc:417] Shuffle buffer filled.\n",
      "2023-05-11 21:49:40.568802: I tensorflow/core/kernels/data/shuffle_dataset_op.cc:392] Filling up shuffle buffer (this may take a while): 3709 of 6400\n",
      "2023-05-11 21:49:47.955721: I tensorflow/core/kernels/data/shuffle_dataset_op.cc:417] Shuffle buffer filled.\n"
     ]
    },
    {
     "name": "stdout",
     "output_type": "stream",
     "text": [
      "1848/1848 [==============================] - ETA: 0s - loss: 0.3260 - prediction_coarse_accuracy: 0.8603 - prediction_medium_accuracy: 0.9684 - prediction_fine_accuracy: 0.9044\n",
      "\u001b[91m \u001b[1m • Coarse Accuracy = 86.03% | Val_Accuracy = 85.97% | LossWeight = 0.74 \u001b[0m\n",
      "\u001b[91m \u001b[1m • Medium Accuracy = 96.84% | Val_Accuracy = 78.59% | LossWeight = 0.14 \u001b[0m\n",
      "\u001b[91m \u001b[1m • Fine   Accuracy = 90.44% | Val_Accuracy = 53.72% | LossWeight = 0.13 \u001b[0m\n",
      "\n",
      "Epoch 74: val_prediction_fine_accuracy did not improve from 0.55720\n",
      "1848/1848 [==============================] - 351s 169ms/step - loss: 0.3260 - prediction_coarse_accuracy: 0.8603 - prediction_medium_accuracy: 0.9684 - prediction_fine_accuracy: 0.9044 - val_loss: 0.3905 - val_prediction_coarse_accuracy: 0.8597 - val_prediction_medium_accuracy: 0.7859 - val_prediction_fine_accuracy: 0.5372 - lr: 3.7524e-05\n",
      "Epoch 75/100\n",
      "1848/1848 [==============================] - ETA: 0s - loss: 0.3256 - prediction_coarse_accuracy: 0.8588 - prediction_medium_accuracy: 0.9693 - prediction_fine_accuracy: 0.9058\n",
      "\u001b[91m \u001b[1m • Coarse Accuracy = 85.88% | Val_Accuracy = 85.97% | LossWeight = 0.74 \u001b[0m\n",
      "\u001b[91m \u001b[1m • Medium Accuracy = 96.93% | Val_Accuracy = 78.69% | LossWeight = 0.13 \u001b[0m\n",
      "\u001b[91m \u001b[1m • Fine   Accuracy = 90.58% | Val_Accuracy = 53.46% | LossWeight = 0.12 \u001b[0m\n",
      "\n",
      "Epoch 75: val_prediction_fine_accuracy did not improve from 0.55720\n",
      "1848/1848 [==============================] - 348s 178ms/step - loss: 0.3256 - prediction_coarse_accuracy: 0.8588 - prediction_medium_accuracy: 0.9693 - prediction_fine_accuracy: 0.9058 - val_loss: 0.3913 - val_prediction_coarse_accuracy: 0.8597 - val_prediction_medium_accuracy: 0.7869 - val_prediction_fine_accuracy: 0.5346 - lr: 3.5648e-05\n",
      "Epoch 76/100\n",
      "1848/1848 [==============================] - ETA: 0s - loss: 0.3282 - prediction_coarse_accuracy: 0.8589 - prediction_medium_accuracy: 0.9681 - prediction_fine_accuracy: 0.9053\n",
      "\u001b[91m \u001b[1m • Coarse Accuracy = 85.89% | Val_Accuracy = 85.96% | LossWeight = 0.74 \u001b[0m\n",
      "\u001b[91m \u001b[1m • Medium Accuracy = 96.81% | Val_Accuracy = 78.49% | LossWeight = 0.14 \u001b[0m\n",
      "\u001b[91m \u001b[1m • Fine   Accuracy = 90.53% | Val_Accuracy = 53.44% | LossWeight = 0.12 \u001b[0m\n",
      "\n",
      "Epoch 76: val_prediction_fine_accuracy did not improve from 0.55720\n",
      "1848/1848 [==============================] - 354s 181ms/step - loss: 0.3282 - prediction_coarse_accuracy: 0.8589 - prediction_medium_accuracy: 0.9681 - prediction_fine_accuracy: 0.9053 - val_loss: 0.3938 - val_prediction_coarse_accuracy: 0.8596 - val_prediction_medium_accuracy: 0.7849 - val_prediction_fine_accuracy: 0.5344 - lr: 3.3866e-05\n",
      "Epoch 77/100\n",
      "1848/1848 [==============================] - ETA: 0s - loss: 0.3266 - prediction_coarse_accuracy: 0.8600 - prediction_medium_accuracy: 0.9685 - prediction_fine_accuracy: 0.9051\n",
      "\u001b[91m \u001b[1m • Coarse Accuracy = 86.00% | Val_Accuracy = 85.94% | LossWeight = 0.74 \u001b[0m\n",
      "\u001b[91m \u001b[1m • Medium Accuracy = 96.85% | Val_Accuracy = 78.71% | LossWeight = 0.14 \u001b[0m\n",
      "\u001b[91m \u001b[1m • Fine   Accuracy = 90.51% | Val_Accuracy = 53.56% | LossWeight = 0.12 \u001b[0m\n",
      "\n",
      "Epoch 77: val_prediction_fine_accuracy did not improve from 0.55720\n",
      "1848/1848 [==============================] - 329s 167ms/step - loss: 0.3266 - prediction_coarse_accuracy: 0.8600 - prediction_medium_accuracy: 0.9685 - prediction_fine_accuracy: 0.9051 - val_loss: 0.3913 - val_prediction_coarse_accuracy: 0.8594 - val_prediction_medium_accuracy: 0.7871 - val_prediction_fine_accuracy: 0.5356 - lr: 3.2172e-05\n",
      "Epoch 78/100\n",
      "1848/1848 [==============================] - ETA: 0s - loss: 0.3262 - prediction_coarse_accuracy: 0.8595 - prediction_medium_accuracy: 0.9696 - prediction_fine_accuracy: 0.9058\n",
      "\u001b[91m \u001b[1m • Coarse Accuracy = 85.95% | Val_Accuracy = 85.94% | LossWeight = 0.74 \u001b[0m\n",
      "\u001b[91m \u001b[1m • Medium Accuracy = 96.96% | Val_Accuracy = 78.64% | LossWeight = 0.13 \u001b[0m\n",
      "\u001b[91m \u001b[1m • Fine   Accuracy = 90.58% | Val_Accuracy = 53.47% | LossWeight = 0.12 \u001b[0m\n",
      "\n",
      "Epoch 78: val_prediction_fine_accuracy did not improve from 0.55720\n",
      "1848/1848 [==============================] - 305s 155ms/step - loss: 0.3262 - prediction_coarse_accuracy: 0.8595 - prediction_medium_accuracy: 0.9696 - prediction_fine_accuracy: 0.9058 - val_loss: 0.3913 - val_prediction_coarse_accuracy: 0.8594 - val_prediction_medium_accuracy: 0.7864 - val_prediction_fine_accuracy: 0.5347 - lr: 3.0564e-05\n",
      "Epoch 79/100\n",
      "1848/1848 [==============================] - ETA: 0s - loss: 0.3281 - prediction_coarse_accuracy: 0.8591 - prediction_medium_accuracy: 0.9689 - prediction_fine_accuracy: 0.9057\n",
      "\u001b[91m \u001b[1m • Coarse Accuracy = 85.91% | Val_Accuracy = 85.94% | LossWeight = 0.74 \u001b[0m\n",
      "\u001b[91m \u001b[1m • Medium Accuracy = 96.89% | Val_Accuracy = 78.70% | LossWeight = 0.14 \u001b[0m\n",
      "\u001b[91m \u001b[1m • Fine   Accuracy = 90.57% | Val_Accuracy = 53.46% | LossWeight = 0.12 \u001b[0m\n",
      "\n",
      "Epoch 79: val_prediction_fine_accuracy did not improve from 0.55720\n",
      "1848/1848 [==============================] - 286s 144ms/step - loss: 0.3281 - prediction_coarse_accuracy: 0.8591 - prediction_medium_accuracy: 0.9689 - prediction_fine_accuracy: 0.9057 - val_loss: 0.3934 - val_prediction_coarse_accuracy: 0.8594 - val_prediction_medium_accuracy: 0.7870 - val_prediction_fine_accuracy: 0.5346 - lr: 2.9035e-05\n",
      "Epoch 80/100\n"
     ]
    },
    {
     "name": "stderr",
     "output_type": "stream",
     "text": [
      "2023-05-11 22:24:52.112804: I tensorflow/core/kernels/data/shuffle_dataset_op.cc:392] Filling up shuffle buffer (this may take a while): 6157 of 6400\n",
      "2023-05-11 22:24:52.439855: I tensorflow/core/kernels/data/shuffle_dataset_op.cc:417] Shuffle buffer filled.\n"
     ]
    },
    {
     "name": "stdout",
     "output_type": "stream",
     "text": [
      "1848/1848 [==============================] - ETA: 0s - loss: 0.3274 - prediction_coarse_accuracy: 0.8592 - prediction_medium_accuracy: 0.9686 - prediction_fine_accuracy: 0.9061\n",
      "\u001b[91m \u001b[1m • Coarse Accuracy = 85.92% | Val_Accuracy = 85.96% | LossWeight = 0.74 \u001b[0m\n",
      "\u001b[91m \u001b[1m • Medium Accuracy = 96.86% | Val_Accuracy = 78.46% | LossWeight = 0.14 \u001b[0m\n",
      "\u001b[91m \u001b[1m • Fine   Accuracy = 90.61% | Val_Accuracy = 53.33% | LossWeight = 0.12 \u001b[0m\n",
      "\n",
      "Epoch 80: val_prediction_fine_accuracy did not improve from 0.55720\n",
      "1848/1848 [==============================] - 308s 156ms/step - loss: 0.3274 - prediction_coarse_accuracy: 0.8592 - prediction_medium_accuracy: 0.9686 - prediction_fine_accuracy: 0.9061 - val_loss: 0.3931 - val_prediction_coarse_accuracy: 0.8596 - val_prediction_medium_accuracy: 0.7846 - val_prediction_fine_accuracy: 0.5333 - lr: 2.7584e-05\n",
      "Epoch 81/100\n"
     ]
    },
    {
     "name": "stderr",
     "output_type": "stream",
     "text": [
      "2023-05-11 22:30:02.571139: I tensorflow/core/kernels/data/shuffle_dataset_op.cc:392] Filling up shuffle buffer (this may take a while): 6246 of 6400\n",
      "2023-05-11 22:30:02.872538: I tensorflow/core/kernels/data/shuffle_dataset_op.cc:417] Shuffle buffer filled.\n"
     ]
    },
    {
     "name": "stdout",
     "output_type": "stream",
     "text": [
      "1848/1848 [==============================] - ETA: 0s - loss: 0.3272 - prediction_coarse_accuracy: 0.8593 - prediction_medium_accuracy: 0.9686 - prediction_fine_accuracy: 0.9066\n",
      "\u001b[91m \u001b[1m • Coarse Accuracy = 85.93% | Val_Accuracy = 85.92% | LossWeight = 0.74 \u001b[0m\n",
      "\u001b[91m \u001b[1m • Medium Accuracy = 96.86% | Val_Accuracy = 78.84% | LossWeight = 0.14 \u001b[0m\n",
      "\u001b[91m \u001b[1m • Fine   Accuracy = 90.66% | Val_Accuracy = 53.70% | LossWeight = 0.12 \u001b[0m\n",
      "\n",
      "Epoch 81: val_prediction_fine_accuracy did not improve from 0.55720\n",
      "1848/1848 [==============================] - 392s 201ms/step - loss: 0.3272 - prediction_coarse_accuracy: 0.8593 - prediction_medium_accuracy: 0.9686 - prediction_fine_accuracy: 0.9066 - val_loss: 0.3919 - val_prediction_coarse_accuracy: 0.8592 - val_prediction_medium_accuracy: 0.7884 - val_prediction_fine_accuracy: 0.5370 - lr: 2.6205e-05\n",
      "Epoch 82/100\n",
      "1848/1848 [==============================] - ETA: 0s - loss: 0.3270 - prediction_coarse_accuracy: 0.8584 - prediction_medium_accuracy: 0.9694 - prediction_fine_accuracy: 0.9091\n",
      "\u001b[91m \u001b[1m • Coarse Accuracy = 85.84% | Val_Accuracy = 85.91% | LossWeight = 0.75 \u001b[0m\n",
      "\u001b[91m \u001b[1m • Medium Accuracy = 96.94% | Val_Accuracy = 78.86% | LossWeight = 0.13 \u001b[0m\n",
      "\u001b[91m \u001b[1m • Fine   Accuracy = 90.91% | Val_Accuracy = 53.38% | LossWeight = 0.12 \u001b[0m\n",
      "\n",
      "Epoch 82: val_prediction_fine_accuracy did not improve from 0.55720\n",
      "1848/1848 [==============================] - 302s 154ms/step - loss: 0.3270 - prediction_coarse_accuracy: 0.8584 - prediction_medium_accuracy: 0.9694 - prediction_fine_accuracy: 0.9091 - val_loss: 0.3923 - val_prediction_coarse_accuracy: 0.8591 - val_prediction_medium_accuracy: 0.7886 - val_prediction_fine_accuracy: 0.5338 - lr: 2.4894e-05\n",
      "Epoch 83/100\n",
      "1848/1848 [==============================] - ETA: 0s - loss: 0.3298 - prediction_coarse_accuracy: 0.8595 - prediction_medium_accuracy: 0.9694 - prediction_fine_accuracy: 0.9074\n",
      "\u001b[91m \u001b[1m • Coarse Accuracy = 85.95% | Val_Accuracy = 85.93% | LossWeight = 0.74 \u001b[0m\n",
      "\u001b[91m \u001b[1m • Medium Accuracy = 96.94% | Val_Accuracy = 78.55% | LossWeight = 0.13 \u001b[0m\n",
      "\u001b[91m \u001b[1m • Fine   Accuracy = 90.74% | Val_Accuracy = 53.28% | LossWeight = 0.12 \u001b[0m\n",
      "\n",
      "Epoch 83: val_prediction_fine_accuracy did not improve from 0.55720\n",
      "1848/1848 [==============================] - 296s 151ms/step - loss: 0.3298 - prediction_coarse_accuracy: 0.8595 - prediction_medium_accuracy: 0.9694 - prediction_fine_accuracy: 0.9074 - val_loss: 0.3954 - val_prediction_coarse_accuracy: 0.8593 - val_prediction_medium_accuracy: 0.7855 - val_prediction_fine_accuracy: 0.5328 - lr: 2.3650e-05\n",
      "Epoch 84/100\n",
      "1848/1848 [==============================] - ETA: 0s - loss: 0.3282 - prediction_coarse_accuracy: 0.8598 - prediction_medium_accuracy: 0.9697 - prediction_fine_accuracy: 0.9078\n",
      "\u001b[91m \u001b[1m • Coarse Accuracy = 85.98% | Val_Accuracy = 85.92% | LossWeight = 0.74 \u001b[0m\n",
      "\u001b[91m \u001b[1m • Medium Accuracy = 96.97% | Val_Accuracy = 78.64% | LossWeight = 0.13 \u001b[0m\n",
      "\u001b[91m \u001b[1m • Fine   Accuracy = 90.78% | Val_Accuracy = 53.26% | LossWeight = 0.12 \u001b[0m\n",
      "\n",
      "Epoch 84: val_prediction_fine_accuracy did not improve from 0.55720\n",
      "1848/1848 [==============================] - 300s 153ms/step - loss: 0.3282 - prediction_coarse_accuracy: 0.8598 - prediction_medium_accuracy: 0.9697 - prediction_fine_accuracy: 0.9078 - val_loss: 0.3937 - val_prediction_coarse_accuracy: 0.8592 - val_prediction_medium_accuracy: 0.7864 - val_prediction_fine_accuracy: 0.5326 - lr: 2.2467e-05\n",
      "Epoch 85/100\n",
      "1848/1848 [==============================] - ETA: 0s - loss: 0.3290 - prediction_coarse_accuracy: 0.8594 - prediction_medium_accuracy: 0.9683 - prediction_fine_accuracy: 0.9055\n",
      "\u001b[91m \u001b[1m • Coarse Accuracy = 85.94% | Val_Accuracy = 85.91% | LossWeight = 0.74 \u001b[0m\n",
      "\u001b[91m \u001b[1m • Medium Accuracy = 96.83% | Val_Accuracy = 78.68% | LossWeight = 0.14 \u001b[0m\n",
      "\u001b[91m \u001b[1m • Fine   Accuracy = 90.55% | Val_Accuracy = 53.20% | LossWeight = 0.12 \u001b[0m\n",
      "\n",
      "Epoch 85: val_prediction_fine_accuracy did not improve from 0.55720\n",
      "1848/1848 [==============================] - 297s 151ms/step - loss: 0.3290 - prediction_coarse_accuracy: 0.8594 - prediction_medium_accuracy: 0.9683 - prediction_fine_accuracy: 0.9055 - val_loss: 0.3944 - val_prediction_coarse_accuracy: 0.8591 - val_prediction_medium_accuracy: 0.7868 - val_prediction_fine_accuracy: 0.5320 - lr: 2.1344e-05\n",
      "Epoch 86/100\n",
      "1848/1848 [==============================] - ETA: 0s - loss: 0.3261 - prediction_coarse_accuracy: 0.8590 - prediction_medium_accuracy: 0.9695 - prediction_fine_accuracy: 0.9077\n",
      "\u001b[91m \u001b[1m • Coarse Accuracy = 85.90% | Val_Accuracy = 85.91% | LossWeight = 0.74 \u001b[0m\n",
      "\u001b[91m \u001b[1m • Medium Accuracy = 96.95% | Val_Accuracy = 78.66% | LossWeight = 0.13 \u001b[0m\n",
      "\u001b[91m \u001b[1m • Fine   Accuracy = 90.77% | Val_Accuracy = 53.30% | LossWeight = 0.12 \u001b[0m\n",
      "\n",
      "Epoch 86: val_prediction_fine_accuracy did not improve from 0.55720\n",
      "1848/1848 [==============================] - 304s 155ms/step - loss: 0.3261 - prediction_coarse_accuracy: 0.8590 - prediction_medium_accuracy: 0.9695 - prediction_fine_accuracy: 0.9077 - val_loss: 0.3915 - val_prediction_coarse_accuracy: 0.8591 - val_prediction_medium_accuracy: 0.7866 - val_prediction_fine_accuracy: 0.5330 - lr: 2.0277e-05\n",
      "Epoch 87/100\n",
      "1848/1848 [==============================] - ETA: 0s - loss: 0.3285 - prediction_coarse_accuracy: 0.8588 - prediction_medium_accuracy: 0.9697 - prediction_fine_accuracy: 0.9072\n",
      "\u001b[91m \u001b[1m • Coarse Accuracy = 85.88% | Val_Accuracy = 85.91% | LossWeight = 0.74 \u001b[0m\n",
      "\u001b[91m \u001b[1m • Medium Accuracy = 96.97% | Val_Accuracy = 78.59% | LossWeight = 0.13 \u001b[0m\n",
      "\u001b[91m \u001b[1m • Fine   Accuracy = 90.72% | Val_Accuracy = 53.25% | LossWeight = 0.12 \u001b[0m\n",
      "\n",
      "Epoch 87: val_prediction_fine_accuracy did not improve from 0.55720\n",
      "1848/1848 [==============================] - 290s 147ms/step - loss: 0.3285 - prediction_coarse_accuracy: 0.8588 - prediction_medium_accuracy: 0.9697 - prediction_fine_accuracy: 0.9072 - val_loss: 0.3942 - val_prediction_coarse_accuracy: 0.8591 - val_prediction_medium_accuracy: 0.7859 - val_prediction_fine_accuracy: 0.5325 - lr: 1.9263e-05\n",
      "Epoch 88/100\n",
      "1848/1848 [==============================] - ETA: 0s - loss: 0.3289 - prediction_coarse_accuracy: 0.8591 - prediction_medium_accuracy: 0.9692 - prediction_fine_accuracy: 0.9080\n",
      "\u001b[91m \u001b[1m • Coarse Accuracy = 85.91% | Val_Accuracy = 85.88% | LossWeight = 0.74 \u001b[0m\n",
      "\u001b[91m \u001b[1m • Medium Accuracy = 96.92% | Val_Accuracy = 78.73% | LossWeight = 0.14 \u001b[0m\n",
      "\u001b[91m \u001b[1m • Fine   Accuracy = 90.80% | Val_Accuracy = 53.35% | LossWeight = 0.12 \u001b[0m\n",
      "\n",
      "Epoch 88: val_prediction_fine_accuracy did not improve from 0.55720\n",
      "1848/1848 [==============================] - 300s 152ms/step - loss: 0.3289 - prediction_coarse_accuracy: 0.8591 - prediction_medium_accuracy: 0.9692 - prediction_fine_accuracy: 0.9080 - val_loss: 0.3942 - val_prediction_coarse_accuracy: 0.8588 - val_prediction_medium_accuracy: 0.7873 - val_prediction_fine_accuracy: 0.5335 - lr: 1.8300e-05\n",
      "Epoch 89/100\n",
      "1848/1848 [==============================] - ETA: 0s - loss: 0.3285 - prediction_coarse_accuracy: 0.8605 - prediction_medium_accuracy: 0.9690 - prediction_fine_accuracy: 0.9088\n",
      "\u001b[91m \u001b[1m • Coarse Accuracy = 86.05% | Val_Accuracy = 85.88% | LossWeight = 0.74 \u001b[0m\n",
      "\u001b[91m \u001b[1m • Medium Accuracy = 96.90% | Val_Accuracy = 78.73% | LossWeight = 0.14 \u001b[0m\n",
      "\u001b[91m \u001b[1m • Fine   Accuracy = 90.88% | Val_Accuracy = 53.29% | LossWeight = 0.12 \u001b[0m\n",
      "\n",
      "Epoch 89: val_prediction_fine_accuracy did not improve from 0.55720\n",
      "1848/1848 [==============================] - 307s 157ms/step - loss: 0.3285 - prediction_coarse_accuracy: 0.8605 - prediction_medium_accuracy: 0.9690 - prediction_fine_accuracy: 0.9088 - val_loss: 0.3936 - val_prediction_coarse_accuracy: 0.8588 - val_prediction_medium_accuracy: 0.7873 - val_prediction_fine_accuracy: 0.5329 - lr: 1.7385e-05\n",
      "Epoch 90/100\n"
     ]
    },
    {
     "name": "stderr",
     "output_type": "stream",
     "text": [
      "2023-05-11 23:18:48.229100: I tensorflow/core/kernels/data/shuffle_dataset_op.cc:392] Filling up shuffle buffer (this may take a while): 5810 of 6400\n",
      "2023-05-11 23:18:48.892344: I tensorflow/core/kernels/data/shuffle_dataset_op.cc:417] Shuffle buffer filled.\n"
     ]
    },
    {
     "name": "stdout",
     "output_type": "stream",
     "text": [
      "1848/1848 [==============================] - ETA: 0s - loss: 0.3276 - prediction_coarse_accuracy: 0.8592 - prediction_medium_accuracy: 0.9700 - prediction_fine_accuracy: 0.9092\n",
      "\u001b[91m \u001b[1m • Coarse Accuracy = 85.92% | Val_Accuracy = 85.89% | LossWeight = 0.75 \u001b[0m\n",
      "\u001b[91m \u001b[1m • Medium Accuracy = 97.00% | Val_Accuracy = 78.59% | LossWeight = 0.13 \u001b[0m\n",
      "\u001b[91m \u001b[1m • Fine   Accuracy = 90.92% | Val_Accuracy = 53.29% | LossWeight = 0.12 \u001b[0m\n",
      "\n",
      "Epoch 90: val_prediction_fine_accuracy did not improve from 0.55720\n",
      "1848/1848 [==============================] - 339s 173ms/step - loss: 0.3276 - prediction_coarse_accuracy: 0.8592 - prediction_medium_accuracy: 0.9700 - prediction_fine_accuracy: 0.9092 - val_loss: 0.3928 - val_prediction_coarse_accuracy: 0.8589 - val_prediction_medium_accuracy: 0.7859 - val_prediction_fine_accuracy: 0.5329 - lr: 1.6515e-05\n",
      "Epoch 91/100\n",
      "1848/1848 [==============================] - ETA: 0s - loss: 0.3298 - prediction_coarse_accuracy: 0.8596 - prediction_medium_accuracy: 0.9691 - prediction_fine_accuracy: 0.9086\n",
      "\u001b[91m \u001b[1m • Coarse Accuracy = 85.96% | Val_Accuracy = 85.87% | LossWeight = 0.74 \u001b[0m\n",
      "\u001b[91m \u001b[1m • Medium Accuracy = 96.91% | Val_Accuracy = 78.60% | LossWeight = 0.14 \u001b[0m\n",
      "\u001b[91m \u001b[1m • Fine   Accuracy = 90.86% | Val_Accuracy = 53.29% | LossWeight = 0.12 \u001b[0m\n",
      "\n",
      "Epoch 91: val_prediction_fine_accuracy did not improve from 0.55720\n",
      "1848/1848 [==============================] - 329s 168ms/step - loss: 0.3298 - prediction_coarse_accuracy: 0.8596 - prediction_medium_accuracy: 0.9691 - prediction_fine_accuracy: 0.9086 - val_loss: 0.3951 - val_prediction_coarse_accuracy: 0.8587 - val_prediction_medium_accuracy: 0.7860 - val_prediction_fine_accuracy: 0.5329 - lr: 1.5690e-05\n",
      "Epoch 92/100\n",
      "1848/1848 [==============================] - ETA: 0s - loss: 0.3281 - prediction_coarse_accuracy: 0.8584 - prediction_medium_accuracy: 0.9698 - prediction_fine_accuracy: 0.9084\n",
      "\u001b[91m \u001b[1m • Coarse Accuracy = 85.84% | Val_Accuracy = 85.87% | LossWeight = 0.75 \u001b[0m\n",
      "\u001b[91m \u001b[1m • Medium Accuracy = 96.98% | Val_Accuracy = 78.54% | LossWeight = 0.13 \u001b[0m\n",
      "\u001b[91m \u001b[1m • Fine   Accuracy = 90.84% | Val_Accuracy = 53.11% | LossWeight = 0.12 \u001b[0m\n",
      "\n",
      "Epoch 92: val_prediction_fine_accuracy did not improve from 0.55720\n",
      "1848/1848 [==============================] - 325s 166ms/step - loss: 0.3281 - prediction_coarse_accuracy: 0.8584 - prediction_medium_accuracy: 0.9698 - prediction_fine_accuracy: 0.9084 - val_loss: 0.3939 - val_prediction_coarse_accuracy: 0.8587 - val_prediction_medium_accuracy: 0.7854 - val_prediction_fine_accuracy: 0.5311 - lr: 1.4905e-05\n",
      "Epoch 93/100\n"
     ]
    },
    {
     "name": "stderr",
     "output_type": "stream",
     "text": [
      "2023-05-11 23:36:55.050523: I tensorflow/core/kernels/data/shuffle_dataset_op.cc:392] Filling up shuffle buffer (this may take a while): 1713 of 6400\n",
      "2023-05-11 23:37:04.983087: I tensorflow/core/kernels/data/shuffle_dataset_op.cc:392] Filling up shuffle buffer (this may take a while): 3543 of 6400\n",
      "2023-05-11 23:37:15.024151: I tensorflow/core/kernels/data/shuffle_dataset_op.cc:392] Filling up shuffle buffer (this may take a while): 5161 of 6400\n",
      "2023-05-11 23:37:22.698115: I tensorflow/core/kernels/data/shuffle_dataset_op.cc:417] Shuffle buffer filled.\n",
      "2023-05-11 23:37:33.243809: I tensorflow/core/kernels/data/shuffle_dataset_op.cc:392] Filling up shuffle buffer (this may take a while): 6338 of 6400\n",
      "2023-05-11 23:37:33.274467: I tensorflow/core/kernels/data/shuffle_dataset_op.cc:417] Shuffle buffer filled.\n"
     ]
    },
    {
     "name": "stdout",
     "output_type": "stream",
     "text": [
      "1848/1848 [==============================] - ETA: 0s - loss: 0.3296 - prediction_coarse_accuracy: 0.8597 - prediction_medium_accuracy: 0.9691 - prediction_fine_accuracy: 0.9094\n",
      "\u001b[91m \u001b[1m • Coarse Accuracy = 85.97% | Val_Accuracy = 85.87% | LossWeight = 0.74 \u001b[0m\n",
      "\u001b[91m \u001b[1m • Medium Accuracy = 96.91% | Val_Accuracy = 78.59% | LossWeight = 0.14 \u001b[0m\n",
      "\u001b[91m \u001b[1m • Fine   Accuracy = 90.94% | Val_Accuracy = 53.23% | LossWeight = 0.12 \u001b[0m\n",
      "\n",
      "Epoch 93: val_prediction_fine_accuracy did not improve from 0.55720\n",
      "1848/1848 [==============================] - 370s 174ms/step - loss: 0.3296 - prediction_coarse_accuracy: 0.8597 - prediction_medium_accuracy: 0.9691 - prediction_fine_accuracy: 0.9094 - val_loss: 0.3951 - val_prediction_coarse_accuracy: 0.8587 - val_prediction_medium_accuracy: 0.7859 - val_prediction_fine_accuracy: 0.5323 - lr: 1.4160e-05\n",
      "Epoch 94/100\n"
     ]
    },
    {
     "name": "stderr",
     "output_type": "stream",
     "text": [
      "2023-05-11 23:43:17.260423: I tensorflow/core/kernels/data/shuffle_dataset_op.cc:392] Filling up shuffle buffer (this may take a while): 6253 of 6400\n",
      "2023-05-11 23:43:17.474751: I tensorflow/core/kernels/data/shuffle_dataset_op.cc:417] Shuffle buffer filled.\n",
      "2023-05-11 23:43:27.816191: I tensorflow/core/kernels/data/shuffle_dataset_op.cc:392] Filling up shuffle buffer (this may take a while): 4094 of 6400\n",
      "2023-05-11 23:43:30.837249: I tensorflow/core/kernels/data/shuffle_dataset_op.cc:417] Shuffle buffer filled.\n"
     ]
    },
    {
     "name": "stdout",
     "output_type": "stream",
     "text": [
      "1848/1848 [==============================] - ETA: 0s - loss: 0.3281 - prediction_coarse_accuracy: 0.8590 - prediction_medium_accuracy: 0.9699 - prediction_fine_accuracy: 0.9096\n",
      "\u001b[91m \u001b[1m • Coarse Accuracy = 85.90% | Val_Accuracy = 85.87% | LossWeight = 0.75 \u001b[0m\n",
      "\u001b[91m \u001b[1m • Medium Accuracy = 96.99% | Val_Accuracy = 78.60% | LossWeight = 0.13 \u001b[0m\n",
      "\u001b[91m \u001b[1m • Fine   Accuracy = 90.96% | Val_Accuracy = 53.34% | LossWeight = 0.12 \u001b[0m\n",
      "\n",
      "Epoch 94: val_prediction_fine_accuracy did not improve from 0.55720\n",
      "1848/1848 [==============================] - 321s 161ms/step - loss: 0.3281 - prediction_coarse_accuracy: 0.8590 - prediction_medium_accuracy: 0.9699 - prediction_fine_accuracy: 0.9096 - val_loss: 0.3937 - val_prediction_coarse_accuracy: 0.8587 - val_prediction_medium_accuracy: 0.7860 - val_prediction_fine_accuracy: 0.5334 - lr: 1.3452e-05\n",
      "Epoch 95/100\n",
      "1848/1848 [==============================] - ETA: 0s - loss: 0.3294 - prediction_coarse_accuracy: 0.8583 - prediction_medium_accuracy: 0.9705 - prediction_fine_accuracy: 0.9097\n",
      "\u001b[91m \u001b[1m • Coarse Accuracy = 85.83% | Val_Accuracy = 85.87% | LossWeight = 0.75 \u001b[0m\n",
      "\u001b[91m \u001b[1m • Medium Accuracy = 97.05% | Val_Accuracy = 78.63% | LossWeight = 0.13 \u001b[0m\n",
      "\u001b[91m \u001b[1m • Fine   Accuracy = 90.97% | Val_Accuracy = 53.26% | LossWeight = 0.12 \u001b[0m\n",
      "\n",
      "Epoch 95: val_prediction_fine_accuracy did not improve from 0.55720\n",
      "1848/1848 [==============================] - 337s 172ms/step - loss: 0.3294 - prediction_coarse_accuracy: 0.8583 - prediction_medium_accuracy: 0.9705 - prediction_fine_accuracy: 0.9097 - val_loss: 0.3949 - val_prediction_coarse_accuracy: 0.8587 - val_prediction_medium_accuracy: 0.7863 - val_prediction_fine_accuracy: 0.5326 - lr: 1.2779e-05\n",
      "Epoch 96/100\n"
     ]
    },
    {
     "name": "stderr",
     "output_type": "stream",
     "text": [
      "2023-05-11 23:56:02.057123: I tensorflow/core/kernels/data/shuffle_dataset_op.cc:392] Filling up shuffle buffer (this may take a while): 6360 of 6400\n",
      "2023-05-11 23:56:02.117201: I tensorflow/core/kernels/data/shuffle_dataset_op.cc:417] Shuffle buffer filled.\n",
      "2023-05-11 23:56:12.257880: I tensorflow/core/kernels/data/shuffle_dataset_op.cc:392] Filling up shuffle buffer (this may take a while): 4303 of 6400\n",
      "2023-05-11 23:56:15.932686: I tensorflow/core/kernels/data/shuffle_dataset_op.cc:417] Shuffle buffer filled.\n"
     ]
    },
    {
     "name": "stdout",
     "output_type": "stream",
     "text": [
      "1848/1848 [==============================] - ETA: 0s - loss: 0.3310 - prediction_coarse_accuracy: 0.8582 - prediction_medium_accuracy: 0.9698 - prediction_fine_accuracy: 0.9095\n",
      "\u001b[91m \u001b[1m • Coarse Accuracy = 85.82% | Val_Accuracy = 85.87% | LossWeight = 0.75 \u001b[0m\n",
      "\u001b[91m \u001b[1m • Medium Accuracy = 96.98% | Val_Accuracy = 78.67% | LossWeight = 0.13 \u001b[0m\n",
      "\u001b[91m \u001b[1m • Fine   Accuracy = 90.95% | Val_Accuracy = 53.28% | LossWeight = 0.12 \u001b[0m\n",
      "\n",
      "Epoch 96: val_prediction_fine_accuracy did not improve from 0.55720\n",
      "1848/1848 [==============================] - 378s 191ms/step - loss: 0.3310 - prediction_coarse_accuracy: 0.8582 - prediction_medium_accuracy: 0.9698 - prediction_fine_accuracy: 0.9095 - val_loss: 0.3963 - val_prediction_coarse_accuracy: 0.8587 - val_prediction_medium_accuracy: 0.7867 - val_prediction_fine_accuracy: 0.5328 - lr: 1.2140e-05\n",
      "Epoch 97/100\n"
     ]
    },
    {
     "name": "stderr",
     "output_type": "stream",
     "text": [
      "2023-05-12 00:02:24.816810: I tensorflow/core/kernels/data/shuffle_dataset_op.cc:392] Filling up shuffle buffer (this may take a while): 4898 of 6400\n",
      "2023-05-12 00:02:27.696236: I tensorflow/core/kernels/data/shuffle_dataset_op.cc:417] Shuffle buffer filled.\n",
      "2023-05-12 00:02:37.902159: I tensorflow/core/kernels/data/shuffle_dataset_op.cc:392] Filling up shuffle buffer (this may take a while): 4711 of 6400\n",
      "2023-05-12 00:02:39.782333: I tensorflow/core/kernels/data/shuffle_dataset_op.cc:417] Shuffle buffer filled.\n"
     ]
    },
    {
     "name": "stdout",
     "output_type": "stream",
     "text": [
      "1848/1848 [==============================] - ETA: 0s - loss: 0.3299 - prediction_coarse_accuracy: 0.8583 - prediction_medium_accuracy: 0.9694 - prediction_fine_accuracy: 0.9092\n",
      "\u001b[91m \u001b[1m • Coarse Accuracy = 85.83% | Val_Accuracy = 85.87% | LossWeight = 0.75 \u001b[0m\n",
      "\u001b[91m \u001b[1m • Medium Accuracy = 96.94% | Val_Accuracy = 78.65% | LossWeight = 0.13 \u001b[0m\n",
      "\u001b[91m \u001b[1m • Fine   Accuracy = 90.92% | Val_Accuracy = 53.27% | LossWeight = 0.12 \u001b[0m\n",
      "\n",
      "Epoch 97: val_prediction_fine_accuracy did not improve from 0.55720\n",
      "1848/1848 [==============================] - 540s 278ms/step - loss: 0.3299 - prediction_coarse_accuracy: 0.8583 - prediction_medium_accuracy: 0.9694 - prediction_fine_accuracy: 0.9092 - val_loss: 0.3953 - val_prediction_coarse_accuracy: 0.8587 - val_prediction_medium_accuracy: 0.7865 - val_prediction_fine_accuracy: 0.5327 - lr: 1.1533e-05\n",
      "Epoch 98/100\n",
      "1848/1848 [==============================] - ETA: 0s - loss: 0.3293 - prediction_coarse_accuracy: 0.8587 - prediction_medium_accuracy: 0.9696 - prediction_fine_accuracy: 0.9082\n",
      "\u001b[91m \u001b[1m • Coarse Accuracy = 85.87% | Val_Accuracy = 85.87% | LossWeight = 0.75 \u001b[0m\n",
      "\u001b[91m \u001b[1m • Medium Accuracy = 96.96% | Val_Accuracy = 78.69% | LossWeight = 0.13 \u001b[0m\n",
      "\u001b[91m \u001b[1m • Fine   Accuracy = 90.82% | Val_Accuracy = 53.18% | LossWeight = 0.12 \u001b[0m\n",
      "\n",
      "Epoch 98: val_prediction_fine_accuracy did not improve from 0.55720\n",
      "1848/1848 [==============================] - 331s 169ms/step - loss: 0.3293 - prediction_coarse_accuracy: 0.8587 - prediction_medium_accuracy: 0.9696 - prediction_fine_accuracy: 0.9082 - val_loss: 0.3948 - val_prediction_coarse_accuracy: 0.8587 - val_prediction_medium_accuracy: 0.7869 - val_prediction_fine_accuracy: 0.5318 - lr: 1.0957e-05\n",
      "Epoch 99/100\n",
      "1848/1848 [==============================] - ETA: 0s - loss: 0.3288 - prediction_coarse_accuracy: 0.8589 - prediction_medium_accuracy: 0.9699 - prediction_fine_accuracy: 0.9102\n",
      "\u001b[91m \u001b[1m • Coarse Accuracy = 85.89% | Val_Accuracy = 85.87% | LossWeight = 0.75 \u001b[0m\n",
      "\u001b[91m \u001b[1m • Medium Accuracy = 96.99% | Val_Accuracy = 78.59% | LossWeight = 0.13 \u001b[0m\n",
      "\u001b[91m \u001b[1m • Fine   Accuracy = 91.02% | Val_Accuracy = 53.13% | LossWeight = 0.12 \u001b[0m\n",
      "\n",
      "Epoch 99: val_prediction_fine_accuracy did not improve from 0.55720\n",
      "1848/1848 [==============================] - 315s 160ms/step - loss: 0.3288 - prediction_coarse_accuracy: 0.8589 - prediction_medium_accuracy: 0.9699 - prediction_fine_accuracy: 0.9102 - val_loss: 0.3944 - val_prediction_coarse_accuracy: 0.8587 - val_prediction_medium_accuracy: 0.7859 - val_prediction_fine_accuracy: 0.5313 - lr: 1.0409e-05\n",
      "Epoch 100/100\n",
      "1848/1848 [==============================] - ETA: 0s - loss: 0.3301 - prediction_coarse_accuracy: 0.8582 - prediction_medium_accuracy: 0.9680 - prediction_fine_accuracy: 0.9075\n",
      "\u001b[91m \u001b[1m • Coarse Accuracy = 85.82% | Val_Accuracy = 85.87% | LossWeight = 0.74 \u001b[0m\n",
      "\u001b[91m \u001b[1m • Medium Accuracy = 96.80% | Val_Accuracy = 78.68% | LossWeight = 0.14 \u001b[0m\n",
      "\u001b[91m \u001b[1m • Fine   Accuracy = 90.75% | Val_Accuracy = 53.18% | LossWeight = 0.12 \u001b[0m\n",
      "\n",
      "Epoch 100: val_prediction_fine_accuracy did not improve from 0.55720\n",
      "1848/1848 [==============================] - 344s 176ms/step - loss: 0.3301 - prediction_coarse_accuracy: 0.8582 - prediction_medium_accuracy: 0.9680 - prediction_fine_accuracy: 0.9075 - val_loss: 0.3953 - val_prediction_coarse_accuracy: 0.8587 - val_prediction_medium_accuracy: 0.7868 - val_prediction_fine_accuracy: 0.5318 - lr: 9.8884e-06\n"
     ]
    }
   ],
   "source": [
    "model_save_dir = str(directory+'/trained_model.h5')\n",
    "try:\n",
    "    model.load_weights(model_save_dir)\n",
    "except:\n",
    "    history = model.fit(training_dataset_match,\n",
    "                        epochs = train_params[\"n_epochs\"],\n",
    "                        validation_data = val_dataset_match,\n",
    "                        callbacks = [tb,log,change_lw,lr_decay,checkpoint],\n",
    "                        verbose=1)\n",
    "    \n",
    "    model.save_weights(model_save_dir)"
   ]
  },
  {
   "cell_type": "code",
   "execution_count": 19,
   "id": "588d7b95",
   "metadata": {},
   "outputs": [
    {
     "data": {
      "image/png": "[encoded data removed]",
      "text/plain": [
       "<Figure size 640x480 with 1 Axes>"
      ]
     },
     "metadata": {},
     "output_type": "display_data"
    }
   ],
   "source": [
    "try:\n",
    "    history_dict = history.history\n",
    "\n",
    "    plotter = tfdocs.plots.HistoryPlotter()\n",
    "    plotter.plot({\"Coarse\": history}, metric = \"prediction_coarse_accuracy\")\n",
    "    plotter.plot({\"Medium\": history}, metric = \"prediction_medium_accuracy\")\n",
    "    plotter.plot({\"Fine\": history}, metric = \"prediction_fine_accuracy\")\n",
    "    plt.title(\"Model Accuracy\")\n",
    "    plt.ylim([0,1])\n",
    "except:\n",
    "    print('Trained model weights loaded')"
   ]
  },
  {
   "cell_type": "code",
   "execution_count": 20,
   "id": "25f47f98",
   "metadata": {},
   "outputs": [
    {
     "data": {
      "image/png": "[encoded data removed]",
      "text/plain": [
       "<Figure size 640x480 with 1 Axes>"
      ]
     },
     "metadata": {},
     "output_type": "display_data"
    }
   ],
   "source": [
    "try:\n",
    "    plotter = tfdocs.plots.HistoryPlotter()\n",
    "    plotter.plot({\"loss\": history}, metric = \"loss\")\n",
    "    plt.title(\"Model Loss\")\n",
    "    plt.ylim([0,1])\n",
    "except:\n",
    "    print('Trained model weights loaded')"
   ]
  },
  {
   "cell_type": "markdown",
   "id": "0f08f53b",
   "metadata": {},
   "source": [
    "## Model Analysis"
   ]
  },
  {
   "cell_type": "code",
   "execution_count": 21,
   "id": "fa6652e0",
   "metadata": {},
   "outputs": [],
   "source": [
    "final_model = keras.Model(model.inputs[:1], model.output)\n",
    "final_model.load_weights(directory+'/epoch-best.h5')\n",
    "\n",
    "lossfn = models.MarginLoss()\n",
    "final_model.compile(optimizer='adam', \n",
    "                    loss={'prediction_fine' : lossfn,\n",
    "                          'prediction_medium' : lossfn,\n",
    "                          'prediction_coarse' : lossfn},\n",
    "\n",
    "                    loss_weights={'prediction_fine' : lossweight['fine_lw'],\n",
    "                                  'prediction_medium' : lossweight['medium_lw'],\n",
    "                                  'prediction_coarse' : lossweight['coarse_lw']},\n",
    "\n",
    "                    metrics={'prediction_fine': 'accuracy',\n",
    "                             'prediction_medium': 'accuracy',\n",
    "                             'prediction_coarse': 'accuracy'\n",
    "                            }\n",
    "                   )"
   ]
  },
  {
   "cell_type": "raw",
   "id": "d42d95d4",
   "metadata": {},
   "source": [
    "image = []\n",
    "ds_labels0=[]\n",
    "ds_labels1=[]\n",
    "ds_labels2=[]\n",
    "\n",
    "for images, labels in val_dataset.unbatch():\n",
    "    image.append(images[0].numpy()) # or labels.numpy().argmax() for int labels\n",
    "    ds_labels0.append(images[1].numpy()) # or labels.numpy().argmax() for int labels\n",
    "    ds_labels1.append(images[2].numpy()) # or labels.numpy().argmax() for int labels\n",
    "    ds_labels2.append(images[3].numpy()) # or labels.numpy().argmax() for int labels\n",
    "    "
   ]
  },
  {
   "cell_type": "code",
   "execution_count": 22,
   "id": "46e225c9",
   "metadata": {},
   "outputs": [
    {
     "name": "stdout",
     "output_type": "stream",
     "text": [
      "419/419 [==============================] - 189s 420ms/step - loss: 0.3648 - prediction_coarse_loss: 0.4047 - prediction_medium_loss: 0.1761 - prediction_fine_loss: 0.3374 - prediction_coarse_accuracy: 0.8698 - prediction_medium_accuracy: 0.7782 - prediction_fine_accuracy: 0.5504\n",
      "1. loss ==> 0.364770770072937\n",
      "2. prediction_coarse_loss ==> 0.40472298860549927\n",
      "3. prediction_medium_loss ==> 0.17612215876579285\n",
      "4. prediction_fine_loss ==> 0.33743903040885925\n",
      "5. prediction_coarse_accuracy ==> 0.8697664141654968\n",
      "6. prediction_medium_accuracy ==> 0.778192400932312\n",
      "7. prediction_fine_accuracy ==> 0.5503768920898438\n"
     ]
    }
   ],
   "source": [
    "results = final_model.evaluate(dataset.test_dataset)\n",
    "for n in range(len(results)):\n",
    "    print(str(n+1)+'.',final_model.metrics_names[n], '==>', results[n])\n",
    "# model_predictions = final_model.predict(dataset.test_dataset)"
   ]
  },
  {
   "cell_type": "code",
   "execution_count": 23,
   "id": "f67911a8",
   "metadata": {},
   "outputs": [],
   "source": [
    "def predict_from_pipeline(model, dataset):\n",
    "    y_pred_c = []\n",
    "    y_pred_m = []\n",
    "    y_pred_f = []\n",
    "    \n",
    "    y_true_c = []\n",
    "    y_true_m = []\n",
    "    y_true_f = []\n",
    "    for x, y in dataset:\n",
    "        batch_pred = model.predict(x)\n",
    "        \n",
    "        y_true_c.extend(y[0].numpy().tolist())\n",
    "        y_true_m.extend(y[1].numpy().tolist())\n",
    "        y_true_f.extend(y[2].numpy().tolist())\n",
    "        \n",
    "        y_pred_c.extend(batch_pred[0].tolist())\n",
    "        y_pred_m.extend(batch_pred[1].tolist())\n",
    "        y_pred_f.extend(batch_pred[2].tolist())\n",
    "        \n",
    "    return np.array(y_true_c), np.array(y_true_m), np.array(y_true_f), np.array(y_pred_c), np.array(y_pred_m), np.array(y_pred_f)"
   ]
  },
  {
   "cell_type": "code",
   "execution_count": 24,
   "id": "91eb4db7",
   "metadata": {},
   "outputs": [
    {
     "name": "stdout",
     "output_type": "stream",
     "text": [
      "2/2 [==============================] - 3s 36ms/step\n",
      "2/2 [==============================] - 0s 45ms/step\n",
      "2/2 [==============================] - 0s 34ms/step\n",
      "2/2 [==============================] - 0s 39ms/step\n",
      "2/2 [==============================] - 0s 35ms/step\n",
      "2/2 [==============================] - 0s 25ms/step\n",
      "2/2 [==============================] - 0s 72ms/step\n",
      "2/2 [==============================] - 0s 73ms/step\n",
      "2/2 [==============================] - 0s 29ms/step\n",
      "2/2 [==============================] - 0s 47ms/step\n",
      "2/2 [==============================] - 0s 32ms/step\n",
      "2/2 [==============================] - 0s 34ms/step\n",
      "2/2 [==============================] - 0s 13ms/step\n",
      "2/2 [==============================] - 0s 38ms/step\n",
      "2/2 [==============================] - 0s 70ms/step\n",
      "2/2 [==============================] - 0s 37ms/step\n",
      "2/2 [==============================] - 0s 49ms/step\n",
      "2/2 [==============================] - 0s 46ms/step\n",
      "2/2 [==============================] - 0s 19ms/step\n",
      "2/2 [==============================] - 0s 20ms/step\n",
      "2/2 [==============================] - 0s 33ms/step\n",
      "2/2 [==============================] - 0s 36ms/step\n",
      "2/2 [==============================] - 0s 29ms/step\n",
      "2/2 [==============================] - 0s 30ms/step\n",
      "2/2 [==============================] - 0s 55ms/step\n",
      "2/2 [==============================] - 0s 29ms/step\n",
      "2/2 [==============================] - 0s 41ms/step\n",
      "2/2 [==============================] - 0s 16ms/step\n",
      "2/2 [==============================] - 0s 40ms/step\n",
      "2/2 [==============================] - 0s 24ms/step\n",
      "2/2 [==============================] - 0s 18ms/step\n",
      "2/2 [==============================] - 0s 22ms/step\n",
      "2/2 [==============================] - 0s 34ms/step\n",
      "2/2 [==============================] - 0s 28ms/step\n",
      "2/2 [==============================] - 0s 28ms/step\n",
      "2/2 [==============================] - 0s 16ms/step\n",
      "2/2 [==============================] - 0s 16ms/step\n",
      "2/2 [==============================] - 0s 29ms/step\n",
      "2/2 [==============================] - 0s 17ms/step\n",
      "2/2 [==============================] - 0s 36ms/step\n",
      "2/2 [==============================] - 0s 35ms/step\n",
      "2/2 [==============================] - 0s 14ms/step\n",
      "2/2 [==============================] - 0s 16ms/step\n",
      "2/2 [==============================] - 0s 62ms/step\n",
      "2/2 [==============================] - 0s 42ms/step\n",
      "2/2 [==============================] - 0s 17ms/step\n",
      "2/2 [==============================] - 0s 35ms/step\n",
      "2/2 [==============================] - 0s 40ms/step\n",
      "2/2 [==============================] - 0s 31ms/step\n",
      "2/2 [==============================] - 0s 36ms/step\n",
      "2/2 [==============================] - 0s 35ms/step\n",
      "2/2 [==============================] - 0s 39ms/step\n",
      "2/2 [==============================] - 0s 12ms/step\n",
      "2/2 [==============================] - 1s 91ms/step\n",
      "2/2 [==============================] - 0s 29ms/step\n",
      "2/2 [==============================] - 0s 22ms/step\n",
      "2/2 [==============================] - 0s 29ms/step\n",
      "2/2 [==============================] - 0s 41ms/step\n",
      "2/2 [==============================] - 0s 17ms/step\n",
      "2/2 [==============================] - 0s 22ms/step\n",
      "2/2 [==============================] - 0s 33ms/step\n",
      "2/2 [==============================] - 0s 17ms/step\n",
      "2/2 [==============================] - 0s 26ms/step\n",
      "2/2 [==============================] - 0s 35ms/step\n",
      "2/2 [==============================] - 0s 36ms/step\n",
      "2/2 [==============================] - 0s 26ms/step\n",
      "2/2 [==============================] - 0s 16ms/step\n",
      "2/2 [==============================] - 0s 28ms/step\n",
      "2/2 [==============================] - 0s 30ms/step\n",
      "2/2 [==============================] - 0s 34ms/step\n",
      "2/2 [==============================] - 0s 21ms/step\n",
      "2/2 [==============================] - 0s 38ms/step\n",
      "2/2 [==============================] - 0s 19ms/step\n",
      "2/2 [==============================] - 0s 21ms/step\n",
      "2/2 [==============================] - 0s 42ms/step\n",
      "2/2 [==============================] - 0s 30ms/step\n",
      "2/2 [==============================] - 0s 42ms/step\n",
      "2/2 [==============================] - 0s 31ms/step\n",
      "2/2 [==============================] - 0s 16ms/step\n",
      "2/2 [==============================] - 0s 50ms/step\n",
      "2/2 [==============================] - 0s 24ms/step\n",
      "2/2 [==============================] - 0s 17ms/step\n",
      "2/2 [==============================] - 0s 29ms/step\n",
      "2/2 [==============================] - 0s 16ms/step\n",
      "2/2 [==============================] - 0s 32ms/step\n",
      "2/2 [==============================] - 0s 22ms/step\n",
      "2/2 [==============================] - 0s 22ms/step\n",
      "2/2 [==============================] - 0s 38ms/step\n",
      "2/2 [==============================] - 0s 40ms/step\n",
      "2/2 [==============================] - 0s 39ms/step\n",
      "2/2 [==============================] - 0s 39ms/step\n",
      "2/2 [==============================] - 0s 21ms/step\n",
      "2/2 [==============================] - 0s 42ms/step\n",
      "2/2 [==============================] - 0s 27ms/step\n",
      "2/2 [==============================] - 0s 28ms/step\n",
      "2/2 [==============================] - 0s 23ms/step\n",
      "2/2 [==============================] - 0s 21ms/step\n",
      "2/2 [==============================] - 0s 37ms/step\n",
      "2/2 [==============================] - 0s 16ms/step\n",
      "2/2 [==============================] - 0s 43ms/step\n",
      "2/2 [==============================] - 0s 18ms/step\n",
      "2/2 [==============================] - 0s 16ms/step\n",
      "2/2 [==============================] - 0s 27ms/step\n",
      "2/2 [==============================] - 1s 25ms/step\n",
      "2/2 [==============================] - 0s 20ms/step\n",
      "2/2 [==============================] - 0s 16ms/step\n",
      "2/2 [==============================] - 0s 15ms/step\n",
      "2/2 [==============================] - 0s 35ms/step\n",
      "2/2 [==============================] - 0s 42ms/step\n",
      "2/2 [==============================] - 0s 31ms/step\n",
      "2/2 [==============================] - 0s 29ms/step\n",
      "2/2 [==============================] - 0s 43ms/step\n",
      "2/2 [==============================] - 0s 18ms/step\n",
      "2/2 [==============================] - 0s 52ms/step\n",
      "2/2 [==============================] - 0s 30ms/step\n",
      "2/2 [==============================] - 0s 34ms/step\n",
      "2/2 [==============================] - 0s 67ms/step\n",
      "2/2 [==============================] - 0s 49ms/step\n",
      "2/2 [==============================] - 0s 39ms/step\n",
      "2/2 [==============================] - 0s 43ms/step\n",
      "2/2 [==============================] - 0s 16ms/step\n",
      "2/2 [==============================] - 0s 33ms/step\n",
      "2/2 [==============================] - 0s 26ms/step\n",
      "2/2 [==============================] - 0s 13ms/step\n",
      "2/2 [==============================] - 0s 14ms/step\n",
      "2/2 [==============================] - 0s 31ms/step\n",
      "2/2 [==============================] - 0s 27ms/step\n",
      "2/2 [==============================] - 0s 32ms/step\n",
      "2/2 [==============================] - 0s 31ms/step\n",
      "2/2 [==============================] - 0s 35ms/step\n",
      "2/2 [==============================] - 0s 79ms/step\n",
      "2/2 [==============================] - 0s 76ms/step\n",
      "2/2 [==============================] - 0s 17ms/step\n",
      "2/2 [==============================] - 0s 16ms/step\n",
      "2/2 [==============================] - 0s 72ms/step\n",
      "2/2 [==============================] - 0s 67ms/step\n",
      "2/2 [==============================] - 0s 29ms/step\n",
      "2/2 [==============================] - 0s 19ms/step\n",
      "2/2 [==============================] - 0s 62ms/step\n",
      "2/2 [==============================] - 0s 41ms/step\n",
      "2/2 [==============================] - 0s 16ms/step\n",
      "2/2 [==============================] - 0s 44ms/step\n",
      "2/2 [==============================] - 0s 38ms/step\n",
      "2/2 [==============================] - 0s 37ms/step\n",
      "2/2 [==============================] - 0s 79ms/step\n",
      "2/2 [==============================] - 0s 68ms/step\n",
      "2/2 [==============================] - 0s 16ms/step\n",
      "2/2 [==============================] - 0s 19ms/step\n",
      "2/2 [==============================] - 0s 37ms/step\n",
      "2/2 [==============================] - 0s 34ms/step\n",
      "2/2 [==============================] - 0s 57ms/step\n",
      "2/2 [==============================] - 0s 55ms/step\n",
      "2/2 [==============================] - 0s 26ms/step\n",
      "2/2 [==============================] - 0s 19ms/step\n",
      "2/2 [==============================] - 0s 33ms/step\n",
      "2/2 [==============================] - 0s 25ms/step\n",
      "2/2 [==============================] - 0s 19ms/step\n"
     ]
    },
    {
     "name": "stdout",
     "output_type": "stream",
     "text": [
      "2/2 [==============================] - 0s 13ms/step\n",
      "2/2 [==============================] - 0s 39ms/step\n",
      "2/2 [==============================] - 0s 67ms/step\n",
      "2/2 [==============================] - 0s 20ms/step\n",
      "2/2 [==============================] - 0s 60ms/step\n",
      "2/2 [==============================] - 0s 48ms/step\n",
      "2/2 [==============================] - 0s 21ms/step\n",
      "2/2 [==============================] - 0s 42ms/step\n",
      "2/2 [==============================] - 0s 17ms/step\n",
      "2/2 [==============================] - 0s 19ms/step\n",
      "2/2 [==============================] - 0s 67ms/step\n",
      "2/2 [==============================] - 0s 30ms/step\n",
      "2/2 [==============================] - 0s 27ms/step\n",
      "2/2 [==============================] - 0s 25ms/step\n",
      "2/2 [==============================] - 0s 25ms/step\n",
      "2/2 [==============================] - 0s 18ms/step\n",
      "2/2 [==============================] - 0s 16ms/step\n",
      "2/2 [==============================] - 0s 17ms/step\n",
      "2/2 [==============================] - 0s 41ms/step\n",
      "2/2 [==============================] - 0s 39ms/step\n",
      "2/2 [==============================] - 0s 28ms/step\n",
      "2/2 [==============================] - 0s 37ms/step\n",
      "2/2 [==============================] - 0s 96ms/step\n",
      "2/2 [==============================] - 0s 33ms/step\n",
      "2/2 [==============================] - 0s 34ms/step\n",
      "2/2 [==============================] - 0s 39ms/step\n",
      "2/2 [==============================] - 0s 31ms/step\n",
      "2/2 [==============================] - 0s 23ms/step\n",
      "2/2 [==============================] - 0s 40ms/step\n",
      "2/2 [==============================] - 0s 36ms/step\n",
      "2/2 [==============================] - 0s 17ms/step\n",
      "2/2 [==============================] - 0s 70ms/step\n",
      "2/2 [==============================] - 0s 50ms/step\n",
      "2/2 [==============================] - 0s 31ms/step\n",
      "2/2 [==============================] - 0s 37ms/step\n",
      "2/2 [==============================] - 0s 13ms/step\n",
      "2/2 [==============================] - 0s 48ms/step\n",
      "2/2 [==============================] - 0s 38ms/step\n",
      "2/2 [==============================] - 0s 25ms/step\n",
      "2/2 [==============================] - 0s 40ms/step\n",
      "2/2 [==============================] - 0s 37ms/step\n",
      "2/2 [==============================] - 0s 35ms/step\n",
      "2/2 [==============================] - 0s 37ms/step\n",
      "2/2 [==============================] - 0s 25ms/step\n",
      "2/2 [==============================] - 0s 20ms/step\n",
      "2/2 [==============================] - 0s 32ms/step\n",
      "2/2 [==============================] - 0s 31ms/step\n",
      "2/2 [==============================] - 0s 46ms/step\n",
      "2/2 [==============================] - 0s 31ms/step\n",
      "2/2 [==============================] - 0s 31ms/step\n",
      "2/2 [==============================] - 0s 37ms/step\n",
      "2/2 [==============================] - 0s 82ms/step\n",
      "2/2 [==============================] - 0s 28ms/step\n",
      "2/2 [==============================] - 0s 21ms/step\n",
      "2/2 [==============================] - 0s 31ms/step\n",
      "2/2 [==============================] - 0s 37ms/step\n",
      "2/2 [==============================] - 0s 60ms/step\n",
      "2/2 [==============================] - 0s 32ms/step\n",
      "2/2 [==============================] - 0s 38ms/step\n",
      "2/2 [==============================] - 0s 34ms/step\n",
      "2/2 [==============================] - 0s 19ms/step\n",
      "2/2 [==============================] - 0s 33ms/step\n",
      "2/2 [==============================] - 0s 36ms/step\n",
      "2/2 [==============================] - 0s 15ms/step\n",
      "2/2 [==============================] - 0s 32ms/step\n",
      "2/2 [==============================] - 0s 49ms/step\n",
      "2/2 [==============================] - 0s 22ms/step\n",
      "2/2 [==============================] - 0s 12ms/step\n",
      "2/2 [==============================] - 0s 36ms/step\n",
      "2/2 [==============================] - 0s 29ms/step\n",
      "2/2 [==============================] - 0s 36ms/step\n",
      "2/2 [==============================] - 0s 35ms/step\n",
      "2/2 [==============================] - 0s 47ms/step\n",
      "2/2 [==============================] - 0s 35ms/step\n",
      "2/2 [==============================] - 0s 25ms/step\n",
      "2/2 [==============================] - 0s 13ms/step\n",
      "2/2 [==============================] - 0s 14ms/step\n",
      "2/2 [==============================] - 0s 19ms/step\n",
      "2/2 [==============================] - 0s 65ms/step\n",
      "2/2 [==============================] - 0s 22ms/step\n",
      "2/2 [==============================] - 0s 74ms/step\n",
      "2/2 [==============================] - 0s 17ms/step\n",
      "2/2 [==============================] - 0s 32ms/step\n",
      "2/2 [==============================] - 0s 18ms/step\n",
      "2/2 [==============================] - 0s 49ms/step\n",
      "2/2 [==============================] - 0s 16ms/step\n",
      "2/2 [==============================] - 0s 16ms/step\n",
      "2/2 [==============================] - 0s 50ms/step\n",
      "2/2 [==============================] - 0s 35ms/step\n",
      "2/2 [==============================] - 0s 56ms/step\n",
      "2/2 [==============================] - 0s 20ms/step\n",
      "2/2 [==============================] - 0s 13ms/step\n",
      "2/2 [==============================] - 0s 38ms/step\n",
      "2/2 [==============================] - 0s 24ms/step\n",
      "2/2 [==============================] - 0s 85ms/step\n",
      "2/2 [==============================] - 0s 41ms/step\n",
      "2/2 [==============================] - 0s 24ms/step\n",
      "2/2 [==============================] - 0s 45ms/step\n",
      "2/2 [==============================] - 0s 29ms/step\n",
      "2/2 [==============================] - 0s 61ms/step\n",
      "2/2 [==============================] - 0s 12ms/step\n",
      "2/2 [==============================] - 0s 34ms/step\n",
      "2/2 [==============================] - 0s 32ms/step\n",
      "2/2 [==============================] - 0s 36ms/step\n",
      "2/2 [==============================] - 0s 15ms/step\n",
      "2/2 [==============================] - 0s 39ms/step\n",
      "2/2 [==============================] - 0s 27ms/step\n",
      "2/2 [==============================] - 0s 47ms/step\n",
      "2/2 [==============================] - 0s 32ms/step\n",
      "2/2 [==============================] - 0s 26ms/step\n",
      "2/2 [==============================] - 0s 31ms/step\n",
      "2/2 [==============================] - 0s 32ms/step\n",
      "2/2 [==============================] - 0s 15ms/step\n",
      "2/2 [==============================] - 0s 17ms/step\n",
      "2/2 [==============================] - 0s 33ms/step\n",
      "2/2 [==============================] - 0s 34ms/step\n",
      "2/2 [==============================] - 0s 47ms/step\n",
      "2/2 [==============================] - 0s 28ms/step\n",
      "2/2 [==============================] - 0s 37ms/step\n",
      "2/2 [==============================] - 0s 30ms/step\n",
      "2/2 [==============================] - 0s 14ms/step\n",
      "2/2 [==============================] - 0s 18ms/step\n",
      "2/2 [==============================] - 0s 39ms/step\n",
      "2/2 [==============================] - 0s 22ms/step\n",
      "2/2 [==============================] - 0s 59ms/step\n",
      "2/2 [==============================] - 0s 30ms/step\n",
      "2/2 [==============================] - 0s 22ms/step\n",
      "2/2 [==============================] - 0s 39ms/step\n",
      "2/2 [==============================] - 0s 24ms/step\n",
      "2/2 [==============================] - 0s 26ms/step\n",
      "2/2 [==============================] - 0s 43ms/step\n",
      "2/2 [==============================] - 0s 28ms/step\n",
      "2/2 [==============================] - 0s 15ms/step\n",
      "2/2 [==============================] - 0s 26ms/step\n",
      "2/2 [==============================] - 0s 47ms/step\n",
      "2/2 [==============================] - 0s 81ms/step\n",
      "2/2 [==============================] - 0s 43ms/step\n",
      "2/2 [==============================] - 0s 15ms/step\n",
      "2/2 [==============================] - 0s 20ms/step\n",
      "2/2 [==============================] - 0s 65ms/step\n",
      "2/2 [==============================] - 0s 22ms/step\n",
      "2/2 [==============================] - 0s 29ms/step\n",
      "2/2 [==============================] - 0s 13ms/step\n",
      "2/2 [==============================] - 0s 40ms/step\n",
      "2/2 [==============================] - 0s 34ms/step\n",
      "2/2 [==============================] - 0s 17ms/step\n",
      "2/2 [==============================] - 0s 40ms/step\n",
      "2/2 [==============================] - 0s 26ms/step\n",
      "2/2 [==============================] - 0s 37ms/step\n",
      "2/2 [==============================] - 0s 26ms/step\n",
      "2/2 [==============================] - 0s 28ms/step\n",
      "2/2 [==============================] - 0s 33ms/step\n",
      "2/2 [==============================] - 0s 22ms/step\n",
      "2/2 [==============================] - 0s 43ms/step\n",
      "2/2 [==============================] - 0s 45ms/step\n",
      "2/2 [==============================] - 0s 15ms/step\n",
      "2/2 [==============================] - 0s 17ms/step\n"
     ]
    },
    {
     "name": "stdout",
     "output_type": "stream",
     "text": [
      "2/2 [==============================] - 0s 18ms/step\n",
      "2/2 [==============================] - 0s 37ms/step\n",
      "2/2 [==============================] - 0s 14ms/step\n",
      "2/2 [==============================] - 0s 32ms/step\n",
      "2/2 [==============================] - 0s 32ms/step\n",
      "2/2 [==============================] - 0s 25ms/step\n",
      "2/2 [==============================] - 0s 18ms/step\n",
      "2/2 [==============================] - 0s 34ms/step\n",
      "2/2 [==============================] - 0s 16ms/step\n",
      "2/2 [==============================] - 0s 41ms/step\n",
      "2/2 [==============================] - 0s 70ms/step\n",
      "2/2 [==============================] - 0s 20ms/step\n",
      "2/2 [==============================] - 0s 37ms/step\n",
      "2/2 [==============================] - 0s 35ms/step\n",
      "2/2 [==============================] - 0s 28ms/step\n",
      "2/2 [==============================] - 0s 15ms/step\n",
      "2/2 [==============================] - 0s 52ms/step\n",
      "2/2 [==============================] - 0s 32ms/step\n",
      "2/2 [==============================] - 0s 28ms/step\n",
      "2/2 [==============================] - 0s 22ms/step\n",
      "2/2 [==============================] - 0s 31ms/step\n",
      "2/2 [==============================] - 0s 36ms/step\n",
      "2/2 [==============================] - 0s 22ms/step\n",
      "2/2 [==============================] - 0s 55ms/step\n",
      "2/2 [==============================] - 0s 31ms/step\n",
      "2/2 [==============================] - 0s 75ms/step\n",
      "2/2 [==============================] - 0s 45ms/step\n",
      "2/2 [==============================] - 0s 24ms/step\n",
      "2/2 [==============================] - 0s 27ms/step\n",
      "2/2 [==============================] - 0s 30ms/step\n",
      "2/2 [==============================] - 0s 31ms/step\n",
      "2/2 [==============================] - 0s 43ms/step\n",
      "2/2 [==============================] - 0s 31ms/step\n",
      "2/2 [==============================] - 0s 25ms/step\n",
      "2/2 [==============================] - 0s 26ms/step\n",
      "2/2 [==============================] - 0s 31ms/step\n",
      "2/2 [==============================] - 0s 75ms/step\n",
      "2/2 [==============================] - 0s 14ms/step\n",
      "2/2 [==============================] - 0s 32ms/step\n",
      "2/2 [==============================] - 0s 42ms/step\n",
      "2/2 [==============================] - 0s 40ms/step\n",
      "2/2 [==============================] - 0s 40ms/step\n",
      "2/2 [==============================] - 0s 31ms/step\n",
      "2/2 [==============================] - 0s 35ms/step\n",
      "2/2 [==============================] - 0s 60ms/step\n",
      "2/2 [==============================] - 0s 16ms/step\n",
      "2/2 [==============================] - 0s 47ms/step\n",
      "2/2 [==============================] - 0s 25ms/step\n",
      "2/2 [==============================] - 0s 26ms/step\n",
      "2/2 [==============================] - 0s 65ms/step\n",
      "2/2 [==============================] - 0s 17ms/step\n",
      "2/2 [==============================] - 0s 13ms/step\n",
      "2/2 [==============================] - 0s 29ms/step\n",
      "2/2 [==============================] - 0s 17ms/step\n",
      "2/2 [==============================] - 0s 76ms/step\n",
      "2/2 [==============================] - 0s 38ms/step\n",
      "2/2 [==============================] - 0s 57ms/step\n",
      "2/2 [==============================] - 0s 14ms/step\n",
      "2/2 [==============================] - 0s 43ms/step\n",
      "2/2 [==============================] - 0s 17ms/step\n",
      "2/2 [==============================] - 0s 36ms/step\n",
      "2/2 [==============================] - 0s 35ms/step\n",
      "2/2 [==============================] - 0s 33ms/step\n",
      "2/2 [==============================] - 0s 17ms/step\n",
      "2/2 [==============================] - 0s 28ms/step\n",
      "2/2 [==============================] - 0s 28ms/step\n",
      "2/2 [==============================] - 0s 41ms/step\n",
      "2/2 [==============================] - 0s 20ms/step\n",
      "2/2 [==============================] - 0s 41ms/step\n",
      "2/2 [==============================] - 0s 61ms/step\n",
      "2/2 [==============================] - 0s 15ms/step\n",
      "2/2 [==============================] - 0s 34ms/step\n",
      "2/2 [==============================] - 0s 18ms/step\n",
      "2/2 [==============================] - 0s 25ms/step\n",
      "2/2 [==============================] - 0s 13ms/step\n",
      "2/2 [==============================] - 0s 34ms/step\n",
      "2/2 [==============================] - 0s 16ms/step\n",
      "2/2 [==============================] - 0s 17ms/step\n",
      "2/2 [==============================] - 0s 37ms/step\n",
      "2/2 [==============================] - 0s 26ms/step\n",
      "2/2 [==============================] - 0s 73ms/step\n",
      "2/2 [==============================] - 0s 49ms/step\n",
      "2/2 [==============================] - 0s 17ms/step\n",
      "2/2 [==============================] - 0s 34ms/step\n",
      "2/2 [==============================] - 0s 27ms/step\n",
      "2/2 [==============================] - 0s 33ms/step\n",
      "2/2 [==============================] - 0s 35ms/step\n",
      "2/2 [==============================] - 0s 33ms/step\n",
      "2/2 [==============================] - 0s 48ms/step\n",
      "2/2 [==============================] - 0s 32ms/step\n",
      "2/2 [==============================] - 0s 21ms/step\n",
      "2/2 [==============================] - 0s 25ms/step\n",
      "2/2 [==============================] - 0s 31ms/step\n",
      "2/2 [==============================] - 0s 15ms/step\n",
      "2/2 [==============================] - 0s 33ms/step\n",
      "2/2 [==============================] - 0s 16ms/step\n",
      "2/2 [==============================] - 0s 36ms/step\n",
      "2/2 [==============================] - 0s 36ms/step\n",
      "2/2 [==============================] - 0s 22ms/step\n",
      "2/2 [==============================] - 0s 17ms/step\n",
      "2/2 [==============================] - 0s 31ms/step\n",
      "2/2 [==============================] - 0s 49ms/step\n",
      "2/2 [==============================] - 0s 64ms/step\n",
      "2/2 [==============================] - 0s 46ms/step\n",
      "2/2 [==============================] - 4s 948ms/step\n"
     ]
    }
   ],
   "source": [
    "y_true_c, y_true_m, y_true_f, y_pred_c, y_pred_m, y_pred_f = predict_from_pipeline(final_model, dataset.test_dataset)"
   ]
  },
  {
   "cell_type": "code",
   "execution_count": 25,
   "id": "22e8e211",
   "metadata": {
    "scrolled": true
   },
   "outputs": [
    {
     "name": "stdout",
     "output_type": "stream",
     "text": [
      "\u001b[91m \u001b[1m • Confusion_Matrix \u001b[0m\n",
      "\n",
      "\u001b[91m \u001b[1m • COARSE LEVEL \u001b[0m\n",
      "[[22967   113]\n",
      " [ 3377   341]]\n",
      "\n",
      "\u001b[91m \u001b[1m • MEDIUM LEVEL \u001b[0m\n",
      "[[   71    75     0     0     1     7     5   509     0    75]\n",
      " [   57  1174     0     0     0     6     5   930     0   153]\n",
      " [    0     0     0     0     0     0     0    23     0     1]\n",
      " [    7     9     0    22     0     1     1    70     0     9]\n",
      " [    2     1     0     0     0     0     0    46     0     0]\n",
      " [   10    15     0     1     0     7     1    90     0    20]\n",
      " [    1     4     0     0     0     0   408   263     0    19]\n",
      " [  125   518     0     9     6    24   138 17247     1   894]\n",
      " [    0     1     0     0     0     0     0    16     0     2]\n",
      " [   33   181     0     4     0     6    17  1552     0  1925]]\n",
      "\n",
      "\u001b[91m \u001b[1m • FINE LEVEL \u001b[0m\n",
      "[[347  20   0 ...   0   9   4]\n",
      " [ 44 136   0 ...   0   3   0]\n",
      " [ 23  50   0 ...   0   5   1]\n",
      " ...\n",
      " [  8   9   0 ...   0   2   0]\n",
      " [ 48  10   0 ...   0  23   2]\n",
      " [  4   0   0 ...   0   0 213]]\n",
      "\n",
      "\u001b[91m \u001b[1m • Classification Report \u001b[0m\n",
      "\n",
      "\n",
      "\u001b[91m \u001b[1m • COARSE LEVEL \u001b[0m\n"
     ]
    },
    {
     "data": {
      "image/png": "[encoded data removed]",
      "text/plain": [
       "<Figure size 640x480 with 2 Axes>"
      ]
     },
     "metadata": {},
     "output_type": "display_data"
    },
    {
     "name": "stdout",
     "output_type": "stream",
     "text": [
      "              precision    recall  f1-score   support\n",
      "\n",
      "           0    0.87181   0.99510   0.92939     23080\n",
      "           1    0.75110   0.09172   0.16347      3718\n",
      "\n",
      "    accuracy                        0.86977     26798\n",
      "   macro avg    0.81146   0.54341   0.54643     26798\n",
      "weighted avg    0.85506   0.86977   0.82312     26798\n",
      "\n",
      "\n",
      "\u001b[91m \u001b[1m • MEDIUM LEVEL \u001b[0m\n"
     ]
    },
    {
     "data": {
      "image/png": "[encoded data removed]",
      "text/plain": [
       "<Figure size 640x480 with 2 Axes>"
      ]
     },
     "metadata": {},
     "output_type": "display_data"
    },
    {
     "name": "stderr",
     "output_type": "stream",
     "text": [
      "/home/knoor/.conda/envs/tfpy/lib/python3.9/site-packages/sklearn/metrics/_classification.py:1344: UndefinedMetricWarning: Precision and F-score are ill-defined and being set to 0.0 in labels with no predicted samples. Use `zero_division` parameter to control this behavior.\n",
      "  _warn_prf(average, modifier, msg_start, len(result))\n",
      "/home/knoor/.conda/envs/tfpy/lib/python3.9/site-packages/sklearn/metrics/_classification.py:1344: UndefinedMetricWarning: Precision and F-score are ill-defined and being set to 0.0 in labels with no predicted samples. Use `zero_division` parameter to control this behavior.\n",
      "  _warn_prf(average, modifier, msg_start, len(result))\n",
      "/home/knoor/.conda/envs/tfpy/lib/python3.9/site-packages/sklearn/metrics/_classification.py:1344: UndefinedMetricWarning: Precision and F-score are ill-defined and being set to 0.0 in labels with no predicted samples. Use `zero_division` parameter to control this behavior.\n",
      "  _warn_prf(average, modifier, msg_start, len(result))\n"
     ]
    },
    {
     "name": "stdout",
     "output_type": "stream",
     "text": [
      "              precision    recall  f1-score   support\n",
      "\n",
      "           0    0.23203   0.09556   0.13537       743\n",
      "           1    0.59353   0.50495   0.54567      2325\n",
      "           2    0.00000   0.00000   0.00000        24\n",
      "           3    0.61111   0.18487   0.28387       119\n",
      "           4    0.00000   0.00000   0.00000        49\n",
      "           5    0.13725   0.04861   0.07179       144\n",
      "           6    0.70957   0.58705   0.64252       695\n",
      "           7    0.83134   0.90956   0.86869     18962\n",
      "           8    0.00000   0.00000   0.00000        19\n",
      "           9    0.62137   0.51775   0.56485      3718\n",
      "\n",
      "    accuracy                        0.77819     26798\n",
      "   macro avg    0.37362   0.28483   0.31128     26798\n",
      "weighted avg    0.75424   0.77819   0.76245     26798\n",
      "\n",
      "\n",
      "\u001b[91m \u001b[1m • FINE LEVEL \u001b[0m\n"
     ]
    },
    {
     "data": {
      "image/png": "[encoded data removed]",
      "text/plain": [
       "<Figure size 640x480 with 2 Axes>"
      ]
     },
     "metadata": {},
     "output_type": "display_data"
    },
    {
     "name": "stderr",
     "output_type": "stream",
     "text": [
      "/home/knoor/.conda/envs/tfpy/lib/python3.9/site-packages/sklearn/metrics/_classification.py:1344: UndefinedMetricWarning: Precision and F-score are ill-defined and being set to 0.0 in labels with no predicted samples. Use `zero_division` parameter to control this behavior.\n",
      "  _warn_prf(average, modifier, msg_start, len(result))\n",
      "/home/knoor/.conda/envs/tfpy/lib/python3.9/site-packages/sklearn/metrics/_classification.py:1344: UndefinedMetricWarning: Precision and F-score are ill-defined and being set to 0.0 in labels with no predicted samples. Use `zero_division` parameter to control this behavior.\n",
      "  _warn_prf(average, modifier, msg_start, len(result))\n",
      "/home/knoor/.conda/envs/tfpy/lib/python3.9/site-packages/sklearn/metrics/_classification.py:1344: UndefinedMetricWarning: Precision and F-score are ill-defined and being set to 0.0 in labels with no predicted samples. Use `zero_division` parameter to control this behavior.\n",
      "  _warn_prf(average, modifier, msg_start, len(result))\n"
     ]
    },
    {
     "name": "stdout",
     "output_type": "stream",
     "text": [
      "              precision    recall  f1-score   support\n",
      "\n",
      "           0    0.33333   0.21159   0.25886      1640\n",
      "           1    0.37883   0.25660   0.30596       530\n",
      "           2    0.00000   0.00000   0.00000       314\n",
      "           3    0.00000   0.00000   0.00000       106\n",
      "           4    0.43396   0.42376   0.42880      1574\n",
      "           5    0.00000   0.00000   0.00000       244\n",
      "           6    0.00000   0.00000   0.00000       289\n",
      "           7    0.25579   0.35210   0.29632      1474\n",
      "           8    0.00000   0.00000   0.00000        96\n",
      "           9    0.00000   0.00000   0.00000        30\n",
      "          10    0.41412   0.58925   0.48641      3294\n",
      "          11    0.48696   0.13084   0.20626       428\n",
      "          12    0.00000   0.00000   0.00000       106\n",
      "          13    0.00000   0.00000   0.00000        31\n",
      "          14    0.10672   0.04696   0.06522       575\n",
      "          15    0.58935   0.64883   0.61766      1962\n",
      "          16    0.00000   0.00000   0.00000        29\n",
      "          17    0.04651   0.03478   0.03980       115\n",
      "          18    0.00000   0.00000   0.00000        49\n",
      "          19    0.00000   0.00000   0.00000         5\n",
      "          20    0.00000   0.00000   0.00000        19\n",
      "          21    0.00000   0.00000   0.00000        82\n",
      "          22    0.00000   0.00000   0.00000       116\n",
      "          23    0.00000   0.00000   0.00000        19\n",
      "          24    0.00000   0.00000   0.00000        20\n",
      "          25    0.61342   0.67704   0.64366       675\n",
      "          26    0.47619   0.25210   0.32967       119\n",
      "          27    0.00000   0.00000   0.00000        70\n",
      "          28    0.13281   0.09641   0.11172       529\n",
      "          29    0.00000   0.00000   0.00000        52\n",
      "          30    0.00000   0.00000   0.00000         8\n",
      "          31    0.33333   0.00649   0.01274       154\n",
      "          32    0.53059   0.59456   0.56075      2057\n",
      "          33    0.74695   0.91401   0.82208      8513\n",
      "          34    0.00000   0.00000   0.00000       172\n",
      "          35    0.00000   0.00000   0.00000        64\n",
      "          36    0.23232   0.03698   0.06380       622\n",
      "          37    0.42178   0.34578   0.38002       616\n",
      "\n",
      "    accuracy                        0.55038     26798\n",
      "   macro avg    0.17192   0.14784   0.14815     26798\n",
      "weighted avg    0.48698   0.55038   0.50762     26798\n",
      "\n"
     ]
    }
   ],
   "source": [
    "metrics.lvl_wise_metric([y_true_c, y_true_m, y_true_f],\n",
    "                        [y_pred_c, y_pred_m, y_pred_f])"
   ]
  },
  {
   "cell_type": "code",
   "execution_count": 26,
   "id": "1f34a20d",
   "metadata": {},
   "outputs": [
    {
     "name": "stdout",
     "output_type": "stream",
     "text": [
      "\n",
      "Hierarchical Precision = 0.7334794885190437 \n",
      "Hierarchical Recall = 0.7575814115481255 \n",
      "Hierarchical F1-Score = 0.7436087092498019 \n",
      "Consistency =  0.8694678707366221 \n",
      "Exact Match =  0.4934323456974401\n"
     ]
    }
   ],
   "source": [
    "h_measurements,consistency,exact_match = metrics.hmeasurements([y_true_c, y_true_m, y_true_f],\n",
    "                                                               [y_pred_c, y_pred_m, y_pred_f],\n",
    "                                                               dataset.get_tree())\n",
    "print('\\nHierarchical Precision =',h_measurements[0],\n",
    "      '\\nHierarchical Recall =', h_measurements[1],\n",
    "      '\\nHierarchical F1-Score =',h_measurements[2],\n",
    "      '\\nConsistency = ', consistency,\n",
    "      '\\nExact Match = ', exact_match,\n",
    "     )"
   ]
  },
  {
   "cell_type": "code",
   "execution_count": null,
   "id": "92b98d56",
   "metadata": {},
   "outputs": [],
   "source": []
  }
 ],
 "metadata": {
  "kernelspec": {
   "display_name": "Python 3 (ipykernel)",
   "language": "python",
   "name": "python3"
  },
  "language_info": {
   "codemirror_mode": {
    "name": "ipython",
    "version": 3
   },
   "file_extension": ".py",
   "mimetype": "text/x-python",
   "name": "python",
   "nbconvert_exporter": "python",
   "pygments_lexer": "ipython3",
   "version": "3.9.16"
  },
  "toc": {
   "base_numbering": 1,
   "nav_menu": {},
   "number_sections": true,
   "sideBar": true,
   "skip_h1_title": false,
   "title_cell": "Table of Contents",
   "title_sidebar": "Contents",
   "toc_cell": false,
   "toc_position": {
    "height": "calc(100% - 180px)",
    "left": "10px",
    "top": "150px",
    "width": "259px"
   },
   "toc_section_display": true,
   "toc_window_display": true
  },
  "varInspector": {
   "cols": {
    "lenName": 16,
    "lenType": 16,
    "lenVar": 40
   },
   "kernels_config": {
    "python": {
     "delete_cmd_postfix": "",
     "delete_cmd_prefix": "del ",
     "library": "var_list.py",
     "varRefreshCmd": "print(var_dic_list())"
    },
    "r": {
     "delete_cmd_postfix": ") ",
     "delete_cmd_prefix": "rm(",
     "library": "var_list.r",
     "varRefreshCmd": "cat(var_dic_list()) "
    }
   },
   "types_to_exclude": [
    "module",
    "function",
    "builtin_function_or_method",
    "instance",
    "_Feature"
   ],
   "window_display": false
  }
 },
 "nbformat": 4,
 "nbformat_minor": 5
}
