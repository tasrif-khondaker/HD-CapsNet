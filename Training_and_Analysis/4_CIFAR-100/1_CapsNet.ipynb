{
 "cells": [
  {
   "cell_type": "markdown",
   "metadata": {
    "colab_type": "text",
    "id": "FucnLdoEAJLH"
   },
   "source": [
    "***\n",
    "<font size=\"6\"><center><b> Caspsule Networks (CIFAR100_JUST FINE CLASS_BASED ON PAPER) </b></center></font>\n",
    "***"
   ]
  },
  {
   "cell_type": "markdown",
   "metadata": {
    "colab_type": "text",
    "id": "Ljz9avRzBxCt"
   },
   "source": [
    "# Import Necessary libraries"
   ]
  },
  {
   "cell_type": "code",
   "execution_count": 1,
   "metadata": {
    "colab": {},
    "colab_type": "code",
    "id": "h0hvCdT7Knae"
   },
   "outputs": [
    {
     "name": "stdout",
     "output_type": "stream",
     "text": [
      "DONE loading MixUp Data generator\n",
      "DONE loading MixUp Data generator\n"
     ]
    }
   ],
   "source": [
    "import tensorflow as tf\n",
    "from tensorflow import keras\n",
    "from tensorflow.keras.preprocessing.image import ImageDataGenerator\n",
    "from tensorflow.keras.models import Sequential\n",
    "from tensorflow.keras.layers import Dense, Activation, Flatten, Dropout, BatchNormalization\n",
    "from tensorflow.keras.layers import Conv2D, MaxPooling2D\n",
    "from tensorflow.keras import regularizers, optimizers\n",
    "from tensorflow.keras import backend as K\n",
    "\n",
    "import tensorflow_docs as tfdocs\n",
    "import tensorflow_docs.plots\n",
    "\n",
    "# Supporting Libraries:\n",
    "    #Mathplot lib for ploting graphs\n",
    "%matplotlib inline\n",
    "import matplotlib\n",
    "import matplotlib.pyplot as plt\n",
    "    # numpy and pandas\n",
    "import numpy as np\n",
    "import pandas as pd\n",
    "    #system\n",
    "import os\n",
    "import sys\n",
    "import csv\n",
    "    #import other libraries\n",
    "import math\n",
    "import random\n",
    "from datetime import datetime\n",
    "from treelib import Tree\n",
    "    # ML model, Dataset and evalution metrics\n",
    "sys.path.append('../../') ### adding system parth for src folder\n",
    "from src import datasets # load datasets\n",
    "from src import MixUp # load datasets\n",
    "from src import MixUp_add_loss # load datasets\n",
    "from src import metrics # load hierarchcial metrics\n",
    "from src import sysenv # load hierarchcial metrics\n",
    "from src import models # load machine learning models\n",
    "\n",
    "    ## Tensorflow_docs\n",
    "import tensorflow_docs as tfdocs\n",
    "import tensorflow_docs.plots\n",
    "\n",
    "    # Auto reload local libraries if updated\n",
    "%load_ext autoreload\n",
    "%autoreload 2"
   ]
  },
  {
   "cell_type": "code",
   "execution_count": 2,
   "metadata": {
    "colab": {
     "base_uri": "https://localhost:8080/",
     "height": 68
    },
    "colab_type": "code",
    "id": "QWv7UHO2CN_t",
    "outputId": "37c5c388-d2fa-4527-ba47-e58aa6ee4ba0"
   },
   "outputs": [
    {
     "name": "stdout",
     "output_type": "stream",
     "text": [
      "\u001b[91m\u001b[1m\n",
      "• Computer Name = \u001b[0m30BFPC1AXW95\u001b[91m\u001b[1m\n",
      "• Working Directory = \u001b[0mC:\\Users\\knoor\\OneDrive - Deakin University\\Deep Learning with Python\\HDeep_CapsNet\\code\\Training_and_Analysis\\5 CIFAR-100\u001b[91m\u001b[1m\n",
      "• Python Version = \u001b[0m3.8.12 (default, Oct 12 2021, 03:01:40) [MSC v.1916 64 bit (AMD64)]\u001b[91m\u001b[1m\n",
      "• TensorFlow Version = \u001b[0m2.8.0\u001b[91m\u001b[1m\n",
      "• Keras Version = \u001b[0m2.8.0\u001b[91m\u001b[1m\n",
      "• Current Environment = \u001b[0mAnaconda Environment Name : py38tf\n"
     ]
    }
   ],
   "source": [
    "systeminfo = sysenv.systeminfo()\n",
    "print(systeminfo)"
   ]
  },
  {
   "cell_type": "markdown",
   "metadata": {},
   "source": [
    "## For GPU growth (not required if GPU does not give any error)"
   ]
  },
  {
   "cell_type": "code",
   "execution_count": 3,
   "metadata": {},
   "outputs": [
    {
     "name": "stdout",
     "output_type": "stream",
     "text": [
      "Following GPUS are selected =  0\n",
      "Done: GPU PhysicalDevice(name='/physical_device:GPU:0', device_type='GPU')\n",
      "1 Physical GPUs, 1 Logical GPUs\n"
     ]
    }
   ],
   "source": [
    "gpus = \"0,1,2,3,4,5,6,7\" ## Selecting Available gpus (Multi-GPUS)\n",
    "gpus = \"0\" ## Selecting Available gpus (Single GPU)\n",
    "gpugrowth = sysenv.gpugrowth(gpus = gpus) ## Limiting GPUS from OS environment\n",
    "gpugrowth.memory_growth() #GPU memory growth"
   ]
  },
  {
   "cell_type": "markdown",
   "metadata": {},
   "source": [
    "# Training Parameters"
   ]
  },
  {
   "cell_type": "code",
   "execution_count": 4,
   "metadata": {},
   "outputs": [],
   "source": [
    "train_params = {\"n_epochs\" : 100,\n",
    "                \"batch_size\": 8,\n",
    "                \"lr\": 0.001, # Initial learning rate\n",
    "                \"lr_decay\": 0.95, # Learning rate decay\n",
    "                \"decay_exe\": 9, #learning rate decay execution epoch after\n",
    "               }\n",
    "model_params = {\"optimizer\": tf.keras.optimizers.Adam(train_params['lr']),\n",
    "                \"loss_function\": models.MarginLoss(),\n",
    "               }"
   ]
  },
  {
   "cell_type": "markdown",
   "metadata": {
    "colab_type": "text",
    "id": "WCGpdY2KRDTR"
   },
   "source": [
    "# Import Dataset : CIFAR-100"
   ]
  },
  {
   "cell_type": "code",
   "execution_count": 5,
   "metadata": {
    "scrolled": true
   },
   "outputs": [
    {
     "name": "stdout",
     "output_type": "stream",
     "text": [
      "CIFAR-100 dataset: Training have 50,000 samples and testing have 10,000 samples\n"
     ]
    }
   ],
   "source": [
    "dataset = datasets.CIFAR100(version = 'ALL') # importing CIFAR10 Dataset"
   ]
  },
  {
   "cell_type": "markdown",
   "metadata": {
    "colab_type": "text",
    "id": "rbAaMvu-LE4M"
   },
   "source": [
    "# Build the CapsNet architecture"
   ]
  },
  {
   "cell_type": "markdown",
   "metadata": {
    "colab_type": "text",
    "id": "rbAaMvu-LE4M"
   },
   "source": [
    "## - Configuation parameters"
   ]
  },
  {
   "cell_type": "code",
   "execution_count": 6,
   "metadata": {
    "colab": {},
    "colab_type": "code",
    "id": "0HvL_KvlQEbh"
   },
   "outputs": [],
   "source": [
    "caps1_n_maps = 64\n",
    "caps1_n_caps = caps1_n_maps * 6 * 6\n",
    "caps1_n_dims = 8\n",
    "conv1_params = {\n",
    "    \"filters\": 256,\n",
    "    \"kernel_size\": 9,\n",
    "    \"strides\": 1,\n",
    "    \"padding\": \"valid\",\n",
    "    \"activation\": tf.nn.relu,\n",
    "}\n",
    "conv2_params = {\n",
    "    \"filters\": caps1_n_maps * caps1_n_dims,\n",
    "    \"kernel_size\": 9,\n",
    "    \"strides\": 3,\n",
    "    \"padding\": \"valid\",\n",
    "    \"activation\": tf.nn.relu\n",
    "}\n",
    "n_class_fine=100\n",
    "caps2_n_caps_fine = n_class_fine\n",
    "caps2_n_dims = 16\n",
    "\n",
    "n_hidden1 = 512\n",
    "n_hidden2 = 1024\n",
    "n_output = 30 * 30"
   ]
  },
  {
   "cell_type": "markdown",
   "metadata": {
    "colab_type": "text",
    "id": "SK4UrYq_QbmQ"
   },
   "source": [
    "## Connect layers"
   ]
  },
  {
   "cell_type": "code",
   "execution_count": 7,
   "metadata": {
    "colab": {
     "base_uri": "https://localhost:8080/",
     "height": 547
    },
    "colab_type": "code",
    "id": "pnbWy9xtQY1s",
    "outputId": "cd50b71b-275a-4983-8c73-238ef6734e0a",
    "scrolled": true
   },
   "outputs": [],
   "source": [
    "# clear session\n",
    "tf.keras.backend.clear_session()\n",
    "\n",
    "def get_compiled_model():\n",
    "    image_shape = dataset['x_train'].shape[1:]\n",
    "    # Input image\n",
    "    x_input = keras.layers.Input(shape=image_shape, name=\"Input_Image\")\n",
    "\n",
    "    # Layer 1 and 2: Two conventional Conv2D layer\n",
    "    # input [batch_size, 28, 28, 1], output [batch_size, 6, 6, 256]\n",
    "    conv1 = keras.layers.Conv2D(name='conv1', **conv1_params)(x_input)\n",
    "    conv2 = keras.layers.Conv2D(name='conv2', **conv2_params)(conv1)\n",
    "\n",
    "    # Layer 3: Reshape to 8D primary capsules \n",
    "    # input [batch_size, 6, 6, 256], output [batch_size, 1152, 8]\n",
    "    reshape1 = keras.layers.Reshape((caps1_n_caps, caps1_n_dims), name=\"reshape_layer\")(conv2)\n",
    "\n",
    "    # Layer 3: Squash to normalize length of each primary capsule vector\n",
    "    # input [batch_size, 1152, 8], output [batch_size, 1152, 8]\n",
    "    squash1 = keras.layers.Lambda(models.squash, name='squash_layer')(reshape1)\n",
    "\n",
    "    # Layer 4.1: Digit capsule layer with routing by agreement\n",
    "    # input [batch_size, 1152, 8], output [batch_size, 10, 16]\n",
    "    digitcaps_fine = models.SecondaryCapsule(n_caps=caps2_n_caps_fine, n_dims=caps2_n_dims, \n",
    "                        name=\"Digit_Caps_fine\")(squash1)\n",
    "\n",
    "    # Layer 5.1: Compute the length of each capsule vector\n",
    "    # input [batch_size, 10, 16], output [batch_size, 10]\n",
    "    fine_pred_layer = models.LengthLayer(name='Fine_prediction_output_layer')(digitcaps_fine)\n",
    "\n",
    "\n",
    "    # Decoder network.\n",
    "    n_hidden1 = 512\n",
    "    n_hidden2 = 1024\n",
    "    n_output = np.prod(image_shape) # 28 * 28\n",
    "\n",
    "    fine_input = keras.Input(shape=(n_class_fine,), name=\"fine_image_label\")\n",
    "\n",
    "    # Mask layer\n",
    "    # input [batch_size, 10], output [batch_size, 160]\n",
    "\n",
    "    decoder_input_fine = models.Mask(name='Mask_input_fine')([digitcaps_fine, fine_input, fine_pred_layer]) \n",
    "\n",
    "    # Decoder_fine\n",
    "    # input [batch_size, 160], output [batch_size, 28, 28, 1]\n",
    "    decoder_fine = keras.models.Sequential(name='Decoder_fine')\n",
    "    decoder_fine.add(keras.layers.Dense(n_hidden1, activation='relu', input_dim=caps2_n_dims*n_class_fine))\n",
    "    decoder_fine.add(keras.layers.Dense(n_hidden2, activation='relu'))\n",
    "    decoder_fine.add(keras.layers.Dense(n_output, activation='sigmoid'))\n",
    "    decoder_fine.add(keras.layers.Reshape(target_shape=image_shape, name='recon_output_layer_fine'))\n",
    "\n",
    "    fine_decoder= decoder_fine(decoder_input_fine)\n",
    "\n",
    "    # Capsnet model\n",
    "    model = keras.Model(\n",
    "        inputs= [x_input, fine_input],\n",
    "        outputs= [fine_pred_layer, fine_decoder],\n",
    "        name='capsnet_tf2.X')\n",
    "    \n",
    "    model.compile(\n",
    "        optimizer='adam',\n",
    "        loss=[model_params['loss_function'],\n",
    "              'mse'],\n",
    "        loss_weights=[0.9995, 0.0005],\n",
    "        metrics={'Fine_prediction_output_layer': 'accuracy'}\n",
    "    )\n",
    "    return model"
   ]
  },
  {
   "cell_type": "markdown",
   "metadata": {},
   "source": [
    "## Compile Model"
   ]
  },
  {
   "cell_type": "code",
   "execution_count": 8,
   "metadata": {},
   "outputs": [],
   "source": [
    "#Single GPU\n",
    "model = get_compiled_model()"
   ]
  },
  {
   "cell_type": "raw",
   "metadata": {},
   "source": [
    "#Multiple GPU ------ LINUX\n",
    "strategy = tf.distribute.MirroredStrategy()\n",
    "print(\"Number of devices: {}\".format(strategy.num_replicas_in_sync))\n",
    "\n",
    "# Open a strategy scope.\n",
    "with strategy.scope():\n",
    "    # Everything that creates variables should be under the strategy scope.\n",
    "    # In general this is only model construction & `compile()`.\n",
    "    model = get_compiled_model()"
   ]
  },
  {
   "cell_type": "raw",
   "metadata": {},
   "source": [
    "#Multiple GPU ------ Windows\n",
    "strategy = tf.distribute.MirroredStrategy(devices=[\"/gpu:0\",\n",
    "                                                   \"/gpu:1\",\n",
    "                                                   \"/gpu:2\",\n",
    "                                                   \"/gpu:3\",\n",
    "                                                   \"/gpu:4\",\n",
    "                                                   \"/gpu:5\",], \n",
    "                                          cross_device_ops=tf.distribute.HierarchicalCopyAllReduce())\n",
    "\n",
    "print(\"Number of devices: {}\".format(strategy.num_replicas_in_sync))\n",
    "\n",
    "# Open a strategy scope.\n",
    "with strategy.scope():\n",
    "    # Everything that creates variables should be under the strategy scope.\n",
    "    # In general this is only model construction & `compile()`.\n",
    "    model = get_compiled_model()"
   ]
  },
  {
   "cell_type": "markdown",
   "metadata": {},
   "source": [
    "# Model Summary"
   ]
  },
  {
   "cell_type": "code",
   "execution_count": 9,
   "metadata": {},
   "outputs": [
    {
     "name": "stdout",
     "output_type": "stream",
     "text": [
      "Model: \"capsnet_tf2.X\"\n",
      "__________________________________________________________________________________________________\n",
      " Layer (type)                   Output Shape         Param #     Connected to                     \n",
      "==================================================================================================\n",
      " Input_Image (InputLayer)       [(None, 32, 32, 3)]  0           []                               \n",
      "                                                                                                  \n",
      " conv1 (Conv2D)                 (None, 24, 24, 256)  62464       ['Input_Image[0][0]']            \n",
      "                                                                                                  \n",
      " conv2 (Conv2D)                 (None, 6, 6, 512)    10617344    ['conv1[0][0]']                  \n",
      "                                                                                                  \n",
      " reshape_layer (Reshape)        (None, 2304, 8)      0           ['conv2[0][0]']                  \n",
      "                                                                                                  \n",
      " squash_layer (Lambda)          (None, 2304, 8)      0           ['reshape_layer[0][0]']          \n",
      "                                                                                                  \n",
      " Digit_Caps_fine (SecondaryCaps  (None, 100, 16)     29491200    ['squash_layer[0][0]']           \n",
      " ule)                                                                                             \n",
      "                                                                                                  \n",
      " Fine_prediction_output_layer (  (None, 100)         0           ['Digit_Caps_fine[0][0]']        \n",
      " LengthLayer)                                                                                     \n",
      "                                                                                                  \n",
      " fine_image_label (InputLayer)  [(None, 100)]        0           []                               \n",
      "                                                                                                  \n",
      " Mask_input_fine (Mask)         (None, 1600)         0           ['Digit_Caps_fine[0][0]',        \n",
      "                                                                  'fine_image_label[0][0]',       \n",
      "                                                                  'Fine_prediction_output_layer[0]\n",
      "                                                                 [0]']                            \n",
      "                                                                                                  \n",
      " Decoder_fine (Sequential)      (None, 32, 32, 3)    4493824     ['Mask_input_fine[0][0]']        \n",
      "                                                                                                  \n",
      "==================================================================================================\n",
      "Total params: 44,664,832\n",
      "Trainable params: 44,664,832\n",
      "Non-trainable params: 0\n",
      "__________________________________________________________________________________________________\n"
     ]
    }
   ],
   "source": [
    "model.summary()"
   ]
  },
  {
   "cell_type": "markdown",
   "metadata": {},
   "source": [
    "## Log Directory"
   ]
  },
  {
   "cell_type": "code",
   "execution_count": 10,
   "metadata": {},
   "outputs": [
    {
     "name": "stdout",
     "output_type": "stream",
     "text": [
      "Warning: Folder already exist.\n"
     ]
    }
   ],
   "source": [
    "directory = sysenv.log_dir('CapsNet')"
   ]
  },
  {
   "cell_type": "code",
   "execution_count": 11,
   "metadata": {
    "scrolled": true
   },
   "outputs": [
    {
     "data": {
      "image/png": "[encoded data removed]",
      "text/plain": [
       "<IPython.core.display.Image object>"
      ]
     },
     "execution_count": 11,
     "metadata": {},
     "output_type": "execute_result"
    }
   ],
   "source": [
    "keras.utils.plot_model(model, to_file = directory+\"/Architecture.png\", show_shapes=True)"
   ]
  },
  {
   "cell_type": "markdown",
   "metadata": {
    "colab_type": "text",
    "id": "fhSuy8JNR3L6"
   },
   "source": [
    "## Callbacks"
   ]
  },
  {
   "cell_type": "code",
   "execution_count": 12,
   "metadata": {
    "colab": {},
    "colab_type": "code",
    "id": "E1f1j-RPRzbj"
   },
   "outputs": [],
   "source": [
    "tb = keras.callbacks.TensorBoard(directory+'/tb_logs'+ datetime.now().strftime(\"%Y%m%d-%H%M%S\"))\n",
    "\n",
    "log = keras.callbacks.CSVLogger(directory+'/log.csv', append=True)\n",
    "\n",
    "checkpoint = keras.callbacks.ModelCheckpoint(\n",
    "    directory+'/weights-best.h5',  \n",
    "    monitor='val_loss',\n",
    "    save_best_only=True, save_weights_only=True, verbose=1)\n",
    "\n",
    "lr_decay = keras.callbacks.LearningRateScheduler(\n",
    "    schedule=lambda epoch: train_params[\"lr\"] * (train_params[\"lr_decay\"] ** epoch))"
   ]
  },
  {
   "cell_type": "markdown",
   "metadata": {
    "colab_type": "text",
    "id": "ddvlIAnLR_N1"
   },
   "source": [
    "# Run training"
   ]
  },
  {
   "cell_type": "markdown",
   "metadata": {},
   "source": [
    "## Training"
   ]
  },
  {
   "cell_type": "code",
   "execution_count": 13,
   "metadata": {},
   "outputs": [],
   "source": [
    "model_save_dir = str(directory+'/trained_model.h5')\n",
    "try:\n",
    "    model.load_weights(model_save_dir)\n",
    "except:\n",
    "    history = model.fit(x=[dataset['x_train'], dataset['y_train_fine']],\n",
    "                    y=[dataset['y_train_fine'], dataset['x_train']],\n",
    "                    batch_size = train_params[\"batch_size\"],\n",
    "                    epochs = train_params[\"n_epochs\"],\n",
    "                    validation_data=([dataset['x_test'], dataset['y_test_fine']],\n",
    "                                    [dataset['y_test_fine'], dataset['x_test']]),\n",
    "                    callbacks =[tb, log, checkpoint, lr_decay],\n",
    "                    verbose=\"auto\")\n",
    "    \n",
    "    model.save_weights(model_save_dir)"
   ]
  },
  {
   "cell_type": "raw",
   "metadata": {
    "scrolled": true
   },
   "source": [
    "history_dict = history.history\n",
    "# history_dict.keys()\n",
    "n=1\n",
    "print('\\033[91m','\\033[1m',\"==>\",\"Parameters in history = \", '\\033[0m')\n",
    "for key, value in history_dict.items():\n",
    "    print(n, \"-->\", key)\n",
    "    n+=1"
   ]
  },
  {
   "cell_type": "raw",
   "metadata": {},
   "source": [
    "acc = history_dict['Fine_prediction_output_layer_accuracy']\n",
    "val_acc = history_dict['val_Fine_prediction_output_layer_accuracy']\n",
    "loss = history_dict['loss']\n",
    "val_loss = history_dict['val_loss']\n",
    "\n",
    "epochs = range(1, len(acc) + 1)\n",
    "\n",
    "# \"bo\" is for \"blue dot\"\n",
    "plt.plot(epochs, loss, 'bo', label='Training loss')\n",
    "# b is for \"solid blue line\"\n",
    "plt.plot(epochs, val_loss, 'b', label='Validation loss')\n",
    "plt.title('Training and validation loss')\n",
    "plt.xlabel('Epochs')\n",
    "plt.ylabel('Loss')\n",
    "plt.legend()\n",
    "\n",
    "plt.show()\n",
    "\n",
    "plt.plot(epochs, acc, 'bo', label='Training acc')\n",
    "plt.plot(epochs, val_acc, 'b', label='Validation acc')\n",
    "plt.title('Training and validation accuracy')\n",
    "plt.xlabel('Epochs')\n",
    "plt.ylabel('Accuracy')\n",
    "plt.legend(loc='lower right')\n",
    "\n",
    "plt.show()"
   ]
  },
  {
   "cell_type": "markdown",
   "metadata": {},
   "source": [
    "# Model evaluate"
   ]
  },
  {
   "cell_type": "code",
   "execution_count": 14,
   "metadata": {},
   "outputs": [
    {
     "name": "stdout",
     "output_type": "stream",
     "text": [
      "[]\n"
     ]
    }
   ],
   "source": [
    "print(model.metrics_names)"
   ]
  },
  {
   "cell_type": "code",
   "execution_count": 15,
   "metadata": {
    "colab": {},
    "colab_type": "code",
    "id": "4Jr8-7E3IphF",
    "scrolled": true
   },
   "outputs": [
    {
     "name": "stdout",
     "output_type": "stream",
     "text": [
      "313/313 [==============================] - 36s 99ms/step - loss: 0.5039 - Fine_prediction_output_layer_loss: 0.5036 - Decoder_fine_loss: 1.0248 - Fine_prediction_output_layer_accuracy: 0.3493\n"
     ]
    }
   ],
   "source": [
    "results = model.evaluate([dataset['x_test'], dataset['y_test_fine']],\n",
    "                         [dataset['y_test_fine'], dataset['x_test']],\n",
    "                         verbose=1)"
   ]
  },
  {
   "cell_type": "code",
   "execution_count": 16,
   "metadata": {},
   "outputs": [
    {
     "name": "stdout",
     "output_type": "stream",
     "text": [
      "1 _ loss ==> 0.5038942098617554 \n",
      "\n",
      "2 _ Fine_prediction_output_layer_loss ==> 0.5036336779594421 \n",
      "\n",
      "3 _ Decoder_fine_loss ==> 1.0247931480407715 \n",
      "\n",
      "4 _ Fine_prediction_output_layer_accuracy ==> 0.34929999709129333 \n",
      "\n"
     ]
    }
   ],
   "source": [
    "for n in range(len(results)):\n",
    "    print(n+1,'_',model.metrics_names[n], '==>', results[n],'\\n')"
   ]
  },
  {
   "cell_type": "markdown",
   "metadata": {},
   "source": [
    "# Model Prediction"
   ]
  },
  {
   "cell_type": "code",
   "execution_count": 17,
   "metadata": {},
   "outputs": [
    {
     "name": "stdout",
     "output_type": "stream",
     "text": [
      "313/313 [==============================] - 30s 93ms/step\n"
     ]
    }
   ],
   "source": [
    "predictions = model.predict([dataset['x_test'], dataset['y_test_fine']],\n",
    "                            verbose=1\n",
    "                           )"
   ]
  },
  {
   "cell_type": "code",
   "execution_count": 18,
   "metadata": {},
   "outputs": [
    {
     "name": "stdout",
     "output_type": "stream",
     "text": [
      "\u001b[91m \u001b[1m \n",
      "Model prediction array shape: \u001b[0m\n",
      "predictions[0]: (10000, 100)\n",
      "predictions[1]: (10000, 32, 32, 3)\n"
     ]
    }
   ],
   "source": [
    "print('\\033[91m','\\033[1m',\"\\nModel prediction array shape:\", '\\033[0m')\n",
    "for n in range(len(predictions)):\n",
    "    print(\"predictions[{0}]:\".format(n), predictions[n].shape)"
   ]
  },
  {
   "cell_type": "markdown",
   "metadata": {},
   "source": [
    "# Analysis"
   ]
  },
  {
   "cell_type": "code",
   "execution_count": 19,
   "metadata": {},
   "outputs": [
    {
     "name": "stdout",
     "output_type": "stream",
     "text": [
      "{0, 1, 2, 3, 4, 5, 6, 7, 8, 9, 10, 11, 12, 13, 14, 15, 16, 17, 18, 19, 20, 21, 22, 23, 24, 25, 26, 27, 28, 29, 30, 31, 32, 33, 34, 35, 36, 37, 38, 39, 40, 41, 42, 43, 44, 45, 46, 47, 48, 49, 50, 51, 52, 53, 54, 55, 56, 57, 58, 59, 60, 61, 62, 63, 64, 65, 66, 67, 68, 69, 70, 71, 72, 73, 74, 75, 76, 77, 78, 79, 80, 81, 82, 83, 84, 85, 86, 87, 88, 89, 90, 91, 92, 93, 94, 95, 96, 97, 98, 99}\n",
      "[0, 1, 2, 3, 4, 5, 6, 7, 8, 9, 10, 11, 12, 13, 14, 15, 16, 17, 18, 19, 20, 21, 22, 23, 24, 25, 26, 27, 28, 29, 30, 31, 32, 33, 34, 35, 36, 37, 38, 39, 40, 41, 42, 43, 44, 45, 46, 47, 48, 49, 50, 51, 52, 53, 54, 55, 56, 57, 58, 59, 60, 61, 62, 63, 64, 65, 66, 67, 68, 69, 70, 71, 72, 73, 74, 75, 76, 77, 78, 79, 80, 81, 82, 83, 84, 85, 86, 87, 88, 89, 90, 91, 92, 93, 94, 95, 96, 97, 98, 99]\n",
      "['0', '1', '2', '3', '4', '5', '6', '7', '8', '9', '10', '11', '12', '13', '14', '15', '16', '17', '18', '19', '20', '21', '22', '23', '24', '25', '26', '27', '28', '29', '30', '31', '32', '33', '34', '35', '36', '37', '38', '39', '40', '41', '42', '43', '44', '45', '46', '47', '48', '49', '50', '51', '52', '53', '54', '55', '56', '57', '58', '59', '60', '61', '62', '63', '64', '65', '66', '67', '68', '69', '70', '71', '72', '73', '74', '75', '76', '77', '78', '79', '80', '81', '82', '83', '84', '85', '86', '87', '88', '89', '90', '91', '92', '93', '94', '95', '96', '97', '98', '99']\n",
      "\n",
      "\u001b[91m \u001b[1m • multilabel-Confusion_Matrix \u001b[0m\n",
      "\n",
      "\n",
      "\u001b[91m \u001b[1m • FINE LEVEL \u001b[0m\n",
      "[[[9844   56]\n",
      "  [  31   69]]\n",
      "\n",
      " [[9821   79]\n",
      "  [  51   49]]\n",
      "\n",
      " [[9824   76]\n",
      "  [  75   25]]\n",
      "\n",
      " [[9836   64]\n",
      "  [  86   14]]\n",
      "\n",
      " [[9831   69]\n",
      "  [  76   24]]\n",
      "\n",
      " [[9818   82]\n",
      "  [  77   23]]\n",
      "\n",
      " [[9823   77]\n",
      "  [  70   30]]\n",
      "\n",
      " [[9833   67]\n",
      "  [  64   36]]\n",
      "\n",
      " [[9842   58]\n",
      "  [  68   32]]\n",
      "\n",
      " [[9860   40]\n",
      "  [  57   43]]\n",
      "\n",
      " [[9856   44]\n",
      "  [  81   19]]\n",
      "\n",
      " [[9849   51]\n",
      "  [  78   22]]\n",
      "\n",
      " [[9838   62]\n",
      "  [  62   38]]\n",
      "\n",
      " [[9824   76]\n",
      "  [  76   24]]\n",
      "\n",
      " [[9824   76]\n",
      "  [  76   24]]\n",
      "\n",
      " [[9815   85]\n",
      "  [  77   23]]\n",
      "\n",
      " [[9862   38]\n",
      "  [  69   31]]\n",
      "\n",
      " [[9807   93]\n",
      "  [  41   59]]\n",
      "\n",
      " [[9834   66]\n",
      "  [  59   41]]\n",
      "\n",
      " [[9828   72]\n",
      "  [  82   18]]\n",
      "\n",
      " [[9850   50]\n",
      "  [  31   69]]\n",
      "\n",
      " [[9784  116]\n",
      "  [  49   51]]\n",
      "\n",
      " [[9838   62]\n",
      "  [  68   32]]\n",
      "\n",
      " [[9829   71]\n",
      "  [  50   50]]\n",
      "\n",
      " [[9825   75]\n",
      "  [  38   62]]\n",
      "\n",
      " [[9844   56]\n",
      "  [  82   18]]\n",
      "\n",
      " [[9838   62]\n",
      "  [  77   23]]\n",
      "\n",
      " [[9829   71]\n",
      "  [  76   24]]\n",
      "\n",
      " [[9840   60]\n",
      "  [  43   57]]\n",
      "\n",
      " [[9860   40]\n",
      "  [  69   31]]\n",
      "\n",
      " [[9820   80]\n",
      "  [  57   43]]\n",
      "\n",
      " [[9813   87]\n",
      "  [  72   28]]\n",
      "\n",
      " [[9859   41]\n",
      "  [  74   26]]\n",
      "\n",
      " [[9828   72]\n",
      "  [  71   29]]\n",
      "\n",
      " [[9823   77]\n",
      "  [  72   28]]\n",
      "\n",
      " [[9826   74]\n",
      "  [  86   14]]\n",
      "\n",
      " [[9820   80]\n",
      "  [  69   31]]\n",
      "\n",
      " [[9826   74]\n",
      "  [  87   13]]\n",
      "\n",
      " [[9837   63]\n",
      "  [  83   17]]\n",
      "\n",
      " [[9838   62]\n",
      "  [  53   47]]\n",
      "\n",
      " [[9848   52]\n",
      "  [  73   27]]\n",
      "\n",
      " [[9860   40]\n",
      "  [  44   56]]\n",
      "\n",
      " [[9818   82]\n",
      "  [  74   26]]\n",
      "\n",
      " [[9804   96]\n",
      "  [  71   29]]\n",
      "\n",
      " [[9845   55]\n",
      "  [  89   11]]\n",
      "\n",
      " [[9852   48]\n",
      "  [  75   25]]\n",
      "\n",
      " [[9846   54]\n",
      "  [  88   12]]\n",
      "\n",
      " [[9839   61]\n",
      "  [  56   44]]\n",
      "\n",
      " [[9830   70]\n",
      "  [  50   50]]\n",
      "\n",
      " [[9839   61]\n",
      "  [  59   41]]\n",
      "\n",
      " [[9861   39]\n",
      "  [  86   14]]\n",
      "\n",
      " [[9822   78]\n",
      "  [  68   32]]\n",
      "\n",
      " [[9824   76]\n",
      "  [  31   69]]\n",
      "\n",
      " [[9833   67]\n",
      "  [  34   66]]\n",
      "\n",
      " [[9815   85]\n",
      "  [  57   43]]\n",
      "\n",
      " [[9874   26]\n",
      "  [  90   10]]\n",
      "\n",
      " [[9816   84]\n",
      "  [  56   44]]\n",
      "\n",
      " [[9838   62]\n",
      "  [  69   31]]\n",
      "\n",
      " [[9828   72]\n",
      "  [  55   45]]\n",
      "\n",
      " [[9829   71]\n",
      "  [  71   29]]\n",
      "\n",
      " [[9857   43]\n",
      "  [  25   75]]\n",
      "\n",
      " [[9844   56]\n",
      "  [  48   52]]\n",
      "\n",
      " [[9839   61]\n",
      "  [  50   50]]\n",
      "\n",
      " [[9838   62]\n",
      "  [  60   40]]\n",
      "\n",
      " [[9826   74]\n",
      "  [  81   19]]\n",
      "\n",
      " [[9849   51]\n",
      "  [  84   16]]\n",
      "\n",
      " [[9818   82]\n",
      "  [  78   22]]\n",
      "\n",
      " [[9859   41]\n",
      "  [  70   30]]\n",
      "\n",
      " [[9851   49]\n",
      "  [  23   77]]\n",
      "\n",
      " [[9831   69]\n",
      "  [  46   54]]\n",
      "\n",
      " [[9838   62]\n",
      "  [  62   38]]\n",
      "\n",
      " [[9836   64]\n",
      "  [  37   63]]\n",
      "\n",
      " [[9862   38]\n",
      "  [  94    6]]\n",
      "\n",
      " [[9836   64]\n",
      "  [  62   38]]\n",
      "\n",
      " [[9826   74]\n",
      "  [  81   19]]\n",
      "\n",
      " [[9837   63]\n",
      "  [  41   59]]\n",
      "\n",
      " [[9845   55]\n",
      "  [  32   68]]\n",
      "\n",
      " [[9848   52]\n",
      "  [  86   14]]\n",
      "\n",
      " [[9817   83]\n",
      "  [  84   16]]\n",
      "\n",
      " [[9855   45]\n",
      "  [  71   29]]\n",
      "\n",
      " [[9858   42]\n",
      "  [  87   13]]\n",
      "\n",
      " [[9807   93]\n",
      "  [  78   22]]\n",
      "\n",
      " [[9846   54]\n",
      "  [  27   73]]\n",
      "\n",
      " [[9850   50]\n",
      "  [  78   22]]\n",
      "\n",
      " [[9849   51]\n",
      "  [  76   24]]\n",
      "\n",
      " [[9827   73]\n",
      "  [  48   52]]\n",
      "\n",
      " [[9829   71]\n",
      "  [  56   44]]\n",
      "\n",
      " [[9845   55]\n",
      "  [  69   31]]\n",
      "\n",
      " [[9829   71]\n",
      "  [  77   23]]\n",
      "\n",
      " [[9828   72]\n",
      "  [  65   35]]\n",
      "\n",
      " [[9838   62]\n",
      "  [  78   22]]\n",
      "\n",
      " [[9839   61]\n",
      "  [  54   46]]\n",
      "\n",
      " [[9830   70]\n",
      "  [  78   22]]\n",
      "\n",
      " [[9848   52]\n",
      "  [  82   18]]\n",
      "\n",
      " [[9832   68]\n",
      "  [  29   71]]\n",
      "\n",
      " [[9815   85]\n",
      "  [  59   41]]\n",
      "\n",
      " [[9812   88]\n",
      "  [  69   31]]\n",
      "\n",
      " [[9807   93]\n",
      "  [  63   37]]\n",
      "\n",
      " [[9827   73]\n",
      "  [  86   14]]\n",
      "\n",
      " [[9848   52]\n",
      "  [  74   26]]]\n",
      "\n",
      "\u001b[91m \u001b[1m • Confusion_Matrix \u001b[0m\n",
      "\n",
      "\n",
      "\u001b[91m \u001b[1m • FINE LEVEL \u001b[0m\n",
      "[[69  3  0 ...  1  1  0]\n",
      " [ 2 49  0 ...  1  1  0]\n",
      " [ 3  1 25 ...  1  9  1]\n",
      " ...\n",
      " [ 1  1  0 ... 37  3  1]\n",
      " [ 1  1  2 ...  0 14  1]\n",
      " [ 1  0  0 ...  0  0 26]]\n",
      "\n",
      "\u001b[91m \u001b[1m • Classification Report \u001b[0m\n",
      "\n",
      "\n",
      "\u001b[91m \u001b[1m • FINE LEVEL \u001b[0m\n"
     ]
    },
    {
     "data": {
      "image/png": "[encoded data removed]",
      "text/plain": [
       "<Figure size 432x288 with 2 Axes>"
      ]
     },
     "metadata": {
      "needs_background": "light"
     },
     "output_type": "display_data"
    },
    {
     "name": "stdout",
     "output_type": "stream",
     "text": [
      "              precision    recall  f1-score   support\n",
      "\n",
      "           0    0.55200   0.69000   0.61333       100\n",
      "           1    0.38281   0.49000   0.42982       100\n",
      "           2    0.24752   0.25000   0.24876       100\n",
      "           3    0.17949   0.14000   0.15730       100\n",
      "           4    0.25806   0.24000   0.24870       100\n",
      "           5    0.21905   0.23000   0.22439       100\n",
      "           6    0.28037   0.30000   0.28986       100\n",
      "           7    0.34951   0.36000   0.35468       100\n",
      "           8    0.35556   0.32000   0.33684       100\n",
      "           9    0.51807   0.43000   0.46995       100\n",
      "          10    0.30159   0.19000   0.23313       100\n",
      "          11    0.30137   0.22000   0.25434       100\n",
      "          12    0.38000   0.38000   0.38000       100\n",
      "          13    0.24000   0.24000   0.24000       100\n",
      "          14    0.24000   0.24000   0.24000       100\n",
      "          15    0.21296   0.23000   0.22115       100\n",
      "          16    0.44928   0.31000   0.36686       100\n",
      "          17    0.38816   0.59000   0.46825       100\n",
      "          18    0.38318   0.41000   0.39614       100\n",
      "          19    0.20000   0.18000   0.18947       100\n",
      "          20    0.57983   0.69000   0.63014       100\n",
      "          21    0.30539   0.51000   0.38202       100\n",
      "          22    0.34043   0.32000   0.32990       100\n",
      "          23    0.41322   0.50000   0.45249       100\n",
      "          24    0.45255   0.62000   0.52321       100\n",
      "          25    0.24324   0.18000   0.20690       100\n",
      "          26    0.27059   0.23000   0.24865       100\n",
      "          27    0.25263   0.24000   0.24615       100\n",
      "          28    0.48718   0.57000   0.52535       100\n",
      "          29    0.43662   0.31000   0.36257       100\n",
      "          30    0.34959   0.43000   0.38565       100\n",
      "          31    0.24348   0.28000   0.26047       100\n",
      "          32    0.38806   0.26000   0.31138       100\n",
      "          33    0.28713   0.29000   0.28856       100\n",
      "          34    0.26667   0.28000   0.27317       100\n",
      "          35    0.15909   0.14000   0.14894       100\n",
      "          36    0.27928   0.31000   0.29384       100\n",
      "          37    0.14943   0.13000   0.13904       100\n",
      "          38    0.21250   0.17000   0.18889       100\n",
      "          39    0.43119   0.47000   0.44976       100\n",
      "          40    0.34177   0.27000   0.30168       100\n",
      "          41    0.58333   0.56000   0.57143       100\n",
      "          42    0.24074   0.26000   0.25000       100\n",
      "          43    0.23200   0.29000   0.25778       100\n",
      "          44    0.16667   0.11000   0.13253       100\n",
      "          45    0.34247   0.25000   0.28902       100\n",
      "          46    0.18182   0.12000   0.14458       100\n",
      "          47    0.41905   0.44000   0.42927       100\n",
      "          48    0.41667   0.50000   0.45455       100\n",
      "          49    0.40196   0.41000   0.40594       100\n",
      "          50    0.26415   0.14000   0.18301       100\n",
      "          51    0.29091   0.32000   0.30476       100\n",
      "          52    0.47586   0.69000   0.56327       100\n",
      "          53    0.49624   0.66000   0.56652       100\n",
      "          54    0.33594   0.43000   0.37719       100\n",
      "          55    0.27778   0.10000   0.14706       100\n",
      "          56    0.34375   0.44000   0.38596       100\n",
      "          57    0.33333   0.31000   0.32124       100\n",
      "          58    0.38462   0.45000   0.41475       100\n",
      "          59    0.29000   0.29000   0.29000       100\n",
      "          60    0.63559   0.75000   0.68807       100\n",
      "          61    0.48148   0.52000   0.50000       100\n",
      "          62    0.45045   0.50000   0.47393       100\n",
      "          63    0.39216   0.40000   0.39604       100\n",
      "          64    0.20430   0.19000   0.19689       100\n",
      "          65    0.23881   0.16000   0.19162       100\n",
      "          66    0.21154   0.22000   0.21569       100\n",
      "          67    0.42254   0.30000   0.35088       100\n",
      "          68    0.61111   0.77000   0.68142       100\n",
      "          69    0.43902   0.54000   0.48430       100\n",
      "          70    0.38000   0.38000   0.38000       100\n",
      "          71    0.49606   0.63000   0.55507       100\n",
      "          72    0.13636   0.06000   0.08333       100\n",
      "          73    0.37255   0.38000   0.37624       100\n",
      "          74    0.20430   0.19000   0.19689       100\n",
      "          75    0.48361   0.59000   0.53153       100\n",
      "          76    0.55285   0.68000   0.60987       100\n",
      "          77    0.21212   0.14000   0.16867       100\n",
      "          78    0.16162   0.16000   0.16080       100\n",
      "          79    0.39189   0.29000   0.33333       100\n",
      "          80    0.23636   0.13000   0.16774       100\n",
      "          81    0.19130   0.22000   0.20465       100\n",
      "          82    0.57480   0.73000   0.64317       100\n",
      "          83    0.30556   0.22000   0.25581       100\n",
      "          84    0.32000   0.24000   0.27429       100\n",
      "          85    0.41600   0.52000   0.46222       100\n",
      "          86    0.38261   0.44000   0.40930       100\n",
      "          87    0.36047   0.31000   0.33333       100\n",
      "          88    0.24468   0.23000   0.23711       100\n",
      "          89    0.32710   0.35000   0.33816       100\n",
      "          90    0.26190   0.22000   0.23913       100\n",
      "          91    0.42991   0.46000   0.44444       100\n",
      "          92    0.23913   0.22000   0.22917       100\n",
      "          93    0.25714   0.18000   0.21176       100\n",
      "          94    0.51079   0.71000   0.59414       100\n",
      "          95    0.32540   0.41000   0.36283       100\n",
      "          96    0.26050   0.31000   0.28311       100\n",
      "          97    0.28462   0.37000   0.32174       100\n",
      "          98    0.16092   0.14000   0.14973       100\n",
      "          99    0.33333   0.26000   0.29213       100\n",
      "\n",
      "    accuracy                        0.34930     10000\n",
      "   macro avg    0.33707   0.34930   0.33829     10000\n",
      "weighted avg    0.33707   0.34930   0.33829     10000\n",
      "\n"
     ]
    }
   ],
   "source": [
    "from sklearn.metrics import confusion_matrix, multilabel_confusion_matrix, classification_report\n",
    "from sklearn.metrics import ConfusionMatrixDisplay, accuracy_score\n",
    "\n",
    "fine_classes_number = n_class_fine\n",
    "\n",
    "y_true_fine = np.argmax(dataset['y_test_fine'], axis=1)\n",
    "y_pred_fine = np.argmax(predictions[0], axis=1)\n",
    "\n",
    "output = set()\n",
    "for x in y_true_fine:\n",
    "    output.add(x)\n",
    "print(output)\n",
    "\n",
    "fine_labels = list(range(0, fine_classes_number))\n",
    "fine_target_names = [str(x) for x in list(range(0, fine_classes_number))]\n",
    "\n",
    "print(fine_labels)\n",
    "print(fine_target_names)\n",
    "\n",
    "def confusion_matrixDisplay(y_true, y_pred, target_names):\n",
    "    labels = target_names\n",
    "    cm = confusion_matrix(y_true, y_pred)\n",
    "    ConfusionMatrixDisplay(cm, display_labels=labels).plot()\n",
    "    plt.show()\n",
    "    #plt.savefig(\"Confusion_Matrix.png\")\n",
    "\n",
    "print('\\n\\033[91m','\\033[1m',\"\\u2022\",'multilabel-Confusion_Matrix','\\033[0m\\n')\n",
    "\n",
    "print('\\n\\033[91m','\\033[1m',\"\\u2022\",'FINE LEVEL','\\033[0m')\n",
    "print(multilabel_confusion_matrix(y_true_fine, y_pred_fine))\n",
    "\n",
    "print('\\n\\033[91m','\\033[1m',\"\\u2022\",'Confusion_Matrix','\\033[0m\\n')\n",
    "\n",
    "\n",
    "print('\\n\\033[91m','\\033[1m',\"\\u2022\",'FINE LEVEL','\\033[0m')\n",
    "print(confusion_matrix(y_true_fine, y_pred_fine))\n",
    "\n",
    "print('\\n\\033[91m','\\033[1m',\"\\u2022\",'Classification Report','\\033[0m\\n')\n",
    "\n",
    "print('\\n\\033[91m','\\033[1m',\"\\u2022\",'FINE LEVEL','\\033[0m')\n",
    "confusion_matrixDisplay(y_true_fine, y_pred_fine, fine_target_names)\n",
    "print(classification_report(y_true_fine, y_pred_fine, target_names=fine_target_names, digits=5))"
   ]
  },
  {
   "cell_type": "markdown",
   "metadata": {},
   "source": [
    "## Hierarchical Metrics"
   ]
  },
  {
   "cell_type": "code",
   "execution_count": 20,
   "metadata": {
    "scrolled": true
   },
   "outputs": [
    {
     "name": "stdout",
     "output_type": "stream",
     "text": [
      "Root\n",
      "├── 0\n",
      "├── 1\n",
      "├── 2\n",
      "├── 3\n",
      "├── 4\n",
      "├── 5\n",
      "├── 6\n",
      "├── 7\n",
      "├── 8\n",
      "├── 9\n",
      "├── 10\n",
      "├── 11\n",
      "├── 12\n",
      "├── 13\n",
      "├── 14\n",
      "├── 15\n",
      "├── 16\n",
      "├── 17\n",
      "├── 18\n",
      "├── 19\n",
      "├── 20\n",
      "├── 21\n",
      "├── 22\n",
      "├── 23\n",
      "├── 24\n",
      "├── 25\n",
      "├── 26\n",
      "├── 27\n",
      "├── 28\n",
      "├── 29\n",
      "├── 30\n",
      "├── 31\n",
      "├── 32\n",
      "├── 33\n",
      "├── 34\n",
      "├── 35\n",
      "├── 36\n",
      "├── 37\n",
      "├── 38\n",
      "├── 39\n",
      "├── 40\n",
      "├── 41\n",
      "├── 42\n",
      "├── 43\n",
      "├── 44\n",
      "├── 45\n",
      "├── 46\n",
      "├── 47\n",
      "├── 48\n",
      "├── 49\n",
      "├── 50\n",
      "├── 51\n",
      "├── 52\n",
      "├── 53\n",
      "├── 54\n",
      "├── 55\n",
      "├── 56\n",
      "├── 57\n",
      "├── 58\n",
      "├── 59\n",
      "├── 60\n",
      "├── 61\n",
      "├── 62\n",
      "├── 63\n",
      "├── 64\n",
      "├── 65\n",
      "├── 66\n",
      "├── 67\n",
      "├── 68\n",
      "├── 69\n",
      "├── 70\n",
      "├── 71\n",
      "├── 72\n",
      "├── 73\n",
      "├── 74\n",
      "├── 75\n",
      "├── 76\n",
      "├── 77\n",
      "├── 78\n",
      "├── 79\n",
      "├── 80\n",
      "├── 81\n",
      "├── 82\n",
      "├── 83\n",
      "├── 84\n",
      "├── 85\n",
      "├── 86\n",
      "├── 87\n",
      "├── 88\n",
      "├── 89\n",
      "├── 90\n",
      "├── 91\n",
      "├── 92\n",
      "├── 93\n",
      "├── 94\n",
      "├── 95\n",
      "├── 96\n",
      "├── 97\n",
      "├── 98\n",
      "└── 99\n",
      "\n"
     ]
    }
   ],
   "source": [
    "tree = Tree()\n",
    "tree.create_node(\"Root\", \"root\")  # root node\n",
    "for i in range(n_class_fine):\n",
    "    tree.create_node(i, 'L0_'+ str(i), parent=\"root\")\n",
    "tree.show()"
   ]
  },
  {
   "cell_type": "code",
   "execution_count": 21,
   "metadata": {},
   "outputs": [],
   "source": [
    "true_label = [y_true_fine.tolist()]\n",
    "pred_label = [predictions[0]]"
   ]
  },
  {
   "cell_type": "code",
   "execution_count": 22,
   "metadata": {},
   "outputs": [
    {
     "name": "stdout",
     "output_type": "stream",
     "text": [
      "\n",
      "Hierarchical Precision = 0.3493 \n",
      "Hierarchical Recall = 0.3493 \n",
      "Hierarchical F1-Score = 0.3493\n",
      "\n",
      "H Accuracy= 0.3493 \n",
      "This method computes the harmonic mean of accuracies of all level in the taxonomy.\n",
      "\n",
      "M Accuracy= 0.3493 \n",
      "This method computes the harmonic mean of accuracies of all level in the taxonomy.\n",
      "\n",
      "Exact_Match= 0.3493 \n",
      "This method compute the exact match score. Exact match is defined as the #of examples for which the predictions for all level in the taxonomy is correct by the total #of examples.\n",
      "\n",
      "Consistency= 1.0 \n",
      "This methods estimates the consistency.\n"
     ]
    }
   ],
   "source": [
    "h_measurements = metrics.get_hierarchical_metrics(true_label, pred_label, tree)\n",
    "print('\\nHierarchical Precision =',h_measurements[0],\n",
    "      '\\nHierarchical Recall =', h_measurements[1],\n",
    "      '\\nHierarchical F1-Score =',h_measurements[2])\n",
    "print('\\nH Accuracy=',\n",
    "     metrics.get_h_accuracy(true_label, pred_label),\n",
    "     '\\nThis method computes the harmonic mean of accuracies of all level in the taxonomy.',)\n",
    "\n",
    "print('\\nM Accuracy=',\n",
    "     metrics.get_m_accuracy(true_label, pred_label),\n",
    "     '\\nThis method computes the harmonic mean of accuracies of all level in the taxonomy.',\n",
    "      )\n",
    "\n",
    "print('\\nExact_Match=',\n",
    "     metrics.get_exact_match(true_label, pred_label),\n",
    "     '\\nThis method compute the exact match score. Exact match is defined as the #of examples for which the predictions for all level in the taxonomy is correct by the total #of examples.',\n",
    "      )\n",
    "\n",
    "print('\\nConsistency=',\n",
    "     metrics.get_consistency(pred_label, tree),\n",
    "     '\\nThis methods estimates the consistency.',\n",
    "      )"
   ]
  },
  {
   "cell_type": "code",
   "execution_count": null,
   "metadata": {},
   "outputs": [],
   "source": []
  },
  {
   "cell_type": "code",
   "execution_count": null,
   "metadata": {},
   "outputs": [],
   "source": []
  }
 ],
 "metadata": {
  "accelerator": "GPU",
  "colab": {
   "include_colab_link": true,
   "name": "CapsNet_MNIST.ipynb",
   "provenance": [],
   "toc_visible": true
  },
  "kernelspec": {
   "display_name": "Python 3 (ipykernel)",
   "language": "python",
   "name": "python3"
  },
  "language_info": {
   "codemirror_mode": {
    "name": "ipython",
    "version": 3
   },
   "file_extension": ".py",
   "mimetype": "text/x-python",
   "name": "python",
   "nbconvert_exporter": "python",
   "pygments_lexer": "ipython3",
   "version": "3.8.12"
  },
  "toc": {
   "base_numbering": 1,
   "nav_menu": {},
   "number_sections": true,
   "sideBar": true,
   "skip_h1_title": false,
   "title_cell": "Table of Contents",
   "title_sidebar": "Contents",
   "toc_cell": false,
   "toc_position": {
    "height": "calc(100% - 180px)",
    "left": "10px",
    "top": "150px",
    "width": "248px"
   },
   "toc_section_display": true,
   "toc_window_display": true
  }
 },
 "nbformat": 4,
 "nbformat_minor": 1
}
