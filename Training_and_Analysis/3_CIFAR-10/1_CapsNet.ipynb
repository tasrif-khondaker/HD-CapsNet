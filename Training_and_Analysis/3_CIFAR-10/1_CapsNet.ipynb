{
 "cells": [
  {
   "cell_type": "markdown",
   "metadata": {
    "colab_type": "text",
    "id": "FucnLdoEAJLH"
   },
   "source": [
    "***\n",
    "<font size=\"6\"><center><b> Caspsule Networks (CIFAR100_JUST FINE CLASS_BASED ON PAPER) </b></center></font>\n",
    "***"
   ]
  },
  {
   "cell_type": "markdown",
   "metadata": {
    "colab_type": "text",
    "id": "Ljz9avRzBxCt"
   },
   "source": [
    "# Import Necessary libraries"
   ]
  },
  {
   "cell_type": "code",
   "execution_count": 1,
   "metadata": {
    "colab": {},
    "colab_type": "code",
    "id": "h0hvCdT7Knae"
   },
   "outputs": [
    {
     "name": "stdout",
     "output_type": "stream",
     "text": [
      "DONE loading MixUp Data generator\n",
      "DONE loading MixUp Data generator\n"
     ]
    }
   ],
   "source": [
    "import tensorflow as tf\n",
    "from tensorflow import keras\n",
    "from tensorflow.keras.preprocessing.image import ImageDataGenerator\n",
    "from tensorflow.keras.models import Sequential\n",
    "from tensorflow.keras.layers import Dense, Activation, Flatten, Dropout, BatchNormalization\n",
    "from tensorflow.keras.layers import Conv2D, MaxPooling2D\n",
    "from tensorflow.keras import regularizers, optimizers\n",
    "from tensorflow.keras import backend as K\n",
    "\n",
    "import tensorflow_docs as tfdocs\n",
    "import tensorflow_docs.plots\n",
    "\n",
    "# Supporting Libraries:\n",
    "    #Mathplot lib for ploting graphs\n",
    "%matplotlib inline\n",
    "import matplotlib\n",
    "import matplotlib.pyplot as plt\n",
    "    # numpy and pandas\n",
    "import numpy as np\n",
    "import pandas as pd\n",
    "    #system\n",
    "import os\n",
    "import sys\n",
    "import csv\n",
    "    #import other libraries\n",
    "import math\n",
    "import random\n",
    "from datetime import datetime\n",
    "from treelib import Tree\n",
    "    # ML model, Dataset and evalution metrics\n",
    "sys.path.append('../../') ### adding system parth for src folder\n",
    "from src import datasets # load datasets\n",
    "from src import MixUp # load datasets\n",
    "from src import MixUp_add_loss # load datasets\n",
    "from src import metrics # load hierarchcial metrics\n",
    "from src import sysenv # load hierarchcial metrics\n",
    "from src import models # load machine learning models\n",
    "\n",
    "    ## Tensorflow_docs\n",
    "import tensorflow_docs as tfdocs\n",
    "import tensorflow_docs.plots\n",
    "\n",
    "    # Auto reload local libraries if updated\n",
    "%load_ext autoreload\n",
    "%autoreload 2"
   ]
  },
  {
   "cell_type": "code",
   "execution_count": 2,
   "metadata": {
    "colab": {
     "base_uri": "https://localhost:8080/",
     "height": 68
    },
    "colab_type": "code",
    "id": "QWv7UHO2CN_t",
    "outputId": "37c5c388-d2fa-4527-ba47-e58aa6ee4ba0"
   },
   "outputs": [
    {
     "name": "stdout",
     "output_type": "stream",
     "text": [
      "\u001b[91m\u001b[1m\n",
      "• Computer Name = \u001b[0m30BFPC1AXW95\u001b[91m\u001b[1m\n",
      "• Working Directory = \u001b[0mC:\\Users\\knoor\\OneDrive - Deakin University\\Deep Learning with Python\\HDeep_CapsNet\\code\\Training_and_Analysis\\4_CIFAR-10\u001b[91m\u001b[1m\n",
      "• Python Version = \u001b[0m3.8.12 (default, Oct 12 2021, 03:01:40) [MSC v.1916 64 bit (AMD64)]\u001b[91m\u001b[1m\n",
      "• TensorFlow Version = \u001b[0m2.8.0\u001b[91m\u001b[1m\n",
      "• Keras Version = \u001b[0m2.8.0\u001b[91m\u001b[1m\n",
      "• Current Environment = \u001b[0mAnaconda Environment Name : py38tf\n"
     ]
    }
   ],
   "source": [
    "systeminfo = sysenv.systeminfo()\n",
    "print(systeminfo)"
   ]
  },
  {
   "cell_type": "markdown",
   "metadata": {},
   "source": [
    "## For GPU growth (not required if GPU does not give any error)"
   ]
  },
  {
   "cell_type": "code",
   "execution_count": 3,
   "metadata": {},
   "outputs": [
    {
     "name": "stdout",
     "output_type": "stream",
     "text": [
      "Following GPUS are selected =  0\n",
      "Done: GPU PhysicalDevice(name='/physical_device:GPU:0', device_type='GPU')\n",
      "1 Physical GPUs, 1 Logical GPUs\n"
     ]
    }
   ],
   "source": [
    "gpus = \"0,1,2,3,4,5,6,7\" ## Selecting Available gpus (Multi-GPUS)\n",
    "gpus = \"0\" ## Selecting Available gpus (Single GPU)\n",
    "gpugrowth = sysenv.gpugrowth(gpus = gpus) ## Limiting GPUS from OS environment\n",
    "gpugrowth.memory_growth() #GPU memory growth"
   ]
  },
  {
   "cell_type": "markdown",
   "metadata": {},
   "source": [
    "# Training Parameters"
   ]
  },
  {
   "cell_type": "code",
   "execution_count": 4,
   "metadata": {},
   "outputs": [],
   "source": [
    "train_params = {\"n_epochs\" : 100,\n",
    "                \"batch_size\": 8,\n",
    "                \"lr\": 0.001, # Initial learning rate\n",
    "                \"lr_decay\": 0.95, # Learning rate decay\n",
    "                \"decay_exe\": 9, #learning rate decay execution epoch after\n",
    "               }\n",
    "model_params = {\"optimizer\": tf.keras.optimizers.Adam(train_params['lr']),\n",
    "                \"loss_function\": models.MarginLoss(),\n",
    "               }"
   ]
  },
  {
   "cell_type": "markdown",
   "metadata": {
    "colab_type": "text",
    "id": "WCGpdY2KRDTR"
   },
   "source": [
    "# Import Dataset : CIFAR-100"
   ]
  },
  {
   "cell_type": "code",
   "execution_count": 5,
   "metadata": {
    "scrolled": true
   },
   "outputs": [
    {
     "name": "stdout",
     "output_type": "stream",
     "text": [
      "CIFAR-10 dataset: Training have 50,000 samples and testing have 10,000 samples\n"
     ]
    }
   ],
   "source": [
    "dataset = datasets.CIFAR10(version = 'ALL') # importing CIFAR10 Dataset"
   ]
  },
  {
   "cell_type": "markdown",
   "metadata": {
    "colab_type": "text",
    "id": "rbAaMvu-LE4M"
   },
   "source": [
    "# Build the CapsNet architecture"
   ]
  },
  {
   "cell_type": "markdown",
   "metadata": {
    "colab_type": "text",
    "id": "rbAaMvu-LE4M"
   },
   "source": [
    "## - Configuation parameters"
   ]
  },
  {
   "cell_type": "code",
   "execution_count": 6,
   "metadata": {
    "colab": {},
    "colab_type": "code",
    "id": "0HvL_KvlQEbh"
   },
   "outputs": [],
   "source": [
    "caps1_n_maps = 64\n",
    "caps1_n_caps = caps1_n_maps * 6 * 6\n",
    "caps1_n_dims = 8\n",
    "conv1_params = {\n",
    "    \"filters\": 256,\n",
    "    \"kernel_size\": 9,\n",
    "    \"strides\": 1,\n",
    "    \"padding\": \"valid\",\n",
    "    \"activation\": tf.nn.relu,\n",
    "}\n",
    "conv2_params = {\n",
    "    \"filters\": caps1_n_maps * caps1_n_dims,\n",
    "    \"kernel_size\": 9,\n",
    "    \"strides\": 3,\n",
    "    \"padding\": \"valid\",\n",
    "    \"activation\": tf.nn.relu\n",
    "}\n",
    "n_class_fine=10\n",
    "caps2_n_caps_fine = n_class_fine\n",
    "caps2_n_dims = 16\n",
    "\n",
    "n_hidden1 = 512\n",
    "n_hidden2 = 1024\n",
    "n_output = 30 * 30"
   ]
  },
  {
   "cell_type": "markdown",
   "metadata": {
    "colab_type": "text",
    "id": "SK4UrYq_QbmQ"
   },
   "source": [
    "## Connect layers"
   ]
  },
  {
   "cell_type": "code",
   "execution_count": 7,
   "metadata": {
    "colab": {
     "base_uri": "https://localhost:8080/",
     "height": 547
    },
    "colab_type": "code",
    "id": "pnbWy9xtQY1s",
    "outputId": "cd50b71b-275a-4983-8c73-238ef6734e0a",
    "scrolled": true
   },
   "outputs": [],
   "source": [
    "# clear session\n",
    "tf.keras.backend.clear_session()\n",
    "\n",
    "def get_compiled_model():\n",
    "    image_shape = dataset['x_train'].shape[1:]\n",
    "    # Input image\n",
    "    x_input = keras.layers.Input(shape=image_shape, name=\"Input_Image\")\n",
    "\n",
    "    # Layer 1 and 2: Two conventional Conv2D layer\n",
    "    # input [batch_size, 28, 28, 1], output [batch_size, 6, 6, 256]\n",
    "    conv1 = keras.layers.Conv2D(name='conv1', **conv1_params)(x_input)\n",
    "    conv2 = keras.layers.Conv2D(name='conv2', **conv2_params)(conv1)\n",
    "\n",
    "    # Layer 3: Reshape to 8D primary capsules \n",
    "    # input [batch_size, 6, 6, 256], output [batch_size, 1152, 8]\n",
    "    reshape1 = keras.layers.Reshape((caps1_n_caps, caps1_n_dims), name=\"reshape_layer\")(conv2)\n",
    "\n",
    "    # Layer 3: Squash to normalize length of each primary capsule vector\n",
    "    # input [batch_size, 1152, 8], output [batch_size, 1152, 8]\n",
    "    squash1 = keras.layers.Lambda(models.squash, name='squash_layer')(reshape1)\n",
    "\n",
    "    # Layer 4.1: Digit capsule layer with routing by agreement\n",
    "    # input [batch_size, 1152, 8], output [batch_size, 10, 16]\n",
    "    digitcaps_fine = models.SecondaryCapsule(n_caps=caps2_n_caps_fine, n_dims=caps2_n_dims, \n",
    "                        name=\"Digit_Caps_fine\")(squash1)\n",
    "\n",
    "    # Layer 5.1: Compute the length of each capsule vector\n",
    "    # input [batch_size, 10, 16], output [batch_size, 10]\n",
    "    fine_pred_layer = models.LengthLayer(name='Fine_prediction_output_layer')(digitcaps_fine)\n",
    "\n",
    "\n",
    "    # Decoder network.\n",
    "    n_hidden1 = 512\n",
    "    n_hidden2 = 1024\n",
    "    n_output = np.prod(image_shape) # 28 * 28\n",
    "\n",
    "    fine_input = keras.Input(shape=(n_class_fine,), name=\"fine_image_label\")\n",
    "\n",
    "    # Mask layer\n",
    "    # input [batch_size, 10], output [batch_size, 160]\n",
    "\n",
    "    decoder_input_fine = models.Mask(name='Mask_input_fine')([digitcaps_fine, fine_input, fine_pred_layer]) \n",
    "\n",
    "    # Decoder_fine\n",
    "    # input [batch_size, 160], output [batch_size, 28, 28, 1]\n",
    "    decoder_fine = keras.models.Sequential(name='Decoder_fine')\n",
    "    decoder_fine.add(keras.layers.Dense(n_hidden1, activation='relu', input_dim=caps2_n_dims*n_class_fine))\n",
    "    decoder_fine.add(keras.layers.Dense(n_hidden2, activation='relu'))\n",
    "    decoder_fine.add(keras.layers.Dense(n_output, activation='sigmoid'))\n",
    "    decoder_fine.add(keras.layers.Reshape(target_shape=image_shape, name='recon_output_layer_fine'))\n",
    "\n",
    "    fine_decoder= decoder_fine(decoder_input_fine)\n",
    "\n",
    "    # Capsnet model\n",
    "    model = keras.Model(\n",
    "        inputs= [x_input, fine_input],\n",
    "        outputs= [fine_pred_layer, fine_decoder],\n",
    "        name='capsnet_tf2.X')\n",
    "    \n",
    "    model.compile(\n",
    "        optimizer='adam',\n",
    "        loss=[model_params['loss_function'],\n",
    "              'mse'],\n",
    "        loss_weights=[0.9995, 0.0005],\n",
    "        metrics={'Fine_prediction_output_layer': 'accuracy'}\n",
    "    )\n",
    "    return model"
   ]
  },
  {
   "cell_type": "markdown",
   "metadata": {},
   "source": [
    "## Compile Model"
   ]
  },
  {
   "cell_type": "code",
   "execution_count": 8,
   "metadata": {},
   "outputs": [],
   "source": [
    "#Single GPU\n",
    "model = get_compiled_model()"
   ]
  },
  {
   "cell_type": "raw",
   "metadata": {},
   "source": [
    "#Multiple GPU ------ LINUX\n",
    "strategy = tf.distribute.MirroredStrategy()\n",
    "print(\"Number of devices: {}\".format(strategy.num_replicas_in_sync))\n",
    "\n",
    "# Open a strategy scope.\n",
    "with strategy.scope():\n",
    "    # Everything that creates variables should be under the strategy scope.\n",
    "    # In general this is only model construction & `compile()`.\n",
    "    model = get_compiled_model()"
   ]
  },
  {
   "cell_type": "raw",
   "metadata": {},
   "source": [
    "#Multiple GPU ------ Windows\n",
    "strategy = tf.distribute.MirroredStrategy(devices=[\"/gpu:0\",\n",
    "                                                   \"/gpu:1\",\n",
    "                                                   \"/gpu:2\",\n",
    "                                                   \"/gpu:3\",\n",
    "                                                   \"/gpu:4\",\n",
    "                                                   \"/gpu:5\",], \n",
    "                                          cross_device_ops=tf.distribute.HierarchicalCopyAllReduce())\n",
    "\n",
    "print(\"Number of devices: {}\".format(strategy.num_replicas_in_sync))\n",
    "\n",
    "# Open a strategy scope.\n",
    "with strategy.scope():\n",
    "    # Everything that creates variables should be under the strategy scope.\n",
    "    # In general this is only model construction & `compile()`.\n",
    "    model = get_compiled_model()"
   ]
  },
  {
   "cell_type": "markdown",
   "metadata": {},
   "source": [
    "# Model Summary"
   ]
  },
  {
   "cell_type": "code",
   "execution_count": 9,
   "metadata": {},
   "outputs": [
    {
     "name": "stdout",
     "output_type": "stream",
     "text": [
      "Model: \"capsnet_tf2.X\"\n",
      "__________________________________________________________________________________________________\n",
      " Layer (type)                   Output Shape         Param #     Connected to                     \n",
      "==================================================================================================\n",
      " Input_Image (InputLayer)       [(None, 32, 32, 3)]  0           []                               \n",
      "                                                                                                  \n",
      " conv1 (Conv2D)                 (None, 24, 24, 256)  62464       ['Input_Image[0][0]']            \n",
      "                                                                                                  \n",
      " conv2 (Conv2D)                 (None, 6, 6, 512)    10617344    ['conv1[0][0]']                  \n",
      "                                                                                                  \n",
      " reshape_layer (Reshape)        (None, 2304, 8)      0           ['conv2[0][0]']                  \n",
      "                                                                                                  \n",
      " squash_layer (Lambda)          (None, 2304, 8)      0           ['reshape_layer[0][0]']          \n",
      "                                                                                                  \n",
      " Digit_Caps_fine (SecondaryCaps  (None, 10, 16)      2949120     ['squash_layer[0][0]']           \n",
      " ule)                                                                                             \n",
      "                                                                                                  \n",
      " Fine_prediction_output_layer (  (None, 10)          0           ['Digit_Caps_fine[0][0]']        \n",
      " LengthLayer)                                                                                     \n",
      "                                                                                                  \n",
      " fine_image_label (InputLayer)  [(None, 10)]         0           []                               \n",
      "                                                                                                  \n",
      " Mask_input_fine (Mask)         (None, 160)          0           ['Digit_Caps_fine[0][0]',        \n",
      "                                                                  'fine_image_label[0][0]',       \n",
      "                                                                  'Fine_prediction_output_layer[0]\n",
      "                                                                 [0]']                            \n",
      "                                                                                                  \n",
      " Decoder_fine (Sequential)      (None, 32, 32, 3)    3756544     ['Mask_input_fine[0][0]']        \n",
      "                                                                                                  \n",
      "==================================================================================================\n",
      "Total params: 17,385,472\n",
      "Trainable params: 17,385,472\n",
      "Non-trainable params: 0\n",
      "__________________________________________________________________________________________________\n"
     ]
    }
   ],
   "source": [
    "model.summary()"
   ]
  },
  {
   "cell_type": "markdown",
   "metadata": {},
   "source": [
    "## Log Directory"
   ]
  },
  {
   "cell_type": "code",
   "execution_count": 10,
   "metadata": {},
   "outputs": [
    {
     "name": "stdout",
     "output_type": "stream",
     "text": [
      "FOLDER CREATED =  ./logs/CapsNet\n"
     ]
    }
   ],
   "source": [
    "directory = sysenv.log_dir('CapsNet')"
   ]
  },
  {
   "cell_type": "code",
   "execution_count": 11,
   "metadata": {
    "scrolled": true
   },
   "outputs": [
    {
     "data": {
      "image/png": "[encoded data removed]",
      "text/plain": [
       "<IPython.core.display.Image object>"
      ]
     },
     "execution_count": 11,
     "metadata": {},
     "output_type": "execute_result"
    }
   ],
   "source": [
    "keras.utils.plot_model(model, to_file = directory+\"/Architecture.png\", show_shapes=True)"
   ]
  },
  {
   "cell_type": "markdown",
   "metadata": {
    "colab_type": "text",
    "id": "fhSuy8JNR3L6"
   },
   "source": [
    "## Callbacks"
   ]
  },
  {
   "cell_type": "code",
   "execution_count": 12,
   "metadata": {
    "colab": {},
    "colab_type": "code",
    "id": "E1f1j-RPRzbj"
   },
   "outputs": [],
   "source": [
    "tb = keras.callbacks.TensorBoard(directory+'/tb_logs'+ datetime.now().strftime(\"%Y%m%d-%H%M%S\"))\n",
    "\n",
    "log = keras.callbacks.CSVLogger(directory+'/log.csv', append=True)\n",
    "\n",
    "checkpoint = keras.callbacks.ModelCheckpoint(\n",
    "    directory+'/weights-best.h5',  \n",
    "    monitor='val_loss',\n",
    "    save_best_only=True, save_weights_only=True, verbose=1)\n",
    "\n",
    "lr_decay = keras.callbacks.LearningRateScheduler(\n",
    "    schedule=lambda epoch: train_params[\"lr\"] * (train_params[\"lr_decay\"] ** epoch))"
   ]
  },
  {
   "cell_type": "markdown",
   "metadata": {
    "colab_type": "text",
    "id": "ddvlIAnLR_N1"
   },
   "source": [
    "# Run training"
   ]
  },
  {
   "cell_type": "markdown",
   "metadata": {},
   "source": [
    "## Training"
   ]
  },
  {
   "cell_type": "code",
   "execution_count": 13,
   "metadata": {},
   "outputs": [],
   "source": [
    "model_save_dir = str(directory+'/trained_model.h5')\n",
    "try:\n",
    "    model.load_weights(model_save_dir)\n",
    "except:\n",
    "    history = model.fit(x=[dataset['x_train'], dataset['y_train_fine']],\n",
    "                    y=[dataset['y_train_fine'], dataset['x_train']],\n",
    "                    batch_size = train_params[\"batch_size\"],\n",
    "                    epochs = train_params[\"n_epochs\"],\n",
    "                    validation_data=([dataset['x_test'], dataset['y_test_fine']],\n",
    "                                    [dataset['y_test_fine'], dataset['x_test']]),\n",
    "                    callbacks =[tb, log, checkpoint, lr_decay],\n",
    "                    verbose=\"auto\")\n",
    "    \n",
    "    model.save_weights(model_save_dir)"
   ]
  },
  {
   "cell_type": "raw",
   "metadata": {
    "scrolled": true
   },
   "source": [
    "history_dict = history.history\n",
    "# history_dict.keys()\n",
    "n=1\n",
    "print('\\033[91m','\\033[1m',\"==>\",\"Parameters in history = \", '\\033[0m')\n",
    "for key, value in history_dict.items():\n",
    "    print(n, \"-->\", key)\n",
    "    n+=1"
   ]
  },
  {
   "cell_type": "raw",
   "metadata": {},
   "source": [
    "acc = history_dict['Fine_prediction_output_layer_accuracy']\n",
    "val_acc = history_dict['val_Fine_prediction_output_layer_accuracy']\n",
    "loss = history_dict['loss']\n",
    "val_loss = history_dict['val_loss']\n",
    "\n",
    "epochs = range(1, len(acc) + 1)\n",
    "\n",
    "# \"bo\" is for \"blue dot\"\n",
    "plt.plot(epochs, loss, 'bo', label='Training loss')\n",
    "# b is for \"solid blue line\"\n",
    "plt.plot(epochs, val_loss, 'b', label='Validation loss')\n",
    "plt.title('Training and validation loss')\n",
    "plt.xlabel('Epochs')\n",
    "plt.ylabel('Loss')\n",
    "plt.legend()\n",
    "\n",
    "plt.show()\n",
    "\n",
    "plt.plot(epochs, acc, 'bo', label='Training acc')\n",
    "plt.plot(epochs, val_acc, 'b', label='Validation acc')\n",
    "plt.title('Training and validation accuracy')\n",
    "plt.xlabel('Epochs')\n",
    "plt.ylabel('Accuracy')\n",
    "plt.legend(loc='lower right')\n",
    "\n",
    "plt.show()"
   ]
  },
  {
   "cell_type": "markdown",
   "metadata": {},
   "source": [
    "# Model evaluate"
   ]
  },
  {
   "cell_type": "code",
   "execution_count": 14,
   "metadata": {},
   "outputs": [
    {
     "name": "stdout",
     "output_type": "stream",
     "text": [
      "[]\n"
     ]
    }
   ],
   "source": [
    "print(model.metrics_names)"
   ]
  },
  {
   "cell_type": "code",
   "execution_count": 15,
   "metadata": {
    "colab": {},
    "colab_type": "code",
    "id": "4Jr8-7E3IphF",
    "scrolled": true
   },
   "outputs": [
    {
     "name": "stdout",
     "output_type": "stream",
     "text": [
      "313/313 [==============================] - 11s 23ms/step - loss: 0.2582 - Fine_prediction_output_layer_loss: 0.2579 - Decoder_fine_loss: 0.9309 - Fine_prediction_output_layer_accuracy: 0.7042\n"
     ]
    }
   ],
   "source": [
    "results = model.evaluate([dataset['x_test'], dataset['y_test_fine']],\n",
    "                         [dataset['y_test_fine'], dataset['x_test']],\n",
    "                         verbose=1)"
   ]
  },
  {
   "cell_type": "code",
   "execution_count": 16,
   "metadata": {},
   "outputs": [
    {
     "name": "stdout",
     "output_type": "stream",
     "text": [
      "1 _ loss ==> 0.2582121789455414 \n",
      "\n",
      "2 _ Fine_prediction_output_layer_loss ==> 0.2578756809234619 \n",
      "\n",
      "3 _ Decoder_fine_loss ==> 0.9309126734733582 \n",
      "\n",
      "4 _ Fine_prediction_output_layer_accuracy ==> 0.704200029373169 \n",
      "\n"
     ]
    }
   ],
   "source": [
    "for n in range(len(results)):\n",
    "    print(n+1,'_',model.metrics_names[n], '==>', results[n],'\\n')"
   ]
  },
  {
   "cell_type": "markdown",
   "metadata": {},
   "source": [
    "# Model Prediction"
   ]
  },
  {
   "cell_type": "code",
   "execution_count": 17,
   "metadata": {},
   "outputs": [
    {
     "name": "stdout",
     "output_type": "stream",
     "text": [
      "313/313 [==============================] - 6s 18ms/step\n"
     ]
    }
   ],
   "source": [
    "predictions = model.predict([dataset['x_test'], dataset['y_test_fine']],\n",
    "                            verbose=1\n",
    "                           )"
   ]
  },
  {
   "cell_type": "code",
   "execution_count": 18,
   "metadata": {},
   "outputs": [
    {
     "name": "stdout",
     "output_type": "stream",
     "text": [
      "\u001b[91m \u001b[1m \n",
      "Model prediction array shape: \u001b[0m\n",
      "predictions[0]: (10000, 10)\n",
      "predictions[1]: (10000, 32, 32, 3)\n"
     ]
    }
   ],
   "source": [
    "print('\\033[91m','\\033[1m',\"\\nModel prediction array shape:\", '\\033[0m')\n",
    "for n in range(len(predictions)):\n",
    "    print(\"predictions[{0}]:\".format(n), predictions[n].shape)"
   ]
  },
  {
   "cell_type": "markdown",
   "metadata": {},
   "source": [
    "# Analysis"
   ]
  },
  {
   "cell_type": "code",
   "execution_count": 19,
   "metadata": {},
   "outputs": [
    {
     "name": "stdout",
     "output_type": "stream",
     "text": [
      "{0, 1, 2, 3, 4, 5, 6, 7, 8, 9}\n",
      "[0, 1, 2, 3, 4, 5, 6, 7, 8, 9]\n",
      "['0', '1', '2', '3', '4', '5', '6', '7', '8', '9']\n",
      "\n",
      "\u001b[91m \u001b[1m • multilabel-Confusion_Matrix \u001b[0m\n",
      "\n",
      "\n",
      "\u001b[91m \u001b[1m • FINE LEVEL \u001b[0m\n",
      "[[[8713  287]\n",
      "  [ 257  743]]\n",
      "\n",
      " [[8818  182]\n",
      "  [ 180  820]]\n",
      "\n",
      " [[8634  366]\n",
      "  [ 425  575]]\n",
      "\n",
      " [[8570  430]\n",
      "  [ 506  494]]\n",
      "\n",
      " [[8648  352]\n",
      "  [ 370  630]]\n",
      "\n",
      " [[8595  405]\n",
      "  [ 403  597]]\n",
      "\n",
      " [[8740  260]\n",
      "  [ 211  789]]\n",
      "\n",
      " [[8757  243]\n",
      "  [ 238  762]]\n",
      "\n",
      " [[8817  183]\n",
      "  [ 160  840]]\n",
      "\n",
      " [[8750  250]\n",
      "  [ 208  792]]]\n",
      "\n",
      "\u001b[91m \u001b[1m • Confusion_Matrix \u001b[0m\n",
      "\n",
      "\n",
      "\u001b[91m \u001b[1m • FINE LEVEL \u001b[0m\n",
      "[[743  20  43  18  23  10  11  15  73  44]\n",
      " [ 29 820   5  16   8  11   4   5  25  77]\n",
      " [ 70  12 575  55  97  60  55  43  16  17]\n",
      " [ 26  16  83 494  60 179  67  33  15  27]\n",
      " [ 38   8  68  64 630  36  66  70   6  14]\n",
      " [ 15   8  55 164  55 597  29  54   7  16]\n",
      " [ 10   8  50  39  42  32 789  14   8   8]\n",
      " [ 19   3  31  44  49  57  13 762   4  18]\n",
      " [ 51  35  14  10   7   8   4   2 840  29]\n",
      " [ 29  72  17  20  11  12  11   7  29 792]]\n",
      "\n",
      "\u001b[91m \u001b[1m • Classification Report \u001b[0m\n",
      "\n",
      "\n",
      "\u001b[91m \u001b[1m • FINE LEVEL \u001b[0m\n"
     ]
    },
    {
     "data": {
      "image/png": "[encoded data removed]",
      "text/plain": [
       "<Figure size 432x288 with 2 Axes>"
      ]
     },
     "metadata": {
      "needs_background": "light"
     },
     "output_type": "display_data"
    },
    {
     "name": "stdout",
     "output_type": "stream",
     "text": [
      "              precision    recall  f1-score   support\n",
      "\n",
      "           0    0.72136   0.74300   0.73202      1000\n",
      "           1    0.81836   0.82000   0.81918      1000\n",
      "           2    0.61105   0.57500   0.59248      1000\n",
      "           3    0.53463   0.49400   0.51351      1000\n",
      "           4    0.64155   0.63000   0.63572      1000\n",
      "           5    0.59581   0.59700   0.59640      1000\n",
      "           6    0.75214   0.78900   0.77013      1000\n",
      "           7    0.75821   0.76200   0.76010      1000\n",
      "           8    0.82111   0.84000   0.83045      1000\n",
      "           9    0.76008   0.79200   0.77571      1000\n",
      "\n",
      "    accuracy                        0.70420     10000\n",
      "   macro avg    0.70143   0.70420   0.70257     10000\n",
      "weighted avg    0.70143   0.70420   0.70257     10000\n",
      "\n"
     ]
    }
   ],
   "source": [
    "from sklearn.metrics import confusion_matrix, multilabel_confusion_matrix, classification_report\n",
    "from sklearn.metrics import ConfusionMatrixDisplay, accuracy_score\n",
    "\n",
    "fine_classes_number = n_class_fine\n",
    "\n",
    "y_true_fine = np.argmax(dataset['y_test_fine'], axis=1)\n",
    "y_pred_fine = np.argmax(predictions[0], axis=1)\n",
    "\n",
    "output = set()\n",
    "for x in y_true_fine:\n",
    "    output.add(x)\n",
    "print(output)\n",
    "\n",
    "fine_labels = list(range(0, fine_classes_number))\n",
    "fine_target_names = [str(x) for x in list(range(0, fine_classes_number))]\n",
    "\n",
    "print(fine_labels)\n",
    "print(fine_target_names)\n",
    "\n",
    "def confusion_matrixDisplay(y_true, y_pred, target_names):\n",
    "    labels = target_names\n",
    "    cm = confusion_matrix(y_true, y_pred)\n",
    "    ConfusionMatrixDisplay(cm, display_labels=labels).plot()\n",
    "    plt.show()\n",
    "    #plt.savefig(\"Confusion_Matrix.png\")\n",
    "\n",
    "print('\\n\\033[91m','\\033[1m',\"\\u2022\",'multilabel-Confusion_Matrix','\\033[0m\\n')\n",
    "\n",
    "print('\\n\\033[91m','\\033[1m',\"\\u2022\",'FINE LEVEL','\\033[0m')\n",
    "print(multilabel_confusion_matrix(y_true_fine, y_pred_fine))\n",
    "\n",
    "print('\\n\\033[91m','\\033[1m',\"\\u2022\",'Confusion_Matrix','\\033[0m\\n')\n",
    "\n",
    "\n",
    "print('\\n\\033[91m','\\033[1m',\"\\u2022\",'FINE LEVEL','\\033[0m')\n",
    "print(confusion_matrix(y_true_fine, y_pred_fine))\n",
    "\n",
    "print('\\n\\033[91m','\\033[1m',\"\\u2022\",'Classification Report','\\033[0m\\n')\n",
    "\n",
    "print('\\n\\033[91m','\\033[1m',\"\\u2022\",'FINE LEVEL','\\033[0m')\n",
    "confusion_matrixDisplay(y_true_fine, y_pred_fine, fine_target_names)\n",
    "print(classification_report(y_true_fine, y_pred_fine, target_names=fine_target_names, digits=5))"
   ]
  },
  {
   "cell_type": "markdown",
   "metadata": {},
   "source": [
    "## Hierarchical Metrics"
   ]
  },
  {
   "cell_type": "code",
   "execution_count": 20,
   "metadata": {
    "scrolled": true
   },
   "outputs": [
    {
     "name": "stdout",
     "output_type": "stream",
     "text": [
      "Root\n",
      "├── 0\n",
      "├── 1\n",
      "├── 2\n",
      "├── 3\n",
      "├── 4\n",
      "├── 5\n",
      "├── 6\n",
      "├── 7\n",
      "├── 8\n",
      "└── 9\n",
      "\n"
     ]
    }
   ],
   "source": [
    "tree = Tree()\n",
    "tree.create_node(\"Root\", \"root\")  # root node\n",
    "for i in range(n_class_fine):\n",
    "    tree.create_node(i, 'L0_'+ str(i), parent=\"root\")\n",
    "tree.show()"
   ]
  },
  {
   "cell_type": "code",
   "execution_count": 21,
   "metadata": {},
   "outputs": [],
   "source": [
    "true_label = [y_true_fine.tolist()]\n",
    "pred_label = [predictions[0]]"
   ]
  },
  {
   "cell_type": "code",
   "execution_count": 22,
   "metadata": {},
   "outputs": [
    {
     "name": "stdout",
     "output_type": "stream",
     "text": [
      "\n",
      "Hierarchical Precision = 0.7042 \n",
      "Hierarchical Recall = 0.7042 \n",
      "Hierarchical F1-Score = 0.7042\n",
      "\n",
      "H Accuracy= 0.7042 \n",
      "This method computes the harmonic mean of accuracies of all level in the taxonomy.\n",
      "\n",
      "M Accuracy= 0.7042 \n",
      "This method computes the harmonic mean of accuracies of all level in the taxonomy.\n",
      "\n",
      "Exact_Match= 0.7042 \n",
      "This method compute the exact match score. Exact match is defined as the #of examples for which the predictions for all level in the taxonomy is correct by the total #of examples.\n",
      "\n",
      "Consistency= 1.0 \n",
      "This methods estimates the consistency.\n"
     ]
    }
   ],
   "source": [
    "h_measurements = metrics.get_hierarchical_metrics(true_label, pred_label, tree)\n",
    "print('\\nHierarchical Precision =',h_measurements[0],\n",
    "      '\\nHierarchical Recall =', h_measurements[1],\n",
    "      '\\nHierarchical F1-Score =',h_measurements[2])\n",
    "print('\\nH Accuracy=',\n",
    "     metrics.get_h_accuracy(true_label, pred_label),\n",
    "     '\\nThis method computes the harmonic mean of accuracies of all level in the taxonomy.',)\n",
    "\n",
    "print('\\nM Accuracy=',\n",
    "     metrics.get_m_accuracy(true_label, pred_label),\n",
    "     '\\nThis method computes the harmonic mean of accuracies of all level in the taxonomy.',\n",
    "      )\n",
    "\n",
    "print('\\nExact_Match=',\n",
    "     metrics.get_exact_match(true_label, pred_label),\n",
    "     '\\nThis method compute the exact match score. Exact match is defined as the #of examples for which the predictions for all level in the taxonomy is correct by the total #of examples.',\n",
    "      )\n",
    "\n",
    "print('\\nConsistency=',\n",
    "     metrics.get_consistency(pred_label, tree),\n",
    "     '\\nThis methods estimates the consistency.',\n",
    "      )"
   ]
  },
  {
   "cell_type": "code",
   "execution_count": null,
   "metadata": {},
   "outputs": [],
   "source": []
  }
 ],
 "metadata": {
  "accelerator": "GPU",
  "colab": {
   "include_colab_link": true,
   "name": "CapsNet_MNIST.ipynb",
   "provenance": [],
   "toc_visible": true
  },
  "kernelspec": {
   "display_name": "Python 3 (ipykernel)",
   "language": "python",
   "name": "python3"
  },
  "language_info": {
   "codemirror_mode": {
    "name": "ipython",
    "version": 3
   },
   "file_extension": ".py",
   "mimetype": "text/x-python",
   "name": "python",
   "nbconvert_exporter": "python",
   "pygments_lexer": "ipython3",
   "version": "3.8.12"
  },
  "toc": {
   "base_numbering": 1,
   "nav_menu": {},
   "number_sections": true,
   "sideBar": true,
   "skip_h1_title": false,
   "title_cell": "Table of Contents",
   "title_sidebar": "Contents",
   "toc_cell": false,
   "toc_position": {
    "height": "calc(100% - 180px)",
    "left": "10px",
    "top": "150px",
    "width": "248px"
   },
   "toc_section_display": true,
   "toc_window_display": true
  }
 },
 "nbformat": 4,
 "nbformat_minor": 1
}
