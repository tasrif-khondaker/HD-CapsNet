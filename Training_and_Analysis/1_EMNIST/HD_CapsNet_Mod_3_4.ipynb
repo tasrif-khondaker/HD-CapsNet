{
 "cells": [
  {
   "cell_type": "markdown",
   "id": "6b24df6d",
   "metadata": {},
   "source": [
    "***\n",
    "<font size=\"6\"><center><b> HD-CapsNet: A Hierarchical Deep Capsule Network for Image Classification </b></center></font>\n",
    "***"
   ]
  },
  {
   "cell_type": "markdown",
   "id": "f691c83f",
   "metadata": {},
   "source": [
    "**Changing Model Architecture**\n",
    "- **(Mod-3.4)** 32-D > 16-D (Coarse > FINE) use skip connections between Secondary Capsules $Concatenate([P_{caps}, S_{coarse}])$ > input for $S_{medium}$ and $Concatenate([P_{caps}, S_{medium}])$ > input for $S_{fine}$\n",
    "- Without $L_{Cons}$"
   ]
  },
  {
   "cell_type": "markdown",
   "id": "9ae9d6d5",
   "metadata": {},
   "source": [
    "# Files and Libraries"
   ]
  },
  {
   "cell_type": "code",
   "execution_count": 1,
   "id": "bc4aa737",
   "metadata": {},
   "outputs": [],
   "source": [
    "import tensorflow as tf\n",
    "from tensorflow import keras\n",
    "from tensorflow.keras.preprocessing.image import ImageDataGenerator\n",
    "from tensorflow.keras.models import Sequential\n",
    "from tensorflow.keras.layers import Dense, Activation, Flatten, Dropout, BatchNormalization\n",
    "from tensorflow.keras.layers import Conv2D, MaxPooling2D\n",
    "from tensorflow.keras import regularizers, optimizers\n",
    "from tensorflow.keras import backend as K\n",
    "\n",
    "import tensorflow_docs as tfdocs\n",
    "import tensorflow_docs.plots\n",
    "\n",
    "# Supporting Libraries:\n",
    "    #Mathplot lib for ploting graphs\n",
    "%matplotlib inline\n",
    "import matplotlib\n",
    "import matplotlib.pyplot as plt\n",
    "    # numpy and pandas\n",
    "import numpy as np\n",
    "import pandas as pd\n",
    "    #system\n",
    "import os\n",
    "import sys\n",
    "import csv\n",
    "    #import other libraries\n",
    "import math\n",
    "import random\n",
    "from datetime import datetime\n",
    "from treelib import Tree\n",
    "    # ML model, Dataset and evalution metrics\n",
    "sys.path.append('../../') ### adding system parth for src folder\n",
    "from src import datasets # load datasets\n",
    "from src import MixUp # load datasets\n",
    "from src import MixUp_add_loss # load datasets\n",
    "from src import metrics # load hierarchcial metrics\n",
    "from src import sysenv # load hierarchcial metrics\n",
    "from src import models # load machine learning models\n",
    "\n",
    "    ## Tensorflow_docs\n",
    "import tensorflow_docs as tfdocs\n",
    "import tensorflow_docs.plots\n",
    "\n",
    "    # Auto reload local libraries if updated\n",
    "%load_ext autoreload\n",
    "%autoreload 2"
   ]
  },
  {
   "cell_type": "markdown",
   "id": "3c2c610b",
   "metadata": {},
   "source": [
    "# System information & GPU growth"
   ]
  },
  {
   "cell_type": "code",
   "execution_count": 2,
   "id": "506c959d",
   "metadata": {},
   "outputs": [
    {
     "name": "stdout",
     "output_type": "stream",
     "text": [
      "\u001b[91m\u001b[1m\n",
      "• Computer Name = \u001b[0m30BFPC1AXW95\u001b[91m\u001b[1m\n",
      "• Working Directory = \u001b[0mC:\\Users\\knoor\\OneDrive - Deakin University\\Deep Learning with Python\\Google_Drive\\Projects\\Deep Learning\\HD-CapsNet\\Training_and_Analysis\\1_EMNIST\u001b[91m\u001b[1m\n",
      "• Python Version = \u001b[0m3.8.12 (default, Oct 12 2021, 03:01:40) [MSC v.1916 64 bit (AMD64)]\u001b[91m\u001b[1m\n",
      "• TensorFlow Version = \u001b[0m2.8.0\u001b[91m\u001b[1m\n",
      "• Keras Version = \u001b[0m2.8.0\u001b[91m\u001b[1m\n",
      "• Current Environment = \u001b[0mAnaconda Environment Name : py38tf\n"
     ]
    }
   ],
   "source": [
    "systeminfo = sysenv.systeminfo()\n",
    "print(systeminfo)"
   ]
  },
  {
   "cell_type": "code",
   "execution_count": 3,
   "id": "832d5a45",
   "metadata": {},
   "outputs": [
    {
     "name": "stdout",
     "output_type": "stream",
     "text": [
      "Following GPUS are selected =  0\n",
      "Done: GPU PhysicalDevice(name='/physical_device:GPU:0', device_type='GPU')\n",
      "1 Physical GPUs, 1 Logical GPUs\n"
     ]
    }
   ],
   "source": [
    "gpus = \"0,1,2,3,4,5,6,7\" ## Selecting Available gpus (Multi-GPUS)\n",
    "gpus = \"0\" ## Selecting Available gpus (Single GPU)\n",
    "gpugrowth = sysenv.gpugrowth(gpus = gpus) ## Limiting GPUS from OS environment\n",
    "gpugrowth.memory_growth() #GPU memory growth"
   ]
  },
  {
   "cell_type": "markdown",
   "id": "cd551837",
   "metadata": {},
   "source": [
    "# Parameters"
   ]
  },
  {
   "cell_type": "code",
   "execution_count": 4,
   "id": "445ee1d5",
   "metadata": {},
   "outputs": [],
   "source": [
    "train_params = {\"n_epochs\" : 100,\n",
    "                \"batch_size\": 64,\n",
    "                \"lr\": 0.001, # Initial learning rate\n",
    "                \"lr_decay\": 0.95, # Learning rate decay\n",
    "                \"decay_exe\": 9, #learning rate decay execution epoch after\n",
    "               }\n",
    "model_params = {\"optimizer\": tf.keras.optimizers.Adam(train_params['lr']),\n",
    "                \"loss_function\": models.MarginLoss(),\n",
    "               }"
   ]
  },
  {
   "cell_type": "markdown",
   "id": "ad98815c",
   "metadata": {},
   "source": [
    "# log directory"
   ]
  },
  {
   "cell_type": "code",
   "execution_count": 5,
   "id": "63ace371",
   "metadata": {
    "scrolled": true
   },
   "outputs": [
    {
     "name": "stdout",
     "output_type": "stream",
     "text": [
      "FOLDER CREATED =  ../../logs/1_EMNIST/HD_CapsNet/Mod_3_2\n"
     ]
    }
   ],
   "source": [
    "directory = sysenv.log_dir('1_EMNIST/HD_CapsNet/Mod_3_4')"
   ]
  },
  {
   "cell_type": "markdown",
   "id": "9cfde972",
   "metadata": {},
   "source": [
    "# Import Dataset : FMNIST"
   ]
  },
  {
   "cell_type": "code",
   "execution_count": 6,
   "id": "4714d33f",
   "metadata": {},
   "outputs": [
    {
     "name": "stdout",
     "output_type": "stream",
     "text": [
      "EMNIST dataset: Training have 112,800 samples and testing have 18,800 samples\n"
     ]
    }
   ],
   "source": [
    "dataset = datasets.E_MNIST(version = 'ALL') # importing Dataset\n",
    "# dataset = datasets.E_MNIST(version = 'reduce') # importing Dataset"
   ]
  },
  {
   "cell_type": "markdown",
   "id": "3f38ee07",
   "metadata": {},
   "source": [
    "## Learning Rate Decay Scheduler"
   ]
  },
  {
   "cell_type": "code",
   "execution_count": 7,
   "id": "3ed77d4a",
   "metadata": {},
   "outputs": [],
   "source": [
    "def scheduler(epoch):\n",
    "    learning_rate_init = train_params[\"lr\"]\n",
    "    \n",
    "    if epoch > train_params[\"decay_exe\"]:\n",
    "        learning_rate_init = train_params[\"lr\"] * (train_params[\"lr_decay\"] ** (epoch-9))\n",
    "        \n",
    "    tf.summary.scalar('learning rate', data=learning_rate_init, step=epoch)\n",
    "        \n",
    "    return learning_rate_init"
   ]
  },
  {
   "cell_type": "markdown",
   "id": "dfc5ea00",
   "metadata": {},
   "source": [
    "# Model Architecture"
   ]
  },
  {
   "cell_type": "markdown",
   "id": "dee6349a",
   "metadata": {},
   "source": [
    "## Loss Function"
   ]
  },
  {
   "cell_type": "code",
   "execution_count": 8,
   "id": "215a7b0c",
   "metadata": {},
   "outputs": [],
   "source": [
    "number_of_classes_c = len(np.unique(np.argmax(dataset['y_train_coarse'], axis=1)))\n",
    "number_of_classes_f = len(np.unique(np.argmax(dataset['y_train_fine'], axis=1)))\n",
    "\n",
    "## For Dynamic LossWeights\n",
    "initial_lw = models.initial_lw({\"coarse\": number_of_classes_c,\n",
    "                                \"fine\": number_of_classes_f})\n",
    "\n",
    "lossweight = {'coarse_lw' : K.variable(value = initial_lw['coarse'], dtype=\"float32\", name=\"coarse_lw\"),\n",
    "             'fine_lw' : K.variable(value = initial_lw['fine'], dtype=\"float32\", name=\"fine_lw\"),\n",
    "              'decoder_lw' : 0.0\n",
    "             }"
   ]
  },
  {
   "cell_type": "code",
   "execution_count": 9,
   "id": "796bab2a",
   "metadata": {},
   "outputs": [],
   "source": [
    "def margin_loss(y_true, y_proba):\n",
    "    \n",
    "    present_error_raw = tf.square(tf.maximum(0., 0.9 - y_proba), name=\"present_error_raw\")\n",
    "    absent_error_raw = tf.square(tf.maximum(0., y_proba - 0.1), name=\"absent_error_raw\")\n",
    "    L = tf.add(y_true * present_error_raw, 0.5 * (1.0 - y_true) * absent_error_raw,name=\"L\")\n",
    "    total_marginloss = tf.reduce_sum(L, axis=1, name=\"margin_loss\")\n",
    "\n",
    "    return total_marginloss\n",
    "\n",
    "def CustomLoss(y_true_c, y_true_f, y_pred_c, y_pred_f, LW_C, LW_F):\n",
    "   \n",
    "    ML_c = margin_loss(y_true_c, y_pred_c)*LW_C\n",
    "    ML_f = margin_loss(y_true_f, y_pred_f)*LW_F\n",
    "    batch_loss = ML_c + ML_f\n",
    "    return tf.reduce_mean(batch_loss)"
   ]
  },
  {
   "cell_type": "markdown",
   "id": "6a497572",
   "metadata": {},
   "source": [
    "## Architecture"
   ]
  },
  {
   "cell_type": "code",
   "execution_count": 10,
   "id": "f935c049",
   "metadata": {},
   "outputs": [],
   "source": [
    "def get_compiled_model():\n",
    "    \n",
    "    ## Calling the HD-CapsNet Model\n",
    "    model = models.HD_CapsNet_Mod_3_2(input_shape     = dataset['x_train'].shape[1:], \n",
    "                                      input_shape_yc  = dataset['y_train_coarse'].shape[1:],\n",
    "                                      input_shape_yf  = dataset['y_train_fine'].shape[1:], \n",
    "                                      no_coarse_class = number_of_classes_c,\n",
    "                                      no_fine_class   = number_of_classes_f,\n",
    "                                      PCap_n_dims     = 8, \n",
    "                                      SCap_f_dims     = 16,\n",
    "                                      SCap_c_dims     = 32\n",
    "                                     )\n",
    "    \n",
    "    ## Saving Model Architecture\n",
    "    keras.utils.plot_model(model, to_file = directory+\"/Architecture.png\", show_shapes=True)\n",
    "    \n",
    "    ## Add Loss for Model\n",
    "    model.add_loss(CustomLoss(y_true_c            = model.inputs[1],\n",
    "                              y_true_f            = model.inputs[2], \n",
    "                              y_pred_c            = model.output[0],\n",
    "                              y_pred_f            = model.output[1], \n",
    "                              LW_C                = lossweight['coarse_lw'],\n",
    "                              LW_F                = lossweight['fine_lw']\n",
    "                             )\n",
    "                  )\n",
    "    \n",
    "    ## Compile Model\n",
    "    model.compile(optimizer='adam',                  \n",
    "                  metrics={'prediction_fine': 'accuracy',\n",
    "                           'prediction_coarse': 'accuracy'}\n",
    "                 )\n",
    "    return model"
   ]
  },
  {
   "cell_type": "markdown",
   "id": "86393b7d",
   "metadata": {},
   "source": [
    "## Compile Model"
   ]
  },
  {
   "cell_type": "code",
   "execution_count": 11,
   "id": "19234f8b",
   "metadata": {},
   "outputs": [
    {
     "name": "stdout",
     "output_type": "stream",
     "text": [
      "WARNING:tensorflow:The following Variables were used in a Lambda layer's call (tf.math.multiply_3), but are not present in its tracked objects:   <tf.Variable 'coarse_lw:0' shape=() dtype=float32>. This is a strong indication that the Lambda layer should be rewritten as a subclassed Layer.\n",
      "WARNING:tensorflow:The following Variables were used in a Lambda layer's call (tf.math.multiply_7), but are not present in its tracked objects:   <tf.Variable 'fine_lw:0' shape=() dtype=float32>. This is a strong indication that the Lambda layer should be rewritten as a subclassed Layer.\n"
     ]
    }
   ],
   "source": [
    "model = get_compiled_model()"
   ]
  },
  {
   "cell_type": "raw",
   "id": "7fafa5af",
   "metadata": {},
   "source": [
    "strategy = models.multi_gpu_select('windows')\n",
    "\n",
    "print(\"Number of devices: {}\".format(strategy.num_replicas_in_sync))\n",
    "\n",
    "with strategy.scope():\n",
    "    # Everything that creates variables should be under the strategy scope.\n",
    "    # In general this is only model construction & `compile()`.\n",
    "    model = get_compiled_model()"
   ]
  },
  {
   "cell_type": "code",
   "execution_count": 12,
   "id": "a1e4b982",
   "metadata": {
    "scrolled": true
   },
   "outputs": [
    {
     "name": "stdout",
     "output_type": "stream",
     "text": [
      "Model: \"HD-CapsNet\"\n",
      "__________________________________________________________________________________________________\n",
      " Layer (type)                   Output Shape         Param #     Connected to                     \n",
      "==================================================================================================\n",
      " Input_Image (InputLayer)       [(None, 28, 28, 1)]  0           []                               \n",
      "                                                                                                  \n",
      " block1_conv1 (Conv2D)          (None, 28, 28, 64)   640         ['Input_Image[0][0]']            \n",
      "                                                                                                  \n",
      " batch_normalization (BatchNorm  (None, 28, 28, 64)  256         ['block1_conv1[0][0]']           \n",
      " alization)                                                                                       \n",
      "                                                                                                  \n",
      " block1_conv2 (Conv2D)          (None, 28, 28, 64)   36928       ['batch_normalization[0][0]']    \n",
      "                                                                                                  \n",
      " batch_normalization_1 (BatchNo  (None, 28, 28, 64)  256         ['block1_conv2[0][0]']           \n",
      " rmalization)                                                                                     \n",
      "                                                                                                  \n",
      " block1_pool (MaxPooling2D)     (None, 14, 14, 64)   0           ['batch_normalization_1[0][0]']  \n",
      "                                                                                                  \n",
      " block2_conv1 (Conv2D)          (None, 14, 14, 128)  73856       ['block1_pool[0][0]']            \n",
      "                                                                                                  \n",
      " batch_normalization_2 (BatchNo  (None, 14, 14, 128)  512        ['block2_conv1[0][0]']           \n",
      " rmalization)                                                                                     \n",
      "                                                                                                  \n",
      " block2_conv2 (Conv2D)          (None, 14, 14, 128)  147584      ['batch_normalization_2[0][0]']  \n",
      "                                                                                                  \n",
      " batch_normalization_3 (BatchNo  (None, 14, 14, 128)  512        ['block2_conv2[0][0]']           \n",
      " rmalization)                                                                                     \n",
      "                                                                                                  \n",
      " block2_pool (MaxPooling2D)     (None, 7, 7, 128)    0           ['batch_normalization_3[0][0]']  \n",
      "                                                                                                  \n",
      " block3_conv1 (Conv2D)          (None, 7, 7, 256)    295168      ['block2_pool[0][0]']            \n",
      "                                                                                                  \n",
      " batch_normalization_4 (BatchNo  (None, 7, 7, 256)   1024        ['block3_conv1[0][0]']           \n",
      " rmalization)                                                                                     \n",
      "                                                                                                  \n",
      " block3_conv2 (Conv2D)          (None, 7, 7, 256)    590080      ['batch_normalization_4[0][0]']  \n",
      "                                                                                                  \n",
      " batch_normalization_5 (BatchNo  (None, 7, 7, 256)   1024        ['block3_conv2[0][0]']           \n",
      " rmalization)                                                                                     \n",
      "                                                                                                  \n",
      " block3_pool (MaxPooling2D)     (None, 3, 3, 256)    0           ['batch_normalization_5[0][0]']  \n",
      "                                                                                                  \n",
      " block4_conv1 (Conv2D)          (None, 3, 3, 512)    1180160     ['block3_pool[0][0]']            \n",
      "                                                                                                  \n",
      " batch_normalization_6 (BatchNo  (None, 3, 3, 512)   2048        ['block4_conv1[0][0]']           \n",
      " rmalization)                                                                                     \n",
      "                                                                                                  \n",
      " block4_conv2 (Conv2D)          (None, 3, 3, 512)    2359808     ['batch_normalization_6[0][0]']  \n",
      "                                                                                                  \n",
      " batch_normalization_7 (BatchNo  (None, 3, 3, 512)   2048        ['block4_conv2[0][0]']           \n",
      " rmalization)                                                                                     \n",
      "                                                                                                  \n",
      " block4_pool (MaxPooling2D)     (None, 1, 1, 512)    0           ['batch_normalization_7[0][0]']  \n",
      "                                                                                                  \n",
      " reshape_layer (Reshape)        (None, 64, 8)        0           ['block4_pool[0][0]']            \n",
      "                                                                                                  \n",
      " p_caps (Lambda)                (None, 64, 8)        0           ['reshape_layer[0][0]']          \n",
      "                                                                                                  \n",
      " s_caps_coarse (SecondaryCapsul  (None, 2, 16)       16384       ['p_caps[0][0]']                 \n",
      " e)                                                                                               \n",
      "                                                                                                  \n",
      " primary_skip_f (Reshape)       (None, 32, 16)       0           ['p_caps[0][0]']                 \n",
      "                                                                                                  \n",
      " skip_connection_f (Concatenate  (None, 34, 16)      0           ['primary_skip_f[0][0]',         \n",
      " )                                                                's_caps_coarse[0][0]']          \n",
      "                                                                                                  \n",
      " s_caps_fine (SecondaryCapsule)  (None, 47, 8)       204544      ['skip_connection_f[0][0]']      \n",
      "                                                                                                  \n",
      " input_yc (InputLayer)          [(None, 2)]          0           []                               \n",
      "                                                                                                  \n",
      " input_yf (InputLayer)          [(None, 47)]         0           []                               \n",
      "                                                                                                  \n",
      " prediction_coarse (LengthLayer  (None, 2)           0           ['s_caps_coarse[0][0]']          \n",
      " )                                                                                                \n",
      "                                                                                                  \n",
      " prediction_fine (LengthLayer)  (None, 47)           0           ['s_caps_fine[0][0]']            \n",
      "                                                                                                  \n",
      " tf.math.subtract (TFOpLambda)  (None, 2)            0           ['prediction_coarse[0][0]']      \n",
      "                                                                                                  \n",
      " tf.math.subtract_1 (TFOpLambda  (None, 2)           0           ['prediction_coarse[0][0]']      \n",
      " )                                                                                                \n",
      "                                                                                                  \n",
      " tf.math.subtract_3 (TFOpLambda  (None, 47)          0           ['prediction_fine[0][0]']        \n",
      " )                                                                                                \n"
     ]
    },
    {
     "name": "stdout",
     "output_type": "stream",
     "text": [
      "                                                                                                  \n",
      " tf.math.subtract_4 (TFOpLambda  (None, 47)          0           ['prediction_fine[0][0]']        \n",
      " )                                                                                                \n",
      "                                                                                                  \n",
      " tf.math.maximum (TFOpLambda)   (None, 2)            0           ['tf.math.subtract[0][0]']       \n",
      "                                                                                                  \n",
      " tf.math.subtract_2 (TFOpLambda  (None, 2)           0           ['input_yc[0][0]']               \n",
      " )                                                                                                \n",
      "                                                                                                  \n",
      " tf.math.maximum_1 (TFOpLambda)  (None, 2)           0           ['tf.math.subtract_1[0][0]']     \n",
      "                                                                                                  \n",
      " tf.math.maximum_2 (TFOpLambda)  (None, 47)          0           ['tf.math.subtract_3[0][0]']     \n",
      "                                                                                                  \n",
      " tf.math.subtract_5 (TFOpLambda  (None, 47)          0           ['input_yf[0][0]']               \n",
      " )                                                                                                \n",
      "                                                                                                  \n",
      " tf.math.maximum_3 (TFOpLambda)  (None, 47)          0           ['tf.math.subtract_4[0][0]']     \n",
      "                                                                                                  \n",
      " tf.math.square (TFOpLambda)    (None, 2)            0           ['tf.math.maximum[0][0]']        \n",
      "                                                                                                  \n",
      " tf.math.multiply_1 (TFOpLambda  (None, 2)           0           ['tf.math.subtract_2[0][0]']     \n",
      " )                                                                                                \n",
      "                                                                                                  \n",
      " tf.math.square_1 (TFOpLambda)  (None, 2)            0           ['tf.math.maximum_1[0][0]']      \n",
      "                                                                                                  \n",
      " tf.math.square_2 (TFOpLambda)  (None, 47)           0           ['tf.math.maximum_2[0][0]']      \n",
      "                                                                                                  \n",
      " tf.math.multiply_5 (TFOpLambda  (None, 47)          0           ['tf.math.subtract_5[0][0]']     \n",
      " )                                                                                                \n",
      "                                                                                                  \n",
      " tf.math.square_3 (TFOpLambda)  (None, 47)           0           ['tf.math.maximum_3[0][0]']      \n",
      "                                                                                                  \n",
      " tf.math.multiply (TFOpLambda)  (None, 2)            0           ['input_yc[0][0]',               \n",
      "                                                                  'tf.math.square[0][0]']         \n",
      "                                                                                                  \n",
      " tf.math.multiply_2 (TFOpLambda  (None, 2)           0           ['tf.math.multiply_1[0][0]',     \n",
      " )                                                                'tf.math.square_1[0][0]']       \n",
      "                                                                                                  \n",
      " tf.math.multiply_4 (TFOpLambda  (None, 47)          0           ['input_yf[0][0]',               \n",
      " )                                                                'tf.math.square_2[0][0]']       \n",
      "                                                                                                  \n",
      " tf.math.multiply_6 (TFOpLambda  (None, 47)          0           ['tf.math.multiply_5[0][0]',     \n",
      " )                                                                'tf.math.square_3[0][0]']       \n",
      "                                                                                                  \n",
      " tf.math.add (TFOpLambda)       (None, 2)            0           ['tf.math.multiply[0][0]',       \n",
      "                                                                  'tf.math.multiply_2[0][0]']     \n",
      "                                                                                                  \n",
      " tf.math.add_1 (TFOpLambda)     (None, 47)           0           ['tf.math.multiply_4[0][0]',     \n",
      "                                                                  'tf.math.multiply_6[0][0]']     \n",
      "                                                                                                  \n",
      " tf.math.reduce_sum (TFOpLambda  (None,)             0           ['tf.math.add[0][0]']            \n",
      " )                                                                                                \n",
      "                                                                                                  \n",
      " tf.math.reduce_sum_1 (TFOpLamb  (None,)             0           ['tf.math.add_1[0][0]']          \n",
      " da)                                                                                              \n",
      "                                                                                                  \n",
      " tf.math.multiply_3 (TFOpLambda  (None,)             0           ['tf.math.reduce_sum[0][0]']     \n",
      " )                                                                                                \n",
      "                                                                                                  \n",
      " tf.math.multiply_7 (TFOpLambda  (None,)             0           ['tf.math.reduce_sum_1[0][0]']   \n",
      " )                                                                                                \n",
      "                                                                                                  \n",
      " tf.__operators__.add (TFOpLamb  (None,)             0           ['tf.math.multiply_3[0][0]',     \n",
      " da)                                                              'tf.math.multiply_7[0][0]']     \n",
      "                                                                                                  \n",
      " tf.math.reduce_mean (TFOpLambd  ()                  0           ['tf.__operators__.add[0][0]']   \n",
      " a)                                                                                               \n",
      "                                                                                                  \n",
      " add_loss (AddLoss)             ()                   0           ['tf.math.reduce_mean[0][0]']    \n",
      "                                                                                                  \n",
      "==================================================================================================\n",
      "Total params: 4,912,832\n",
      "Trainable params: 4,908,992\n",
      "Non-trainable params: 3,840\n",
      "__________________________________________________________________________________________________\n"
     ]
    }
   ],
   "source": [
    "model.summary()"
   ]
  },
  {
   "cell_type": "markdown",
   "id": "74f72ece",
   "metadata": {},
   "source": [
    "## Data Augmentation"
   ]
  },
  {
   "cell_type": "code",
   "execution_count": 13,
   "id": "35f28f4d",
   "metadata": {},
   "outputs": [],
   "source": [
    "datagen = ImageDataGenerator(width_shift_range=0.1,\n",
    "                            height_shift_range=0.1)\n",
    "\n",
    "training_generator = MixUp_add_loss.MixupGenerator_2level(dataset['x_train'],\n",
    "                                                 dataset['y_train_coarse'],\n",
    "                                                 dataset['y_train_fine'],\n",
    "                                                 batch_size=train_params[\"batch_size\"],\n",
    "                                                 alpha=0.2, \n",
    "                                                 datagen=datagen\n",
    "                                                )()"
   ]
  },
  {
   "cell_type": "markdown",
   "id": "cb67d719",
   "metadata": {},
   "source": [
    "## Callback"
   ]
  },
  {
   "cell_type": "code",
   "execution_count": 14,
   "id": "9e0a123c",
   "metadata": {},
   "outputs": [],
   "source": [
    "tb = keras.callbacks.TensorBoard(directory+'./tb_logs'+ datetime.now().strftime(\"%Y%m%d-%H%M%S\"))\n",
    "log = keras.callbacks.CSVLogger(directory+'/log.csv', append=True)\n",
    "\n",
    "checkpoint = keras.callbacks.ModelCheckpoint(directory+'/epoch-best.h5',\n",
    "                                             monitor='val_prediction_fine_accuracy',\n",
    "                                             save_best_only=True, \n",
    "                                             save_weights_only=True, \n",
    "                                             verbose=1)\n",
    "\n",
    "change_lw = models.LossWeightsModifier(lossweight = lossweight,\n",
    "                                       initial_lw = initial_lw,\n",
    "                                       directory = directory)\n",
    "\n",
    "lr_decay = keras.callbacks.LearningRateScheduler(scheduler)"
   ]
  },
  {
   "cell_type": "markdown",
   "id": "bdc176a2",
   "metadata": {},
   "source": [
    "## Model Training"
   ]
  },
  {
   "cell_type": "code",
   "execution_count": 15,
   "id": "eac4a0be",
   "metadata": {
    "scrolled": true
   },
   "outputs": [
    {
     "name": "stdout",
     "output_type": "stream",
     "text": [
      "WARNING:tensorflow:Model failed to serialize as JSON. Ignoring... Layer tf.math.multiply_3 was passed non-JSON-serializable arguments. Arguments had types: {'y': <class 'tensorflow.python.ops.resource_variable_ops.ResourceVariable'>, 'name': <class 'NoneType'>}. They cannot be serialized out when saving the model.\n",
      "Epoch 1/2\n",
      "   5/1762 [..............................] - ETA: 50s - loss: 0.2416 - prediction_coarse_accuracy: 0.6750 - prediction_fine_accuracy: 0.0188  WARNING:tensorflow:Callback method `on_train_batch_end` is slow compared to the batch time (batch time: 0.0210s vs `on_train_batch_end` time: 0.0277s). Check your callbacks.\n",
      "1762/1762 [==============================] - ETA: 0s - loss: 0.1001 - prediction_coarse_accuracy: 0.8901 - prediction_fine_accuracy: 0.2574\n",
      "\u001b[91m \u001b[1m • Coarse Accuracy = 89.01% | Val_Accuracy = 92.56% | LossWeight = 0.78 \u001b[0m\n",
      "\u001b[91m \u001b[1m • Fine   Accuracy = 25.74% | Val_Accuracy = 58.90% | LossWeight = 0.22 \u001b[0m\n",
      "\n",
      "Epoch 1: val_prediction_fine_accuracy improved from -inf to 0.58899, saving model to ../../logs/1_EMNIST/HD_CapsNet/Mod_3_2\\epoch-best.h5\n",
      "1762/1762 [==============================] - 67s 33ms/step - loss: 0.1001 - prediction_coarse_accuracy: 0.8901 - prediction_fine_accuracy: 0.2574 - val_loss: 0.0614 - val_prediction_coarse_accuracy: 0.9256 - val_prediction_fine_accuracy: 0.5890 - lr: 0.0010\n",
      "Epoch 2/2\n",
      "1762/1762 [==============================] - ETA: 0s - loss: 0.0968 - prediction_coarse_accuracy: 0.9220 - prediction_fine_accuracy: 0.8106\n",
      "\u001b[91m \u001b[1m • Coarse Accuracy = 92.20% | Val_Accuracy = 92.53% | LossWeight = 0.91 \u001b[0m\n",
      "\u001b[91m \u001b[1m • Fine   Accuracy = 81.06% | Val_Accuracy = 86.14% | LossWeight = 0.09 \u001b[0m\n",
      "\n",
      "Epoch 2: val_prediction_fine_accuracy improved from 0.58899 to 0.86138, saving model to ../../logs/1_EMNIST/HD_CapsNet/Mod_3_2\\epoch-best.h5\n",
      "1762/1762 [==============================] - 64s 36ms/step - loss: 0.0968 - prediction_coarse_accuracy: 0.9220 - prediction_fine_accuracy: 0.8106 - val_loss: 0.0579 - val_prediction_coarse_accuracy: 0.9253 - val_prediction_fine_accuracy: 0.8614 - lr: 0.0010\n"
     ]
    }
   ],
   "source": [
    "model_save_dir = str(directory+'/trained_model.h5')\n",
    "try:\n",
    "    model.load_weights(model_save_dir)\n",
    "except:\n",
    "    history = model.fit(training_generator,\n",
    "                        steps_per_epoch = int(dataset['x_train'].shape[0] / train_params[\"batch_size\"]),\n",
    "                        epochs = train_params[\"n_epochs\"],\n",
    "                        validation_data = ([dataset['x_test'], dataset['y_test_coarse'], dataset['y_test_fine']],\n",
    "                                           [dataset['y_test_coarse'],dataset['y_test_fine']]\n",
    "                                          ),\n",
    "                        callbacks = [tb,log,change_lw,lr_decay,checkpoint],\n",
    "                        verbose=1\n",
    "                       )\n",
    "    \n",
    "    model.save_weights(model_save_dir)"
   ]
  },
  {
   "cell_type": "code",
   "execution_count": 16,
   "id": "588d7b95",
   "metadata": {},
   "outputs": [
    {
     "data": {
      "image/png": "[encoded data removed]",
      "text/plain": [
       "<Figure size 432x288 with 1 Axes>"
      ]
     },
     "metadata": {
      "needs_background": "light"
     },
     "output_type": "display_data"
    }
   ],
   "source": [
    "try:\n",
    "    history_dict = history.history\n",
    "\n",
    "    plotter = tfdocs.plots.HistoryPlotter()\n",
    "    plotter.plot({\"Coarse\": history}, metric = \"prediction_coarse_accuracy\")\n",
    "    plotter.plot({\"Fine\": history}, metric = \"prediction_fine_accuracy\")\n",
    "    plt.title(\"Model Accuracy\")\n",
    "    plt.ylim([0,1])\n",
    "except:\n",
    "    print('Trained model weights loaded')"
   ]
  },
  {
   "cell_type": "code",
   "execution_count": 17,
   "id": "25f47f98",
   "metadata": {},
   "outputs": [
    {
     "data": {
      "image/png": "[encoded data removed]",
      "text/plain": [
       "<Figure size 432x288 with 1 Axes>"
      ]
     },
     "metadata": {
      "needs_background": "light"
     },
     "output_type": "display_data"
    }
   ],
   "source": [
    "try:\n",
    "    plotter = tfdocs.plots.HistoryPlotter()\n",
    "    plotter.plot({\"loss\": history}, metric = \"loss\")\n",
    "    plt.title(\"Model Loss\")\n",
    "    plt.ylim([0,1])\n",
    "except:\n",
    "    print('Trained model weights loaded')"
   ]
  },
  {
   "cell_type": "markdown",
   "id": "0f08f53b",
   "metadata": {},
   "source": [
    "## Model Analysis"
   ]
  },
  {
   "cell_type": "code",
   "execution_count": 18,
   "id": "fa6652e0",
   "metadata": {},
   "outputs": [],
   "source": [
    "final_model = keras.Model(model.inputs[:1], model.output)\n",
    "\n",
    "lossfn = models.MarginLoss()\n",
    "final_model.compile(optimizer='adam', \n",
    "                    loss={'prediction_fine' : lossfn,\n",
    "                          'prediction_coarse' : lossfn},\n",
    "\n",
    "                    loss_weights={'prediction_fine' : lossweight['fine_lw'],\n",
    "                                  'prediction_coarse' : lossweight['coarse_lw']\n",
    "                                 },\n",
    "\n",
    "                    metrics={'prediction_fine': 'accuracy',\n",
    "                             'prediction_coarse': 'accuracy'\n",
    "                            }\n",
    "                   )"
   ]
  },
  {
   "cell_type": "code",
   "execution_count": 19,
   "id": "93ed4e40",
   "metadata": {},
   "outputs": [
    {
     "name": "stdout",
     "output_type": "stream",
     "text": [
      "588/588 [==============================] - 9s 13ms/step - loss: 0.0507 - prediction_coarse_loss: 0.0455 - prediction_fine_loss: 0.1012 - prediction_coarse_accuracy: 0.9253 - prediction_fine_accuracy: 0.8614\n",
      "1. loss ==> 0.05068812146782875\n",
      "2. prediction_coarse_loss ==> 0.04547092318534851\n",
      "3. prediction_fine_loss ==> 0.10117398202419281\n",
      "4. prediction_coarse_accuracy ==> 0.9253191351890564\n",
      "5. prediction_fine_accuracy ==> 0.8613829612731934\n",
      "588/588 [==============================] - 5s 9ms/step\n"
     ]
    },
    {
     "data": {
      "image/png": "[encoded data removed]",
      "text/plain": [
       "<Figure size 1440x1440 with 10 Axes>"
      ]
     },
     "metadata": {},
     "output_type": "display_data"
    }
   ],
   "source": [
    "model_analysis = models.model_analysis(final_model, dataset)\n",
    "results = model_analysis.evaluate()\n",
    "predictions = model_analysis.prediction()"
   ]
  },
  {
   "cell_type": "code",
   "execution_count": null,
   "id": "f67911a8",
   "metadata": {},
   "outputs": [
    {
     "name": "stdout",
     "output_type": "stream",
     "text": [
      "\u001b[91m \u001b[1m • Confusion_Matrix \u001b[0m\n",
      "\n",
      "\u001b[91m \u001b[1m • COARSE LEVEL \u001b[0m\n",
      "[[ 3465   535]\n",
      " [  869 13931]]\n",
      "\n",
      "\u001b[91m \u001b[1m • FINE LEVEL \u001b[0m\n",
      "[[329   0   0 ...   0   0   0]\n",
      " [  0 275   4 ...   0   0   0]\n",
      " [  0   0 357 ...   0   0   0]\n",
      " ...\n",
      " [  1   0   0 ... 191   0   0]\n",
      " [  0   0   0 ...   0 358   2]\n",
      " [  0   1   0 ...   0   2 371]]\n",
      "\n",
      "\u001b[91m \u001b[1m • Classification Report \u001b[0m\n",
      "\n",
      "\n",
      "\u001b[91m \u001b[1m • COARSE LEVEL \u001b[0m\n"
     ]
    },
    {
     "data": {
      "image/png": "[encoded data removed]",
      "text/plain": [
       "<Figure size 432x288 with 2 Axes>"
      ]
     },
     "metadata": {
      "needs_background": "light"
     },
     "output_type": "display_data"
    },
    {
     "name": "stdout",
     "output_type": "stream",
     "text": [
      "              precision    recall  f1-score   support\n",
      "\n",
      "           0    0.79949   0.86625   0.83153      4000\n",
      "           1    0.96302   0.94128   0.95203     14800\n",
      "\n",
      "    accuracy                        0.92532     18800\n",
      "   macro avg    0.88125   0.90377   0.89178     18800\n",
      "weighted avg    0.92822   0.92532   0.92639     18800\n",
      "\n",
      "\n",
      "\u001b[91m \u001b[1m • FINE LEVEL \u001b[0m\n"
     ]
    }
   ],
   "source": [
    "true_label = [dataset['y_test_coarse'],dataset['y_test_fine']]\n",
    "pred_label = [predictions[0],predictions[1]]\n",
    "metrics.lvl_wise_metric(true_label,pred_label)"
   ]
  },
  {
   "cell_type": "code",
   "execution_count": null,
   "id": "91eb4db7",
   "metadata": {},
   "outputs": [],
   "source": [
    "h_measurements,consistency,exact_match = metrics.hmeasurements(true_label,\n",
    "                                                               pred_label,\n",
    "                                                               dataset['tree']\n",
    "                                                              )\n",
    "print('\\nHierarchical Precision =',h_measurements[0],\n",
    "      '\\nHierarchical Recall =', h_measurements[1],\n",
    "      '\\nHierarchical F1-Score =',h_measurements[2],\n",
    "      '\\nConsistency = ', consistency,\n",
    "      '\\nExact Match = ', exact_match,\n",
    "     )"
   ]
  },
  {
   "cell_type": "code",
   "execution_count": null,
   "id": "92b98d56",
   "metadata": {},
   "outputs": [],
   "source": []
  }
 ],
 "metadata": {
  "kernelspec": {
   "display_name": "Python 3 (ipykernel)",
   "language": "python",
   "name": "python3"
  },
  "language_info": {
   "codemirror_mode": {
    "name": "ipython",
    "version": 3
   },
   "file_extension": ".py",
   "mimetype": "text/x-python",
   "name": "python",
   "nbconvert_exporter": "python",
   "pygments_lexer": "ipython3",
   "version": "3.8.12"
  },
  "toc": {
   "base_numbering": 1,
   "nav_menu": {},
   "number_sections": true,
   "sideBar": true,
   "skip_h1_title": false,
   "title_cell": "Table of Contents",
   "title_sidebar": "Contents",
   "toc_cell": false,
   "toc_position": {
    "height": "calc(100% - 180px)",
    "left": "10px",
    "top": "150px",
    "width": "321px"
   },
   "toc_section_display": true,
   "toc_window_display": true
  }
 },
 "nbformat": 4,
 "nbformat_minor": 5
}
