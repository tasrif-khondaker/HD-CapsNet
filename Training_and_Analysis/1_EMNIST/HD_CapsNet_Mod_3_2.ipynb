{
 "cells": [
  {
   "cell_type": "markdown",
   "id": "6b24df6d",
   "metadata": {},
   "source": [
    "***\n",
    "<font size=\"6\"><center><b> HD-CapsNet: A Hierarchical Deep Capsule Network for Image Classification </b></center></font>\n",
    "***"
   ]
  },
  {
   "cell_type": "markdown",
   "id": "f691c83f",
   "metadata": {},
   "source": [
    "**Changing Model Architecture**\n",
    "- **(Mod-3.2)** 16-D > 8-D (Coarse > FINE) use skip connections between Secondary Capsules $Concatenate([P_{caps}, S_{coarse}])$ > input for $S_{medium}$ and $Concatenate([P_{caps}, S_{medium}])$ > input for $S_{fine}$\n",
    "- Without $L_{Cons}$"
   ]
  },
  {
   "cell_type": "markdown",
   "id": "9ae9d6d5",
   "metadata": {},
   "source": [
    "# Files and Libraries"
   ]
  },
  {
   "cell_type": "code",
   "execution_count": 1,
   "id": "bc4aa737",
   "metadata": {},
   "outputs": [],
   "source": [
    "import tensorflow as tf\n",
    "from tensorflow import keras\n",
    "from tensorflow.keras.preprocessing.image import ImageDataGenerator\n",
    "from tensorflow.keras.models import Sequential\n",
    "from tensorflow.keras.layers import Dense, Activation, Flatten, Dropout, BatchNormalization\n",
    "from tensorflow.keras.layers import Conv2D, MaxPooling2D\n",
    "from tensorflow.keras import regularizers, optimizers\n",
    "from tensorflow.keras import backend as K\n",
    "\n",
    "import tensorflow_docs as tfdocs\n",
    "import tensorflow_docs.plots\n",
    "\n",
    "# Supporting Libraries:\n",
    "    #Mathplot lib for ploting graphs\n",
    "%matplotlib inline\n",
    "import matplotlib\n",
    "import matplotlib.pyplot as plt\n",
    "    # numpy and pandas\n",
    "import numpy as np\n",
    "import pandas as pd\n",
    "    #system\n",
    "import os\n",
    "import sys\n",
    "import csv\n",
    "    #import other libraries\n",
    "import math\n",
    "import random\n",
    "from datetime import datetime\n",
    "from treelib import Tree\n",
    "    # ML model, Dataset and evalution metrics\n",
    "sys.path.append('../../') ### adding system parth for src folder\n",
    "from src import datasets # load datasets\n",
    "from src import MixUp # load datasets\n",
    "from src import MixUp_add_loss # load datasets\n",
    "from src import metrics # load hierarchcial metrics\n",
    "from src import sysenv # load hierarchcial metrics\n",
    "from src import models # load machine learning models\n",
    "\n",
    "    ## Tensorflow_docs\n",
    "import tensorflow_docs as tfdocs\n",
    "import tensorflow_docs.plots\n",
    "\n",
    "    # Auto reload local libraries if updated\n",
    "%load_ext autoreload\n",
    "%autoreload 2"
   ]
  },
  {
   "cell_type": "markdown",
   "id": "3c2c610b",
   "metadata": {},
   "source": [
    "# System information & GPU growth"
   ]
  },
  {
   "cell_type": "code",
   "execution_count": 2,
   "id": "506c959d",
   "metadata": {},
   "outputs": [
    {
     "name": "stdout",
     "output_type": "stream",
     "text": [
      "\u001b[91m\u001b[1m\n",
      "• Computer Name = \u001b[0m30BFPC1AXW95\u001b[91m\u001b[1m\n",
      "• Working Directory = \u001b[0mC:\\Users\\knoor\\OneDrive - Deakin University\\Deep Learning with Python\\Google_Drive\\Projects\\Deep Learning\\HD-CapsNet\\Training_and_Analysis\\1_EMNIST\u001b[91m\u001b[1m\n",
      "• Python Version = \u001b[0m3.8.12 (default, Oct 12 2021, 03:01:40) [MSC v.1916 64 bit (AMD64)]\u001b[91m\u001b[1m\n",
      "• TensorFlow Version = \u001b[0m2.8.0\u001b[91m\u001b[1m\n",
      "• Keras Version = \u001b[0m2.8.0\u001b[91m\u001b[1m\n",
      "• Current Environment = \u001b[0mAnaconda Environment Name : py38tf\n"
     ]
    }
   ],
   "source": [
    "systeminfo = sysenv.systeminfo()\n",
    "print(systeminfo)"
   ]
  },
  {
   "cell_type": "code",
   "execution_count": 3,
   "id": "832d5a45",
   "metadata": {},
   "outputs": [
    {
     "name": "stdout",
     "output_type": "stream",
     "text": [
      "Following GPUS are selected =  0\n",
      "Done: GPU PhysicalDevice(name='/physical_device:GPU:0', device_type='GPU')\n",
      "1 Physical GPUs, 1 Logical GPUs\n"
     ]
    }
   ],
   "source": [
    "gpus = \"0,1,2,3,4,5,6,7\" ## Selecting Available gpus (Multi-GPUS)\n",
    "gpus = \"0\" ## Selecting Available gpus (Single GPU)\n",
    "gpugrowth = sysenv.gpugrowth(gpus = gpus) ## Limiting GPUS from OS environment\n",
    "gpugrowth.memory_growth() #GPU memory growth"
   ]
  },
  {
   "cell_type": "markdown",
   "id": "cd551837",
   "metadata": {},
   "source": [
    "# Parameters"
   ]
  },
  {
   "cell_type": "code",
   "execution_count": 4,
   "id": "445ee1d5",
   "metadata": {},
   "outputs": [],
   "source": [
    "train_params = {\"n_epochs\" : 100,\n",
    "                \"batch_size\": 64,\n",
    "                \"lr\": 0.001, # Initial learning rate\n",
    "                \"lr_decay\": 0.95, # Learning rate decay\n",
    "                \"decay_exe\": 9, #learning rate decay execution epoch after\n",
    "               }\n",
    "model_params = {\"optimizer\": tf.keras.optimizers.Adam(train_params['lr']),\n",
    "                \"loss_function\": models.MarginLoss(),\n",
    "               }"
   ]
  },
  {
   "cell_type": "markdown",
   "id": "ad98815c",
   "metadata": {},
   "source": [
    "# log directory"
   ]
  },
  {
   "cell_type": "code",
   "execution_count": 5,
   "id": "63ace371",
   "metadata": {
    "scrolled": true
   },
   "outputs": [
    {
     "name": "stdout",
     "output_type": "stream",
     "text": [
      "Warning: Folder already exist.\n"
     ]
    }
   ],
   "source": [
    "directory = sysenv.log_dir('1_EMNIST/HD_CapsNet/Mod_3_2')"
   ]
  },
  {
   "cell_type": "markdown",
   "id": "9cfde972",
   "metadata": {},
   "source": [
    "# Import Dataset : FMNIST"
   ]
  },
  {
   "cell_type": "code",
   "execution_count": 6,
   "id": "4714d33f",
   "metadata": {},
   "outputs": [
    {
     "name": "stdout",
     "output_type": "stream",
     "text": [
      "EMNIST dataset: Training have 112,800 samples and testing have 18,800 samples\n"
     ]
    }
   ],
   "source": [
    "dataset = datasets.E_MNIST(version = 'ALL') # importing Dataset\n",
    "# dataset = datasets.E_MNIST(version = 'reduce') # importing Dataset"
   ]
  },
  {
   "cell_type": "markdown",
   "id": "3f38ee07",
   "metadata": {},
   "source": [
    "## Learning Rate Decay Scheduler"
   ]
  },
  {
   "cell_type": "code",
   "execution_count": 7,
   "id": "3ed77d4a",
   "metadata": {},
   "outputs": [],
   "source": [
    "def scheduler(epoch):\n",
    "    learning_rate_init = train_params[\"lr\"]\n",
    "    \n",
    "    if epoch > train_params[\"decay_exe\"]:\n",
    "        learning_rate_init = train_params[\"lr\"] * (train_params[\"lr_decay\"] ** (epoch-9))\n",
    "        \n",
    "    tf.summary.scalar('learning rate', data=learning_rate_init, step=epoch)\n",
    "        \n",
    "    return learning_rate_init"
   ]
  },
  {
   "cell_type": "markdown",
   "id": "dfc5ea00",
   "metadata": {},
   "source": [
    "# Model Architecture"
   ]
  },
  {
   "cell_type": "markdown",
   "id": "dee6349a",
   "metadata": {},
   "source": [
    "## Loss Function"
   ]
  },
  {
   "cell_type": "code",
   "execution_count": 8,
   "id": "215a7b0c",
   "metadata": {},
   "outputs": [],
   "source": [
    "number_of_classes_c = len(np.unique(np.argmax(dataset['y_train_coarse'], axis=1)))\n",
    "number_of_classes_f = len(np.unique(np.argmax(dataset['y_train_fine'], axis=1)))\n",
    "\n",
    "## For Dynamic LossWeights\n",
    "initial_lw = models.initial_lw({\"coarse\": number_of_classes_c,\n",
    "                                \"fine\": number_of_classes_f})\n",
    "\n",
    "lossweight = {'coarse_lw' : K.variable(value = initial_lw['coarse'], dtype=\"float32\", name=\"coarse_lw\"),\n",
    "             'fine_lw' : K.variable(value = initial_lw['fine'], dtype=\"float32\", name=\"fine_lw\"),\n",
    "              'consistency_lw' : 0.0\n",
    "             }"
   ]
  },
  {
   "cell_type": "code",
   "execution_count": 9,
   "id": "796bab2a",
   "metadata": {},
   "outputs": [],
   "source": [
    "def margin_loss(y_true, y_proba):\n",
    "    \n",
    "    present_error_raw = tf.square(tf.maximum(0., 0.9 - y_proba), name=\"present_error_raw\")\n",
    "    absent_error_raw = tf.square(tf.maximum(0., y_proba - 0.1), name=\"absent_error_raw\")\n",
    "    L = tf.add(y_true * present_error_raw, 0.5 * (1.0 - y_true) * absent_error_raw,name=\"L\")\n",
    "    total_marginloss = tf.reduce_sum(L, axis=1, name=\"margin_loss\")\n",
    "\n",
    "    return total_marginloss\n",
    "\n",
    "def CustomLoss(y_true_c, y_true_f, y_pred_c, y_pred_f, LW_C, LW_F):\n",
    "   \n",
    "    ML_c = margin_loss(y_true_c, y_pred_c)*LW_C\n",
    "    ML_f = margin_loss(y_true_f, y_pred_f)*LW_F\n",
    "    batch_loss = ML_c + ML_f\n",
    "    return tf.reduce_mean(batch_loss)"
   ]
  },
  {
   "cell_type": "markdown",
   "id": "6a497572",
   "metadata": {},
   "source": [
    "## Architecture"
   ]
  },
  {
   "cell_type": "code",
   "execution_count": 10,
   "id": "f935c049",
   "metadata": {},
   "outputs": [],
   "source": [
    "def get_compiled_model():\n",
    "    \n",
    "    ## Calling the HD-CapsNet Model\n",
    "    model = models.HD_CapsNet_Mod_3_2(input_shape     = dataset['x_train'].shape[1:], \n",
    "                                      input_shape_yc  = dataset['y_train_coarse'].shape[1:],\n",
    "                                      input_shape_yf  = dataset['y_train_fine'].shape[1:], \n",
    "                                      no_coarse_class = number_of_classes_c,\n",
    "                                      no_fine_class   = number_of_classes_f,\n",
    "                                      PCap_n_dims     = 8, \n",
    "                                      SCap_f_dims     = 8,\n",
    "                                      SCap_c_dims     = 16\n",
    "                                     )\n",
    "    \n",
    "    ## Saving Model Architecture\n",
    "    keras.utils.plot_model(model, to_file = directory+\"/Architecture.png\", show_shapes=True)\n",
    "    \n",
    "    ## Add Loss for Model\n",
    "    model.add_loss(CustomLoss(y_true_c            = model.inputs[1],\n",
    "                              y_true_f            = model.inputs[2], \n",
    "                              y_pred_c            = model.output[0],\n",
    "                              y_pred_f            = model.output[1], \n",
    "                              LW_C                = lossweight['coarse_lw'],\n",
    "                              LW_F                = lossweight['fine_lw']\n",
    "                             )\n",
    "                  )\n",
    "    \n",
    "    ## Compile Model\n",
    "    model.compile(optimizer='adam',                  \n",
    "                  metrics={'prediction_fine': 'accuracy',\n",
    "                           'prediction_coarse': 'accuracy'}\n",
    "                 )\n",
    "    return model"
   ]
  },
  {
   "cell_type": "markdown",
   "id": "86393b7d",
   "metadata": {},
   "source": [
    "## Compile Model"
   ]
  },
  {
   "cell_type": "code",
   "execution_count": 11,
   "id": "19234f8b",
   "metadata": {},
   "outputs": [
    {
     "name": "stdout",
     "output_type": "stream",
     "text": [
      "WARNING:tensorflow:The following Variables were used in a Lambda layer's call (tf.math.multiply_3), but are not present in its tracked objects:   <tf.Variable 'coarse_lw:0' shape=() dtype=float32>. This is a strong indication that the Lambda layer should be rewritten as a subclassed Layer.\n",
      "WARNING:tensorflow:The following Variables were used in a Lambda layer's call (tf.math.multiply_7), but are not present in its tracked objects:   <tf.Variable 'fine_lw:0' shape=() dtype=float32>. This is a strong indication that the Lambda layer should be rewritten as a subclassed Layer.\n"
     ]
    }
   ],
   "source": [
    "model = get_compiled_model()"
   ]
  },
  {
   "cell_type": "raw",
   "id": "7fafa5af",
   "metadata": {},
   "source": [
    "strategy = models.multi_gpu_select('windows')\n",
    "\n",
    "print(\"Number of devices: {}\".format(strategy.num_replicas_in_sync))\n",
    "\n",
    "with strategy.scope():\n",
    "    # Everything that creates variables should be under the strategy scope.\n",
    "    # In general this is only model construction & `compile()`.\n",
    "    model = get_compiled_model()"
   ]
  },
  {
   "cell_type": "code",
   "execution_count": 12,
   "id": "a1e4b982",
   "metadata": {
    "scrolled": true
   },
   "outputs": [
    {
     "name": "stdout",
     "output_type": "stream",
     "text": [
      "Model: \"HD-CapsNet\"\n",
      "__________________________________________________________________________________________________\n",
      " Layer (type)                   Output Shape         Param #     Connected to                     \n",
      "==================================================================================================\n",
      " Input_Image (InputLayer)       [(None, 28, 28, 1)]  0           []                               \n",
      "                                                                                                  \n",
      " block1_conv1 (Conv2D)          (None, 28, 28, 64)   640         ['Input_Image[0][0]']            \n",
      "                                                                                                  \n",
      " batch_normalization (BatchNorm  (None, 28, 28, 64)  256         ['block1_conv1[0][0]']           \n",
      " alization)                                                                                       \n",
      "                                                                                                  \n",
      " block1_conv2 (Conv2D)          (None, 28, 28, 64)   36928       ['batch_normalization[0][0]']    \n",
      "                                                                                                  \n",
      " batch_normalization_1 (BatchNo  (None, 28, 28, 64)  256         ['block1_conv2[0][0]']           \n",
      " rmalization)                                                                                     \n",
      "                                                                                                  \n",
      " block1_pool (MaxPooling2D)     (None, 14, 14, 64)   0           ['batch_normalization_1[0][0]']  \n",
      "                                                                                                  \n",
      " block2_conv1 (Conv2D)          (None, 14, 14, 128)  73856       ['block1_pool[0][0]']            \n",
      "                                                                                                  \n",
      " batch_normalization_2 (BatchNo  (None, 14, 14, 128)  512        ['block2_conv1[0][0]']           \n",
      " rmalization)                                                                                     \n",
      "                                                                                                  \n",
      " block2_conv2 (Conv2D)          (None, 14, 14, 128)  147584      ['batch_normalization_2[0][0]']  \n",
      "                                                                                                  \n",
      " batch_normalization_3 (BatchNo  (None, 14, 14, 128)  512        ['block2_conv2[0][0]']           \n",
      " rmalization)                                                                                     \n",
      "                                                                                                  \n",
      " block2_pool (MaxPooling2D)     (None, 7, 7, 128)    0           ['batch_normalization_3[0][0]']  \n",
      "                                                                                                  \n",
      " block3_conv1 (Conv2D)          (None, 7, 7, 256)    295168      ['block2_pool[0][0]']            \n",
      "                                                                                                  \n",
      " batch_normalization_4 (BatchNo  (None, 7, 7, 256)   1024        ['block3_conv1[0][0]']           \n",
      " rmalization)                                                                                     \n",
      "                                                                                                  \n",
      " block3_conv2 (Conv2D)          (None, 7, 7, 256)    590080      ['batch_normalization_4[0][0]']  \n",
      "                                                                                                  \n",
      " batch_normalization_5 (BatchNo  (None, 7, 7, 256)   1024        ['block3_conv2[0][0]']           \n",
      " rmalization)                                                                                     \n",
      "                                                                                                  \n",
      " block3_pool (MaxPooling2D)     (None, 3, 3, 256)    0           ['batch_normalization_5[0][0]']  \n",
      "                                                                                                  \n",
      " block4_conv1 (Conv2D)          (None, 3, 3, 512)    1180160     ['block3_pool[0][0]']            \n",
      "                                                                                                  \n",
      " batch_normalization_6 (BatchNo  (None, 3, 3, 512)   2048        ['block4_conv1[0][0]']           \n",
      " rmalization)                                                                                     \n",
      "                                                                                                  \n",
      " block4_conv2 (Conv2D)          (None, 3, 3, 512)    2359808     ['batch_normalization_6[0][0]']  \n",
      "                                                                                                  \n",
      " batch_normalization_7 (BatchNo  (None, 3, 3, 512)   2048        ['block4_conv2[0][0]']           \n",
      " rmalization)                                                                                     \n",
      "                                                                                                  \n",
      " block4_pool (MaxPooling2D)     (None, 1, 1, 512)    0           ['batch_normalization_7[0][0]']  \n",
      "                                                                                                  \n",
      " reshape_layer (Reshape)        (None, 64, 8)        0           ['block4_pool[0][0]']            \n",
      "                                                                                                  \n",
      " p_caps (Lambda)                (None, 64, 8)        0           ['reshape_layer[0][0]']          \n",
      "                                                                                                  \n",
      " s_caps_coarse (SecondaryCapsul  (None, 2, 16)       16384       ['p_caps[0][0]']                 \n",
      " e)                                                                                               \n",
      "                                                                                                  \n",
      " primary_skip_f (Reshape)       (None, 32, 16)       0           ['p_caps[0][0]']                 \n",
      "                                                                                                  \n",
      " skip_connection_f (Concatenate  (None, 34, 16)      0           ['primary_skip_f[0][0]',         \n",
      " )                                                                's_caps_coarse[0][0]']          \n",
      "                                                                                                  \n",
      " s_caps_fine (SecondaryCapsule)  (None, 47, 8)       204544      ['skip_connection_f[0][0]']      \n",
      "                                                                                                  \n",
      " input_yc (InputLayer)          [(None, 2)]          0           []                               \n",
      "                                                                                                  \n",
      " input_yf (InputLayer)          [(None, 47)]         0           []                               \n",
      "                                                                                                  \n",
      " prediction_coarse (LengthLayer  (None, 2)           0           ['s_caps_coarse[0][0]']          \n",
      " )                                                                                                \n",
      "                                                                                                  \n",
      " prediction_fine (LengthLayer)  (None, 47)           0           ['s_caps_fine[0][0]']            \n",
      "                                                                                                  \n",
      " tf.math.subtract (TFOpLambda)  (None, 2)            0           ['prediction_coarse[0][0]']      \n",
      "                                                                                                  \n",
      " tf.math.subtract_1 (TFOpLambda  (None, 2)           0           ['prediction_coarse[0][0]']      \n",
      " )                                                                                                \n",
      "                                                                                                  \n",
      " tf.math.subtract_3 (TFOpLambda  (None, 47)          0           ['prediction_fine[0][0]']        \n",
      " )                                                                                                \n"
     ]
    },
    {
     "name": "stdout",
     "output_type": "stream",
     "text": [
      "                                                                                                  \n",
      " tf.math.subtract_4 (TFOpLambda  (None, 47)          0           ['prediction_fine[0][0]']        \n",
      " )                                                                                                \n",
      "                                                                                                  \n",
      " tf.math.maximum (TFOpLambda)   (None, 2)            0           ['tf.math.subtract[0][0]']       \n",
      "                                                                                                  \n",
      " tf.math.subtract_2 (TFOpLambda  (None, 2)           0           ['input_yc[0][0]']               \n",
      " )                                                                                                \n",
      "                                                                                                  \n",
      " tf.math.maximum_1 (TFOpLambda)  (None, 2)           0           ['tf.math.subtract_1[0][0]']     \n",
      "                                                                                                  \n",
      " tf.math.maximum_2 (TFOpLambda)  (None, 47)          0           ['tf.math.subtract_3[0][0]']     \n",
      "                                                                                                  \n",
      " tf.math.subtract_5 (TFOpLambda  (None, 47)          0           ['input_yf[0][0]']               \n",
      " )                                                                                                \n",
      "                                                                                                  \n",
      " tf.math.maximum_3 (TFOpLambda)  (None, 47)          0           ['tf.math.subtract_4[0][0]']     \n",
      "                                                                                                  \n",
      " tf.math.square (TFOpLambda)    (None, 2)            0           ['tf.math.maximum[0][0]']        \n",
      "                                                                                                  \n",
      " tf.math.multiply_1 (TFOpLambda  (None, 2)           0           ['tf.math.subtract_2[0][0]']     \n",
      " )                                                                                                \n",
      "                                                                                                  \n",
      " tf.math.square_1 (TFOpLambda)  (None, 2)            0           ['tf.math.maximum_1[0][0]']      \n",
      "                                                                                                  \n",
      " tf.math.square_2 (TFOpLambda)  (None, 47)           0           ['tf.math.maximum_2[0][0]']      \n",
      "                                                                                                  \n",
      " tf.math.multiply_5 (TFOpLambda  (None, 47)          0           ['tf.math.subtract_5[0][0]']     \n",
      " )                                                                                                \n",
      "                                                                                                  \n",
      " tf.math.square_3 (TFOpLambda)  (None, 47)           0           ['tf.math.maximum_3[0][0]']      \n",
      "                                                                                                  \n",
      " tf.math.multiply (TFOpLambda)  (None, 2)            0           ['input_yc[0][0]',               \n",
      "                                                                  'tf.math.square[0][0]']         \n",
      "                                                                                                  \n",
      " tf.math.multiply_2 (TFOpLambda  (None, 2)           0           ['tf.math.multiply_1[0][0]',     \n",
      " )                                                                'tf.math.square_1[0][0]']       \n",
      "                                                                                                  \n",
      " tf.math.multiply_4 (TFOpLambda  (None, 47)          0           ['input_yf[0][0]',               \n",
      " )                                                                'tf.math.square_2[0][0]']       \n",
      "                                                                                                  \n",
      " tf.math.multiply_6 (TFOpLambda  (None, 47)          0           ['tf.math.multiply_5[0][0]',     \n",
      " )                                                                'tf.math.square_3[0][0]']       \n",
      "                                                                                                  \n",
      " tf.math.add (TFOpLambda)       (None, 2)            0           ['tf.math.multiply[0][0]',       \n",
      "                                                                  'tf.math.multiply_2[0][0]']     \n",
      "                                                                                                  \n",
      " tf.math.add_1 (TFOpLambda)     (None, 47)           0           ['tf.math.multiply_4[0][0]',     \n",
      "                                                                  'tf.math.multiply_6[0][0]']     \n",
      "                                                                                                  \n",
      " tf.math.reduce_sum (TFOpLambda  (None,)             0           ['tf.math.add[0][0]']            \n",
      " )                                                                                                \n",
      "                                                                                                  \n",
      " tf.math.reduce_sum_1 (TFOpLamb  (None,)             0           ['tf.math.add_1[0][0]']          \n",
      " da)                                                                                              \n",
      "                                                                                                  \n",
      " tf.math.multiply_3 (TFOpLambda  (None,)             0           ['tf.math.reduce_sum[0][0]']     \n",
      " )                                                                                                \n",
      "                                                                                                  \n",
      " tf.math.multiply_7 (TFOpLambda  (None,)             0           ['tf.math.reduce_sum_1[0][0]']   \n",
      " )                                                                                                \n",
      "                                                                                                  \n",
      " tf.__operators__.add (TFOpLamb  (None,)             0           ['tf.math.multiply_3[0][0]',     \n",
      " da)                                                              'tf.math.multiply_7[0][0]']     \n",
      "                                                                                                  \n",
      " tf.math.reduce_mean (TFOpLambd  ()                  0           ['tf.__operators__.add[0][0]']   \n",
      " a)                                                                                               \n",
      "                                                                                                  \n",
      " add_loss (AddLoss)             ()                   0           ['tf.math.reduce_mean[0][0]']    \n",
      "                                                                                                  \n",
      "==================================================================================================\n",
      "Total params: 4,912,832\n",
      "Trainable params: 4,908,992\n",
      "Non-trainable params: 3,840\n",
      "__________________________________________________________________________________________________\n"
     ]
    }
   ],
   "source": [
    "model.summary()"
   ]
  },
  {
   "cell_type": "markdown",
   "id": "74f72ece",
   "metadata": {},
   "source": [
    "## Data Augmentation"
   ]
  },
  {
   "cell_type": "code",
   "execution_count": 13,
   "id": "35f28f4d",
   "metadata": {},
   "outputs": [],
   "source": [
    "datagen = ImageDataGenerator(width_shift_range=0.1,\n",
    "                            height_shift_range=0.1)\n",
    "\n",
    "training_generator = MixUp_add_loss.MixupGenerator_2level(dataset['x_train'],\n",
    "                                                 dataset['y_train_coarse'],\n",
    "                                                 dataset['y_train_fine'],\n",
    "                                                 batch_size=train_params[\"batch_size\"],\n",
    "                                                 alpha=0.2, \n",
    "                                                 datagen=datagen\n",
    "                                                )()"
   ]
  },
  {
   "cell_type": "markdown",
   "id": "cb67d719",
   "metadata": {},
   "source": [
    "## Callback"
   ]
  },
  {
   "cell_type": "code",
   "execution_count": 14,
   "id": "9e0a123c",
   "metadata": {},
   "outputs": [],
   "source": [
    "tb = keras.callbacks.TensorBoard(directory+'./tb_logs'+ datetime.now().strftime(\"%Y%m%d-%H%M%S\"))\n",
    "log = keras.callbacks.CSVLogger(directory+'/log.csv', append=True)\n",
    "\n",
    "checkpoint = keras.callbacks.ModelCheckpoint(directory+'/epoch-best.h5',\n",
    "                                             monitor='val_prediction_fine_accuracy',\n",
    "                                             save_best_only=True, \n",
    "                                             save_weights_only=True, \n",
    "                                             verbose=1)\n",
    "\n",
    "change_lw = models.LossWeightsModifier(lossweight = lossweight,\n",
    "                                       initial_lw = initial_lw,\n",
    "                                       directory = directory)\n",
    "\n",
    "lr_decay = keras.callbacks.LearningRateScheduler(scheduler)"
   ]
  },
  {
   "cell_type": "markdown",
   "id": "bdc176a2",
   "metadata": {},
   "source": [
    "## Model Training"
   ]
  },
  {
   "cell_type": "code",
   "execution_count": 15,
   "id": "eac4a0be",
   "metadata": {
    "scrolled": true
   },
   "outputs": [],
   "source": [
    "model_save_dir = str(directory+'/trained_model.h5')\n",
    "try:\n",
    "    model.load_weights(model_save_dir)\n",
    "except:\n",
    "    history = model.fit(training_generator,\n",
    "                        steps_per_epoch = int(dataset['x_train'].shape[0] / train_params[\"batch_size\"]),\n",
    "                        epochs = train_params[\"n_epochs\"],\n",
    "                        validation_data = ([dataset['x_test'], dataset['y_test_coarse'], dataset['y_test_fine']],\n",
    "                                           [dataset['y_test_coarse'],dataset['y_test_fine']]\n",
    "                                          ),\n",
    "                        callbacks = [tb,log,change_lw,lr_decay,checkpoint],\n",
    "                        verbose=1\n",
    "                       )\n",
    "    \n",
    "    model.save_weights(model_save_dir)"
   ]
  },
  {
   "cell_type": "code",
   "execution_count": 16,
   "id": "588d7b95",
   "metadata": {},
   "outputs": [
    {
     "name": "stdout",
     "output_type": "stream",
     "text": [
      "Trained model weights loaded\n"
     ]
    }
   ],
   "source": [
    "try:\n",
    "    history_dict = history.history\n",
    "\n",
    "    plotter = tfdocs.plots.HistoryPlotter()\n",
    "    plotter.plot({\"Coarse\": history}, metric = \"prediction_coarse_accuracy\")\n",
    "    plotter.plot({\"Fine\": history}, metric = \"prediction_fine_accuracy\")\n",
    "    plt.title(\"Model Accuracy\")\n",
    "    plt.ylim([0,1])\n",
    "except:\n",
    "    print('Trained model weights loaded')"
   ]
  },
  {
   "cell_type": "code",
   "execution_count": 17,
   "id": "25f47f98",
   "metadata": {},
   "outputs": [
    {
     "name": "stdout",
     "output_type": "stream",
     "text": [
      "Trained model weights loaded\n"
     ]
    }
   ],
   "source": [
    "try:\n",
    "    plotter = tfdocs.plots.HistoryPlotter()\n",
    "    plotter.plot({\"loss\": history}, metric = \"loss\")\n",
    "    plt.title(\"Model Loss\")\n",
    "    plt.ylim([0,1])\n",
    "except:\n",
    "    print('Trained model weights loaded')"
   ]
  },
  {
   "cell_type": "markdown",
   "id": "0f08f53b",
   "metadata": {},
   "source": [
    "## Model Analysis"
   ]
  },
  {
   "cell_type": "code",
   "execution_count": 26,
   "id": "fa6652e0",
   "metadata": {},
   "outputs": [],
   "source": [
    "final_model = keras.Model(model.inputs[:1], model.output)\n",
    "# model.load_weights(directory+'/epoch-best.h5')\n",
    "model.load_weights(directory+'/trained_model.h5')\n",
    "lossfn = models.MarginLoss()\n",
    "final_model.compile(optimizer='adam', \n",
    "                    loss={'prediction_fine' : lossfn,\n",
    "                          'prediction_coarse' : lossfn},\n",
    "\n",
    "                    loss_weights={'prediction_fine' : lossweight['fine_lw'],\n",
    "                                  'prediction_coarse' : lossweight['coarse_lw']\n",
    "                                 },\n",
    "\n",
    "                    metrics={'prediction_fine': 'accuracy',\n",
    "                             'prediction_coarse': 'accuracy'\n",
    "                            }\n",
    "                   )"
   ]
  },
  {
   "cell_type": "code",
   "execution_count": 27,
   "id": "93ed4e40",
   "metadata": {},
   "outputs": [
    {
     "name": "stdout",
     "output_type": "stream",
     "text": [
      "588/588 [==============================] - 10s 14ms/step - loss: 0.0454 - prediction_coarse_loss: 0.0440 - prediction_fine_loss: 0.0802 - prediction_coarse_accuracy: 0.9422 - prediction_fine_accuracy: 0.8939\n",
      "1. loss ==> 0.045438252389431\n",
      "2. prediction_coarse_loss ==> 0.043958403170108795\n",
      "3. prediction_fine_loss ==> 0.08021365851163864\n",
      "4. prediction_coarse_accuracy ==> 0.9422340393066406\n",
      "5. prediction_fine_accuracy ==> 0.8938829898834229\n",
      "588/588 [==============================] - 6s 10ms/step\n"
     ]
    },
    {
     "data": {
      "image/png": "[encoded data removed]",
      "text/plain": [
       "<Figure size 1440x1440 with 10 Axes>"
      ]
     },
     "metadata": {},
     "output_type": "display_data"
    }
   ],
   "source": [
    "model_analysis = models.model_analysis(final_model, dataset)\n",
    "results = model_analysis.evaluate()\n",
    "predictions = model_analysis.prediction()"
   ]
  },
  {
   "cell_type": "code",
   "execution_count": 28,
   "id": "f67911a8",
   "metadata": {
    "scrolled": true
   },
   "outputs": [
    {
     "name": "stdout",
     "output_type": "stream",
     "text": [
      "\u001b[91m \u001b[1m • Confusion_Matrix \u001b[0m\n",
      "\n",
      "\u001b[91m \u001b[1m • COARSE LEVEL \u001b[0m\n",
      "[[ 3442   558]\n",
      " [  528 14272]]\n",
      "\n",
      "\u001b[91m \u001b[1m • FINE LEVEL \u001b[0m\n",
      "[[268   0   0 ...   0   0   0]\n",
      " [  0 223   0 ...   0   0   0]\n",
      " [  0   0 362 ...   1   0   0]\n",
      " ...\n",
      " [  0   0   0 ... 259   0   0]\n",
      " [  0   0   0 ...   0 374   1]\n",
      " [  0   0   0 ...   0   3 370]]\n",
      "\n",
      "\u001b[91m \u001b[1m • Classification Report \u001b[0m\n",
      "\n",
      "\n",
      "\u001b[91m \u001b[1m • COARSE LEVEL \u001b[0m\n"
     ]
    },
    {
     "data": {
      "image/png": "[encoded data removed]",
      "text/plain": [
       "<Figure size 432x288 with 2 Axes>"
      ]
     },
     "metadata": {
      "needs_background": "light"
     },
     "output_type": "display_data"
    },
    {
     "name": "stdout",
     "output_type": "stream",
     "text": [
      "              precision    recall  f1-score   support\n",
      "\n",
      "           0    0.86700   0.86050   0.86374      4000\n",
      "           1    0.96237   0.96432   0.96335     14800\n",
      "\n",
      "    accuracy                        0.94223     18800\n",
      "   macro avg    0.91469   0.91241   0.91354     18800\n",
      "weighted avg    0.94208   0.94223   0.94215     18800\n",
      "\n",
      "\n",
      "\u001b[91m \u001b[1m • FINE LEVEL \u001b[0m\n"
     ]
    },
    {
     "data": {
      "image/png": "[encoded data removed]",
      "text/plain": [
       "<Figure size 432x288 with 2 Axes>"
      ]
     },
     "metadata": {
      "needs_background": "light"
     },
     "output_type": "display_data"
    },
    {
     "name": "stdout",
     "output_type": "stream",
     "text": [
      "              precision    recall  f1-score   support\n",
      "\n",
      "           0    0.63208   0.67000   0.65049       400\n",
      "           1    0.53606   0.55750   0.54657       400\n",
      "           2    0.91878   0.90500   0.91184       400\n",
      "           3    0.99499   0.99250   0.99374       400\n",
      "           4    0.96429   0.94500   0.95455       400\n",
      "           5    0.95420   0.93750   0.94578       400\n",
      "           6    0.95443   0.94250   0.94843       400\n",
      "           7    0.97500   0.97500   0.97500       400\n",
      "           8    0.96717   0.95750   0.96231       400\n",
      "           9    0.72791   0.78250   0.75422       400\n",
      "          10    0.97052   0.98750   0.97893       400\n",
      "          11    0.97015   0.97500   0.97257       400\n",
      "          12    0.96517   0.97000   0.96758       400\n",
      "          13    0.95214   0.94500   0.94856       400\n",
      "          14    0.98020   0.99000   0.98507       400\n",
      "          15    0.69784   0.72750   0.71236       400\n",
      "          16    0.93735   0.97250   0.95460       400\n",
      "          17    0.96341   0.98750   0.97531       400\n",
      "          18    0.63750   0.63750   0.63750       400\n",
      "          19    0.96447   0.95000   0.95718       400\n",
      "          20    0.98507   0.99000   0.98753       400\n",
      "          21    0.55118   0.52500   0.53777       400\n",
      "          22    0.97778   0.99000   0.98385       400\n",
      "          23    0.95577   0.97250   0.96406       400\n",
      "          24    0.65707   0.62750   0.64194       400\n",
      "          25    0.98228   0.97000   0.97610       400\n",
      "          26    0.93462   0.96500   0.94957       400\n",
      "          27    0.96822   0.99000   0.97899       400\n",
      "          28    0.93366   0.95000   0.94176       400\n",
      "          29    0.92346   0.93500   0.92919       400\n",
      "          30    0.93970   0.93500   0.93734       400\n",
      "          31    0.91932   0.94000   0.92954       400\n",
      "          32    0.99252   0.99500   0.99376       400\n",
      "          33    0.98737   0.97750   0.98241       400\n",
      "          34    0.93985   0.93750   0.93867       400\n",
      "          35    0.90931   0.92750   0.91832       400\n",
      "          36    0.91283   0.94250   0.92743       400\n",
      "          37    0.95443   0.94250   0.94843       400\n",
      "          38    0.98481   0.97250   0.97862       400\n",
      "          39    0.97750   0.97750   0.97750       400\n",
      "          40    0.70523   0.64000   0.67104       400\n",
      "          41    0.76280   0.70750   0.73411       400\n",
      "          42    0.95522   0.96000   0.95761       400\n",
      "          43    0.94162   0.92750   0.93451       400\n",
      "          44    0.70572   0.64750   0.67536       400\n",
      "          45    0.93970   0.93500   0.93734       400\n",
      "          46    0.92965   0.92500   0.92732       400\n",
      "\n",
      "    accuracy                        0.89388     18800\n",
      "   macro avg    0.89341   0.89388   0.89346     18800\n",
      "weighted avg    0.89341   0.89388   0.89346     18800\n",
      "\n"
     ]
    }
   ],
   "source": [
    "true_label = [dataset['y_test_coarse'],dataset['y_test_fine']]\n",
    "pred_label = [predictions[0],predictions[1]]\n",
    "metrics.lvl_wise_metric(true_label,pred_label)"
   ]
  },
  {
   "cell_type": "code",
   "execution_count": 29,
   "id": "91eb4db7",
   "metadata": {},
   "outputs": [
    {
     "name": "stdout",
     "output_type": "stream",
     "text": [
      "\n",
      "Hierarchical Precision = 0.9181382978723405 \n",
      "Hierarchical Recall = 0.9198404255319149 \n",
      "Hierarchical F1-Score = 0.9188191489361702 \n",
      "Consistency =  0.993031914893617 \n",
      "Exact Match =  0.8906382978723404\n"
     ]
    }
   ],
   "source": [
    "h_measurements,consistency,exact_match = metrics.hmeasurements(true_label,\n",
    "                                                               pred_label,\n",
    "                                                               dataset['tree']\n",
    "                                                              )\n",
    "print('\\nHierarchical Precision =',h_measurements[0],\n",
    "      '\\nHierarchical Recall =', h_measurements[1],\n",
    "      '\\nHierarchical F1-Score =',h_measurements[2],\n",
    "      '\\nConsistency = ', consistency,\n",
    "      '\\nExact Match = ', exact_match,\n",
    "     )"
   ]
  },
  {
   "cell_type": "code",
   "execution_count": null,
   "id": "92b98d56",
   "metadata": {},
   "outputs": [],
   "source": []
  }
 ],
 "metadata": {
  "kernelspec": {
   "display_name": "Python 3 (ipykernel)",
   "language": "python",
   "name": "python3"
  },
  "language_info": {
   "codemirror_mode": {
    "name": "ipython",
    "version": 3
   },
   "file_extension": ".py",
   "mimetype": "text/x-python",
   "name": "python",
   "nbconvert_exporter": "python",
   "pygments_lexer": "ipython3",
   "version": "3.8.12"
  },
  "toc": {
   "base_numbering": 1,
   "nav_menu": {},
   "number_sections": true,
   "sideBar": true,
   "skip_h1_title": false,
   "title_cell": "Table of Contents",
   "title_sidebar": "Contents",
   "toc_cell": false,
   "toc_position": {
    "height": "calc(100% - 180px)",
    "left": "10px",
    "top": "150px",
    "width": "321px"
   },
   "toc_section_display": true,
   "toc_window_display": true
  }
 },
 "nbformat": 4,
 "nbformat_minor": 5
}
